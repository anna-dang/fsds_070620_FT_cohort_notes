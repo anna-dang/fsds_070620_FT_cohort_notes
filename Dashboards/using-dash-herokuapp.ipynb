{
 "cells": [
  {
   "cell_type": "markdown",
   "metadata": {},
   "source": [
    "# Making Dash Apps Hosted on Herokuapp"
   ]
  },
  {
   "cell_type": "markdown",
   "metadata": {},
   "source": [
    "- 11/25/20\n",
    "- online-ds-ft-070620"
   ]
  },
  {
   "cell_type": "markdown",
   "metadata": {},
   "source": [
    "## Recommended Steps"
   ]
  },
  {
   "cell_type": "markdown",
   "metadata": {},
   "source": [
    "1. Go through official Heroku Python Tutorial:\n",
    "    - https://devcenter.heroku.com/articles/getting-started-with-python\n",
    "    \n",
    "    \n",
    "    \n",
    "2. Use this template as a starting point for your app.\n",
    "    - ~~https://github.com/plotly/dash-heroku-template~~\n",
    "    - My Modified Template:\n",
    "        - https://github.com/jirvingphd/dash-heroku-template.git\n",
    "    \n",
    "3. Go through official Dash tutorial to get your app.py started with their example Layout app\n",
    "    - https://dash.plotly.com/\n",
    "    \n",
    "4. Checkout the Official Dash/Herokuapp Tutorial for how to make your repo into an app \n",
    "    - https://dash.plotly.com/deployment\n",
    "  "
   ]
  },
  {
   "cell_type": "code",
   "execution_count": null,
   "metadata": {},
   "outputs": [],
   "source": []
  },
  {
   "cell_type": "code",
   "execution_count": null,
   "metadata": {},
   "outputs": [],
   "source": []
  }
 ],
 "metadata": {
  "kernelspec": {
   "display_name": "learn-env",
   "language": "python",
   "name": "learn-env"
  },
  "language_info": {
   "codemirror_mode": {
    "name": "ipython",
    "version": 3
   },
   "file_extension": ".py",
   "mimetype": "text/x-python",
   "name": "python",
   "nbconvert_exporter": "python",
   "pygments_lexer": "ipython3",
   "version": "3.6.11"
  },
  "toc": {
   "base_numbering": 1,
   "nav_menu": {},
   "number_sections": true,
   "sideBar": true,
   "skip_h1_title": false,
   "title_cell": "Table of Contents",
   "title_sidebar": "Contents",
   "toc_cell": false,
   "toc_position": {},
   "toc_section_display": true,
   "toc_window_display": false
  }
 },
 "nbformat": 4,
 "nbformat_minor": 4
}
