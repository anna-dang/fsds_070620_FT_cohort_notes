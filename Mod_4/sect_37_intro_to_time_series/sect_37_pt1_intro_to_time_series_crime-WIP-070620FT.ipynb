{
 "cells": [
  {
   "cell_type": "markdown",
   "metadata": {},
   "source": [
    "# Sect 37: Intro to Time Series"
   ]
  },
  {
   "cell_type": "markdown",
   "metadata": {},
   "source": [
    "- online-ds-pt-100719pt \n",
    "- 05/05/20"
   ]
  },
  {
   "cell_type": "markdown",
   "metadata": {},
   "source": [
    "## Learning Objectives:"
   ]
  },
  {
   "cell_type": "markdown",
   "metadata": {},
   "source": [
    "- Learn how to load in timeseries data into pandas\n",
    "- Learn how to plot timeseries in pandas\n",
    "- Learn how to resample at different time frequencies\n",
    "- Learn about types of time series trends and how to remove them.\n",
    "- Learn about seasonal decomposition"
   ]
  },
  {
   "cell_type": "markdown",
   "metadata": {},
   "source": [
    "## Questions?"
   ]
  },
  {
   "cell_type": "markdown",
   "metadata": {},
   "source": [
    "# Intro to Time Series"
   ]
  },
  {
   "cell_type": "markdown",
   "metadata": {},
   "source": [
    "## References"
   ]
  },
  {
   "cell_type": "markdown",
   "metadata": {},
   "source": [
    "- [Pandas Timeseries Documentation](https://pandas.pydata.org/pandas-docs/stable/user_guide/timeseries.html)\n",
    "- ['Timeseries Offset Aliases'](https://pandas.pydata.org/pandas-docs/stable/user_guide/timeseries.html#timeseries-offset-aliases)\n",
    "- [Anchored Offsets](https://pandas.pydata.org/pandas-docs/stable/user_guide/timeseries.html#anchored-offsets)\n",
    "\n",
    "\n",
    "- https://pandas.pydata.org/pandas-docs/stable/reference/api/pandas.Timestamp.html"
   ]
  },
  {
   "cell_type": "markdown",
   "metadata": {},
   "source": [
    "## Working with Time Series"
   ]
  },
  {
   "cell_type": "code",
   "execution_count": 120,
   "metadata": {
    "ExecuteTime": {
     "end_time": "2020-10-15T01:44:37.397617Z",
     "start_time": "2020-10-15T01:44:37.393049Z"
    }
   },
   "outputs": [
    {
     "data": {
      "text/plain": [
       "'0.11.0'"
      ]
     },
     "execution_count": 120,
     "metadata": {},
     "output_type": "execute_result"
    }
   ],
   "source": [
    "# !pip install -U fsds \n",
    "from fsds.imports import *\n",
    "\n",
    "import warnings\n",
    "warnings.filterwarnings('ignore')\n",
    "\n",
    "## Setting figures to timeseries-friendly\n",
    "mpl.rcParams['figure.figsize'] = (12,6)\n",
    "\n",
    "import os,sys\n",
    "\n",
    "sns.__version__"
   ]
  },
  {
   "cell_type": "markdown",
   "metadata": {},
   "source": [
    "### Creating a Time Series from a DataFrame"
   ]
  },
  {
   "cell_type": "code",
   "execution_count": 121,
   "metadata": {
    "ExecuteTime": {
     "end_time": "2020-10-15T01:44:41.157305Z",
     "start_time": "2020-10-15T01:44:40.527343Z"
    }
   },
   "outputs": [
    {
     "data": {
      "text/html": [
       "<div>\n",
       "<style scoped>\n",
       "    .dataframe tbody tr th:only-of-type {\n",
       "        vertical-align: middle;\n",
       "    }\n",
       "\n",
       "    .dataframe tbody tr th {\n",
       "        vertical-align: top;\n",
       "    }\n",
       "\n",
       "    .dataframe thead th {\n",
       "        text-align: right;\n",
       "    }\n",
       "</style>\n",
       "<table border=\"1\" class=\"dataframe\">\n",
       "  <thead>\n",
       "    <tr style=\"text-align: right;\">\n",
       "      <th></th>\n",
       "      <th>CrimeDate</th>\n",
       "      <th>CrimeTime</th>\n",
       "      <th>CrimeCode</th>\n",
       "      <th>Location</th>\n",
       "      <th>Description</th>\n",
       "      <th>Inside/Outside</th>\n",
       "      <th>Weapon</th>\n",
       "      <th>Post</th>\n",
       "      <th>District</th>\n",
       "      <th>Neighborhood</th>\n",
       "      <th>Longitude</th>\n",
       "      <th>Latitude</th>\n",
       "    </tr>\n",
       "  </thead>\n",
       "  <tbody>\n",
       "    <tr>\n",
       "      <th>0</th>\n",
       "      <td>04/25/2020</td>\n",
       "      <td>17:30:00</td>\n",
       "      <td>5A</td>\n",
       "      <td>2400 SHIRLEY AVE</td>\n",
       "      <td>BURGLARY</td>\n",
       "      <td>I</td>\n",
       "      <td>NaN</td>\n",
       "      <td>533.0</td>\n",
       "      <td>NORTHERN</td>\n",
       "      <td>GREENSPRING</td>\n",
       "      <td>-76.657102</td>\n",
       "      <td>39.336238</td>\n",
       "    </tr>\n",
       "    <tr>\n",
       "      <th>1</th>\n",
       "      <td>04/25/2020</td>\n",
       "      <td>02:40:00</td>\n",
       "      <td>5A</td>\n",
       "      <td>2900 MOUNT HOLLY ST</td>\n",
       "      <td>BURGLARY</td>\n",
       "      <td>I</td>\n",
       "      <td>NaN</td>\n",
       "      <td>624.0</td>\n",
       "      <td>NORTHWEST</td>\n",
       "      <td>WINDSOR HILLS</td>\n",
       "      <td>-76.682845</td>\n",
       "      <td>39.319594</td>\n",
       "    </tr>\n",
       "    <tr>\n",
       "      <th>2</th>\n",
       "      <td>04/25/2020</td>\n",
       "      <td>09:30:00</td>\n",
       "      <td>5C</td>\n",
       "      <td>0 N JANNEY ST</td>\n",
       "      <td>BURGLARY</td>\n",
       "      <td>I</td>\n",
       "      <td>NaN</td>\n",
       "      <td>232.0</td>\n",
       "      <td>SOUTHEAST</td>\n",
       "      <td>KRESSON</td>\n",
       "      <td>-76.560665</td>\n",
       "      <td>39.293067</td>\n",
       "    </tr>\n",
       "    <tr>\n",
       "      <th>3</th>\n",
       "      <td>04/25/2020</td>\n",
       "      <td>02:30:00</td>\n",
       "      <td>4E</td>\n",
       "      <td>900 W SARATOGA ST</td>\n",
       "      <td>COMMON ASSAULT</td>\n",
       "      <td>NaN</td>\n",
       "      <td>NaN</td>\n",
       "      <td>712.0</td>\n",
       "      <td>WESTERN</td>\n",
       "      <td>POPPLETON</td>\n",
       "      <td>-76.632368</td>\n",
       "      <td>39.292449</td>\n",
       "    </tr>\n",
       "    <tr>\n",
       "      <th>4</th>\n",
       "      <td>04/25/2020</td>\n",
       "      <td>15:30:00</td>\n",
       "      <td>6C</td>\n",
       "      <td>3700 BOSTON ST</td>\n",
       "      <td>LARCENY</td>\n",
       "      <td>I</td>\n",
       "      <td>NaN</td>\n",
       "      <td>231.0</td>\n",
       "      <td>SOUTHEAST</td>\n",
       "      <td>CANTON INDUSTRIAL AREA</td>\n",
       "      <td>-76.565150</td>\n",
       "      <td>39.277050</td>\n",
       "    </tr>\n",
       "  </tbody>\n",
       "</table>\n",
       "</div>"
      ],
      "text/plain": [
       "    CrimeDate CrimeTime CrimeCode             Location     Description  \\\n",
       "0  04/25/2020  17:30:00        5A     2400 SHIRLEY AVE        BURGLARY   \n",
       "1  04/25/2020  02:40:00        5A  2900 MOUNT HOLLY ST        BURGLARY   \n",
       "2  04/25/2020  09:30:00        5C        0 N JANNEY ST        BURGLARY   \n",
       "3  04/25/2020  02:30:00        4E    900 W SARATOGA ST  COMMON ASSAULT   \n",
       "4  04/25/2020  15:30:00        6C       3700 BOSTON ST         LARCENY   \n",
       "\n",
       "  Inside/Outside Weapon   Post   District            Neighborhood  Longitude  \\\n",
       "0              I    NaN  533.0   NORTHERN             GREENSPRING -76.657102   \n",
       "1              I    NaN  624.0  NORTHWEST           WINDSOR HILLS -76.682845   \n",
       "2              I    NaN  232.0  SOUTHEAST                 KRESSON -76.560665   \n",
       "3            NaN    NaN  712.0    WESTERN               POPPLETON -76.632368   \n",
       "4              I    NaN  231.0  SOUTHEAST  CANTON INDUSTRIAL AREA -76.565150   \n",
       "\n",
       "    Latitude  \n",
       "0  39.336238  \n",
       "1  39.319594  \n",
       "2  39.293067  \n",
       "3  39.292449  \n",
       "4  39.277050  "
      ]
     },
     "execution_count": 121,
     "metadata": {},
     "output_type": "execute_result"
    }
   ],
   "source": [
    "df = pd.read_csv('baltimore_crime_2020.csv',low_memory=False,\n",
    "                usecols=range(12))#fs.datasets.load_ts_baltimore_crime_full(read_csv_kwds={\n",
    "#     'low_memory':False,'usecols':list(range(12)) })\n",
    "df.head()"
   ]
  },
  {
   "cell_type": "markdown",
   "metadata": {},
   "source": [
    "## Preparing Data for Time Series Visualization"
   ]
  },
  {
   "cell_type": "markdown",
   "metadata": {},
   "source": [
    "- Index must be a `datetimeindex`"
   ]
  },
  {
   "cell_type": "code",
   "execution_count": 122,
   "metadata": {
    "ExecuteTime": {
     "end_time": "2020-10-15T01:44:41.901265Z",
     "start_time": "2020-10-15T01:44:41.884300Z"
    }
   },
   "outputs": [
    {
     "data": {
      "text/html": [
       "<div>\n",
       "<style scoped>\n",
       "    .dataframe tbody tr th:only-of-type {\n",
       "        vertical-align: middle;\n",
       "    }\n",
       "\n",
       "    .dataframe tbody tr th {\n",
       "        vertical-align: top;\n",
       "    }\n",
       "\n",
       "    .dataframe thead th {\n",
       "        text-align: right;\n",
       "    }\n",
       "</style>\n",
       "<table border=\"1\" class=\"dataframe\">\n",
       "  <thead>\n",
       "    <tr style=\"text-align: right;\">\n",
       "      <th></th>\n",
       "      <th>CrimeDate</th>\n",
       "      <th>CrimeTime</th>\n",
       "      <th>CrimeCode</th>\n",
       "      <th>Location</th>\n",
       "      <th>Description</th>\n",
       "      <th>Inside/Outside</th>\n",
       "      <th>Weapon</th>\n",
       "      <th>Post</th>\n",
       "      <th>District</th>\n",
       "      <th>Neighborhood</th>\n",
       "      <th>Longitude</th>\n",
       "      <th>Latitude</th>\n",
       "    </tr>\n",
       "  </thead>\n",
       "  <tbody>\n",
       "    <tr>\n",
       "      <th>0</th>\n",
       "      <td>04/25/2020</td>\n",
       "      <td>17:30:00</td>\n",
       "      <td>5A</td>\n",
       "      <td>2400 SHIRLEY AVE</td>\n",
       "      <td>BURGLARY</td>\n",
       "      <td>I</td>\n",
       "      <td>NaN</td>\n",
       "      <td>533.0</td>\n",
       "      <td>NORTHERN</td>\n",
       "      <td>GREENSPRING</td>\n",
       "      <td>-76.657102</td>\n",
       "      <td>39.336238</td>\n",
       "    </tr>\n",
       "    <tr>\n",
       "      <th>1</th>\n",
       "      <td>04/25/2020</td>\n",
       "      <td>02:40:00</td>\n",
       "      <td>5A</td>\n",
       "      <td>2900 MOUNT HOLLY ST</td>\n",
       "      <td>BURGLARY</td>\n",
       "      <td>I</td>\n",
       "      <td>NaN</td>\n",
       "      <td>624.0</td>\n",
       "      <td>NORTHWEST</td>\n",
       "      <td>WINDSOR HILLS</td>\n",
       "      <td>-76.682845</td>\n",
       "      <td>39.319594</td>\n",
       "    </tr>\n",
       "    <tr>\n",
       "      <th>2</th>\n",
       "      <td>04/25/2020</td>\n",
       "      <td>09:30:00</td>\n",
       "      <td>5C</td>\n",
       "      <td>0 N JANNEY ST</td>\n",
       "      <td>BURGLARY</td>\n",
       "      <td>I</td>\n",
       "      <td>NaN</td>\n",
       "      <td>232.0</td>\n",
       "      <td>SOUTHEAST</td>\n",
       "      <td>KRESSON</td>\n",
       "      <td>-76.560665</td>\n",
       "      <td>39.293067</td>\n",
       "    </tr>\n",
       "    <tr>\n",
       "      <th>3</th>\n",
       "      <td>04/25/2020</td>\n",
       "      <td>02:30:00</td>\n",
       "      <td>4E</td>\n",
       "      <td>900 W SARATOGA ST</td>\n",
       "      <td>COMMON ASSAULT</td>\n",
       "      <td>NaN</td>\n",
       "      <td>NaN</td>\n",
       "      <td>712.0</td>\n",
       "      <td>WESTERN</td>\n",
       "      <td>POPPLETON</td>\n",
       "      <td>-76.632368</td>\n",
       "      <td>39.292449</td>\n",
       "    </tr>\n",
       "    <tr>\n",
       "      <th>4</th>\n",
       "      <td>04/25/2020</td>\n",
       "      <td>15:30:00</td>\n",
       "      <td>6C</td>\n",
       "      <td>3700 BOSTON ST</td>\n",
       "      <td>LARCENY</td>\n",
       "      <td>I</td>\n",
       "      <td>NaN</td>\n",
       "      <td>231.0</td>\n",
       "      <td>SOUTHEAST</td>\n",
       "      <td>CANTON INDUSTRIAL AREA</td>\n",
       "      <td>-76.565150</td>\n",
       "      <td>39.277050</td>\n",
       "    </tr>\n",
       "  </tbody>\n",
       "</table>\n",
       "</div>"
      ],
      "text/plain": [
       "    CrimeDate CrimeTime CrimeCode             Location     Description  \\\n",
       "0  04/25/2020  17:30:00        5A     2400 SHIRLEY AVE        BURGLARY   \n",
       "1  04/25/2020  02:40:00        5A  2900 MOUNT HOLLY ST        BURGLARY   \n",
       "2  04/25/2020  09:30:00        5C        0 N JANNEY ST        BURGLARY   \n",
       "3  04/25/2020  02:30:00        4E    900 W SARATOGA ST  COMMON ASSAULT   \n",
       "4  04/25/2020  15:30:00        6C       3700 BOSTON ST         LARCENY   \n",
       "\n",
       "  Inside/Outside Weapon   Post   District            Neighborhood  Longitude  \\\n",
       "0              I    NaN  533.0   NORTHERN             GREENSPRING -76.657102   \n",
       "1              I    NaN  624.0  NORTHWEST           WINDSOR HILLS -76.682845   \n",
       "2              I    NaN  232.0  SOUTHEAST                 KRESSON -76.560665   \n",
       "3            NaN    NaN  712.0    WESTERN               POPPLETON -76.632368   \n",
       "4              I    NaN  231.0  SOUTHEAST  CANTON INDUSTRIAL AREA -76.565150   \n",
       "\n",
       "    Latitude  \n",
       "0  39.336238  \n",
       "1  39.319594  \n",
       "2  39.293067  \n",
       "3  39.292449  \n",
       "4  39.277050  "
      ]
     },
     "metadata": {},
     "output_type": "display_data"
    },
    {
     "data": {
      "text/plain": [
       "RangeIndex(start=0, stop=300336, step=1)"
      ]
     },
     "metadata": {},
     "output_type": "display_data"
    }
   ],
   "source": [
    "display(df.head() ,df.index)"
   ]
  },
  {
   "cell_type": "markdown",
   "metadata": {},
   "source": [
    "> #### Queston: We need to make a datetime index from the CrimeDate and CrimeTime. How might we do that?"
   ]
  },
  {
   "cell_type": "code",
   "execution_count": 123,
   "metadata": {
    "ExecuteTime": {
     "end_time": "2020-10-15T01:45:10.191862Z",
     "start_time": "2020-10-15T01:44:42.749292Z"
    }
   },
   "outputs": [
    {
     "data": {
      "text/plain": [
       "0        2020-04-25 17:30:00\n",
       "1        2020-04-25 02:40:00\n",
       "2        2020-04-25 09:30:00\n",
       "3        2020-04-25 02:30:00\n",
       "4        2020-04-25 15:30:00\n",
       "                 ...        \n",
       "300331   1978-01-01 10:30:00\n",
       "300332   1977-05-01 00:01:00\n",
       "300333   1975-06-01 00:00:00\n",
       "300334   1969-07-20 21:00:00\n",
       "300335   1963-10-30 00:00:00\n",
       "Length: 300336, dtype: datetime64[ns]"
      ]
     },
     "execution_count": 123,
     "metadata": {},
     "output_type": "execute_result"
    }
   ],
   "source": [
    "# Make datetime variable from two columns\n",
    "###\n",
    "datetime = pd.to_datetime(df['CrimeDate']+' - '+df['CrimeTime'])\n",
    "datetime"
   ]
  },
  {
   "cell_type": "code",
   "execution_count": 124,
   "metadata": {
    "ExecuteTime": {
     "end_time": "2020-10-15T01:45:10.204191Z",
     "start_time": "2020-10-15T01:45:10.194187Z"
    }
   },
   "outputs": [
    {
     "data": {
      "text/plain": [
       "DatetimeIndex(['2020-04-25 17:30:00', '2020-04-25 02:40:00',\n",
       "               '2020-04-25 09:30:00', '2020-04-25 02:30:00',\n",
       "               '2020-04-25 15:30:00', '2020-04-25 05:00:00',\n",
       "               '2020-04-25 22:13:00', '2020-04-25 16:26:00',\n",
       "               '2020-04-25 21:07:00', '2020-04-25 23:45:00',\n",
       "               ...\n",
       "               '1988-05-01 15:00:00', '1985-01-01 00:00:00',\n",
       "               '1982-08-01 00:01:00', '1981-12-01 16:45:00',\n",
       "               '1980-07-01 00:01:00', '1978-01-01 10:30:00',\n",
       "               '1977-05-01 00:01:00', '1975-06-01 00:00:00',\n",
       "               '1969-07-20 21:00:00', '1963-10-30 00:00:00'],\n",
       "              dtype='datetime64[ns]', length=300336, freq=None)"
      ]
     },
     "execution_count": 124,
     "metadata": {},
     "output_type": "execute_result"
    }
   ],
   "source": [
    "## Set dataframe index to be time series\n",
    "###\n",
    "df.index=datetime\n",
    "df.index"
   ]
  },
  {
   "cell_type": "code",
   "execution_count": 125,
   "metadata": {
    "ExecuteTime": {
     "end_time": "2020-10-15T01:45:10.221093Z",
     "start_time": "2020-10-15T01:45:10.206659Z"
    }
   },
   "outputs": [
    {
     "data": {
      "text/html": [
       "<div>\n",
       "<style scoped>\n",
       "    .dataframe tbody tr th:only-of-type {\n",
       "        vertical-align: middle;\n",
       "    }\n",
       "\n",
       "    .dataframe tbody tr th {\n",
       "        vertical-align: top;\n",
       "    }\n",
       "\n",
       "    .dataframe thead th {\n",
       "        text-align: right;\n",
       "    }\n",
       "</style>\n",
       "<table border=\"1\" class=\"dataframe\">\n",
       "  <thead>\n",
       "    <tr style=\"text-align: right;\">\n",
       "      <th></th>\n",
       "      <th>CrimeDate</th>\n",
       "      <th>CrimeTime</th>\n",
       "      <th>CrimeCode</th>\n",
       "      <th>Location</th>\n",
       "      <th>Description</th>\n",
       "      <th>Inside/Outside</th>\n",
       "      <th>Weapon</th>\n",
       "      <th>Post</th>\n",
       "      <th>District</th>\n",
       "      <th>Neighborhood</th>\n",
       "      <th>Longitude</th>\n",
       "      <th>Latitude</th>\n",
       "    </tr>\n",
       "  </thead>\n",
       "  <tbody>\n",
       "    <tr>\n",
       "      <th>2020-04-25 17:30:00</th>\n",
       "      <td>04/25/2020</td>\n",
       "      <td>17:30:00</td>\n",
       "      <td>5A</td>\n",
       "      <td>2400 SHIRLEY AVE</td>\n",
       "      <td>BURGLARY</td>\n",
       "      <td>I</td>\n",
       "      <td>NaN</td>\n",
       "      <td>533.0</td>\n",
       "      <td>NORTHERN</td>\n",
       "      <td>GREENSPRING</td>\n",
       "      <td>-76.657102</td>\n",
       "      <td>39.336238</td>\n",
       "    </tr>\n",
       "    <tr>\n",
       "      <th>2020-04-25 02:40:00</th>\n",
       "      <td>04/25/2020</td>\n",
       "      <td>02:40:00</td>\n",
       "      <td>5A</td>\n",
       "      <td>2900 MOUNT HOLLY ST</td>\n",
       "      <td>BURGLARY</td>\n",
       "      <td>I</td>\n",
       "      <td>NaN</td>\n",
       "      <td>624.0</td>\n",
       "      <td>NORTHWEST</td>\n",
       "      <td>WINDSOR HILLS</td>\n",
       "      <td>-76.682845</td>\n",
       "      <td>39.319594</td>\n",
       "    </tr>\n",
       "    <tr>\n",
       "      <th>2020-04-25 09:30:00</th>\n",
       "      <td>04/25/2020</td>\n",
       "      <td>09:30:00</td>\n",
       "      <td>5C</td>\n",
       "      <td>0 N JANNEY ST</td>\n",
       "      <td>BURGLARY</td>\n",
       "      <td>I</td>\n",
       "      <td>NaN</td>\n",
       "      <td>232.0</td>\n",
       "      <td>SOUTHEAST</td>\n",
       "      <td>KRESSON</td>\n",
       "      <td>-76.560665</td>\n",
       "      <td>39.293067</td>\n",
       "    </tr>\n",
       "    <tr>\n",
       "      <th>2020-04-25 02:30:00</th>\n",
       "      <td>04/25/2020</td>\n",
       "      <td>02:30:00</td>\n",
       "      <td>4E</td>\n",
       "      <td>900 W SARATOGA ST</td>\n",
       "      <td>COMMON ASSAULT</td>\n",
       "      <td>NaN</td>\n",
       "      <td>NaN</td>\n",
       "      <td>712.0</td>\n",
       "      <td>WESTERN</td>\n",
       "      <td>POPPLETON</td>\n",
       "      <td>-76.632368</td>\n",
       "      <td>39.292449</td>\n",
       "    </tr>\n",
       "    <tr>\n",
       "      <th>2020-04-25 15:30:00</th>\n",
       "      <td>04/25/2020</td>\n",
       "      <td>15:30:00</td>\n",
       "      <td>6C</td>\n",
       "      <td>3700 BOSTON ST</td>\n",
       "      <td>LARCENY</td>\n",
       "      <td>I</td>\n",
       "      <td>NaN</td>\n",
       "      <td>231.0</td>\n",
       "      <td>SOUTHEAST</td>\n",
       "      <td>CANTON INDUSTRIAL AREA</td>\n",
       "      <td>-76.565150</td>\n",
       "      <td>39.277050</td>\n",
       "    </tr>\n",
       "  </tbody>\n",
       "</table>\n",
       "</div>"
      ],
      "text/plain": [
       "                      CrimeDate CrimeTime CrimeCode             Location  \\\n",
       "2020-04-25 17:30:00  04/25/2020  17:30:00        5A     2400 SHIRLEY AVE   \n",
       "2020-04-25 02:40:00  04/25/2020  02:40:00        5A  2900 MOUNT HOLLY ST   \n",
       "2020-04-25 09:30:00  04/25/2020  09:30:00        5C        0 N JANNEY ST   \n",
       "2020-04-25 02:30:00  04/25/2020  02:30:00        4E    900 W SARATOGA ST   \n",
       "2020-04-25 15:30:00  04/25/2020  15:30:00        6C       3700 BOSTON ST   \n",
       "\n",
       "                        Description Inside/Outside Weapon   Post   District  \\\n",
       "2020-04-25 17:30:00        BURGLARY              I    NaN  533.0   NORTHERN   \n",
       "2020-04-25 02:40:00        BURGLARY              I    NaN  624.0  NORTHWEST   \n",
       "2020-04-25 09:30:00        BURGLARY              I    NaN  232.0  SOUTHEAST   \n",
       "2020-04-25 02:30:00  COMMON ASSAULT            NaN    NaN  712.0    WESTERN   \n",
       "2020-04-25 15:30:00         LARCENY              I    NaN  231.0  SOUTHEAST   \n",
       "\n",
       "                               Neighborhood  Longitude   Latitude  \n",
       "2020-04-25 17:30:00             GREENSPRING -76.657102  39.336238  \n",
       "2020-04-25 02:40:00           WINDSOR HILLS -76.682845  39.319594  \n",
       "2020-04-25 09:30:00                 KRESSON -76.560665  39.293067  \n",
       "2020-04-25 02:30:00               POPPLETON -76.632368  39.292449  \n",
       "2020-04-25 15:30:00  CANTON INDUSTRIAL AREA -76.565150  39.277050  "
      ]
     },
     "execution_count": 125,
     "metadata": {},
     "output_type": "execute_result"
    }
   ],
   "source": [
    "## Preview the dataframe to confirm index\n",
    "df.head()"
   ]
  },
  {
   "cell_type": "code",
   "execution_count": 126,
   "metadata": {
    "ExecuteTime": {
     "end_time": "2020-10-15T01:45:10.242875Z",
     "start_time": "2020-10-15T01:45:10.223208Z"
    }
   },
   "outputs": [
    {
     "name": "stdout",
     "output_type": "stream",
     "text": [
      "df_orig already exists\n"
     ]
    },
    {
     "data": {
      "text/html": [
       "<div>\n",
       "<style scoped>\n",
       "    .dataframe tbody tr th:only-of-type {\n",
       "        vertical-align: middle;\n",
       "    }\n",
       "\n",
       "    .dataframe tbody tr th {\n",
       "        vertical-align: top;\n",
       "    }\n",
       "\n",
       "    .dataframe thead th {\n",
       "        text-align: right;\n",
       "    }\n",
       "</style>\n",
       "<table border=\"1\" class=\"dataframe\">\n",
       "  <thead>\n",
       "    <tr style=\"text-align: right;\">\n",
       "      <th></th>\n",
       "      <th>CrimeDate</th>\n",
       "      <th>CrimeTime</th>\n",
       "      <th>CrimeCode</th>\n",
       "      <th>Location</th>\n",
       "      <th>Description</th>\n",
       "      <th>Inside/Outside</th>\n",
       "      <th>Weapon</th>\n",
       "      <th>Post</th>\n",
       "      <th>District</th>\n",
       "      <th>Neighborhood</th>\n",
       "      <th>Longitude</th>\n",
       "      <th>Latitude</th>\n",
       "    </tr>\n",
       "  </thead>\n",
       "  <tbody>\n",
       "    <tr>\n",
       "      <th>2020-04-25 17:30:00</th>\n",
       "      <td>04/25/2020</td>\n",
       "      <td>17:30:00</td>\n",
       "      <td>5A</td>\n",
       "      <td>2400 SHIRLEY AVE</td>\n",
       "      <td>BURGLARY</td>\n",
       "      <td>I</td>\n",
       "      <td>NaN</td>\n",
       "      <td>533.0</td>\n",
       "      <td>NORTHERN</td>\n",
       "      <td>GREENSPRING</td>\n",
       "      <td>-76.657102</td>\n",
       "      <td>39.336238</td>\n",
       "    </tr>\n",
       "    <tr>\n",
       "      <th>2020-04-25 02:40:00</th>\n",
       "      <td>04/25/2020</td>\n",
       "      <td>02:40:00</td>\n",
       "      <td>5A</td>\n",
       "      <td>2900 MOUNT HOLLY ST</td>\n",
       "      <td>BURGLARY</td>\n",
       "      <td>I</td>\n",
       "      <td>NaN</td>\n",
       "      <td>624.0</td>\n",
       "      <td>NORTHWEST</td>\n",
       "      <td>WINDSOR HILLS</td>\n",
       "      <td>-76.682845</td>\n",
       "      <td>39.319594</td>\n",
       "    </tr>\n",
       "    <tr>\n",
       "      <th>2020-04-25 09:30:00</th>\n",
       "      <td>04/25/2020</td>\n",
       "      <td>09:30:00</td>\n",
       "      <td>5C</td>\n",
       "      <td>0 N JANNEY ST</td>\n",
       "      <td>BURGLARY</td>\n",
       "      <td>I</td>\n",
       "      <td>NaN</td>\n",
       "      <td>232.0</td>\n",
       "      <td>SOUTHEAST</td>\n",
       "      <td>KRESSON</td>\n",
       "      <td>-76.560665</td>\n",
       "      <td>39.293067</td>\n",
       "    </tr>\n",
       "    <tr>\n",
       "      <th>2020-04-25 02:30:00</th>\n",
       "      <td>04/25/2020</td>\n",
       "      <td>02:30:00</td>\n",
       "      <td>4E</td>\n",
       "      <td>900 W SARATOGA ST</td>\n",
       "      <td>COMMON ASSAULT</td>\n",
       "      <td>NaN</td>\n",
       "      <td>NaN</td>\n",
       "      <td>712.0</td>\n",
       "      <td>WESTERN</td>\n",
       "      <td>POPPLETON</td>\n",
       "      <td>-76.632368</td>\n",
       "      <td>39.292449</td>\n",
       "    </tr>\n",
       "    <tr>\n",
       "      <th>2020-04-25 15:30:00</th>\n",
       "      <td>04/25/2020</td>\n",
       "      <td>15:30:00</td>\n",
       "      <td>6C</td>\n",
       "      <td>3700 BOSTON ST</td>\n",
       "      <td>LARCENY</td>\n",
       "      <td>I</td>\n",
       "      <td>NaN</td>\n",
       "      <td>231.0</td>\n",
       "      <td>SOUTHEAST</td>\n",
       "      <td>CANTON INDUSTRIAL AREA</td>\n",
       "      <td>-76.565150</td>\n",
       "      <td>39.277050</td>\n",
       "    </tr>\n",
       "    <tr>\n",
       "      <th>...</th>\n",
       "      <td>...</td>\n",
       "      <td>...</td>\n",
       "      <td>...</td>\n",
       "      <td>...</td>\n",
       "      <td>...</td>\n",
       "      <td>...</td>\n",
       "      <td>...</td>\n",
       "      <td>...</td>\n",
       "      <td>...</td>\n",
       "      <td>...</td>\n",
       "      <td>...</td>\n",
       "      <td>...</td>\n",
       "    </tr>\n",
       "    <tr>\n",
       "      <th>1978-01-01 10:30:00</th>\n",
       "      <td>01/01/1978</td>\n",
       "      <td>10:30:00</td>\n",
       "      <td>2A</td>\n",
       "      <td>1900 ARGONNE DR</td>\n",
       "      <td>RAPE</td>\n",
       "      <td>I</td>\n",
       "      <td>OTHER</td>\n",
       "      <td>421.0</td>\n",
       "      <td>NORTHEAST</td>\n",
       "      <td>MORGAN STATE UNIVERS</td>\n",
       "      <td>-76.582056</td>\n",
       "      <td>39.340492</td>\n",
       "    </tr>\n",
       "    <tr>\n",
       "      <th>1977-05-01 00:01:00</th>\n",
       "      <td>05/01/1977</td>\n",
       "      <td>00:01:00</td>\n",
       "      <td>2A</td>\n",
       "      <td>600 W 34TH ST</td>\n",
       "      <td>RAPE</td>\n",
       "      <td>I</td>\n",
       "      <td>OTHER</td>\n",
       "      <td>531.0</td>\n",
       "      <td>NORTHERN</td>\n",
       "      <td>WYMAN PARK</td>\n",
       "      <td>-76.626880</td>\n",
       "      <td>39.328817</td>\n",
       "    </tr>\n",
       "    <tr>\n",
       "      <th>1975-06-01 00:00:00</th>\n",
       "      <td>06/01/1975</td>\n",
       "      <td>00:00:00</td>\n",
       "      <td>2A</td>\n",
       "      <td>4400 OLD FREDERICK RD</td>\n",
       "      <td>RAPE</td>\n",
       "      <td>I</td>\n",
       "      <td>OTHER</td>\n",
       "      <td>822.0</td>\n",
       "      <td>SOUTHWEST</td>\n",
       "      <td>UPLANDS</td>\n",
       "      <td>-76.691297</td>\n",
       "      <td>39.289582</td>\n",
       "    </tr>\n",
       "    <tr>\n",
       "      <th>1969-07-20 21:00:00</th>\n",
       "      <td>07/20/1969</td>\n",
       "      <td>21:00:00</td>\n",
       "      <td>2A</td>\n",
       "      <td>5400 ROLAND AVE</td>\n",
       "      <td>RAPE</td>\n",
       "      <td>NaN</td>\n",
       "      <td>OTHER</td>\n",
       "      <td>534.0</td>\n",
       "      <td>NORTHERN</td>\n",
       "      <td>ROLAND PARK</td>\n",
       "      <td>-76.635300</td>\n",
       "      <td>39.358898</td>\n",
       "    </tr>\n",
       "    <tr>\n",
       "      <th>1963-10-30 00:00:00</th>\n",
       "      <td>10/30/1963</td>\n",
       "      <td>00:00:00</td>\n",
       "      <td>2A</td>\n",
       "      <td>3100 FERNDALE AVE</td>\n",
       "      <td>RAPE</td>\n",
       "      <td>I</td>\n",
       "      <td>OTHER</td>\n",
       "      <td>622.0</td>\n",
       "      <td>NORTHWEST</td>\n",
       "      <td>HOWARD PARK</td>\n",
       "      <td>-76.702636</td>\n",
       "      <td>39.326875</td>\n",
       "    </tr>\n",
       "  </tbody>\n",
       "</table>\n",
       "<p>300336 rows × 12 columns</p>\n",
       "</div>"
      ],
      "text/plain": [
       "                      CrimeDate CrimeTime CrimeCode               Location  \\\n",
       "2020-04-25 17:30:00  04/25/2020  17:30:00        5A       2400 SHIRLEY AVE   \n",
       "2020-04-25 02:40:00  04/25/2020  02:40:00        5A    2900 MOUNT HOLLY ST   \n",
       "2020-04-25 09:30:00  04/25/2020  09:30:00        5C          0 N JANNEY ST   \n",
       "2020-04-25 02:30:00  04/25/2020  02:30:00        4E      900 W SARATOGA ST   \n",
       "2020-04-25 15:30:00  04/25/2020  15:30:00        6C         3700 BOSTON ST   \n",
       "...                         ...       ...       ...                    ...   \n",
       "1978-01-01 10:30:00  01/01/1978  10:30:00        2A        1900 ARGONNE DR   \n",
       "1977-05-01 00:01:00  05/01/1977  00:01:00        2A          600 W 34TH ST   \n",
       "1975-06-01 00:00:00  06/01/1975  00:00:00        2A  4400 OLD FREDERICK RD   \n",
       "1969-07-20 21:00:00  07/20/1969  21:00:00        2A        5400 ROLAND AVE   \n",
       "1963-10-30 00:00:00  10/30/1963  00:00:00        2A      3100 FERNDALE AVE   \n",
       "\n",
       "                        Description Inside/Outside Weapon   Post   District  \\\n",
       "2020-04-25 17:30:00        BURGLARY              I    NaN  533.0   NORTHERN   \n",
       "2020-04-25 02:40:00        BURGLARY              I    NaN  624.0  NORTHWEST   \n",
       "2020-04-25 09:30:00        BURGLARY              I    NaN  232.0  SOUTHEAST   \n",
       "2020-04-25 02:30:00  COMMON ASSAULT            NaN    NaN  712.0    WESTERN   \n",
       "2020-04-25 15:30:00         LARCENY              I    NaN  231.0  SOUTHEAST   \n",
       "...                             ...            ...    ...    ...        ...   \n",
       "1978-01-01 10:30:00            RAPE              I  OTHER  421.0  NORTHEAST   \n",
       "1977-05-01 00:01:00            RAPE              I  OTHER  531.0   NORTHERN   \n",
       "1975-06-01 00:00:00            RAPE              I  OTHER  822.0  SOUTHWEST   \n",
       "1969-07-20 21:00:00            RAPE            NaN  OTHER  534.0   NORTHERN   \n",
       "1963-10-30 00:00:00            RAPE              I  OTHER  622.0  NORTHWEST   \n",
       "\n",
       "                               Neighborhood  Longitude   Latitude  \n",
       "2020-04-25 17:30:00             GREENSPRING -76.657102  39.336238  \n",
       "2020-04-25 02:40:00           WINDSOR HILLS -76.682845  39.319594  \n",
       "2020-04-25 09:30:00                 KRESSON -76.560665  39.293067  \n",
       "2020-04-25 02:30:00               POPPLETON -76.632368  39.292449  \n",
       "2020-04-25 15:30:00  CANTON INDUSTRIAL AREA -76.565150  39.277050  \n",
       "...                                     ...        ...        ...  \n",
       "1978-01-01 10:30:00    MORGAN STATE UNIVERS -76.582056  39.340492  \n",
       "1977-05-01 00:01:00              WYMAN PARK -76.626880  39.328817  \n",
       "1975-06-01 00:00:00                 UPLANDS -76.691297  39.289582  \n",
       "1969-07-20 21:00:00             ROLAND PARK -76.635300  39.358898  \n",
       "1963-10-30 00:00:00             HOWARD PARK -76.702636  39.326875  \n",
       "\n",
       "[300336 rows x 12 columns]"
      ]
     },
     "execution_count": 126,
     "metadata": {},
     "output_type": "execute_result"
    }
   ],
   "source": [
    "if 'df_orig' not in locals():\n",
    "    print('True')\n",
    "    df_orig =df.copy()\n",
    "else:\n",
    "    print('df_orig already exists')\n",
    "df_orig"
   ]
  },
  {
   "cell_type": "code",
   "execution_count": 127,
   "metadata": {
    "ExecuteTime": {
     "end_time": "2020-10-15T01:45:10.268196Z",
     "start_time": "2020-10-15T01:45:10.244609Z"
    }
   },
   "outputs": [
    {
     "data": {
      "text/html": [
       "<div>\n",
       "<style scoped>\n",
       "    .dataframe tbody tr th:only-of-type {\n",
       "        vertical-align: middle;\n",
       "    }\n",
       "\n",
       "    .dataframe tbody tr th {\n",
       "        vertical-align: top;\n",
       "    }\n",
       "\n",
       "    .dataframe thead th {\n",
       "        text-align: right;\n",
       "    }\n",
       "</style>\n",
       "<table border=\"1\" class=\"dataframe\">\n",
       "  <thead>\n",
       "    <tr style=\"text-align: right;\">\n",
       "      <th></th>\n",
       "      <th>Description</th>\n",
       "      <th>Longitude</th>\n",
       "      <th>Latitude</th>\n",
       "    </tr>\n",
       "  </thead>\n",
       "  <tbody>\n",
       "    <tr>\n",
       "      <th>2020-04-25 17:30:00</th>\n",
       "      <td>BURGLARY</td>\n",
       "      <td>-76.657102</td>\n",
       "      <td>39.336238</td>\n",
       "    </tr>\n",
       "    <tr>\n",
       "      <th>2020-04-25 02:40:00</th>\n",
       "      <td>BURGLARY</td>\n",
       "      <td>-76.682845</td>\n",
       "      <td>39.319594</td>\n",
       "    </tr>\n",
       "    <tr>\n",
       "      <th>2020-04-25 09:30:00</th>\n",
       "      <td>BURGLARY</td>\n",
       "      <td>-76.560665</td>\n",
       "      <td>39.293067</td>\n",
       "    </tr>\n",
       "    <tr>\n",
       "      <th>2020-04-25 02:30:00</th>\n",
       "      <td>COMMON ASSAULT</td>\n",
       "      <td>-76.632368</td>\n",
       "      <td>39.292449</td>\n",
       "    </tr>\n",
       "    <tr>\n",
       "      <th>2020-04-25 15:30:00</th>\n",
       "      <td>LARCENY</td>\n",
       "      <td>-76.565150</td>\n",
       "      <td>39.277050</td>\n",
       "    </tr>\n",
       "    <tr>\n",
       "      <th>...</th>\n",
       "      <td>...</td>\n",
       "      <td>...</td>\n",
       "      <td>...</td>\n",
       "    </tr>\n",
       "    <tr>\n",
       "      <th>1978-01-01 10:30:00</th>\n",
       "      <td>RAPE</td>\n",
       "      <td>-76.582056</td>\n",
       "      <td>39.340492</td>\n",
       "    </tr>\n",
       "    <tr>\n",
       "      <th>1977-05-01 00:01:00</th>\n",
       "      <td>RAPE</td>\n",
       "      <td>-76.626880</td>\n",
       "      <td>39.328817</td>\n",
       "    </tr>\n",
       "    <tr>\n",
       "      <th>1975-06-01 00:00:00</th>\n",
       "      <td>RAPE</td>\n",
       "      <td>-76.691297</td>\n",
       "      <td>39.289582</td>\n",
       "    </tr>\n",
       "    <tr>\n",
       "      <th>1969-07-20 21:00:00</th>\n",
       "      <td>RAPE</td>\n",
       "      <td>-76.635300</td>\n",
       "      <td>39.358898</td>\n",
       "    </tr>\n",
       "    <tr>\n",
       "      <th>1963-10-30 00:00:00</th>\n",
       "      <td>RAPE</td>\n",
       "      <td>-76.702636</td>\n",
       "      <td>39.326875</td>\n",
       "    </tr>\n",
       "  </tbody>\n",
       "</table>\n",
       "<p>300336 rows × 3 columns</p>\n",
       "</div>"
      ],
      "text/plain": [
       "                        Description  Longitude   Latitude\n",
       "2020-04-25 17:30:00        BURGLARY -76.657102  39.336238\n",
       "2020-04-25 02:40:00        BURGLARY -76.682845  39.319594\n",
       "2020-04-25 09:30:00        BURGLARY -76.560665  39.293067\n",
       "2020-04-25 02:30:00  COMMON ASSAULT -76.632368  39.292449\n",
       "2020-04-25 15:30:00         LARCENY -76.565150  39.277050\n",
       "...                             ...        ...        ...\n",
       "1978-01-01 10:30:00            RAPE -76.582056  39.340492\n",
       "1977-05-01 00:01:00            RAPE -76.626880  39.328817\n",
       "1975-06-01 00:00:00            RAPE -76.691297  39.289582\n",
       "1969-07-20 21:00:00            RAPE -76.635300  39.358898\n",
       "1963-10-30 00:00:00            RAPE -76.702636  39.326875\n",
       "\n",
       "[300336 rows x 3 columns]"
      ]
     },
     "execution_count": 127,
     "metadata": {},
     "output_type": "execute_result"
    }
   ],
   "source": [
    "# ## Identify columns to drop/keep\n",
    "keep_cols = ['Description','Longitude','Latitude']\n",
    "\n",
    "##  Drop unwanted cols\n",
    "df = df_orig[keep_cols].copy()\n",
    "df"
   ]
  },
  {
   "cell_type": "code",
   "execution_count": 75,
   "metadata": {
    "ExecuteTime": {
     "end_time": "2020-10-15T01:31:01.423069Z",
     "start_time": "2020-10-15T01:31:01.403608Z"
    }
   },
   "outputs": [
    {
     "data": {
      "text/plain": [
       "array(['BURGLARY', 'COMMON ASSAULT', 'LARCENY', 'ROBBERY - STREET',\n",
       "       'AUTO THEFT', 'AGG. ASSAULT', 'LARCENY FROM AUTO', 'SHOOTING',\n",
       "       'ROBBERY - RESIDENCE', 'ROBBERY - COMMERCIAL', 'ARSON', 'HOMICIDE',\n",
       "       'ROBBERY - CARJACKING', 'RAPE'], dtype=object)"
      ]
     },
     "execution_count": 75,
     "metadata": {},
     "output_type": "execute_result"
    }
   ],
   "source": [
    "## Get list of crimes to iterate through\n",
    "crime_types = df['Description'].unique()\n",
    "crime_types"
   ]
  },
  {
   "cell_type": "code",
   "execution_count": 76,
   "metadata": {
    "ExecuteTime": {
     "end_time": "2020-10-15T01:31:01.457169Z",
     "start_time": "2020-10-15T01:31:01.425464Z"
    }
   },
   "outputs": [
    {
     "data": {
      "text/html": [
       "<style  type=\"text/css\" >\n",
       "#T_15876c52_0e86_11eb_83e3_acde48001122row0_col0{\n",
       "            width:  10em;\n",
       "             height:  80%;\n",
       "            background:  linear-gradient(90deg,#d65f5f 100.0%, transparent 100.0%);\n",
       "        }#T_15876c52_0e86_11eb_83e3_acde48001122row1_col0{\n",
       "            width:  10em;\n",
       "             height:  80%;\n",
       "            background:  linear-gradient(90deg,#d65f5f 73.3%, transparent 73.3%);\n",
       "        }#T_15876c52_0e86_11eb_83e3_acde48001122row2_col0{\n",
       "            width:  10em;\n",
       "             height:  80%;\n",
       "            background:  linear-gradient(90deg,#d65f5f 63.5%, transparent 63.5%);\n",
       "        }#T_15876c52_0e86_11eb_83e3_acde48001122row3_col0{\n",
       "            width:  10em;\n",
       "             height:  80%;\n",
       "            background:  linear-gradient(90deg,#d65f5f 58.4%, transparent 58.4%);\n",
       "        }#T_15876c52_0e86_11eb_83e3_acde48001122row4_col0{\n",
       "            width:  10em;\n",
       "             height:  80%;\n",
       "            background:  linear-gradient(90deg,#d65f5f 47.7%, transparent 47.7%);\n",
       "        }#T_15876c52_0e86_11eb_83e3_acde48001122row5_col0{\n",
       "            width:  10em;\n",
       "             height:  80%;\n",
       "            background:  linear-gradient(90deg,#d65f5f 38.2%, transparent 38.2%);\n",
       "        }#T_15876c52_0e86_11eb_83e3_acde48001122row6_col0{\n",
       "            width:  10em;\n",
       "             height:  80%;\n",
       "            background:  linear-gradient(90deg,#d65f5f 30.4%, transparent 30.4%);\n",
       "        }#T_15876c52_0e86_11eb_83e3_acde48001122row7_col0{\n",
       "            width:  10em;\n",
       "             height:  80%;\n",
       "            background:  linear-gradient(90deg,#d65f5f 6.1%, transparent 6.1%);\n",
       "        }#T_15876c52_0e86_11eb_83e3_acde48001122row8_col0{\n",
       "            width:  10em;\n",
       "             height:  80%;\n",
       "            background:  linear-gradient(90deg,#d65f5f 4.1%, transparent 4.1%);\n",
       "        }#T_15876c52_0e86_11eb_83e3_acde48001122row9_col0{\n",
       "            width:  10em;\n",
       "             height:  80%;\n",
       "            background:  linear-gradient(90deg,#d65f5f 2.8%, transparent 2.8%);\n",
       "        }#T_15876c52_0e86_11eb_83e3_acde48001122row10_col0{\n",
       "            width:  10em;\n",
       "             height:  80%;\n",
       "            background:  linear-gradient(90deg,#d65f5f 2.0%, transparent 2.0%);\n",
       "        }#T_15876c52_0e86_11eb_83e3_acde48001122row11_col0,#T_15876c52_0e86_11eb_83e3_acde48001122row12_col0{\n",
       "            width:  10em;\n",
       "             height:  80%;\n",
       "            background:  linear-gradient(90deg,#d65f5f 1.0%, transparent 1.0%);\n",
       "        }#T_15876c52_0e86_11eb_83e3_acde48001122row13_col0{\n",
       "            width:  10em;\n",
       "             height:  80%;\n",
       "        }</style><table id=\"T_15876c52_0e86_11eb_83e3_acde48001122\" ><thead>    <tr>        <th class=\"blank level0\" ></th>        <th class=\"col_heading level0 col0\" >% of Total</th>    </tr></thead><tbody>\n",
       "                <tr>\n",
       "                        <th id=\"T_15876c52_0e86_11eb_83e3_acde48001122level0_row0\" class=\"row_heading level0 row0\" >LARCENY</th>\n",
       "                        <td id=\"T_15876c52_0e86_11eb_83e3_acde48001122row0_col0\" class=\"data row0 col0\" >0.223583</td>\n",
       "            </tr>\n",
       "            <tr>\n",
       "                        <th id=\"T_15876c52_0e86_11eb_83e3_acde48001122level0_row1\" class=\"row_heading level0 row1\" >COMMON ASSAULT</th>\n",
       "                        <td id=\"T_15876c52_0e86_11eb_83e3_acde48001122row1_col0\" class=\"data row1 col0\" >0.165148</td>\n",
       "            </tr>\n",
       "            <tr>\n",
       "                        <th id=\"T_15876c52_0e86_11eb_83e3_acde48001122level0_row2\" class=\"row_heading level0 row2\" >BURGLARY</th>\n",
       "                        <td id=\"T_15876c52_0e86_11eb_83e3_acde48001122row2_col0\" class=\"data row2 col0\" >0.143539</td>\n",
       "            </tr>\n",
       "            <tr>\n",
       "                        <th id=\"T_15876c52_0e86_11eb_83e3_acde48001122level0_row3\" class=\"row_heading level0 row3\" >LARCENY FROM AUTO</th>\n",
       "                        <td id=\"T_15876c52_0e86_11eb_83e3_acde48001122row3_col0\" class=\"data row3 col0\" >0.132375</td>\n",
       "            </tr>\n",
       "            <tr>\n",
       "                        <th id=\"T_15876c52_0e86_11eb_83e3_acde48001122level0_row4\" class=\"row_heading level0 row4\" >AGG. ASSAULT</th>\n",
       "                        <td id=\"T_15876c52_0e86_11eb_83e3_acde48001122row4_col0\" class=\"data row4 col0\" >0.108901</td>\n",
       "            </tr>\n",
       "            <tr>\n",
       "                        <th id=\"T_15876c52_0e86_11eb_83e3_acde48001122level0_row5\" class=\"row_heading level0 row5\" >AUTO THEFT</th>\n",
       "                        <td id=\"T_15876c52_0e86_11eb_83e3_acde48001122row5_col0\" class=\"data row5 col0\" >0.088088</td>\n",
       "            </tr>\n",
       "            <tr>\n",
       "                        <th id=\"T_15876c52_0e86_11eb_83e3_acde48001122level0_row6\" class=\"row_heading level0 row6\" >ROBBERY - STREET</th>\n",
       "                        <td id=\"T_15876c52_0e86_11eb_83e3_acde48001122row6_col0\" class=\"data row6 col0\" >0.070901</td>\n",
       "            </tr>\n",
       "            <tr>\n",
       "                        <th id=\"T_15876c52_0e86_11eb_83e3_acde48001122level0_row7\" class=\"row_heading level0 row7\" >ROBBERY - COMMERCIAL</th>\n",
       "                        <td id=\"T_15876c52_0e86_11eb_83e3_acde48001122row7_col0\" class=\"data row7 col0\" >0.017687</td>\n",
       "            </tr>\n",
       "            <tr>\n",
       "                        <th id=\"T_15876c52_0e86_11eb_83e3_acde48001122level0_row8\" class=\"row_heading level0 row8\" >SHOOTING</th>\n",
       "                        <td id=\"T_15876c52_0e86_11eb_83e3_acde48001122row8_col0\" class=\"data row8 col0\" >0.013282</td>\n",
       "            </tr>\n",
       "            <tr>\n",
       "                        <th id=\"T_15876c52_0e86_11eb_83e3_acde48001122level0_row9\" class=\"row_heading level0 row9\" >ROBBERY - RESIDENCE</th>\n",
       "                        <td id=\"T_15876c52_0e86_11eb_83e3_acde48001122row9_col0\" class=\"data row9 col0\" >0.010388</td>\n",
       "            </tr>\n",
       "            <tr>\n",
       "                        <th id=\"T_15876c52_0e86_11eb_83e3_acde48001122level0_row10\" class=\"row_heading level0 row10\" >ROBBERY - CARJACKING</th>\n",
       "                        <td id=\"T_15876c52_0e86_11eb_83e3_acde48001122row10_col0\" class=\"data row10 col0\" >0.008767</td>\n",
       "            </tr>\n",
       "            <tr>\n",
       "                        <th id=\"T_15876c52_0e86_11eb_83e3_acde48001122level0_row11\" class=\"row_heading level0 row11\" >HOMICIDE</th>\n",
       "                        <td id=\"T_15876c52_0e86_11eb_83e3_acde48001122row11_col0\" class=\"data row11 col0\" >0.006513</td>\n",
       "            </tr>\n",
       "            <tr>\n",
       "                        <th id=\"T_15876c52_0e86_11eb_83e3_acde48001122level0_row12\" class=\"row_heading level0 row12\" >RAPE</th>\n",
       "                        <td id=\"T_15876c52_0e86_11eb_83e3_acde48001122row12_col0\" class=\"data row12 col0\" >0.006499</td>\n",
       "            </tr>\n",
       "            <tr>\n",
       "                        <th id=\"T_15876c52_0e86_11eb_83e3_acde48001122level0_row13\" class=\"row_heading level0 row13\" >ARSON</th>\n",
       "                        <td id=\"T_15876c52_0e86_11eb_83e3_acde48001122row13_col0\" class=\"data row13 col0\" >0.004328</td>\n",
       "            </tr>\n",
       "    </tbody></table>"
      ],
      "text/plain": [
       "<pandas.io.formats.style.Styler at 0x7fdb9b698e10>"
      ]
     },
     "execution_count": 76,
     "metadata": {},
     "output_type": "execute_result"
    }
   ],
   "source": [
    "## Inspect the value_counts for the different types of crimes\n",
    "crime_counts = df['Description'].value_counts(normalize=True).to_frame('% of Total')\n",
    "crime_counts.style.bar('% of Total')"
   ]
  },
  {
   "cell_type": "code",
   "execution_count": 77,
   "metadata": {
    "ExecuteTime": {
     "end_time": "2020-10-15T01:31:01.489379Z",
     "start_time": "2020-10-15T01:31:01.458666Z"
    }
   },
   "outputs": [
    {
     "data": {
      "text/html": [
       "<div>\n",
       "<style scoped>\n",
       "    .dataframe tbody tr th:only-of-type {\n",
       "        vertical-align: middle;\n",
       "    }\n",
       "\n",
       "    .dataframe tbody tr th {\n",
       "        vertical-align: top;\n",
       "    }\n",
       "\n",
       "    .dataframe thead th {\n",
       "        text-align: right;\n",
       "    }\n",
       "</style>\n",
       "<table border=\"1\" class=\"dataframe\">\n",
       "  <thead>\n",
       "    <tr style=\"text-align: right;\">\n",
       "      <th></th>\n",
       "      <th>Description</th>\n",
       "      <th>Longitude</th>\n",
       "      <th>Latitude</th>\n",
       "    </tr>\n",
       "  </thead>\n",
       "  <tbody>\n",
       "    <tr>\n",
       "      <th>2020-04-25 16:09:00</th>\n",
       "      <td>SHOOTING</td>\n",
       "      <td>-76.623695</td>\n",
       "      <td>39.288378</td>\n",
       "    </tr>\n",
       "    <tr>\n",
       "      <th>2020-04-24 15:59:00</th>\n",
       "      <td>SHOOTING</td>\n",
       "      <td>-76.584030</td>\n",
       "      <td>39.312696</td>\n",
       "    </tr>\n",
       "    <tr>\n",
       "      <th>2020-04-22 22:30:00</th>\n",
       "      <td>SHOOTING</td>\n",
       "      <td>-76.674078</td>\n",
       "      <td>39.273023</td>\n",
       "    </tr>\n",
       "    <tr>\n",
       "      <th>2020-04-22 17:49:00</th>\n",
       "      <td>SHOOTING</td>\n",
       "      <td>-76.581519</td>\n",
       "      <td>39.298946</td>\n",
       "    </tr>\n",
       "    <tr>\n",
       "      <th>2020-04-22 17:55:00</th>\n",
       "      <td>SHOOTING</td>\n",
       "      <td>-76.639655</td>\n",
       "      <td>39.291300</td>\n",
       "    </tr>\n",
       "    <tr>\n",
       "      <th>...</th>\n",
       "      <td>...</td>\n",
       "      <td>...</td>\n",
       "      <td>...</td>\n",
       "    </tr>\n",
       "    <tr>\n",
       "      <th>2014-01-05 16:30:00</th>\n",
       "      <td>SHOOTING</td>\n",
       "      <td>-76.688085</td>\n",
       "      <td>39.296987</td>\n",
       "    </tr>\n",
       "    <tr>\n",
       "      <th>2014-01-05 19:41:00</th>\n",
       "      <td>SHOOTING</td>\n",
       "      <td>-76.634616</td>\n",
       "      <td>39.300554</td>\n",
       "    </tr>\n",
       "    <tr>\n",
       "      <th>2014-01-03 14:32:00</th>\n",
       "      <td>SHOOTING</td>\n",
       "      <td>-76.645355</td>\n",
       "      <td>39.289607</td>\n",
       "    </tr>\n",
       "    <tr>\n",
       "      <th>2014-01-01 17:35:00</th>\n",
       "      <td>SHOOTING</td>\n",
       "      <td>-76.672260</td>\n",
       "      <td>39.350624</td>\n",
       "    </tr>\n",
       "    <tr>\n",
       "      <th>2014-01-01 22:31:00</th>\n",
       "      <td>SHOOTING</td>\n",
       "      <td>-76.555139</td>\n",
       "      <td>39.354011</td>\n",
       "    </tr>\n",
       "  </tbody>\n",
       "</table>\n",
       "<p>3989 rows × 3 columns</p>\n",
       "</div>"
      ],
      "text/plain": [
       "                    Description  Longitude   Latitude\n",
       "2020-04-25 16:09:00    SHOOTING -76.623695  39.288378\n",
       "2020-04-24 15:59:00    SHOOTING -76.584030  39.312696\n",
       "2020-04-22 22:30:00    SHOOTING -76.674078  39.273023\n",
       "2020-04-22 17:49:00    SHOOTING -76.581519  39.298946\n",
       "2020-04-22 17:55:00    SHOOTING -76.639655  39.291300\n",
       "...                         ...        ...        ...\n",
       "2014-01-05 16:30:00    SHOOTING -76.688085  39.296987\n",
       "2014-01-05 19:41:00    SHOOTING -76.634616  39.300554\n",
       "2014-01-03 14:32:00    SHOOTING -76.645355  39.289607\n",
       "2014-01-01 17:35:00    SHOOTING -76.672260  39.350624\n",
       "2014-01-01 22:31:00    SHOOTING -76.555139  39.354011\n",
       "\n",
       "[3989 rows x 3 columns]"
      ]
     },
     "execution_count": 77,
     "metadata": {},
     "output_type": "execute_result"
    }
   ],
   "source": [
    "## Lets get just Shootings in a new df\n",
    "group_df = df.groupby('Description').get_group('SHOOTING')\n",
    "group_df"
   ]
  },
  {
   "cell_type": "code",
   "execution_count": 78,
   "metadata": {
    "ExecuteTime": {
     "end_time": "2020-10-15T01:31:01.505150Z",
     "start_time": "2020-10-15T01:31:01.491149Z"
    }
   },
   "outputs": [
    {
     "data": {
      "text/html": [
       "<div>\n",
       "<style scoped>\n",
       "    .dataframe tbody tr th:only-of-type {\n",
       "        vertical-align: middle;\n",
       "    }\n",
       "\n",
       "    .dataframe tbody tr th {\n",
       "        vertical-align: top;\n",
       "    }\n",
       "\n",
       "    .dataframe thead th {\n",
       "        text-align: right;\n",
       "    }\n",
       "</style>\n",
       "<table border=\"1\" class=\"dataframe\">\n",
       "  <thead>\n",
       "    <tr style=\"text-align: right;\">\n",
       "      <th></th>\n",
       "      <th>Description</th>\n",
       "      <th>Longitude</th>\n",
       "      <th>Latitude</th>\n",
       "      <th>SHOOTING</th>\n",
       "    </tr>\n",
       "  </thead>\n",
       "  <tbody>\n",
       "    <tr>\n",
       "      <th>2020-04-25 16:09:00</th>\n",
       "      <td>SHOOTING</td>\n",
       "      <td>-76.623695</td>\n",
       "      <td>39.288378</td>\n",
       "      <td>1</td>\n",
       "    </tr>\n",
       "    <tr>\n",
       "      <th>2020-04-24 15:59:00</th>\n",
       "      <td>SHOOTING</td>\n",
       "      <td>-76.584030</td>\n",
       "      <td>39.312696</td>\n",
       "      <td>1</td>\n",
       "    </tr>\n",
       "    <tr>\n",
       "      <th>2020-04-22 22:30:00</th>\n",
       "      <td>SHOOTING</td>\n",
       "      <td>-76.674078</td>\n",
       "      <td>39.273023</td>\n",
       "      <td>1</td>\n",
       "    </tr>\n",
       "    <tr>\n",
       "      <th>2020-04-22 17:49:00</th>\n",
       "      <td>SHOOTING</td>\n",
       "      <td>-76.581519</td>\n",
       "      <td>39.298946</td>\n",
       "      <td>1</td>\n",
       "    </tr>\n",
       "    <tr>\n",
       "      <th>2020-04-22 17:55:00</th>\n",
       "      <td>SHOOTING</td>\n",
       "      <td>-76.639655</td>\n",
       "      <td>39.291300</td>\n",
       "      <td>1</td>\n",
       "    </tr>\n",
       "    <tr>\n",
       "      <th>...</th>\n",
       "      <td>...</td>\n",
       "      <td>...</td>\n",
       "      <td>...</td>\n",
       "      <td>...</td>\n",
       "    </tr>\n",
       "    <tr>\n",
       "      <th>2014-01-05 16:30:00</th>\n",
       "      <td>SHOOTING</td>\n",
       "      <td>-76.688085</td>\n",
       "      <td>39.296987</td>\n",
       "      <td>1</td>\n",
       "    </tr>\n",
       "    <tr>\n",
       "      <th>2014-01-05 19:41:00</th>\n",
       "      <td>SHOOTING</td>\n",
       "      <td>-76.634616</td>\n",
       "      <td>39.300554</td>\n",
       "      <td>1</td>\n",
       "    </tr>\n",
       "    <tr>\n",
       "      <th>2014-01-03 14:32:00</th>\n",
       "      <td>SHOOTING</td>\n",
       "      <td>-76.645355</td>\n",
       "      <td>39.289607</td>\n",
       "      <td>1</td>\n",
       "    </tr>\n",
       "    <tr>\n",
       "      <th>2014-01-01 17:35:00</th>\n",
       "      <td>SHOOTING</td>\n",
       "      <td>-76.672260</td>\n",
       "      <td>39.350624</td>\n",
       "      <td>1</td>\n",
       "    </tr>\n",
       "    <tr>\n",
       "      <th>2014-01-01 22:31:00</th>\n",
       "      <td>SHOOTING</td>\n",
       "      <td>-76.555139</td>\n",
       "      <td>39.354011</td>\n",
       "      <td>1</td>\n",
       "    </tr>\n",
       "  </tbody>\n",
       "</table>\n",
       "<p>3989 rows × 4 columns</p>\n",
       "</div>"
      ],
      "text/plain": [
       "                    Description  Longitude   Latitude  SHOOTING\n",
       "2020-04-25 16:09:00    SHOOTING -76.623695  39.288378         1\n",
       "2020-04-24 15:59:00    SHOOTING -76.584030  39.312696         1\n",
       "2020-04-22 22:30:00    SHOOTING -76.674078  39.273023         1\n",
       "2020-04-22 17:49:00    SHOOTING -76.581519  39.298946         1\n",
       "2020-04-22 17:55:00    SHOOTING -76.639655  39.291300         1\n",
       "...                         ...        ...        ...       ...\n",
       "2014-01-05 16:30:00    SHOOTING -76.688085  39.296987         1\n",
       "2014-01-05 19:41:00    SHOOTING -76.634616  39.300554         1\n",
       "2014-01-03 14:32:00    SHOOTING -76.645355  39.289607         1\n",
       "2014-01-01 17:35:00    SHOOTING -76.672260  39.350624         1\n",
       "2014-01-01 22:31:00    SHOOTING -76.555139  39.354011         1\n",
       "\n",
       "[3989 rows x 4 columns]"
      ]
     },
     "execution_count": 78,
     "metadata": {},
     "output_type": "execute_result"
    }
   ],
   "source": [
    "## Make a new SHOOTING column that is an integer\n",
    "group_df['SHOOTING'] = (group_df['Description']=='SHOOTING').astype(int)\n",
    "group_df"
   ]
  },
  {
   "cell_type": "code",
   "execution_count": 79,
   "metadata": {
    "ExecuteTime": {
     "end_time": "2020-10-15T01:31:01.818325Z",
     "start_time": "2020-10-15T01:31:01.507009Z"
    }
   },
   "outputs": [
    {
     "data": {
      "text/plain": [
       "dict_keys(['BURGLARY', 'COMMON ASSAULT', 'LARCENY', 'ROBBERY - STREET', 'AUTO THEFT', 'AGG. ASSAULT', 'LARCENY FROM AUTO', 'SHOOTING', 'ROBBERY - RESIDENCE', 'ROBBERY - COMMERCIAL', 'ARSON', 'HOMICIDE', 'ROBBERY - CARJACKING', 'RAPE'])"
      ]
     },
     "execution_count": 79,
     "metadata": {},
     "output_type": "execute_result"
    }
   ],
   "source": [
    "## make a dict of all crime types' DataFrames\n",
    "CRIMES = {}\n",
    "\n",
    "for crime in crime_types:\n",
    "    group_df = df.groupby('Description').get_group(crime).copy()\n",
    "    \n",
    "    CRIMES[crime] =(group_df['Description']==crime).astype(int).rename(crime)# group_df[crime.lower()]\n",
    "    \n",
    "CRIMES.keys()"
   ]
  },
  {
   "cell_type": "markdown",
   "metadata": {},
   "source": [
    "## Visualizing Time Series"
   ]
  },
  {
   "cell_type": "code",
   "execution_count": 128,
   "metadata": {
    "ExecuteTime": {
     "end_time": "2020-10-15T01:45:10.276142Z",
     "start_time": "2020-10-15T01:45:10.270383Z"
    }
   },
   "outputs": [
    {
     "data": {
      "text/plain": [
       "2020-04-25 16:09:00    1\n",
       "2020-04-24 15:59:00    1\n",
       "2020-04-22 22:30:00    1\n",
       "2020-04-22 17:49:00    1\n",
       "2020-04-22 17:55:00    1\n",
       "                      ..\n",
       "2014-01-05 16:30:00    1\n",
       "2014-01-05 19:41:00    1\n",
       "2014-01-03 14:32:00    1\n",
       "2014-01-01 17:35:00    1\n",
       "2014-01-01 22:31:00    1\n",
       "Name: SHOOTING, Length: 3989, dtype: int64"
      ]
     },
     "execution_count": 128,
     "metadata": {},
     "output_type": "execute_result"
    }
   ],
   "source": [
    "CRIMES['SHOOTING']"
   ]
  },
  {
   "cell_type": "code",
   "execution_count": 129,
   "metadata": {
    "ExecuteTime": {
     "end_time": "2020-10-15T01:45:10.438315Z",
     "start_time": "2020-10-15T01:45:10.278019Z"
    }
   },
   "outputs": [
    {
     "data": {
      "text/plain": [
       "<AxesSubplot:>"
      ]
     },
     "execution_count": 129,
     "metadata": {},
     "output_type": "execute_result"
    },
    {
     "data": {
      "image/png": "[encoded data removed]",
      "text/plain": [
       "<Figure size 864x432 with 1 Axes>"
      ]
     },
     "metadata": {
      "needs_background": "light"
     },
     "output_type": "display_data"
    }
   ],
   "source": [
    "## Plot shooting\n",
    "CRIMES['SHOOTING'].plot()"
   ]
  },
  {
   "cell_type": "markdown",
   "metadata": {},
   "source": [
    "> What went wrong? What are we looking at?"
   ]
  },
  {
   "cell_type": "code",
   "execution_count": 130,
   "metadata": {
    "ExecuteTime": {
     "end_time": "2020-10-15T01:45:10.446135Z",
     "start_time": "2020-10-15T01:45:10.441135Z"
    }
   },
   "outputs": [
    {
     "data": {
      "text/plain": [
       "2020-04-25 16:09:00    1\n",
       "2020-04-24 15:59:00    1\n",
       "2020-04-22 22:30:00    1\n",
       "2020-04-22 17:49:00    1\n",
       "2020-04-22 17:55:00    1\n",
       "                      ..\n",
       "2014-01-05 16:30:00    1\n",
       "2014-01-05 19:41:00    1\n",
       "2014-01-03 14:32:00    1\n",
       "2014-01-01 17:35:00    1\n",
       "2014-01-01 22:31:00    1\n",
       "Name: SHOOTING, Length: 3989, dtype: int64"
      ]
     },
     "execution_count": 130,
     "metadata": {},
     "output_type": "execute_result"
    }
   ],
   "source": [
    "ts = CRIMES['SHOOTING']\n",
    "ts"
   ]
  },
  {
   "cell_type": "markdown",
   "metadata": {},
   "source": [
    "### Resampling Time Series"
   ]
  },
  {
   "cell_type": "code",
   "execution_count": 131,
   "metadata": {
    "ExecuteTime": {
     "end_time": "2020-10-15T01:45:14.107754Z",
     "start_time": "2020-10-15T01:45:13.877539Z"
    }
   },
   "outputs": [
    {
     "data": {
      "text/plain": [
       "<AxesSubplot:>"
      ]
     },
     "execution_count": 131,
     "metadata": {},
     "output_type": "execute_result"
    },
    {
     "data": {
      "image/png": "[encoded data removed]",
      "text/plain": [
       "<Figure size 864x432 with 1 Axes>"
      ]
     },
     "metadata": {
      "needs_background": "light"
     },
     "output_type": "display_data"
    }
   ],
   "source": [
    "## Resample to daily data\n",
    "ts = CRIMES['SHOOTING'].resample('D').sum()\n",
    "ts.plot()"
   ]
  },
  {
   "cell_type": "code",
   "execution_count": 84,
   "metadata": {
    "ExecuteTime": {
     "end_time": "2020-10-15T01:31:02.872356Z",
     "start_time": "2020-10-15T01:31:02.233192Z"
    },
    "scrolled": false
   },
   "outputs": [
    {
     "data": {
      "text/plain": [
       "<matplotlib.legend.Legend at 0x7fdba067c978>"
      ]
     },
     "execution_count": 84,
     "metadata": {},
     "output_type": "execute_result"
    },
    {
     "data": {
      "image/png": "[encoded data removed]",
      "text/plain": [
       "<Figure size 864x432 with 1 Axes>"
      ]
     },
     "metadata": {
      "needs_background": "light"
     },
     "output_type": "display_data"
    }
   ],
   "source": [
    "## Plot all crimes the same way\n",
    "fig, ax = plt.subplots()\n",
    "for crime,ts in CRIMES.items():\n",
    "    ts.resample('D').sum().plot(label=crime)\n",
    "    \n",
    "ax.legend(bbox_to_anchor=[1.05,1.0])"
   ]
  },
  {
   "cell_type": "markdown",
   "metadata": {},
   "source": [
    "### Slicing With Time Series"
   ]
  },
  {
   "cell_type": "markdown",
   "metadata": {},
   "source": [
    "- Make sure you're index is sorted first'\n",
    "- Feed in 2 dates as strings for slicing.\n",
    "- Always use .loc when slicing dates"
   ]
  },
  {
   "cell_type": "code",
   "execution_count": 85,
   "metadata": {
    "ExecuteTime": {
     "end_time": "2020-10-15T01:31:03.080889Z",
     "start_time": "2020-10-15T01:31:02.873945Z"
    }
   },
   "outputs": [
    {
     "data": {
      "text/plain": [
       "<AxesSubplot:>"
      ]
     },
     "execution_count": 85,
     "metadata": {},
     "output_type": "execute_result"
    },
    {
     "data": {
      "image/png": "[encoded data removed]",
      "text/plain": [
       "<Figure size 864x432 with 1 Axes>"
      ]
     },
     "metadata": {
      "needs_background": "light"
     },
     "output_type": "display_data"
    }
   ],
   "source": [
    "## Sort index\n",
    "ts = CRIMES['BURGLARY'].resample('D').sum()\n",
    "ts.loc['2014':].plot()"
   ]
  },
  {
   "cell_type": "markdown",
   "metadata": {},
   "source": [
    "#### Using Dictionaries for TIme Series preprocessing"
   ]
  },
  {
   "cell_type": "code",
   "execution_count": 102,
   "metadata": {
    "ExecuteTime": {
     "end_time": "2020-10-15T01:33:22.341559Z",
     "start_time": "2020-10-15T01:33:22.232588Z"
    }
   },
   "outputs": [
    {
     "data": {
      "text/html": [
       "<div>\n",
       "<style scoped>\n",
       "    .dataframe tbody tr th:only-of-type {\n",
       "        vertical-align: middle;\n",
       "    }\n",
       "\n",
       "    .dataframe tbody tr th {\n",
       "        vertical-align: top;\n",
       "    }\n",
       "\n",
       "    .dataframe thead th {\n",
       "        text-align: right;\n",
       "    }\n",
       "</style>\n",
       "<table border=\"1\" class=\"dataframe\">\n",
       "  <thead>\n",
       "    <tr style=\"text-align: right;\">\n",
       "      <th></th>\n",
       "      <th>BURGLARY</th>\n",
       "      <th>COMMON ASSAULT</th>\n",
       "      <th>LARCENY</th>\n",
       "      <th>ROBBERY - STREET</th>\n",
       "      <th>AUTO THEFT</th>\n",
       "      <th>AGG. ASSAULT</th>\n",
       "      <th>LARCENY FROM AUTO</th>\n",
       "      <th>SHOOTING</th>\n",
       "      <th>ROBBERY - RESIDENCE</th>\n",
       "      <th>ROBBERY - COMMERCIAL</th>\n",
       "      <th>ARSON</th>\n",
       "      <th>HOMICIDE</th>\n",
       "      <th>ROBBERY - CARJACKING</th>\n",
       "      <th>RAPE</th>\n",
       "    </tr>\n",
       "  </thead>\n",
       "  <tbody>\n",
       "    <tr>\n",
       "      <th>2014-01-01</th>\n",
       "      <td>20</td>\n",
       "      <td>19</td>\n",
       "      <td>34</td>\n",
       "      <td>8</td>\n",
       "      <td>9</td>\n",
       "      <td>22</td>\n",
       "      <td>15</td>\n",
       "      <td>2</td>\n",
       "      <td>1</td>\n",
       "      <td>2</td>\n",
       "      <td>NaN</td>\n",
       "      <td>2.0</td>\n",
       "      <td>NaN</td>\n",
       "      <td>4.0</td>\n",
       "    </tr>\n",
       "    <tr>\n",
       "      <th>2014-01-02</th>\n",
       "      <td>28</td>\n",
       "      <td>23</td>\n",
       "      <td>26</td>\n",
       "      <td>4</td>\n",
       "      <td>7</td>\n",
       "      <td>6</td>\n",
       "      <td>10</td>\n",
       "      <td>0</td>\n",
       "      <td>1</td>\n",
       "      <td>1</td>\n",
       "      <td>NaN</td>\n",
       "      <td>3.0</td>\n",
       "      <td>1.0</td>\n",
       "      <td>0.0</td>\n",
       "    </tr>\n",
       "    <tr>\n",
       "      <th>2014-01-03</th>\n",
       "      <td>13</td>\n",
       "      <td>17</td>\n",
       "      <td>16</td>\n",
       "      <td>2</td>\n",
       "      <td>3</td>\n",
       "      <td>11</td>\n",
       "      <td>6</td>\n",
       "      <td>1</td>\n",
       "      <td>1</td>\n",
       "      <td>1</td>\n",
       "      <td>NaN</td>\n",
       "      <td>1.0</td>\n",
       "      <td>0.0</td>\n",
       "      <td>0.0</td>\n",
       "    </tr>\n",
       "    <tr>\n",
       "      <th>2014-01-04</th>\n",
       "      <td>20</td>\n",
       "      <td>23</td>\n",
       "      <td>23</td>\n",
       "      <td>7</td>\n",
       "      <td>14</td>\n",
       "      <td>14</td>\n",
       "      <td>15</td>\n",
       "      <td>0</td>\n",
       "      <td>1</td>\n",
       "      <td>1</td>\n",
       "      <td>NaN</td>\n",
       "      <td>0.0</td>\n",
       "      <td>0.0</td>\n",
       "      <td>0.0</td>\n",
       "    </tr>\n",
       "    <tr>\n",
       "      <th>2014-01-05</th>\n",
       "      <td>14</td>\n",
       "      <td>22</td>\n",
       "      <td>19</td>\n",
       "      <td>10</td>\n",
       "      <td>11</td>\n",
       "      <td>9</td>\n",
       "      <td>13</td>\n",
       "      <td>2</td>\n",
       "      <td>1</td>\n",
       "      <td>0</td>\n",
       "      <td>NaN</td>\n",
       "      <td>0.0</td>\n",
       "      <td>2.0</td>\n",
       "      <td>1.0</td>\n",
       "    </tr>\n",
       "  </tbody>\n",
       "</table>\n",
       "</div>"
      ],
      "text/plain": [
       "            BURGLARY  COMMON ASSAULT  LARCENY  ROBBERY - STREET  AUTO THEFT  \\\n",
       "2014-01-01        20              19       34                 8           9   \n",
       "2014-01-02        28              23       26                 4           7   \n",
       "2014-01-03        13              17       16                 2           3   \n",
       "2014-01-04        20              23       23                 7          14   \n",
       "2014-01-05        14              22       19                10          11   \n",
       "\n",
       "            AGG. ASSAULT  LARCENY FROM AUTO  SHOOTING  ROBBERY - RESIDENCE  \\\n",
       "2014-01-01            22                 15         2                    1   \n",
       "2014-01-02             6                 10         0                    1   \n",
       "2014-01-03            11                  6         1                    1   \n",
       "2014-01-04            14                 15         0                    1   \n",
       "2014-01-05             9                 13         2                    1   \n",
       "\n",
       "            ROBBERY - COMMERCIAL  ARSON  HOMICIDE  ROBBERY - CARJACKING  RAPE  \n",
       "2014-01-01                     2    NaN       2.0                   NaN   4.0  \n",
       "2014-01-02                     1    NaN       3.0                   1.0   0.0  \n",
       "2014-01-03                     1    NaN       1.0                   0.0   0.0  \n",
       "2014-01-04                     1    NaN       0.0                   0.0   0.0  \n",
       "2014-01-05                     0    NaN       0.0                   2.0   1.0  "
      ]
     },
     "execution_count": 102,
     "metadata": {},
     "output_type": "execute_result"
    }
   ],
   "source": [
    "## Save all crimes from 2014 on with freq=D\n",
    "TS = {}\n",
    "\n",
    "for crime,ts in CRIMES.items():\n",
    "    \n",
    "    TS[crime] = ts.sort_index().loc['2014':].resample('D').sum()\n",
    "    \n",
    "ts_df = pd.concat(TS,axis=1)\n",
    "ts_df.head()"
   ]
  },
  {
   "cell_type": "markdown",
   "metadata": {},
   "source": [
    "# ?"
   ]
  },
  {
   "cell_type": "code",
   "execution_count": 104,
   "metadata": {
    "ExecuteTime": {
     "end_time": "2020-10-15T01:33:23.886105Z",
     "start_time": "2020-10-15T01:33:23.880851Z"
    }
   },
   "outputs": [
    {
     "data": {
      "text/plain": [
       "BURGLARY                0\n",
       "COMMON ASSAULT          0\n",
       "LARCENY                 0\n",
       "ROBBERY - STREET        0\n",
       "AUTO THEFT              0\n",
       "AGG. ASSAULT            0\n",
       "LARCENY FROM AUTO       0\n",
       "SHOOTING                0\n",
       "ROBBERY - RESIDENCE     0\n",
       "ROBBERY - COMMERCIAL    0\n",
       "ARSON                   6\n",
       "HOMICIDE                2\n",
       "ROBBERY - CARJACKING    4\n",
       "RAPE                    6\n",
       "dtype: int64"
      ]
     },
     "execution_count": 104,
     "metadata": {},
     "output_type": "execute_result"
    }
   ],
   "source": [
    "## Check For Null Values\n",
    "ts_df.isna().sum()"
   ]
  },
  {
   "cell_type": "code",
   "execution_count": 106,
   "metadata": {
    "ExecuteTime": {
     "end_time": "2020-10-15T01:33:47.054760Z",
     "start_time": "2020-10-15T01:33:47.038058Z"
    }
   },
   "outputs": [
    {
     "data": {
      "text/html": [
       "<div>\n",
       "<style scoped>\n",
       "    .dataframe tbody tr th:only-of-type {\n",
       "        vertical-align: middle;\n",
       "    }\n",
       "\n",
       "    .dataframe tbody tr th {\n",
       "        vertical-align: top;\n",
       "    }\n",
       "\n",
       "    .dataframe thead th {\n",
       "        text-align: right;\n",
       "    }\n",
       "</style>\n",
       "<table border=\"1\" class=\"dataframe\">\n",
       "  <thead>\n",
       "    <tr style=\"text-align: right;\">\n",
       "      <th></th>\n",
       "      <th>BURGLARY</th>\n",
       "      <th>COMMON ASSAULT</th>\n",
       "      <th>LARCENY</th>\n",
       "      <th>ROBBERY - STREET</th>\n",
       "      <th>AUTO THEFT</th>\n",
       "      <th>AGG. ASSAULT</th>\n",
       "      <th>LARCENY FROM AUTO</th>\n",
       "      <th>SHOOTING</th>\n",
       "      <th>ROBBERY - RESIDENCE</th>\n",
       "      <th>ROBBERY - COMMERCIAL</th>\n",
       "      <th>ARSON</th>\n",
       "      <th>HOMICIDE</th>\n",
       "      <th>ROBBERY - CARJACKING</th>\n",
       "      <th>RAPE</th>\n",
       "    </tr>\n",
       "  </thead>\n",
       "  <tbody>\n",
       "    <tr>\n",
       "      <th>2014-01-01</th>\n",
       "      <td>20</td>\n",
       "      <td>19</td>\n",
       "      <td>34</td>\n",
       "      <td>8</td>\n",
       "      <td>9</td>\n",
       "      <td>22</td>\n",
       "      <td>15</td>\n",
       "      <td>2</td>\n",
       "      <td>1</td>\n",
       "      <td>2</td>\n",
       "      <td>NaN</td>\n",
       "      <td>2.0</td>\n",
       "      <td>NaN</td>\n",
       "      <td>4.0</td>\n",
       "    </tr>\n",
       "    <tr>\n",
       "      <th>2014-01-02</th>\n",
       "      <td>28</td>\n",
       "      <td>23</td>\n",
       "      <td>26</td>\n",
       "      <td>4</td>\n",
       "      <td>7</td>\n",
       "      <td>6</td>\n",
       "      <td>10</td>\n",
       "      <td>0</td>\n",
       "      <td>1</td>\n",
       "      <td>1</td>\n",
       "      <td>NaN</td>\n",
       "      <td>3.0</td>\n",
       "      <td>1.0</td>\n",
       "      <td>0.0</td>\n",
       "    </tr>\n",
       "    <tr>\n",
       "      <th>2014-01-03</th>\n",
       "      <td>13</td>\n",
       "      <td>17</td>\n",
       "      <td>16</td>\n",
       "      <td>2</td>\n",
       "      <td>3</td>\n",
       "      <td>11</td>\n",
       "      <td>6</td>\n",
       "      <td>1</td>\n",
       "      <td>1</td>\n",
       "      <td>1</td>\n",
       "      <td>NaN</td>\n",
       "      <td>1.0</td>\n",
       "      <td>0.0</td>\n",
       "      <td>0.0</td>\n",
       "    </tr>\n",
       "    <tr>\n",
       "      <th>2014-01-04</th>\n",
       "      <td>20</td>\n",
       "      <td>23</td>\n",
       "      <td>23</td>\n",
       "      <td>7</td>\n",
       "      <td>14</td>\n",
       "      <td>14</td>\n",
       "      <td>15</td>\n",
       "      <td>0</td>\n",
       "      <td>1</td>\n",
       "      <td>1</td>\n",
       "      <td>NaN</td>\n",
       "      <td>0.0</td>\n",
       "      <td>0.0</td>\n",
       "      <td>0.0</td>\n",
       "    </tr>\n",
       "    <tr>\n",
       "      <th>2014-01-05</th>\n",
       "      <td>14</td>\n",
       "      <td>22</td>\n",
       "      <td>19</td>\n",
       "      <td>10</td>\n",
       "      <td>11</td>\n",
       "      <td>9</td>\n",
       "      <td>13</td>\n",
       "      <td>2</td>\n",
       "      <td>1</td>\n",
       "      <td>0</td>\n",
       "      <td>NaN</td>\n",
       "      <td>0.0</td>\n",
       "      <td>2.0</td>\n",
       "      <td>1.0</td>\n",
       "    </tr>\n",
       "    <tr>\n",
       "      <th>2020-04-20</th>\n",
       "      <td>11</td>\n",
       "      <td>12</td>\n",
       "      <td>13</td>\n",
       "      <td>5</td>\n",
       "      <td>6</td>\n",
       "      <td>14</td>\n",
       "      <td>17</td>\n",
       "      <td>2</td>\n",
       "      <td>1</td>\n",
       "      <td>0</td>\n",
       "      <td>0.0</td>\n",
       "      <td>0.0</td>\n",
       "      <td>0.0</td>\n",
       "      <td>NaN</td>\n",
       "    </tr>\n",
       "    <tr>\n",
       "      <th>2020-04-21</th>\n",
       "      <td>12</td>\n",
       "      <td>6</td>\n",
       "      <td>8</td>\n",
       "      <td>5</td>\n",
       "      <td>7</td>\n",
       "      <td>11</td>\n",
       "      <td>8</td>\n",
       "      <td>3</td>\n",
       "      <td>0</td>\n",
       "      <td>1</td>\n",
       "      <td>2.0</td>\n",
       "      <td>1.0</td>\n",
       "      <td>0.0</td>\n",
       "      <td>NaN</td>\n",
       "    </tr>\n",
       "    <tr>\n",
       "      <th>2020-04-22</th>\n",
       "      <td>7</td>\n",
       "      <td>15</td>\n",
       "      <td>12</td>\n",
       "      <td>5</td>\n",
       "      <td>6</td>\n",
       "      <td>15</td>\n",
       "      <td>5</td>\n",
       "      <td>5</td>\n",
       "      <td>0</td>\n",
       "      <td>2</td>\n",
       "      <td>0.0</td>\n",
       "      <td>1.0</td>\n",
       "      <td>1.0</td>\n",
       "      <td>NaN</td>\n",
       "    </tr>\n",
       "    <tr>\n",
       "      <th>2020-04-23</th>\n",
       "      <td>8</td>\n",
       "      <td>8</td>\n",
       "      <td>13</td>\n",
       "      <td>6</td>\n",
       "      <td>4</td>\n",
       "      <td>6</td>\n",
       "      <td>7</td>\n",
       "      <td>0</td>\n",
       "      <td>2</td>\n",
       "      <td>4</td>\n",
       "      <td>0.0</td>\n",
       "      <td>1.0</td>\n",
       "      <td>NaN</td>\n",
       "      <td>NaN</td>\n",
       "    </tr>\n",
       "    <tr>\n",
       "      <th>2020-04-24</th>\n",
       "      <td>13</td>\n",
       "      <td>13</td>\n",
       "      <td>11</td>\n",
       "      <td>6</td>\n",
       "      <td>10</td>\n",
       "      <td>6</td>\n",
       "      <td>9</td>\n",
       "      <td>1</td>\n",
       "      <td>0</td>\n",
       "      <td>0</td>\n",
       "      <td>1.0</td>\n",
       "      <td>NaN</td>\n",
       "      <td>NaN</td>\n",
       "      <td>NaN</td>\n",
       "    </tr>\n",
       "    <tr>\n",
       "      <th>2020-04-25</th>\n",
       "      <td>16</td>\n",
       "      <td>15</td>\n",
       "      <td>9</td>\n",
       "      <td>5</td>\n",
       "      <td>9</td>\n",
       "      <td>11</td>\n",
       "      <td>5</td>\n",
       "      <td>1</td>\n",
       "      <td>1</td>\n",
       "      <td>1</td>\n",
       "      <td>NaN</td>\n",
       "      <td>NaN</td>\n",
       "      <td>NaN</td>\n",
       "      <td>NaN</td>\n",
       "    </tr>\n",
       "  </tbody>\n",
       "</table>\n",
       "</div>"
      ],
      "text/plain": [
       "            BURGLARY  COMMON ASSAULT  LARCENY  ROBBERY - STREET  AUTO THEFT  \\\n",
       "2014-01-01        20              19       34                 8           9   \n",
       "2014-01-02        28              23       26                 4           7   \n",
       "2014-01-03        13              17       16                 2           3   \n",
       "2014-01-04        20              23       23                 7          14   \n",
       "2014-01-05        14              22       19                10          11   \n",
       "2020-04-20        11              12       13                 5           6   \n",
       "2020-04-21        12               6        8                 5           7   \n",
       "2020-04-22         7              15       12                 5           6   \n",
       "2020-04-23         8               8       13                 6           4   \n",
       "2020-04-24        13              13       11                 6          10   \n",
       "2020-04-25        16              15        9                 5           9   \n",
       "\n",
       "            AGG. ASSAULT  LARCENY FROM AUTO  SHOOTING  ROBBERY - RESIDENCE  \\\n",
       "2014-01-01            22                 15         2                    1   \n",
       "2014-01-02             6                 10         0                    1   \n",
       "2014-01-03            11                  6         1                    1   \n",
       "2014-01-04            14                 15         0                    1   \n",
       "2014-01-05             9                 13         2                    1   \n",
       "2020-04-20            14                 17         2                    1   \n",
       "2020-04-21            11                  8         3                    0   \n",
       "2020-04-22            15                  5         5                    0   \n",
       "2020-04-23             6                  7         0                    2   \n",
       "2020-04-24             6                  9         1                    0   \n",
       "2020-04-25            11                  5         1                    1   \n",
       "\n",
       "            ROBBERY - COMMERCIAL  ARSON  HOMICIDE  ROBBERY - CARJACKING  RAPE  \n",
       "2014-01-01                     2    NaN       2.0                   NaN   4.0  \n",
       "2014-01-02                     1    NaN       3.0                   1.0   0.0  \n",
       "2014-01-03                     1    NaN       1.0                   0.0   0.0  \n",
       "2014-01-04                     1    NaN       0.0                   0.0   0.0  \n",
       "2014-01-05                     0    NaN       0.0                   2.0   1.0  \n",
       "2020-04-20                     0    0.0       0.0                   0.0   NaN  \n",
       "2020-04-21                     1    2.0       1.0                   0.0   NaN  \n",
       "2020-04-22                     2    0.0       1.0                   1.0   NaN  \n",
       "2020-04-23                     4    0.0       1.0                   NaN   NaN  \n",
       "2020-04-24                     0    1.0       NaN                   NaN   NaN  \n",
       "2020-04-25                     1    NaN       NaN                   NaN   NaN  "
      ]
     },
     "execution_count": 106,
     "metadata": {},
     "output_type": "execute_result"
    }
   ],
   "source": [
    "## Show rows with null values\n",
    "ts_df[ts_df.isna().sum(axis=1)>0]"
   ]
  },
  {
   "cell_type": "markdown",
   "metadata": {},
   "source": [
    "> More columns would benefit from ffill than bfill so we are going to ffill and then dropna to remove the few days at the beginning of 2014 without data"
   ]
  },
  {
   "cell_type": "code",
   "execution_count": 109,
   "metadata": {
    "ExecuteTime": {
     "end_time": "2020-10-15T01:35:47.027491Z",
     "start_time": "2020-10-15T01:35:47.021702Z"
    }
   },
   "outputs": [
    {
     "data": {
      "text/plain": [
       "BURGLARY                0\n",
       "COMMON ASSAULT          0\n",
       "LARCENY                 0\n",
       "ROBBERY - STREET        0\n",
       "AUTO THEFT              0\n",
       "AGG. ASSAULT            0\n",
       "LARCENY FROM AUTO       0\n",
       "SHOOTING                0\n",
       "ROBBERY - RESIDENCE     0\n",
       "ROBBERY - COMMERCIAL    0\n",
       "ARSON                   5\n",
       "HOMICIDE                0\n",
       "ROBBERY - CARJACKING    1\n",
       "RAPE                    0\n",
       "dtype: int64"
      ]
     },
     "execution_count": 109,
     "metadata": {},
     "output_type": "execute_result"
    }
   ],
   "source": [
    "## FFill null values\n",
    "ts_df.ffill(inplace=True)\n",
    "ts_df.isna().sum()"
   ]
  },
  {
   "cell_type": "code",
   "execution_count": 110,
   "metadata": {
    "ExecuteTime": {
     "end_time": "2020-10-15T01:36:17.397400Z",
     "start_time": "2020-10-15T01:36:17.378799Z"
    }
   },
   "outputs": [
    {
     "data": {
      "text/html": [
       "<div>\n",
       "<style scoped>\n",
       "    .dataframe tbody tr th:only-of-type {\n",
       "        vertical-align: middle;\n",
       "    }\n",
       "\n",
       "    .dataframe tbody tr th {\n",
       "        vertical-align: top;\n",
       "    }\n",
       "\n",
       "    .dataframe thead th {\n",
       "        text-align: right;\n",
       "    }\n",
       "</style>\n",
       "<table border=\"1\" class=\"dataframe\">\n",
       "  <thead>\n",
       "    <tr style=\"text-align: right;\">\n",
       "      <th></th>\n",
       "      <th>BURGLARY</th>\n",
       "      <th>COMMON ASSAULT</th>\n",
       "      <th>LARCENY</th>\n",
       "      <th>ROBBERY - STREET</th>\n",
       "      <th>AUTO THEFT</th>\n",
       "      <th>AGG. ASSAULT</th>\n",
       "      <th>LARCENY FROM AUTO</th>\n",
       "      <th>SHOOTING</th>\n",
       "      <th>ROBBERY - RESIDENCE</th>\n",
       "      <th>ROBBERY - COMMERCIAL</th>\n",
       "      <th>ARSON</th>\n",
       "      <th>HOMICIDE</th>\n",
       "      <th>ROBBERY - CARJACKING</th>\n",
       "      <th>RAPE</th>\n",
       "    </tr>\n",
       "  </thead>\n",
       "  <tbody>\n",
       "    <tr>\n",
       "      <th>2014-01-06</th>\n",
       "      <td>26</td>\n",
       "      <td>23</td>\n",
       "      <td>37</td>\n",
       "      <td>6</td>\n",
       "      <td>5</td>\n",
       "      <td>3</td>\n",
       "      <td>11</td>\n",
       "      <td>0</td>\n",
       "      <td>1</td>\n",
       "      <td>0</td>\n",
       "      <td>2.0</td>\n",
       "      <td>2.0</td>\n",
       "      <td>0.0</td>\n",
       "      <td>1.0</td>\n",
       "    </tr>\n",
       "    <tr>\n",
       "      <th>2014-01-07</th>\n",
       "      <td>12</td>\n",
       "      <td>12</td>\n",
       "      <td>32</td>\n",
       "      <td>2</td>\n",
       "      <td>11</td>\n",
       "      <td>3</td>\n",
       "      <td>11</td>\n",
       "      <td>0</td>\n",
       "      <td>0</td>\n",
       "      <td>1</td>\n",
       "      <td>0.0</td>\n",
       "      <td>0.0</td>\n",
       "      <td>0.0</td>\n",
       "      <td>2.0</td>\n",
       "    </tr>\n",
       "    <tr>\n",
       "      <th>2014-01-08</th>\n",
       "      <td>24</td>\n",
       "      <td>26</td>\n",
       "      <td>23</td>\n",
       "      <td>6</td>\n",
       "      <td>12</td>\n",
       "      <td>9</td>\n",
       "      <td>12</td>\n",
       "      <td>1</td>\n",
       "      <td>1</td>\n",
       "      <td>0</td>\n",
       "      <td>0.0</td>\n",
       "      <td>1.0</td>\n",
       "      <td>1.0</td>\n",
       "      <td>0.0</td>\n",
       "    </tr>\n",
       "    <tr>\n",
       "      <th>2014-01-09</th>\n",
       "      <td>25</td>\n",
       "      <td>20</td>\n",
       "      <td>46</td>\n",
       "      <td>9</td>\n",
       "      <td>5</td>\n",
       "      <td>11</td>\n",
       "      <td>9</td>\n",
       "      <td>1</td>\n",
       "      <td>3</td>\n",
       "      <td>1</td>\n",
       "      <td>0.0</td>\n",
       "      <td>1.0</td>\n",
       "      <td>0.0</td>\n",
       "      <td>0.0</td>\n",
       "    </tr>\n",
       "    <tr>\n",
       "      <th>2014-01-10</th>\n",
       "      <td>22</td>\n",
       "      <td>27</td>\n",
       "      <td>33</td>\n",
       "      <td>11</td>\n",
       "      <td>9</td>\n",
       "      <td>9</td>\n",
       "      <td>24</td>\n",
       "      <td>0</td>\n",
       "      <td>0</td>\n",
       "      <td>1</td>\n",
       "      <td>0.0</td>\n",
       "      <td>3.0</td>\n",
       "      <td>2.0</td>\n",
       "      <td>0.0</td>\n",
       "    </tr>\n",
       "    <tr>\n",
       "      <th>...</th>\n",
       "      <td>...</td>\n",
       "      <td>...</td>\n",
       "      <td>...</td>\n",
       "      <td>...</td>\n",
       "      <td>...</td>\n",
       "      <td>...</td>\n",
       "      <td>...</td>\n",
       "      <td>...</td>\n",
       "      <td>...</td>\n",
       "      <td>...</td>\n",
       "      <td>...</td>\n",
       "      <td>...</td>\n",
       "      <td>...</td>\n",
       "      <td>...</td>\n",
       "    </tr>\n",
       "    <tr>\n",
       "      <th>2020-04-21</th>\n",
       "      <td>12</td>\n",
       "      <td>6</td>\n",
       "      <td>8</td>\n",
       "      <td>5</td>\n",
       "      <td>7</td>\n",
       "      <td>11</td>\n",
       "      <td>8</td>\n",
       "      <td>3</td>\n",
       "      <td>0</td>\n",
       "      <td>1</td>\n",
       "      <td>2.0</td>\n",
       "      <td>1.0</td>\n",
       "      <td>0.0</td>\n",
       "      <td>1.0</td>\n",
       "    </tr>\n",
       "    <tr>\n",
       "      <th>2020-04-22</th>\n",
       "      <td>7</td>\n",
       "      <td>15</td>\n",
       "      <td>12</td>\n",
       "      <td>5</td>\n",
       "      <td>6</td>\n",
       "      <td>15</td>\n",
       "      <td>5</td>\n",
       "      <td>5</td>\n",
       "      <td>0</td>\n",
       "      <td>2</td>\n",
       "      <td>0.0</td>\n",
       "      <td>1.0</td>\n",
       "      <td>1.0</td>\n",
       "      <td>1.0</td>\n",
       "    </tr>\n",
       "    <tr>\n",
       "      <th>2020-04-23</th>\n",
       "      <td>8</td>\n",
       "      <td>8</td>\n",
       "      <td>13</td>\n",
       "      <td>6</td>\n",
       "      <td>4</td>\n",
       "      <td>6</td>\n",
       "      <td>7</td>\n",
       "      <td>0</td>\n",
       "      <td>2</td>\n",
       "      <td>4</td>\n",
       "      <td>0.0</td>\n",
       "      <td>1.0</td>\n",
       "      <td>1.0</td>\n",
       "      <td>1.0</td>\n",
       "    </tr>\n",
       "    <tr>\n",
       "      <th>2020-04-24</th>\n",
       "      <td>13</td>\n",
       "      <td>13</td>\n",
       "      <td>11</td>\n",
       "      <td>6</td>\n",
       "      <td>10</td>\n",
       "      <td>6</td>\n",
       "      <td>9</td>\n",
       "      <td>1</td>\n",
       "      <td>0</td>\n",
       "      <td>0</td>\n",
       "      <td>1.0</td>\n",
       "      <td>1.0</td>\n",
       "      <td>1.0</td>\n",
       "      <td>1.0</td>\n",
       "    </tr>\n",
       "    <tr>\n",
       "      <th>2020-04-25</th>\n",
       "      <td>16</td>\n",
       "      <td>15</td>\n",
       "      <td>9</td>\n",
       "      <td>5</td>\n",
       "      <td>9</td>\n",
       "      <td>11</td>\n",
       "      <td>5</td>\n",
       "      <td>1</td>\n",
       "      <td>1</td>\n",
       "      <td>1</td>\n",
       "      <td>1.0</td>\n",
       "      <td>1.0</td>\n",
       "      <td>1.0</td>\n",
       "      <td>1.0</td>\n",
       "    </tr>\n",
       "  </tbody>\n",
       "</table>\n",
       "<p>2302 rows × 14 columns</p>\n",
       "</div>"
      ],
      "text/plain": [
       "            BURGLARY  COMMON ASSAULT  LARCENY  ROBBERY - STREET  AUTO THEFT  \\\n",
       "2014-01-06        26              23       37                 6           5   \n",
       "2014-01-07        12              12       32                 2          11   \n",
       "2014-01-08        24              26       23                 6          12   \n",
       "2014-01-09        25              20       46                 9           5   \n",
       "2014-01-10        22              27       33                11           9   \n",
       "...              ...             ...      ...               ...         ...   \n",
       "2020-04-21        12               6        8                 5           7   \n",
       "2020-04-22         7              15       12                 5           6   \n",
       "2020-04-23         8               8       13                 6           4   \n",
       "2020-04-24        13              13       11                 6          10   \n",
       "2020-04-25        16              15        9                 5           9   \n",
       "\n",
       "            AGG. ASSAULT  LARCENY FROM AUTO  SHOOTING  ROBBERY - RESIDENCE  \\\n",
       "2014-01-06             3                 11         0                    1   \n",
       "2014-01-07             3                 11         0                    0   \n",
       "2014-01-08             9                 12         1                    1   \n",
       "2014-01-09            11                  9         1                    3   \n",
       "2014-01-10             9                 24         0                    0   \n",
       "...                  ...                ...       ...                  ...   \n",
       "2020-04-21            11                  8         3                    0   \n",
       "2020-04-22            15                  5         5                    0   \n",
       "2020-04-23             6                  7         0                    2   \n",
       "2020-04-24             6                  9         1                    0   \n",
       "2020-04-25            11                  5         1                    1   \n",
       "\n",
       "            ROBBERY - COMMERCIAL  ARSON  HOMICIDE  ROBBERY - CARJACKING  RAPE  \n",
       "2014-01-06                     0    2.0       2.0                   0.0   1.0  \n",
       "2014-01-07                     1    0.0       0.0                   0.0   2.0  \n",
       "2014-01-08                     0    0.0       1.0                   1.0   0.0  \n",
       "2014-01-09                     1    0.0       1.0                   0.0   0.0  \n",
       "2014-01-10                     1    0.0       3.0                   2.0   0.0  \n",
       "...                          ...    ...       ...                   ...   ...  \n",
       "2020-04-21                     1    2.0       1.0                   0.0   1.0  \n",
       "2020-04-22                     2    0.0       1.0                   1.0   1.0  \n",
       "2020-04-23                     4    0.0       1.0                   1.0   1.0  \n",
       "2020-04-24                     0    1.0       1.0                   1.0   1.0  \n",
       "2020-04-25                     1    1.0       1.0                   1.0   1.0  \n",
       "\n",
       "[2302 rows x 14 columns]"
      ]
     },
     "execution_count": 110,
     "metadata": {},
     "output_type": "execute_result"
    }
   ],
   "source": [
    "## Drop remaining nulls\n",
    "ts_df.dropna(inplace=True)\n",
    "ts_df"
   ]
  },
  {
   "cell_type": "code",
   "execution_count": 114,
   "metadata": {
    "ExecuteTime": {
     "end_time": "2020-10-15T01:36:52.159331Z",
     "start_time": "2020-10-15T01:36:52.154176Z"
    }
   },
   "outputs": [
    {
     "data": {
      "text/plain": [
       "BURGLARY                0\n",
       "COMMON ASSAULT          0\n",
       "LARCENY                 0\n",
       "ROBBERY - STREET        0\n",
       "AUTO THEFT              0\n",
       "AGG. ASSAULT            0\n",
       "LARCENY FROM AUTO       0\n",
       "SHOOTING                0\n",
       "ROBBERY - RESIDENCE     0\n",
       "ROBBERY - COMMERCIAL    0\n",
       "ARSON                   0\n",
       "HOMICIDE                0\n",
       "ROBBERY - CARJACKING    0\n",
       "RAPE                    0\n",
       "dtype: int64"
      ]
     },
     "execution_count": 114,
     "metadata": {},
     "output_type": "execute_result"
    }
   ],
   "source": [
    "ts_df.isna().sum()"
   ]
  },
  {
   "cell_type": "code",
   "execution_count": 111,
   "metadata": {
    "ExecuteTime": {
     "end_time": "2020-10-15T01:36:37.288152Z",
     "start_time": "2020-10-15T01:36:37.283004Z"
    }
   },
   "outputs": [
    {
     "data": {
      "text/plain": [
       "Index(['ARSON', 'HOMICIDE', 'ROBBERY - CARJACKING', 'RAPE'], dtype='object')"
      ]
     },
     "execution_count": 111,
     "metadata": {},
     "output_type": "execute_result"
    }
   ],
   "source": [
    "null_acols = ts_df.columns[ts_df.isna().sum()>0]\n",
    "null_cols"
   ]
  },
  {
   "cell_type": "code",
   "execution_count": 115,
   "metadata": {
    "ExecuteTime": {
     "end_time": "2020-10-15T01:42:21.515313Z",
     "start_time": "2020-10-15T01:42:21.510076Z"
    }
   },
   "outputs": [
    {
     "data": {
      "text/plain": [
       "2014-01-06    2.0\n",
       "2014-01-07    0.0\n",
       "2014-01-08    0.0\n",
       "2014-01-09    0.0\n",
       "2014-01-10    0.0\n",
       "             ... \n",
       "2020-04-21    2.0\n",
       "2020-04-22    0.0\n",
       "2020-04-23    0.0\n",
       "2020-04-24    1.0\n",
       "2020-04-25    1.0\n",
       "Freq: D, Name: ARSON, Length: 2302, dtype: float64"
      ]
     },
     "execution_count": 115,
     "metadata": {},
     "output_type": "execute_result"
    }
   ],
   "source": [
    "ts_df['ARSON']"
   ]
  },
  {
   "cell_type": "code",
   "execution_count": 116,
   "metadata": {
    "ExecuteTime": {
     "end_time": "2020-10-15T01:42:35.811237Z",
     "start_time": "2020-10-15T01:42:35.776527Z"
    }
   },
   "outputs": [],
   "source": [
    "## Save df to csv for time series modeling next class\n",
    "ts_df.to_csv('baltimore_crime_2020_ts_070620ft.csv')"
   ]
  },
  {
   "cell_type": "code",
   "execution_count": 117,
   "metadata": {
    "ExecuteTime": {
     "end_time": "2020-10-15T01:42:55.898134Z",
     "start_time": "2020-10-15T01:42:55.633044Z"
    }
   },
   "outputs": [
    {
     "data": {
      "text/plain": [
       "[Text(0, 0.5, '# of Crimes'), Text(0.5, 0, 'Year by Day')]"
      ]
     },
     "execution_count": 117,
     "metadata": {},
     "output_type": "execute_result"
    },
    {
     "data": {
      "image/png": "[encoded data removed]",
      "text/plain": [
       "<Figure size 864x432 with 1 Axes>"
      ]
     },
     "metadata": {
      "needs_background": "light"
     },
     "output_type": "display_data"
    }
   ],
   "source": [
    "ax = ts_df.loc['2017':,'BURGLARY'].plot()\n",
    "ax.legend(bbox_to_anchor=(1.05,1),loc='upper left')\n",
    "ax.set(ylabel='# of Crimes',xlabel='Year by Day')"
   ]
  },
  {
   "cell_type": "markdown",
   "metadata": {},
   "source": [
    "## Time series Frequencies\n"
   ]
  },
  {
   "cell_type": "code",
   "execution_count": 132,
   "metadata": {
    "ExecuteTime": {
     "end_time": "2020-10-15T01:46:22.324279Z",
     "start_time": "2020-10-15T01:46:22.321758Z"
    },
    "scrolled": true
   },
   "outputs": [],
   "source": [
    "CRIMES['AUTO THEFT'].index.freq"
   ]
  },
  {
   "cell_type": "code",
   "execution_count": 134,
   "metadata": {
    "ExecuteTime": {
     "end_time": "2020-10-15T01:46:29.336024Z",
     "start_time": "2020-10-15T01:46:29.332295Z"
    }
   },
   "outputs": [
    {
     "data": {
      "text/plain": [
       "<Day>"
      ]
     },
     "execution_count": 134,
     "metadata": {},
     "output_type": "execute_result"
    }
   ],
   "source": [
    "TS['AUTO THEFT'].index.freq"
   ]
  },
  {
   "cell_type": "markdown",
   "metadata": {},
   "source": [
    "### Pandas Frequency Aliases\n"
   ]
  },
  {
   "cell_type": "markdown",
   "metadata": {},
   "source": [
    "https://pandas.pydata.org/pandas-docs/stable/user_guide/timeseries.html#timeseries-offset-aliases\n",
    "\n",
    "\n",
    "|Alias\t| Description|\n",
    "| --- | --- |\n",
    "|B |\tbusiness day frequency|\n",
    "|C |\tcustom business day frequency|\n",
    "|D |\tcalendar day frequency|\n",
    "|W |\tweekly frequency|\n",
    "|M |\tmonth end frequency|\n",
    "|SM |\tsemi-month end frequency (15th and end of month)|\n",
    "|BM |\tbusiness month end frequency|\n",
    "|CBM |\tcustom business month end frequency|\n",
    "|MS |\tmonth start frequency|\n",
    "|SMS |\tsemi-month start frequency (1st and 15th)|\n",
    "|BMS |\tbusiness month start frequency|\n",
    "|CBMS |\tcustom business month start frequency|\n",
    "|Q |\tquarter end frequency|\n",
    "|BQ |\tbusiness quarter end frequency|\n",
    "|QS |\tquarter start frequency|\n",
    "|BQS |\tbusiness quarter start frequency|\n",
    "|A, Y |\tyear end frequency|\n",
    "|BA, BY |\tbusiness year end frequency|\n",
    "|AS, YS |\tyear start frequency|\n",
    "|BAS, BYS |\tbusiness year start frequency|\n",
    "|BH | business hour frequency|\n",
    "|H | hourly frequency|\n",
    "|T |  min\tminutely frequency|\n",
    "|S | secondly frequency|\n",
    "|L |  ms\tmilliseconds|\n",
    "|U |  us\tmicroseconds|\n",
    "|N | nanoseconds|"
   ]
  },
  {
   "cell_type": "code",
   "execution_count": null,
   "metadata": {
    "ExecuteTime": {
     "end_time": "2020-10-15T00:58:06.000040Z",
     "start_time": "2020-10-15T00:58:03.299540Z"
    },
    "scrolled": false
   },
   "outputs": [],
   "source": [
    "## Plot the same ts as different frequencies\n",
    "freq_codes = ['D','3D','W','M','Q']\n",
    "\n",
    "for freq in freq_codes:\n",
    "    plt.figure()\n",
    "    title= f\"Freq Code = {freq}\"\n",
    "    ax = plt.gca()\n",
    "    for crime,ts in TS.items():\n",
    "        ts.resample(freq).sum().plot(title=title)\n",
    "        \n",
    "    ax.legend(bbox_to_anchor=(1.05,1),loc='upper left')"
   ]
  },
  {
   "cell_type": "markdown",
   "metadata": {},
   "source": [
    "### BOOKMARK: Rolling"
   ]
  },
  {
   "cell_type": "code",
   "execution_count": null,
   "metadata": {
    "ExecuteTime": {
     "end_time": "2020-10-15T00:58:06.006978Z",
     "start_time": "2020-10-15T00:58:06.001721Z"
    }
   },
   "outputs": [],
   "source": [
    "TS['AGG. ASSAULT'][TS['AGG. ASSAULT'].idxmax()]"
   ]
  },
  {
   "cell_type": "code",
   "execution_count": null,
   "metadata": {
    "ExecuteTime": {
     "end_time": "2020-10-15T00:58:08.936534Z",
     "start_time": "2020-10-15T00:58:06.010144Z"
    }
   },
   "outputs": [],
   "source": [
    "## Plot the same ts as different frequencies\n",
    "# freq_codes = ['D','3D','W','M','Q']\n",
    "windows = [3,5,7,10,14]\n",
    "for window in windows:\n",
    "    plt.figure()\n",
    "    title= f\"Window = {window}\"\n",
    "    ax = plt.gca()\n",
    "    for crime,ts in TS.items():\n",
    "        ts.rolling(window).mean().plot(title=title)\n",
    "        \n",
    "    ax.legend(bbox_to_anchor=(1.05,1),loc='upper left')"
   ]
  },
  {
   "cell_type": "code",
   "execution_count": null,
   "metadata": {
    "ExecuteTime": {
     "end_time": "2020-10-15T00:58:08.943769Z",
     "start_time": "2020-10-15T00:58:08.938216Z"
    }
   },
   "outputs": [],
   "source": [
    "ts = TS['SHOOTING']\n",
    "ts"
   ]
  },
  {
   "cell_type": "code",
   "execution_count": null,
   "metadata": {
    "ExecuteTime": {
     "end_time": "2020-10-15T00:58:09.647137Z",
     "start_time": "2020-10-15T00:58:08.946309Z"
    },
    "scrolled": true
   },
   "outputs": [],
   "source": [
    "pd.concat(TS,axis=1).plot()"
   ]
  },
  {
   "cell_type": "code",
   "execution_count": null,
   "metadata": {
    "ExecuteTime": {
     "end_time": "2020-10-15T00:58:09.650440Z",
     "start_time": "2020-10-15T00:58:09.648625Z"
    }
   },
   "outputs": [],
   "source": [
    "# year_groups = ts.groupby(pd.Grouper(freq ='A'))\n",
    "# year_groups.plot()"
   ]
  },
  {
   "cell_type": "markdown",
   "metadata": {},
   "source": [
    "## Using Datetime objects and apply statemements"
   ]
  },
  {
   "cell_type": "markdown",
   "metadata": {},
   "source": [
    "# BOOKMARK 10/14\n",
    "X"
   ]
  },
  {
   "cell_type": "code",
   "execution_count": null,
   "metadata": {
    "ExecuteTime": {
     "end_time": "2020-10-15T00:58:10.104611Z",
     "start_time": "2020-10-15T00:58:09.652293Z"
    }
   },
   "outputs": [],
   "source": [
    "df_ = CRIMES['homicide'].reset_index().dropna()\n",
    "display(df_.head())\n",
    "df_.dtypes"
   ]
  },
  {
   "cell_type": "code",
   "execution_count": null,
   "metadata": {
    "ExecuteTime": {
     "end_time": "2020-10-15T00:58:10.106120Z",
     "start_time": "2020-10-15T00:57:30.944Z"
    }
   },
   "outputs": [],
   "source": [
    "df_['index'][0]"
   ]
  },
  {
   "cell_type": "code",
   "execution_count": null,
   "metadata": {
    "ExecuteTime": {
     "end_time": "2020-10-15T00:58:10.107149Z",
     "start_time": "2020-10-15T00:57:30.946Z"
    }
   },
   "outputs": [],
   "source": [
    "df_['index'].dt.year#.strftime('%y')"
   ]
  },
  {
   "cell_type": "code",
   "execution_count": null,
   "metadata": {
    "ExecuteTime": {
     "end_time": "2020-10-15T00:58:10.108135Z",
     "start_time": "2020-10-15T00:57:30.948Z"
    }
   },
   "outputs": [],
   "source": [
    "df_.isna().sum()"
   ]
  },
  {
   "cell_type": "code",
   "execution_count": null,
   "metadata": {
    "ExecuteTime": {
     "end_time": "2020-10-15T00:58:10.109248Z",
     "start_time": "2020-10-15T00:57:30.951Z"
    }
   },
   "outputs": [],
   "source": [
    "df_['index'].dt.year"
   ]
  },
  {
   "cell_type": "code",
   "execution_count": null,
   "metadata": {
    "ExecuteTime": {
     "end_time": "2020-10-15T00:58:10.110168Z",
     "start_time": "2020-10-15T00:57:30.953Z"
    }
   },
   "outputs": [],
   "source": [
    "df_['index'].map(lambda x: x.strftime('%Y'))"
   ]
  },
  {
   "cell_type": "code",
   "execution_count": null,
   "metadata": {
    "ExecuteTime": {
     "end_time": "2020-10-15T00:58:10.111178Z",
     "start_time": "2020-10-15T00:57:30.955Z"
    }
   },
   "outputs": [],
   "source": [
    "test = df_.loc[0,'index']\n",
    "test"
   ]
  },
  {
   "cell_type": "code",
   "execution_count": null,
   "metadata": {
    "ExecuteTime": {
     "end_time": "2020-10-15T00:58:10.112259Z",
     "start_time": "2020-10-15T00:57:30.957Z"
    }
   },
   "outputs": [],
   "source": [
    "test.strftime('%y')"
   ]
  },
  {
   "cell_type": "code",
   "execution_count": null,
   "metadata": {
    "ExecuteTime": {
     "end_time": "2020-10-15T00:58:10.113235Z",
     "start_time": "2020-10-15T00:57:30.959Z"
    }
   },
   "outputs": [],
   "source": [
    "help(test)"
   ]
  },
  {
   "cell_type": "markdown",
   "metadata": {},
   "source": [
    "### Date Str Formatting\n",
    "\n"
   ]
  },
  {
   "cell_type": "markdown",
   "metadata": {},
   "source": [
    "\n",
    "Formatting follows the Python datetime <strong><a href='http://strftime.org/'>strftime</a></strong> codes.<br>\n",
    "The following examples are based on <tt>datetime.datetime(2001, 2, 3, 16, 5, 6)</tt>:\n",
    "<br><br>\n",
    "\n",
    "<table style=\"display: inline-block\">  \n",
    "<tr><th>CODE</th><th>MEANING</th><th>EXAMPLE</th><tr>\n",
    "<tr><td>%Y</td><td>Year with century as a decimal number.</td><td>2001</td></tr>\n",
    "<tr><td>%y</td><td>Year without century as a zero-padded decimal number.</td><td>01</td></tr>\n",
    "<tr><td>%m</td><td>Month as a zero-padded decimal number.</td><td>02</td></tr>\n",
    "<tr><td>%B</td><td>Month as locale’s full name.</td><td>February</td></tr>\n",
    "<tr><td>%b</td><td>Month as locale’s abbreviated name.</td><td>Feb</td></tr>\n",
    "<tr><td>%d</td><td>Day of the month as a zero-padded decimal number.</td><td>03</td></tr>  \n",
    "<tr><td>%A</td><td>Weekday as locale’s full name.</td><td>Saturday</td></tr>\n",
    "<tr><td>%a</td><td>Weekday as locale’s abbreviated name.</td><td>Sat</td></tr>\n",
    "<tr><td>%H</td><td>Hour (24-hour clock) as a zero-padded decimal number.</td><td>16</td></tr>\n",
    "<tr><td>%I</td><td>Hour (12-hour clock) as a zero-padded decimal number.</td><td>04</td></tr>\n",
    "<tr><td>%p</td><td>Locale’s equivalent of either AM or PM.</td><td>PM</td></tr>\n",
    "<tr><td>%M</td><td>Minute as a zero-padded decimal number.</td><td>05</td></tr>\n",
    "<tr><td>%S</td><td>Second as a zero-padded decimal number.</td><td>06</td></tr>\n",
    "</table>\n",
    "<table style=\"display: inline-block\">\n",
    "<tr><th>CODE</th><th>MEANING</th><th>EXAMPLE</th><tr>\n",
    "<tr><td>%#m</td><td>Month as a decimal number. (Windows)</td><td>2</td></tr>\n",
    "<tr><td>%-m</td><td>Month as a decimal number. (Mac/Linux)</td><td>2</td></tr>\n",
    "<tr><td>%#x</td><td>Long date</td><td>Saturday, February 03, 2001</td></tr>\n",
    "<tr><td>%#c</td><td>Long date and time</td><td>Saturday, February 03, 2001 16:05:06</td></tr>\n",
    "</table>  \n",
    "    "
   ]
  },
  {
   "cell_type": "code",
   "execution_count": null,
   "metadata": {
    "ExecuteTime": {
     "end_time": "2020-10-15T00:58:10.114283Z",
     "start_time": "2020-10-15T00:57:30.962Z"
    }
   },
   "outputs": [],
   "source": [
    "test = ts.index[0]\n",
    "print(test)\n",
    "test\n"
   ]
  },
  {
   "cell_type": "code",
   "execution_count": null,
   "metadata": {
    "ExecuteTime": {
     "end_time": "2020-10-15T00:58:10.115420Z",
     "start_time": "2020-10-15T00:57:30.964Z"
    },
    "scrolled": true
   },
   "outputs": [],
   "source": [
    "print(test.strftime(\"%m-%d-%Y\"))\n",
    "print(test.strftime(\"%T\"))"
   ]
  },
  {
   "cell_type": "code",
   "execution_count": null,
   "metadata": {},
   "outputs": [],
   "source": []
  },
  {
   "cell_type": "code",
   "execution_count": null,
   "metadata": {},
   "outputs": [],
   "source": []
  },
  {
   "cell_type": "markdown",
   "metadata": {},
   "source": [
    "# Time Series Trends"
   ]
  },
  {
   "cell_type": "markdown",
   "metadata": {},
   "source": [
    "<img src=\"https://raw.githubusercontent.com/learn-co-students/dsc-removing-trends-online-ds-ft-100719/master/images/new_trendseasonal.png\" width=80%>"
   ]
  },
  {
   "cell_type": "markdown",
   "metadata": {},
   "source": [
    "### Stationarity"
   ]
  },
  {
   "cell_type": "markdown",
   "metadata": {},
   "source": [
    "<div style=\"text-align:center;font-size:2em\">Mean</div>\n",
    "    \n",
    "<img src=\"https://raw.githubusercontent.com/jirvingphd/dsc-types-of-trends-online-ds-ft-100719/master/images/new_mean_nonstationary.png\" width=70%>\n",
    "<br><br>\n",
    "<div style=\"text-align:center;font-size:3em\">Variance</div>\n",
    "<img src=\"https://raw.githubusercontent.com/jirvingphd/dsc-types-of-trends-online-ds-ft-100719/master/images/new_cov_nonstationary.png\" width=70%>\n",
    "</div>"
   ]
  },
  {
   "cell_type": "code",
   "execution_count": null,
   "metadata": {
    "ExecuteTime": {
     "end_time": "2020-10-15T00:58:10.116376Z",
     "start_time": "2020-10-15T00:57:30.970Z"
    }
   },
   "outputs": [],
   "source": [
    "## Lab Function\n",
    "def stationarity_check(TS,plot=True,col=None):\n",
    "    \"\"\"From: https://learn.co/tracks/data-science-career-v2/module-4-a-complete-data-science-project-using-multiple-regression/working-with-time-series-data/time-series-decomposition\n",
    "    \"\"\"\n",
    "    \n",
    "    # Import adfuller\n",
    "    from statsmodels.tsa.stattools import adfuller\n",
    "\n",
    "    if col is not None:\n",
    "        # Perform the Dickey Fuller Test\n",
    "        dftest = adfuller(TS[col]) # change the passengers column as required \n",
    "    else:\n",
    "        dftest=adfuller(TS)\n",
    " \n",
    "    if plot:\n",
    "        # Calculate rolling statistics\n",
    "        rolmean = TS.rolling(window = 8, center = False).mean()\n",
    "        rolstd = TS.rolling(window = 8, center = False).std()\n",
    "\n",
    "        #Plot rolling statistics:\n",
    "        fig = plt.figure(figsize=(12,6))\n",
    "        orig = plt.plot(TS, color='blue',label='Original')\n",
    "        mean = plt.plot(rolmean, color='red', label='Rolling Mean')\n",
    "        std = plt.plot(rolstd, color='black', label = 'Rolling Std')\n",
    "        plt.legend(loc='best')\n",
    "        plt.title('Rolling Mean & Standard Deviation')\n",
    "#     plt.show(block=False)\n",
    "    \n",
    "    # Print Dickey-Fuller test results\n",
    "    print ('Results of Dickey-Fuller Test:')\n",
    "\n",
    "    dfoutput = pd.Series(dftest[0:4],\n",
    "                         index=['Test Statistic','p-value','#Lags Used','Number of Observations Used'])\n",
    "    for key,value in dftest[4].items():\n",
    "        dfoutput['Critical Value (%s)'%key] = value\n",
    "        \n",
    "    dfoutput['sig'] = dfoutput['p-value']<.05\n",
    "    print (dfoutput)\n",
    "    \n",
    "    return dfoutput\n",
    "#     return dftest"
   ]
  },
  {
   "cell_type": "code",
   "execution_count": null,
   "metadata": {
    "ExecuteTime": {
     "end_time": "2020-10-15T00:58:10.117344Z",
     "start_time": "2020-10-15T00:57:30.972Z"
    }
   },
   "outputs": [],
   "source": [
    "ts = CRIMES['shooting']['shooting']\n",
    "ts = ts.resample('D').sum().asfreq('D')"
   ]
  },
  {
   "cell_type": "code",
   "execution_count": null,
   "metadata": {
    "ExecuteTime": {
     "end_time": "2020-10-15T00:58:10.118281Z",
     "start_time": "2020-10-15T00:57:30.974Z"
    }
   },
   "outputs": [],
   "source": [
    "res = stationarity_check(ts);"
   ]
  },
  {
   "cell_type": "code",
   "execution_count": null,
   "metadata": {
    "ExecuteTime": {
     "end_time": "2020-10-15T00:58:10.119225Z",
     "start_time": "2020-10-15T00:57:30.976Z"
    }
   },
   "outputs": [],
   "source": [
    "res"
   ]
  },
  {
   "cell_type": "code",
   "execution_count": null,
   "metadata": {
    "ExecuteTime": {
     "end_time": "2020-10-15T00:58:10.120157Z",
     "start_time": "2020-10-15T00:57:30.978Z"
    }
   },
   "outputs": [],
   "source": [
    "# ts_mean = ts.mean()"
   ]
  },
  {
   "cell_type": "code",
   "execution_count": null,
   "metadata": {
    "ExecuteTime": {
     "end_time": "2020-10-15T00:58:10.121102Z",
     "start_time": "2020-10-15T00:57:30.980Z"
    }
   },
   "outputs": [],
   "source": [
    "# ts_cleaned = ts_mean-ts_mean.rolling(7).mean()\n",
    "# ts_mean.plot()\n",
    "# ts_cleaned.plot()"
   ]
  },
  {
   "cell_type": "markdown",
   "metadata": {},
   "source": [
    "### Types of Trends"
   ]
  },
  {
   "cell_type": "markdown",
   "metadata": {},
   "source": [
    "\n",
    "- https://learn.co/tracks/data-science-career-v2/module-4-a-complete-data-science-project-using-multiple-regression/working-with-time-series-data/types-of-trends"
   ]
  },
  {
   "cell_type": "markdown",
   "metadata": {},
   "source": [
    "### Removing Trends \n",
    "- .diff()\n",
    "- subtract rolling mean\n",
    "- seasonal decomposition"
   ]
  },
  {
   "cell_type": "markdown",
   "metadata": {},
   "source": [
    "## Time Series Calculations\n"
   ]
  },
  {
   "cell_type": "markdown",
   "metadata": {},
   "source": [
    "### Rolling Statistics"
   ]
  },
  {
   "cell_type": "code",
   "execution_count": null,
   "metadata": {
    "ExecuteTime": {
     "end_time": "2020-10-15T00:58:10.122072Z",
     "start_time": "2020-10-15T00:57:30.983Z"
    }
   },
   "outputs": [],
   "source": [
    "ts = TS['homicide']\n",
    "ts"
   ]
  },
  {
   "cell_type": "code",
   "execution_count": null,
   "metadata": {
    "ExecuteTime": {
     "end_time": "2020-10-15T00:58:10.123052Z",
     "start_time": "2020-10-15T00:57:30.985Z"
    }
   },
   "outputs": [],
   "source": [
    "ts = ts.resample('W').sum()\n",
    "ts"
   ]
  },
  {
   "cell_type": "code",
   "execution_count": null,
   "metadata": {
    "ExecuteTime": {
     "end_time": "2020-10-15T00:58:10.124022Z",
     "start_time": "2020-10-15T00:57:30.987Z"
    }
   },
   "outputs": [],
   "source": [
    "ts_mean = ts.rolling(window=2).sum()\n",
    "ax = ts.plot(label='Time Series')\n",
    "ts_mean.plot(label='Rolling 7-Day Average')\n",
    "ax.legend()"
   ]
  },
  {
   "cell_type": "code",
   "execution_count": null,
   "metadata": {
    "ExecuteTime": {
     "end_time": "2020-10-15T00:58:10.124970Z",
     "start_time": "2020-10-15T00:57:30.989Z"
    }
   },
   "outputs": [],
   "source": [
    "## fill in null values\n",
    "# ts.plot()\n",
    "ts.ewm(halflife=2).sum()#.plot()"
   ]
  },
  {
   "cell_type": "code",
   "execution_count": null,
   "metadata": {
    "ExecuteTime": {
     "end_time": "2020-10-15T00:58:10.126102Z",
     "start_time": "2020-10-15T00:57:30.991Z"
    }
   },
   "outputs": [],
   "source": [
    "## Use adfull to test for stationarity\n",
    "ts.plot()"
   ]
  },
  {
   "cell_type": "markdown",
   "metadata": {},
   "source": [
    "# Seasonal Decomposition"
   ]
  },
  {
   "cell_type": "code",
   "execution_count": null,
   "metadata": {
    "ExecuteTime": {
     "end_time": "2020-10-15T00:58:10.127008Z",
     "start_time": "2020-10-15T00:57:30.994Z"
    },
    "scrolled": false
   },
   "outputs": [],
   "source": [
    "from statsmodels.tsa.seasonal import seasonal_decompose\n",
    "decomp = seasonal_decompose(ts)#.plot();\n",
    "decomp.plot()"
   ]
  },
  {
   "cell_type": "code",
   "execution_count": null,
   "metadata": {
    "ExecuteTime": {
     "end_time": "2020-10-15T00:58:10.128039Z",
     "start_time": "2020-10-15T00:57:30.996Z"
    }
   },
   "outputs": [],
   "source": [
    "decomp.resid"
   ]
  },
  {
   "cell_type": "code",
   "execution_count": null,
   "metadata": {
    "ExecuteTime": {
     "end_time": "2020-10-15T00:58:10.128976Z",
     "start_time": "2020-10-15T00:57:30.998Z"
    }
   },
   "outputs": [],
   "source": [
    "decomp.seasonal"
   ]
  },
  {
   "cell_type": "markdown",
   "metadata": {},
   "source": [
    "## A: Groupby Indexing"
   ]
  },
  {
   "cell_type": "code",
   "execution_count": null,
   "metadata": {
    "ExecuteTime": {
     "end_time": "2020-10-15T00:58:10.129998Z",
     "start_time": "2020-10-15T00:57:31.001Z"
    }
   },
   "outputs": [],
   "source": [
    "ts.groupby(pd.Grouper(freq='M')).sum().plot(subplots=True)"
   ]
  },
  {
   "cell_type": "code",
   "execution_count": null,
   "metadata": {
    "ExecuteTime": {
     "end_time": "2020-10-15T00:58:10.130949Z",
     "start_time": "2020-10-15T00:57:31.003Z"
    }
   },
   "outputs": [],
   "source": [
    "grp = list(CRIMES['shooting'].groupby('District'))\n",
    "grp[0][0]"
   ]
  },
  {
   "cell_type": "code",
   "execution_count": null,
   "metadata": {
    "ExecuteTime": {
     "end_time": "2020-10-15T00:58:10.132003Z",
     "start_time": "2020-10-15T00:57:31.005Z"
    }
   },
   "outputs": [],
   "source": [
    "grp[0][1]"
   ]
  },
  {
   "cell_type": "code",
   "execution_count": null,
   "metadata": {},
   "outputs": [],
   "source": []
  }
 ],
 "metadata": {
  "kernelspec": {
   "display_name": "learn-env",
   "language": "python",
   "name": "learn-env"
  },
  "language_info": {
   "codemirror_mode": {
    "name": "ipython",
    "version": 3
   },
   "file_extension": ".py",
   "mimetype": "text/x-python",
   "name": "python",
   "nbconvert_exporter": "python",
   "pygments_lexer": "ipython3",
   "version": "3.6.11"
  },
  "toc": {
   "base_numbering": 1,
   "nav_menu": {},
   "number_sections": false,
   "sideBar": true,
   "skip_h1_title": false,
   "title_cell": "Table of Contents",
   "title_sidebar": "Contents",
   "toc_cell": false,
   "toc_position": {
    "height": "calc(100% - 180px)",
    "left": "10px",
    "top": "150px",
    "width": "284.438px"
   },
   "toc_section_display": true,
   "toc_window_display": true
  }
 },
 "nbformat": 4,
 "nbformat_minor": 2
}
