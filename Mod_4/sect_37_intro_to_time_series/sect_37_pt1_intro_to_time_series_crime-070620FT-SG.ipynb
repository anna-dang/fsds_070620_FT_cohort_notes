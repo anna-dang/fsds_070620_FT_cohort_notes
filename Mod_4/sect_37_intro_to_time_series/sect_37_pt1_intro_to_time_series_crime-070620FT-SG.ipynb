{
 "cells": [
  {
   "cell_type": "markdown",
   "metadata": {},
   "source": [
    "# Sect 37: Intro to Time Series"
   ]
  },
  {
   "cell_type": "markdown",
   "metadata": {},
   "source": [
    "- online-ds-ft-070620\n",
    "- 10/15/20"
   ]
  },
  {
   "cell_type": "markdown",
   "metadata": {},
   "source": [
    "## Learning Objectives:"
   ]
  },
  {
   "cell_type": "markdown",
   "metadata": {},
   "source": [
    "- Learn how to load in timeseries data into pandas\n",
    "- Learn how to plot timeseries in pandas\n",
    "- Learn how to resample at different time frequencies\n",
    "- Learn about types of time series trends and how to remove them.\n",
    "- Learn about seasonal decomposition\n",
    "\n",
    "- Prepare a time series dataset to use for modeling next class"
   ]
  },
  {
   "cell_type": "markdown",
   "metadata": {},
   "source": [
    "## Questions?"
   ]
  },
  {
   "cell_type": "markdown",
   "metadata": {},
   "source": []
  },
  {
   "cell_type": "markdown",
   "metadata": {},
   "source": [
    "# Intro to Time Series"
   ]
  },
  {
   "cell_type": "markdown",
   "metadata": {},
   "source": [
    "## References"
   ]
  },
  {
   "cell_type": "markdown",
   "metadata": {},
   "source": [
    "- [Pandas Timeseries Documentation](https://pandas.pydata.org/pandas-docs/stable/user_guide/timeseries.html)\n",
    "- ['Timeseries Offset Aliases'](https://pandas.pydata.org/pandas-docs/stable/user_guide/timeseries.html#timeseries-offset-aliases)\n",
    "- [Anchored Offsets](https://pandas.pydata.org/pandas-docs/stable/user_guide/timeseries.html#anchored-offsets)\n",
    "\n",
    "\n",
    "- https://pandas.pydata.org/pandas-docs/stable/reference/api/pandas.Timestamp.html"
   ]
  },
  {
   "cell_type": "markdown",
   "metadata": {},
   "source": [
    "## Working with Time Series"
   ]
  },
  {
   "cell_type": "code",
   "execution_count": null,
   "metadata": {
    "ExecuteTime": {
     "end_time": "2020-10-15T15:46:16.845795Z",
     "start_time": "2020-10-15T15:46:15.247603Z"
    }
   },
   "outputs": [],
   "source": [
    "# !pip install -U fsds \n",
    "from fsds.imports import *\n",
    "\n",
    "import warnings\n",
    "warnings.filterwarnings('ignore')\n",
    "\n",
    "## Setting figures to timeseries-friendly\n",
    "mpl.rcParams['figure.figsize'] = (12,6)\n",
    "\n",
    "import os,sys"
   ]
  },
  {
   "cell_type": "code",
   "execution_count": null,
   "metadata": {
    "ExecuteTime": {
     "end_time": "2020-10-15T15:46:16.851231Z",
     "start_time": "2020-10-15T15:46:16.847791Z"
    }
   },
   "outputs": [],
   "source": [
    "sns.__version__"
   ]
  },
  {
   "cell_type": "markdown",
   "metadata": {},
   "source": [
    "### Creating a Time Series from a DataFrame"
   ]
  },
  {
   "cell_type": "code",
   "execution_count": null,
   "metadata": {
    "ExecuteTime": {
     "end_time": "2020-10-15T15:46:18.412579Z",
     "start_time": "2020-10-15T15:46:17.821872Z"
    }
   },
   "outputs": [],
   "source": [
    "df = pd.read_csv('baltimore_crime_2020.csv',low_memory=False,\n",
    "                usecols=range(12))\n",
    "#df = fs.datasets.load_ts_baltimore_crime_full(read_csv_kwds={\n",
    "#     'low_memory':False,'usecols':list(range(12)) })\n",
    "df.head()"
   ]
  },
  {
   "cell_type": "markdown",
   "metadata": {},
   "source": [
    "## Preparing Data for Time Series Visualization"
   ]
  },
  {
   "cell_type": "markdown",
   "metadata": {},
   "source": [
    "- Index must be a `datetimeindex`"
   ]
  },
  {
   "cell_type": "code",
   "execution_count": null,
   "metadata": {
    "ExecuteTime": {
     "end_time": "2020-10-15T15:44:23.385323Z",
     "start_time": "2020-10-15T15:44:23.378727Z"
    }
   },
   "outputs": [],
   "source": [
    "df.index"
   ]
  },
  {
   "cell_type": "markdown",
   "metadata": {},
   "source": [
    "> #### Queston: We need to make a datetime index from the CrimeDate and CrimeTime. How might we do that?"
   ]
  },
  {
   "cell_type": "code",
   "execution_count": null,
   "metadata": {
    "ExecuteTime": {
     "end_time": "2020-10-15T15:46:28.226191Z",
     "start_time": "2020-10-15T15:46:28.221772Z"
    }
   },
   "outputs": [],
   "source": [
    "# Make datetime variable from two columns\n"
   ]
  },
  {
   "cell_type": "code",
   "execution_count": null,
   "metadata": {
    "ExecuteTime": {
     "end_time": "2020-10-15T15:46:35.377930Z",
     "start_time": "2020-10-15T15:46:35.375974Z"
    }
   },
   "outputs": [],
   "source": [
    "## Set dataframe index to be time series\n"
   ]
  },
  {
   "cell_type": "code",
   "execution_count": null,
   "metadata": {
    "ExecuteTime": {
     "end_time": "2020-10-15T15:46:39.609842Z",
     "start_time": "2020-10-15T15:46:39.607840Z"
    }
   },
   "outputs": [],
   "source": [
    "## Preview the dataframe to confirm index"
   ]
  },
  {
   "cell_type": "code",
   "execution_count": null,
   "metadata": {
    "ExecuteTime": {
     "end_time": "2020-10-15T15:44:52.172570Z",
     "start_time": "2020-10-15T15:44:52.148434Z"
    }
   },
   "outputs": [],
   "source": [
    "## Save a copy of the original dataframe (IF IT DOESN\"T ALREADY EXIST)\n",
    "### \n"
   ]
  },
  {
   "cell_type": "code",
   "execution_count": null,
   "metadata": {
    "ExecuteTime": {
     "end_time": "2020-10-15T15:44:52.245871Z",
     "start_time": "2020-10-15T15:44:52.175375Z"
    }
   },
   "outputs": [],
   "source": [
    "# ## Identify columns to drop/keep\n",
    "keep_cols = ['Description','Longitude','Latitude','District','Neighborhood']\n",
    "\n",
    "##  Remake df from df_org using keep_cols\n"
   ]
  },
  {
   "cell_type": "code",
   "execution_count": null,
   "metadata": {
    "ExecuteTime": {
     "end_time": "2020-10-15T15:46:57.173927Z",
     "start_time": "2020-10-15T15:46:57.172122Z"
    }
   },
   "outputs": [],
   "source": [
    "## Inspect the value_counts for the different types of crimes\n",
    "\n",
    "# display with an inline-barplot inside your df\n"
   ]
  },
  {
   "cell_type": "code",
   "execution_count": null,
   "metadata": {
    "ExecuteTime": {
     "end_time": "2020-10-15T15:47:00.370978Z",
     "start_time": "2020-10-15T15:47:00.368901Z"
    }
   },
   "outputs": [],
   "source": [
    "## Get list of crimes to iterate through\n"
   ]
  },
  {
   "cell_type": "code",
   "execution_count": null,
   "metadata": {
    "ExecuteTime": {
     "end_time": "2020-10-15T15:47:03.379623Z",
     "start_time": "2020-10-15T15:47:03.377501Z"
    }
   },
   "outputs": [],
   "source": [
    "## Lets get just Shootings in a new df\n"
   ]
  },
  {
   "cell_type": "code",
   "execution_count": null,
   "metadata": {
    "ExecuteTime": {
     "end_time": "2020-10-15T15:47:06.614731Z",
     "start_time": "2020-10-15T15:47:06.612619Z"
    }
   },
   "outputs": [],
   "source": [
    "## Make a new SHOOTING column that is an integer\n"
   ]
  },
  {
   "cell_type": "code",
   "execution_count": null,
   "metadata": {
    "ExecuteTime": {
     "end_time": "2020-10-15T15:44:52.729752Z",
     "start_time": "2020-10-15T15:44:52.371874Z"
    }
   },
   "outputs": [],
   "source": [
    "## make a dict of all crime types' DataFrames \n",
    "\n",
    "## For each crime type\n",
    "    \n",
    "    ## Get the group df\n",
    "    \n",
    "    ## Create a new column for that crime as we did for SHOOTINGS above\n",
    "    \n",
    "    ## Save the group_df into the CRIMES dict\n",
    "    \n",
    "## Display the keys"
   ]
  },
  {
   "cell_type": "markdown",
   "metadata": {},
   "source": [
    "# Visualizing Time Series"
   ]
  },
  {
   "cell_type": "code",
   "execution_count": null,
   "metadata": {
    "ExecuteTime": {
     "end_time": "2020-10-15T15:47:25.092501Z",
     "start_time": "2020-10-15T15:47:25.090355Z"
    }
   },
   "outputs": [],
   "source": [
    "## Check out SHOOTING key\n"
   ]
  },
  {
   "cell_type": "code",
   "execution_count": null,
   "metadata": {
    "ExecuteTime": {
     "end_time": "2020-10-15T15:47:28.515199Z",
     "start_time": "2020-10-15T15:47:28.513312Z"
    }
   },
   "outputs": [],
   "source": [
    "### save the shooting column as ts\n"
   ]
  },
  {
   "cell_type": "code",
   "execution_count": null,
   "metadata": {
    "ExecuteTime": {
     "end_time": "2020-10-15T15:47:30.504148Z",
     "start_time": "2020-10-15T15:47:30.502102Z"
    }
   },
   "outputs": [],
   "source": [
    "## Plot shooting\n"
   ]
  },
  {
   "cell_type": "markdown",
   "metadata": {},
   "source": [
    "> #### Q: What went wrong? What are we looking at?"
   ]
  },
  {
   "cell_type": "markdown",
   "metadata": {},
   "source": [
    "## Resampling Time Series"
   ]
  },
  {
   "cell_type": "code",
   "execution_count": null,
   "metadata": {
    "ExecuteTime": {
     "end_time": "2020-10-15T15:47:33.457535Z",
     "start_time": "2020-10-15T15:47:33.455589Z"
    }
   },
   "outputs": [],
   "source": [
    "## Resample to daily data\n"
   ]
  },
  {
   "cell_type": "markdown",
   "metadata": {},
   "source": [
    "### Time series Frequencies\n"
   ]
  },
  {
   "cell_type": "markdown",
   "metadata": {
    "heading_collapsed": true
   },
   "source": [
    "#### Pandas Frequency Aliases"
   ]
  },
  {
   "cell_type": "markdown",
   "metadata": {
    "hidden": true
   },
   "source": [
    "https://pandas.pydata.org/pandas-docs/stable/user_guide/timeseries.html#timeseries-offset-aliases\n",
    "\n",
    "\n",
    "|Alias\t| Description|\n",
    "| --- | --- |\n",
    "|B |\tbusiness day frequency|\n",
    "|C |\tcustom business day frequency|\n",
    "|D |\tcalendar day frequency|\n",
    "|W |\tweekly frequency|\n",
    "|M |\tmonth end frequency|\n",
    "|SM |\tsemi-month end frequency (15th and end of month)|\n",
    "|BM |\tbusiness month end frequency|\n",
    "|CBM |\tcustom business month end frequency|\n",
    "|MS |\tmonth start frequency|\n",
    "|SMS |\tsemi-month start frequency (1st and 15th)|\n",
    "|BMS |\tbusiness month start frequency|\n",
    "|CBMS |\tcustom business month start frequency|\n",
    "|Q |\tquarter end frequency|\n",
    "|BQ |\tbusiness quarter end frequency|\n",
    "|QS |\tquarter start frequency|\n",
    "|BQS |\tbusiness quarter start frequency|\n",
    "|A, Y |\tyear end frequency|\n",
    "|BA, BY |\tbusiness year end frequency|\n",
    "|AS, YS |\tyear start frequency|\n",
    "|BAS, BYS |\tbusiness year start frequency|\n",
    "|BH | business hour frequency|\n",
    "|H | hourly frequency|\n",
    "|T |  min\tminutely frequency|\n",
    "|S | secondly frequency|\n",
    "|L |  ms\tmilliseconds|\n",
    "|U |  us\tmicroseconds|\n",
    "|N | nanoseconds|"
   ]
  },
  {
   "cell_type": "markdown",
   "metadata": {},
   "source": [
    "#### Compare Resampled ts"
   ]
  },
  {
   "cell_type": "code",
   "execution_count": null,
   "metadata": {
    "ExecuteTime": {
     "end_time": "2020-10-15T15:47:48.739200Z",
     "start_time": "2020-10-15T15:47:48.727719Z"
    },
    "scrolled": false
   },
   "outputs": [],
   "source": [
    "## Plot the same ts as different frequencies\n",
    "## Specify freq codes\n",
    "freq_codes = ['D','3D','W','M','Q','A']\n",
    "\n",
    "## select ts from CRIMES\n",
    "ts = CRIMES['SHOOTING']['SHOOTING']\n",
    "\n",
    "## For each freq code, resample and plot\n"
   ]
  },
  {
   "cell_type": "code",
   "execution_count": null,
   "metadata": {
    "ExecuteTime": {
     "end_time": "2020-10-15T15:47:55.578688Z",
     "start_time": "2020-10-15T15:47:55.576609Z"
    }
   },
   "outputs": [],
   "source": [
    "## Repeat the above loop,but plot it all on one figure\n"
   ]
  },
  {
   "cell_type": "markdown",
   "metadata": {},
   "source": [
    "## Visualize all CRIMES as \"D\" Freq"
   ]
  },
  {
   "cell_type": "markdown",
   "metadata": {},
   "source": [
    "> **Loop through CRIMES and resample and plot all crimes**"
   ]
  },
  {
   "cell_type": "code",
   "execution_count": null,
   "metadata": {
    "ExecuteTime": {
     "end_time": "2020-10-15T15:48:15.083977Z",
     "start_time": "2020-10-15T15:48:15.081967Z"
    },
    "scrolled": false
   },
   "outputs": [],
   "source": [
    "## Plot all crimes the same way (daily sum)\n"
   ]
  },
  {
   "cell_type": "markdown",
   "metadata": {},
   "source": [
    "## Slicing With Time Series"
   ]
  },
  {
   "cell_type": "markdown",
   "metadata": {},
   "source": [
    "- Make sure you're index is sorted first'\n",
    "- Feed in 2 dates as strings for slicing.\n",
    "- Always use .loc when slicing dates"
   ]
  },
  {
   "cell_type": "code",
   "execution_count": null,
   "metadata": {
    "ExecuteTime": {
     "end_time": "2020-10-15T15:48:24.417066Z",
     "start_time": "2020-10-15T15:48:24.415006Z"
    },
    "scrolled": true
   },
   "outputs": [],
   "source": [
    "## Slice 2014:\n"
   ]
  },
  {
   "cell_type": "markdown",
   "metadata": {},
   "source": [
    "### Using Dictionaries for TIme Series preprocessing"
   ]
  },
  {
   "cell_type": "code",
   "execution_count": null,
   "metadata": {
    "ExecuteTime": {
     "end_time": "2020-10-15T15:48:52.718786Z",
     "start_time": "2020-10-15T15:48:52.716879Z"
    }
   },
   "outputs": [],
   "source": [
    "## Save all crimes from 2014 on with freq=D in new TS dict\n",
    "\n",
    "## For each crime\n",
    "    ## Resample and slice and save ts\n",
    "\n"
   ]
  },
  {
   "cell_type": "code",
   "execution_count": null,
   "metadata": {
    "ExecuteTime": {
     "end_time": "2020-10-15T15:48:58.744899Z",
     "start_time": "2020-10-15T15:48:58.743020Z"
    }
   },
   "outputs": [],
   "source": [
    "## Check shooting\n"
   ]
  },
  {
   "cell_type": "markdown",
   "metadata": {},
   "source": [
    "### Visualize all ts with the differnet requency codes"
   ]
  },
  {
   "cell_type": "code",
   "execution_count": null,
   "metadata": {
    "ExecuteTime": {
     "end_time": "2020-10-15T15:44:58.208432Z",
     "start_time": "2020-10-15T15:44:55.894999Z"
    },
    "scrolled": false
   },
   "outputs": [],
   "source": [
    "## Plot the same ts as different frequencies\n",
    "freq_codes = ['D','3D','W','M','Q']\n",
    "\n",
    "for freq in freq_codes:\n",
    "    fig, ax = plt.subplots()\n",
    "\n",
    "    for crime,ts in TS.items():\n",
    "        ts.loc['2015':'2019'].resample(freq).sum().plot(title=f\"Freq Code = {freq}\",ax=ax)\n",
    "        \n",
    "    ax.legend(bbox_to_anchor=(1.05,1),loc='upper left')"
   ]
  },
  {
   "cell_type": "markdown",
   "metadata": {},
   "source": [
    "### Save Final TS and `ts_df`"
   ]
  },
  {
   "cell_type": "code",
   "execution_count": null,
   "metadata": {
    "ExecuteTime": {
     "end_time": "2020-10-15T15:44:58.291007Z",
     "start_time": "2020-10-15T15:44:58.210081Z"
    }
   },
   "outputs": [],
   "source": [
    "## SAVE FINAL CHOICES FOR YEAR AND FREQUENCY TO TS \n",
    "TS = {}\n",
    "\n",
    "## Fill in each crimes's processed time series \n",
    "for crime,ts in CRIMES.items():\n",
    "    \n",
    "    ## Slice out years and resample and sum \n",
    "    TS[crime] = ts.sort_index().loc['2014':][crime].resample('D').sum()\n",
    "    \n",
    "## Make TS into a df\n",
    "ts_df = pd.concat(TS,axis=1)\n",
    "ts_df.head()"
   ]
  },
  {
   "cell_type": "code",
   "execution_count": null,
   "metadata": {
    "ExecuteTime": {
     "end_time": "2020-10-15T15:49:47.494250Z",
     "start_time": "2020-10-15T15:49:47.492094Z"
    }
   },
   "outputs": [],
   "source": [
    "## Check For Null Values\n"
   ]
  },
  {
   "cell_type": "code",
   "execution_count": null,
   "metadata": {
    "ExecuteTime": {
     "end_time": "2020-10-15T15:49:43.691317Z",
     "start_time": "2020-10-15T15:49:43.689211Z"
    }
   },
   "outputs": [],
   "source": [
    "## Show rows with null values\n"
   ]
  },
  {
   "cell_type": "markdown",
   "metadata": {},
   "source": [
    "> More columns would benefit from ffill than bfill so we are going to ffill and then dropna to remove the few days at the beginning of 2014 without data"
   ]
  },
  {
   "cell_type": "code",
   "execution_count": null,
   "metadata": {
    "ExecuteTime": {
     "end_time": "2020-10-15T15:49:57.527445Z",
     "start_time": "2020-10-15T15:49:57.525599Z"
    }
   },
   "outputs": [],
   "source": [
    "## FFill null values\n",
    "\n",
    "## chekc for nulls\n"
   ]
  },
  {
   "cell_type": "code",
   "execution_count": null,
   "metadata": {
    "ExecuteTime": {
     "end_time": "2020-10-15T15:50:01.393216Z",
     "start_time": "2020-10-15T15:50:01.391048Z"
    }
   },
   "outputs": [],
   "source": [
    "## Drop remaining nulls\n"
   ]
  },
  {
   "cell_type": "code",
   "execution_count": null,
   "metadata": {
    "ExecuteTime": {
     "end_time": "2020-10-15T15:50:07.925213Z",
     "start_time": "2020-10-15T15:50:07.923264Z"
    }
   },
   "outputs": [],
   "source": [
    "## Final null check\n"
   ]
  },
  {
   "cell_type": "code",
   "execution_count": null,
   "metadata": {
    "ExecuteTime": {
     "end_time": "2020-10-15T15:50:14.450206Z",
     "start_time": "2020-10-15T15:50:14.448413Z"
    }
   },
   "outputs": [],
   "source": [
    "## Save df to csv for time series modeling next class\n",
    "# ts_df.to_csv('baltimore_crime_2020_ts_070620ft.csv')"
   ]
  },
  {
   "cell_type": "markdown",
   "metadata": {},
   "source": [
    "# Time Series Trends"
   ]
  },
  {
   "cell_type": "markdown",
   "metadata": {},
   "source": [
    "### Types of Trends"
   ]
  },
  {
   "cell_type": "markdown",
   "metadata": {},
   "source": [
    "<img src=\"https://raw.githubusercontent.com/learn-co-students/dsc-removing-trends-online-ds-ft-100719/master/images/new_trendseasonal.png\" width=80%>"
   ]
  },
  {
   "cell_type": "markdown",
   "metadata": {},
   "source": [
    "### Stationarity"
   ]
  },
  {
   "cell_type": "markdown",
   "metadata": {},
   "source": [
    "<div style=\"text-align:center;font-size:2em\">Mean</div>\n",
    "    \n",
    "<img src=\"https://raw.githubusercontent.com/jirvingphd/dsc-types-of-trends-online-ds-ft-100719/master/images/new_mean_nonstationary.png\" width=70%>\n",
    "<br><br>\n",
    "<div style=\"text-align:center;font-size:3em\">Variance</div>\n",
    "<img src=\"https://raw.githubusercontent.com/jirvingphd/dsc-types-of-trends-online-ds-ft-100719/master/images/new_cov_nonstationary.png\" width=70%>\n",
    "</div>"
   ]
  },
  {
   "cell_type": "code",
   "execution_count": null,
   "metadata": {
    "ExecuteTime": {
     "end_time": "2020-10-15T15:44:58.406466Z",
     "start_time": "2020-10-15T15:44:58.398228Z"
    },
    "code_folding": []
   },
   "outputs": [],
   "source": [
    "## Lab Function\n",
    "def stationarity_check(TS,plot=True,col=None):\n",
    "    \"\"\"From: https://learn.co/tracks/data-science-career-v2/module-4-a-complete-data-science-project-using-multiple-regression/working-with-time-series-data/time-series-decomposition\n",
    "    \"\"\"\n",
    "    \n",
    "    # Import adfuller\n",
    "    from statsmodels.tsa.stattools import adfuller\n",
    "\n",
    "    if col is not None:\n",
    "        # Perform the Dickey Fuller Test\n",
    "        dftest = adfuller(TS[col]) # change the passengers column as required \n",
    "    else:\n",
    "        dftest=adfuller(TS)\n",
    " \n",
    "    if plot:\n",
    "        # Calculate rolling statistics\n",
    "        rolmean = TS.rolling(window = 8, center = False).mean()\n",
    "        rolstd = TS.rolling(window = 8, center = False).std()\n",
    "\n",
    "        #Plot rolling statistics:\n",
    "        fig = plt.figure(figsize=(12,6))\n",
    "        orig = plt.plot(TS, color='blue',label='Original')\n",
    "        mean = plt.plot(rolmean, color='red', label='Rolling Mean')\n",
    "        std = plt.plot(rolstd, color='black', label = 'Rolling Std')\n",
    "        plt.legend(loc='best')\n",
    "        plt.title('Rolling Mean & Standard Deviation')\n",
    "#     plt.show(block=False)\n",
    "    \n",
    "    # Print Dickey-Fuller test results\n",
    "    print ('Results of Dickey-Fuller Test:')\n",
    "\n",
    "    dfoutput = pd.Series(dftest[0:4],\n",
    "                         index=['Test Statistic','p-value','#Lags Used','Number of Observations Used'])\n",
    "    for key,value in dftest[4].items():\n",
    "        dfoutput['Critical Value (%s)'%key] = value\n",
    "        \n",
    "    dfoutput['sig'] = dfoutput['p-value']<.05\n",
    "    display (dfoutput.round(3))\n",
    "    \n",
    "    return dfoutput\n",
    "#     return dftest"
   ]
  },
  {
   "cell_type": "code",
   "execution_count": null,
   "metadata": {
    "ExecuteTime": {
     "end_time": "2020-10-15T15:44:58.412958Z",
     "start_time": "2020-10-15T15:44:58.408182Z"
    }
   },
   "outputs": [],
   "source": [
    "ts = TS['SHOOTING']\n",
    "ts\n",
    "# ts = ts.resample('D').sum().asfreq('D')"
   ]
  },
  {
   "cell_type": "code",
   "execution_count": null,
   "metadata": {
    "ExecuteTime": {
     "end_time": "2020-10-15T15:44:58.648502Z",
     "start_time": "2020-10-15T15:44:58.414696Z"
    }
   },
   "outputs": [],
   "source": [
    "ts.plot()"
   ]
  },
  {
   "cell_type": "code",
   "execution_count": null,
   "metadata": {
    "ExecuteTime": {
     "end_time": "2020-10-15T15:44:59.113248Z",
     "start_time": "2020-10-15T15:44:58.650338Z"
    }
   },
   "outputs": [],
   "source": [
    "res = stationarity_check(ts);"
   ]
  },
  {
   "cell_type": "markdown",
   "metadata": {},
   "source": [
    "# Removing Trends (cont'd next class)"
   ]
  },
  {
   "cell_type": "markdown",
   "metadata": {},
   "source": [
    "- .diff()\n",
    "- subtract rolling mean\n",
    "- seasonal decomposition"
   ]
  },
  {
   "cell_type": "markdown",
   "metadata": {},
   "source": [
    "## Seasonal Decomposition"
   ]
  },
  {
   "cell_type": "code",
   "execution_count": null,
   "metadata": {
    "ExecuteTime": {
     "end_time": "2020-10-15T15:44:59.640925Z",
     "start_time": "2020-10-15T15:44:59.114836Z"
    },
    "scrolled": false
   },
   "outputs": [],
   "source": [
    "from statsmodels.tsa.seasonal import seasonal_decompose\n",
    "decomp = seasonal_decompose(ts)#.plot();\n",
    "decomp.plot();"
   ]
  },
  {
   "cell_type": "code",
   "execution_count": null,
   "metadata": {
    "ExecuteTime": {
     "end_time": "2020-10-15T15:44:59.648462Z",
     "start_time": "2020-10-15T15:44:59.642616Z"
    }
   },
   "outputs": [],
   "source": [
    "decomp.resid"
   ]
  },
  {
   "cell_type": "code",
   "execution_count": null,
   "metadata": {
    "ExecuteTime": {
     "end_time": "2020-10-15T15:44:59.655580Z",
     "start_time": "2020-10-15T15:44:59.650414Z"
    }
   },
   "outputs": [],
   "source": [
    "decomp.seasonal"
   ]
  },
  {
   "cell_type": "markdown",
   "metadata": {
    "heading_collapsed": true
   },
   "source": [
    "# APPENDIX"
   ]
  },
  {
   "cell_type": "code",
   "execution_count": null,
   "metadata": {
    "ExecuteTime": {
     "end_time": "2020-10-15T15:34:54.797496Z",
     "start_time": "2020-10-15T15:34:54.488809Z"
    },
    "hidden": true
   },
   "outputs": [],
   "source": [
    "ax = ts_df.loc['2017':,'BURGLARY'].plot()\n",
    "ax.legend(bbox_to_anchor=(1.05,1),loc='upper left')\n",
    "ax.set(ylabel='# of Crimes',xlabel='Year by Day')"
   ]
  },
  {
   "cell_type": "markdown",
   "metadata": {
    "hidden": true
   },
   "source": [
    "## Time Series Calculations\n"
   ]
  },
  {
   "cell_type": "markdown",
   "metadata": {
    "hidden": true
   },
   "source": [
    "### Rolling Statistics"
   ]
  },
  {
   "cell_type": "code",
   "execution_count": null,
   "metadata": {
    "ExecuteTime": {
     "end_time": "2020-10-15T15:26:29.202173Z",
     "start_time": "2020-10-15T15:26:26.900580Z"
    },
    "hidden": true
   },
   "outputs": [],
   "source": [
    "## Plot the same ts as different frequencies\n",
    "# freq_codes = ['D','3D','W','M','Q']\n",
    "windows = [3,5,7,30,90]\n",
    "for window in windows:\n",
    "    \n",
    "    fig,ax = plt.subplots()\n",
    "    ts_df.rolling(window).mean().plot(title= f\"Window = {window}\",ax=ax)\n",
    "#     ts.rolling(window).mean().plot(title=title)\n",
    "        \n",
    "    ax.legend(bbox_to_anchor=(1.05,1),loc='upper left')"
   ]
  },
  {
   "cell_type": "code",
   "execution_count": null,
   "metadata": {
    "ExecuteTime": {
     "end_time": "2020-10-15T15:41:52.919102Z",
     "start_time": "2020-10-15T15:41:52.913567Z"
    },
    "hidden": true
   },
   "outputs": [],
   "source": [
    "ts = TS['HOMICIDE']\n",
    "ts"
   ]
  },
  {
   "cell_type": "code",
   "execution_count": null,
   "metadata": {
    "ExecuteTime": {
     "end_time": "2020-10-15T15:41:54.349364Z",
     "start_time": "2020-10-15T15:41:54.336849Z"
    },
    "hidden": true
   },
   "outputs": [],
   "source": [
    "ts = ts.resample('W').sum()\n",
    "ts"
   ]
  },
  {
   "cell_type": "code",
   "execution_count": null,
   "metadata": {
    "ExecuteTime": {
     "end_time": "2020-10-15T15:41:55.068149Z",
     "start_time": "2020-10-15T15:41:54.828890Z"
    },
    "hidden": true
   },
   "outputs": [],
   "source": [
    "ts_mean = ts.rolling(window=2).sum()\n",
    "ax = ts.plot(label='Time Series')\n",
    "ts_mean.plot(label='Rolling 7-Day Average')\n",
    "ax.legend()"
   ]
  },
  {
   "cell_type": "code",
   "execution_count": null,
   "metadata": {
    "ExecuteTime": {
     "end_time": "2020-10-15T15:42:03.230597Z",
     "start_time": "2020-10-15T15:42:03.224498Z"
    },
    "hidden": true
   },
   "outputs": [],
   "source": [
    "## fill in null values\n",
    "# ts.plot()\n",
    "ts.ewm(halflife=2).mean()#sum()#.plot()"
   ]
  },
  {
   "cell_type": "code",
   "execution_count": null,
   "metadata": {
    "ExecuteTime": {
     "end_time": "2020-10-15T15:42:05.077743Z",
     "start_time": "2020-10-15T15:42:04.859086Z"
    },
    "hidden": true,
    "scrolled": true
   },
   "outputs": [],
   "source": [
    "## Use adfull to test for stationarity\n",
    "ts.plot()"
   ]
  },
  {
   "cell_type": "markdown",
   "metadata": {
    "hidden": true
   },
   "source": [
    "## Rolling Windows "
   ]
  },
  {
   "cell_type": "code",
   "execution_count": null,
   "metadata": {
    "ExecuteTime": {
     "end_time": "2020-10-15T15:44:59.685916Z",
     "start_time": "2020-10-15T15:44:59.657576Z"
    },
    "hidden": true
   },
   "outputs": [],
   "source": [
    "ts_df.rolling(1).mean()"
   ]
  },
  {
   "cell_type": "code",
   "execution_count": null,
   "metadata": {
    "hidden": true
   },
   "outputs": [],
   "source": []
  },
  {
   "cell_type": "code",
   "execution_count": null,
   "metadata": {
    "ExecuteTime": {
     "end_time": "2020-10-15T15:51:16.498713Z",
     "start_time": "2020-10-15T15:51:16.496550Z"
    },
    "hidden": true
   },
   "outputs": [],
   "source": [
    "# ts_df.rolling(7).mean().plot()"
   ]
  },
  {
   "cell_type": "markdown",
   "metadata": {
    "hidden": true
   },
   "source": [
    "## Using Datetime objects and apply statemements"
   ]
  },
  {
   "cell_type": "code",
   "execution_count": null,
   "metadata": {
    "ExecuteTime": {
     "end_time": "2020-10-15T15:26:31.270138Z",
     "start_time": "2020-10-15T15:26:31.251392Z"
    },
    "hidden": true
   },
   "outputs": [],
   "source": [
    "df_ = CRIMES['HOMICIDE'].reset_index().dropna()\n",
    "display(df_.head())\n",
    "df_.dtypes"
   ]
  },
  {
   "cell_type": "code",
   "execution_count": null,
   "metadata": {
    "ExecuteTime": {
     "end_time": "2020-10-15T15:26:31.277154Z",
     "start_time": "2020-10-15T15:26:31.272633Z"
    },
    "hidden": true
   },
   "outputs": [],
   "source": [
    "df_['index'][0]"
   ]
  },
  {
   "cell_type": "code",
   "execution_count": null,
   "metadata": {
    "ExecuteTime": {
     "end_time": "2020-10-15T15:26:31.285679Z",
     "start_time": "2020-10-15T15:26:31.279184Z"
    },
    "hidden": true
   },
   "outputs": [],
   "source": [
    "df_['index'].dt.year#.strftime('%y')"
   ]
  },
  {
   "cell_type": "code",
   "execution_count": null,
   "metadata": {
    "ExecuteTime": {
     "end_time": "2020-10-15T15:26:31.293880Z",
     "start_time": "2020-10-15T15:26:31.287730Z"
    },
    "hidden": true
   },
   "outputs": [],
   "source": [
    "df_.isna().sum()"
   ]
  },
  {
   "cell_type": "code",
   "execution_count": null,
   "metadata": {
    "ExecuteTime": {
     "end_time": "2020-10-15T15:26:31.300809Z",
     "start_time": "2020-10-15T15:26:31.295848Z"
    },
    "hidden": true
   },
   "outputs": [],
   "source": [
    "df_['index'].dt.year"
   ]
  },
  {
   "cell_type": "code",
   "execution_count": null,
   "metadata": {
    "ExecuteTime": {
     "end_time": "2020-10-15T15:26:31.322850Z",
     "start_time": "2020-10-15T15:26:31.302187Z"
    },
    "hidden": true
   },
   "outputs": [],
   "source": [
    "df_['index'].map(lambda x: x.strftime('%Y'))"
   ]
  },
  {
   "cell_type": "code",
   "execution_count": null,
   "metadata": {
    "ExecuteTime": {
     "end_time": "2020-10-15T15:26:31.329459Z",
     "start_time": "2020-10-15T15:26:31.324775Z"
    },
    "hidden": true
   },
   "outputs": [],
   "source": [
    "test = df_.loc[0,'index']\n",
    "test"
   ]
  },
  {
   "cell_type": "code",
   "execution_count": null,
   "metadata": {
    "ExecuteTime": {
     "end_time": "2020-10-15T15:26:31.334722Z",
     "start_time": "2020-10-15T15:26:31.331397Z"
    },
    "hidden": true
   },
   "outputs": [],
   "source": [
    "test.strftime('%y')"
   ]
  },
  {
   "cell_type": "markdown",
   "metadata": {
    "hidden": true
   },
   "source": [
    "### Date Str Formatting\n",
    "\n"
   ]
  },
  {
   "cell_type": "markdown",
   "metadata": {
    "hidden": true
   },
   "source": [
    "\n",
    "Formatting follows the Python datetime <strong><a href='http://strftime.org/'>strftime</a></strong> codes.<br>\n",
    "The following examples are based on <tt>datetime.datetime(2001, 2, 3, 16, 5, 6)</tt>:\n",
    "<br><br>\n",
    "\n",
    "<table style=\"display: inline-block\">  \n",
    "<tr><th>CODE</th><th>MEANING</th><th>EXAMPLE</th><tr>\n",
    "<tr><td>%Y</td><td>Year with century as a decimal number.</td><td>2001</td></tr>\n",
    "<tr><td>%y</td><td>Year without century as a zero-padded decimal number.</td><td>01</td></tr>\n",
    "<tr><td>%m</td><td>Month as a zero-padded decimal number.</td><td>02</td></tr>\n",
    "<tr><td>%B</td><td>Month as locale’s full name.</td><td>February</td></tr>\n",
    "<tr><td>%b</td><td>Month as locale’s abbreviated name.</td><td>Feb</td></tr>\n",
    "<tr><td>%d</td><td>Day of the month as a zero-padded decimal number.</td><td>03</td></tr>  \n",
    "<tr><td>%A</td><td>Weekday as locale’s full name.</td><td>Saturday</td></tr>\n",
    "<tr><td>%a</td><td>Weekday as locale’s abbreviated name.</td><td>Sat</td></tr>\n",
    "<tr><td>%H</td><td>Hour (24-hour clock) as a zero-padded decimal number.</td><td>16</td></tr>\n",
    "<tr><td>%I</td><td>Hour (12-hour clock) as a zero-padded decimal number.</td><td>04</td></tr>\n",
    "<tr><td>%p</td><td>Locale’s equivalent of either AM or PM.</td><td>PM</td></tr>\n",
    "<tr><td>%M</td><td>Minute as a zero-padded decimal number.</td><td>05</td></tr>\n",
    "<tr><td>%S</td><td>Second as a zero-padded decimal number.</td><td>06</td></tr>\n",
    "</table>\n",
    "<table style=\"display: inline-block\">\n",
    "<tr><th>CODE</th><th>MEANING</th><th>EXAMPLE</th><tr>\n",
    "<tr><td>%#m</td><td>Month as a decimal number. (Windows)</td><td>2</td></tr>\n",
    "<tr><td>%-m</td><td>Month as a decimal number. (Mac/Linux)</td><td>2</td></tr>\n",
    "<tr><td>%#x</td><td>Long date</td><td>Saturday, February 03, 2001</td></tr>\n",
    "<tr><td>%#c</td><td>Long date and time</td><td>Saturday, February 03, 2001 16:05:06</td></tr>\n",
    "</table>  \n",
    "    "
   ]
  },
  {
   "cell_type": "code",
   "execution_count": null,
   "metadata": {
    "ExecuteTime": {
     "end_time": "2020-10-15T15:26:31.341365Z",
     "start_time": "2020-10-15T15:26:31.336518Z"
    },
    "hidden": true
   },
   "outputs": [],
   "source": [
    "test = ts.index[0]\n",
    "print(test)\n",
    "test\n"
   ]
  },
  {
   "cell_type": "code",
   "execution_count": null,
   "metadata": {
    "ExecuteTime": {
     "end_time": "2020-10-15T15:26:31.346518Z",
     "start_time": "2020-10-15T15:26:31.343238Z"
    },
    "hidden": true,
    "scrolled": true
   },
   "outputs": [],
   "source": [
    "print(test.strftime(\"%m-%d-%Y\"))\n",
    "print(test.strftime(\"%T\"))"
   ]
  },
  {
   "cell_type": "code",
   "execution_count": null,
   "metadata": {
    "ExecuteTime": {
     "end_time": "2020-10-15T15:26:31.356317Z",
     "start_time": "2020-10-15T15:26:31.350346Z"
    },
    "hidden": true
   },
   "outputs": [],
   "source": [
    "TS['SHOOTING']"
   ]
  },
  {
   "cell_type": "code",
   "execution_count": null,
   "metadata": {
    "hidden": true
   },
   "outputs": [],
   "source": []
  },
  {
   "cell_type": "markdown",
   "metadata": {
    "hidden": true
   },
   "source": [
    "## A: Groupby Indexing"
   ]
  },
  {
   "cell_type": "code",
   "execution_count": null,
   "metadata": {
    "ExecuteTime": {
     "end_time": "2020-10-15T15:26:31.606316Z",
     "start_time": "2020-10-15T15:26:31.358814Z"
    },
    "hidden": true
   },
   "outputs": [],
   "source": [
    "ts.groupby(pd.Grouper(freq='M')).sum().plot(subplots=True)"
   ]
  },
  {
   "cell_type": "code",
   "execution_count": null,
   "metadata": {
    "hidden": true
   },
   "outputs": [],
   "source": []
  }
 ],
 "metadata": {
  "kernelspec": {
   "display_name": "learn-env",
   "language": "python",
   "name": "learn-env"
  },
  "language_info": {
   "codemirror_mode": {
    "name": "ipython",
    "version": 3
   },
   "file_extension": ".py",
   "mimetype": "text/x-python",
   "name": "python",
   "nbconvert_exporter": "python",
   "pygments_lexer": "ipython3",
   "version": "3.6.11"
  },
  "toc": {
   "base_numbering": 1,
   "nav_menu": {},
   "number_sections": false,
   "sideBar": true,
   "skip_h1_title": false,
   "title_cell": "Table of Contents",
   "title_sidebar": "Contents",
   "toc_cell": false,
   "toc_position": {
    "height": "calc(100% - 180px)",
    "left": "10px",
    "top": "150px",
    "width": "284.438px"
   },
   "toc_section_display": true,
   "toc_window_display": true
  }
 },
 "nbformat": 4,
 "nbformat_minor": 2
}
