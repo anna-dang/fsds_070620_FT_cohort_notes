{
 "cells": [
  {
   "cell_type": "markdown",
   "metadata": {},
   "source": [
    "# Mod 4 Appendix: Deep NLP"
   ]
  },
  {
   "cell_type": "markdown",
   "metadata": {},
   "source": [
    "- Bonus Office Hours S.G.\n",
    "- 11/18/20\n",
    "- online-ds-pt-041320"
   ]
  },
  {
   "cell_type": "markdown",
   "metadata": {},
   "source": [
    "> You are not allowed to use any propriety functions from this notebook in your projects. "
   ]
  },
  {
   "cell_type": "markdown",
   "metadata": {},
   "source": [
    "## Learning Objectives"
   ]
  },
  {
   "cell_type": "markdown",
   "metadata": {},
   "source": [
    "- Discuss word Embeddings and their advantages\n",
    "- Training Word2Vec models\n",
    "- Using pretrained word embeddings\n",
    "\n",
    "\n",
    "- Create a Classification Model for true-trump (\"Twitter for Android\") vs trump-staffer(\"Twitter for iPhone - from period of time when android was still in use)\n",
    "\n",
    "    - Use lesson's W2Vec class in Sci-kit learn models\n",
    "    - Use LSTMs\n",
    "    - Use RNN/GRUs\n",
    "\n",
    "\n",
    "\n",
    "\n",
    "\n",
    "\n",
    "- Compare:\n",
    "    1.  Mean embeddings vs count/tfidf data with scikit learn.\n",
    "    \n",
    "\n",
    "<!-- ## References\n",
    "\n",
    "- My Work-in-Progress Capstone v2.0 Notebook:\n",
    "    - [GitHub Notebook Link](https://github.com/jirvingphd/capstone-project-using-trumps-tweets-to-predict-stock-market/blob/WIP/Capstone%20Restarted%2010-2020.ipynb) -->"
   ]
  },
  {
   "cell_type": "markdown",
   "metadata": {},
   "source": [
    "## NLP & Word Vectorization"
   ]
  },
  {
   "cell_type": "markdown",
   "metadata": {},
   "source": [
    "> **_Natural Language Processing_**, or **_NLP_**, is the study of how computers can interact with humans through the use of human language.  Although this is a field that is quite important to Data Scientists, it does not belong to Data Science alone.  NLP has been around for quite a while, and sits at the intersection of *Computer Science*, *Artificial Intelligence*, *Linguistics*, and *Information Theory*. "
   ]
  },
  {
   "cell_type": "markdown",
   "metadata": {},
   "source": [
    "# Word Embeddings"
   ]
  },
  {
   "cell_type": "markdown",
   "metadata": {},
   "source": [
    "<img src=\"https://raw.githubusercontent.com/jirvingphd/dsc-word-embeddings-online-ds-ft-100719/master/images/embeddings.png\">"
   ]
  },
  {
   "cell_type": "markdown",
   "metadata": {},
   "source": [
    "- Convert words into a vector space\n",
    "    + Mathematical object\n",
    "- It's all about closeness\n",
    "    + Distributional Hypothesis: https://en.wikipedia.org/wiki/Distributional_semantics#Distributional_hypothesis"
   ]
  },
  {
   "cell_type": "markdown",
   "metadata": {},
   "source": [
    "<img src=\"https://raw.githubusercontent.com/jirvingphd/dsc-word-embeddings-online-ds-ft-100719/master/images/vectors.png\">"
   ]
  },
  {
   "cell_type": "markdown",
   "metadata": {},
   "source": [
    "## Resources"
   ]
  },
  {
   "cell_type": "markdown",
   "metadata": {},
   "source": [
    "- Kaggle Tutorial:  https://www.kaggle.com/learn/embeddings\n",
    "- Google Embedding Crash Course: https://developers.google.com/machine-learning/crash-course/embeddings"
   ]
  },
  {
   "cell_type": "markdown",
   "metadata": {},
   "source": [
    "## Word2Vec"
   ]
  },
  {
   "cell_type": "markdown",
   "metadata": {},
   "source": [
    "<img src=\"https://raw.githubusercontent.com/jirvingphd/dsc-using-word2vec-online-ds-ft-100719/master/images/training_data.png\">"
   ]
  },
  {
   "cell_type": "markdown",
   "metadata": {},
   "source": []
  },
  {
   "cell_type": "markdown",
   "metadata": {},
   "source": [
    "### Skip-Gram Model"
   ]
  },
  {
   "cell_type": "markdown",
   "metadata": {},
   "source": [
    "- Train the MLP to find the best weights (context) to map word-to-word\n",
    "- But since words close to another usually contain context, we're _really_ teaching it context in those weights\n",
    "- Gut check: similar contexted words can be exchanged\n",
    "    + EX: \"A fluffy **dog** is a great pet\" <--> \"A fluffy **cat** is a great pet\"\n",
    "\n",
    "- By training a text-generation model, we wind up with a lookup table where each word has its own vector "
   ]
  },
  {
   "cell_type": "markdown",
   "metadata": {},
   "source": [
    "<img src=\"https://raw.githubusercontent.com/jirvingphd/dsc-using-word2vec-online-ds-ft-100719/master/images/new_skip_gram_net_arch.png\">\n",
    "\n",
    "\n",
    "<img src=\"https://raw.githubusercontent.com/learn-co-students/dsc-using-word2vec-online-ds-ft-100719/master/images/new_word2vec_weight_matrix_lookup_table.png\">"
   ]
  },
  {
   "cell_type": "markdown",
   "metadata": {},
   "source": [
    "## GloVe - Global Vectors for Word Representation"
   ]
  },
  {
   "cell_type": "markdown",
   "metadata": {},
   "source": [
    "### Transfer Learning"
   ]
  },
  {
   "cell_type": "markdown",
   "metadata": {},
   "source": [
    "- Usually embeddings are hundreds of dimensions\n",
    "- Just use the word embeddings already learned from before!\n",
    "    + Unless very specific terminology, context will likely carry within language\n",
    "- Comparable to CNN transfer learning"
   ]
  },
  {
   "cell_type": "markdown",
   "metadata": {},
   "source": [
    "# Sequence Models - Recurrent Neural Networks"
   ]
  },
  {
   "cell_type": "markdown",
   "metadata": {},
   "source": [
    "<img src=\"https://raw.githubusercontent.com/jirvingphd/dsc-understanding-recurrent-neural-networks-online-ds-ft-100719/master/images/unrolled.gif\">"
   ]
  },
  {
   "cell_type": "markdown",
   "metadata": {},
   "source": [
    "<img src=\"https://raw.githubusercontent.com/jirvingphd/dsc-sequence-model-use-cases-online-ds-ft-100719/master/images/rnn.gif\">"
   ]
  },
  {
   "cell_type": "markdown",
   "metadata": {},
   "source": [
    "## LSTMs & GRUs"
   ]
  },
  {
   "cell_type": "markdown",
   "metadata": {},
   "source": [
    "- GRU (Gated Recurrent Units (GRUs)\n",
    "    - Reset Gate\n",
    "    - Update Gate\n",
    "    \n",
    "- LSTM (Long Short Term Memory Cells)\n",
    "   - Input Gate\n",
    "   - Forget Gate\n",
    "   - Output Gate"
   ]
  },
  {
   "cell_type": "markdown",
   "metadata": {},
   "source": [
    "<img src=\"https://raw.githubusercontent.com/jirvingphd/dsc-sequence-model-use-cases-online-ds-ft-100719/master/images/RNN-unrolled.png\">"
   ]
  },
  {
   "cell_type": "markdown",
   "metadata": {},
   "source": [
    "Each word will have a vector of contexts: the embeddings!"
   ]
  },
  {
   "cell_type": "markdown",
   "metadata": {},
   "source": [
    "# Activity: Creating Word Embeddings with Trump's Tweets"
   ]
  },
  {
   "cell_type": "code",
   "execution_count": 2,
   "metadata": {
    "ExecuteTime": {
     "end_time": "2020-11-19T18:04:39.209752Z",
     "start_time": "2020-11-19T18:04:36.085837Z"
    }
   },
   "outputs": [
    {
     "name": "stdout",
     "output_type": "stream",
     "text": [
      "fsds v0.2.27 loaded.  Read the docs: https://fs-ds.readthedocs.io/en/latest/ \n"
     ]
    },
    {
     "data": {
      "text/html": [
       "<style  type=\"text/css\" >\n",
       "</style><table id=\"T_b04dd876_2a91_11eb_8248_acde48001122\" ><caption>Loaded Packages and Handles</caption><thead>    <tr>        <th class=\"col_heading level0 col0\" >Handle</th>        <th class=\"col_heading level0 col1\" >Package</th>        <th class=\"col_heading level0 col2\" >Description</th>    </tr></thead><tbody>\n",
       "                <tr>\n",
       "                                <td id=\"T_b04dd876_2a91_11eb_8248_acde48001122row0_col0\" class=\"data row0 col0\" >dp</td>\n",
       "                        <td id=\"T_b04dd876_2a91_11eb_8248_acde48001122row0_col1\" class=\"data row0 col1\" >IPython.display</td>\n",
       "                        <td id=\"T_b04dd876_2a91_11eb_8248_acde48001122row0_col2\" class=\"data row0 col2\" >Display modules with helpful display and clearing commands.</td>\n",
       "            </tr>\n",
       "            <tr>\n",
       "                                <td id=\"T_b04dd876_2a91_11eb_8248_acde48001122row1_col0\" class=\"data row1 col0\" >fs</td>\n",
       "                        <td id=\"T_b04dd876_2a91_11eb_8248_acde48001122row1_col1\" class=\"data row1 col1\" >fsds</td>\n",
       "                        <td id=\"T_b04dd876_2a91_11eb_8248_acde48001122row1_col2\" class=\"data row1 col2\" >Custom data science bootcamp student package</td>\n",
       "            </tr>\n",
       "            <tr>\n",
       "                                <td id=\"T_b04dd876_2a91_11eb_8248_acde48001122row2_col0\" class=\"data row2 col0\" >mpl</td>\n",
       "                        <td id=\"T_b04dd876_2a91_11eb_8248_acde48001122row2_col1\" class=\"data row2 col1\" >matplotlib</td>\n",
       "                        <td id=\"T_b04dd876_2a91_11eb_8248_acde48001122row2_col2\" class=\"data row2 col2\" >Matplotlib's base OOP module with formatting artists</td>\n",
       "            </tr>\n",
       "            <tr>\n",
       "                                <td id=\"T_b04dd876_2a91_11eb_8248_acde48001122row3_col0\" class=\"data row3 col0\" >plt</td>\n",
       "                        <td id=\"T_b04dd876_2a91_11eb_8248_acde48001122row3_col1\" class=\"data row3 col1\" >matplotlib.pyplot</td>\n",
       "                        <td id=\"T_b04dd876_2a91_11eb_8248_acde48001122row3_col2\" class=\"data row3 col2\" >Matplotlib's matlab-like plotting module</td>\n",
       "            </tr>\n",
       "            <tr>\n",
       "                                <td id=\"T_b04dd876_2a91_11eb_8248_acde48001122row4_col0\" class=\"data row4 col0\" >np</td>\n",
       "                        <td id=\"T_b04dd876_2a91_11eb_8248_acde48001122row4_col1\" class=\"data row4 col1\" >numpy</td>\n",
       "                        <td id=\"T_b04dd876_2a91_11eb_8248_acde48001122row4_col2\" class=\"data row4 col2\" >scientific computing with Python</td>\n",
       "            </tr>\n",
       "            <tr>\n",
       "                                <td id=\"T_b04dd876_2a91_11eb_8248_acde48001122row5_col0\" class=\"data row5 col0\" >pd</td>\n",
       "                        <td id=\"T_b04dd876_2a91_11eb_8248_acde48001122row5_col1\" class=\"data row5 col1\" >pandas</td>\n",
       "                        <td id=\"T_b04dd876_2a91_11eb_8248_acde48001122row5_col2\" class=\"data row5 col2\" >High performance data structures and tools</td>\n",
       "            </tr>\n",
       "            <tr>\n",
       "                                <td id=\"T_b04dd876_2a91_11eb_8248_acde48001122row6_col0\" class=\"data row6 col0\" >sns</td>\n",
       "                        <td id=\"T_b04dd876_2a91_11eb_8248_acde48001122row6_col1\" class=\"data row6 col1\" >seaborn</td>\n",
       "                        <td id=\"T_b04dd876_2a91_11eb_8248_acde48001122row6_col2\" class=\"data row6 col2\" >High-level data visualization library based on matplotlib</td>\n",
       "            </tr>\n",
       "    </tbody></table>"
      ],
      "text/plain": [
       "<pandas.io.formats.style.Styler at 0x7fe24529a470>"
      ]
     },
     "metadata": {},
     "output_type": "display_data"
    },
    {
     "data": {
      "text/html": [
       "        <script type=\"text/javascript\">\n",
       "        window.PlotlyConfig = {MathJaxConfig: 'local'};\n",
       "        if (window.MathJax) {MathJax.Hub.Config({SVG: {font: \"STIX-Web\"}});}\n",
       "        if (typeof require !== 'undefined') {\n",
       "        require.undef(\"plotly\");\n",
       "        requirejs.config({\n",
       "            paths: {\n",
       "                'plotly': ['https://cdn.plot.ly/plotly-latest.min']\n",
       "            }\n",
       "        });\n",
       "        require(['plotly'], function(Plotly) {\n",
       "            window._Plotly = Plotly;\n",
       "        });\n",
       "        }\n",
       "        </script>\n",
       "        "
      ]
     },
     "metadata": {},
     "output_type": "display_data"
    },
    {
     "data": {
      "text/html": [
       "        <script type=\"text/javascript\">\n",
       "        window.PlotlyConfig = {MathJaxConfig: 'local'};\n",
       "        if (window.MathJax) {MathJax.Hub.Config({SVG: {font: \"STIX-Web\"}});}\n",
       "        if (typeof require !== 'undefined') {\n",
       "        require.undef(\"plotly\");\n",
       "        requirejs.config({\n",
       "            paths: {\n",
       "                'plotly': ['https://cdn.plot.ly/plotly-latest.min']\n",
       "            }\n",
       "        });\n",
       "        require(['plotly'], function(Plotly) {\n",
       "            window._Plotly = Plotly;\n",
       "        });\n",
       "        }\n",
       "        </script>\n",
       "        "
      ]
     },
     "metadata": {},
     "output_type": "display_data"
    },
    {
     "name": "stdout",
     "output_type": "stream",
     "text": [
      "[i] Pandas .iplot() method activated.\n"
     ]
    }
   ],
   "source": [
    "# !pip install -U fsds\n",
    "from fsds.imports import *"
   ]
  },
  {
   "cell_type": "code",
   "execution_count": 3,
   "metadata": {
    "ExecuteTime": {
     "end_time": "2020-11-19T18:04:41.420380Z",
     "start_time": "2020-11-19T18:04:39.211726Z"
    }
   },
   "outputs": [
    {
     "data": {
      "text/html": [
       "<div>\n",
       "<style scoped>\n",
       "    .dataframe tbody tr th:only-of-type {\n",
       "        vertical-align: middle;\n",
       "    }\n",
       "\n",
       "    .dataframe tbody tr th {\n",
       "        vertical-align: top;\n",
       "    }\n",
       "\n",
       "    .dataframe thead th {\n",
       "        text-align: right;\n",
       "    }\n",
       "</style>\n",
       "<table border=\"1\" class=\"dataframe\">\n",
       "  <thead>\n",
       "    <tr style=\"text-align: right;\">\n",
       "      <th></th>\n",
       "      <th>source</th>\n",
       "      <th>text</th>\n",
       "      <th>retweet_count</th>\n",
       "      <th>favorite_count</th>\n",
       "      <th>is_retweet</th>\n",
       "      <th>id_str</th>\n",
       "    </tr>\n",
       "    <tr>\n",
       "      <th>created_at</th>\n",
       "      <th></th>\n",
       "      <th></th>\n",
       "      <th></th>\n",
       "      <th></th>\n",
       "      <th></th>\n",
       "      <th></th>\n",
       "    </tr>\n",
       "  </thead>\n",
       "  <tbody>\n",
       "    <tr>\n",
       "      <th>2016-12-01 14:37:57</th>\n",
       "      <td>Twitter for iPhone</td>\n",
       "      <td>My thoughts and prayers are with those affecte...</td>\n",
       "      <td>12077</td>\n",
       "      <td>65724</td>\n",
       "      <td>False</td>\n",
       "      <td>804333718999539712</td>\n",
       "    </tr>\n",
       "    <tr>\n",
       "      <th>2016-12-01 14:38:09</th>\n",
       "      <td>Twitter for Android</td>\n",
       "      <td>Getting ready to leave for the Great State of ...</td>\n",
       "      <td>9834</td>\n",
       "      <td>57249</td>\n",
       "      <td>False</td>\n",
       "      <td>804333771021570048</td>\n",
       "    </tr>\n",
       "    <tr>\n",
       "      <th>2016-12-01 22:52:10</th>\n",
       "      <td>Twitter for iPhone</td>\n",
       "      <td>Heading to U.S. Bank Arena in Cincinnati Ohio ...</td>\n",
       "      <td>5564</td>\n",
       "      <td>31256</td>\n",
       "      <td>False</td>\n",
       "      <td>804458095569158144</td>\n",
       "    </tr>\n",
       "    <tr>\n",
       "      <th>2016-12-02 02:45:18</th>\n",
       "      <td>Twitter for iPhone</td>\n",
       "      <td>Thank you Ohio! Together we made history – and...</td>\n",
       "      <td>17283</td>\n",
       "      <td>72196</td>\n",
       "      <td>False</td>\n",
       "      <td>804516764562374656</td>\n",
       "    </tr>\n",
       "    <tr>\n",
       "      <th>2016-12-03 00:44:20</th>\n",
       "      <td>Twitter for Android</td>\n",
       "      <td>The President of Taiwan CALLED ME today to wis...</td>\n",
       "      <td>24700</td>\n",
       "      <td>111106</td>\n",
       "      <td>False</td>\n",
       "      <td>804848711599882240</td>\n",
       "    </tr>\n",
       "    <tr>\n",
       "      <th>...</th>\n",
       "      <td>...</td>\n",
       "      <td>...</td>\n",
       "      <td>...</td>\n",
       "      <td>...</td>\n",
       "      <td>...</td>\n",
       "      <td>...</td>\n",
       "    </tr>\n",
       "    <tr>\n",
       "      <th>2020-01-01 01:17:43</th>\n",
       "      <td>Twitter for iPhone</td>\n",
       "      <td>RT @SenJohnKennedy: I think Speaker Pelosi is ...</td>\n",
       "      <td>8893</td>\n",
       "      <td>0</td>\n",
       "      <td>True</td>\n",
       "      <td>1212181071988703232</td>\n",
       "    </tr>\n",
       "    <tr>\n",
       "      <th>2020-01-01 01:18:47</th>\n",
       "      <td>Twitter for iPhone</td>\n",
       "      <td>RT @DanScavino: https://t.co/CJRPySkF1Z</td>\n",
       "      <td>10796</td>\n",
       "      <td>0</td>\n",
       "      <td>True</td>\n",
       "      <td>1212181341078458369</td>\n",
       "    </tr>\n",
       "    <tr>\n",
       "      <th>2020-01-01 01:22:28</th>\n",
       "      <td>Twitter for iPhone</td>\n",
       "      <td>Our fantastic First Lady! https://t.co/6iswto4WDI</td>\n",
       "      <td>27567</td>\n",
       "      <td>132633</td>\n",
       "      <td>False</td>\n",
       "      <td>1212182267113680896</td>\n",
       "    </tr>\n",
       "    <tr>\n",
       "      <th>2020-01-01 01:30:35</th>\n",
       "      <td>Twitter for iPhone</td>\n",
       "      <td>HAPPY NEW YEAR!</td>\n",
       "      <td>85409</td>\n",
       "      <td>576045</td>\n",
       "      <td>False</td>\n",
       "      <td>1212184310389850119</td>\n",
       "    </tr>\n",
       "    <tr>\n",
       "      <th>2020-01-01 03:12:07</th>\n",
       "      <td>Twitter Media Studio</td>\n",
       "      <td>https://t.co/EVAEYD1AgV</td>\n",
       "      <td>25016</td>\n",
       "      <td>108830</td>\n",
       "      <td>False</td>\n",
       "      <td>1212209862094012416</td>\n",
       "    </tr>\n",
       "  </tbody>\n",
       "</table>\n",
       "<p>14066 rows × 6 columns</p>\n",
       "</div>"
      ],
      "text/plain": [
       "                                   source  \\\n",
       "created_at                                  \n",
       "2016-12-01 14:37:57    Twitter for iPhone   \n",
       "2016-12-01 14:38:09   Twitter for Android   \n",
       "2016-12-01 22:52:10    Twitter for iPhone   \n",
       "2016-12-02 02:45:18    Twitter for iPhone   \n",
       "2016-12-03 00:44:20   Twitter for Android   \n",
       "...                                   ...   \n",
       "2020-01-01 01:17:43    Twitter for iPhone   \n",
       "2020-01-01 01:18:47    Twitter for iPhone   \n",
       "2020-01-01 01:22:28    Twitter for iPhone   \n",
       "2020-01-01 01:30:35    Twitter for iPhone   \n",
       "2020-01-01 03:12:07  Twitter Media Studio   \n",
       "\n",
       "                                                                  text  \\\n",
       "created_at                                                               \n",
       "2016-12-01 14:37:57  My thoughts and prayers are with those affecte...   \n",
       "2016-12-01 14:38:09  Getting ready to leave for the Great State of ...   \n",
       "2016-12-01 22:52:10  Heading to U.S. Bank Arena in Cincinnati Ohio ...   \n",
       "2016-12-02 02:45:18  Thank you Ohio! Together we made history – and...   \n",
       "2016-12-03 00:44:20  The President of Taiwan CALLED ME today to wis...   \n",
       "...                                                                ...   \n",
       "2020-01-01 01:17:43  RT @SenJohnKennedy: I think Speaker Pelosi is ...   \n",
       "2020-01-01 01:18:47            RT @DanScavino: https://t.co/CJRPySkF1Z   \n",
       "2020-01-01 01:22:28  Our fantastic First Lady! https://t.co/6iswto4WDI   \n",
       "2020-01-01 01:30:35                                    HAPPY NEW YEAR!   \n",
       "2020-01-01 03:12:07                            https://t.co/EVAEYD1AgV   \n",
       "\n",
       "                     retweet_count  favorite_count is_retweet  \\\n",
       "created_at                                                      \n",
       "2016-12-01 14:37:57          12077           65724      False   \n",
       "2016-12-01 14:38:09           9834           57249      False   \n",
       "2016-12-01 22:52:10           5564           31256      False   \n",
       "2016-12-02 02:45:18          17283           72196      False   \n",
       "2016-12-03 00:44:20          24700          111106      False   \n",
       "...                            ...             ...        ...   \n",
       "2020-01-01 01:17:43           8893               0       True   \n",
       "2020-01-01 01:18:47          10796               0       True   \n",
       "2020-01-01 01:22:28          27567          132633      False   \n",
       "2020-01-01 01:30:35          85409          576045      False   \n",
       "2020-01-01 03:12:07          25016          108830      False   \n",
       "\n",
       "                                  id_str  \n",
       "created_at                                \n",
       "2016-12-01 14:37:57   804333718999539712  \n",
       "2016-12-01 14:38:09   804333771021570048  \n",
       "2016-12-01 22:52:10   804458095569158144  \n",
       "2016-12-02 02:45:18   804516764562374656  \n",
       "2016-12-03 00:44:20   804848711599882240  \n",
       "...                                  ...  \n",
       "2020-01-01 01:17:43  1212181071988703232  \n",
       "2020-01-01 01:18:47  1212181341078458369  \n",
       "2020-01-01 01:22:28  1212182267113680896  \n",
       "2020-01-01 01:30:35  1212184310389850119  \n",
       "2020-01-01 03:12:07  1212209862094012416  \n",
       "\n",
       "[14066 rows x 6 columns]"
      ]
     },
     "execution_count": 3,
     "metadata": {},
     "output_type": "execute_result"
    }
   ],
   "source": [
    "df = fs.datasets.load_nlp_finding_trump(read_csv_kwds={'parse_dates':['created_at'],\n",
    "                                                      'index_col':'created_at'})\n",
    "df.sort_index(inplace=True)\n",
    "df"
   ]
  },
  {
   "cell_type": "markdown",
   "metadata": {},
   "source": [
    "## Training Word2Vec"
   ]
  },
  {
   "cell_type": "markdown",
   "metadata": {},
   "source": [
    "### Resources:\n",
    "\n",
    "- Two Part Word2Vec Tutorial  (linked from Learn)\n",
    "    - [Part 1: The Skip-Gram Model](http://mccormickml.com/2016/04/19/word2vec-tutorial-the-skip-gram-model/)\n",
    "    - [Part 2: Negative Sampling](http://mccormickml.com/2017/01/11/word2vec-tutorial-part-2-negative-sampling/)\n"
   ]
  },
  {
   "cell_type": "markdown",
   "metadata": {},
   "source": [
    "- `sentences`: dataset to train on\n",
    "- `size`: how big of a word vector do we want\n",
    "- `window`: how many words around the target word to train with\n",
    "- `min_count`: how many times the word shows up in corpus; we don't want words that are rarely used\n",
    "- `workers`: number of threads (individual task \"workers\")\n",
    "\n",
    "```python\n",
    "from gensim.models import Word2Vec\n",
    "\n",
    "# Let's assume we have our text corpus already tokenized and stored inside the variable 'data'--the regular text preprocessing steps still need to be handled before training a Word2Vec model!\n",
    "\n",
    "model = Word2Vec(data, size=100, window=5, min_count=1, workers=4)\n",
    "\n",
    "model.train(data, total_examples=model.corpus_count)\n",
    "```"
   ]
  },
  {
   "cell_type": "code",
   "execution_count": 4,
   "metadata": {
    "ExecuteTime": {
     "end_time": "2020-11-19T18:04:42.740783Z",
     "start_time": "2020-11-19T18:04:41.422886Z"
    }
   },
   "outputs": [],
   "source": [
    "from nltk import word_tokenize, TweetTokenizer\n",
    "from gensim.utils import simple_preprocess"
   ]
  },
  {
   "cell_type": "code",
   "execution_count": 5,
   "metadata": {
    "ExecuteTime": {
     "end_time": "2020-11-19T18:04:43.870129Z",
     "start_time": "2020-11-19T18:04:42.743584Z"
    }
   },
   "outputs": [
    {
     "name": "stdout",
     "output_type": "stream",
     "text": [
      "My thoughts and prayers are with those affected by the tragic storms and tornadoes in the Southeastern United States. Stay safe!\n"
     ]
    },
    {
     "data": {
      "text/plain": [
       "['my',\n",
       " 'thoughts',\n",
       " 'and',\n",
       " 'prayers',\n",
       " 'are',\n",
       " 'with',\n",
       " 'those',\n",
       " 'affected',\n",
       " 'by',\n",
       " 'the',\n",
       " 'tragic',\n",
       " 'storms',\n",
       " 'and',\n",
       " 'tornadoes',\n",
       " 'in',\n",
       " 'the',\n",
       " 'southeastern',\n",
       " 'united',\n",
       " 'states',\n",
       " 'stay',\n",
       " 'safe']"
      ]
     },
     "execution_count": 5,
     "metadata": {},
     "output_type": "execute_result"
    }
   ],
   "source": [
    "## TRAINING WORD2VEC FROM FULL DF NOT JUST TARGETS\n",
    "data_lower = df['text'].map(lambda x: simple_preprocess(x,deacc=True,\n",
    "                                                        max_len=100))\n",
    "print(df.iloc[0]['text'])\n",
    "data_lower[0]"
   ]
  },
  {
   "cell_type": "code",
   "execution_count": 6,
   "metadata": {
    "ExecuteTime": {
     "end_time": "2020-11-19T18:04:43.874208Z",
     "start_time": "2020-11-19T18:04:43.871797Z"
    }
   },
   "outputs": [],
   "source": [
    "from gensim.models import Word2Vec"
   ]
  },
  {
   "cell_type": "code",
   "execution_count": 7,
   "metadata": {
    "ExecuteTime": {
     "end_time": "2020-11-19T18:04:46.246569Z",
     "start_time": "2020-11-19T18:04:43.875929Z"
    }
   },
   "outputs": [
    {
     "data": {
      "text/plain": [
       "<gensim.models.word2vec.Word2Vec at 0x7fe2492ec550>"
      ]
     },
     "execution_count": 7,
     "metadata": {},
     "output_type": "execute_result"
    }
   ],
   "source": [
    "model = Word2Vec(data_lower,size=100,window=5,min_count=3,workers=4)\n",
    "model"
   ]
  },
  {
   "cell_type": "code",
   "execution_count": 8,
   "metadata": {
    "ExecuteTime": {
     "end_time": "2020-11-19T18:04:48.022411Z",
     "start_time": "2020-11-19T18:04:46.249231Z"
    }
   },
   "outputs": [
    {
     "data": {
      "text/plain": [
       "(2714276, 3665260)"
      ]
     },
     "execution_count": 8,
     "metadata": {},
     "output_type": "execute_result"
    }
   ],
   "source": [
    "model.train(data_lower, total_examples=model.corpus_count,epochs=10)"
   ]
  },
  {
   "cell_type": "code",
   "execution_count": 9,
   "metadata": {
    "ExecuteTime": {
     "end_time": "2020-11-19T18:04:48.031187Z",
     "start_time": "2020-11-19T18:04:48.026825Z"
    }
   },
   "outputs": [
    {
     "data": {
      "text/plain": [
       "<gensim.models.keyedvectors.Word2VecKeyedVectors at 0x7fe22f13e978>"
      ]
     },
     "execution_count": 9,
     "metadata": {},
     "output_type": "execute_result"
    }
   ],
   "source": [
    "wv = model.wv\n",
    "wv"
   ]
  },
  {
   "cell_type": "code",
   "execution_count": 10,
   "metadata": {
    "ExecuteTime": {
     "end_time": "2020-11-19T18:04:48.036354Z",
     "start_time": "2020-11-19T18:04:48.034201Z"
    }
   },
   "outputs": [],
   "source": [
    "# help(wv)"
   ]
  },
  {
   "cell_type": "code",
   "execution_count": 11,
   "metadata": {
    "ExecuteTime": {
     "end_time": "2020-11-19T18:04:48.043843Z",
     "start_time": "2020-11-19T18:04:48.038519Z"
    }
   },
   "outputs": [
    {
     "data": {
      "text/plain": [
       "array([-0.47134167, -0.6362152 ,  2.3970256 ,  0.03712704,  0.22200406,\n",
       "       -1.4737251 ,  2.5862446 , -2.279279  ,  0.88645685,  0.5479326 ,\n",
       "        0.05370128, -0.8498912 , -0.8636591 , -0.02449859, -2.022944  ,\n",
       "        1.5833262 , -1.227292  ,  0.81261104,  0.897354  , -1.7656753 ,\n",
       "        0.8880739 , -1.2040558 , -0.2317226 ,  2.1051044 ,  0.43358007,\n",
       "       -1.3900783 ,  1.2057625 , -2.769295  , -0.49646702, -0.26966357,\n",
       "       -0.886068  ,  0.41851607,  1.0091518 , -2.2166426 , -0.39256528,\n",
       "       -0.51057565, -0.11870784, -1.5474931 ,  0.7920277 ,  2.9579086 ,\n",
       "       -0.4111237 ,  2.019491  , -0.05283168, -0.45015082,  0.94313556,\n",
       "        2.2064579 ,  1.365165  , -2.239911  , -0.513293  ,  0.45253372,\n",
       "       -0.1256719 , -0.11205976,  1.160404  , -0.5386112 ,  0.7437438 ,\n",
       "       -2.7201774 , -1.7946459 ,  0.26237258, -1.275705  ,  0.97158384,\n",
       "       -0.6712614 , -0.9360047 , -0.7288205 ,  0.51002777, -1.027476  ,\n",
       "       -0.7530977 ,  0.51705974,  1.5743089 , -0.5571772 , -1.177648  ,\n",
       "        0.64734226, -0.35142866, -0.2420508 ,  0.1581751 ,  0.02499822,\n",
       "       -0.30351612,  0.2222479 ,  2.4403582 ,  1.12942   ,  2.1258273 ,\n",
       "        0.7912138 ,  1.8716764 ,  0.01843596, -1.7865247 ,  0.28112227,\n",
       "        0.40855527,  1.6653495 , -0.31804717, -0.40606925, -0.20030221,\n",
       "       -0.34038708, -0.48685074, -0.03549467, -0.49681112,  0.5892616 ,\n",
       "       -0.44824445,  2.5970588 , -2.18036   ,  1.9128358 ,  0.95836955],\n",
       "      dtype=float32)"
      ]
     },
     "execution_count": 11,
     "metadata": {},
     "output_type": "execute_result"
    }
   ],
   "source": [
    "wv['republican']"
   ]
  },
  {
   "cell_type": "code",
   "execution_count": 12,
   "metadata": {
    "ExecuteTime": {
     "end_time": "2020-11-19T18:04:48.056265Z",
     "start_time": "2020-11-19T18:04:48.045844Z"
    }
   },
   "outputs": [
    {
     "data": {
      "text/plain": [
       "[('democrat', 0.7447516918182373),\n",
       " ('senators', 0.7220684289932251),\n",
       " ('party', 0.6869982481002808),\n",
       " ('candidates', 0.6544948816299438),\n",
       " ('democratic', 0.5984729528427124),\n",
       " ('senate', 0.5880001783370972),\n",
       " ('republicans', 0.5868237614631653),\n",
       " ('unity', 0.5798426270484924),\n",
       " ('primary', 0.5700526833534241),\n",
       " ('vote', 0.5591492652893066)]"
      ]
     },
     "execution_count": 12,
     "metadata": {},
     "output_type": "execute_result"
    }
   ],
   "source": [
    "wv.most_similar('republican')"
   ]
  },
  {
   "cell_type": "code",
   "execution_count": 13,
   "metadata": {
    "ExecuteTime": {
     "end_time": "2020-11-19T18:04:48.063818Z",
     "start_time": "2020-11-19T18:04:48.058577Z"
    }
   },
   "outputs": [
    {
     "data": {
      "text/plain": [
       "[('japan', 0.40227097272872925),\n",
       " ('club', 0.36168813705444336),\n",
       " ('un', 0.35576486587524414),\n",
       " ('st', 0.35528564453125),\n",
       " ('vietnam', 0.3493337333202362),\n",
       " ('economic', 0.34747767448425293),\n",
       " ('kim', 0.3448988199234009),\n",
       " ('vb', 0.3374652862548828),\n",
       " ('republic', 0.3372483551502228),\n",
       " ('davos', 0.33375367522239685)]"
      ]
     },
     "execution_count": 13,
     "metadata": {},
     "output_type": "execute_result"
    }
   ],
   "source": [
    "wv.most_similar(negative=['democrat'])"
   ]
  },
  {
   "cell_type": "markdown",
   "metadata": {},
   "source": [
    "#### Word2Vec params"
   ]
  },
  {
   "cell_type": "markdown",
   "metadata": {},
   "source": [
    "```python\n",
    "## For initializing model\n",
    "sentences=None,\n",
    "    size=100,\n",
    "    alpha=0.025,\n",
    "    window=5,\n",
    "    min_count=5,\n",
    "    max_vocab_size=None,\n",
    "    sample=0.001,\n",
    "    seed=1,\n",
    "    workers=3,\n",
    "    min_alpha=0.0001,\n",
    "    sg=0,\n",
    "    hs=0,\n",
    "    negative=5,\n",
    "    cbow_mean=1,\n",
    "    hashfxn=<built-in function hash>,\n",
    "    iter=5,\n",
    "    null_word=0,\n",
    "    trim_rule=None,\n",
    "    sorted_vocab=1,\n",
    "    batch_words=10000,\n",
    "    compute_loss=False,\n",
    "    callbacks=(),\n",
    "    \n",
    "    \n",
    "## For training \n",
    "    sentences,\n",
    "    total_examples=None,\n",
    "    total_words=None,\n",
    "    epochs=None,\n",
    "    start_alpha=None,\n",
    "    end_alpha=None,\n",
    "    word_count=0,\n",
    "    queue_factor=2,\n",
    "    report_delay=1.0,\n",
    "    compute_loss=False,\n",
    "    callbacks=(),\n",
    "    ```"
   ]
  },
  {
   "cell_type": "code",
   "execution_count": 14,
   "metadata": {
    "ExecuteTime": {
     "end_time": "2020-11-19T18:04:48.072913Z",
     "start_time": "2020-11-19T18:04:48.066222Z"
    }
   },
   "outputs": [],
   "source": [
    "# ### USING WORD VECTOR MATH TO GET A FEEL FOR QUALITY OF MODE\n",
    "def word_math(wv,pos_words=['hillary'],neg_words=['bill'],\n",
    "              verbose=True,return_vec=False):\n",
    "    if isinstance(pos_words,str):\n",
    "        pos_words=[pos_words]\n",
    "    if isinstance(neg_words,str):\n",
    "        neg_words=[neg_words]\n",
    "\n",
    "\n",
    "    pos_eqn = '+'.join(pos_words)\n",
    "    neg_eqn = '-'.join(neg_words)\n",
    "\n",
    "    print('---'*15)    \n",
    "    print(f\"[i] Result for:\\t{pos_eqn}{' - '+neg_eqn if len(neg_eqn)>0 else ' '}\")\n",
    "    print('---'*15)\n",
    "\n",
    "    answer = wv.most_similar(positive=pos_words,negative=neg_words)\n",
    "    \n",
    "    if verbose:\n",
    "          [print(f\"- {ans[0]} ({round(ans[1],3)})\") for ans in answer]\n",
    "          print('---'*15,'\\n\\n')\n",
    "\n",
    "    if return_vec: \n",
    "          return answer\n",
    "    "
   ]
  },
  {
   "cell_type": "code",
   "execution_count": 15,
   "metadata": {
    "ExecuteTime": {
     "end_time": "2020-11-19T18:04:48.093712Z",
     "start_time": "2020-11-19T18:04:48.075266Z"
    }
   },
   "outputs": [
    {
     "name": "stdout",
     "output_type": "stream",
     "text": [
      "---------------------------------------------\n",
      "[i] Result for:\tamerica+crime \n",
      "---------------------------------------------\n",
      "- borders (0.73)\n",
      "- tough (0.592)\n",
      "- strong (0.582)\n",
      "- agenda (0.548)\n",
      "- strength (0.548)\n",
      "- open (0.529)\n",
      "- california (0.523)\n",
      "- excuses (0.513)\n",
      "- taxes (0.51)\n",
      "- choice (0.504)\n",
      "--------------------------------------------- \n",
      "\n",
      "\n",
      "---------------------------------------------\n",
      "[i] Result for:\tdemocrats+russia \n",
      "---------------------------------------------\n",
      "- dems (0.77)\n",
      "- russian (0.72)\n",
      "- russians (0.7)\n",
      "- facts (0.689)\n",
      "- hoax (0.681)\n",
      "- corruption (0.645)\n",
      "- phony (0.636)\n",
      "- collusion (0.635)\n",
      "- rigged (0.625)\n",
      "- dnc (0.625)\n",
      "--------------------------------------------- \n",
      "\n",
      "\n",
      "---------------------------------------------\n",
      "[i] Result for:\trepublican - honor\n",
      "---------------------------------------------\n",
      "- democrat (0.668)\n",
      "- liberal (0.595)\n",
      "- dem (0.593)\n",
      "- republicans (0.537)\n",
      "- senators (0.507)\n",
      "- democratic (0.491)\n",
      "- dems (0.487)\n",
      "- party (0.471)\n",
      "- left (0.466)\n",
      "- voters (0.446)\n",
      "--------------------------------------------- \n",
      "\n",
      "\n",
      "---------------------------------------------\n",
      "[i] Result for:\tman+power \n",
      "---------------------------------------------\n",
      "- person (0.72)\n",
      "- leader (0.564)\n",
      "- reputation (0.562)\n",
      "- connecticut (0.561)\n",
      "- citizen (0.546)\n",
      "- mine (0.544)\n",
      "- guy (0.541)\n",
      "- accuser (0.541)\n",
      "- identity (0.539)\n",
      "- loser (0.535)\n",
      "--------------------------------------------- \n",
      "\n",
      "\n",
      "---------------------------------------------\n",
      "[i] Result for:\trussia+honor \n",
      "---------------------------------------------\n",
      "- privilege (0.68)\n",
      "- campaign (0.648)\n",
      "- relations (0.637)\n",
      "- russians (0.63)\n",
      "- conversation (0.628)\n",
      "- collusion (0.623)\n",
      "- call (0.622)\n",
      "- origins (0.611)\n",
      "- ukraine (0.602)\n",
      "- perfect (0.588)\n",
      "--------------------------------------------- \n",
      "\n",
      "\n",
      "---------------------------------------------\n",
      "[i] Result for:\tchina - tariff\n",
      "---------------------------------------------\n",
      "- conversation (0.481)\n",
      "- putin (0.466)\n",
      "- president (0.458)\n",
      "- relationship (0.436)\n",
      "- meeting (0.421)\n",
      "- ukraine (0.413)\n",
      "- ukrainian (0.401)\n",
      "- having (0.373)\n",
      "- administration (0.367)\n",
      "- call (0.367)\n",
      "--------------------------------------------- \n",
      "\n",
      "\n"
     ]
    }
   ],
   "source": [
    "equation_list=[(['america','crime'],[]),\n",
    "               \n",
    "               (['democrats','russia'],[]),\n",
    "               (['republican'],['honor']),\n",
    "               (['man','power'],[]),\n",
    "               (['russia','honor'],[]),\n",
    "              (['china','tariff'])]\n",
    "\n",
    "for eqn in equation_list:\n",
    "#     print('\\n\\n')\n",
    "    word_math(wv,*eqn)\n",
    "#     word_math(wv2,*eqn)"
   ]
  },
  {
   "cell_type": "markdown",
   "metadata": {},
   "source": [
    "### Using Pre-Trained Vectors"
   ]
  },
  {
   "cell_type": "code",
   "execution_count": 16,
   "metadata": {
    "ExecuteTime": {
     "end_time": "2020-11-19T18:04:48.100812Z",
     "start_time": "2020-11-19T18:04:48.096395Z"
    }
   },
   "outputs": [
    {
     "name": "stdout",
     "output_type": "stream",
     "text": [
      "/Users/jamesirving/Datasets/glove.6B/glove.6B.50d.txt\n",
      "/Users/jamesirving/Datasets/glove.twitter.27B/glove.twitter.27B.50d.txt\n"
     ]
    }
   ],
   "source": [
    "import os\n",
    "folder = '/Users/jamesirving/Datasets/'#glove.twitter.27B/'\n",
    "# print(os.listdir(folder))\n",
    "glove_file = folder+'glove.6B/glove.6B.50d.txt'#'glove.twitter.27B.50d.txt'\n",
    "glove_twitter_file = folder+'glove.twitter.27B/glove.twitter.27B.50d.txt'\n",
    "print(glove_file)\n",
    "print(glove_twitter_file)"
   ]
  },
  {
   "cell_type": "markdown",
   "metadata": {},
   "source": [
    "#### Keeping only the vectors needed"
   ]
  },
  {
   "cell_type": "code",
   "execution_count": 17,
   "metadata": {
    "ExecuteTime": {
     "end_time": "2020-11-19T18:04:48.107554Z",
     "start_time": "2020-11-19T18:04:48.103686Z"
    }
   },
   "outputs": [],
   "source": [
    "# ## This line of code for getting all words bugs me\n",
    "# total_vocabulary = set(word for tweet in data_lower for word in tweet)\n",
    "# len(total_vocabulary)"
   ]
  },
  {
   "cell_type": "code",
   "execution_count": 18,
   "metadata": {
    "ExecuteTime": {
     "end_time": "2020-11-19T18:04:48.114951Z",
     "start_time": "2020-11-19T18:04:48.112009Z"
    },
    "code_folding": []
   },
   "outputs": [],
   "source": [
    "# glove = {}\n",
    "# with open(glove_file,'rb') as f:#'glove.6B.50d.txt', 'rb') as f:\n",
    "#     for line in f:\n",
    "#         parts = line.split()\n",
    "#         word = parts[0].decode('utf-8')\n",
    "#         if word in total_vocabulary:\n",
    "#             vector = np.array(parts[1:], dtype=np.float32)\n",
    "#             glove[word] = vector"
   ]
  },
  {
   "cell_type": "code",
   "execution_count": 19,
   "metadata": {
    "ExecuteTime": {
     "end_time": "2020-11-19T18:04:48.120845Z",
     "start_time": "2020-11-19T18:04:48.118156Z"
    }
   },
   "outputs": [],
   "source": [
    "# glove['republican']"
   ]
  },
  {
   "cell_type": "markdown",
   "metadata": {},
   "source": [
    "### Converting Glove to Word2Vec format"
   ]
  },
  {
   "cell_type": "markdown",
   "metadata": {},
   "source": [
    "- Getting glove into w2vec format:\n",
    "    - https://radimrehurek.com/gensim/scripts/glove2word2vec.html"
   ]
  },
  {
   "cell_type": "code",
   "execution_count": 20,
   "metadata": {
    "ExecuteTime": {
     "end_time": "2020-11-19T18:04:48.131027Z",
     "start_time": "2020-11-19T18:04:48.124661Z"
    }
   },
   "outputs": [
    {
     "data": {
      "text/plain": [
       "['glove.twitter.27B.100d.txt',\n",
       " 'glove.twitter.27B.50d.txt',\n",
       " 'glove_to_w2vec.txt',\n",
       " 'glove.twitter.27B.25d.txt',\n",
       " 'glove.twitter.27B.200d.txt']"
      ]
     },
     "execution_count": 20,
     "metadata": {},
     "output_type": "execute_result"
    }
   ],
   "source": [
    "glove_folder = folder+'glove.twitter.27B'\n",
    "os.listdir(glove_folder)"
   ]
  },
  {
   "cell_type": "code",
   "execution_count": 21,
   "metadata": {
    "ExecuteTime": {
     "end_time": "2020-11-19T18:06:05.600968Z",
     "start_time": "2020-11-19T18:04:48.133722Z"
    }
   },
   "outputs": [],
   "source": [
    "from gensim.test.utils import datapath, get_tmpfile\n",
    "from gensim.models import KeyedVectors\n",
    "from gensim.scripts.glove2word2vec import glove2word2vec\n",
    "\n",
    "glove_file = datapath(glove_twitter_file)\n",
    "tmp_file = get_tmpfile(glove_folder+'glove_to_w2vec.txt')\n",
    "_ = glove2word2vec(glove_file, tmp_file)\n",
    "model_glove = KeyedVectors.load_word2vec_format(tmp_file)"
   ]
  },
  {
   "cell_type": "code",
   "execution_count": 22,
   "metadata": {
    "ExecuteTime": {
     "end_time": "2020-11-19T18:06:05.607437Z",
     "start_time": "2020-11-19T18:06:05.602885Z"
    }
   },
   "outputs": [
    {
     "name": "stderr",
     "output_type": "stream",
     "text": [
      "/opt/anaconda3/envs/learn-env/lib/python3.6/site-packages/ipykernel_launcher.py:1: DeprecationWarning:\n",
      "\n",
      "Call to deprecated `wv` (Attribute will be removed in 4.0.0, use self instead).\n",
      "\n"
     ]
    },
    {
     "data": {
      "text/plain": [
       "<gensim.models.keyedvectors.Word2VecKeyedVectors at 0x7fe22f388d30>"
      ]
     },
     "execution_count": 22,
     "metadata": {},
     "output_type": "execute_result"
    }
   ],
   "source": [
    "model_glove.wv"
   ]
  },
  {
   "cell_type": "code",
   "execution_count": 23,
   "metadata": {
    "ExecuteTime": {
     "end_time": "2020-11-19T18:06:06.508828Z",
     "start_time": "2020-11-19T18:06:05.609768Z"
    }
   },
   "outputs": [
    {
     "name": "stdout",
     "output_type": "stream",
     "text": [
      "---------------------------------------------\n",
      "[i] Result for:\tamerica+crime \n",
      "---------------------------------------------\n",
      "- american (0.849)\n",
      "- country (0.811)\n",
      "- criminal (0.805)\n",
      "- society (0.8)\n",
      "- africa (0.794)\n",
      "- death (0.793)\n",
      "- the (0.792)\n",
      "- world (0.789)\n",
      "- states (0.788)\n",
      "- attack (0.784)\n",
      "--------------------------------------------- \n",
      "\n",
      "\n",
      "---------------------------------------------\n",
      "[i] Result for:\tdemocrats+russia \n",
      "---------------------------------------------\n",
      "- republicans (0.869)\n",
      "- conservatives (0.841)\n",
      "- ukraine (0.839)\n",
      "- government (0.835)\n",
      "- americans (0.831)\n",
      "- liberals (0.821)\n",
      "- britain (0.816)\n",
      "- u.s. (0.814)\n",
      "- immigration (0.813)\n",
      "- states (0.81)\n",
      "--------------------------------------------- \n",
      "\n",
      "\n",
      "---------------------------------------------\n",
      "[i] Result for:\trepublican - honor\n",
      "---------------------------------------------\n",
      "- tsx (0.656)\n",
      "- trinamool (0.654)\n",
      "- nesunan (0.653)\n",
      "- mantashe (0.639)\n",
      "- mutungan (0.637)\n",
      "- مقدسي (0.634)\n",
      "- nyambungan (0.633)\n",
      "- مسئولون (0.628)\n",
      "- melumelu (0.628)\n",
      "- yeek (0.626)\n",
      "--------------------------------------------- \n",
      "\n",
      "\n",
      "---------------------------------------------\n",
      "[i] Result for:\tman+power \n",
      "---------------------------------------------\n",
      "- the (0.861)\n",
      "- that (0.858)\n",
      "- way (0.846)\n",
      "- bad (0.844)\n",
      "- of (0.841)\n",
      "- it (0.837)\n",
      "- is (0.831)\n",
      "- but (0.829)\n",
      "- will (0.827)\n",
      "- and (0.825)\n",
      "--------------------------------------------- \n",
      "\n",
      "\n",
      "---------------------------------------------\n",
      "[i] Result for:\trussia+honor \n",
      "---------------------------------------------\n",
      "- america (0.841)\n",
      "- national (0.793)\n",
      "- canada (0.789)\n",
      "- union (0.787)\n",
      "- president (0.785)\n",
      "- army (0.773)\n",
      "- us (0.769)\n",
      "- freedom (0.768)\n",
      "- africa (0.766)\n",
      "- world (0.764)\n",
      "--------------------------------------------- \n",
      "\n",
      "\n",
      "---------------------------------------------\n",
      "[i] Result for:\tchina - tariff\n",
      "---------------------------------------------\n",
      "- : (0.654)\n",
      "- “ (0.645)\n",
      "- \" (0.63)\n",
      "- <user> (0.622)\n",
      "- san (0.615)\n",
      "- argentina (0.605)\n",
      "- chico (0.603)\n",
      "- mario (0.595)\n",
      "- rey (0.593)\n",
      "- raja (0.591)\n",
      "--------------------------------------------- \n",
      "\n",
      "\n"
     ]
    }
   ],
   "source": [
    "## Using pre-trained embeddings for math\n",
    "equation_list=[(['america','crime'],[]),\n",
    "               \n",
    "               (['democrats','russia'],[]),\n",
    "               (['republican'],['honor']),\n",
    "               (['man','power'],[]),\n",
    "               (['russia','honor'],[]),\n",
    "              (['china','tariff'])]\n",
    "\n",
    "for eqn in equation_list:\n",
    "#     print('\\n\\n')\n",
    "    word_math(model_glove,*eqn)"
   ]
  },
  {
   "cell_type": "markdown",
   "metadata": {},
   "source": [
    "## Text Classification - Finding Trump"
   ]
  },
  {
   "cell_type": "code",
   "execution_count": 24,
   "metadata": {
    "ExecuteTime": {
     "end_time": "2020-11-19T18:06:06.555253Z",
     "start_time": "2020-11-19T18:06:06.518689Z"
    }
   },
   "outputs": [
    {
     "data": {
      "text/html": [
       "<div>\n",
       "<style scoped>\n",
       "    .dataframe tbody tr th:only-of-type {\n",
       "        vertical-align: middle;\n",
       "    }\n",
       "\n",
       "    .dataframe tbody tr th {\n",
       "        vertical-align: top;\n",
       "    }\n",
       "\n",
       "    .dataframe thead th {\n",
       "        text-align: right;\n",
       "    }\n",
       "</style>\n",
       "<table border=\"1\" class=\"dataframe\">\n",
       "  <thead>\n",
       "    <tr style=\"text-align: right;\">\n",
       "      <th></th>\n",
       "      <th>source</th>\n",
       "      <th>text</th>\n",
       "      <th>retweet_count</th>\n",
       "      <th>favorite_count</th>\n",
       "      <th>is_retweet</th>\n",
       "      <th>id_str</th>\n",
       "    </tr>\n",
       "    <tr>\n",
       "      <th>created_at</th>\n",
       "      <th></th>\n",
       "      <th></th>\n",
       "      <th></th>\n",
       "      <th></th>\n",
       "      <th></th>\n",
       "      <th></th>\n",
       "    </tr>\n",
       "  </thead>\n",
       "  <tbody>\n",
       "    <tr>\n",
       "      <th>2016-12-01 14:38:09</th>\n",
       "      <td>Twitter for Android</td>\n",
       "      <td>Getting ready to leave for the Great State of ...</td>\n",
       "      <td>9834</td>\n",
       "      <td>57249</td>\n",
       "      <td>False</td>\n",
       "      <td>804333771021570048</td>\n",
       "    </tr>\n",
       "    <tr>\n",
       "      <th>2016-12-01 22:52:10</th>\n",
       "      <td>Twitter for iPhone</td>\n",
       "      <td>Heading to U.S. Bank Arena in Cincinnati Ohio ...</td>\n",
       "      <td>5564</td>\n",
       "      <td>31256</td>\n",
       "      <td>False</td>\n",
       "      <td>804458095569158144</td>\n",
       "    </tr>\n",
       "    <tr>\n",
       "      <th>2016-12-02 02:45:18</th>\n",
       "      <td>Twitter for iPhone</td>\n",
       "      <td>Thank you Ohio! Together we made history – and...</td>\n",
       "      <td>17283</td>\n",
       "      <td>72196</td>\n",
       "      <td>False</td>\n",
       "      <td>804516764562374656</td>\n",
       "    </tr>\n",
       "    <tr>\n",
       "      <th>2016-12-03 00:44:20</th>\n",
       "      <td>Twitter for Android</td>\n",
       "      <td>The President of Taiwan CALLED ME today to wis...</td>\n",
       "      <td>24700</td>\n",
       "      <td>111106</td>\n",
       "      <td>False</td>\n",
       "      <td>804848711599882240</td>\n",
       "    </tr>\n",
       "    <tr>\n",
       "      <th>2016-12-03 01:41:30</th>\n",
       "      <td>Twitter for Android</td>\n",
       "      <td>Interesting how the U.S. sells Taiwan billions...</td>\n",
       "      <td>38805</td>\n",
       "      <td>122905</td>\n",
       "      <td>False</td>\n",
       "      <td>804863098138005504</td>\n",
       "    </tr>\n",
       "    <tr>\n",
       "      <th>...</th>\n",
       "      <td>...</td>\n",
       "      <td>...</td>\n",
       "      <td>...</td>\n",
       "      <td>...</td>\n",
       "      <td>...</td>\n",
       "      <td>...</td>\n",
       "    </tr>\n",
       "    <tr>\n",
       "      <th>2017-03-24 17:03:46</th>\n",
       "      <td>Twitter for iPhone</td>\n",
       "      <td>Today I was pleased to announce the official a...</td>\n",
       "      <td>12933</td>\n",
       "      <td>66692</td>\n",
       "      <td>False</td>\n",
       "      <td>845320243614547968</td>\n",
       "    </tr>\n",
       "    <tr>\n",
       "      <th>2017-03-24 17:59:42</th>\n",
       "      <td>Twitter for iPhone</td>\n",
       "      <td>Today I was thrilled to announce a commitment ...</td>\n",
       "      <td>20212</td>\n",
       "      <td>89339</td>\n",
       "      <td>False</td>\n",
       "      <td>845334323045765121</td>\n",
       "    </tr>\n",
       "    <tr>\n",
       "      <th>2017-03-25 13:29:17</th>\n",
       "      <td>Twitter for iPhone</td>\n",
       "      <td>Happy #MedalOfHonorDay to our heroes! ➡️https:...</td>\n",
       "      <td>14139</td>\n",
       "      <td>68302</td>\n",
       "      <td>False</td>\n",
       "      <td>845628655493677056</td>\n",
       "    </tr>\n",
       "    <tr>\n",
       "      <th>2017-03-25 14:37:52</th>\n",
       "      <td>Twitter for Android</td>\n",
       "      <td>ObamaCare will explode and we will all get tog...</td>\n",
       "      <td>22518</td>\n",
       "      <td>104321</td>\n",
       "      <td>False</td>\n",
       "      <td>845645916732358656</td>\n",
       "    </tr>\n",
       "    <tr>\n",
       "      <th>2017-03-25 14:41:14</th>\n",
       "      <td>Twitter for Android</td>\n",
       "      <td>Watch @JudgeJeanine on @FoxNews tonight at 9:0...</td>\n",
       "      <td>10116</td>\n",
       "      <td>51247</td>\n",
       "      <td>False</td>\n",
       "      <td>845646761704243200</td>\n",
       "    </tr>\n",
       "  </tbody>\n",
       "</table>\n",
       "<p>588 rows × 6 columns</p>\n",
       "</div>"
      ],
      "text/plain": [
       "                                  source  \\\n",
       "created_at                                 \n",
       "2016-12-01 14:38:09  Twitter for Android   \n",
       "2016-12-01 22:52:10   Twitter for iPhone   \n",
       "2016-12-02 02:45:18   Twitter for iPhone   \n",
       "2016-12-03 00:44:20  Twitter for Android   \n",
       "2016-12-03 01:41:30  Twitter for Android   \n",
       "...                                  ...   \n",
       "2017-03-24 17:03:46   Twitter for iPhone   \n",
       "2017-03-24 17:59:42   Twitter for iPhone   \n",
       "2017-03-25 13:29:17   Twitter for iPhone   \n",
       "2017-03-25 14:37:52  Twitter for Android   \n",
       "2017-03-25 14:41:14  Twitter for Android   \n",
       "\n",
       "                                                                  text  \\\n",
       "created_at                                                               \n",
       "2016-12-01 14:38:09  Getting ready to leave for the Great State of ...   \n",
       "2016-12-01 22:52:10  Heading to U.S. Bank Arena in Cincinnati Ohio ...   \n",
       "2016-12-02 02:45:18  Thank you Ohio! Together we made history – and...   \n",
       "2016-12-03 00:44:20  The President of Taiwan CALLED ME today to wis...   \n",
       "2016-12-03 01:41:30  Interesting how the U.S. sells Taiwan billions...   \n",
       "...                                                                ...   \n",
       "2017-03-24 17:03:46  Today I was pleased to announce the official a...   \n",
       "2017-03-24 17:59:42  Today I was thrilled to announce a commitment ...   \n",
       "2017-03-25 13:29:17  Happy #MedalOfHonorDay to our heroes! ➡️https:...   \n",
       "2017-03-25 14:37:52  ObamaCare will explode and we will all get tog...   \n",
       "2017-03-25 14:41:14  Watch @JudgeJeanine on @FoxNews tonight at 9:0...   \n",
       "\n",
       "                     retweet_count  favorite_count is_retweet  \\\n",
       "created_at                                                      \n",
       "2016-12-01 14:38:09           9834           57249      False   \n",
       "2016-12-01 22:52:10           5564           31256      False   \n",
       "2016-12-02 02:45:18          17283           72196      False   \n",
       "2016-12-03 00:44:20          24700          111106      False   \n",
       "2016-12-03 01:41:30          38805          122905      False   \n",
       "...                            ...             ...        ...   \n",
       "2017-03-24 17:03:46          12933           66692      False   \n",
       "2017-03-24 17:59:42          20212           89339      False   \n",
       "2017-03-25 13:29:17          14139           68302      False   \n",
       "2017-03-25 14:37:52          22518          104321      False   \n",
       "2017-03-25 14:41:14          10116           51247      False   \n",
       "\n",
       "                                 id_str  \n",
       "created_at                               \n",
       "2016-12-01 14:38:09  804333771021570048  \n",
       "2016-12-01 22:52:10  804458095569158144  \n",
       "2016-12-02 02:45:18  804516764562374656  \n",
       "2016-12-03 00:44:20  804848711599882240  \n",
       "2016-12-03 01:41:30  804863098138005504  \n",
       "...                                 ...  \n",
       "2017-03-24 17:03:46  845320243614547968  \n",
       "2017-03-24 17:59:42  845334323045765121  \n",
       "2017-03-25 13:29:17  845628655493677056  \n",
       "2017-03-25 14:37:52  845645916732358656  \n",
       "2017-03-25 14:41:14  845646761704243200  \n",
       "\n",
       "[588 rows x 6 columns]"
      ]
     },
     "execution_count": 24,
     "metadata": {},
     "output_type": "execute_result"
    }
   ],
   "source": [
    "## Getting time period with android tweets\n",
    "droid_ts = df[df['source'] == 'Twitter for Android'].index\n",
    "find_trump = df.loc[droid_ts[0]:droid_ts[-1]].copy()\n",
    "\n",
    "## Getting only original-text (not retweets)\n",
    "find_trump = find_trump[find_trump['is_retweet']==False]\n",
    "find_trump"
   ]
  },
  {
   "cell_type": "code",
   "execution_count": 25,
   "metadata": {
    "ExecuteTime": {
     "end_time": "2020-11-19T18:06:06.574671Z",
     "start_time": "2020-11-19T18:06:06.559772Z"
    }
   },
   "outputs": [
    {
     "data": {
      "text/plain": [
       "Trump        0.619048\n",
       "Not Trump    0.380952\n",
       "Name: is_trump, dtype: float64"
      ]
     },
     "execution_count": 25,
     "metadata": {},
     "output_type": "execute_result"
    }
   ],
   "source": [
    "def is_trump(x):\n",
    "    return 'Trump' if x =='Twitter for Android' else 'Not Trump'\n",
    "find_trump['is_trump'] = find_trump['source'].map(is_trump)\n",
    "find_trump['is_trump'].value_counts(dropna=False,normalize=True)"
   ]
  },
  {
   "cell_type": "code",
   "execution_count": 26,
   "metadata": {
    "ExecuteTime": {
     "end_time": "2020-11-19T18:06:06.610924Z",
     "start_time": "2020-11-19T18:06:06.577552Z"
    },
    "scrolled": true
   },
   "outputs": [
    {
     "data": {
      "text/html": [
       "<div>\n",
       "<style scoped>\n",
       "    .dataframe tbody tr th:only-of-type {\n",
       "        vertical-align: middle;\n",
       "    }\n",
       "\n",
       "    .dataframe tbody tr th {\n",
       "        vertical-align: top;\n",
       "    }\n",
       "\n",
       "    .dataframe thead th {\n",
       "        text-align: right;\n",
       "    }\n",
       "</style>\n",
       "<table border=\"1\" class=\"dataframe\">\n",
       "  <thead>\n",
       "    <tr style=\"text-align: right;\">\n",
       "      <th></th>\n",
       "      <th>source</th>\n",
       "      <th>text</th>\n",
       "      <th>retweet_count</th>\n",
       "      <th>favorite_count</th>\n",
       "      <th>is_retweet</th>\n",
       "      <th>id_str</th>\n",
       "      <th>is_trump</th>\n",
       "      <th>target</th>\n",
       "    </tr>\n",
       "    <tr>\n",
       "      <th>created_at</th>\n",
       "      <th></th>\n",
       "      <th></th>\n",
       "      <th></th>\n",
       "      <th></th>\n",
       "      <th></th>\n",
       "      <th></th>\n",
       "      <th></th>\n",
       "      <th></th>\n",
       "    </tr>\n",
       "  </thead>\n",
       "  <tbody>\n",
       "    <tr>\n",
       "      <th>2016-12-01 14:38:09</th>\n",
       "      <td>Twitter for Android</td>\n",
       "      <td>Getting ready to leave for the Great State of ...</td>\n",
       "      <td>9834</td>\n",
       "      <td>57249</td>\n",
       "      <td>False</td>\n",
       "      <td>804333771021570048</td>\n",
       "      <td>Trump</td>\n",
       "      <td>1</td>\n",
       "    </tr>\n",
       "    <tr>\n",
       "      <th>2016-12-01 22:52:10</th>\n",
       "      <td>Twitter for iPhone</td>\n",
       "      <td>Heading to U.S. Bank Arena in Cincinnati Ohio ...</td>\n",
       "      <td>5564</td>\n",
       "      <td>31256</td>\n",
       "      <td>False</td>\n",
       "      <td>804458095569158144</td>\n",
       "      <td>Not Trump</td>\n",
       "      <td>0</td>\n",
       "    </tr>\n",
       "    <tr>\n",
       "      <th>2016-12-02 02:45:18</th>\n",
       "      <td>Twitter for iPhone</td>\n",
       "      <td>Thank you Ohio! Together we made history – and...</td>\n",
       "      <td>17283</td>\n",
       "      <td>72196</td>\n",
       "      <td>False</td>\n",
       "      <td>804516764562374656</td>\n",
       "      <td>Not Trump</td>\n",
       "      <td>0</td>\n",
       "    </tr>\n",
       "    <tr>\n",
       "      <th>2016-12-03 00:44:20</th>\n",
       "      <td>Twitter for Android</td>\n",
       "      <td>The President of Taiwan CALLED ME today to wis...</td>\n",
       "      <td>24700</td>\n",
       "      <td>111106</td>\n",
       "      <td>False</td>\n",
       "      <td>804848711599882240</td>\n",
       "      <td>Trump</td>\n",
       "      <td>1</td>\n",
       "    </tr>\n",
       "    <tr>\n",
       "      <th>2016-12-03 01:41:30</th>\n",
       "      <td>Twitter for Android</td>\n",
       "      <td>Interesting how the U.S. sells Taiwan billions...</td>\n",
       "      <td>38805</td>\n",
       "      <td>122905</td>\n",
       "      <td>False</td>\n",
       "      <td>804863098138005504</td>\n",
       "      <td>Trump</td>\n",
       "      <td>1</td>\n",
       "    </tr>\n",
       "    <tr>\n",
       "      <th>...</th>\n",
       "      <td>...</td>\n",
       "      <td>...</td>\n",
       "      <td>...</td>\n",
       "      <td>...</td>\n",
       "      <td>...</td>\n",
       "      <td>...</td>\n",
       "      <td>...</td>\n",
       "      <td>...</td>\n",
       "    </tr>\n",
       "    <tr>\n",
       "      <th>2017-03-24 17:03:46</th>\n",
       "      <td>Twitter for iPhone</td>\n",
       "      <td>Today I was pleased to announce the official a...</td>\n",
       "      <td>12933</td>\n",
       "      <td>66692</td>\n",
       "      <td>False</td>\n",
       "      <td>845320243614547968</td>\n",
       "      <td>Not Trump</td>\n",
       "      <td>0</td>\n",
       "    </tr>\n",
       "    <tr>\n",
       "      <th>2017-03-24 17:59:42</th>\n",
       "      <td>Twitter for iPhone</td>\n",
       "      <td>Today I was thrilled to announce a commitment ...</td>\n",
       "      <td>20212</td>\n",
       "      <td>89339</td>\n",
       "      <td>False</td>\n",
       "      <td>845334323045765121</td>\n",
       "      <td>Not Trump</td>\n",
       "      <td>0</td>\n",
       "    </tr>\n",
       "    <tr>\n",
       "      <th>2017-03-25 13:29:17</th>\n",
       "      <td>Twitter for iPhone</td>\n",
       "      <td>Happy #MedalOfHonorDay to our heroes! ➡️https:...</td>\n",
       "      <td>14139</td>\n",
       "      <td>68302</td>\n",
       "      <td>False</td>\n",
       "      <td>845628655493677056</td>\n",
       "      <td>Not Trump</td>\n",
       "      <td>0</td>\n",
       "    </tr>\n",
       "    <tr>\n",
       "      <th>2017-03-25 14:37:52</th>\n",
       "      <td>Twitter for Android</td>\n",
       "      <td>ObamaCare will explode and we will all get tog...</td>\n",
       "      <td>22518</td>\n",
       "      <td>104321</td>\n",
       "      <td>False</td>\n",
       "      <td>845645916732358656</td>\n",
       "      <td>Trump</td>\n",
       "      <td>1</td>\n",
       "    </tr>\n",
       "    <tr>\n",
       "      <th>2017-03-25 14:41:14</th>\n",
       "      <td>Twitter for Android</td>\n",
       "      <td>Watch @JudgeJeanine on @FoxNews tonight at 9:0...</td>\n",
       "      <td>10116</td>\n",
       "      <td>51247</td>\n",
       "      <td>False</td>\n",
       "      <td>845646761704243200</td>\n",
       "      <td>Trump</td>\n",
       "      <td>1</td>\n",
       "    </tr>\n",
       "  </tbody>\n",
       "</table>\n",
       "<p>588 rows × 8 columns</p>\n",
       "</div>"
      ],
      "text/plain": [
       "                                  source  \\\n",
       "created_at                                 \n",
       "2016-12-01 14:38:09  Twitter for Android   \n",
       "2016-12-01 22:52:10   Twitter for iPhone   \n",
       "2016-12-02 02:45:18   Twitter for iPhone   \n",
       "2016-12-03 00:44:20  Twitter for Android   \n",
       "2016-12-03 01:41:30  Twitter for Android   \n",
       "...                                  ...   \n",
       "2017-03-24 17:03:46   Twitter for iPhone   \n",
       "2017-03-24 17:59:42   Twitter for iPhone   \n",
       "2017-03-25 13:29:17   Twitter for iPhone   \n",
       "2017-03-25 14:37:52  Twitter for Android   \n",
       "2017-03-25 14:41:14  Twitter for Android   \n",
       "\n",
       "                                                                  text  \\\n",
       "created_at                                                               \n",
       "2016-12-01 14:38:09  Getting ready to leave for the Great State of ...   \n",
       "2016-12-01 22:52:10  Heading to U.S. Bank Arena in Cincinnati Ohio ...   \n",
       "2016-12-02 02:45:18  Thank you Ohio! Together we made history – and...   \n",
       "2016-12-03 00:44:20  The President of Taiwan CALLED ME today to wis...   \n",
       "2016-12-03 01:41:30  Interesting how the U.S. sells Taiwan billions...   \n",
       "...                                                                ...   \n",
       "2017-03-24 17:03:46  Today I was pleased to announce the official a...   \n",
       "2017-03-24 17:59:42  Today I was thrilled to announce a commitment ...   \n",
       "2017-03-25 13:29:17  Happy #MedalOfHonorDay to our heroes! ➡️https:...   \n",
       "2017-03-25 14:37:52  ObamaCare will explode and we will all get tog...   \n",
       "2017-03-25 14:41:14  Watch @JudgeJeanine on @FoxNews tonight at 9:0...   \n",
       "\n",
       "                     retweet_count  favorite_count is_retweet  \\\n",
       "created_at                                                      \n",
       "2016-12-01 14:38:09           9834           57249      False   \n",
       "2016-12-01 22:52:10           5564           31256      False   \n",
       "2016-12-02 02:45:18          17283           72196      False   \n",
       "2016-12-03 00:44:20          24700          111106      False   \n",
       "2016-12-03 01:41:30          38805          122905      False   \n",
       "...                            ...             ...        ...   \n",
       "2017-03-24 17:03:46          12933           66692      False   \n",
       "2017-03-24 17:59:42          20212           89339      False   \n",
       "2017-03-25 13:29:17          14139           68302      False   \n",
       "2017-03-25 14:37:52          22518          104321      False   \n",
       "2017-03-25 14:41:14          10116           51247      False   \n",
       "\n",
       "                                 id_str   is_trump  target  \n",
       "created_at                                                  \n",
       "2016-12-01 14:38:09  804333771021570048      Trump       1  \n",
       "2016-12-01 22:52:10  804458095569158144  Not Trump       0  \n",
       "2016-12-02 02:45:18  804516764562374656  Not Trump       0  \n",
       "2016-12-03 00:44:20  804848711599882240      Trump       1  \n",
       "2016-12-03 01:41:30  804863098138005504      Trump       1  \n",
       "...                                 ...        ...     ...  \n",
       "2017-03-24 17:03:46  845320243614547968  Not Trump       0  \n",
       "2017-03-24 17:59:42  845334323045765121  Not Trump       0  \n",
       "2017-03-25 13:29:17  845628655493677056  Not Trump       0  \n",
       "2017-03-25 14:37:52  845645916732358656      Trump       1  \n",
       "2017-03-25 14:41:14  845646761704243200      Trump       1  \n",
       "\n",
       "[588 rows x 8 columns]"
      ]
     },
     "execution_count": 26,
     "metadata": {},
     "output_type": "execute_result"
    }
   ],
   "source": [
    "target_map = {'Not Trump':0,'Trump':1}\n",
    "\n",
    "find_trump['target'] = find_trump['is_trump'].map(target_map)\n",
    "find_trump"
   ]
  },
  {
   "cell_type": "code",
   "execution_count": 27,
   "metadata": {
    "ExecuteTime": {
     "end_time": "2020-11-19T18:06:06.629502Z",
     "start_time": "2020-11-19T18:06:06.613217Z"
    }
   },
   "outputs": [
    {
     "data": {
      "text/html": [
       "<div>\n",
       "<style scoped>\n",
       "    .dataframe tbody tr th:only-of-type {\n",
       "        vertical-align: middle;\n",
       "    }\n",
       "\n",
       "    .dataframe tbody tr th {\n",
       "        vertical-align: top;\n",
       "    }\n",
       "\n",
       "    .dataframe thead th {\n",
       "        text-align: right;\n",
       "    }\n",
       "</style>\n",
       "<table border=\"1\" class=\"dataframe\">\n",
       "  <thead>\n",
       "    <tr style=\"text-align: right;\">\n",
       "      <th></th>\n",
       "      <th>text</th>\n",
       "      <th>is_trump</th>\n",
       "      <th>target</th>\n",
       "    </tr>\n",
       "    <tr>\n",
       "      <th>created_at</th>\n",
       "      <th></th>\n",
       "      <th></th>\n",
       "      <th></th>\n",
       "    </tr>\n",
       "  </thead>\n",
       "  <tbody>\n",
       "    <tr>\n",
       "      <th>2016-12-01 14:38:09</th>\n",
       "      <td>Getting ready to leave for the Great State of ...</td>\n",
       "      <td>Trump</td>\n",
       "      <td>1</td>\n",
       "    </tr>\n",
       "    <tr>\n",
       "      <th>2016-12-01 22:52:10</th>\n",
       "      <td>Heading to U.S. Bank Arena in Cincinnati Ohio ...</td>\n",
       "      <td>Not Trump</td>\n",
       "      <td>0</td>\n",
       "    </tr>\n",
       "    <tr>\n",
       "      <th>2016-12-02 02:45:18</th>\n",
       "      <td>Thank you Ohio! Together we made history – and...</td>\n",
       "      <td>Not Trump</td>\n",
       "      <td>0</td>\n",
       "    </tr>\n",
       "    <tr>\n",
       "      <th>2016-12-03 00:44:20</th>\n",
       "      <td>The President of Taiwan CALLED ME today to wis...</td>\n",
       "      <td>Trump</td>\n",
       "      <td>1</td>\n",
       "    </tr>\n",
       "    <tr>\n",
       "      <th>2016-12-03 01:41:30</th>\n",
       "      <td>Interesting how the U.S. sells Taiwan billions...</td>\n",
       "      <td>Trump</td>\n",
       "      <td>1</td>\n",
       "    </tr>\n",
       "    <tr>\n",
       "      <th>...</th>\n",
       "      <td>...</td>\n",
       "      <td>...</td>\n",
       "      <td>...</td>\n",
       "    </tr>\n",
       "    <tr>\n",
       "      <th>2017-03-24 17:03:46</th>\n",
       "      <td>Today I was pleased to announce the official a...</td>\n",
       "      <td>Not Trump</td>\n",
       "      <td>0</td>\n",
       "    </tr>\n",
       "    <tr>\n",
       "      <th>2017-03-24 17:59:42</th>\n",
       "      <td>Today I was thrilled to announce a commitment ...</td>\n",
       "      <td>Not Trump</td>\n",
       "      <td>0</td>\n",
       "    </tr>\n",
       "    <tr>\n",
       "      <th>2017-03-25 13:29:17</th>\n",
       "      <td>Happy #MedalOfHonorDay to our heroes! ➡️https:...</td>\n",
       "      <td>Not Trump</td>\n",
       "      <td>0</td>\n",
       "    </tr>\n",
       "    <tr>\n",
       "      <th>2017-03-25 14:37:52</th>\n",
       "      <td>ObamaCare will explode and we will all get tog...</td>\n",
       "      <td>Trump</td>\n",
       "      <td>1</td>\n",
       "    </tr>\n",
       "    <tr>\n",
       "      <th>2017-03-25 14:41:14</th>\n",
       "      <td>Watch @JudgeJeanine on @FoxNews tonight at 9:0...</td>\n",
       "      <td>Trump</td>\n",
       "      <td>1</td>\n",
       "    </tr>\n",
       "  </tbody>\n",
       "</table>\n",
       "<p>588 rows × 3 columns</p>\n",
       "</div>"
      ],
      "text/plain": [
       "                                                                  text  \\\n",
       "created_at                                                               \n",
       "2016-12-01 14:38:09  Getting ready to leave for the Great State of ...   \n",
       "2016-12-01 22:52:10  Heading to U.S. Bank Arena in Cincinnati Ohio ...   \n",
       "2016-12-02 02:45:18  Thank you Ohio! Together we made history – and...   \n",
       "2016-12-03 00:44:20  The President of Taiwan CALLED ME today to wis...   \n",
       "2016-12-03 01:41:30  Interesting how the U.S. sells Taiwan billions...   \n",
       "...                                                                ...   \n",
       "2017-03-24 17:03:46  Today I was pleased to announce the official a...   \n",
       "2017-03-24 17:59:42  Today I was thrilled to announce a commitment ...   \n",
       "2017-03-25 13:29:17  Happy #MedalOfHonorDay to our heroes! ➡️https:...   \n",
       "2017-03-25 14:37:52  ObamaCare will explode and we will all get tog...   \n",
       "2017-03-25 14:41:14  Watch @JudgeJeanine on @FoxNews tonight at 9:0...   \n",
       "\n",
       "                      is_trump  target  \n",
       "created_at                              \n",
       "2016-12-01 14:38:09      Trump       1  \n",
       "2016-12-01 22:52:10  Not Trump       0  \n",
       "2016-12-02 02:45:18  Not Trump       0  \n",
       "2016-12-03 00:44:20      Trump       1  \n",
       "2016-12-03 01:41:30      Trump       1  \n",
       "...                        ...     ...  \n",
       "2017-03-24 17:03:46  Not Trump       0  \n",
       "2017-03-24 17:59:42  Not Trump       0  \n",
       "2017-03-25 13:29:17  Not Trump       0  \n",
       "2017-03-25 14:37:52      Trump       1  \n",
       "2017-03-25 14:41:14      Trump       1  \n",
       "\n",
       "[588 rows x 3 columns]"
      ]
     },
     "execution_count": 27,
     "metadata": {},
     "output_type": "execute_result"
    }
   ],
   "source": [
    "df = find_trump[['text','is_trump','target']]\n",
    "df"
   ]
  },
  {
   "cell_type": "markdown",
   "metadata": {},
   "source": [
    "___ "
   ]
  },
  {
   "cell_type": "markdown",
   "metadata": {},
   "source": [
    "___"
   ]
  },
  {
   "cell_type": "markdown",
   "metadata": {},
   "source": [
    "## Using Embeddings in Classification"
   ]
  },
  {
   "cell_type": "markdown",
   "metadata": {},
   "source": [
    "### Embedding Layers\n",
    "You should make note of a couple caveats that come with using embedding layers in your neural network -- namely:\n",
    "\n",
    "* The embedding layer must always be the first layer of the network, meaning that it should immediately follow the `Input()` layer \n",
    "* All words in the text should be integer-encoded, with each unique word encoded as it's own unique integer  \n",
    "* The size of the embedding layer must always be greater than the total vocabulary size of the dataset! The first parameter denotes the vocabulary size, while the second denotes the size of the actual word vectors\n",
    "* The size of the sequences passed in as data must be set when creating the layer (all data will be converted to padded sequences of the same size during the preprocessing step) \n",
    "\n",
    "\n",
    "[Keras Documentation for Embedding Layers](https://keras.io/layers/embeddings/)."
   ]
  },
  {
   "cell_type": "markdown",
   "metadata": {},
   "source": [
    "## Using Embedding Layers in ANN"
   ]
  },
  {
   "cell_type": "code",
   "execution_count": 28,
   "metadata": {
    "ExecuteTime": {
     "end_time": "2020-11-19T18:06:14.728263Z",
     "start_time": "2020-11-19T18:06:06.631792Z"
    }
   },
   "outputs": [],
   "source": [
    "from keras.layers import Input, Dense, LSTM, Embedding\n",
    "from keras.layers import Dropout, Activation, Bidirectional, GlobalMaxPool1D\n",
    "from keras.models import Sequential\n",
    "from keras import initializers, regularizers, constraints, optimizers, layers\n",
    "\n",
    "\n",
    "from keras.preprocessing import text, sequence\n",
    "from keras.utils import to_categorical\n",
    "from keras.preprocessing.sequence import pad_sequences"
   ]
  },
  {
   "cell_type": "code",
   "execution_count": 29,
   "metadata": {
    "ExecuteTime": {
     "end_time": "2020-11-19T18:06:14.741626Z",
     "start_time": "2020-11-19T18:06:14.730186Z"
    }
   },
   "outputs": [
    {
     "data": {
      "text/html": [
       "<div>\n",
       "<style scoped>\n",
       "    .dataframe tbody tr th:only-of-type {\n",
       "        vertical-align: middle;\n",
       "    }\n",
       "\n",
       "    .dataframe tbody tr th {\n",
       "        vertical-align: top;\n",
       "    }\n",
       "\n",
       "    .dataframe thead th {\n",
       "        text-align: right;\n",
       "    }\n",
       "</style>\n",
       "<table border=\"1\" class=\"dataframe\">\n",
       "  <thead>\n",
       "    <tr style=\"text-align: right;\">\n",
       "      <th></th>\n",
       "      <th>text</th>\n",
       "      <th>is_trump</th>\n",
       "      <th>target</th>\n",
       "    </tr>\n",
       "    <tr>\n",
       "      <th>created_at</th>\n",
       "      <th></th>\n",
       "      <th></th>\n",
       "      <th></th>\n",
       "    </tr>\n",
       "  </thead>\n",
       "  <tbody>\n",
       "    <tr>\n",
       "      <th>2016-12-01 14:38:09</th>\n",
       "      <td>Getting ready to leave for the Great State of ...</td>\n",
       "      <td>Trump</td>\n",
       "      <td>1</td>\n",
       "    </tr>\n",
       "    <tr>\n",
       "      <th>2016-12-01 22:52:10</th>\n",
       "      <td>Heading to U.S. Bank Arena in Cincinnati Ohio ...</td>\n",
       "      <td>Not Trump</td>\n",
       "      <td>0</td>\n",
       "    </tr>\n",
       "    <tr>\n",
       "      <th>2016-12-02 02:45:18</th>\n",
       "      <td>Thank you Ohio! Together we made history – and...</td>\n",
       "      <td>Not Trump</td>\n",
       "      <td>0</td>\n",
       "    </tr>\n",
       "    <tr>\n",
       "      <th>2016-12-03 00:44:20</th>\n",
       "      <td>The President of Taiwan CALLED ME today to wis...</td>\n",
       "      <td>Trump</td>\n",
       "      <td>1</td>\n",
       "    </tr>\n",
       "    <tr>\n",
       "      <th>2016-12-03 01:41:30</th>\n",
       "      <td>Interesting how the U.S. sells Taiwan billions...</td>\n",
       "      <td>Trump</td>\n",
       "      <td>1</td>\n",
       "    </tr>\n",
       "    <tr>\n",
       "      <th>...</th>\n",
       "      <td>...</td>\n",
       "      <td>...</td>\n",
       "      <td>...</td>\n",
       "    </tr>\n",
       "    <tr>\n",
       "      <th>2017-03-24 17:03:46</th>\n",
       "      <td>Today I was pleased to announce the official a...</td>\n",
       "      <td>Not Trump</td>\n",
       "      <td>0</td>\n",
       "    </tr>\n",
       "    <tr>\n",
       "      <th>2017-03-24 17:59:42</th>\n",
       "      <td>Today I was thrilled to announce a commitment ...</td>\n",
       "      <td>Not Trump</td>\n",
       "      <td>0</td>\n",
       "    </tr>\n",
       "    <tr>\n",
       "      <th>2017-03-25 13:29:17</th>\n",
       "      <td>Happy #MedalOfHonorDay to our heroes! ➡️https:...</td>\n",
       "      <td>Not Trump</td>\n",
       "      <td>0</td>\n",
       "    </tr>\n",
       "    <tr>\n",
       "      <th>2017-03-25 14:37:52</th>\n",
       "      <td>ObamaCare will explode and we will all get tog...</td>\n",
       "      <td>Trump</td>\n",
       "      <td>1</td>\n",
       "    </tr>\n",
       "    <tr>\n",
       "      <th>2017-03-25 14:41:14</th>\n",
       "      <td>Watch @JudgeJeanine on @FoxNews tonight at 9:0...</td>\n",
       "      <td>Trump</td>\n",
       "      <td>1</td>\n",
       "    </tr>\n",
       "  </tbody>\n",
       "</table>\n",
       "<p>588 rows × 3 columns</p>\n",
       "</div>"
      ],
      "text/plain": [
       "                                                                  text  \\\n",
       "created_at                                                               \n",
       "2016-12-01 14:38:09  Getting ready to leave for the Great State of ...   \n",
       "2016-12-01 22:52:10  Heading to U.S. Bank Arena in Cincinnati Ohio ...   \n",
       "2016-12-02 02:45:18  Thank you Ohio! Together we made history – and...   \n",
       "2016-12-03 00:44:20  The President of Taiwan CALLED ME today to wis...   \n",
       "2016-12-03 01:41:30  Interesting how the U.S. sells Taiwan billions...   \n",
       "...                                                                ...   \n",
       "2017-03-24 17:03:46  Today I was pleased to announce the official a...   \n",
       "2017-03-24 17:59:42  Today I was thrilled to announce a commitment ...   \n",
       "2017-03-25 13:29:17  Happy #MedalOfHonorDay to our heroes! ➡️https:...   \n",
       "2017-03-25 14:37:52  ObamaCare will explode and we will all get tog...   \n",
       "2017-03-25 14:41:14  Watch @JudgeJeanine on @FoxNews tonight at 9:0...   \n",
       "\n",
       "                      is_trump  target  \n",
       "created_at                              \n",
       "2016-12-01 14:38:09      Trump       1  \n",
       "2016-12-01 22:52:10  Not Trump       0  \n",
       "2016-12-02 02:45:18  Not Trump       0  \n",
       "2016-12-03 00:44:20      Trump       1  \n",
       "2016-12-03 01:41:30      Trump       1  \n",
       "...                        ...     ...  \n",
       "2017-03-24 17:03:46  Not Trump       0  \n",
       "2017-03-24 17:59:42  Not Trump       0  \n",
       "2017-03-25 13:29:17  Not Trump       0  \n",
       "2017-03-25 14:37:52      Trump       1  \n",
       "2017-03-25 14:41:14      Trump       1  \n",
       "\n",
       "[588 rows x 3 columns]"
      ]
     },
     "execution_count": 29,
     "metadata": {},
     "output_type": "execute_result"
    }
   ],
   "source": [
    "df"
   ]
  },
  {
   "cell_type": "code",
   "execution_count": 30,
   "metadata": {
    "ExecuteTime": {
     "end_time": "2020-11-19T18:06:14.751850Z",
     "start_time": "2020-11-19T18:06:14.743834Z"
    }
   },
   "outputs": [],
   "source": [
    "import os,sys\n",
    "sys.path.append(\"../\")\n",
    "import keras_gridsearch as kg"
   ]
  },
  {
   "cell_type": "code",
   "execution_count": 31,
   "metadata": {
    "ExecuteTime": {
     "end_time": "2020-11-19T18:06:14.761692Z",
     "start_time": "2020-11-19T18:06:14.754354Z"
    }
   },
   "outputs": [
    {
     "data": {
      "text/plain": [
       "array([[0., 1.],\n",
       "       [1., 0.],\n",
       "       [1., 0.],\n",
       "       ...,\n",
       "       [1., 0.],\n",
       "       [0., 1.],\n",
       "       [0., 1.]], dtype=float32)"
      ]
     },
     "execution_count": 31,
     "metadata": {},
     "output_type": "execute_result"
    }
   ],
   "source": [
    "from keras.preprocessing import text,sequence\n",
    "from sklearn.model_selection import train_test_split\n",
    "from nltk import word_tokenize\n",
    "from gensim.utils import simple_preprocess\n",
    "from sklearn import metrics\n",
    "\n",
    "X = df['text']\n",
    "y_t = to_categorical(df['target'])\n",
    "y_t"
   ]
  },
  {
   "cell_type": "code",
   "execution_count": 32,
   "metadata": {
    "ExecuteTime": {
     "end_time": "2020-11-19T18:06:14.809830Z",
     "start_time": "2020-11-19T18:06:14.763521Z"
    }
   },
   "outputs": [
    {
     "data": {
      "text/plain": [
       "[22,\n",
       " 20,\n",
       " 24,\n",
       " 17,\n",
       " 21,\n",
       " 25,\n",
       " 24,\n",
       " 18,\n",
       " 25,\n",
       " 21,\n",
       " 23,\n",
       " 26,\n",
       " 23,\n",
       " 22,\n",
       " 25,\n",
       " 9,\n",
       " 24,\n",
       " 25,\n",
       " 26,\n",
       " 27,\n",
       " 24,\n",
       " 26,\n",
       " 19,\n",
       " 25,\n",
       " 19,\n",
       " 20,\n",
       " 14,\n",
       " 22,\n",
       " 20,\n",
       " 11,\n",
       " 24,\n",
       " 22,\n",
       " 21,\n",
       " 24,\n",
       " 27,\n",
       " 22,\n",
       " 21,\n",
       " 8,\n",
       " 27,\n",
       " 24,\n",
       " 25,\n",
       " 25,\n",
       " 29,\n",
       " 26,\n",
       " 23,\n",
       " 13,\n",
       " 10,\n",
       " 18,\n",
       " 24,\n",
       " 24,\n",
       " 25,\n",
       " 11,\n",
       " 22,\n",
       " 25,\n",
       " 25,\n",
       " 26,\n",
       " 20,\n",
       " 26,\n",
       " 14,\n",
       " 29,\n",
       " 25,\n",
       " 24,\n",
       " 25,\n",
       " 17,\n",
       " 23,\n",
       " 17,\n",
       " 22,\n",
       " 16,\n",
       " 23,\n",
       " 18,\n",
       " 25,\n",
       " 26,\n",
       " 19,\n",
       " 22,\n",
       " 24,\n",
       " 29,\n",
       " 16,\n",
       " 22,\n",
       " 26,\n",
       " 18,\n",
       " 27,\n",
       " 23,\n",
       " 25,\n",
       " 17,\n",
       " 24,\n",
       " 22,\n",
       " 25,\n",
       " 18,\n",
       " 17,\n",
       " 23,\n",
       " 25,\n",
       " 26,\n",
       " 22,\n",
       " 25,\n",
       " 27,\n",
       " 21,\n",
       " 20,\n",
       " 24,\n",
       " 23,\n",
       " 27,\n",
       " 25,\n",
       " 24,\n",
       " 24,\n",
       " 12,\n",
       " 25,\n",
       " 24,\n",
       " 24,\n",
       " 23,\n",
       " 27,\n",
       " 6,\n",
       " 9,\n",
       " 5,\n",
       " 13,\n",
       " 26,\n",
       " 28,\n",
       " 26,\n",
       " 24,\n",
       " 21,\n",
       " 22,\n",
       " 25,\n",
       " 23,\n",
       " 26,\n",
       " 25,\n",
       " 9,\n",
       " 11,\n",
       " 14,\n",
       " 22,\n",
       " 21,\n",
       " 28,\n",
       " 7,\n",
       " 24,\n",
       " 12,\n",
       " 25,\n",
       " 25,\n",
       " 26,\n",
       " 24,\n",
       " 27,\n",
       " 27,\n",
       " 29,\n",
       " 21,\n",
       " 20,\n",
       " 25,\n",
       " 23,\n",
       " 16,\n",
       " 23,\n",
       " 22,\n",
       " 13,\n",
       " 17,\n",
       " 22,\n",
       " 25,\n",
       " 22,\n",
       " 29,\n",
       " 25,\n",
       " 25,\n",
       " 21,\n",
       " 25,\n",
       " 26,\n",
       " 18,\n",
       " 27,\n",
       " 25,\n",
       " 24,\n",
       " 25,\n",
       " 30,\n",
       " 30,\n",
       " 24,\n",
       " 23,\n",
       " 25,\n",
       " 26,\n",
       " 26,\n",
       " 26,\n",
       " 26,\n",
       " 22,\n",
       " 28,\n",
       " 29,\n",
       " 24,\n",
       " 18,\n",
       " 7,\n",
       " 19,\n",
       " 19,\n",
       " 26,\n",
       " 26,\n",
       " 25,\n",
       " 21,\n",
       " 24,\n",
       " 25,\n",
       " 13,\n",
       " 19,\n",
       " 22,\n",
       " 22,\n",
       " 27,\n",
       " 25,\n",
       " 25,\n",
       " 23,\n",
       " 26,\n",
       " 21,\n",
       " 28,\n",
       " 12,\n",
       " 23,\n",
       " 14,\n",
       " 11,\n",
       " 17,\n",
       " 7,\n",
       " 11,\n",
       " 21,\n",
       " 22,\n",
       " 24,\n",
       " 25,\n",
       " 26,\n",
       " 19,\n",
       " 22,\n",
       " 27,\n",
       " 24,\n",
       " 16,\n",
       " 26,\n",
       " 25,\n",
       " 19,\n",
       " 25,\n",
       " 23,\n",
       " 25,\n",
       " 8,\n",
       " 22,\n",
       " 23,\n",
       " 20,\n",
       " 12,\n",
       " 27,\n",
       " 18,\n",
       " 27,\n",
       " 25,\n",
       " 25,\n",
       " 24,\n",
       " 21,\n",
       " 25,\n",
       " 21,\n",
       " 26,\n",
       " 26,\n",
       " 18,\n",
       " 28,\n",
       " 13,\n",
       " 24,\n",
       " 25,\n",
       " 28,\n",
       " 23,\n",
       " 25,\n",
       " 22,\n",
       " 13,\n",
       " 18,\n",
       " 8,\n",
       " 26,\n",
       " 29,\n",
       " 24,\n",
       " 19,\n",
       " 21,\n",
       " 24,\n",
       " 19,\n",
       " 15,\n",
       " 27,\n",
       " 23,\n",
       " 27,\n",
       " 15,\n",
       " 8,\n",
       " 12,\n",
       " 17,\n",
       " 25,\n",
       " 15,\n",
       " 23,\n",
       " 23,\n",
       " 15,\n",
       " 19,\n",
       " 18,\n",
       " 22,\n",
       " 25,\n",
       " 13,\n",
       " 10,\n",
       " 21,\n",
       " 6,\n",
       " 21,\n",
       " 26,\n",
       " 21,\n",
       " 23,\n",
       " 23,\n",
       " 24,\n",
       " 26,\n",
       " 26,\n",
       " 21,\n",
       " 19,\n",
       " 24,\n",
       " 21,\n",
       " 22,\n",
       " 26,\n",
       " 16,\n",
       " 24,\n",
       " 23,\n",
       " 15,\n",
       " 26,\n",
       " 23,\n",
       " 21,\n",
       " 17,\n",
       " 11,\n",
       " 21,\n",
       " 27,\n",
       " 26,\n",
       " 20,\n",
       " 20,\n",
       " 12,\n",
       " 13,\n",
       " 23,\n",
       " 25,\n",
       " 15,\n",
       " 18,\n",
       " 10,\n",
       " 7,\n",
       " 20,\n",
       " 24,\n",
       " 23,\n",
       " 22,\n",
       " 18,\n",
       " 12,\n",
       " 24,\n",
       " 23,\n",
       " 18,\n",
       " 22,\n",
       " 21,\n",
       " 12,\n",
       " 12,\n",
       " 22,\n",
       " 23,\n",
       " 25,\n",
       " 27,\n",
       " 30,\n",
       " 20,\n",
       " 25,\n",
       " 24,\n",
       " 28,\n",
       " 25,\n",
       " 12,\n",
       " 10,\n",
       " 25,\n",
       " 27,\n",
       " 24,\n",
       " 23,\n",
       " 24,\n",
       " 19,\n",
       " 23,\n",
       " 26,\n",
       " 31,\n",
       " 13,\n",
       " 24,\n",
       " 17,\n",
       " 24,\n",
       " 24,\n",
       " 22,\n",
       " 25,\n",
       " 8,\n",
       " 26,\n",
       " 27,\n",
       " 22,\n",
       " 22,\n",
       " 24,\n",
       " 4,\n",
       " 27,\n",
       " 23,\n",
       " 23,\n",
       " 15,\n",
       " 25,\n",
       " 24,\n",
       " 22,\n",
       " 22,\n",
       " 11,\n",
       " 20,\n",
       " 24,\n",
       " 25,\n",
       " 11,\n",
       " 24,\n",
       " 21,\n",
       " 24,\n",
       " 25,\n",
       " 27,\n",
       " 28,\n",
       " 24,\n",
       " 26,\n",
       " 28,\n",
       " 25,\n",
       " 25,\n",
       " 24,\n",
       " 14,\n",
       " 26,\n",
       " 22,\n",
       " 15,\n",
       " 23,\n",
       " 12,\n",
       " 11,\n",
       " 24,\n",
       " 24,\n",
       " 25,\n",
       " 27,\n",
       " 25,\n",
       " 23,\n",
       " 12,\n",
       " 20,\n",
       " 26,\n",
       " 17,\n",
       " 23,\n",
       " 24,\n",
       " 25,\n",
       " 26,\n",
       " 21,\n",
       " 29,\n",
       " 24,\n",
       " 24,\n",
       " 24,\n",
       " 15,\n",
       " 22,\n",
       " 26,\n",
       " 24,\n",
       " 16,\n",
       " 28,\n",
       " 16,\n",
       " 21,\n",
       " 25,\n",
       " 11,\n",
       " 22,\n",
       " 16,\n",
       " 23,\n",
       " 28,\n",
       " 20,\n",
       " 18,\n",
       " 23,\n",
       " 22,\n",
       " 21,\n",
       " 21,\n",
       " 26,\n",
       " 15,\n",
       " 19,\n",
       " 17,\n",
       " 20,\n",
       " 23,\n",
       " 11,\n",
       " 21,\n",
       " 22,\n",
       " 21,\n",
       " 15,\n",
       " 22,\n",
       " 29,\n",
       " 12,\n",
       " 22,\n",
       " 19,\n",
       " 24,\n",
       " 22,\n",
       " 15,\n",
       " 24,\n",
       " 22,\n",
       " 22,\n",
       " 10,\n",
       " 27,\n",
       " 26,\n",
       " 11,\n",
       " 23,\n",
       " 25,\n",
       " 7,\n",
       " 11,\n",
       " 9,\n",
       " 20,\n",
       " 9,\n",
       " 22,\n",
       " 29,\n",
       " 23,\n",
       " 15,\n",
       " 20,\n",
       " 16,\n",
       " 23,\n",
       " 25,\n",
       " 3,\n",
       " 12,\n",
       " 24,\n",
       " 25,\n",
       " 27,\n",
       " 25,\n",
       " 12,\n",
       " 22,\n",
       " 25,\n",
       " 22,\n",
       " 24,\n",
       " 28,\n",
       " 14,\n",
       " 23,\n",
       " 20,\n",
       " 12,\n",
       " 17,\n",
       " 5,\n",
       " 2,\n",
       " 25,\n",
       " 25,\n",
       " 21,\n",
       " 24,\n",
       " 17,\n",
       " 23,\n",
       " 14,\n",
       " 12,\n",
       " 22,\n",
       " 25,\n",
       " 25,\n",
       " 24,\n",
       " 24,\n",
       " 8,\n",
       " 23,\n",
       " 22,\n",
       " 23,\n",
       " 27,\n",
       " 27,\n",
       " 24,\n",
       " 23,\n",
       " 26,\n",
       " 20,\n",
       " 16,\n",
       " 13,\n",
       " 22,\n",
       " 21,\n",
       " 20,\n",
       " 22,\n",
       " 22,\n",
       " 19,\n",
       " 22,\n",
       " 20,\n",
       " 22,\n",
       " 25,\n",
       " 26,\n",
       " 25,\n",
       " 24,\n",
       " 20,\n",
       " 18,\n",
       " 9,\n",
       " 21,\n",
       " 26,\n",
       " 20,\n",
       " 22,\n",
       " 17,\n",
       " 22,\n",
       " 23,\n",
       " 25,\n",
       " 18,\n",
       " 23,\n",
       " 21,\n",
       " 7,\n",
       " 16,\n",
       " 24,\n",
       " 25,\n",
       " 24,\n",
       " 19,\n",
       " 25,\n",
       " 15,\n",
       " 10,\n",
       " 12,\n",
       " 8,\n",
       " 22,\n",
       " 21,\n",
       " 10,\n",
       " 24,\n",
       " 11,\n",
       " 21,\n",
       " 11,\n",
       " 15,\n",
       " 22,\n",
       " 25,\n",
       " 11,\n",
       " 23,\n",
       " 24,\n",
       " 24,\n",
       " 26,\n",
       " 28,\n",
       " 17,\n",
       " 12,\n",
       " 17,\n",
       " 21,\n",
       " 22,\n",
       " 22,\n",
       " 6,\n",
       " 25,\n",
       " 21,\n",
       " 22,\n",
       " 21,\n",
       " 21,\n",
       " 21,\n",
       " 26,\n",
       " 22,\n",
       " 26,\n",
       " 13,\n",
       " 22,\n",
       " 10]"
      ]
     },
     "execution_count": 32,
     "metadata": {},
     "output_type": "execute_result"
    }
   ],
   "source": [
    "MAX_WORDS = 25000\n",
    "MAX_SEQUENCE_LENGTH = 50\n",
    "\n",
    "tokenizer = text.Tokenizer(num_words=MAX_WORDS)\n",
    "\n",
    "tokenizer.fit_on_texts(X) #df['text'])\n",
    "sequences = tokenizer.texts_to_sequences(X) #df['text'])\n",
    "list(map(lambda x: len(x),sequences))"
   ]
  },
  {
   "cell_type": "code",
   "execution_count": 33,
   "metadata": {
    "ExecuteTime": {
     "end_time": "2020-11-19T18:06:14.820839Z",
     "start_time": "2020-11-19T18:06:14.811422Z"
    }
   },
   "outputs": [
    {
     "data": {
      "text/plain": [
       "(588, 50)"
      ]
     },
     "execution_count": 33,
     "metadata": {},
     "output_type": "execute_result"
    }
   ],
   "source": [
    "X_t = sequence.pad_sequences(sequences, maxlen=MAX_SEQUENCE_LENGTH)\n",
    "X_t.shape"
   ]
  },
  {
   "cell_type": "code",
   "execution_count": null,
   "metadata": {},
   "outputs": [],
   "source": []
  },
  {
   "cell_type": "code",
   "execution_count": 34,
   "metadata": {
    "ExecuteTime": {
     "end_time": "2020-11-19T18:06:14.827650Z",
     "start_time": "2020-11-19T18:06:14.823396Z"
    }
   },
   "outputs": [
    {
     "data": {
      "text/plain": [
       "array([   0,    0,    0,    0,    0,    0,    0,    0,    0,    0,    0,\n",
       "          0,    0,    0,    0,    0,    0,    0,    0,    0,    0,    0,\n",
       "          0,    0,    0,    0,    0,    0,    0,    0,    0,    0,    0,\n",
       "          0,    0,    0,    0,    0,    0,    0,  169, 2705,   16,  134,\n",
       "         95,   20,  211,   75,   91,   77], dtype=int32)"
      ]
     },
     "execution_count": 34,
     "metadata": {},
     "output_type": "execute_result"
    }
   ],
   "source": [
    "X_t[-1]"
   ]
  },
  {
   "cell_type": "code",
   "execution_count": null,
   "metadata": {},
   "outputs": [],
   "source": []
  },
  {
   "cell_type": "code",
   "execution_count": 35,
   "metadata": {
    "ExecuteTime": {
     "end_time": "2020-11-19T18:06:14.838372Z",
     "start_time": "2020-11-19T18:06:14.830176Z"
    }
   },
   "outputs": [
    {
     "data": {
      "text/plain": [
       "array([[  0,   0,   0, ...,   1, 223, 338],\n",
       "       [  0,   0,   0, ...,  82, 152,  57],\n",
       "       [  0,   0,   0, ...,  75,  91,  77],\n",
       "       ...,\n",
       "       [  0,   0,   0, ...,  98, 300, 665],\n",
       "       [  0,   0,   0, ...,  55,   2, 463],\n",
       "       [  0,   0,   0, ...,  92,  60,   3]], dtype=int32)"
      ]
     },
     "execution_count": 35,
     "metadata": {},
     "output_type": "execute_result"
    }
   ],
   "source": [
    "X_train, X_test, y_train, y_test =train_test_split(X_t,y_t,random_state=123) \n",
    "X_train.shape,y_test.shape\n",
    "# pd.Series(y_test).value_counts(normalize=True)\n",
    "y_test.shape\n",
    "X_test"
   ]
  },
  {
   "cell_type": "code",
   "execution_count": 36,
   "metadata": {
    "ExecuteTime": {
     "end_time": "2020-11-19T18:06:14.857982Z",
     "start_time": "2020-11-19T18:06:14.841208Z"
    }
   },
   "outputs": [
    {
     "data": {
      "text/plain": [
       "array([[0., 1.],\n",
       "       [1., 0.],\n",
       "       [0., 1.],\n",
       "       [0., 1.],\n",
       "       [0., 1.],\n",
       "       [0., 1.],\n",
       "       [1., 0.],\n",
       "       [1., 0.],\n",
       "       [1., 0.],\n",
       "       [1., 0.],\n",
       "       [1., 0.],\n",
       "       [0., 1.],\n",
       "       [0., 1.],\n",
       "       [1., 0.],\n",
       "       [0., 1.],\n",
       "       [0., 1.],\n",
       "       [1., 0.],\n",
       "       [0., 1.],\n",
       "       [0., 1.],\n",
       "       [1., 0.],\n",
       "       [0., 1.],\n",
       "       [0., 1.],\n",
       "       [0., 1.],\n",
       "       [1., 0.],\n",
       "       [0., 1.],\n",
       "       [0., 1.],\n",
       "       [0., 1.],\n",
       "       [0., 1.],\n",
       "       [1., 0.],\n",
       "       [1., 0.],\n",
       "       [1., 0.],\n",
       "       [0., 1.],\n",
       "       [0., 1.],\n",
       "       [0., 1.],\n",
       "       [1., 0.],\n",
       "       [0., 1.],\n",
       "       [1., 0.],\n",
       "       [0., 1.],\n",
       "       [1., 0.],\n",
       "       [0., 1.],\n",
       "       [0., 1.],\n",
       "       [0., 1.],\n",
       "       [1., 0.],\n",
       "       [0., 1.],\n",
       "       [0., 1.],\n",
       "       [1., 0.],\n",
       "       [0., 1.],\n",
       "       [0., 1.],\n",
       "       [1., 0.],\n",
       "       [0., 1.],\n",
       "       [1., 0.],\n",
       "       [1., 0.],\n",
       "       [0., 1.],\n",
       "       [0., 1.],\n",
       "       [0., 1.],\n",
       "       [1., 0.],\n",
       "       [0., 1.],\n",
       "       [0., 1.],\n",
       "       [0., 1.],\n",
       "       [0., 1.],\n",
       "       [1., 0.],\n",
       "       [1., 0.],\n",
       "       [1., 0.],\n",
       "       [1., 0.],\n",
       "       [0., 1.],\n",
       "       [0., 1.],\n",
       "       [0., 1.],\n",
       "       [0., 1.],\n",
       "       [0., 1.],\n",
       "       [1., 0.],\n",
       "       [0., 1.],\n",
       "       [1., 0.],\n",
       "       [1., 0.],\n",
       "       [0., 1.],\n",
       "       [0., 1.],\n",
       "       [1., 0.],\n",
       "       [0., 1.],\n",
       "       [0., 1.],\n",
       "       [0., 1.],\n",
       "       [0., 1.],\n",
       "       [0., 1.],\n",
       "       [0., 1.],\n",
       "       [0., 1.],\n",
       "       [1., 0.],\n",
       "       [0., 1.],\n",
       "       [1., 0.],\n",
       "       [1., 0.],\n",
       "       [1., 0.],\n",
       "       [1., 0.],\n",
       "       [0., 1.],\n",
       "       [0., 1.],\n",
       "       [1., 0.],\n",
       "       [1., 0.],\n",
       "       [0., 1.],\n",
       "       [1., 0.],\n",
       "       [0., 1.],\n",
       "       [0., 1.],\n",
       "       [1., 0.],\n",
       "       [0., 1.],\n",
       "       [1., 0.],\n",
       "       [0., 1.],\n",
       "       [0., 1.],\n",
       "       [0., 1.],\n",
       "       [0., 1.],\n",
       "       [0., 1.],\n",
       "       [0., 1.],\n",
       "       [0., 1.],\n",
       "       [0., 1.],\n",
       "       [1., 0.],\n",
       "       [0., 1.],\n",
       "       [1., 0.],\n",
       "       [0., 1.],\n",
       "       [0., 1.],\n",
       "       [0., 1.],\n",
       "       [0., 1.],\n",
       "       [1., 0.],\n",
       "       [1., 0.],\n",
       "       [0., 1.],\n",
       "       [0., 1.],\n",
       "       [1., 0.],\n",
       "       [0., 1.],\n",
       "       [1., 0.],\n",
       "       [0., 1.],\n",
       "       [0., 1.],\n",
       "       [0., 1.],\n",
       "       [0., 1.],\n",
       "       [1., 0.],\n",
       "       [1., 0.],\n",
       "       [0., 1.],\n",
       "       [0., 1.],\n",
       "       [0., 1.],\n",
       "       [1., 0.],\n",
       "       [1., 0.],\n",
       "       [0., 1.],\n",
       "       [1., 0.],\n",
       "       [0., 1.],\n",
       "       [0., 1.],\n",
       "       [1., 0.],\n",
       "       [0., 1.],\n",
       "       [1., 0.],\n",
       "       [0., 1.],\n",
       "       [0., 1.],\n",
       "       [0., 1.],\n",
       "       [1., 0.],\n",
       "       [1., 0.],\n",
       "       [1., 0.],\n",
       "       [0., 1.],\n",
       "       [1., 0.],\n",
       "       [0., 1.],\n",
       "       [1., 0.],\n",
       "       [0., 1.],\n",
       "       [0., 1.],\n",
       "       [1., 0.],\n",
       "       [0., 1.],\n",
       "       [1., 0.],\n",
       "       [0., 1.],\n",
       "       [0., 1.],\n",
       "       [0., 1.],\n",
       "       [1., 0.],\n",
       "       [1., 0.],\n",
       "       [0., 1.],\n",
       "       [0., 1.],\n",
       "       [0., 1.],\n",
       "       [0., 1.],\n",
       "       [1., 0.],\n",
       "       [0., 1.],\n",
       "       [1., 0.],\n",
       "       [1., 0.],\n",
       "       [1., 0.],\n",
       "       [0., 1.],\n",
       "       [0., 1.],\n",
       "       [0., 1.],\n",
       "       [0., 1.],\n",
       "       [0., 1.],\n",
       "       [0., 1.],\n",
       "       [0., 1.],\n",
       "       [0., 1.],\n",
       "       [1., 0.],\n",
       "       [1., 0.],\n",
       "       [0., 1.],\n",
       "       [1., 0.],\n",
       "       [0., 1.],\n",
       "       [0., 1.],\n",
       "       [0., 1.],\n",
       "       [0., 1.],\n",
       "       [0., 1.],\n",
       "       [0., 1.],\n",
       "       [1., 0.],\n",
       "       [0., 1.],\n",
       "       [0., 1.],\n",
       "       [0., 1.],\n",
       "       [0., 1.],\n",
       "       [1., 0.],\n",
       "       [0., 1.],\n",
       "       [1., 0.],\n",
       "       [0., 1.],\n",
       "       [0., 1.],\n",
       "       [0., 1.],\n",
       "       [1., 0.],\n",
       "       [0., 1.],\n",
       "       [0., 1.],\n",
       "       [0., 1.],\n",
       "       [1., 0.],\n",
       "       [0., 1.],\n",
       "       [0., 1.],\n",
       "       [1., 0.],\n",
       "       [0., 1.],\n",
       "       [1., 0.],\n",
       "       [0., 1.],\n",
       "       [0., 1.],\n",
       "       [1., 0.],\n",
       "       [1., 0.],\n",
       "       [0., 1.],\n",
       "       [0., 1.],\n",
       "       [0., 1.],\n",
       "       [1., 0.],\n",
       "       [1., 0.],\n",
       "       [1., 0.],\n",
       "       [1., 0.],\n",
       "       [0., 1.],\n",
       "       [1., 0.],\n",
       "       [1., 0.],\n",
       "       [1., 0.],\n",
       "       [0., 1.],\n",
       "       [0., 1.],\n",
       "       [0., 1.],\n",
       "       [0., 1.],\n",
       "       [0., 1.],\n",
       "       [0., 1.],\n",
       "       [0., 1.],\n",
       "       [1., 0.],\n",
       "       [1., 0.],\n",
       "       [0., 1.],\n",
       "       [0., 1.],\n",
       "       [1., 0.],\n",
       "       [0., 1.],\n",
       "       [0., 1.],\n",
       "       [0., 1.],\n",
       "       [0., 1.],\n",
       "       [0., 1.],\n",
       "       [0., 1.],\n",
       "       [0., 1.],\n",
       "       [0., 1.],\n",
       "       [1., 0.],\n",
       "       [0., 1.],\n",
       "       [0., 1.],\n",
       "       [0., 1.],\n",
       "       [0., 1.],\n",
       "       [0., 1.],\n",
       "       [0., 1.],\n",
       "       [1., 0.],\n",
       "       [0., 1.],\n",
       "       [1., 0.],\n",
       "       [0., 1.],\n",
       "       [0., 1.],\n",
       "       [0., 1.],\n",
       "       [1., 0.],\n",
       "       [1., 0.],\n",
       "       [1., 0.],\n",
       "       [0., 1.],\n",
       "       [1., 0.],\n",
       "       [0., 1.],\n",
       "       [0., 1.],\n",
       "       [1., 0.],\n",
       "       [1., 0.],\n",
       "       [0., 1.],\n",
       "       [1., 0.],\n",
       "       [1., 0.],\n",
       "       [1., 0.],\n",
       "       [1., 0.],\n",
       "       [1., 0.],\n",
       "       [0., 1.],\n",
       "       [0., 1.],\n",
       "       [1., 0.],\n",
       "       [0., 1.],\n",
       "       [0., 1.],\n",
       "       [1., 0.],\n",
       "       [1., 0.],\n",
       "       [0., 1.],\n",
       "       [0., 1.],\n",
       "       [0., 1.],\n",
       "       [0., 1.],\n",
       "       [0., 1.],\n",
       "       [0., 1.],\n",
       "       [0., 1.],\n",
       "       [0., 1.],\n",
       "       [1., 0.],\n",
       "       [1., 0.],\n",
       "       [1., 0.],\n",
       "       [0., 1.],\n",
       "       [1., 0.],\n",
       "       [0., 1.],\n",
       "       [1., 0.],\n",
       "       [0., 1.],\n",
       "       [1., 0.],\n",
       "       [1., 0.],\n",
       "       [1., 0.],\n",
       "       [0., 1.],\n",
       "       [1., 0.],\n",
       "       [1., 0.],\n",
       "       [0., 1.],\n",
       "       [1., 0.],\n",
       "       [0., 1.],\n",
       "       [0., 1.],\n",
       "       [1., 0.],\n",
       "       [0., 1.],\n",
       "       [0., 1.],\n",
       "       [1., 0.],\n",
       "       [1., 0.],\n",
       "       [0., 1.],\n",
       "       [0., 1.],\n",
       "       [0., 1.],\n",
       "       [0., 1.],\n",
       "       [0., 1.],\n",
       "       [1., 0.],\n",
       "       [1., 0.],\n",
       "       [1., 0.],\n",
       "       [0., 1.],\n",
       "       [1., 0.],\n",
       "       [0., 1.],\n",
       "       [1., 0.],\n",
       "       [0., 1.],\n",
       "       [0., 1.],\n",
       "       [0., 1.],\n",
       "       [0., 1.],\n",
       "       [0., 1.],\n",
       "       [0., 1.],\n",
       "       [0., 1.],\n",
       "       [0., 1.],\n",
       "       [0., 1.],\n",
       "       [0., 1.],\n",
       "       [1., 0.],\n",
       "       [0., 1.],\n",
       "       [1., 0.],\n",
       "       [1., 0.],\n",
       "       [1., 0.],\n",
       "       [0., 1.],\n",
       "       [1., 0.],\n",
       "       [1., 0.],\n",
       "       [1., 0.],\n",
       "       [0., 1.],\n",
       "       [1., 0.],\n",
       "       [0., 1.],\n",
       "       [0., 1.],\n",
       "       [0., 1.],\n",
       "       [1., 0.],\n",
       "       [0., 1.],\n",
       "       [1., 0.],\n",
       "       [0., 1.],\n",
       "       [0., 1.],\n",
       "       [1., 0.],\n",
       "       [0., 1.],\n",
       "       [0., 1.],\n",
       "       [0., 1.],\n",
       "       [1., 0.],\n",
       "       [1., 0.],\n",
       "       [0., 1.],\n",
       "       [0., 1.],\n",
       "       [1., 0.],\n",
       "       [1., 0.],\n",
       "       [0., 1.],\n",
       "       [0., 1.],\n",
       "       [0., 1.],\n",
       "       [1., 0.],\n",
       "       [1., 0.],\n",
       "       [1., 0.],\n",
       "       [0., 1.],\n",
       "       [1., 0.],\n",
       "       [0., 1.],\n",
       "       [0., 1.],\n",
       "       [0., 1.],\n",
       "       [0., 1.],\n",
       "       [0., 1.],\n",
       "       [1., 0.],\n",
       "       [1., 0.],\n",
       "       [0., 1.],\n",
       "       [1., 0.],\n",
       "       [1., 0.],\n",
       "       [0., 1.],\n",
       "       [1., 0.],\n",
       "       [0., 1.],\n",
       "       [0., 1.],\n",
       "       [1., 0.],\n",
       "       [0., 1.],\n",
       "       [0., 1.],\n",
       "       [1., 0.],\n",
       "       [0., 1.],\n",
       "       [1., 0.],\n",
       "       [1., 0.],\n",
       "       [1., 0.],\n",
       "       [0., 1.],\n",
       "       [0., 1.],\n",
       "       [0., 1.],\n",
       "       [1., 0.],\n",
       "       [0., 1.],\n",
       "       [1., 0.],\n",
       "       [1., 0.],\n",
       "       [1., 0.],\n",
       "       [1., 0.],\n",
       "       [0., 1.],\n",
       "       [1., 0.],\n",
       "       [1., 0.],\n",
       "       [0., 1.],\n",
       "       [0., 1.],\n",
       "       [0., 1.],\n",
       "       [0., 1.],\n",
       "       [0., 1.],\n",
       "       [0., 1.],\n",
       "       [0., 1.],\n",
       "       [0., 1.],\n",
       "       [1., 0.],\n",
       "       [0., 1.],\n",
       "       [1., 0.],\n",
       "       [1., 0.],\n",
       "       [1., 0.],\n",
       "       [0., 1.],\n",
       "       [1., 0.],\n",
       "       [0., 1.],\n",
       "       [0., 1.],\n",
       "       [0., 1.],\n",
       "       [1., 0.],\n",
       "       [1., 0.],\n",
       "       [0., 1.],\n",
       "       [0., 1.],\n",
       "       [1., 0.],\n",
       "       [0., 1.],\n",
       "       [1., 0.],\n",
       "       [1., 0.],\n",
       "       [0., 1.],\n",
       "       [0., 1.],\n",
       "       [1., 0.],\n",
       "       [0., 1.],\n",
       "       [1., 0.],\n",
       "       [1., 0.],\n",
       "       [0., 1.],\n",
       "       [0., 1.],\n",
       "       [0., 1.],\n",
       "       [1., 0.],\n",
       "       [1., 0.],\n",
       "       [0., 1.],\n",
       "       [0., 1.]], dtype=float32)"
      ]
     },
     "execution_count": 36,
     "metadata": {},
     "output_type": "execute_result"
    }
   ],
   "source": [
    "y_train"
   ]
  },
  {
   "cell_type": "code",
   "execution_count": 38,
   "metadata": {
    "ExecuteTime": {
     "end_time": "2020-11-19T18:06:50.023850Z",
     "start_time": "2020-11-19T18:06:50.021163Z"
    }
   },
   "outputs": [],
   "source": [
    "y_classes = df['target']"
   ]
  },
  {
   "cell_type": "code",
   "execution_count": 39,
   "metadata": {
    "ExecuteTime": {
     "end_time": "2020-11-19T18:06:54.514816Z",
     "start_time": "2020-11-19T18:06:54.507657Z"
    }
   },
   "outputs": [
    {
     "name": "stderr",
     "output_type": "stream",
     "text": [
      "/opt/anaconda3/envs/learn-env/lib/python3.6/site-packages/sklearn/utils/validation.py:70: FutureWarning:\n",
      "\n",
      "Pass classes=[0 1], y=created_at\n",
      "2016-12-01 14:38:09    1\n",
      "2016-12-01 22:52:10    0\n",
      "2016-12-02 02:45:18    0\n",
      "2016-12-03 00:44:20    1\n",
      "2016-12-03 01:41:30    1\n",
      "                      ..\n",
      "2017-03-24 17:03:46    0\n",
      "2017-03-24 17:59:42    0\n",
      "2017-03-25 13:29:17    0\n",
      "2017-03-25 14:37:52    1\n",
      "2017-03-25 14:41:14    1\n",
      "Name: target, Length: 588, dtype: int64 as keyword args. From version 0.25 passing these as positional arguments will result in an error\n",
      "\n"
     ]
    },
    {
     "data": {
      "text/plain": [
       "array([1.3125    , 0.80769231])"
      ]
     },
     "execution_count": 39,
     "metadata": {},
     "output_type": "execute_result"
    }
   ],
   "source": [
    "from sklearn.utils.class_weight import compute_class_weight\n",
    "weights= compute_class_weight(\n",
    "           'balanced',\n",
    "            np.unique(y_classes), \n",
    "            y_classes)\n",
    "weights"
   ]
  },
  {
   "cell_type": "code",
   "execution_count": 40,
   "metadata": {
    "ExecuteTime": {
     "end_time": "2020-11-19T18:07:53.626052Z",
     "start_time": "2020-11-19T18:07:53.621745Z"
    }
   },
   "outputs": [
    {
     "data": {
      "text/plain": [
       "{0: 1.3125, 1: 0.8076923076923077}"
      ]
     },
     "execution_count": 40,
     "metadata": {},
     "output_type": "execute_result"
    }
   ],
   "source": [
    "weights_dict = dict(zip( np.unique(y_classes),weights))\n",
    "weights_dict"
   ]
  },
  {
   "cell_type": "code",
   "execution_count": 43,
   "metadata": {
    "ExecuteTime": {
     "end_time": "2020-11-19T18:09:41.279120Z",
     "start_time": "2020-11-19T18:09:35.024341Z"
    },
    "scrolled": false
   },
   "outputs": [
    {
     "name": "stdout",
     "output_type": "stream",
     "text": [
      "Model: \"sequential_2\"\n",
      "_________________________________________________________________\n",
      "Layer (type)                 Output Shape              Param #   \n",
      "=================================================================\n",
      "embedding_2 (Embedding)      (None, None, 128)         3200000   \n",
      "_________________________________________________________________\n",
      "lstm_2 (LSTM)                (None, None, 50)          35800     \n",
      "_________________________________________________________________\n",
      "global_max_pooling1d_2 (Glob (None, 50)                0         \n",
      "_________________________________________________________________\n",
      "dense_4 (Dense)              (None, 25)                1275      \n",
      "_________________________________________________________________\n",
      "dropout_3 (Dropout)          (None, 25)                0         \n",
      "_________________________________________________________________\n",
      "dense_5 (Dense)              (None, 2)                 52        \n",
      "=================================================================\n",
      "Total params: 3,237,127\n",
      "Trainable params: 3,237,127\n",
      "Non-trainable params: 0\n",
      "_________________________________________________________________\n",
      "Epoch 1/5\n",
      "11/11 [==============================] - 1s 86ms/step - loss: 0.6892 - accuracy: 0.6108 - val_loss: 0.6770 - val_accuracy: 0.8652\n",
      "Epoch 2/5\n",
      "11/11 [==============================] - 0s 44ms/step - loss: 0.6665 - accuracy: 0.7756 - val_loss: 0.6481 - val_accuracy: 0.8989\n",
      "Epoch 3/5\n",
      "11/11 [==============================] - 0s 45ms/step - loss: 0.6113 - accuracy: 0.8636 - val_loss: 0.5841 - val_accuracy: 0.9101\n",
      "Epoch 4/5\n",
      "11/11 [==============================] - 0s 42ms/step - loss: 0.5193 - accuracy: 0.8693 - val_loss: 0.4907 - val_accuracy: 0.8315\n",
      "Epoch 5/5\n",
      "11/11 [==============================] - 1s 47ms/step - loss: 0.3528 - accuracy: 0.9261 - val_loss: 0.4408 - val_accuracy: 0.8090\n"
     ]
    },
    {
     "data": {
      "image/png": "[encoded data removed]",
      "text/plain": [
       "<Figure size 720x288 with 2 Axes>"
      ]
     },
     "metadata": {
      "needs_background": "light"
     },
     "output_type": "display_data"
    },
    {
     "name": "stdout",
     "output_type": "stream",
     "text": [
      "\n",
      "\n",
      "------------------------------------------------------------\n",
      "\tCLASSIFICATION REPORT:\n",
      "------------------------------------------------------------\n",
      "              precision    recall  f1-score   support\n",
      "\n",
      "           0       0.64      0.78      0.70        49\n",
      "           1       0.88      0.79      0.83        98\n",
      "\n",
      "    accuracy                           0.78       147\n",
      "   macro avg       0.76      0.78      0.77       147\n",
      "weighted avg       0.80      0.78      0.79       147\n",
      "\n"
     ]
    },
    {
     "data": {
      "image/png": "[encoded data removed]",
      "text/plain": [
       "<Figure size 504x576 with 2 Axes>"
      ]
     },
     "metadata": {
      "needs_background": "light"
     },
     "output_type": "display_data"
    }
   ],
   "source": [
    "EMBEDDING_SIZE = 128 #where codealong get this?\n",
    "\n",
    "model=Sequential()\n",
    "\n",
    "model.add(Embedding(MAX_WORDS, EMBEDDING_SIZE))\n",
    "model.add(LSTM(50,return_sequences=True))\n",
    "\n",
    "\n",
    "model.add(GlobalMaxPool1D())\n",
    "# model.add(Dropout(0.5))\n",
    "model.add(Dense(25, activation='relu'))\n",
    "model.add(Dropout(0.5))\n",
    "model.add(Dense(2, activation='softmax'))\n",
    "\n",
    "model.compile(loss='categorical_crossentropy',#'categorical_crossentropy', \n",
    "              optimizer='adam', \n",
    "              metrics=['accuracy'])\n",
    "model.summary()\n",
    "\n",
    "history = model.fit(X_train, y_train, epochs=5,\n",
    "                    batch_size=32, validation_split=0.2,\n",
    "                   class_weight=weights_dict)\n",
    "\n",
    "y_hat_test = model.predict_classes(X_test)\n",
    "# print(pd.Series(y_hat_test).value_counts())\n",
    "kg.evaluate_model(y_test,y_hat_test,history)"
   ]
  },
  {
   "cell_type": "markdown",
   "metadata": {},
   "source": [
    "## Using Glove In Embedding Layer"
   ]
  },
  {
   "cell_type": "code",
   "execution_count": 44,
   "metadata": {
    "ExecuteTime": {
     "end_time": "2020-11-19T00:53:41.744138Z",
     "start_time": "2020-11-19T00:53:41.739054Z"
    }
   },
   "outputs": [
    {
     "data": {
      "text/plain": [
       "<tensorflow.python.keras.layers.embeddings.Embedding at 0x7fe175555a58>"
      ]
     },
     "execution_count": 44,
     "metadata": {},
     "output_type": "execute_result"
    }
   ],
   "source": [
    "embedding_layer = model_glove.get_keras_embedding()\n",
    "embedding_layer"
   ]
  },
  {
   "cell_type": "code",
   "execution_count": 45,
   "metadata": {
    "ExecuteTime": {
     "end_time": "2020-11-19T00:53:59.971824Z",
     "start_time": "2020-11-19T00:53:55.374798Z"
    }
   },
   "outputs": [
    {
     "name": "stdout",
     "output_type": "stream",
     "text": [
      "Model: \"sequential_2\"\n",
      "_________________________________________________________________\n",
      "Layer (type)                 Output Shape              Param #   \n",
      "=================================================================\n",
      "embedding_2 (Embedding)      (None, None, 50)          59675700  \n",
      "_________________________________________________________________\n",
      "lstm_2 (LSTM)                (None, None, 25)          7600      \n",
      "_________________________________________________________________\n",
      "global_max_pooling1d_2 (Glob (None, 25)                0         \n",
      "_________________________________________________________________\n",
      "dropout_4 (Dropout)          (None, 25)                0         \n",
      "_________________________________________________________________\n",
      "dense_4 (Dense)              (None, 25)                650       \n",
      "_________________________________________________________________\n",
      "dense_5 (Dense)              (None, 2)                 52        \n",
      "=================================================================\n",
      "Total params: 59,684,002\n",
      "Trainable params: 8,302\n",
      "Non-trainable params: 59,675,700\n",
      "_________________________________________________________________\n",
      "Epoch 1/5\n",
      "11/11 [==============================] - 1s 51ms/step - loss: 0.6898 - accuracy: 0.5682 - val_loss: 0.6811 - val_accuracy: 0.5506\n",
      "Epoch 2/5\n",
      "11/11 [==============================] - 0s 14ms/step - loss: 0.6617 - accuracy: 0.5881 - val_loss: 0.6759 - val_accuracy: 0.5506\n",
      "Epoch 3/5\n",
      "11/11 [==============================] - 0s 14ms/step - loss: 0.6519 - accuracy: 0.6222 - val_loss: 0.6808 - val_accuracy: 0.5506\n",
      "Epoch 4/5\n",
      "11/11 [==============================] - 0s 14ms/step - loss: 0.6527 - accuracy: 0.6278 - val_loss: 0.6574 - val_accuracy: 0.5843\n",
      "Epoch 5/5\n",
      "11/11 [==============================] - 0s 14ms/step - loss: 0.6214 - accuracy: 0.6562 - val_loss: 0.6446 - val_accuracy: 0.6067\n"
     ]
    },
    {
     "data": {
      "image/png": "[encoded data removed]",
      "text/plain": [
       "<Figure size 720x288 with 2 Axes>"
      ]
     },
     "metadata": {
      "needs_background": "light"
     },
     "output_type": "display_data"
    },
    {
     "name": "stdout",
     "output_type": "stream",
     "text": [
      "\n",
      "\n",
      "------------------------------------------------------------\n",
      "\tCLASSIFICATION REPORT:\n",
      "------------------------------------------------------------\n",
      "              precision    recall  f1-score   support\n",
      "\n",
      "           0       1.00      0.20      0.34        49\n",
      "           1       0.72      1.00      0.83        98\n",
      "\n",
      "    accuracy                           0.73       147\n",
      "   macro avg       0.86      0.60      0.59       147\n",
      "weighted avg       0.81      0.73      0.67       147\n",
      "\n"
     ]
    },
    {
     "data": {
      "image/png": "[encoded data removed]",
      "text/plain": [
       "<Figure size 504x576 with 2 Axes>"
      ]
     },
     "metadata": {
      "needs_background": "light"
     },
     "output_type": "display_data"
    }
   ],
   "source": [
    "model=Sequential()\n",
    "model.add(embedding_layer)\n",
    "model.add(LSTM(25,return_sequences=True))\n",
    "model.add(GlobalMaxPool1D())\n",
    "model.add(Dropout(0.5))\n",
    "model.add(Dense(25, activation='relu'))\n",
    "# model.add(Dropout(0.5))\n",
    "model.add(Dense(2, activation='softmax'))\n",
    "\n",
    "model.compile(loss='categorical_crossentropy',#'categorical_crossentropy', \n",
    "              optimizer='adam', \n",
    "              metrics=['accuracy'])\n",
    "model.summary()\n",
    "\n",
    "history = model.fit(X_train, y_train, epochs=5, batch_size=32, validation_split=0.2)\n",
    "\n",
    "y_hat_test = model.predict_classes(X_test)\n",
    "# print(pd.Series(y_hat_test).value_counts())\n",
    "kg.evaluate_model(y_test,y_hat_test,history)"
   ]
  },
  {
   "cell_type": "markdown",
   "metadata": {},
   "source": [
    "### Alternative Approach to Loading in Glove"
   ]
  },
  {
   "cell_type": "code",
   "execution_count": 51,
   "metadata": {
    "ExecuteTime": {
     "end_time": "2020-11-19T00:58:13.543910Z",
     "start_time": "2020-11-19T00:58:13.541320Z"
    }
   },
   "outputs": [],
   "source": [
    "\n",
    "# EMBEDDING_SIZE = 128 #where codealong get this?\n",
    "\n",
    "# embedding_matrix = np.zeros((len(total_vocabulary) + 1, EMBEDDING_SIZE))\n",
    "# for word, i in enumerate(total_vocabulary):#.items():\n",
    "#     embedding_vector = glove.get(word)\n",
    "#     if embedding_vector is not None:\n",
    "#         # words not found in embedding index will be all-zeros.\n",
    "#         embedding_matrix[i] = embedding_vector\n",
    "        \n",
    "        \n",
    "# embedding_layer = Embedding(len(total_vocabulary) + 1,\n",
    "#                             EMBEDDING_SIZE,\n",
    "#                             weights=[embedding_matrix],\n",
    "#                             input_length=MAX_SEQUENCE_LENGTH,\n",
    "#                             trainable=True)"
   ]
  },
  {
   "cell_type": "markdown",
   "metadata": {
    "ExecuteTime": {
     "end_time": "2020-02-17T00:18:01.708621Z",
     "start_time": "2020-02-17T00:18:00.772373Z"
    }
   },
   "source": [
    "## RNN or GRU"
   ]
  },
  {
   "cell_type": "code",
   "execution_count": 49,
   "metadata": {
    "ExecuteTime": {
     "end_time": "2020-11-19T00:56:25.386742Z",
     "start_time": "2020-11-19T00:56:25.009403Z"
    }
   },
   "outputs": [
    {
     "name": "stdout",
     "output_type": "stream",
     "text": [
      "Model: \"sequential_4\"\n",
      "_________________________________________________________________\n",
      "Layer (type)                 Output Shape              Param #   \n",
      "=================================================================\n",
      "embedding_4 (Embedding)      (None, None, 128)         3200000   \n",
      "_________________________________________________________________\n",
      "bidirectional_1 (Bidirection (None, 200)               138000    \n",
      "_________________________________________________________________\n",
      "dense_7 (Dense)              (None, 2)                 402       \n",
      "=================================================================\n",
      "Total params: 3,338,402\n",
      "Trainable params: 3,338,402\n",
      "Non-trainable params: 0\n",
      "_________________________________________________________________\n"
     ]
    }
   ],
   "source": [
    "## GRU Model\n",
    "from keras import models, layers, optimizers, regularizers\n",
    "modelG = models.Sequential()\n",
    "\n",
    "## Get and add embedding_layer\n",
    "# embedding_layer = ji.make_keras_embedding_layer(wv, X_train)\n",
    "modelG.add(Embedding(MAX_WORDS, EMBEDDING_SIZE))\n",
    "\n",
    "# modelG.add(layers.SpatialDropout1D(0.5))\n",
    "# modelG.add(layers.Bidirectional(layers.GRU(units=100, dropout=0.5, recurrent_dropout=0.2,return_sequences=True)))\n",
    "modelG.add(layers.Bidirectional(layers.GRU(units=100, dropout=0.5, recurrent_dropout=0.2)))\n",
    "modelG.add(layers.Dense(2, activation='softmax'))\n",
    "\n",
    "modelG.compile(loss='categorical_crossentropy',optimizer=\"adam\",metrics=['acc'])#,'val_acc'])#, callbacks=callbacks)\n",
    "modelG.summary()"
   ]
  },
  {
   "cell_type": "code",
   "execution_count": 50,
   "metadata": {
    "ExecuteTime": {
     "end_time": "2020-11-19T00:56:43.575420Z",
     "start_time": "2020-11-19T00:56:25.963980Z"
    }
   },
   "outputs": [
    {
     "name": "stdout",
     "output_type": "stream",
     "text": [
      "Epoch 1/10\n",
      "11/11 [==============================] - 2s 146ms/step - loss: 0.6620 - acc: 0.6193 - val_loss: 0.6582 - val_acc: 0.5506\n",
      "Epoch 2/10\n",
      "11/11 [==============================] - 1s 99ms/step - loss: 0.5747 - acc: 0.7074 - val_loss: 0.5036 - val_acc: 0.8876\n",
      "Epoch 3/10\n",
      "11/11 [==============================] - 1s 98ms/step - loss: 0.3820 - acc: 0.8551 - val_loss: 0.3701 - val_acc: 0.8539\n",
      "Epoch 4/10\n",
      "11/11 [==============================] - 1s 107ms/step - loss: 0.2080 - acc: 0.9176 - val_loss: 0.5112 - val_acc: 0.8315\n",
      "Epoch 5/10\n",
      "11/11 [==============================] - 1s 113ms/step - loss: 0.1194 - acc: 0.9716 - val_loss: 0.4416 - val_acc: 0.8202\n",
      "Epoch 6/10\n",
      "11/11 [==============================] - 1s 112ms/step - loss: 0.0493 - acc: 0.9886 - val_loss: 0.4635 - val_acc: 0.8315\n",
      "Epoch 7/10\n",
      "11/11 [==============================] - 1s 112ms/step - loss: 0.0132 - acc: 1.0000 - val_loss: 1.1999 - val_acc: 0.8315\n",
      "Epoch 8/10\n",
      "11/11 [==============================] - 1s 121ms/step - loss: 0.0913 - acc: 0.9801 - val_loss: 0.5162 - val_acc: 0.7640\n",
      "Epoch 9/10\n",
      "11/11 [==============================] - 1s 116ms/step - loss: 0.0305 - acc: 0.9943 - val_loss: 0.5708 - val_acc: 0.8427\n",
      "Epoch 10/10\n",
      "11/11 [==============================] - 1s 103ms/step - loss: 0.0191 - acc: 0.9943 - val_loss: 0.6431 - val_acc: 0.8427\n"
     ]
    },
    {
     "data": {
      "image/png": "[encoded data removed]",
      "text/plain": [
       "<Figure size 720x288 with 2 Axes>"
      ]
     },
     "metadata": {
      "needs_background": "light"
     },
     "output_type": "display_data"
    },
    {
     "name": "stdout",
     "output_type": "stream",
     "text": [
      "\n",
      "\n",
      "------------------------------------------------------------\n",
      "\tCLASSIFICATION REPORT:\n",
      "------------------------------------------------------------\n",
      "              precision    recall  f1-score   support\n",
      "\n",
      "           0       0.77      0.73      0.75        49\n",
      "           1       0.87      0.89      0.88        98\n",
      "\n",
      "    accuracy                           0.84       147\n",
      "   macro avg       0.82      0.81      0.81       147\n",
      "weighted avg       0.84      0.84      0.84       147\n",
      "\n"
     ]
    },
    {
     "data": {
      "image/png": "[encoded data removed]",
      "text/plain": [
       "<Figure size 504x576 with 2 Axes>"
      ]
     },
     "metadata": {
      "needs_background": "light"
     },
     "output_type": "display_data"
    }
   ],
   "source": [
    "\n",
    "history = modelG.fit(X_train, y_train, epochs=10, batch_size=32, validation_split=0.2)\n",
    "\n",
    "y_hat_test = modelG.predict_classes(X_test)\n",
    "kg.evaluate_model(y_test,y_hat_test,history)"
   ]
  },
  {
   "cell_type": "markdown",
   "metadata": {},
   "source": [
    "# APPENDIX"
   ]
  },
  {
   "cell_type": "markdown",
   "metadata": {},
   "source": [
    "## Using Embeddings in Classification Models - sci-kit learn"
   ]
  },
  {
   "cell_type": "markdown",
   "metadata": {},
   "source": [
    "- Embeddings can be used in Artificial Neural Networks as an input Embedding Layer\n",
    "- Embeddings can be used in sci-kit learn models by taking the mean vector of a text/document and using the mean vector as the input into the model. "
   ]
  },
  {
   "cell_type": "markdown",
   "metadata": {},
   "source": [
    "### Creating Mean Embeddings"
   ]
  },
  {
   "cell_type": "code",
   "execution_count": null,
   "metadata": {
    "ExecuteTime": {
     "end_time": "2020-11-18T23:59:32.779991Z",
     "start_time": "2020-11-18T23:59:32.740401Z"
    }
   },
   "outputs": [],
   "source": [
    "## This line of code for getting all words bugs me\n",
    "total_vocabulary = set(word for tweet in data_lower for word in tweet)\n",
    "len(total_vocabulary)"
   ]
  },
  {
   "cell_type": "code",
   "execution_count": null,
   "metadata": {
    "ExecuteTime": {
     "end_time": "2020-11-18T23:59:36.418971Z",
     "start_time": "2020-11-18T23:59:33.028378Z"
    },
    "code_folding": []
   },
   "outputs": [],
   "source": [
    "glove = {}\n",
    "with open(glove_file,'rb') as f:#'glove.6B.50d.txt', 'rb') as f:\n",
    "    for line in f:\n",
    "        parts = line.split()\n",
    "        word = parts[0].decode('utf-8')\n",
    "        if word in total_vocabulary:\n",
    "            vector = np.array(parts[1:], dtype=np.float32)\n",
    "            glove[word] = vector"
   ]
  },
  {
   "cell_type": "code",
   "execution_count": null,
   "metadata": {
    "ExecuteTime": {
     "end_time": "2020-11-18T23:59:36.579445Z",
     "start_time": "2020-11-18T23:59:36.420685Z"
    }
   },
   "outputs": [],
   "source": [
    "from sklearn.model_selection import train_test_split\n",
    "from nltk import word_tokenize\n",
    "\n",
    "y = pd.get_dummies(df['is_trump'],drop_first=True).values\n",
    "X = df['text'].str.lower().map(word_tokenize)\n",
    "\n",
    "X_idx = list(range(len(X)))\n",
    "train_idx,test_idx = train_test_split(X_idx,random_state=123)\n",
    "\n",
    "X[train_idx]"
   ]
  },
  {
   "cell_type": "code",
   "execution_count": null,
   "metadata": {
    "ExecuteTime": {
     "end_time": "2020-11-18T23:59:36.586217Z",
     "start_time": "2020-11-18T23:59:36.581726Z"
    }
   },
   "outputs": [],
   "source": [
    "def train_test_split_idx(X, y, train_idx,test_idx):\n",
    "    # try count vectorized first\n",
    "    X_train = X[train_idx].copy()\n",
    "    y_train = y[train_idx].copy()\n",
    "    X_test = X[train_idx].copy()\n",
    "    y_test = y[train_idx].copy()\n",
    "    return X_train, X_test,y_train, y_test\n",
    "\n",
    "X_train, X_test,y_train, y_test = train_test_split_idx(X,y,train_idx,test_idx)"
   ]
  },
  {
   "cell_type": "code",
   "execution_count": null,
   "metadata": {
    "ExecuteTime": {
     "end_time": "2020-11-18T23:59:36.589766Z",
     "start_time": "2020-11-18T23:59:36.588057Z"
    }
   },
   "outputs": [],
   "source": [
    "# df['combined_text'] = df['headline'] + ' ' + df['short_description']\n",
    "# data = df['combined_text'].map(word_tokenize).values"
   ]
  },
  {
   "cell_type": "code",
   "execution_count": null,
   "metadata": {
    "ExecuteTime": {
     "end_time": "2020-11-18T23:58:55.132860Z",
     "start_time": "2020-11-18T23:58:55.127607Z"
    }
   },
   "outputs": [],
   "source": [
    "class W2vVectorizer(object):\n",
    "    \n",
    "    def __init__(self, w2v):\n",
    "        # Takes in a dictionary of words and vectors as input\n",
    "        self.w2v = w2v\n",
    "        if len(w2v) == 0:\n",
    "            self.dimensions = 0\n",
    "        else:\n",
    "            self.dimensions = len(w2v[next(iter(glove))])\n",
    "    \n",
    "    # Note: Even though it doesn't do anything, it's required that this object implement a fit method or else\n",
    "    # it can't be used in a scikit-learn pipeline  \n",
    "    def fit(self, X, y):\n",
    "        return self\n",
    "            \n",
    "    def transform(self, X):\n",
    "        return np.array([\n",
    "            np.mean([self.w2v[w] for w in words if w in self.w2v]\n",
    "                   or [np.zeros(self.dimensions)], axis=0) for words in X])"
   ]
  },
  {
   "cell_type": "code",
   "execution_count": null,
   "metadata": {
    "ExecuteTime": {
     "end_time": "2020-11-18T23:58:55.564723Z",
     "start_time": "2020-11-18T23:58:55.562652Z"
    }
   },
   "outputs": [],
   "source": [
    "# target = df['source']\n",
    "# data = df['text'].map(word_tokenize)\n",
    "# data_lower = list(map(lambda x: [w.lower() for w in x],data))"
   ]
  },
  {
   "cell_type": "code",
   "execution_count": null,
   "metadata": {
    "ExecuteTime": {
     "end_time": "2020-11-18T23:58:55.968212Z",
     "start_time": "2020-11-18T23:58:55.875793Z"
    }
   },
   "outputs": [],
   "source": [
    "from sklearn.ensemble import RandomForestClassifier\n",
    "from sklearn.svm import SVC\n",
    "from sklearn.linear_model import LogisticRegression\n",
    "from sklearn.pipeline import Pipeline\n",
    "from sklearn.model_selection import cross_val_score\n",
    "\n",
    "rf =  Pipeline([('Word2Vec Vectorizer', W2vVectorizer(glove)),\n",
    "              ('Random Forest', RandomForestClassifier(n_estimators=100, verbose=True))])\n",
    "svc = Pipeline([('Word2Vec Vectorizer', W2vVectorizer(glove)),\n",
    "                ('Support Vector Machine', SVC())])\n",
    "lr = Pipeline([('Word2Vec Vectorizer', W2vVectorizer(glove)),\n",
    "              ('Logistic Regression', LogisticRegression())])\n",
    "\n",
    "models = [('Random Forest', rf),\n",
    "          ('Support Vector Machine', svc),\n",
    "          ('Logistic Regression', lr)]\n",
    "# models = {'Random Forest':RandomForestClassifier(n_estimators=100, verbose=True),\n",
    "#           'SVC':SVC(),'lr':LogisticRegression()}"
   ]
  },
  {
   "cell_type": "code",
   "execution_count": null,
   "metadata": {
    "ExecuteTime": {
     "end_time": "2020-11-18T23:58:56.293161Z",
     "start_time": "2020-11-18T23:58:56.274082Z"
    }
   },
   "outputs": [],
   "source": [
    "scores = [(name, cross_val_score(model, X_train, y_train, cv=2).mean()) for name, model, in models]"
   ]
  },
  {
   "cell_type": "code",
   "execution_count": null,
   "metadata": {
    "ExecuteTime": {
     "end_time": "2020-11-18T23:58:49.454727Z",
     "start_time": "2020-11-18T23:57:15.050Z"
    }
   },
   "outputs": [],
   "source": [
    "scores"
   ]
  },
  {
   "cell_type": "code",
   "execution_count": null,
   "metadata": {},
   "outputs": [],
   "source": []
  }
 ],
 "metadata": {
  "kernelspec": {
   "display_name": "learn-env",
   "language": "python",
   "name": "learn-env"
  },
  "language_info": {
   "codemirror_mode": {
    "name": "ipython",
    "version": 3
   },
   "file_extension": ".py",
   "mimetype": "text/x-python",
   "name": "python",
   "nbconvert_exporter": "python",
   "pygments_lexer": "ipython3",
   "version": "3.6.11"
  },
  "toc": {
   "base_numbering": 1,
   "nav_menu": {},
   "number_sections": false,
   "sideBar": true,
   "skip_h1_title": false,
   "title_cell": "Table of Contents",
   "title_sidebar": "Contents",
   "toc_cell": false,
   "toc_position": {
    "height": "calc(100% - 180px)",
    "left": "10px",
    "top": "150px",
    "width": "410.688px"
   },
   "toc_section_display": true,
   "toc_window_display": true
  }
 },
 "nbformat": 4,
 "nbformat_minor": 2
}
