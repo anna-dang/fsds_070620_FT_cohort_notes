{
 "cells": [
  {
   "cell_type": "markdown",
   "metadata": {
    "colab_type": "text",
    "id": "GKw2nWdMDKR6"
   },
   "source": [
    "# Section 42 (Part 2): Tuning Neural Networks"
   ]
  },
  {
   "cell_type": "markdown",
   "metadata": {},
   "source": [
    "- 10/23/20\n",
    "- online-ds-ft-070620"
   ]
  },
  {
   "cell_type": "markdown",
   "metadata": {},
   "source": [
    "> NOTE: YOU MAY **NOT** USE THE FUNCTIONS FROM THIS NOTEBOOK IN YOUR PROJECTS"
   ]
  },
  {
   "cell_type": "markdown",
   "metadata": {},
   "source": [
    "## Learning Objectives"
   ]
  },
  {
   "cell_type": "markdown",
   "metadata": {},
   "source": [
    "- Discuss the different options available for tuning neural networks\n",
    "- Discuss some rules of thumb for tuning Neural Networks\n",
    "\n",
    "- **ACTIVITY: Use a computer vision task to walk-through hyperparameter tuning (cats vs dogs)**\n",
    "    - [Zip File on Google Drive](https://drive.google.com/open?id=1WQ0fdJrNs5qVinJ_6rmVIIinOJD3p-n4)\n",
    "\n",
    "- **Learn how to use GridSearchCV with Keras neural neural networks.**\n",
    "\n",
    "    - Learn how to examine the other parameter results from a GridSearchCV object.\n",
    "\n",
    "    - Learn how to create your own custom scorer for sklearn (and why you'd want to)\n",
    "- Learn how to set up email notifications via Python (for gridsearch results)\n"
   ]
  },
  {
   "cell_type": "markdown",
   "metadata": {},
   "source": [
    "## Questions/Comments?\n",
    "- Is the workflow in the lab fairly typical?  Why is gridsearch not a good choice for hyperparameter tuning?\n"
   ]
  },
  {
   "cell_type": "markdown",
   "metadata": {},
   "source": [
    "## Helpful Resources"
   ]
  },
  {
   "cell_type": "markdown",
   "metadata": {},
   "source": [
    "- [Medium: Simple Guide to Hyperparameter Tuning in Neural Networks](https://towardsdatascience.com/simple-guide-to-hyperparameter-tuning-in-neural-networks-3fe03dad8594)\n",
    "- [Medium: A guide to an efficient way to build neural network architectures- Part I:](https://towardsdatascience.com/a-guide-to-an-efficient-way-to-build-neural-network-architectures-part-i-hyper-parameter-8129009f131b)\n",
    "- [Medium: Optimizers for Neural Networks](https://medium.com/@sdoshi579/optimizers-for-training-neural-network-59450d71caf6)"
   ]
  },
  {
   "cell_type": "markdown",
   "metadata": {},
   "source": [
    "# Overview  - Neural Network Tuning "
   ]
  },
  {
   "cell_type": "markdown",
   "metadata": {},
   "source": [
    "## Rules of Thumb for Training Neural Networks"
   ]
  },
  {
   "cell_type": "markdown",
   "metadata": {},
   "source": [
    "- **Always use a train-test-validation split.**\n",
    "    - **Train-test-val splits:**\n",
    "        - Training set: for training the algorithm\n",
    "        - Validation set: used during training\n",
    "        - Testing set: after choosing the final model, use the test set for an unbiased estimate of performance.\n",
    "    - **Set sizes:**\n",
    "        - With big data, your val and test sets don't necessarily need to be 20-30% of all the data. \n",
    "        - You can choose test and hold-out sets that are of size 1-5%. \n",
    "            - eg. 96% train, 2% hold-out, 2% test set.\n",
    "            \n",
    "            \n",
    "- Consider using a `np.random.seed` for reproducibility/comparing models\n",
    "\n",
    "\n",
    "- **Use cross validation of some sort to compare Networks**\n",
    "\n",
    "\n",
    "- Normalize/Standardize features\n",
    "    \n",
    "    \n",
    "- **Add EarlyStopping and ModelCheckpoint [callbacks](https://keras.io/api/callbacks/)**\n",
    "\n",
    "    "
   ]
  },
  {
   "cell_type": "markdown",
   "metadata": {
    "colab_type": "text",
    "id": "lbzweQKTDPTl"
   },
   "source": [
    "#### Dealing with Bias/Variance\n",
    "\n",
    "- Balancing Bias/Variance:\n",
    "    - High Bias models are **underfit**\n",
    "    - High Variance models are **overfit**\n",
    "\n",
    "\n",
    "\n",
    "- **Rules of thumb re: bias/variance trade-off:**\n",
    "\n",
    "| High Bias? (training performance) | high variance? (validation performance)  |\n",
    "|---------------|-------------|\n",
    "| Use a bigger network|    More data     |\n",
    "| Train longer | Regularization   |\n",
    "| Look for other existing NN architextures |Look for other existing NN architextures |\n"
   ]
  },
  {
   "cell_type": "markdown",
   "metadata": {},
   "source": [
    "## Rules of Thumb - Hyperparameters to Tune \n"
   ]
  },
  {
   "cell_type": "markdown",
   "metadata": {},
   "source": [
    "- This section is roughly laid out in order of importance/what-to-tune-first\n",
    "    - [Blog Post](https://towardsdatascience.com/a-guide-to-an-efficient-way-to-build-neural-network-architectures-part-i-hyper-parameter-8129009f131b)"
   ]
  },
  {
   "cell_type": "markdown",
   "metadata": {},
   "source": [
    "### Hyperparameters (For Dense layers)"
   ]
  },
  {
   "cell_type": "markdown",
   "metadata": {},
   "source": [
    "1. Number of layers (depends on the size of training data)\n",
    "\n",
    "\n",
    "2. Number of neurons(depends on the size of training data)\n",
    "\n",
    "\n",
    "3. Activation functions\n",
    "    - Popular choices:\n",
    "        - relu / leaky-relu\n",
    "        - sigmoid / tanh (for shallow networks)\n",
    "        \n",
    "        \n",
    "4. Optimizer:\n",
    "    - Popular choices:\n",
    "        - SGD (works well for shallow but gets stuck in local minima/saddle-points - if so use RMSProp)\n",
    "        - RMSProp\n",
    "        - Adam (general favorite)\n",
    "        \n",
    "        \n",
    "5. Learning Rate\n",
    "    - Try in powers of 10 (0.001,0.01,.1,1.0)\n",
    "    - Which optimizer changes which l.r. is best (but try the others too).\n",
    "        - SGD: 0.1\n",
    "        - Adam: 0.001/0.01\n",
    "    - Can use the `decay` parameter to reduce learning (though it is better to use adaptive optimizer than to adjust this)/.\n",
    "    \n",
    "    \n",
    "6. Initialization\n",
    "    - Not as important as defaults (glorot-uniform) work well, but:\n",
    "        - Use He-normal/uniform initialization when using ReLu\n",
    "        - Use Glorot-normal/uniform when using Sigmoid\n",
    "    - Avoid using all zeros or any constant for all neurons\n",
    "\n",
    "\n",
    "7. Batch Size\n",
    "    - Finding the \"right\" size is important\n",
    "        - Too small = weights update too quickly and convergence is difficult\n",
    "        - Too large = weights update too slowly (plus PC RAM issues)\n",
    "    - Try batch sizes that are powers of 2 (for memory optimization)\n",
    "    - Larger is better than smaller.\n",
    "    \n",
    "    \n",
    "8. Number of Epochs:\n",
    "    - Important parameter to tune\n",
    "    - Use EarlyStopping callback to prevent overfitting\n",
    "    \n",
    "\n",
    "9. Adding Dropout\n",
    "    - Usually use dropout rate of 0.2 to 0.5\n",
    "    \n",
    "    \n",
    "\n",
    "10. Adding regularization (L1,L2)\n",
    "    - Use when the model continues to over-fit even after adding Dropout"
   ]
  },
  {
   "cell_type": "markdown",
   "metadata": {},
   "source": [
    "### Hyperparameter Details"
   ]
  },
  {
   "cell_type": "markdown",
   "metadata": {},
   "source": [
    "#### Kernel Initialization\n",
    "- Kernel Initializers\n",
    "```python\n",
    "# define the grid search parameters\n",
    "init_mode = ['uniform', 'lecun_uniform', 'normal', 'zero', \n",
    "             'glorot_normal', 'glorot_uniform', 'he_normal', 'he_uniform']```\n",
    "\n",
    "\n",
    "#### Loss Functions\n",
    "- MSE (regression)\n",
    "- categorical cross-entropy (classification with 2D labels )\n",
    "    - sparse categorical cross entropy (classification with 1D labels)\n",
    "- binary cross-entropy (classification)\n",
    "    - 2 categories\n",
    "- **can also uses custom scoring functions**"
   ]
  },
  {
   "cell_type": "markdown",
   "metadata": {},
   "source": [
    "## Using Regularization"
   ]
  },
  {
   "cell_type": "markdown",
   "metadata": {},
   "source": [
    "### L1 & L2 Regularlization\n",
    "- These methods of regularizaiton do so by penalizing coefficients(regression) or weights(neural networks),\n",
    "    - L1 & L2 exist in regression models as well. There, L1='Lasso Regressions' , L2='Ridge regression'\n",
    "    \n",
    "    \n",
    "\n",
    "- **L1 & L2 regularization add a term to the cost function.**\n",
    "\n",
    "$$Cost function = Loss (say, binary cross entropy) + Regularization term$$\n",
    "\n",
    "$$ J (w^{[1]},b^{[1]},...,w^{[L]},b^{[L]}) = \\dfrac{1}{m} \\sum^m_{i=1}\\mathcal{L}(\\hat y^{(i)}, y^{(i)})+ \\dfrac{\\lambda}{2m}\\sum^L_{l=1}||w^{[l]}||^2$$\n",
    "- where $\\lambda$ is the regularization parameter. \n",
    "\n",
    "- **The difference between  L1 vs L2 is that L1 is just the sum of the weights whereas L2 is the sum of the _square_of the weights.**  \n",
    "\n",
    "\n",
    "<br><br>\n",
    "- **L1 Regularization:**\n",
    "    $$ Cost function = Loss + \\frac{\\lambda}{2m} * \\sum ||w||$$\n",
    "    - Uses the absolute value of weights and may reduce the weights down to 0. \n",
    "    \n",
    "        \n",
    "- **L2 Regularization:**:\n",
    "    $$ Cost function = Loss + \\frac{\\lambda}{2m} * \\sum ||w||^2$$\n",
    "    - Also known as weight decay, as it forces weights to decay towards zero, but never exactly 0.. "
   ]
  },
  {
   "cell_type": "markdown",
   "metadata": {},
   "source": [
    "#### L1/L2 Regularization\n",
    "\n",
    "- **CHOOSING L1 OR L2:**\n",
    "    - L1 is very useful when trying to compress a model. (since weights can decreae to 0)\n",
    "    - L2 is generally preferred otherwise.\n",
    "    \n",
    "    \n",
    "- **USING L1/L2 IN KERAS:**\n",
    "    - Add a kernel_regulaizer to a  layer.\n",
    "```python \n",
    "from keras import regularizers\n",
    "model.add(Dense(64, input_dim=64, kernel_regularizer=regularizers.l2(0.01))\n",
    "```\n",
    "    - here 0.01 = $\\lambda$"
   ]
  },
  {
   "cell_type": "markdown",
   "metadata": {},
   "source": [
    "### Additional Options"
   ]
  },
  {
   "cell_type": "markdown",
   "metadata": {},
   "source": [
    "#### Dropout "
   ]
  },
  {
   "cell_type": "markdown",
   "metadata": {
    "colab_type": "text",
    "id": "BlPs5Wd8GrNg"
   },
   "source": [
    "#### Early Stopping"
   ]
  },
  {
   "cell_type": "markdown",
   "metadata": {
    "colab_type": "text",
    "id": "BlPs5Wd8GrNg"
   },
   "source": [
    "- Monitor performance for decrease or plateau in performance, terminate process when given criteria is reached.\n",
    "\n",
    "- **In Keras:**\n",
    "    - Can be applied using the [callbacks function](https://keras.io/callbacks/)\n",
    "```python    \n",
    "from keras.callbacks import EarlyStopping\n",
    "EarlyStopping(monitor='val_err', patience=5)\n",
    "```\n",
    "    - 'Monitor' denotes quanitity to check\n",
    "    - 'val_err' denotes validation error\n",
    "    - 'pateience' denotes # of epochs without improvement before stopping.\n",
    "        - Be careful, as sometimes models _will_ continue to improve after a stagnant period\n"
   ]
  },
  {
   "cell_type": "markdown",
   "metadata": {},
   "source": [
    "# Activity: Dogs vs Cats"
   ]
  },
  {
   "cell_type": "markdown",
   "metadata": {},
   "source": [
    "- Build an image classification model to detect cats vs dogs"
   ]
  },
  {
   "cell_type": "markdown",
   "metadata": {
    "colab_type": "text",
    "id": "8qbS0lSrghaO"
   },
   "source": [
    "## Installs, Imports, & Functions"
   ]
  },
  {
   "cell_type": "code",
   "execution_count": 1,
   "metadata": {
    "ExecuteTime": {
     "end_time": "2020-10-23T16:38:05.545345Z",
     "start_time": "2020-10-23T16:38:05.423888Z"
    }
   },
   "outputs": [],
   "source": [
    "import numpy as np\n",
    "np.random.seed(321)"
   ]
  },
  {
   "cell_type": "code",
   "execution_count": 2,
   "metadata": {
    "ExecuteTime": {
     "end_time": "2020-10-23T16:38:09.201877Z",
     "start_time": "2020-10-23T16:38:05.933721Z"
    }
   },
   "outputs": [],
   "source": [
    "# !pip install -U tensorflow\n",
    "import tensorflow as tf\n",
    "tf.random.set_seed(321) "
   ]
  },
  {
   "cell_type": "code",
   "execution_count": 3,
   "metadata": {
    "ExecuteTime": {
     "end_time": "2020-10-23T16:38:13.317036Z",
     "start_time": "2020-10-23T16:38:13.315225Z"
    }
   },
   "outputs": [],
   "source": [
    "# !pip install -U imageio\n",
    "# !pip install -U scikit-image\n",
    "\n",
    "# !pip install pillow\n",
    "# !pip install opencv-contrib-python\n",
    "# from skimage.transform import resize\n",
    "# from imageio import imread"
   ]
  },
  {
   "cell_type": "code",
   "execution_count": 4,
   "metadata": {
    "ExecuteTime": {
     "end_time": "2020-10-23T16:38:35.958927Z",
     "start_time": "2020-10-23T16:38:33.460332Z"
    },
    "colab": {
     "base_uri": "https://localhost:8080/",
     "height": 238
    },
    "colab_type": "code",
    "id": "KHc94KpTlbRj",
    "outputId": "f71ccce3-f23d-4b8e-d4f7-c4736cbe1e76",
    "scrolled": true
   },
   "outputs": [
    {
     "name": "stdout",
     "output_type": "stream",
     "text": [
      "fsds v0.2.27 loaded.  Read the docs: https://fs-ds.readthedocs.io/en/latest/ \n"
     ]
    },
    {
     "data": {
      "text/html": [
       "<style  type=\"text/css\" >\n",
       "</style><table id=\"T_314d3d8a_154e_11eb_877b_acde48001122\" ><caption>Loaded Packages and Handles</caption><thead>    <tr>        <th class=\"col_heading level0 col0\" >Handle</th>        <th class=\"col_heading level0 col1\" >Package</th>        <th class=\"col_heading level0 col2\" >Description</th>    </tr></thead><tbody>\n",
       "                <tr>\n",
       "                                <td id=\"T_314d3d8a_154e_11eb_877b_acde48001122row0_col0\" class=\"data row0 col0\" >dp</td>\n",
       "                        <td id=\"T_314d3d8a_154e_11eb_877b_acde48001122row0_col1\" class=\"data row0 col1\" >IPython.display</td>\n",
       "                        <td id=\"T_314d3d8a_154e_11eb_877b_acde48001122row0_col2\" class=\"data row0 col2\" >Display modules with helpful display and clearing commands.</td>\n",
       "            </tr>\n",
       "            <tr>\n",
       "                                <td id=\"T_314d3d8a_154e_11eb_877b_acde48001122row1_col0\" class=\"data row1 col0\" >fs</td>\n",
       "                        <td id=\"T_314d3d8a_154e_11eb_877b_acde48001122row1_col1\" class=\"data row1 col1\" >fsds</td>\n",
       "                        <td id=\"T_314d3d8a_154e_11eb_877b_acde48001122row1_col2\" class=\"data row1 col2\" >Custom data science bootcamp student package</td>\n",
       "            </tr>\n",
       "            <tr>\n",
       "                                <td id=\"T_314d3d8a_154e_11eb_877b_acde48001122row2_col0\" class=\"data row2 col0\" >mpl</td>\n",
       "                        <td id=\"T_314d3d8a_154e_11eb_877b_acde48001122row2_col1\" class=\"data row2 col1\" >matplotlib</td>\n",
       "                        <td id=\"T_314d3d8a_154e_11eb_877b_acde48001122row2_col2\" class=\"data row2 col2\" >Matplotlib's base OOP module with formatting artists</td>\n",
       "            </tr>\n",
       "            <tr>\n",
       "                                <td id=\"T_314d3d8a_154e_11eb_877b_acde48001122row3_col0\" class=\"data row3 col0\" >plt</td>\n",
       "                        <td id=\"T_314d3d8a_154e_11eb_877b_acde48001122row3_col1\" class=\"data row3 col1\" >matplotlib.pyplot</td>\n",
       "                        <td id=\"T_314d3d8a_154e_11eb_877b_acde48001122row3_col2\" class=\"data row3 col2\" >Matplotlib's matlab-like plotting module</td>\n",
       "            </tr>\n",
       "            <tr>\n",
       "                                <td id=\"T_314d3d8a_154e_11eb_877b_acde48001122row4_col0\" class=\"data row4 col0\" >np</td>\n",
       "                        <td id=\"T_314d3d8a_154e_11eb_877b_acde48001122row4_col1\" class=\"data row4 col1\" >numpy</td>\n",
       "                        <td id=\"T_314d3d8a_154e_11eb_877b_acde48001122row4_col2\" class=\"data row4 col2\" >scientific computing with Python</td>\n",
       "            </tr>\n",
       "            <tr>\n",
       "                                <td id=\"T_314d3d8a_154e_11eb_877b_acde48001122row5_col0\" class=\"data row5 col0\" >pd</td>\n",
       "                        <td id=\"T_314d3d8a_154e_11eb_877b_acde48001122row5_col1\" class=\"data row5 col1\" >pandas</td>\n",
       "                        <td id=\"T_314d3d8a_154e_11eb_877b_acde48001122row5_col2\" class=\"data row5 col2\" >High performance data structures and tools</td>\n",
       "            </tr>\n",
       "            <tr>\n",
       "                                <td id=\"T_314d3d8a_154e_11eb_877b_acde48001122row6_col0\" class=\"data row6 col0\" >sns</td>\n",
       "                        <td id=\"T_314d3d8a_154e_11eb_877b_acde48001122row6_col1\" class=\"data row6 col1\" >seaborn</td>\n",
       "                        <td id=\"T_314d3d8a_154e_11eb_877b_acde48001122row6_col2\" class=\"data row6 col2\" >High-level data visualization library based on matplotlib</td>\n",
       "            </tr>\n",
       "    </tbody></table>"
      ],
      "text/plain": [
       "<pandas.io.formats.style.Styler at 0x7f8eee9821d0>"
      ]
     },
     "metadata": {},
     "output_type": "display_data"
    },
    {
     "data": {
      "text/html": [
       "        <script type=\"text/javascript\">\n",
       "        window.PlotlyConfig = {MathJaxConfig: 'local'};\n",
       "        if (window.MathJax) {MathJax.Hub.Config({SVG: {font: \"STIX-Web\"}});}\n",
       "        if (typeof require !== 'undefined') {\n",
       "        require.undef(\"plotly\");\n",
       "        requirejs.config({\n",
       "            paths: {\n",
       "                'plotly': ['https://cdn.plot.ly/plotly-latest.min']\n",
       "            }\n",
       "        });\n",
       "        require(['plotly'], function(Plotly) {\n",
       "            window._Plotly = Plotly;\n",
       "        });\n",
       "        }\n",
       "        </script>\n",
       "        "
      ]
     },
     "metadata": {},
     "output_type": "display_data"
    },
    {
     "data": {
      "text/html": [
       "        <script type=\"text/javascript\">\n",
       "        window.PlotlyConfig = {MathJaxConfig: 'local'};\n",
       "        if (window.MathJax) {MathJax.Hub.Config({SVG: {font: \"STIX-Web\"}});}\n",
       "        if (typeof require !== 'undefined') {\n",
       "        require.undef(\"plotly\");\n",
       "        requirejs.config({\n",
       "            paths: {\n",
       "                'plotly': ['https://cdn.plot.ly/plotly-latest.min']\n",
       "            }\n",
       "        });\n",
       "        require(['plotly'], function(Plotly) {\n",
       "            window._Plotly = Plotly;\n",
       "        });\n",
       "        }\n",
       "        </script>\n",
       "        "
      ]
     },
     "metadata": {},
     "output_type": "display_data"
    },
    {
     "name": "stdout",
     "output_type": "stream",
     "text": [
      "[i] Pandas .iplot() method activated.\n"
     ]
    }
   ],
   "source": [
    "# !pip install -U fsds\n",
    "from fsds.imports import *\n"
   ]
  },
  {
   "cell_type": "code",
   "execution_count": 5,
   "metadata": {
    "ExecuteTime": {
     "end_time": "2020-10-23T16:38:35.972514Z",
     "start_time": "2020-10-23T16:38:35.962027Z"
    }
   },
   "outputs": [],
   "source": [
    "## Import Tensorflow Model Components\n",
    "from tensorflow.keras.models import Sequential\n",
    "from tensorflow.keras.layers import Dense\n",
    "from tensorflow.keras import optimizers,regularizers\n",
    "from tensorflow.keras import models,layers,optimizers,regularizers,activations\n",
    "from tensorflow.keras.layers import Dense,Dropout\n",
    "from tensorflow.keras.layers import Conv2D, MaxPooling2D,Flatten\n",
    "\n",
    "## Import Tensorflow Preprocessing Tools\n",
    "from tensorflow.keras.preprocessing import image\n",
    "from tensorflow.keras.preprocessing.image import ImageDataGenerator, array_to_img, img_to_array, load_img\n",
    "from tensorflow.keras.utils import to_categorical"
   ]
  },
  {
   "cell_type": "code",
   "execution_count": 6,
   "metadata": {
    "ExecuteTime": {
     "end_time": "2020-10-23T16:38:37.667636Z",
     "start_time": "2020-10-23T16:38:37.665285Z"
    },
    "colab": {
     "base_uri": "https://localhost:8080/",
     "height": 34
    },
    "colab_type": "code",
    "id": "2yML_wHNlbRn",
    "outputId": "50fed474-f35a-477d-8b5e-b448e76c97a8",
    "scrolled": true
   },
   "outputs": [],
   "source": [
    "from PIL import Image\n",
    "import os,glob"
   ]
  },
  {
   "cell_type": "markdown",
   "metadata": {
    "colab_type": "text",
    "id": "E7D1Ks2mhJim"
   },
   "source": [
    "## Loading in the data"
   ]
  },
  {
   "cell_type": "markdown",
   "metadata": {},
   "source": [
    "- Download the zip file \n",
    "    - [DATASET: Zip File for Dog vs Cats](https://drive.google.com/open?id=1WQ0fdJrNs5qVinJ_6rmVIIinOJD3p-n4)\n",
    "- Extract zip file contents to the a folder on your computer.\n",
    "    - I am using my user folder > Datasets > cats-vs-dogs\n",
    "    "
   ]
  },
  {
   "cell_type": "code",
   "execution_count": 7,
   "metadata": {
    "ExecuteTime": {
     "end_time": "2020-10-23T16:38:47.749381Z",
     "start_time": "2020-10-23T16:38:47.743993Z"
    }
   },
   "outputs": [
    {
     "data": {
      "text/plain": [
       "['single_prediction', '.DS_Store', 'Models', 'training_set', 'test_set']"
      ]
     },
     "execution_count": 7,
     "metadata": {},
     "output_type": "execute_result"
    }
   ],
   "source": [
    "# change dataset_folder to match where you stored the files\n",
    "base_folder =\"/Users/jamesirving/Datasets/dogs-vs-cats-sorted/\" #\"/Users/jamesirving/Datasets/dogs-vs-cats-sorted/\"\n",
    "\n",
    "## Check contents of base folder\n",
    "os.listdir(base_folder)"
   ]
  },
  {
   "cell_type": "code",
   "execution_count": 8,
   "metadata": {
    "ExecuteTime": {
     "end_time": "2020-10-23T16:38:53.165950Z",
     "start_time": "2020-10-23T16:38:53.160803Z"
    }
   },
   "outputs": [
    {
     "data": {
      "text/plain": [
       "['dogs', 'cats', '.DS_Store', 'example_save.jpg']"
      ]
     },
     "execution_count": 8,
     "metadata": {},
     "output_type": "execute_result"
    }
   ],
   "source": [
    "## Define train_folder and test_folder\n",
    "train_folder = base_folder+\"training_set/\"\n",
    "test_folder =  base_folder+\"test_set/\"\n",
    "\n",
    "## Check contents of train_folder\n",
    "os.listdir(test_folder)"
   ]
  },
  {
   "cell_type": "markdown",
   "metadata": {},
   "source": [
    "### Using ImageDataGenerator.flow_from_directory to make X and y vars"
   ]
  },
  {
   "cell_type": "code",
   "execution_count": 9,
   "metadata": {
    "ExecuteTime": {
     "end_time": "2020-10-23T16:39:06.172159Z",
     "start_time": "2020-10-23T16:39:06.120118Z"
    }
   },
   "outputs": [
    {
     "name": "stdout",
     "output_type": "stream",
     "text": [
      "- There are 4001 images in dogs folder.\n",
      "- There are 4001 images in cats folder.\n",
      "- There are 1001 images in dogs folder.\n",
      "- There are 1001 images in cats folder.\n",
      "Training images: 8002\n",
      "Test & Val images: 2002\n"
     ]
    },
    {
     "data": {
      "text/plain": [
       "(8002, 1602, 400)"
      ]
     },
     "execution_count": 9,
     "metadata": {},
     "output_type": "execute_result"
    }
   ],
   "source": [
    "## get num images\n",
    "import os,glob\n",
    "def get_num_images(train_folder,folders=['dogs','cats'],verbose=True):\n",
    "    \"\"\"Gets the total number of images from all folders listed\"\"\"\n",
    "    num_images = 0\n",
    "    for folder in folders:\n",
    "        num_in_folder = len(os.listdir(train_folder+folder))\n",
    "        \n",
    "        if verbose:\n",
    "            print(f\"- There are {num_in_folder} images in {folder} folder.\")\n",
    "        num_images+=num_in_folder\n",
    "    return num_images\n",
    "\n",
    "\n",
    "\n",
    "## Get the Number of total images for batch size \n",
    "BATCH_SIZE_TRAIN = get_num_images(train_folder)\n",
    "BATCH_SIZE_VAL_TEST = get_num_images(test_folder)\n",
    "print(f\"Training images: {BATCH_SIZE_TRAIN}\")\n",
    "print(f\"Test & Val images: {BATCH_SIZE_VAL_TEST}\")\n",
    "\n",
    "## Make validation split\n",
    "VAL_SPLIT = 0.2\n",
    "BATCH_SIZE_VAL = round(BATCH_SIZE_VAL_TEST*VAL_SPLIT)\n",
    "BATCH_SIZE_TEST = round(BATCH_SIZE_VAL_TEST*(1-VAL_SPLIT))\n",
    "\n",
    "BATCH_SIZE_TRAIN,BATCH_SIZE_TEST,BATCH_SIZE_VAL"
   ]
  },
  {
   "cell_type": "code",
   "execution_count": 10,
   "metadata": {
    "ExecuteTime": {
     "end_time": "2020-10-23T16:39:10.640454Z",
     "start_time": "2020-10-23T16:39:10.636288Z"
    }
   },
   "outputs": [],
   "source": [
    "## MAKING IMAGE DATA GENERATORS FOR TRAIN TEST VAL\n",
    "IMG_SIZE = (64,64)\n",
    "\n",
    "## Create ImageDataGenerators\n",
    "train_datagen = ImageDataGenerator(rescale=1./255,)\n",
    "#                                    shear_range = 0.2, zoom_range = 0.2,\n",
    "#                                    horizontal_flip = True)\n",
    "test_val_datagen = ImageDataGenerator(rescale=1./255,validation_split=VAL_SPLIT)\n"
   ]
  },
  {
   "cell_type": "code",
   "execution_count": 11,
   "metadata": {
    "ExecuteTime": {
     "end_time": "2020-10-23T16:39:32.823676Z",
     "start_time": "2020-10-23T16:39:32.380624Z"
    }
   },
   "outputs": [
    {
     "name": "stdout",
     "output_type": "stream",
     "text": [
      "Found 8000 images belonging to 2 classes.\n",
      "Found 1600 images belonging to 2 classes.\n",
      "Found 400 images belonging to 2 classes.\n"
     ]
    }
   ],
   "source": [
    "## Make Training Sets With All Images\n",
    "training_set_full = train_datagen.flow_from_directory(train_folder,\n",
    "                                                      target_size=IMG_SIZE,\n",
    "                                                     class_mode='binary',\n",
    "                                                     batch_size=BATCH_SIZE_TRAIN)                                          \n",
    "                                                      \n",
    "\n",
    "test_set_full = test_val_datagen.flow_from_directory(test_folder,\n",
    "                                                      target_size=IMG_SIZE,\n",
    "                                                     class_mode='binary',\n",
    "                                                     batch_size=BATCH_SIZE_TEST,\n",
    "                                                    subset='training')  \n",
    "\n",
    "val_set_full = test_val_datagen.flow_from_directory(test_folder,\n",
    "                                                      target_size=IMG_SIZE,\n",
    "                                                     class_mode='binary',\n",
    "                                                     batch_size=BATCH_SIZE_VAL,\n",
    "                                                    subset='validation')  "
   ]
  },
  {
   "cell_type": "code",
   "execution_count": 12,
   "metadata": {
    "ExecuteTime": {
     "end_time": "2020-10-23T16:40:03.761950Z",
     "start_time": "2020-10-23T16:39:32.970401Z"
    }
   },
   "outputs": [],
   "source": [
    "## MAKE X and YS FROM GENERATORS\n",
    "X_train, y_train  = next(training_set_full)\n",
    "# TEST AND VAL SETS\n",
    "X_test, y_test = next(test_set_full)\n",
    "X_val,y_val = next(val_set_full)"
   ]
  },
  {
   "cell_type": "code",
   "execution_count": 13,
   "metadata": {
    "ExecuteTime": {
     "end_time": "2020-10-23T16:40:03.768468Z",
     "start_time": "2020-10-23T16:40:03.763989Z"
    }
   },
   "outputs": [
    {
     "data": {
      "text/plain": [
       "(8000, 64, 64, 3)"
      ]
     },
     "execution_count": 13,
     "metadata": {},
     "output_type": "execute_result"
    }
   ],
   "source": [
    "X_train.shape"
   ]
  },
  {
   "cell_type": "code",
   "execution_count": 14,
   "metadata": {
    "ExecuteTime": {
     "end_time": "2020-10-23T16:40:03.780714Z",
     "start_time": "2020-10-23T16:40:03.775007Z"
    }
   },
   "outputs": [
    {
     "data": {
      "text/plain": [
       "array([0., 1., 1., ..., 1., 1., 1.], dtype=float32)"
      ]
     },
     "execution_count": 14,
     "metadata": {},
     "output_type": "execute_result"
    }
   ],
   "source": [
    "## What form is our target (How many col)?\n",
    "y_train"
   ]
  },
  {
   "cell_type": "code",
   "execution_count": 15,
   "metadata": {
    "ExecuteTime": {
     "end_time": "2020-10-23T16:40:03.787963Z",
     "start_time": "2020-10-23T16:40:03.783831Z"
    }
   },
   "outputs": [
    {
     "data": {
      "text/plain": [
       "{'cats': 0, 'dogs': 1}"
      ]
     },
     "execution_count": 15,
     "metadata": {},
     "output_type": "execute_result"
    }
   ],
   "source": [
    "## Finding class indices\n",
    "training_set_full.class_indices"
   ]
  },
  {
   "cell_type": "code",
   "execution_count": null,
   "metadata": {
    "ExecuteTime": {
     "end_time": "2020-10-23T15:11:18.802492Z",
     "start_time": "2020-10-23T15:11:14.755440Z"
    }
   },
   "outputs": [],
   "source": []
  },
  {
   "cell_type": "code",
   "execution_count": 16,
   "metadata": {
    "ExecuteTime": {
     "end_time": "2020-10-23T16:40:03.798258Z",
     "start_time": "2020-10-23T16:40:03.790765Z"
    }
   },
   "outputs": [
    {
     "data": {
      "text/plain": [
       "(8000, 12288)"
      ]
     },
     "execution_count": 16,
     "metadata": {},
     "output_type": "execute_result"
    }
   ],
   "source": [
    "## UNROW IMAGES FOR SEQUENTIAL MODEL\n",
    "X_train_unrow = X_train.reshape( X_train.shape[0],-1)\n",
    "X_test_unrow = X_test.reshape( X_test.shape[0],-1)\n",
    "X_val_unrow = X_val.reshape( X_val.shape[0],-1)\n",
    "\n",
    "X_train_unrow.shape"
   ]
  },
  {
   "cell_type": "code",
   "execution_count": 17,
   "metadata": {
    "ExecuteTime": {
     "end_time": "2020-10-23T16:40:03.812907Z",
     "start_time": "2020-10-23T16:40:03.800460Z"
    }
   },
   "outputs": [
    {
     "data": {
      "text/plain": [
       "1.0"
      ]
     },
     "metadata": {},
     "output_type": "display_data"
    },
    {
     "data": {
      "image/png": "[encoded data removed]",
      "text/plain": [
       "<PIL.Image.Image image mode=RGB size=64x64 at 0x7F8EC9B164E0>"
      ]
     },
     "metadata": {},
     "output_type": "display_data"
    }
   ],
   "source": [
    "## Display random image \n",
    "import numpy as np\n",
    "i = np.random.choice(range(len(y_train)))\n",
    "display(y_train[i])\n",
    "display(array_to_img(X_train[i]))#.reshape(32,32,3)))"
   ]
  },
  {
   "cell_type": "markdown",
   "metadata": {},
   "source": [
    "## Using Dense Networks"
   ]
  },
  {
   "cell_type": "code",
   "execution_count": 18,
   "metadata": {
    "ExecuteTime": {
     "end_time": "2020-10-23T16:40:03.820251Z",
     "start_time": "2020-10-23T16:40:03.816174Z"
    }
   },
   "outputs": [
    {
     "data": {
      "text/plain": [
       "(8000,)"
      ]
     },
     "execution_count": 18,
     "metadata": {},
     "output_type": "execute_result"
    }
   ],
   "source": [
    "y_train.shape"
   ]
  },
  {
   "cell_type": "code",
   "execution_count": 19,
   "metadata": {
    "ExecuteTime": {
     "end_time": "2020-10-23T16:40:03.829231Z",
     "start_time": "2020-10-23T16:40:03.824777Z"
    }
   },
   "outputs": [
    {
     "data": {
      "text/plain": [
       "(8000, 12288)"
      ]
     },
     "execution_count": 19,
     "metadata": {},
     "output_type": "execute_result"
    }
   ],
   "source": [
    "X_train_unrow.shape"
   ]
  },
  {
   "cell_type": "code",
   "execution_count": 20,
   "metadata": {
    "ExecuteTime": {
     "end_time": "2020-10-23T16:40:27.128062Z",
     "start_time": "2020-10-23T16:40:03.831912Z"
    }
   },
   "outputs": [
    {
     "name": "stdout",
     "output_type": "stream",
     "text": [
      "Model: \"sequential\"\n",
      "_________________________________________________________________\n",
      "Layer (type)                 Output Shape              Param #   \n",
      "=================================================================\n",
      "dense (Dense)                (None, 64)                786496    \n",
      "_________________________________________________________________\n",
      "dense_1 (Dense)              (None, 1)                 65        \n",
      "=================================================================\n",
      "Total params: 786,561\n",
      "Trainable params: 786,561\n",
      "Non-trainable params: 0\n",
      "_________________________________________________________________\n"
     ]
    },
    {
     "data": {
      "text/plain": [
       "None"
      ]
     },
     "metadata": {},
     "output_type": "display_data"
    },
    {
     "name": "stdout",
     "output_type": "stream",
     "text": [
      "Epoch 1/20\n",
      "250/250 [==============================] - 1s 6ms/step - loss: 0.7724 - accuracy: 0.5464 - recall: 0.5502 - val_loss: 0.6812 - val_accuracy: 0.5475 - val_recall: 0.3500\n",
      "Epoch 2/20\n",
      "250/250 [==============================] - 1s 5ms/step - loss: 0.6917 - accuracy: 0.5711 - recall: 0.5660 - val_loss: 0.6692 - val_accuracy: 0.5625 - val_recall: 0.4400\n",
      "Epoch 3/20\n",
      "250/250 [==============================] - 1s 4ms/step - loss: 0.6808 - accuracy: 0.5726 - recall: 0.5725 - val_loss: 0.7302 - val_accuracy: 0.5450 - val_recall: 0.1750\n",
      "Epoch 4/20\n",
      "250/250 [==============================] - 1s 4ms/step - loss: 0.6706 - accuracy: 0.5950 - recall: 0.5900 - val_loss: 0.8283 - val_accuracy: 0.5225 - val_recall: 0.9850\n",
      "Epoch 5/20\n",
      "250/250 [==============================] - 1s 4ms/step - loss: 0.6574 - accuracy: 0.6125 - recall: 0.6125 - val_loss: 0.6704 - val_accuracy: 0.5600 - val_recall: 0.6000\n",
      "Epoch 6/20\n",
      "250/250 [==============================] - 1s 4ms/step - loss: 0.6498 - accuracy: 0.6183 - recall: 0.6165 - val_loss: 0.6778 - val_accuracy: 0.5825 - val_recall: 0.7350\n",
      "Epoch 7/20\n",
      "250/250 [==============================] - 1s 4ms/step - loss: 0.6513 - accuracy: 0.6246 - recall: 0.6258 - val_loss: 0.6763 - val_accuracy: 0.5900 - val_recall: 0.8200\n",
      "Epoch 8/20\n",
      "250/250 [==============================] - 1s 4ms/step - loss: 0.6418 - accuracy: 0.6345 - recall: 0.6263 - val_loss: 0.7284 - val_accuracy: 0.5650 - val_recall: 0.9200\n",
      "Epoch 9/20\n",
      "250/250 [==============================] - 1s 4ms/step - loss: 0.6276 - accuracy: 0.6471 - recall: 0.6550 - val_loss: 0.6744 - val_accuracy: 0.5925 - val_recall: 0.7300\n",
      "Epoch 10/20\n",
      "250/250 [==============================] - 1s 4ms/step - loss: 0.6304 - accuracy: 0.6456 - recall: 0.6438 - val_loss: 0.6718 - val_accuracy: 0.6050 - val_recall: 0.4500\n",
      "Epoch 11/20\n",
      "250/250 [==============================] - 1s 4ms/step - loss: 0.6373 - accuracy: 0.6261 - recall: 0.7023 - val_loss: 0.7400 - val_accuracy: 0.5550 - val_recall: 0.2100\n",
      "Epoch 12/20\n",
      "250/250 [==============================] - 1s 4ms/step - loss: 0.6213 - accuracy: 0.6436 - recall: 0.6995 - val_loss: 0.6605 - val_accuracy: 0.5950 - val_recall: 0.6000\n",
      "Epoch 13/20\n",
      "250/250 [==============================] - 1s 5ms/step - loss: 0.6349 - accuracy: 0.6329 - recall: 0.6737 - val_loss: 0.6593 - val_accuracy: 0.6025 - val_recall: 0.6000\n",
      "Epoch 14/20\n",
      "250/250 [==============================] - 1s 5ms/step - loss: 0.6142 - accuracy: 0.6530 - recall: 0.6683 - val_loss: 0.6606 - val_accuracy: 0.6050 - val_recall: 0.6550\n",
      "Epoch 15/20\n",
      "250/250 [==============================] - 1s 5ms/step - loss: 0.6062 - accuracy: 0.6725 - recall: 0.6693 - val_loss: 0.6685 - val_accuracy: 0.5950 - val_recall: 0.6100\n",
      "Epoch 16/20\n",
      "250/250 [==============================] - 1s 4ms/step - loss: 0.5981 - accuracy: 0.6693 - recall: 0.6773 - val_loss: 0.6782 - val_accuracy: 0.5825 - val_recall: 0.7800\n",
      "Epoch 17/20\n",
      "250/250 [==============================] - 1s 5ms/step - loss: 0.6033 - accuracy: 0.6653 - recall: 0.6900 - val_loss: 0.6907 - val_accuracy: 0.5800 - val_recall: 0.3800\n",
      "Epoch 18/20\n",
      "250/250 [==============================] - 1s 4ms/step - loss: 0.6180 - accuracy: 0.6611 - recall: 0.6780 - val_loss: 0.6647 - val_accuracy: 0.5875 - val_recall: 0.5450\n",
      "Epoch 19/20\n",
      "250/250 [==============================] - 1s 4ms/step - loss: 0.6147 - accuracy: 0.6541 - recall: 0.6618 - val_loss: 0.6816 - val_accuracy: 0.6050 - val_recall: 0.4100\n",
      "Epoch 20/20\n",
      "250/250 [==============================] - 1s 4ms/step - loss: 0.6129 - accuracy: 0.6631 - recall: 0.6823 - val_loss: 0.7002 - val_accuracy: 0.6000 - val_recall: 0.3550\n"
     ]
    }
   ],
   "source": [
    "##N Sequential model: 64 units, relu, final=dense 1, sigmoid\n",
    "model_1 = Sequential()\n",
    "model_1.add(Dense(64,activation='relu',input_shape=(X_train_unrow.shape[1],)))\n",
    "model_1.add(Dense(1, activation='sigmoid'))\n",
    "\n",
    "model_1.compile(loss='binary_crossentropy',optimizer='adam',\n",
    "                metrics=['accuracy',tf.metrics.Recall()])\n",
    "display(model_1.summary())\n",
    "\n",
    "## Fit Model with 20 epochs\n",
    "history = model_1.fit(X_train_unrow,y_train, epochs=20,\n",
    "                      validation_data=(X_val_unrow,y_val))"
   ]
  },
  {
   "cell_type": "code",
   "execution_count": 21,
   "metadata": {
    "ExecuteTime": {
     "end_time": "2020-10-23T16:40:27.680044Z",
     "start_time": "2020-10-23T16:40:27.130396Z"
    }
   },
   "outputs": [
    {
     "data": {
      "image/png": "[encoded data removed]",
      "text/plain": [
       "<Figure size 432x288 with 1 Axes>"
      ]
     },
     "metadata": {
      "needs_background": "light"
     },
     "output_type": "display_data"
    },
    {
     "data": {
      "image/png": "[encoded data removed]",
      "text/plain": [
       "<Figure size 432x288 with 1 Axes>"
      ]
     },
     "metadata": {
      "needs_background": "light"
     },
     "output_type": "display_data"
    }
   ],
   "source": [
    "## Get History  as adf\n",
    "history_df = pd.DataFrame(history.history)\n",
    "history_df\n",
    "\n",
    "## PLotn all fo the metrics in history\n",
    "metric_list=['loss','acc']\n",
    "\n",
    "for metric in metric_list:\n",
    "    history_df[[col for col in history_df.columns if metric in col]].plot(marker='.')"
   ]
  },
  {
   "cell_type": "code",
   "execution_count": 22,
   "metadata": {
    "ExecuteTime": {
     "end_time": "2020-10-23T16:40:40.109314Z",
     "start_time": "2020-10-23T16:40:40.105239Z"
    }
   },
   "outputs": [
    {
     "data": {
      "text/plain": [
       "array([0., 1., 1., ..., 1., 1., 1.], dtype=float32)"
      ]
     },
     "execution_count": 22,
     "metadata": {},
     "output_type": "execute_result"
    }
   ],
   "source": [
    "y_train"
   ]
  },
  {
   "cell_type": "code",
   "execution_count": null,
   "metadata": {
    "ExecuteTime": {
     "end_time": "2020-10-23T15:27:36.472873Z",
     "start_time": "2020-10-23T15:27:36.307275Z"
    }
   },
   "outputs": [],
   "source": [
    "## Get PRedictions\n",
    "y_hat_test = model_1.predict(X_test_unrow).round()\n",
    "y_hat_test\n",
    "\n",
    "## Classification Report\n",
    "from sklearn import metrics\n",
    "print(metrics.classification_report(y_test,y_hat_test))"
   ]
  },
  {
   "cell_type": "markdown",
   "metadata": {},
   "source": [
    "## Functionize Model Creation & Plotting"
   ]
  },
  {
   "cell_type": "code",
   "execution_count": 23,
   "metadata": {
    "ExecuteTime": {
     "end_time": "2020-10-23T16:41:03.190627Z",
     "start_time": "2020-10-23T16:41:03.185544Z"
    }
   },
   "outputs": [],
   "source": [
    "## def make_model\n",
    "def make_model(verbose=True):\n",
    "    model_1 = Sequential()\n",
    "    model_1.add(Dense(64,activation='relu',input_shape=(X_train_unrow.shape[1],)))\n",
    "    model_1.add(Dense(1, activation='sigmoid'))\n",
    "\n",
    "    model_1.compile(loss='binary_crossentropy',optimizer='adam',\n",
    "                    metrics=['accuracy',tf.metrics.Recall()])\n",
    "    if verbose:\n",
    "        model_1.summary()\n",
    "    return model_1"
   ]
  },
  {
   "cell_type": "code",
   "execution_count": 24,
   "metadata": {
    "ExecuteTime": {
     "end_time": "2020-10-23T16:41:04.482170Z",
     "start_time": "2020-10-23T16:41:04.478253Z"
    }
   },
   "outputs": [],
   "source": [
    "def plot_history(history, metric_list=['loss','acc']):\n",
    "    ## Get History  as adf\n",
    "    history_df = pd.DataFrame(history.history)\n",
    "    ## PLotn all fo the metrics in history\n",
    "   \n",
    "    for metric in metric_list:\n",
    "        history_df[[col for col in history_df.columns if metric in col]].plot(\n",
    "        marker='o',ls=':')\n",
    "        \n",
    "    plt.suptitle('Training History')\n",
    "    plt.show()"
   ]
  },
  {
   "cell_type": "code",
   "execution_count": 25,
   "metadata": {
    "ExecuteTime": {
     "end_time": "2020-10-23T16:41:05.185666Z",
     "start_time": "2020-10-23T16:41:05.183290Z"
    },
    "scrolled": false
   },
   "outputs": [],
   "source": [
    "# ## Use new functions to make model and plot history\n",
    "# model_2 = make_model()\n",
    "# history = model_2.fit(X_train_unrow,y_train, epochs=20,\n",
    "#                       validation_data=(X_val_unrow,y_val))\n",
    "# plot_history(history)"
   ]
  },
  {
   "cell_type": "markdown",
   "metadata": {},
   "source": [
    "### Combine the Whole Process Into One Func"
   ]
  },
  {
   "cell_type": "code",
   "execution_count": 26,
   "metadata": {
    "ExecuteTime": {
     "end_time": "2020-10-23T16:41:06.274022Z",
     "start_time": "2020-10-23T16:41:06.109988Z"
    }
   },
   "outputs": [],
   "source": [
    "import datetime as dt\n",
    "from tzlocal import get_localzone\n",
    "start = dt.datetime.now(tz=get_localzone())"
   ]
  },
  {
   "cell_type": "code",
   "execution_count": 29,
   "metadata": {
    "ExecuteTime": {
     "end_time": "2020-10-23T16:43:28.801709Z",
     "start_time": "2020-10-23T16:43:28.794944Z"
    }
   },
   "outputs": [],
   "source": [
    "from sklearn import metrics\n",
    "def make_fit_plot_model(build_fn, fit_kws=dict(epochs=20)):\n",
    "    ## Print Start Time\n",
    "    start = dt.datetime.now(tz=get_localzone())\n",
    "    fmt= \"%m/%d/%y - %T %p\"\n",
    "    print('---'*20)    \n",
    "    print(f'[i] MODEL CREATED AT {start.strftime(fmt)}')\n",
    "    print('---'*20)\n",
    "    print()\n",
    "    \n",
    "    ## Use new functions to make model and plot history\n",
    "    model = build_fn()\n",
    "    history = model.fit(X_train_unrow,y_train, **fit_kws,\n",
    "                          validation_data=(X_val_unrow,y_val))\n",
    "    \n",
    "    end = dt.datetime.now(tz=get_localzone())\n",
    "    \n",
    "    print(f'\\n[!] Training Completed AT {end.strftime(fmt)}')\n",
    "    print()\n",
    "\n",
    "\n",
    "    plot_history(history)\n",
    "    y_hat_test = model.predict(X_test_unrow).round()        \n",
    "\n",
    "    print('---'*20)  \n",
    "    print('---'*20)  \n",
    "    print('[i] Classification Report')\n",
    "    print(metrics.classification_report(y_test,y_hat_test))\n",
    "    print(f\"\\n[i] Total Training Time: {end-start}\")\n",
    "    print('---'*20)  \n",
    "    return model"
   ]
  },
  {
   "cell_type": "code",
   "execution_count": 30,
   "metadata": {
    "ExecuteTime": {
     "end_time": "2020-10-23T16:43:40.421796Z",
     "start_time": "2020-10-23T16:43:29.294338Z"
    },
    "scrolled": false
   },
   "outputs": [
    {
     "name": "stdout",
     "output_type": "stream",
     "text": [
      "------------------------------------------------------------\n",
      "[i] MODEL CREATED AT 10/23/20 - 12:43:29 PM\n",
      "------------------------------------------------------------\n",
      "\n",
      "Model: \"sequential_2\"\n",
      "_________________________________________________________________\n",
      "Layer (type)                 Output Shape              Param #   \n",
      "=================================================================\n",
      "dense_4 (Dense)              (None, 64)                786496    \n",
      "_________________________________________________________________\n",
      "dense_5 (Dense)              (None, 1)                 65        \n",
      "=================================================================\n",
      "Total params: 786,561\n",
      "Trainable params: 786,561\n",
      "Non-trainable params: 0\n",
      "_________________________________________________________________\n",
      "Epoch 1/10\n",
      "250/250 [==============================] - 1s 5ms/step - loss: 0.8033 - accuracy: 0.5039 - recall_2: 0.0510 - val_loss: 0.6932 - val_accuracy: 0.5000 - val_recall_2: 0.0000e+00\n",
      "Epoch 2/10\n",
      "250/250 [==============================] - 1s 4ms/step - loss: 0.6932 - accuracy: 0.4975 - recall_2: 0.1055 - val_loss: 0.6931 - val_accuracy: 0.5000 - val_recall_2: 0.0000e+00\n",
      "Epoch 3/10\n",
      "250/250 [==============================] - 1s 4ms/step - loss: 0.6932 - accuracy: 0.4933 - recall_2: 0.2892 - val_loss: 0.6931 - val_accuracy: 0.5000 - val_recall_2: 0.0000e+00\n",
      "Epoch 4/10\n",
      "250/250 [==============================] - 1s 4ms/step - loss: 0.6932 - accuracy: 0.5000 - recall_2: 0.0000e+00 - val_loss: 0.6931 - val_accuracy: 0.5000 - val_recall_2: 0.0000e+00\n",
      "Epoch 5/10\n",
      "250/250 [==============================] - 1s 4ms/step - loss: 0.6932 - accuracy: 0.4958 - recall_2: 0.3158 - val_loss: 0.6931 - val_accuracy: 0.5000 - val_recall_2: 1.0000\n",
      "Epoch 6/10\n",
      "250/250 [==============================] - 1s 4ms/step - loss: 0.6932 - accuracy: 0.4965 - recall_2: 0.3365 - val_loss: 0.6932 - val_accuracy: 0.5000 - val_recall_2: 1.0000\n",
      "Epoch 7/10\n",
      "250/250 [==============================] - 1s 4ms/step - loss: 0.6932 - accuracy: 0.5000 - recall_2: 1.0000 - val_loss: 0.6931 - val_accuracy: 0.5000 - val_recall_2: 1.0000\n",
      "Epoch 8/10\n",
      "250/250 [==============================] - 1s 4ms/step - loss: 0.6932 - accuracy: 0.4990 - recall_2: 0.7750 - val_loss: 0.6932 - val_accuracy: 0.5000 - val_recall_2: 0.0000e+00\n",
      "Epoch 9/10\n",
      "250/250 [==============================] - 1s 4ms/step - loss: 0.6932 - accuracy: 0.4972 - recall_2: 0.0292 - val_loss: 0.6931 - val_accuracy: 0.5000 - val_recall_2: 0.0000e+00\n",
      "Epoch 10/10\n",
      "250/250 [==============================] - 1s 4ms/step - loss: 0.6932 - accuracy: 0.4952 - recall_2: 0.4313 - val_loss: 0.6931 - val_accuracy: 0.5000 - val_recall_2: 1.0000\n",
      "\n",
      "[!] Training Completed AT 10/23/20 - 12:43:39 PM\n",
      "\n"
     ]
    },
    {
     "data": {
      "image/png": "[encoded data removed]",
      "text/plain": [
       "<Figure size 432x288 with 1 Axes>"
      ]
     },
     "metadata": {
      "needs_background": "light"
     },
     "output_type": "display_data"
    },
    {
     "data": {
      "image/png": "[encoded data removed]",
      "text/plain": [
       "<Figure size 432x288 with 1 Axes>"
      ]
     },
     "metadata": {
      "needs_background": "light"
     },
     "output_type": "display_data"
    },
    {
     "name": "stdout",
     "output_type": "stream",
     "text": [
      "------------------------------------------------------------\n",
      "------------------------------------------------------------\n",
      "[i] Classification Report\n",
      "              precision    recall  f1-score   support\n",
      "\n",
      "         0.0       0.00      0.00      0.00       800\n",
      "         1.0       0.50      1.00      0.67       800\n",
      "\n",
      "    accuracy                           0.50      1600\n",
      "   macro avg       0.25      0.50      0.33      1600\n",
      "weighted avg       0.25      0.50      0.33      1600\n",
      "\n",
      "\n",
      "[i] Total Training Time: 0:00:10.557656\n",
      "------------------------------------------------------------\n"
     ]
    },
    {
     "name": "stderr",
     "output_type": "stream",
     "text": [
      "/opt/anaconda3/envs/learn-env/lib/python3.6/site-packages/sklearn/metrics/_classification.py:1221: UndefinedMetricWarning:\n",
      "\n",
      "Precision and F-score are ill-defined and being set to 0.0 in labels with no predicted samples. Use `zero_division` parameter to control this behavior.\n",
      "\n"
     ]
    }
   ],
   "source": [
    "## Test out new function\n",
    "model_2 = make_fit_plot_model(make_model,fit_kws={'epochs':10})"
   ]
  },
  {
   "cell_type": "markdown",
   "metadata": {},
   "source": [
    "# Sect 42, Part 2: HyperParameter Tuning - Callbacks & GridSearchCV"
   ]
  },
  {
   "cell_type": "markdown",
   "metadata": {},
   "source": [
    "## Activity: Ok...so now what??"
   ]
  },
  {
   "cell_type": "markdown",
   "metadata": {},
   "source": [
    "> Using the rules of thumb and your own knowledge/research, attempt several methods to improve the results of the model. "
   ]
  },
  {
   "cell_type": "code",
   "execution_count": 31,
   "metadata": {
    "ExecuteTime": {
     "end_time": "2020-10-23T16:44:49.611581Z",
     "start_time": "2020-10-23T16:44:49.606403Z"
    }
   },
   "outputs": [],
   "source": [
    "## def make_model\n",
    "def make_model2(verbose=True):\n",
    "    \"\"\"Creats a Sequential Model with 3 layers\"\"\"\n",
    "    model_1 = Sequential()\n",
    "    model_1.add(Dense(64,activation='relu',input_shape=(X_train_unrow.shape[1],)))\n",
    "    model_1.add(Dense(32, activation='relu'))\n",
    "    model_1.add(Dense(1, activation='sigmoid'))\n",
    "\n",
    "    model_1.compile(loss='binary_crossentropy',optimizer='adam',\n",
    "                    metrics=['accuracy',tf.metrics.Recall()])\n",
    "    if verbose:\n",
    "        model_1.summary()\n",
    "    return model_1"
   ]
  },
  {
   "cell_type": "code",
   "execution_count": 32,
   "metadata": {
    "ExecuteTime": {
     "end_time": "2020-10-23T16:45:11.952108Z",
     "start_time": "2020-10-23T16:44:50.677813Z"
    },
    "scrolled": false
   },
   "outputs": [
    {
     "name": "stdout",
     "output_type": "stream",
     "text": [
      "------------------------------------------------------------\n",
      "[i] MODEL CREATED AT 10/23/20 - 12:44:50 PM\n",
      "------------------------------------------------------------\n",
      "\n",
      "Model: \"sequential_3\"\n",
      "_________________________________________________________________\n",
      "Layer (type)                 Output Shape              Param #   \n",
      "=================================================================\n",
      "dense_6 (Dense)              (None, 64)                786496    \n",
      "_________________________________________________________________\n",
      "dense_7 (Dense)              (None, 32)                2080      \n",
      "_________________________________________________________________\n",
      "dense_8 (Dense)              (None, 1)                 33        \n",
      "=================================================================\n",
      "Total params: 788,609\n",
      "Trainable params: 788,609\n",
      "Non-trainable params: 0\n",
      "_________________________________________________________________\n",
      "Epoch 1/20\n",
      "250/250 [==============================] - 1s 5ms/step - loss: 0.7465 - accuracy: 0.5359 - recall_3: 0.5265 - val_loss: 0.6874 - val_accuracy: 0.5425 - val_recall_3: 0.2400\n",
      "Epoch 2/20\n",
      "250/250 [==============================] - 1s 4ms/step - loss: 0.6752 - accuracy: 0.5778 - recall_3: 0.5867 - val_loss: 0.6776 - val_accuracy: 0.5450 - val_recall_3: 0.2600\n",
      "Epoch 3/20\n",
      "250/250 [==============================] - 1s 4ms/step - loss: 0.6673 - accuracy: 0.5935 - recall_3: 0.6020 - val_loss: 0.6809 - val_accuracy: 0.5775 - val_recall_3: 0.3450\n",
      "Epoch 4/20\n",
      "250/250 [==============================] - 1s 4ms/step - loss: 0.6633 - accuracy: 0.5957 - recall_3: 0.5995 - val_loss: 0.7069 - val_accuracy: 0.5300 - val_recall_3: 0.8950\n",
      "Epoch 5/20\n",
      "250/250 [==============================] - 1s 4ms/step - loss: 0.6560 - accuracy: 0.6102 - recall_3: 0.6413 - val_loss: 0.6796 - val_accuracy: 0.5875 - val_recall_3: 0.4650\n",
      "Epoch 6/20\n",
      "250/250 [==============================] - 1s 4ms/step - loss: 0.6563 - accuracy: 0.6085 - recall_3: 0.6185 - val_loss: 0.7006 - val_accuracy: 0.5525 - val_recall_3: 0.1900\n",
      "Epoch 7/20\n",
      "250/250 [==============================] - 1s 4ms/step - loss: 0.6459 - accuracy: 0.6195 - recall_3: 0.6237 - val_loss: 0.6716 - val_accuracy: 0.5975 - val_recall_3: 0.6050\n",
      "Epoch 8/20\n",
      "250/250 [==============================] - 1s 4ms/step - loss: 0.6385 - accuracy: 0.6360 - recall_3: 0.6453 - val_loss: 0.6890 - val_accuracy: 0.5625 - val_recall_3: 0.8100\n",
      "Epoch 9/20\n",
      "250/250 [==============================] - 1s 4ms/step - loss: 0.6390 - accuracy: 0.6289 - recall_3: 0.6285 - val_loss: 0.6963 - val_accuracy: 0.5400 - val_recall_3: 0.8250\n",
      "Epoch 10/20\n",
      "250/250 [==============================] - 1s 4ms/step - loss: 0.6309 - accuracy: 0.6398 - recall_3: 0.6605 - val_loss: 0.6712 - val_accuracy: 0.5950 - val_recall_3: 0.4400\n",
      "Epoch 11/20\n",
      "250/250 [==============================] - 1s 4ms/step - loss: 0.6312 - accuracy: 0.6467 - recall_3: 0.6485 - val_loss: 0.7052 - val_accuracy: 0.5600 - val_recall_3: 0.2700\n",
      "Epoch 12/20\n",
      "250/250 [==============================] - 1s 4ms/step - loss: 0.6144 - accuracy: 0.6518 - recall_3: 0.6637 - val_loss: 0.6587 - val_accuracy: 0.6200 - val_recall_3: 0.6650\n",
      "Epoch 13/20\n",
      "250/250 [==============================] - 1s 4ms/step - loss: 0.6261 - accuracy: 0.6442 - recall_3: 0.6603 - val_loss: 0.6744 - val_accuracy: 0.5825 - val_recall_3: 0.6650\n",
      "Epoch 14/20\n",
      "250/250 [==============================] - 1s 4ms/step - loss: 0.6128 - accuracy: 0.6594 - recall_3: 0.6662 - val_loss: 0.6712 - val_accuracy: 0.5750 - val_recall_3: 0.7200\n",
      "Epoch 15/20\n",
      "250/250 [==============================] - 1s 4ms/step - loss: 0.6022 - accuracy: 0.6700 - recall_3: 0.6755 - val_loss: 0.6735 - val_accuracy: 0.5900 - val_recall_3: 0.4350\n",
      "Epoch 16/20\n",
      "250/250 [==============================] - 1s 4ms/step - loss: 0.5941 - accuracy: 0.6747 - recall_3: 0.6712 - val_loss: 0.6805 - val_accuracy: 0.5650 - val_recall_3: 0.7500\n",
      "Epoch 17/20\n",
      "250/250 [==============================] - 1s 4ms/step - loss: 0.5982 - accuracy: 0.6721 - recall_3: 0.6817 - val_loss: 0.7003 - val_accuracy: 0.6000 - val_recall_3: 0.3500\n",
      "Epoch 18/20\n",
      "250/250 [==============================] - 1s 4ms/step - loss: 0.6017 - accuracy: 0.6712 - recall_3: 0.6708 - val_loss: 0.6776 - val_accuracy: 0.5950 - val_recall_3: 0.3600\n",
      "Epoch 19/20\n",
      "250/250 [==============================] - 1s 4ms/step - loss: 0.5876 - accuracy: 0.6859 - recall_3: 0.6873 - val_loss: 0.6621 - val_accuracy: 0.5975 - val_recall_3: 0.5750\n",
      "Epoch 20/20\n",
      "250/250 [==============================] - 1s 4ms/step - loss: 0.5834 - accuracy: 0.6862 - recall_3: 0.6930 - val_loss: 0.7259 - val_accuracy: 0.5700 - val_recall_3: 0.2300\n",
      "\n",
      "[!] Training Completed AT 10/23/20 - 12:45:11 PM\n",
      "\n"
     ]
    },
    {
     "data": {
      "image/png": "[encoded data removed]",
      "text/plain": [
       "<Figure size 432x288 with 1 Axes>"
      ]
     },
     "metadata": {
      "needs_background": "light"
     },
     "output_type": "display_data"
    },
    {
     "data": {
      "image/png": "[encoded data removed]",
      "text/plain": [
       "<Figure size 432x288 with 1 Axes>"
      ]
     },
     "metadata": {
      "needs_background": "light"
     },
     "output_type": "display_data"
    },
    {
     "name": "stdout",
     "output_type": "stream",
     "text": [
      "------------------------------------------------------------\n",
      "------------------------------------------------------------\n",
      "[i] Classification Report\n",
      "              precision    recall  f1-score   support\n",
      "\n",
      "         0.0       0.55      0.91      0.68       800\n",
      "         1.0       0.74      0.25      0.37       800\n",
      "\n",
      "    accuracy                           0.58      1600\n",
      "   macro avg       0.64      0.58      0.53      1600\n",
      "weighted avg       0.64      0.58      0.53      1600\n",
      "\n",
      "\n",
      "[i] Total Training Time: 0:00:20.740665\n",
      "------------------------------------------------------------\n"
     ]
    },
    {
     "data": {
      "text/plain": [
       "<tensorflow.python.keras.engine.sequential.Sequential at 0x7f8ed36e8dd8>"
      ]
     },
     "execution_count": 32,
     "metadata": {},
     "output_type": "execute_result"
    }
   ],
   "source": [
    "make_fit_plot_model(make_model2)"
   ]
  },
  {
   "cell_type": "code",
   "execution_count": null,
   "metadata": {},
   "outputs": [],
   "source": []
  },
  {
   "cell_type": "markdown",
   "metadata": {},
   "source": [
    "## Keras CallBacks"
   ]
  },
  {
   "cell_type": "code",
   "execution_count": 35,
   "metadata": {
    "ExecuteTime": {
     "end_time": "2020-10-23T16:56:48.085604Z",
     "start_time": "2020-10-23T16:56:48.081358Z"
    }
   },
   "outputs": [],
   "source": [
    "from keras.callbacks import ModelCheckpoint, EarlyStopping, CSVLogger\n",
    "MONITOR = 'val_acc'\n",
    "\n",
    "earlystop = EarlyStopping(monitor=MONITOR,min_delta=0.005,patience=5)\n",
    "\n",
    "MODEL_FPATH = '/Users/jamesirving/Datasets/dogs-vs-cats-sorted/Models/076020ft/'\n",
    "os.makedirs(MODEL_FPATH,exist_ok=True)\n",
    "\n",
    "checkpoint_filepath = MODEL_FPATH+\"weights-improvement-{epoch:02d}-{\"+MONITOR+\":.2f}.hdf5\",\n",
    "\n",
    "checkpoint = ModelCheckpoint(checkpoint_filepath,monitor=MONITOR,save_best_only=True)\n",
    "\n",
    "callbacks = [earlystop,checkpoint]"
   ]
  },
  {
   "cell_type": "code",
   "execution_count": 52,
   "metadata": {
    "ExecuteTime": {
     "end_time": "2020-10-23T17:06:33.951703Z",
     "start_time": "2020-10-23T17:06:33.938832Z"
    }
   },
   "outputs": [
    {
     "data": {
      "text/plain": [
       "[<tensorflow.python.keras.callbacks.EarlyStopping at 0x7f8ed12089b0>,\n",
       " <tensorflow.python.keras.callbacks.ModelCheckpoint at 0x7f8ed1208208>]"
      ]
     },
     "execution_count": 52,
     "metadata": {},
     "output_type": "execute_result"
    }
   ],
   "source": [
    "from keras.callbacks import ModelCheckpoint, EarlyStopping, CSVLogger\n",
    "def make_callbacks( MONITOR = 'val_accuracy',min_delta=0.005,patience=5,\n",
    "                   MODEL_FPATH = '/Users/jamesirving/Datasets/dogs-vs-cats-sorted/Models/076020ft/'):\n",
    "\n",
    "\n",
    "    earlystop = EarlyStopping(monitor=MONITOR,patience=patience,min_delta=min_delta)\n",
    "\n",
    "\n",
    "    os.makedirs(MODEL_FPATH,exist_ok=True)\n",
    "\n",
    "    checkpoint_filepath = MODEL_FPATH+\"weights-improvement-{epoch:02d}-{\"+MONITOR+\":.2f}.hdf5\",\n",
    "\n",
    "    checkpoint = ModelCheckpoint(checkpoint_filepath,monitor=MONITOR,save_best_only=True)\n",
    "\n",
    "    return [earlystop,checkpoint]\n",
    "    \n",
    "callbacks = make_callbacks()\n",
    "callbacks"
   ]
  },
  {
   "cell_type": "markdown",
   "metadata": {},
   "source": [
    "## Updating Our Function"
   ]
  },
  {
   "cell_type": "markdown",
   "metadata": {},
   "source": [
    "### `def make_fit_evaluate_model`"
   ]
  },
  {
   "cell_type": "code",
   "execution_count": 53,
   "metadata": {
    "ExecuteTime": {
     "end_time": "2020-10-23T17:06:35.599775Z",
     "start_time": "2020-10-23T17:06:35.583286Z"
    },
    "code_folding": [
     0
    ]
   },
   "outputs": [],
   "source": [
    "def plot_confusion_matrix(conf_matrix, classes = None, \n",
    "                          title='Confusion Matrix',normalize='true', \n",
    "                          cmap=\"Blues\",\n",
    "                          fig_size=(4,4)):\n",
    "    \"\"\"Check if Normalization Option is Set to True. \n",
    "    If so, normalize the raw confusion matrix before visualizing\n",
    "    #Other code should be equivalent to your previous function.\n",
    "    Note: Taken from bs_ds and modified\n",
    "    - Can pass a tuple of (y_true,y_pred) instead of conf matrix.\n",
    "    \"\"\"\n",
    "    import itertools\n",
    "    import numpy as np\n",
    "    import matplotlib.pyplot as plt\n",
    "    import sklearn.metrics as metrics\n",
    "    \n",
    "    ## make confusion matrix if given tuple of y_true,y_pred\n",
    "    if isinstance(conf_matrix, tuple):\n",
    "        y_true = conf_matrix[0].copy()\n",
    "        y_pred = conf_matrix[1].copy()\n",
    "        cm = metrics.confusion_matrix(y_true,y_pred,normalize=normalize)\n",
    "    else:\n",
    "        cm = conf_matrix\n",
    "        \n",
    "    ## Generate integer labels for classes\n",
    "    if classes is None:\n",
    "        classes = list(range(len(cm)))  \n",
    "        \n",
    "    ## Normalize data\n",
    "    if normalize:\n",
    "#         cm = cm.astype('float') / cm.sum(axis=1)[:, np.newaxis]\n",
    "        fmt='.2f'\n",
    "        thresh=0.5\n",
    "    else:\n",
    "       # Determine threshold for b/w text\n",
    "        thresh = cm.max() / 2.\n",
    "        fmt= 'd'\n",
    "        \n",
    "        \n",
    "    fontDict = {\n",
    "        'title':{\n",
    "            'fontsize':16,\n",
    "            'fontweight':'semibold',\n",
    "            'ha':'center',\n",
    "            },\n",
    "        'xlabel':{\n",
    "            'fontsize':14,\n",
    "            'fontweight':'normal',\n",
    "            },\n",
    "        'ylabel':{\n",
    "            'fontsize':14,\n",
    "            'fontweight':'normal',\n",
    "            },\n",
    "        'xtick_labels':{\n",
    "            'fontsize':10,\n",
    "            'fontweight':'normal',\n",
    "    #             'rotation':45,\n",
    "            'ha':'right',\n",
    "            },\n",
    "        'ytick_labels':{\n",
    "            'fontsize':10,\n",
    "            'fontweight':'normal',\n",
    "            'rotation':0,\n",
    "            'ha':'right',\n",
    "            },\n",
    "        'data_labels':{\n",
    "            'ha':'center',\n",
    "            'fontweight':'semibold',\n",
    "\n",
    "        }\n",
    "    }\n",
    "\n",
    "    # Create plot\n",
    "    fig,ax = plt.subplots(figsize=fig_size)\n",
    "\n",
    "    plt.imshow(cm, interpolation='nearest', cmap=cmap)\n",
    "    plt.title(title,**fontDict['title'])\n",
    "    plt.colorbar()\n",
    "\n",
    "    tick_marks = np.arange(len(classes))\n",
    "\n",
    "\n",
    "    plt.xticks(tick_marks, classes, **fontDict['xtick_labels'])\n",
    "    plt.yticks(tick_marks, classes,**fontDict['ytick_labels'])\n",
    "\n",
    " \n",
    "\n",
    "    # fig,ax = plt.subplots()\n",
    "    for i, j in itertools.product(range(cm.shape[0]), range(cm.shape[1])):\n",
    "        plt.text(j, i, format(cm[i, j], fmt),\n",
    "                 color=\"white\" if cm[i, j] > thresh else \"black\",**fontDict['data_labels']) #\n",
    "\n",
    "    plt.tight_layout()\n",
    "    plt.ylabel('True label',**fontDict['ylabel'])\n",
    "    plt.xlabel('Predicted label',**fontDict['xlabel'])\n",
    "\n",
    "    return fig\n",
    "\n",
    "\n",
    "\n",
    "# plot_confusion_matrix((y_test,y_hat_test));"
   ]
  },
  {
   "cell_type": "code",
   "execution_count": 54,
   "metadata": {
    "ExecuteTime": {
     "end_time": "2020-10-23T17:06:36.157141Z",
     "start_time": "2020-10-23T17:06:36.148681Z"
    }
   },
   "outputs": [],
   "source": [
    "import inspect\n",
    "def make_fit_evaluate_model(build_fn,train_data = (X_train_unrow,y_train),\n",
    "                            test_data = ( X_test_unrow,y_test),\n",
    "                            validation_data =(X_val_unrow,y_val),\n",
    "                            fit_kws=dict(epochs=20),classes=['cat','dog']):\n",
    "    \"\"\"Creates a Keras model from the build function, displays the time at start\n",
    "    of training, then agian when training complete. \n",
    "    Displays training histroy, classification report, and confisoon matrix\"\"\"\n",
    "    ## Print Start Time\n",
    "    start = dt.datetime.now(tz=get_localzone())\n",
    "    fmt= \"%m/%d/%y - %T %p\"\n",
    "    print('---'*20)    \n",
    "    print(f'[i] MODEL CREATED AT {start.strftime(fmt)}')\n",
    "    print('---'*20)\n",
    "    print()\n",
    "    \n",
    "    \n",
    "    if inspect.isfunction(build_fn):\n",
    "        ## Use new functions to make model and plot history\n",
    "        model = build_fn()\n",
    "    else: \n",
    "        model = build_fn\n",
    "    \n",
    "    ## Fit Model\n",
    "    history = model.fit(*train_data, **fit_kws,callbacks=make_callbacks(),\n",
    "                          validation_data=validation_data)\n",
    "    \n",
    "    ## Save end time\n",
    "    end = dt.datetime.now(tz=get_localzone())\n",
    "    print('\\n'+'---'*20)\n",
    "    print(f'\\n[!] Training Completed AT {end.strftime(fmt)}')\n",
    "    print()\n",
    "    \n",
    "    ## Plot History\n",
    "    plot_history(history)\n",
    "    \n",
    "    print('---'*20)  \n",
    "    print('---'*20)  \n",
    "    print('[i] Classification Report')\n",
    "    \n",
    "    ## Separate Test_data\n",
    "    X_test,y_test = test_data\n",
    "    y_hat_test = model.predict(X_test).round()        \n",
    "    \n",
    "    print(metrics.classification_report(y_test,y_hat_test,target_names=classes))\n",
    "    \n",
    "    ## Plot confusion matrix \n",
    "    plot_confusion_matrix((y_test,y_hat_test),classes=classes);\n",
    "    plt.show()\n",
    "    print(f\"\\n[i] Total Training Time: {end-start}\")\n",
    "    print('---'*20)  \n",
    "    return model"
   ]
  },
  {
   "cell_type": "markdown",
   "metadata": {},
   "source": [
    "> # NOTE: We swapped over to the instructor notebook at this point due to the error below."
   ]
  },
  {
   "cell_type": "code",
   "execution_count": 55,
   "metadata": {
    "ExecuteTime": {
     "end_time": "2020-10-23T17:06:39.048601Z",
     "start_time": "2020-10-23T17:06:36.513430Z"
    },
    "scrolled": false
   },
   "outputs": [
    {
     "name": "stdout",
     "output_type": "stream",
     "text": [
      "------------------------------------------------------------\n",
      "[i] MODEL CREATED AT 10/23/20 - 13:06:36 PM\n",
      "------------------------------------------------------------\n",
      "\n",
      "Model: \"sequential_8\"\n",
      "_________________________________________________________________\n",
      "Layer (type)                 Output Shape              Param #   \n",
      "=================================================================\n",
      "dense_21 (Dense)             (None, 64)                786496    \n",
      "_________________________________________________________________\n",
      "dense_22 (Dense)             (None, 32)                2080      \n",
      "_________________________________________________________________\n",
      "dense_23 (Dense)             (None, 1)                 33        \n",
      "=================================================================\n",
      "Total params: 788,609\n",
      "Trainable params: 788,609\n",
      "Non-trainable params: 0\n",
      "_________________________________________________________________\n",
      "Epoch 1/20\n",
      "247/250 [============================>.] - ETA: 0s - loss: 0.7547 - accuracy: 0.5433 - recall_8: 0.5469"
     ]
    },
    {
     "ename": "AttributeError",
     "evalue": "'tuple' object has no attribute 'format'",
     "output_type": "error",
     "traceback": [
      "\u001b[0;31m---------------------------------------------------------------------------\u001b[0m",
      "\u001b[0;31mAttributeError\u001b[0m                            Traceback (most recent call last)",
      "\u001b[0;32m<ipython-input-55-503dd02cf749>\u001b[0m in \u001b[0;36m<module>\u001b[0;34m\u001b[0m\n\u001b[0;32m----> 1\u001b[0;31m \u001b[0mmake_fit_evaluate_model\u001b[0m\u001b[0;34m(\u001b[0m\u001b[0mmake_model2\u001b[0m\u001b[0;34m)\u001b[0m\u001b[0;34m\u001b[0m\u001b[0;34m\u001b[0m\u001b[0m\n\u001b[0m",
      "\u001b[0;32m<ipython-input-54-2006e9f68a02>\u001b[0m in \u001b[0;36mmake_fit_evaluate_model\u001b[0;34m(build_fn, train_data, test_data, validation_data, fit_kws, classes)\u001b[0m\n\u001b[1;32m     24\u001b[0m     \u001b[0;31m## Fit Model\u001b[0m\u001b[0;34m\u001b[0m\u001b[0;34m\u001b[0m\u001b[0;34m\u001b[0m\u001b[0m\n\u001b[1;32m     25\u001b[0m     history = model.fit(*train_data, **fit_kws,callbacks=make_callbacks(),\n\u001b[0;32m---> 26\u001b[0;31m                           validation_data=validation_data)\n\u001b[0m\u001b[1;32m     27\u001b[0m \u001b[0;34m\u001b[0m\u001b[0m\n\u001b[1;32m     28\u001b[0m     \u001b[0;31m## Save end time\u001b[0m\u001b[0;34m\u001b[0m\u001b[0;34m\u001b[0m\u001b[0;34m\u001b[0m\u001b[0m\n",
      "\u001b[0;32m/opt/anaconda3/envs/learn-env/lib/python3.6/site-packages/tensorflow/python/keras/engine/training.py\u001b[0m in \u001b[0;36m_method_wrapper\u001b[0;34m(self, *args, **kwargs)\u001b[0m\n\u001b[1;32m    106\u001b[0m   \u001b[0;32mdef\u001b[0m \u001b[0m_method_wrapper\u001b[0m\u001b[0;34m(\u001b[0m\u001b[0mself\u001b[0m\u001b[0;34m,\u001b[0m \u001b[0;34m*\u001b[0m\u001b[0margs\u001b[0m\u001b[0;34m,\u001b[0m \u001b[0;34m**\u001b[0m\u001b[0mkwargs\u001b[0m\u001b[0;34m)\u001b[0m\u001b[0;34m:\u001b[0m\u001b[0;34m\u001b[0m\u001b[0;34m\u001b[0m\u001b[0m\n\u001b[1;32m    107\u001b[0m     \u001b[0;32mif\u001b[0m \u001b[0;32mnot\u001b[0m \u001b[0mself\u001b[0m\u001b[0;34m.\u001b[0m\u001b[0m_in_multi_worker_mode\u001b[0m\u001b[0;34m(\u001b[0m\u001b[0;34m)\u001b[0m\u001b[0;34m:\u001b[0m  \u001b[0;31m# pylint: disable=protected-access\u001b[0m\u001b[0;34m\u001b[0m\u001b[0;34m\u001b[0m\u001b[0m\n\u001b[0;32m--> 108\u001b[0;31m       \u001b[0;32mreturn\u001b[0m \u001b[0mmethod\u001b[0m\u001b[0;34m(\u001b[0m\u001b[0mself\u001b[0m\u001b[0;34m,\u001b[0m \u001b[0;34m*\u001b[0m\u001b[0margs\u001b[0m\u001b[0;34m,\u001b[0m \u001b[0;34m**\u001b[0m\u001b[0mkwargs\u001b[0m\u001b[0;34m)\u001b[0m\u001b[0;34m\u001b[0m\u001b[0;34m\u001b[0m\u001b[0m\n\u001b[0m\u001b[1;32m    109\u001b[0m \u001b[0;34m\u001b[0m\u001b[0m\n\u001b[1;32m    110\u001b[0m     \u001b[0;31m# Running inside `run_distribute_coordinator` already.\u001b[0m\u001b[0;34m\u001b[0m\u001b[0;34m\u001b[0m\u001b[0;34m\u001b[0m\u001b[0m\n",
      "\u001b[0;32m/opt/anaconda3/envs/learn-env/lib/python3.6/site-packages/tensorflow/python/keras/engine/training.py\u001b[0m in \u001b[0;36mfit\u001b[0;34m(self, x, y, batch_size, epochs, verbose, callbacks, validation_split, validation_data, shuffle, class_weight, sample_weight, initial_epoch, steps_per_epoch, validation_steps, validation_batch_size, validation_freq, max_queue_size, workers, use_multiprocessing)\u001b[0m\n\u001b[1;32m   1135\u001b[0m           \u001b[0mepoch_logs\u001b[0m\u001b[0;34m.\u001b[0m\u001b[0mupdate\u001b[0m\u001b[0;34m(\u001b[0m\u001b[0mval_logs\u001b[0m\u001b[0;34m)\u001b[0m\u001b[0;34m\u001b[0m\u001b[0;34m\u001b[0m\u001b[0m\n\u001b[1;32m   1136\u001b[0m \u001b[0;34m\u001b[0m\u001b[0m\n\u001b[0;32m-> 1137\u001b[0;31m         \u001b[0mcallbacks\u001b[0m\u001b[0;34m.\u001b[0m\u001b[0mon_epoch_end\u001b[0m\u001b[0;34m(\u001b[0m\u001b[0mepoch\u001b[0m\u001b[0;34m,\u001b[0m \u001b[0mepoch_logs\u001b[0m\u001b[0;34m)\u001b[0m\u001b[0;34m\u001b[0m\u001b[0;34m\u001b[0m\u001b[0m\n\u001b[0m\u001b[1;32m   1138\u001b[0m         \u001b[0mtraining_logs\u001b[0m \u001b[0;34m=\u001b[0m \u001b[0mepoch_logs\u001b[0m\u001b[0;34m\u001b[0m\u001b[0;34m\u001b[0m\u001b[0m\n\u001b[1;32m   1139\u001b[0m         \u001b[0;32mif\u001b[0m \u001b[0mself\u001b[0m\u001b[0;34m.\u001b[0m\u001b[0mstop_training\u001b[0m\u001b[0;34m:\u001b[0m\u001b[0;34m\u001b[0m\u001b[0;34m\u001b[0m\u001b[0m\n",
      "\u001b[0;32m/opt/anaconda3/envs/learn-env/lib/python3.6/site-packages/tensorflow/python/keras/callbacks.py\u001b[0m in \u001b[0;36mon_epoch_end\u001b[0;34m(self, epoch, logs)\u001b[0m\n\u001b[1;32m    410\u001b[0m     \u001b[0;32mfor\u001b[0m \u001b[0mcallback\u001b[0m \u001b[0;32min\u001b[0m \u001b[0mself\u001b[0m\u001b[0;34m.\u001b[0m\u001b[0mcallbacks\u001b[0m\u001b[0;34m:\u001b[0m\u001b[0;34m\u001b[0m\u001b[0;34m\u001b[0m\u001b[0m\n\u001b[1;32m    411\u001b[0m       \u001b[0;32mif\u001b[0m \u001b[0mgetattr\u001b[0m\u001b[0;34m(\u001b[0m\u001b[0mcallback\u001b[0m\u001b[0;34m,\u001b[0m \u001b[0;34m'_supports_tf_logs'\u001b[0m\u001b[0;34m,\u001b[0m \u001b[0;32mFalse\u001b[0m\u001b[0;34m)\u001b[0m\u001b[0;34m:\u001b[0m\u001b[0;34m\u001b[0m\u001b[0;34m\u001b[0m\u001b[0m\n\u001b[0;32m--> 412\u001b[0;31m         \u001b[0mcallback\u001b[0m\u001b[0;34m.\u001b[0m\u001b[0mon_epoch_end\u001b[0m\u001b[0;34m(\u001b[0m\u001b[0mepoch\u001b[0m\u001b[0;34m,\u001b[0m \u001b[0mlogs\u001b[0m\u001b[0;34m)\u001b[0m\u001b[0;34m\u001b[0m\u001b[0;34m\u001b[0m\u001b[0m\n\u001b[0m\u001b[1;32m    413\u001b[0m       \u001b[0;32melse\u001b[0m\u001b[0;34m:\u001b[0m\u001b[0;34m\u001b[0m\u001b[0;34m\u001b[0m\u001b[0m\n\u001b[1;32m    414\u001b[0m         \u001b[0;32mif\u001b[0m \u001b[0mnumpy_logs\u001b[0m \u001b[0;32mis\u001b[0m \u001b[0;32mNone\u001b[0m\u001b[0;34m:\u001b[0m  \u001b[0;31m# Only convert once.\u001b[0m\u001b[0;34m\u001b[0m\u001b[0;34m\u001b[0m\u001b[0m\n",
      "\u001b[0;32m/opt/anaconda3/envs/learn-env/lib/python3.6/site-packages/tensorflow/python/keras/callbacks.py\u001b[0m in \u001b[0;36mon_epoch_end\u001b[0;34m(self, epoch, logs)\u001b[0m\n\u001b[1;32m   1247\u001b[0m     \u001b[0;31m# pylint: disable=protected-access\u001b[0m\u001b[0;34m\u001b[0m\u001b[0;34m\u001b[0m\u001b[0;34m\u001b[0m\u001b[0m\n\u001b[1;32m   1248\u001b[0m     \u001b[0;32mif\u001b[0m \u001b[0mself\u001b[0m\u001b[0;34m.\u001b[0m\u001b[0msave_freq\u001b[0m \u001b[0;34m==\u001b[0m \u001b[0;34m'epoch'\u001b[0m\u001b[0;34m:\u001b[0m\u001b[0;34m\u001b[0m\u001b[0;34m\u001b[0m\u001b[0m\n\u001b[0;32m-> 1249\u001b[0;31m       \u001b[0mself\u001b[0m\u001b[0;34m.\u001b[0m\u001b[0m_save_model\u001b[0m\u001b[0;34m(\u001b[0m\u001b[0mepoch\u001b[0m\u001b[0;34m=\u001b[0m\u001b[0mepoch\u001b[0m\u001b[0;34m,\u001b[0m \u001b[0mlogs\u001b[0m\u001b[0;34m=\u001b[0m\u001b[0mlogs\u001b[0m\u001b[0;34m)\u001b[0m\u001b[0;34m\u001b[0m\u001b[0;34m\u001b[0m\u001b[0m\n\u001b[0m\u001b[1;32m   1250\u001b[0m \u001b[0;34m\u001b[0m\u001b[0m\n\u001b[1;32m   1251\u001b[0m   \u001b[0;32mdef\u001b[0m \u001b[0m_should_save_on_batch\u001b[0m\u001b[0;34m(\u001b[0m\u001b[0mself\u001b[0m\u001b[0;34m,\u001b[0m \u001b[0mbatch\u001b[0m\u001b[0;34m)\u001b[0m\u001b[0;34m:\u001b[0m\u001b[0;34m\u001b[0m\u001b[0;34m\u001b[0m\u001b[0m\n",
      "\u001b[0;32m/opt/anaconda3/envs/learn-env/lib/python3.6/site-packages/tensorflow/python/keras/callbacks.py\u001b[0m in \u001b[0;36m_save_model\u001b[0;34m(self, epoch, logs)\u001b[0m\n\u001b[1;32m   1280\u001b[0m       \u001b[0mlogs\u001b[0m \u001b[0;34m=\u001b[0m \u001b[0mtf_utils\u001b[0m\u001b[0;34m.\u001b[0m\u001b[0mto_numpy_or_python_type\u001b[0m\u001b[0;34m(\u001b[0m\u001b[0mlogs\u001b[0m\u001b[0;34m)\u001b[0m\u001b[0;34m\u001b[0m\u001b[0;34m\u001b[0m\u001b[0m\n\u001b[1;32m   1281\u001b[0m       \u001b[0mself\u001b[0m\u001b[0;34m.\u001b[0m\u001b[0mepochs_since_last_save\u001b[0m \u001b[0;34m=\u001b[0m \u001b[0;36m0\u001b[0m\u001b[0;34m\u001b[0m\u001b[0;34m\u001b[0m\u001b[0m\n\u001b[0;32m-> 1282\u001b[0;31m       \u001b[0mfilepath\u001b[0m \u001b[0;34m=\u001b[0m \u001b[0mself\u001b[0m\u001b[0;34m.\u001b[0m\u001b[0m_get_file_path\u001b[0m\u001b[0;34m(\u001b[0m\u001b[0mepoch\u001b[0m\u001b[0;34m,\u001b[0m \u001b[0mlogs\u001b[0m\u001b[0;34m)\u001b[0m\u001b[0;34m\u001b[0m\u001b[0;34m\u001b[0m\u001b[0m\n\u001b[0m\u001b[1;32m   1283\u001b[0m \u001b[0;34m\u001b[0m\u001b[0m\n\u001b[1;32m   1284\u001b[0m       \u001b[0;32mtry\u001b[0m\u001b[0;34m:\u001b[0m\u001b[0;34m\u001b[0m\u001b[0;34m\u001b[0m\u001b[0m\n",
      "\u001b[0;32m/opt/anaconda3/envs/learn-env/lib/python3.6/site-packages/tensorflow/python/keras/callbacks.py\u001b[0m in \u001b[0;36m_get_file_path\u001b[0;34m(self, epoch, logs)\u001b[0m\n\u001b[1;32m   1328\u001b[0m       \u001b[0;31m# `{mape:.2f}`. A mismatch between logged metrics and the path's\u001b[0m\u001b[0;34m\u001b[0m\u001b[0;34m\u001b[0m\u001b[0;34m\u001b[0m\u001b[0m\n\u001b[1;32m   1329\u001b[0m       \u001b[0;31m# placeholders can cause formatting to fail.\u001b[0m\u001b[0;34m\u001b[0m\u001b[0;34m\u001b[0m\u001b[0;34m\u001b[0m\u001b[0m\n\u001b[0;32m-> 1330\u001b[0;31m       \u001b[0mfile_path\u001b[0m \u001b[0;34m=\u001b[0m \u001b[0mself\u001b[0m\u001b[0;34m.\u001b[0m\u001b[0mfilepath\u001b[0m\u001b[0;34m.\u001b[0m\u001b[0mformat\u001b[0m\u001b[0;34m(\u001b[0m\u001b[0mepoch\u001b[0m\u001b[0;34m=\u001b[0m\u001b[0mepoch\u001b[0m \u001b[0;34m+\u001b[0m \u001b[0;36m1\u001b[0m\u001b[0;34m,\u001b[0m \u001b[0;34m**\u001b[0m\u001b[0mlogs\u001b[0m\u001b[0;34m)\u001b[0m\u001b[0;34m\u001b[0m\u001b[0;34m\u001b[0m\u001b[0m\n\u001b[0m\u001b[1;32m   1331\u001b[0m     \u001b[0;32mexcept\u001b[0m \u001b[0mKeyError\u001b[0m \u001b[0;32mas\u001b[0m \u001b[0me\u001b[0m\u001b[0;34m:\u001b[0m\u001b[0;34m\u001b[0m\u001b[0;34m\u001b[0m\u001b[0m\n\u001b[1;32m   1332\u001b[0m       raise KeyError('Failed to format this callback filepath: \"{}\". '\n",
      "\u001b[0;31mAttributeError\u001b[0m: 'tuple' object has no attribute 'format'"
     ]
    }
   ],
   "source": [
    "make_fit_evaluate_model(make_model2)"
   ]
  },
  {
   "cell_type": "markdown",
   "metadata": {},
   "source": [
    "## GridSearch"
   ]
  },
  {
   "cell_type": "markdown",
   "metadata": {},
   "source": [
    "Original Source: https://chrisalbon.com/deep_learning/keras/tuning_neural_network_hyperparameters/\n",
    "<br><br>\n",
    "\n",
    "- To use `GridSearchCV` or other similar functions in scikit-learn with a Keras neural network, we need to wrap our keras model in `keras.wrappers.scikit_learn`'s `KerasClassifier` and `KerasRegressor`.\n",
    "\n",
    "1. To do this, we need to write a build function(`build_fn`) that creates our model such as `create_model`.\n",
    "    - This function must accept whatever parameters you wish to tune. \n",
    "    - It also must have a default argument for each parameter.\n",
    "    - This function must Return the model (and only the model)\n",
    "    \n",
    "\n",
    "```python\n",
    "\n",
    "## Define the build function\n",
    "def create_model(n_units=(50,25,7), activation='relu',final_activation='softmax',\n",
    "                optimizer='adam'):\n",
    "    \n",
    "    ## Pro tip:save the local variables now so you can print out the parameters used to create the model.\n",
    "    params_used = locals()\n",
    "    print('Parameters for model:\\n',params_used)\n",
    "    \n",
    "   \n",
    "    from keras.models import Sequential\n",
    "    from keras import layers\n",
    "    \n",
    "    model=Sequential()\n",
    "    model.add(layers.Dense(n_units[0], activation=activation, input_shape=(2000,)))\n",
    "    model.add(layers.Dense(n_units[1], activation=activation))\n",
    "    model.add(layers.Dense(n_units[2], activation=final_activation))\n",
    "    model.compile(optimizer=optimizer, loss='categorical_crossentropy',metrics=['accuracy'])\n",
    "    \n",
    "    display(model.summary())\n",
    "    return model \n",
    "```    \n",
    "\n",
    "2. We then create out model using the Keras wrapper:\n",
    "\n",
    "```python\n",
    "from keras.wrappers.scikit_learn import KerasClassifier\n",
    "neural_network =  KerasClassifier(build_fn=create_model,verbose=1)\n",
    "```\n",
    "\n",
    "3. Now, set up the hyperparameter space for grid search. (Remember, your `create_model` function must accept the parameter you want to tune)\n",
    "\n",
    "```python\n",
    "params_to_test = {'n_units':[(50,25,7),(100,50,7)],\n",
    "                  'optimizer':['adam','rmsprop','adadelta'],\n",
    "                  'activation':['linear','relu','tanh'],\n",
    "                  'final_activation':['softmax']}\n",
    "```\n",
    "\n",
    "4. Now instantiate your GridSearch function\n",
    "\n",
    "```python\n",
    "from sklearn.model_selection import GridSearchCV\n",
    "\n",
    "grid = GridSearchCV(estimator=neural_network,param_grid=params_to_test)\n",
    "grid_result = grid.fit(X_train, y_train)\n",
    "best_params = grid_result.best_params_\n",
    "```\n",
    "5. And thats it!"
   ]
  },
  {
   "cell_type": "code",
   "execution_count": null,
   "metadata": {
    "ExecuteTime": {
     "end_time": "2020-10-23T16:21:44.774757Z",
     "start_time": "2020-10-23T16:21:44.769813Z"
    }
   },
   "outputs": [],
   "source": [
    "## def make_model to tune as a copy of model 2 to tune n_untis\n",
    "def make_model_to_tune():\n",
    "    pass"
   ]
  },
  {
   "cell_type": "code",
   "execution_count": null,
   "metadata": {
    "ExecuteTime": {
     "end_time": "2020-10-23T16:29:14.100480Z",
     "start_time": "2020-10-23T16:29:09.842335Z"
    },
    "scrolled": false
   },
   "outputs": [],
   "source": [
    "from tensorflow.keras.wrappers.scikit_learn import KerasClassifier\n",
    "from sklearn.model_selection import GridSearchCV\n"
   ]
  },
  {
   "cell_type": "code",
   "execution_count": null,
   "metadata": {},
   "outputs": [],
   "source": []
  },
  {
   "cell_type": "markdown",
   "metadata": {},
   "source": [
    "# APPENDIX/HOW-TOs:"
   ]
  },
  {
   "cell_type": "markdown",
   "metadata": {},
   "source": [
    "## How to Make a Custom Scoring Function"
   ]
  },
  {
   "cell_type": "markdown",
   "metadata": {},
   "source": [
    "1. **Why would you do this?**\n",
    "    1. You may want to use a metric that isn't available in sklearn. \n",
    "        - In the included `my_custom_scorer` function, I take the accuracy of each class's predictions from the diagonal of a normalized confusion matrix. \n",
    "        - I then calculate the mean of those 3 class accuracies, which is the `score` that is returned to the gridsearch. \n",
    "        \n",
    "    2. You may want to add a printout or display to the scoring function so you can see the results as the search is going.\n",
    "<br><br>\n",
    "2. **How do you do write your own?**\n",
    "    1. Define your custom scoring function.\n",
    "        - It must accept `y_true`,`y_pred`\n",
    "        - It must return a value to maximize. (like accuracy)\n",
    "    2. You can add print or display commands to have the scoring function report the current results as the gridsearch is still going.\n",
    "        - If you combine this with the example `create_model` function above that includes the `vars=locals(); print(vars)` command, then gridsearch will display:\n",
    "            1. the parameters of each model (each time the `create_model` function is called.\n",
    "            2. The score of each model, including a confusion matrix figure (each time it calls `my_custom_scorer`).\n",
    "        \n",
    "```python\n",
    "def my_custom_scorer(y_true,y_pred):\n",
    "    \"\"\"My custom score function to use with sklearn's GridSearchCV\n",
    "    Maximizes the average accuracy per class using a normalized confusion matrix\"\"\"\n",
    "    from sklearn.metrics import confusion_matrix\n",
    "    import numpy as np\n",
    "    import functions_combined_BEST as ji    \n",
    "\n",
    "    ## Flatten one-hot encoded target columns into 1 column for sklearn functions\n",
    "    if y_true.ndim>1 or y_pred.ndim>1:\n",
    "        \n",
    "        ## reduce dimensions of y_train and y_test\n",
    "        if y_true.ndim>1:            \n",
    "            y_true = y_true.argmax(axis=1)\n",
    "        \n",
    "        if y_pred.ndim>1:\n",
    "            y_pred = y_pred.argmax(axis=1)\n",
    "\n",
    "    \n",
    "     # Get confusion matrx\n",
    "    cm = confusion_matrix(y_true, y_pred)\n",
    "\n",
    "    # Normalize confusion matrix\n",
    "    cm_norm = cm.astype('float')/cm.sum(axis=1)[:,np.newaxis]\n",
    "\n",
    "    ## Get diagonals for class accuracy\n",
    "    diag = cm_norm.diagonal()\n",
    "    \n",
    "    # Get the mean of the diagonal values\n",
    "    score = np.mean(diag)\n",
    "    \n",
    "    ## Display Results for the User\n",
    "    print(f'Mean Class Accuracy = {score}')\n",
    "    print(f'Class Accuracy Values:')\n",
    "    print(diag)    \n",
    "\n",
    "    ## Plot the confusion matrix.\n",
    "    ji.plot_confusion_matrix(cm,normalize=True)\n",
    "\n",
    "    # return the score \n",
    "    return score\n",
    "```        \n",
    "        \n",
    "        \n",
    "3. **How do you use it?**\n",
    "    - When instantiating GridSearchCV pass your function as the `scoring=` parameter, wrapped in the  `sklearn.metrics.make_scorer` function.\n",
    "  \n",
    "\n",
    "```python\n",
    "## Using custom scoring function\n",
    "from sklearn.metrics import make_scorer\n",
    "\n",
    "grid = GridSearchCV(estimator=neural_network, \n",
    "                    param_grid=params_to_test,\n",
    "                   scoring=make_scorer(my_custom_scorer))\n",
    "                    \n",
    "grid_result = grid.fit(X_train, y_train)\n",
    "```"
   ]
  },
  {
   "cell_type": "code",
   "execution_count": null,
   "metadata": {},
   "outputs": [],
   "source": []
  },
  {
   "cell_type": "markdown",
   "metadata": {},
   "source": [
    "# APPENDIX"
   ]
  },
  {
   "cell_type": "markdown",
   "metadata": {
    "ExecuteTime": {
     "end_time": "2020-10-23T15:46:09.911414Z",
     "start_time": "2020-10-23T15:46:09.909226Z"
    }
   },
   "source": [
    "## Older Functions"
   ]
  },
  {
   "cell_type": "code",
   "execution_count": null,
   "metadata": {},
   "outputs": [],
   "source": [
    "stop"
   ]
  },
  {
   "cell_type": "code",
   "execution_count": null,
   "metadata": {},
   "outputs": [],
   "source": []
  },
  {
   "cell_type": "code",
   "execution_count": null,
   "metadata": {
    "ExecuteTime": {
     "end_time": "2020-10-23T15:28:03.675963Z",
     "start_time": "2020-10-23T15:26:54.901Z"
    }
   },
   "outputs": [],
   "source": [
    "def create_checkpoint(monitor,model_subfolder=\"\"):#='Datasets/Models/cat_vs_dog/'):\n",
    "    \n",
    "    checkpoint = ModelCheckpoint(filepath, monitor=monitor, verbose=1, save_best_only=True, mode='max')\n",
    "    return checkpoint\n",
    "\n",
    "def create_early_stopping(monitor = 'val_accuracy',min_delta = 0.05, patience = 3,\n",
    "                          verbose = 1, restore_best_weights = True):\n",
    "\n",
    "    args = locals()\n",
    "    earlystop = EarlyStopping(**args)\n",
    "    return earlystop\n",
    "\n",
    "\n",
    "def get_callbacks(early_stop_kws={}, checkpoint_kws={}):\n",
    "    model_subfolder=base_folder+'Models/'\n",
    "    os.makedirs(model_subfolder,exist_ok=True)\n",
    "\n",
    "    callbacks_list = [create_checkpoint('val_accuracy',\n",
    "                                        model_subfolder=model_subfolder,**checkpoint_kws),\n",
    "                      create_early_stopping(**early_stop_kws)]\n",
    "    return callbacks_list"
   ]
  },
  {
   "cell_type": "code",
   "execution_count": null,
   "metadata": {
    "ExecuteTime": {
     "end_time": "2020-10-23T15:37:09.760983Z",
     "start_time": "2020-10-23T15:37:09.741963Z"
    },
    "code_folding": [
     0
    ]
   },
   "outputs": [],
   "source": [
    "def plot_keras_history(history,figsize_1=(6,4),\n",
    "    figsize_2=(8,6)):\n",
    "    \"\"\"Plots keras history and returns fig\"\"\"\n",
    "    ## Make a df from history\n",
    "    plot_df = pd.DataFrame(history.history)\n",
    "    plot_df['Epoch'] = range(1,len(plot_df)+1)\n",
    "    plot_df.set_index('Epoch',inplace=True)\n",
    "    ## Get cols for acc vs loss\n",
    "    acc_cols = list(filter(lambda x: 'acc' in x, plot_df.columns))\n",
    "    loss_cols = list(filter(lambda x: 'loss' in x, plot_df.columns))   \n",
    "    \n",
    "    ## Set figsizes based on number of keys\n",
    "    if len(acc_cols)>1:\n",
    "        figsize=figsize_2\n",
    "    else:\n",
    "        figsize=figsize_1\n",
    "\n",
    "    ## Make figure and axes\n",
    "    fig,ax = plt.subplots(nrows=2,figsize=figsize,sharex=True)\n",
    "    \n",
    "    ## Plot Accuracy cols in plot 1\n",
    "    plot_df[acc_cols].plot(ax=ax[0])\n",
    "    ax[0].set(ylabel='Accuracy')\n",
    "    ax[0].set_title('Training Results')\n",
    "\n",
    "    ## Plot loss cols in plot 2\n",
    "    plot_df[loss_cols].plot(ax=ax[1])\n",
    "    ax[1].set(ylabel='Loss')\n",
    "    ax[1].set_xlabel('Epoch #')\n",
    "\n",
    "\n",
    "    ## Change xaxis locators \n",
    "    [a.xaxis.set_major_locator(mpl.ticker.MaxNLocator(len(plot_df),integer=True)) for a in ax]\n",
    "    [a.set_xlim((1,len(plot_df)+1)) for a in ax]\n",
    "    plt.tight_layout()\n",
    "    \n",
    "    return fig"
   ]
  }
 ],
 "metadata": {
  "colab": {
   "collapsed_sections": [],
   "name": "Copy of James' Study Group Notes - Section 41-42 (condensed version).ipynb",
   "provenance": []
  },
  "kernelspec": {
   "display_name": "Python [conda env:learn-env] *",
   "language": "python",
   "name": "conda-env-learn-env-py"
  },
  "language_info": {
   "codemirror_mode": {
    "name": "ipython",
    "version": 3
   },
   "file_extension": ".py",
   "mimetype": "text/x-python",
   "name": "python",
   "nbconvert_exporter": "python",
   "pygments_lexer": "ipython3",
   "version": "3.6.11"
  },
  "toc": {
   "base_numbering": 1,
   "nav_menu": {},
   "number_sections": false,
   "sideBar": true,
   "skip_h1_title": false,
   "title_cell": "Table of Contents",
   "title_sidebar": "Contents",
   "toc_cell": false,
   "toc_position": {
    "height": "calc(100% - 180px)",
    "left": "10px",
    "top": "150px",
    "width": "256px"
   },
   "toc_section_display": true,
   "toc_window_display": false
  }
 },
 "nbformat": 4,
 "nbformat_minor": 1
}
