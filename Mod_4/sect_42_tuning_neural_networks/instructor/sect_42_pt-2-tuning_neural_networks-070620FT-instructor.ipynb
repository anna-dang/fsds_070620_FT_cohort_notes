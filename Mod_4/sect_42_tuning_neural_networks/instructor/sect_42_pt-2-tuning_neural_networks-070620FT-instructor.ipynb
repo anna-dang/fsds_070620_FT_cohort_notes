{
 "cells": [
  {
   "cell_type": "markdown",
   "metadata": {
    "colab_type": "text",
    "id": "GKw2nWdMDKR6"
   },
   "source": [
    "# Section 42 (Part 2): Tuning Neural Networks"
   ]
  },
  {
   "cell_type": "markdown",
   "metadata": {},
   "source": [
    "- 10/22/20\n",
    "- online-ds-ft-070620"
   ]
  },
  {
   "cell_type": "markdown",
   "metadata": {},
   "source": [
    "> NOTE: YOU MAY **NOT** USE THE FUNCTIONS FROM THIS NOTEBOOK IN YOUR PROJECTS"
   ]
  },
  {
   "cell_type": "markdown",
   "metadata": {},
   "source": [
    "## Learning Objectives"
   ]
  },
  {
   "cell_type": "markdown",
   "metadata": {},
   "source": [
    "- Discuss the different options available for tuning neural networks\n",
    "- Discuss some rules of thumb for tuning Neural Networks\n",
    "\n",
    "- **ACTIVITY: Use a computer vision task to walk-through hyperparameter tuning (cats vs dogs)**\n",
    "    - [Zip File on Google Drive](https://drive.google.com/open?id=1WQ0fdJrNs5qVinJ_6rmVIIinOJD3p-n4)\n",
    "\n",
    "- **Learn how to use GridSearchCV with Keras neural neural networks.**\n",
    "\n",
    "    - Learn how to examine the other parameter results from a GridSearchCV object.\n",
    "\n",
    "    - Learn how to create your own custom scorer for sklearn (and why you'd want to)\n",
    "- Learn how to set up email notifications via Python (for gridsearch results)\n"
   ]
  },
  {
   "cell_type": "markdown",
   "metadata": {},
   "source": [
    "## Questions/Comments?\n",
    "- Is the workflow in the lab fairly typical?  Why is gridsearch not a good choice for hyperparameter tuning?\n"
   ]
  },
  {
   "cell_type": "markdown",
   "metadata": {},
   "source": [
    "## Helpful Resources"
   ]
  },
  {
   "cell_type": "markdown",
   "metadata": {},
   "source": [
    "- [Medium: Simple Guide to Hyperparameter Tuning in Neural Networks](https://towardsdatascience.com/simple-guide-to-hyperparameter-tuning-in-neural-networks-3fe03dad8594)\n",
    "- [Medium: A guide to an efficient way to build neural network architectures- Part I:](https://towardsdatascience.com/a-guide-to-an-efficient-way-to-build-neural-network-architectures-part-i-hyper-parameter-8129009f131b)\n",
    "- [Medium: Optimizers for Neural Networks](https://medium.com/@sdoshi579/optimizers-for-training-neural-network-59450d71caf6)"
   ]
  },
  {
   "cell_type": "markdown",
   "metadata": {},
   "source": [
    "# Overview  - Neural Network Tuning "
   ]
  },
  {
   "cell_type": "markdown",
   "metadata": {},
   "source": [
    "## Rules of Thumb for Training Neural Networks"
   ]
  },
  {
   "cell_type": "markdown",
   "metadata": {},
   "source": [
    "- **Always use a train-test-validation split.**\n",
    "    - **Train-test-val splits:**\n",
    "        - Training set: for training the algorithm\n",
    "        - Validation set: used during training\n",
    "        - Testing set: after choosing the final model, use the test set for an unbiased estimate of performance.\n",
    "    - **Set sizes:**\n",
    "        - With big data, your val and test sets don't necessarily need to be 20-30% of all the data. \n",
    "        - You can choose test and hold-out sets that are of size 1-5%. \n",
    "            - eg. 96% train, 2% hold-out, 2% test set.\n",
    "            \n",
    "            \n",
    "- Consider using a `np.random.seed` for reproducibility/comparing models\n",
    "\n",
    "\n",
    "- **Use cross validation of some sort to compare Networks**\n",
    "\n",
    "\n",
    "- Normalize/Standardize features\n",
    "    \n",
    "    \n",
    "- **Add EarlyStopping and ModelCheckpoint [callbacks](https://keras.io/api/callbacks/)**\n",
    "\n",
    "    "
   ]
  },
  {
   "cell_type": "markdown",
   "metadata": {
    "colab_type": "text",
    "id": "lbzweQKTDPTl"
   },
   "source": [
    "#### Dealing with Bias/Variance\n",
    "\n",
    "- Balancing Bias/Variance:\n",
    "    - High Bias models are **underfit**\n",
    "    - High Variance models are **overfit**\n",
    "\n",
    "\n",
    "\n",
    "- **Rules of thumb re: bias/variance trade-off:**\n",
    "\n",
    "| High Bias? (training performance) | high variance? (validation performance)  |\n",
    "|---------------|-------------|\n",
    "| Use a bigger network|    More data     |\n",
    "| Train longer | Regularization   |\n",
    "| Look for other existing NN architextures |Look for other existing NN architextures |\n"
   ]
  },
  {
   "cell_type": "markdown",
   "metadata": {},
   "source": [
    "## Rules of Thumb - Hyperparameters to Tune \n"
   ]
  },
  {
   "cell_type": "markdown",
   "metadata": {},
   "source": [
    "- This section is roughly laid out in order of importance/what-to-tune-first\n",
    "    - [Blog Post](https://towardsdatascience.com/a-guide-to-an-efficient-way-to-build-neural-network-architectures-part-i-hyper-parameter-8129009f131b)"
   ]
  },
  {
   "cell_type": "markdown",
   "metadata": {},
   "source": [
    "### Hyperparameters (For Dense layers)"
   ]
  },
  {
   "cell_type": "markdown",
   "metadata": {},
   "source": [
    "1. Number of layers (depends on the size of training data)\n",
    "\n",
    "\n",
    "2. Number of neurons(depends on the size of training data)\n",
    "\n",
    "\n",
    "3. Activation functions\n",
    "    - Popular choices:\n",
    "        - relu / leaky-relu\n",
    "        - sigmoid / tanh (for shallow networks)\n",
    "        \n",
    "        \n",
    "4. Optimizer:\n",
    "    - Popular choices:\n",
    "        - SGD (works well for shallow but gets stuck in local minima/saddle-points - if so use RMSProp)\n",
    "        - RMSProp\n",
    "        - Adam (general favorite)\n",
    "        \n",
    "        \n",
    "5. Learning Rate\n",
    "    - Try in powers of 10 (0.001,0.01,.1,1.0)\n",
    "    - Which optimizer changes which l.r. is best (but try the others too).\n",
    "        - SGD: 0.1\n",
    "        - Adam: 0.001/0.01\n",
    "    - Can use the `decay` parameter to reduce learning (though it is better to use adaptive optimizer than to adjust this)/.\n",
    "    \n",
    "    \n",
    "6. Initialization\n",
    "    - Not as important as defaults (glorot-uniform) work well, but:\n",
    "        - Use He-normal/uniform initialization when using ReLu\n",
    "        - Use Glorot-normal/uniform when using Sigmoid\n",
    "    - Avoid using all zeros or any constant for all neurons\n",
    "\n",
    "\n",
    "7. Batch Size\n",
    "    - Finding the \"right\" size is important\n",
    "        - Too small = weights update too quickly and convergence is difficult\n",
    "        - Too large = weights update too slowly (plus PC RAM issues)\n",
    "    - Try batch sizes that are powers of 2 (for memory optimization)\n",
    "    - Larger is better than smaller.\n",
    "    \n",
    "    \n",
    "8. Number of Epochs:\n",
    "    - Important parameter to tune\n",
    "    - Use EarlyStopping callback to prevent overfitting\n",
    "    \n",
    "\n",
    "9. Adding Dropout\n",
    "    - Usually use dropout rate of 0.2 to 0.5\n",
    "    \n",
    "    \n",
    "\n",
    "10. Adding regularization (L1,L2)\n",
    "    - Use when the model continues to over-fit even after adding Dropout"
   ]
  },
  {
   "cell_type": "markdown",
   "metadata": {},
   "source": [
    "### Hyperparameter Details"
   ]
  },
  {
   "cell_type": "markdown",
   "metadata": {},
   "source": [
    "#### Kernel Initialization\n",
    "- Kernel Initializers\n",
    "```python\n",
    "# define the grid search parameters\n",
    "init_mode = ['uniform', 'lecun_uniform', 'normal', 'zero', \n",
    "             'glorot_normal', 'glorot_uniform', 'he_normal', 'he_uniform']```\n",
    "\n",
    "\n",
    "#### Loss Functions\n",
    "- MSE (regression)\n",
    "- categorical cross-entropy (classification with 2D labels )\n",
    "    - sparse categorical cross entropy (classification with 1D labels)\n",
    "- binary cross-entropy (classification)\n",
    "    - 2 categories\n",
    "- **can also uses custom scoring functions**"
   ]
  },
  {
   "cell_type": "markdown",
   "metadata": {},
   "source": [
    "## Using Regularization"
   ]
  },
  {
   "cell_type": "markdown",
   "metadata": {},
   "source": [
    "### L1 & L2 Regularlization\n",
    "- These methods of regularizaiton do so by penalizing coefficients(regression) or weights(neural networks),\n",
    "    - L1 & L2 exist in regression models as well. There, L1='Lasso Regressions' , L2='Ridge regression'\n",
    "    \n",
    "    \n",
    "\n",
    "- **L1 & L2 regularization add a term to the cost function.**\n",
    "\n",
    "$$Cost function = Loss (say, binary cross entropy) + Regularization term$$\n",
    "\n",
    "$$ J (w^{[1]},b^{[1]},...,w^{[L]},b^{[L]}) = \\dfrac{1}{m} \\sum^m_{i=1}\\mathcal{L}(\\hat y^{(i)}, y^{(i)})+ \\dfrac{\\lambda}{2m}\\sum^L_{l=1}||w^{[l]}||^2$$\n",
    "- where $\\lambda$ is the regularization parameter. \n",
    "\n",
    "- **The difference between  L1 vs L2 is that L1 is just the sum of the weights whereas L2 is the sum of the _square_of the weights.**  \n",
    "\n",
    "\n",
    "<br><br>\n",
    "- **L1 Regularization:**\n",
    "    $$ Cost function = Loss + \\frac{\\lambda}{2m} * \\sum ||w||$$\n",
    "    - Uses the absolute value of weights and may reduce the weights down to 0. \n",
    "    \n",
    "        \n",
    "- **L2 Regularization:**:\n",
    "    $$ Cost function = Loss + \\frac{\\lambda}{2m} * \\sum ||w||^2$$\n",
    "    - Also known as weight decay, as it forces weights to decay towards zero, but never exactly 0.. "
   ]
  },
  {
   "cell_type": "markdown",
   "metadata": {},
   "source": [
    "#### L1/L2 Regularization\n",
    "\n",
    "- **CHOOSING L1 OR L2:**\n",
    "    - L1 is very useful when trying to compress a model. (since weights can decreae to 0)\n",
    "    - L2 is generally preferred otherwise.\n",
    "    \n",
    "    \n",
    "- **USING L1/L2 IN KERAS:**\n",
    "    - Add a kernel_regulaizer to a  layer.\n",
    "```python \n",
    "from keras import regularizers\n",
    "model.add(Dense(64, input_dim=64, kernel_regularizer=regularizers.l2(0.01))\n",
    "```\n",
    "    - here 0.01 = $\\lambda$"
   ]
  },
  {
   "cell_type": "markdown",
   "metadata": {},
   "source": [
    "### Additional Options"
   ]
  },
  {
   "cell_type": "markdown",
   "metadata": {},
   "source": [
    "#### Dropout "
   ]
  },
  {
   "cell_type": "markdown",
   "metadata": {
    "colab_type": "text",
    "id": "BlPs5Wd8GrNg"
   },
   "source": [
    "#### Early Stopping"
   ]
  },
  {
   "cell_type": "markdown",
   "metadata": {
    "colab_type": "text",
    "id": "BlPs5Wd8GrNg"
   },
   "source": [
    "- Monitor performance for decrease or plateau in performance, terminate process when given criteria is reached.\n",
    "\n",
    "- **In Keras:**\n",
    "    - Can be applied using the [callbacks function](https://keras.io/callbacks/)\n",
    "```python    \n",
    "from keras.callbacks import EarlyStopping\n",
    "EarlyStopping(monitor='val_err', patience=5)\n",
    "```\n",
    "    - 'Monitor' denotes quanitity to check\n",
    "    - 'val_err' denotes validation error\n",
    "    - 'pateience' denotes # of epochs without improvement before stopping.\n",
    "        - Be careful, as sometimes models _will_ continue to improve after a stagnant period\n"
   ]
  },
  {
   "cell_type": "markdown",
   "metadata": {},
   "source": [
    "# Activity: Dogs vs Cats"
   ]
  },
  {
   "cell_type": "markdown",
   "metadata": {},
   "source": [
    "- Build an image classification model to detect cats vs dogs"
   ]
  },
  {
   "cell_type": "markdown",
   "metadata": {
    "colab_type": "text",
    "id": "8qbS0lSrghaO"
   },
   "source": [
    "## Installs, Imports, & Functions"
   ]
  },
  {
   "cell_type": "code",
   "execution_count": 1,
   "metadata": {
    "ExecuteTime": {
     "end_time": "2020-10-23T17:05:14.979932Z",
     "start_time": "2020-10-23T17:05:14.854835Z"
    }
   },
   "outputs": [],
   "source": [
    "import numpy as np\n",
    "np.random.seed(321)"
   ]
  },
  {
   "cell_type": "code",
   "execution_count": 2,
   "metadata": {
    "ExecuteTime": {
     "end_time": "2020-10-23T17:05:14.984095Z",
     "start_time": "2020-10-23T17:05:14.982069Z"
    }
   },
   "outputs": [],
   "source": [
    "# !pip install -U imageio\n",
    "# !pip install -U scikit-image\n",
    "\n",
    "# !pip install pillow\n",
    "# !pip install opencv-contrib-python\n",
    "# from skimage.transform import resize\n",
    "# from imageio import imread"
   ]
  },
  {
   "cell_type": "code",
   "execution_count": 3,
   "metadata": {
    "ExecuteTime": {
     "end_time": "2020-10-23T17:05:17.207401Z",
     "start_time": "2020-10-23T17:05:14.987013Z"
    },
    "colab": {
     "base_uri": "https://localhost:8080/",
     "height": 238
    },
    "colab_type": "code",
    "id": "KHc94KpTlbRj",
    "outputId": "f71ccce3-f23d-4b8e-d4f7-c4736cbe1e76",
    "scrolled": true
   },
   "outputs": [
    {
     "name": "stdout",
     "output_type": "stream",
     "text": [
      "fsds v0.2.27 loaded.  Read the docs: https://fs-ds.readthedocs.io/en/latest/ \n"
     ]
    },
    {
     "data": {
      "text/html": [
       "<style  type=\"text/css\" >\n",
       "</style><table id=\"T_ec3314c8_1551_11eb_87fe_acde48001122\" ><caption>Loaded Packages and Handles</caption><thead>    <tr>        <th class=\"col_heading level0 col0\" >Handle</th>        <th class=\"col_heading level0 col1\" >Package</th>        <th class=\"col_heading level0 col2\" >Description</th>    </tr></thead><tbody>\n",
       "                <tr>\n",
       "                                <td id=\"T_ec3314c8_1551_11eb_87fe_acde48001122row0_col0\" class=\"data row0 col0\" >dp</td>\n",
       "                        <td id=\"T_ec3314c8_1551_11eb_87fe_acde48001122row0_col1\" class=\"data row0 col1\" >IPython.display</td>\n",
       "                        <td id=\"T_ec3314c8_1551_11eb_87fe_acde48001122row0_col2\" class=\"data row0 col2\" >Display modules with helpful display and clearing commands.</td>\n",
       "            </tr>\n",
       "            <tr>\n",
       "                                <td id=\"T_ec3314c8_1551_11eb_87fe_acde48001122row1_col0\" class=\"data row1 col0\" >fs</td>\n",
       "                        <td id=\"T_ec3314c8_1551_11eb_87fe_acde48001122row1_col1\" class=\"data row1 col1\" >fsds</td>\n",
       "                        <td id=\"T_ec3314c8_1551_11eb_87fe_acde48001122row1_col2\" class=\"data row1 col2\" >Custom data science bootcamp student package</td>\n",
       "            </tr>\n",
       "            <tr>\n",
       "                                <td id=\"T_ec3314c8_1551_11eb_87fe_acde48001122row2_col0\" class=\"data row2 col0\" >mpl</td>\n",
       "                        <td id=\"T_ec3314c8_1551_11eb_87fe_acde48001122row2_col1\" class=\"data row2 col1\" >matplotlib</td>\n",
       "                        <td id=\"T_ec3314c8_1551_11eb_87fe_acde48001122row2_col2\" class=\"data row2 col2\" >Matplotlib's base OOP module with formatting artists</td>\n",
       "            </tr>\n",
       "            <tr>\n",
       "                                <td id=\"T_ec3314c8_1551_11eb_87fe_acde48001122row3_col0\" class=\"data row3 col0\" >plt</td>\n",
       "                        <td id=\"T_ec3314c8_1551_11eb_87fe_acde48001122row3_col1\" class=\"data row3 col1\" >matplotlib.pyplot</td>\n",
       "                        <td id=\"T_ec3314c8_1551_11eb_87fe_acde48001122row3_col2\" class=\"data row3 col2\" >Matplotlib's matlab-like plotting module</td>\n",
       "            </tr>\n",
       "            <tr>\n",
       "                                <td id=\"T_ec3314c8_1551_11eb_87fe_acde48001122row4_col0\" class=\"data row4 col0\" >np</td>\n",
       "                        <td id=\"T_ec3314c8_1551_11eb_87fe_acde48001122row4_col1\" class=\"data row4 col1\" >numpy</td>\n",
       "                        <td id=\"T_ec3314c8_1551_11eb_87fe_acde48001122row4_col2\" class=\"data row4 col2\" >scientific computing with Python</td>\n",
       "            </tr>\n",
       "            <tr>\n",
       "                                <td id=\"T_ec3314c8_1551_11eb_87fe_acde48001122row5_col0\" class=\"data row5 col0\" >pd</td>\n",
       "                        <td id=\"T_ec3314c8_1551_11eb_87fe_acde48001122row5_col1\" class=\"data row5 col1\" >pandas</td>\n",
       "                        <td id=\"T_ec3314c8_1551_11eb_87fe_acde48001122row5_col2\" class=\"data row5 col2\" >High performance data structures and tools</td>\n",
       "            </tr>\n",
       "            <tr>\n",
       "                                <td id=\"T_ec3314c8_1551_11eb_87fe_acde48001122row6_col0\" class=\"data row6 col0\" >sns</td>\n",
       "                        <td id=\"T_ec3314c8_1551_11eb_87fe_acde48001122row6_col1\" class=\"data row6 col1\" >seaborn</td>\n",
       "                        <td id=\"T_ec3314c8_1551_11eb_87fe_acde48001122row6_col2\" class=\"data row6 col2\" >High-level data visualization library based on matplotlib</td>\n",
       "            </tr>\n",
       "    </tbody></table>"
      ],
      "text/plain": [
       "<pandas.io.formats.style.Styler at 0x7ff4d933d828>"
      ]
     },
     "metadata": {},
     "output_type": "display_data"
    },
    {
     "data": {
      "text/html": [
       "        <script type=\"text/javascript\">\n",
       "        window.PlotlyConfig = {MathJaxConfig: 'local'};\n",
       "        if (window.MathJax) {MathJax.Hub.Config({SVG: {font: \"STIX-Web\"}});}\n",
       "        if (typeof require !== 'undefined') {\n",
       "        require.undef(\"plotly\");\n",
       "        requirejs.config({\n",
       "            paths: {\n",
       "                'plotly': ['https://cdn.plot.ly/plotly-latest.min']\n",
       "            }\n",
       "        });\n",
       "        require(['plotly'], function(Plotly) {\n",
       "            window._Plotly = Plotly;\n",
       "        });\n",
       "        }\n",
       "        </script>\n",
       "        "
      ]
     },
     "metadata": {},
     "output_type": "display_data"
    },
    {
     "data": {
      "text/html": [
       "        <script type=\"text/javascript\">\n",
       "        window.PlotlyConfig = {MathJaxConfig: 'local'};\n",
       "        if (window.MathJax) {MathJax.Hub.Config({SVG: {font: \"STIX-Web\"}});}\n",
       "        if (typeof require !== 'undefined') {\n",
       "        require.undef(\"plotly\");\n",
       "        requirejs.config({\n",
       "            paths: {\n",
       "                'plotly': ['https://cdn.plot.ly/plotly-latest.min']\n",
       "            }\n",
       "        });\n",
       "        require(['plotly'], function(Plotly) {\n",
       "            window._Plotly = Plotly;\n",
       "        });\n",
       "        }\n",
       "        </script>\n",
       "        "
      ]
     },
     "metadata": {},
     "output_type": "display_data"
    },
    {
     "name": "stdout",
     "output_type": "stream",
     "text": [
      "[i] Pandas .iplot() method activated.\n"
     ]
    }
   ],
   "source": [
    "# !pip install -U fsds\n",
    "from fsds.imports import *\n"
   ]
  },
  {
   "cell_type": "code",
   "execution_count": 4,
   "metadata": {
    "ExecuteTime": {
     "end_time": "2020-10-23T17:05:19.742222Z",
     "start_time": "2020-10-23T17:05:17.209469Z"
    }
   },
   "outputs": [],
   "source": [
    "# !pip install -U tensorflow\n",
    "import tensorflow as tf\n",
    "tf.random.set_seed(321) "
   ]
  },
  {
   "cell_type": "code",
   "execution_count": 5,
   "metadata": {
    "ExecuteTime": {
     "end_time": "2020-10-23T17:05:19.754962Z",
     "start_time": "2020-10-23T17:05:19.744563Z"
    }
   },
   "outputs": [],
   "source": [
    "## Import Tensorflow Model Components\n",
    "from tensorflow.keras.models import Sequential\n",
    "from tensorflow.keras.layers import Dense\n",
    "from tensorflow.keras import optimizers,regularizers\n",
    "from tensorflow.keras import models,layers,optimizers,regularizers,activations\n",
    "from tensorflow.keras.layers import Dense,Dropout\n",
    "from tensorflow.keras.layers import Conv2D, MaxPooling2D,Flatten\n",
    "\n",
    "## Import Tensorflow Preprocessing Tools\n",
    "from tensorflow.keras.preprocessing import image\n",
    "from tensorflow.keras.preprocessing.image import ImageDataGenerator, array_to_img, img_to_array, load_img\n",
    "from tensorflow.keras.utils import to_categorical"
   ]
  },
  {
   "cell_type": "code",
   "execution_count": 6,
   "metadata": {
    "ExecuteTime": {
     "end_time": "2020-10-23T17:05:19.759941Z",
     "start_time": "2020-10-23T17:05:19.757359Z"
    },
    "colab": {
     "base_uri": "https://localhost:8080/",
     "height": 34
    },
    "colab_type": "code",
    "id": "2yML_wHNlbRn",
    "outputId": "50fed474-f35a-477d-8b5e-b448e76c97a8",
    "scrolled": true
   },
   "outputs": [],
   "source": [
    "from PIL import Image\n",
    "import os,glob"
   ]
  },
  {
   "cell_type": "markdown",
   "metadata": {
    "colab_type": "text",
    "id": "E7D1Ks2mhJim"
   },
   "source": [
    "## Loading in the data"
   ]
  },
  {
   "cell_type": "markdown",
   "metadata": {},
   "source": [
    "- Download the zip file \n",
    "    - [DATASET: Zip File for Dog vs Cats](https://drive.google.com/open?id=1WQ0fdJrNs5qVinJ_6rmVIIinOJD3p-n4)\n",
    "- Extract zip file contents to the a folder on your computer.\n",
    "    - I am using my user folder > Datasets > cats-vs-dogs\n",
    "    "
   ]
  },
  {
   "cell_type": "code",
   "execution_count": 7,
   "metadata": {
    "ExecuteTime": {
     "end_time": "2020-10-23T17:05:19.770277Z",
     "start_time": "2020-10-23T17:05:19.764282Z"
    }
   },
   "outputs": [
    {
     "data": {
      "text/plain": [
       "['single_prediction', '.DS_Store', 'Models', 'training_set', 'test_set']"
      ]
     },
     "execution_count": 7,
     "metadata": {},
     "output_type": "execute_result"
    }
   ],
   "source": [
    "# change dataset_folder to match where you stored the files\n",
    "base_folder =\"/Users/jamesirving/Datasets/dogs-vs-cats-sorted/\" #\"/Users/jamesirving/Datasets/dogs-vs-cats-sorted/\"\n",
    "\n",
    "## Check contents of base folder\n",
    "os.listdir(base_folder)"
   ]
  },
  {
   "cell_type": "code",
   "execution_count": 8,
   "metadata": {
    "ExecuteTime": {
     "end_time": "2020-10-23T17:05:19.781795Z",
     "start_time": "2020-10-23T17:05:19.776239Z"
    }
   },
   "outputs": [
    {
     "data": {
      "text/plain": [
       "['dogs', 'cats', '.DS_Store', 'example_save.jpg']"
      ]
     },
     "execution_count": 8,
     "metadata": {},
     "output_type": "execute_result"
    }
   ],
   "source": [
    "## Define train_folder and test_folder\n",
    "train_folder = base_folder+\"training_set/\"\n",
    "test_folder =  base_folder+\"test_set/\"\n",
    "\n",
    "## Check contents of train_folder\n",
    "os.listdir(test_folder)"
   ]
  },
  {
   "cell_type": "markdown",
   "metadata": {},
   "source": [
    "### Using ImageDataGenerator.flow_from_directory to make X and y vars"
   ]
  },
  {
   "cell_type": "code",
   "execution_count": 9,
   "metadata": {
    "ExecuteTime": {
     "end_time": "2020-10-23T17:05:19.811329Z",
     "start_time": "2020-10-23T17:05:19.786479Z"
    }
   },
   "outputs": [
    {
     "name": "stdout",
     "output_type": "stream",
     "text": [
      "- There are 4001 images in dogs folder.\n",
      "- There are 4001 images in cats folder.\n",
      "- There are 1001 images in dogs folder.\n",
      "- There are 1001 images in cats folder.\n",
      "Training images: 8002\n",
      "Test & Val images: 2002\n"
     ]
    },
    {
     "data": {
      "text/plain": [
       "(8002, 1602, 400)"
      ]
     },
     "execution_count": 9,
     "metadata": {},
     "output_type": "execute_result"
    }
   ],
   "source": [
    "## get num images\n",
    "import os,glob\n",
    "def get_num_images(train_folder,folders=['dogs','cats'],verbose=True):\n",
    "    \"\"\"Gets the total number of images from all folders listed\"\"\"\n",
    "    num_images = 0\n",
    "    for folder in folders:\n",
    "        num_in_folder = len(os.listdir(train_folder+folder))\n",
    "        \n",
    "        if verbose:\n",
    "            print(f\"- There are {num_in_folder} images in {folder} folder.\")\n",
    "        num_images+=num_in_folder\n",
    "    return num_images\n",
    "\n",
    "\n",
    "\n",
    "## Get the Number of total images for batch size \n",
    "BATCH_SIZE_TRAIN = get_num_images(train_folder)\n",
    "BATCH_SIZE_VAL_TEST = get_num_images(test_folder)\n",
    "print(f\"Training images: {BATCH_SIZE_TRAIN}\")\n",
    "print(f\"Test & Val images: {BATCH_SIZE_VAL_TEST}\")\n",
    "\n",
    "## Make validation split\n",
    "VAL_SPLIT = 0.2\n",
    "BATCH_SIZE_VAL = round(BATCH_SIZE_VAL_TEST*VAL_SPLIT)\n",
    "BATCH_SIZE_TEST = round(BATCH_SIZE_VAL_TEST*(1-VAL_SPLIT))\n",
    "\n",
    "BATCH_SIZE_TRAIN,BATCH_SIZE_TEST,BATCH_SIZE_VAL"
   ]
  },
  {
   "cell_type": "code",
   "execution_count": 10,
   "metadata": {
    "ExecuteTime": {
     "end_time": "2020-10-23T17:05:19.817990Z",
     "start_time": "2020-10-23T17:05:19.813938Z"
    }
   },
   "outputs": [],
   "source": [
    "## MAKING IMAGE DATA GENERATORS FOR TRAIN TEST VAL\n",
    "IMG_SIZE = (64,64)\n",
    "\n",
    "## Create ImageDataGenerators\n",
    "train_datagen = ImageDataGenerator(rescale=1./255,)\n",
    "#                                    shear_range = 0.2, zoom_range = 0.2,\n",
    "#                                    horizontal_flip = True)\n",
    "test_val_datagen = ImageDataGenerator(rescale=1./255,validation_split=VAL_SPLIT)\n"
   ]
  },
  {
   "cell_type": "code",
   "execution_count": 11,
   "metadata": {
    "ExecuteTime": {
     "end_time": "2020-10-23T17:05:20.264270Z",
     "start_time": "2020-10-23T17:05:19.820562Z"
    }
   },
   "outputs": [
    {
     "name": "stdout",
     "output_type": "stream",
     "text": [
      "Found 8000 images belonging to 2 classes.\n",
      "Found 1600 images belonging to 2 classes.\n",
      "Found 400 images belonging to 2 classes.\n"
     ]
    }
   ],
   "source": [
    "## Make Training Sets With All Images\n",
    "training_set_full = train_datagen.flow_from_directory(train_folder,\n",
    "                                                      target_size=IMG_SIZE,\n",
    "                                                     class_mode='binary',\n",
    "                                                     batch_size=BATCH_SIZE_TRAIN)                                          \n",
    "                                                      \n",
    "\n",
    "test_set_full = test_val_datagen.flow_from_directory(test_folder,\n",
    "                                                      target_size=IMG_SIZE,\n",
    "                                                     class_mode='binary',\n",
    "                                                     batch_size=BATCH_SIZE_TEST,\n",
    "                                                    subset='training')  \n",
    "\n",
    "val_set_full = test_val_datagen.flow_from_directory(test_folder,\n",
    "                                                      target_size=IMG_SIZE,\n",
    "                                                     class_mode='binary',\n",
    "                                                     batch_size=BATCH_SIZE_VAL,\n",
    "                                                    subset='validation')  "
   ]
  },
  {
   "cell_type": "code",
   "execution_count": 12,
   "metadata": {
    "ExecuteTime": {
     "end_time": "2020-10-23T17:05:42.618962Z",
     "start_time": "2020-10-23T17:05:20.266985Z"
    }
   },
   "outputs": [],
   "source": [
    "## MAKE X and YS FROM GENERATORS\n",
    "X_train, y_train  = next(training_set_full)\n",
    "# TEST AND VAL SETS\n",
    "X_test, y_test = next(test_set_full)\n",
    "X_val,y_val = next(val_set_full)"
   ]
  },
  {
   "cell_type": "code",
   "execution_count": 13,
   "metadata": {
    "ExecuteTime": {
     "end_time": "2020-10-23T17:05:42.624905Z",
     "start_time": "2020-10-23T17:05:42.621354Z"
    }
   },
   "outputs": [
    {
     "data": {
      "text/plain": [
       "(8000, 64, 64, 3)"
      ]
     },
     "execution_count": 13,
     "metadata": {},
     "output_type": "execute_result"
    }
   ],
   "source": [
    "X_train.shape"
   ]
  },
  {
   "cell_type": "code",
   "execution_count": 14,
   "metadata": {
    "ExecuteTime": {
     "end_time": "2020-10-23T17:05:42.631058Z",
     "start_time": "2020-10-23T17:05:42.627479Z"
    }
   },
   "outputs": [
    {
     "data": {
      "text/plain": [
       "array([0., 1., 1., ..., 1., 1., 1.], dtype=float32)"
      ]
     },
     "execution_count": 14,
     "metadata": {},
     "output_type": "execute_result"
    }
   ],
   "source": [
    "## What form is our target (How many col)?\n",
    "y_train"
   ]
  },
  {
   "cell_type": "code",
   "execution_count": 15,
   "metadata": {
    "ExecuteTime": {
     "end_time": "2020-10-23T17:05:42.638063Z",
     "start_time": "2020-10-23T17:05:42.632912Z"
    }
   },
   "outputs": [
    {
     "data": {
      "text/plain": [
       "{'cats': 0, 'dogs': 1}"
      ]
     },
     "execution_count": 15,
     "metadata": {},
     "output_type": "execute_result"
    }
   ],
   "source": [
    "## Finding class indices\n",
    "training_set_full.class_indices"
   ]
  },
  {
   "cell_type": "code",
   "execution_count": null,
   "metadata": {
    "ExecuteTime": {
     "end_time": "2020-10-23T15:11:18.802492Z",
     "start_time": "2020-10-23T15:11:14.755440Z"
    }
   },
   "outputs": [],
   "source": []
  },
  {
   "cell_type": "code",
   "execution_count": 16,
   "metadata": {
    "ExecuteTime": {
     "end_time": "2020-10-23T17:05:42.646860Z",
     "start_time": "2020-10-23T17:05:42.640865Z"
    }
   },
   "outputs": [
    {
     "data": {
      "text/plain": [
       "(8000, 12288)"
      ]
     },
     "execution_count": 16,
     "metadata": {},
     "output_type": "execute_result"
    }
   ],
   "source": [
    "## UNROW IMAGES FOR SEQUENTIAL MODEL\n",
    "X_train_unrow = X_train.reshape( X_train.shape[0],-1)\n",
    "X_test_unrow = X_test.reshape( X_test.shape[0],-1)\n",
    "X_val_unrow = X_val.reshape( X_val.shape[0],-1)\n",
    "\n",
    "X_train_unrow.shape"
   ]
  },
  {
   "cell_type": "code",
   "execution_count": 17,
   "metadata": {
    "ExecuteTime": {
     "end_time": "2020-10-23T17:05:42.662159Z",
     "start_time": "2020-10-23T17:05:42.649010Z"
    }
   },
   "outputs": [
    {
     "data": {
      "text/plain": [
       "1.0"
      ]
     },
     "metadata": {},
     "output_type": "display_data"
    },
    {
     "data": {
      "image/png": "[encoded data removed]",
      "text/plain": [
       "<PIL.Image.Image image mode=RGB size=64x64 at 0x7FF4B6B1FBE0>"
      ]
     },
     "metadata": {},
     "output_type": "display_data"
    }
   ],
   "source": [
    "## Display random image \n",
    "import numpy as np\n",
    "i = np.random.choice(range(len(y_train)))\n",
    "display(y_train[i])\n",
    "display(array_to_img(X_train[i]))#.reshape(32,32,3)))"
   ]
  },
  {
   "cell_type": "markdown",
   "metadata": {},
   "source": [
    "## Using Dense Networks"
   ]
  },
  {
   "cell_type": "code",
   "execution_count": 18,
   "metadata": {
    "ExecuteTime": {
     "end_time": "2020-10-23T17:05:42.667706Z",
     "start_time": "2020-10-23T17:05:42.664320Z"
    }
   },
   "outputs": [
    {
     "data": {
      "text/plain": [
       "(8000,)"
      ]
     },
     "execution_count": 18,
     "metadata": {},
     "output_type": "execute_result"
    }
   ],
   "source": [
    "y_train.shape"
   ]
  },
  {
   "cell_type": "code",
   "execution_count": 19,
   "metadata": {
    "ExecuteTime": {
     "end_time": "2020-10-23T17:05:42.672885Z",
     "start_time": "2020-10-23T17:05:42.669639Z"
    }
   },
   "outputs": [
    {
     "data": {
      "text/plain": [
       "(8000, 12288)"
      ]
     },
     "execution_count": 19,
     "metadata": {},
     "output_type": "execute_result"
    }
   ],
   "source": [
    "X_train_unrow.shape"
   ]
  },
  {
   "cell_type": "code",
   "execution_count": 20,
   "metadata": {
    "ExecuteTime": {
     "end_time": "2020-10-23T17:06:03.199126Z",
     "start_time": "2020-10-23T17:05:42.675275Z"
    }
   },
   "outputs": [
    {
     "name": "stdout",
     "output_type": "stream",
     "text": [
      "Model: \"sequential\"\n",
      "_________________________________________________________________\n",
      "Layer (type)                 Output Shape              Param #   \n",
      "=================================================================\n",
      "dense (Dense)                (None, 64)                786496    \n",
      "_________________________________________________________________\n",
      "dense_1 (Dense)              (None, 1)                 65        \n",
      "=================================================================\n",
      "Total params: 786,561\n",
      "Trainable params: 786,561\n",
      "Non-trainable params: 0\n",
      "_________________________________________________________________\n"
     ]
    },
    {
     "data": {
      "text/plain": [
       "None"
      ]
     },
     "metadata": {},
     "output_type": "display_data"
    },
    {
     "name": "stdout",
     "output_type": "stream",
     "text": [
      "Epoch 1/20\n",
      "250/250 [==============================] - 1s 5ms/step - loss: 0.7724 - accuracy: 0.5464 - recall: 0.5502 - val_loss: 0.6812 - val_accuracy: 0.5475 - val_recall: 0.3500\n",
      "Epoch 2/20\n",
      "250/250 [==============================] - 1s 4ms/step - loss: 0.6917 - accuracy: 0.5711 - recall: 0.5660 - val_loss: 0.6692 - val_accuracy: 0.5625 - val_recall: 0.4400\n",
      "Epoch 3/20\n",
      "250/250 [==============================] - 1s 4ms/step - loss: 0.6808 - accuracy: 0.5726 - recall: 0.5725 - val_loss: 0.7302 - val_accuracy: 0.5450 - val_recall: 0.1750\n",
      "Epoch 4/20\n",
      "250/250 [==============================] - 1s 4ms/step - loss: 0.6706 - accuracy: 0.5950 - recall: 0.5900 - val_loss: 0.8283 - val_accuracy: 0.5225 - val_recall: 0.9850\n",
      "Epoch 5/20\n",
      "250/250 [==============================] - 1s 4ms/step - loss: 0.6574 - accuracy: 0.6125 - recall: 0.6125 - val_loss: 0.6704 - val_accuracy: 0.5600 - val_recall: 0.6000\n",
      "Epoch 6/20\n",
      "250/250 [==============================] - 1s 4ms/step - loss: 0.6498 - accuracy: 0.6183 - recall: 0.6165 - val_loss: 0.6778 - val_accuracy: 0.5825 - val_recall: 0.7350\n",
      "Epoch 7/20\n",
      "250/250 [==============================] - 1s 4ms/step - loss: 0.6513 - accuracy: 0.6246 - recall: 0.6258 - val_loss: 0.6763 - val_accuracy: 0.5900 - val_recall: 0.8200\n",
      "Epoch 8/20\n",
      "250/250 [==============================] - 1s 4ms/step - loss: 0.6418 - accuracy: 0.6345 - recall: 0.6263 - val_loss: 0.7284 - val_accuracy: 0.5650 - val_recall: 0.9200\n",
      "Epoch 9/20\n",
      "250/250 [==============================] - 1s 4ms/step - loss: 0.6276 - accuracy: 0.6471 - recall: 0.6550 - val_loss: 0.6744 - val_accuracy: 0.5925 - val_recall: 0.7300\n",
      "Epoch 10/20\n",
      "250/250 [==============================] - 1s 4ms/step - loss: 0.6304 - accuracy: 0.6456 - recall: 0.6438 - val_loss: 0.6718 - val_accuracy: 0.6050 - val_recall: 0.4500\n",
      "Epoch 11/20\n",
      "250/250 [==============================] - 1s 4ms/step - loss: 0.6373 - accuracy: 0.6261 - recall: 0.7023 - val_loss: 0.7400 - val_accuracy: 0.5550 - val_recall: 0.2100\n",
      "Epoch 12/20\n",
      "250/250 [==============================] - 1s 4ms/step - loss: 0.6213 - accuracy: 0.6436 - recall: 0.6995 - val_loss: 0.6605 - val_accuracy: 0.5950 - val_recall: 0.6000\n",
      "Epoch 13/20\n",
      "250/250 [==============================] - 1s 4ms/step - loss: 0.6349 - accuracy: 0.6329 - recall: 0.6737 - val_loss: 0.6593 - val_accuracy: 0.6025 - val_recall: 0.6000\n",
      "Epoch 14/20\n",
      "250/250 [==============================] - 1s 4ms/step - loss: 0.6142 - accuracy: 0.6530 - recall: 0.6683 - val_loss: 0.6606 - val_accuracy: 0.6050 - val_recall: 0.6550\n",
      "Epoch 15/20\n",
      "250/250 [==============================] - 1s 3ms/step - loss: 0.6062 - accuracy: 0.6725 - recall: 0.6693 - val_loss: 0.6685 - val_accuracy: 0.5950 - val_recall: 0.6100\n",
      "Epoch 16/20\n",
      "250/250 [==============================] - 1s 4ms/step - loss: 0.5981 - accuracy: 0.6693 - recall: 0.6773 - val_loss: 0.6782 - val_accuracy: 0.5825 - val_recall: 0.7800\n",
      "Epoch 17/20\n",
      "250/250 [==============================] - 1s 4ms/step - loss: 0.6033 - accuracy: 0.6653 - recall: 0.6900 - val_loss: 0.6907 - val_accuracy: 0.5800 - val_recall: 0.3800\n",
      "Epoch 18/20\n",
      "250/250 [==============================] - 1s 4ms/step - loss: 0.6180 - accuracy: 0.6611 - recall: 0.6780 - val_loss: 0.6647 - val_accuracy: 0.5875 - val_recall: 0.5450\n",
      "Epoch 19/20\n",
      "250/250 [==============================] - 1s 3ms/step - loss: 0.6147 - accuracy: 0.6541 - recall: 0.6618 - val_loss: 0.6816 - val_accuracy: 0.6050 - val_recall: 0.4100\n",
      "Epoch 20/20\n",
      "250/250 [==============================] - 1s 4ms/step - loss: 0.6129 - accuracy: 0.6631 - recall: 0.6823 - val_loss: 0.7002 - val_accuracy: 0.6000 - val_recall: 0.3550\n"
     ]
    }
   ],
   "source": [
    "##N Sequential model: 64 units, relu, final=dense 1, sigmoid\n",
    "model_1 = Sequential()\n",
    "model_1.add(Dense(64,activation='relu',input_shape=(X_train_unrow.shape[1],)))\n",
    "model_1.add(Dense(1, activation='sigmoid'))\n",
    "\n",
    "model_1.compile(loss='binary_crossentropy',optimizer='adam',\n",
    "                metrics=['accuracy',tf.metrics.Recall()])\n",
    "display(model_1.summary())\n",
    "\n",
    "## Fit Model with 20 epochs\n",
    "history = model_1.fit(X_train_unrow,y_train, epochs=20,\n",
    "                      validation_data=(X_val_unrow,y_val))"
   ]
  },
  {
   "cell_type": "code",
   "execution_count": 21,
   "metadata": {
    "ExecuteTime": {
     "end_time": "2020-10-23T17:06:03.626806Z",
     "start_time": "2020-10-23T17:06:03.201968Z"
    }
   },
   "outputs": [
    {
     "data": {
      "image/png": "[encoded data removed]",
      "text/plain": [
       "<Figure size 432x288 with 1 Axes>"
      ]
     },
     "metadata": {
      "needs_background": "light"
     },
     "output_type": "display_data"
    },
    {
     "data": {
      "image/png": "[encoded data removed]",
      "text/plain": [
       "<Figure size 432x288 with 1 Axes>"
      ]
     },
     "metadata": {
      "needs_background": "light"
     },
     "output_type": "display_data"
    }
   ],
   "source": [
    "## Get History  as adf\n",
    "history_df = pd.DataFrame(history.history)\n",
    "history_df\n",
    "\n",
    "## PLotn all fo the metrics in history\n",
    "metric_list=['loss','acc']\n",
    "\n",
    "for metric in metric_list:\n",
    "    history_df[[col for col in history_df.columns if metric in col]].plot(marker='.')"
   ]
  },
  {
   "cell_type": "code",
   "execution_count": 22,
   "metadata": {
    "ExecuteTime": {
     "end_time": "2020-10-23T17:06:03.768421Z",
     "start_time": "2020-10-23T17:06:03.628668Z"
    }
   },
   "outputs": [
    {
     "name": "stdout",
     "output_type": "stream",
     "text": [
      "              precision    recall  f1-score   support\n",
      "\n",
      "         0.0       0.58      0.86      0.69       800\n",
      "         1.0       0.72      0.37      0.49       800\n",
      "\n",
      "    accuracy                           0.61      1600\n",
      "   macro avg       0.65      0.61      0.59      1600\n",
      "weighted avg       0.65      0.61      0.59      1600\n",
      "\n"
     ]
    }
   ],
   "source": [
    "## Get PRedictions\n",
    "y_hat_test = model_1.predict(X_test_unrow).round()\n",
    "y_hat_test\n",
    "\n",
    "## Classification Report\n",
    "from sklearn import metrics\n",
    "print(metrics.classification_report(y_test,y_hat_test))"
   ]
  },
  {
   "cell_type": "markdown",
   "metadata": {},
   "source": [
    "## Functionize Model Creation & Plotting"
   ]
  },
  {
   "cell_type": "code",
   "execution_count": 23,
   "metadata": {
    "ExecuteTime": {
     "end_time": "2020-10-23T17:06:03.779300Z",
     "start_time": "2020-10-23T17:06:03.774727Z"
    }
   },
   "outputs": [],
   "source": [
    "## def make_model\n",
    "def make_model(verbose=True):\n",
    "    model_1 = Sequential()\n",
    "    model_1.add(Dense(64,activation='relu',input_shape=(X_train_unrow.shape[1],)))\n",
    "    model_1.add(Dense(1, activation='sigmoid'))\n",
    "\n",
    "    model_1.compile(loss='binary_crossentropy',optimizer='adam',\n",
    "                    metrics=['accuracy',tf.metrics.Recall()])\n",
    "    if verbose:\n",
    "        model_1.summary()\n",
    "    return model_1"
   ]
  },
  {
   "cell_type": "code",
   "execution_count": 24,
   "metadata": {
    "ExecuteTime": {
     "end_time": "2020-10-23T17:06:03.785700Z",
     "start_time": "2020-10-23T17:06:03.781789Z"
    }
   },
   "outputs": [],
   "source": [
    "def plot_history(history, metric_list=['loss','acc']):\n",
    "    ## Get History  as adf\n",
    "    history_df = pd.DataFrame(history.history)\n",
    "    ## PLotn all fo the metrics in history\n",
    "   \n",
    "    for metric in metric_list:\n",
    "        history_df[[col for col in history_df.columns if metric in col]].plot(\n",
    "        marker='o',ls=':')\n",
    "        \n",
    "    plt.suptitle('Training History')\n",
    "    plt.show()"
   ]
  },
  {
   "cell_type": "code",
   "execution_count": 25,
   "metadata": {
    "ExecuteTime": {
     "end_time": "2020-10-23T17:06:03.790125Z",
     "start_time": "2020-10-23T17:06:03.787860Z"
    },
    "scrolled": false
   },
   "outputs": [],
   "source": [
    "# ## Use new functions to make model and plot history\n",
    "# model_2 = make_model()\n",
    "# history = model_2.fit(X_train_unrow,y_train, epochs=20,\n",
    "#                       validation_data=(X_val_unrow,y_val))\n",
    "# plot_history(history)"
   ]
  },
  {
   "cell_type": "markdown",
   "metadata": {},
   "source": [
    "### Combine the Whole Process Into One Func"
   ]
  },
  {
   "cell_type": "code",
   "execution_count": 26,
   "metadata": {
    "ExecuteTime": {
     "end_time": "2020-10-23T17:06:03.901300Z",
     "start_time": "2020-10-23T17:06:03.791916Z"
    }
   },
   "outputs": [],
   "source": [
    "import datetime as dt\n",
    "from tzlocal import get_localzone\n",
    "start = dt.datetime.now(tz=get_localzone())"
   ]
  },
  {
   "cell_type": "code",
   "execution_count": 27,
   "metadata": {
    "ExecuteTime": {
     "end_time": "2020-10-23T17:06:03.909737Z",
     "start_time": "2020-10-23T17:06:03.902686Z"
    }
   },
   "outputs": [],
   "source": [
    "\n",
    "def make_fit_plot_model(build_fn, fit_kws=dict(epochs=20)):\n",
    "    ## Print Start Time\n",
    "    start = dt.datetime.now(tz=get_localzone())\n",
    "    fmt= \"%m/%d/%y - %T %p\"\n",
    "    print('---'*20)    \n",
    "    print(f'[i] MODEL CREATED AT {start.strftime(fmt)}')\n",
    "    print('---'*20)\n",
    "    print()\n",
    "    \n",
    "    ## Use new functions to make model and plot history\n",
    "    model = build_fn()\n",
    "    history = model.fit(X_train_unrow,y_train, **fit_kws,\n",
    "                          validation_data=(X_val_unrow,y_val))\n",
    "    \n",
    "    end = dt.datetime.now(tz=get_localzone())\n",
    "    \n",
    "    print(f'\\n[!] Training Completed AT {end.strftime(fmt)}')\n",
    "    print()\n",
    "\n",
    "\n",
    "    plot_history(history)\n",
    "    y_hat_test = model.predict(X_test_unrow).round()        \n",
    "\n",
    "    print('---'*20)  \n",
    "    print('---'*20)  \n",
    "    print('[i] Classification Report')\n",
    "    print(metrics.classification_report(y_test,y_hat_test))\n",
    "    print(f\"\\n[i] Total Training Time: {end-start}\")\n",
    "    print('---'*20)  \n",
    "    return model"
   ]
  },
  {
   "cell_type": "code",
   "execution_count": 28,
   "metadata": {
    "ExecuteTime": {
     "end_time": "2020-10-23T17:06:15.073750Z",
     "start_time": "2020-10-23T17:06:03.911988Z"
    },
    "scrolled": false
   },
   "outputs": [
    {
     "name": "stdout",
     "output_type": "stream",
     "text": [
      "------------------------------------------------------------\n",
      "[i] MODEL CREATED AT 10/23/20 - 13:06:03 PM\n",
      "------------------------------------------------------------\n",
      "\n",
      "Model: \"sequential_1\"\n",
      "_________________________________________________________________\n",
      "Layer (type)                 Output Shape              Param #   \n",
      "=================================================================\n",
      "dense_2 (Dense)              (None, 64)                786496    \n",
      "_________________________________________________________________\n",
      "dense_3 (Dense)              (None, 1)                 65        \n",
      "=================================================================\n",
      "Total params: 786,561\n",
      "Trainable params: 786,561\n",
      "Non-trainable params: 0\n",
      "_________________________________________________________________\n",
      "Epoch 1/10\n",
      "250/250 [==============================] - 1s 5ms/step - loss: 0.7594 - accuracy: 0.5044 - recall_1: 0.0495 - val_loss: 0.6932 - val_accuracy: 0.5000 - val_recall_1: 0.0000e+00\n",
      "Epoch 2/10\n",
      "250/250 [==============================] - 1s 4ms/step - loss: 0.6932 - accuracy: 0.4967 - recall_1: 0.1848 - val_loss: 0.6931 - val_accuracy: 0.5000 - val_recall_1: 0.0000e+00\n",
      "Epoch 3/10\n",
      "250/250 [==============================] - 1s 3ms/step - loss: 0.6932 - accuracy: 0.4940 - recall_1: 0.4220 - val_loss: 0.6931 - val_accuracy: 0.5000 - val_recall_1: 0.0000e+00\n",
      "Epoch 4/10\n",
      "250/250 [==============================] - 1s 4ms/step - loss: 0.6932 - accuracy: 0.5000 - recall_1: 0.0000e+00 - val_loss: 0.6931 - val_accuracy: 0.5000 - val_recall_1: 1.0000\n",
      "Epoch 5/10\n",
      "250/250 [==============================] - 1s 4ms/step - loss: 0.6932 - accuracy: 0.4960 - recall_1: 0.3280 - val_loss: 0.6931 - val_accuracy: 0.5000 - val_recall_1: 1.0000\n",
      "Epoch 6/10\n",
      "250/250 [==============================] - 1s 4ms/step - loss: 0.6932 - accuracy: 0.4965 - recall_1: 0.3365 - val_loss: 0.6932 - val_accuracy: 0.5000 - val_recall_1: 1.0000\n",
      "Epoch 7/10\n",
      "250/250 [==============================] - 1s 4ms/step - loss: 0.6932 - accuracy: 0.5000 - recall_1: 1.0000 - val_loss: 0.6931 - val_accuracy: 0.5000 - val_recall_1: 1.0000\n",
      "Epoch 8/10\n",
      "250/250 [==============================] - 1s 4ms/step - loss: 0.6932 - accuracy: 0.4990 - recall_1: 0.7750 - val_loss: 0.6932 - val_accuracy: 0.5000 - val_recall_1: 0.0000e+00\n",
      "Epoch 9/10\n",
      "250/250 [==============================] - 1s 4ms/step - loss: 0.6932 - accuracy: 0.4972 - recall_1: 0.0292 - val_loss: 0.6931 - val_accuracy: 0.5000 - val_recall_1: 0.0000e+00\n",
      "Epoch 10/10\n",
      "250/250 [==============================] - 1s 4ms/step - loss: 0.6932 - accuracy: 0.4952 - recall_1: 0.4313 - val_loss: 0.6931 - val_accuracy: 0.5000 - val_recall_1: 1.0000\n",
      "\n",
      "[!] Training Completed AT 10/23/20 - 13:06:14 PM\n",
      "\n"
     ]
    },
    {
     "data": {
      "image/png": "[encoded data removed]",
      "text/plain": [
       "<Figure size 432x288 with 1 Axes>"
      ]
     },
     "metadata": {
      "needs_background": "light"
     },
     "output_type": "display_data"
    },
    {
     "data": {
      "image/png": "[encoded data removed]",
      "text/plain": [
       "<Figure size 432x288 with 1 Axes>"
      ]
     },
     "metadata": {
      "needs_background": "light"
     },
     "output_type": "display_data"
    },
    {
     "name": "stdout",
     "output_type": "stream",
     "text": [
      "------------------------------------------------------------\n",
      "------------------------------------------------------------\n",
      "[i] Classification Report\n",
      "              precision    recall  f1-score   support\n",
      "\n",
      "         0.0       0.00      0.00      0.00       800\n",
      "         1.0       0.50      1.00      0.67       800\n",
      "\n",
      "    accuracy                           0.50      1600\n",
      "   macro avg       0.25      0.50      0.33      1600\n",
      "weighted avg       0.25      0.50      0.33      1600\n",
      "\n",
      "\n",
      "[i] Total Training Time: 0:00:10.652521\n",
      "------------------------------------------------------------\n"
     ]
    },
    {
     "name": "stderr",
     "output_type": "stream",
     "text": [
      "/opt/anaconda3/envs/learn-env/lib/python3.6/site-packages/sklearn/metrics/_classification.py:1221: UndefinedMetricWarning:\n",
      "\n",
      "Precision and F-score are ill-defined and being set to 0.0 in labels with no predicted samples. Use `zero_division` parameter to control this behavior.\n",
      "\n"
     ]
    }
   ],
   "source": [
    "## Test out new function\n",
    "model_2 =make_fit_plot_model(make_model,fit_kws={'epochs':10})"
   ]
  },
  {
   "cell_type": "markdown",
   "metadata": {},
   "source": [
    "# Sect 42, Part 2: HyperParameter Tuning - Callbacks & GridSearchCV"
   ]
  },
  {
   "cell_type": "markdown",
   "metadata": {},
   "source": [
    "## Activity: Ok...so now what??"
   ]
  },
  {
   "cell_type": "markdown",
   "metadata": {},
   "source": [
    "> Using the rules of thumb and your own knowledge/research, attempt several methods to improve the results of the model. "
   ]
  },
  {
   "cell_type": "code",
   "execution_count": 29,
   "metadata": {
    "ExecuteTime": {
     "end_time": "2020-10-23T17:06:15.080590Z",
     "start_time": "2020-10-23T17:06:15.075702Z"
    }
   },
   "outputs": [],
   "source": [
    "## def make_model\n",
    "def make_model2(verbose=True):\n",
    "    \"\"\"Creats a Sequential Model with 3 layers\"\"\"\n",
    "    model_1 = Sequential()\n",
    "    model_1.add(Dense(64,activation='relu',input_shape=(X_train_unrow.shape[1],)))\n",
    "    model_1.add(Dense(32, activation='relu'))\n",
    "    model_1.add(Dense(1, activation='sigmoid'))\n",
    "\n",
    "    model_1.compile(loss='binary_crossentropy',optimizer='adam',\n",
    "                    metrics=['accuracy',tf.metrics.Recall()])\n",
    "    if verbose:\n",
    "        model_1.summary()\n",
    "    return model_1"
   ]
  },
  {
   "cell_type": "code",
   "execution_count": 30,
   "metadata": {
    "ExecuteTime": {
     "end_time": "2020-10-23T17:06:36.163028Z",
     "start_time": "2020-10-23T17:06:15.082462Z"
    },
    "scrolled": false
   },
   "outputs": [
    {
     "name": "stdout",
     "output_type": "stream",
     "text": [
      "------------------------------------------------------------\n",
      "[i] MODEL CREATED AT 10/23/20 - 13:06:15 PM\n",
      "------------------------------------------------------------\n",
      "\n",
      "Model: \"sequential_2\"\n",
      "_________________________________________________________________\n",
      "Layer (type)                 Output Shape              Param #   \n",
      "=================================================================\n",
      "dense_4 (Dense)              (None, 64)                786496    \n",
      "_________________________________________________________________\n",
      "dense_5 (Dense)              (None, 32)                2080      \n",
      "_________________________________________________________________\n",
      "dense_6 (Dense)              (None, 1)                 33        \n",
      "=================================================================\n",
      "Total params: 788,609\n",
      "Trainable params: 788,609\n",
      "Non-trainable params: 0\n",
      "_________________________________________________________________\n",
      "Epoch 1/20\n",
      "250/250 [==============================] - 1s 5ms/step - loss: 0.7465 - accuracy: 0.5246 - recall_2: 0.5495 - val_loss: 0.6859 - val_accuracy: 0.5675 - val_recall_2: 0.6500\n",
      "Epoch 2/20\n",
      "250/250 [==============================] - 1s 4ms/step - loss: 0.6883 - accuracy: 0.5383 - recall_2: 0.5788 - val_loss: 0.6843 - val_accuracy: 0.5475 - val_recall_2: 0.2500\n",
      "Epoch 3/20\n",
      "250/250 [==============================] - 1s 4ms/step - loss: 0.6770 - accuracy: 0.5773 - recall_2: 0.6547 - val_loss: 0.6795 - val_accuracy: 0.5700 - val_recall_2: 0.4500\n",
      "Epoch 4/20\n",
      "250/250 [==============================] - 1s 4ms/step - loss: 0.6701 - accuracy: 0.5906 - recall_2: 0.6497 - val_loss: 0.6768 - val_accuracy: 0.5850 - val_recall_2: 0.7900\n",
      "Epoch 5/20\n",
      "250/250 [==============================] - 1s 4ms/step - loss: 0.6582 - accuracy: 0.6050 - recall_2: 0.6492 - val_loss: 0.6818 - val_accuracy: 0.5725 - val_recall_2: 0.7750\n",
      "Epoch 6/20\n",
      "250/250 [==============================] - 1s 4ms/step - loss: 0.6568 - accuracy: 0.6158 - recall_2: 0.6395 - val_loss: 0.6886 - val_accuracy: 0.5650 - val_recall_2: 0.4350\n",
      "Epoch 7/20\n",
      "250/250 [==============================] - 1s 4ms/step - loss: 0.6573 - accuracy: 0.6154 - recall_2: 0.6618 - val_loss: 0.6814 - val_accuracy: 0.5700 - val_recall_2: 0.6650\n",
      "Epoch 8/20\n",
      "250/250 [==============================] - 1s 4ms/step - loss: 0.6482 - accuracy: 0.6224 - recall_2: 0.6587 - val_loss: 0.6737 - val_accuracy: 0.5825 - val_recall_2: 0.8450\n",
      "Epoch 9/20\n",
      "250/250 [==============================] - 1s 4ms/step - loss: 0.6462 - accuracy: 0.6255 - recall_2: 0.6352 - val_loss: 0.6897 - val_accuracy: 0.5575 - val_recall_2: 0.8400\n",
      "Epoch 10/20\n",
      "250/250 [==============================] - 1s 4ms/step - loss: 0.6410 - accuracy: 0.6298 - recall_2: 0.6587 - val_loss: 0.6771 - val_accuracy: 0.5800 - val_recall_2: 0.4050\n",
      "Epoch 11/20\n",
      "250/250 [==============================] - 1s 4ms/step - loss: 0.6382 - accuracy: 0.6367 - recall_2: 0.6340 - val_loss: 0.6849 - val_accuracy: 0.5650 - val_recall_2: 0.3000\n",
      "Epoch 12/20\n",
      "250/250 [==============================] - 1s 4ms/step - loss: 0.6319 - accuracy: 0.6381 - recall_2: 0.6545 - val_loss: 0.6689 - val_accuracy: 0.5700 - val_recall_2: 0.3850\n",
      "Epoch 13/20\n",
      "250/250 [==============================] - 1s 4ms/step - loss: 0.6258 - accuracy: 0.6415 - recall_2: 0.6463 - val_loss: 0.6635 - val_accuracy: 0.5875 - val_recall_2: 0.6800\n",
      "Epoch 14/20\n",
      "250/250 [==============================] - 1s 4ms/step - loss: 0.6231 - accuracy: 0.6496 - recall_2: 0.6435 - val_loss: 0.6661 - val_accuracy: 0.6000 - val_recall_2: 0.5900\n",
      "Epoch 15/20\n",
      "250/250 [==============================] - 1s 4ms/step - loss: 0.6125 - accuracy: 0.6606 - recall_2: 0.6622 - val_loss: 0.6684 - val_accuracy: 0.5875 - val_recall_2: 0.5050\n",
      "Epoch 16/20\n",
      "250/250 [==============================] - 1s 3ms/step - loss: 0.6098 - accuracy: 0.6594 - recall_2: 0.6407 - val_loss: 0.6831 - val_accuracy: 0.5850 - val_recall_2: 0.5150\n",
      "Epoch 17/20\n",
      "250/250 [==============================] - 1s 3ms/step - loss: 0.6247 - accuracy: 0.6434 - recall_2: 0.6547 - val_loss: 0.7027 - val_accuracy: 0.5700 - val_recall_2: 0.2300\n",
      "Epoch 18/20\n",
      "250/250 [==============================] - 1s 3ms/step - loss: 0.6134 - accuracy: 0.6505 - recall_2: 0.6365 - val_loss: 0.7050 - val_accuracy: 0.5725 - val_recall_2: 0.2500\n",
      "Epoch 19/20\n",
      "250/250 [==============================] - 1s 4ms/step - loss: 0.6002 - accuracy: 0.6706 - recall_2: 0.6575 - val_loss: 0.6600 - val_accuracy: 0.6200 - val_recall_2: 0.6100\n",
      "Epoch 20/20\n",
      "250/250 [==============================] - 1s 3ms/step - loss: 0.6101 - accuracy: 0.6709 - recall_2: 0.6538 - val_loss: 0.7007 - val_accuracy: 0.5375 - val_recall_2: 0.1200\n",
      "\n",
      "[!] Training Completed AT 10/23/20 - 13:06:35 PM\n",
      "\n"
     ]
    },
    {
     "data": {
      "image/png": "[encoded data removed]",
      "text/plain": [
       "<Figure size 432x288 with 1 Axes>"
      ]
     },
     "metadata": {
      "needs_background": "light"
     },
     "output_type": "display_data"
    },
    {
     "data": {
      "image/png": "[encoded data removed]",
      "text/plain": [
       "<Figure size 432x288 with 1 Axes>"
      ]
     },
     "metadata": {
      "needs_background": "light"
     },
     "output_type": "display_data"
    },
    {
     "name": "stdout",
     "output_type": "stream",
     "text": [
      "------------------------------------------------------------\n",
      "------------------------------------------------------------\n",
      "[i] Classification Report\n",
      "              precision    recall  f1-score   support\n",
      "\n",
      "         0.0       0.53      0.97      0.69       800\n",
      "         1.0       0.85      0.15      0.25       800\n",
      "\n",
      "    accuracy                           0.56      1600\n",
      "   macro avg       0.69      0.56      0.47      1600\n",
      "weighted avg       0.69      0.56      0.47      1600\n",
      "\n",
      "\n",
      "[i] Total Training Time: 0:00:20.532239\n",
      "------------------------------------------------------------\n"
     ]
    },
    {
     "data": {
      "text/plain": [
       "<tensorflow.python.keras.engine.sequential.Sequential at 0x7ff4becf5390>"
      ]
     },
     "execution_count": 30,
     "metadata": {},
     "output_type": "execute_result"
    }
   ],
   "source": [
    "make_fit_plot_model(make_model2)"
   ]
  },
  {
   "cell_type": "code",
   "execution_count": null,
   "metadata": {},
   "outputs": [],
   "source": []
  },
  {
   "cell_type": "markdown",
   "metadata": {},
   "source": [
    "## Keras CallBacks"
   ]
  },
  {
   "cell_type": "code",
   "execution_count": 31,
   "metadata": {
    "ExecuteTime": {
     "end_time": "2020-10-23T17:06:36.187048Z",
     "start_time": "2020-10-23T17:06:36.165411Z"
    }
   },
   "outputs": [],
   "source": [
    "from keras.callbacks import ModelCheckpoint, EarlyStopping, CSVLogger\n",
    "\n",
    "MODEL_FPATH = '/Users/jamesirving/Datasets/dogs-vs-cats-sorted/Models/076020ft/'\n",
    "MONITOR = 'val_accuracy'\n",
    "os.makedirs(MODEL_FPATH,exist_ok=True)\n",
    "\n",
    "checkpoint = ModelCheckpoint(\n",
    "    filepath=MODEL_FPATH+\"weights-improvement-{epoch:02d}-{\"+MONITOR+\":.2f}.hdf5\",\n",
    "    verbose=0, save_best_only=True, mode='max')\n",
    "\n",
    "\n",
    "earlystopping = EarlyStopping(monitor='val_accuracy',min_delta=0.05,\n",
    "                             patience=3, restore_best_weights=True,verbose=1)\n",
    "\n",
    "callbacks =[earlystopping,checkpoint]\n",
    "\n"
   ]
  },
  {
   "cell_type": "code",
   "execution_count": 32,
   "metadata": {
    "ExecuteTime": {
     "end_time": "2020-10-23T17:06:36.194323Z",
     "start_time": "2020-10-23T17:06:36.189087Z"
    }
   },
   "outputs": [],
   "source": [
    "from keras.callbacks import ModelCheckpoint, EarlyStopping, CSVLogger\n",
    "def make_callbacks(MONITOR = 'val_accuracy',min_delta=0.05, patience=5, \n",
    "                   MODEL_FPATH = '/Users/jamesirving/Datasets/dogs-vs-cats-sorted/Models/076020ft/'):\n",
    "\n",
    "\n",
    "    ## Make folders\n",
    "    os.makedirs(MODEL_FPATH,exist_ok=True)\n",
    "\n",
    "    ## Make Checkppoint\n",
    "    checkpoint = ModelCheckpoint(\n",
    "        filepath=MODEL_FPATH+\"weights-improvement-{epoch:02d}-{\"+MONITOR+\":.2f}.hdf5\",\n",
    "        verbose=0, save_best_only=True, mode='auto')\n",
    "\n",
    "    ## Make Earlystopping\n",
    "    earlystopping = EarlyStopping(monitor='val_accuracy',patience=patience,\n",
    "                                  min_delta=min_delta,\n",
    "                                  restore_best_weights=True,verbose=1)\n",
    "    \n",
    "    return [earlystopping,checkpoint]\n",
    "\n"
   ]
  },
  {
   "cell_type": "markdown",
   "metadata": {},
   "source": [
    "## Updating Our Function"
   ]
  },
  {
   "cell_type": "markdown",
   "metadata": {},
   "source": [
    "### `def make_fit_evaluate_model`"
   ]
  },
  {
   "cell_type": "code",
   "execution_count": 33,
   "metadata": {
    "ExecuteTime": {
     "end_time": "2020-10-23T17:06:36.466740Z",
     "start_time": "2020-10-23T17:06:36.197342Z"
    },
    "code_folding": []
   },
   "outputs": [
    {
     "data": {
      "image/png": "[encoded data removed]",
      "text/plain": [
       "<Figure size 288x288 with 2 Axes>"
      ]
     },
     "metadata": {
      "needs_background": "light"
     },
     "output_type": "display_data"
    }
   ],
   "source": [
    "def plot_confusion_matrix(conf_matrix, classes = None, \n",
    "                          title='Confusion Matrix',normalize='true', \n",
    "                          cmap=\"Blues\",\n",
    "                          fig_size=(4,4)):\n",
    "    \"\"\"Check if Normalization Option is Set to True. \n",
    "    If so, normalize the raw confusion matrix before visualizing\n",
    "    #Other code should be equivalent to your previous function.\n",
    "    Note: Taken from bs_ds and modified\n",
    "    - Can pass a tuple of (y_true,y_pred) instead of conf matrix.\n",
    "    \"\"\"\n",
    "    import itertools\n",
    "    import numpy as np\n",
    "    import matplotlib.pyplot as plt\n",
    "    import sklearn.metrics as metrics\n",
    "    \n",
    "    ## make confusion matrix if given tuple of y_true,y_pred\n",
    "    if isinstance(conf_matrix, tuple):\n",
    "        y_true = conf_matrix[0].copy()\n",
    "        y_pred = conf_matrix[1].copy()\n",
    "        cm = metrics.confusion_matrix(y_true,y_pred,normalize=normalize)\n",
    "    else:\n",
    "        cm = conf_matrix\n",
    "        \n",
    "    ## Generate integer labels for classes\n",
    "    if classes is None:\n",
    "        classes = list(range(len(cm)))  \n",
    "        \n",
    "    ## Normalize data\n",
    "    if normalize:\n",
    "#         cm = cm.astype('float') / cm.sum(axis=1)[:, np.newaxis]\n",
    "        fmt='.2f'\n",
    "        thresh=0.5\n",
    "    else:\n",
    "       # Determine threshold for b/w text\n",
    "        thresh = cm.max() / 2.\n",
    "        fmt= 'd'\n",
    "        \n",
    "        \n",
    "    fontDict = {\n",
    "        'title':{\n",
    "            'fontsize':16,\n",
    "            'fontweight':'semibold',\n",
    "            'ha':'center',\n",
    "            },\n",
    "        'xlabel':{\n",
    "            'fontsize':14,\n",
    "            'fontweight':'normal',\n",
    "            },\n",
    "        'ylabel':{\n",
    "            'fontsize':14,\n",
    "            'fontweight':'normal',\n",
    "            },\n",
    "        'xtick_labels':{\n",
    "            'fontsize':10,\n",
    "            'fontweight':'normal',\n",
    "    #             'rotation':45,\n",
    "            'ha':'right',\n",
    "            },\n",
    "        'ytick_labels':{\n",
    "            'fontsize':10,\n",
    "            'fontweight':'normal',\n",
    "            'rotation':0,\n",
    "            'ha':'right',\n",
    "            },\n",
    "        'data_labels':{\n",
    "            'ha':'center',\n",
    "            'fontweight':'semibold',\n",
    "\n",
    "        }\n",
    "    }\n",
    "\n",
    "    # Create plot\n",
    "    fig,ax = plt.subplots(figsize=fig_size)\n",
    "\n",
    "    plt.imshow(cm, interpolation='nearest', cmap=cmap)\n",
    "    plt.title(title,**fontDict['title'])\n",
    "    plt.colorbar()\n",
    "\n",
    "    tick_marks = np.arange(len(classes))\n",
    "\n",
    "\n",
    "    plt.xticks(tick_marks, classes, **fontDict['xtick_labels'])\n",
    "    plt.yticks(tick_marks, classes,**fontDict['ytick_labels'])\n",
    "\n",
    " \n",
    "\n",
    "    # fig,ax = plt.subplots()\n",
    "    for i, j in itertools.product(range(cm.shape[0]), range(cm.shape[1])):\n",
    "        plt.text(j, i, format(cm[i, j], fmt),\n",
    "                 color=\"white\" if cm[i, j] > thresh else \"black\",**fontDict['data_labels']) #\n",
    "\n",
    "    plt.tight_layout()\n",
    "    plt.ylabel('True label',**fontDict['ylabel'])\n",
    "    plt.xlabel('Predicted label',**fontDict['xlabel'])\n",
    "\n",
    "    return fig\n",
    "\n",
    "\n",
    "\n",
    "plot_confusion_matrix((y_test,y_hat_test));"
   ]
  },
  {
   "cell_type": "code",
   "execution_count": 34,
   "metadata": {
    "ExecuteTime": {
     "end_time": "2020-10-23T17:06:36.479311Z",
     "start_time": "2020-10-23T17:06:36.469365Z"
    }
   },
   "outputs": [],
   "source": [
    "import inspect\n",
    "def make_fit_evaluate_model(build_fn,train_data = (X_train_unrow,y_train),\n",
    "                            test_data = ( X_test_unrow,y_test),\n",
    "                            validation_data =(X_val_unrow,y_val),\n",
    "                            fit_kws=dict(epochs=20),classes=['cat','dog']):\n",
    "    \"\"\"Creates a Keras model from the build function, displays the time at start\n",
    "    of training, then agian when training complete. \n",
    "    Displays training histroy, classification report, and confisoon matrix\"\"\"\n",
    "    ## Print Start Time\n",
    "    start = dt.datetime.now(tz=get_localzone())\n",
    "    fmt= \"%m/%d/%y - %T %p\"\n",
    "    print('---'*20)    \n",
    "    print(f'[i] MODEL CREATED AT {start.strftime(fmt)}')\n",
    "    print('---'*20)\n",
    "    print()\n",
    "    \n",
    "    \n",
    "    if inspect.isfunction(build_fn):\n",
    "        ## Use new functions to make model and plot history\n",
    "        model = build_fn()\n",
    "    else: \n",
    "        model = build_fn\n",
    "    \n",
    "    ## Fit Model\n",
    "    history = model.fit(*train_data, **fit_kws,callbacks=make_callbacks(),\n",
    "                          validation_data=validation_data)\n",
    "    \n",
    "    ## Save end time\n",
    "    end = dt.datetime.now(tz=get_localzone())\n",
    "    print('\\n'+'---'*20)\n",
    "    print(f'\\n[!] Training Completed AT {end.strftime(fmt)}')\n",
    "    print()\n",
    "    \n",
    "    ## Plot History\n",
    "    plot_history(history)\n",
    "    \n",
    "    print('---'*20)  \n",
    "    print('---'*20)  \n",
    "    print('[i] Classification Report')\n",
    "    \n",
    "    ## Separate Test_data\n",
    "    X_test,y_test = test_data\n",
    "    y_hat_test = model.predict(X_test).round()        \n",
    "    \n",
    "    print(metrics.classification_report(y_test,y_hat_test,target_names=classes))\n",
    "    \n",
    "    ## Plot confusion matrix \n",
    "    plot_confusion_matrix((y_test,y_hat_test),classes=classes);\n",
    "    plt.show()\n",
    "    print(f\"\\n[i] Total Training Time: {end-start}\")\n",
    "    print('---'*20)  \n",
    "    return model"
   ]
  },
  {
   "cell_type": "code",
   "execution_count": 35,
   "metadata": {
    "ExecuteTime": {
     "end_time": "2020-10-23T17:06:44.860546Z",
     "start_time": "2020-10-23T17:06:36.481903Z"
    },
    "scrolled": false
   },
   "outputs": [
    {
     "name": "stdout",
     "output_type": "stream",
     "text": [
      "------------------------------------------------------------\n",
      "[i] MODEL CREATED AT 10/23/20 - 13:06:36 PM\n",
      "------------------------------------------------------------\n",
      "\n",
      "Model: \"sequential_3\"\n",
      "_________________________________________________________________\n",
      "Layer (type)                 Output Shape              Param #   \n",
      "=================================================================\n",
      "dense_7 (Dense)              (None, 64)                786496    \n",
      "_________________________________________________________________\n",
      "dense_8 (Dense)              (None, 32)                2080      \n",
      "_________________________________________________________________\n",
      "dense_9 (Dense)              (None, 1)                 33        \n",
      "=================================================================\n",
      "Total params: 788,609\n",
      "Trainable params: 788,609\n",
      "Non-trainable params: 0\n",
      "_________________________________________________________________\n",
      "Epoch 1/20\n",
      "250/250 [==============================] - 2s 8ms/step - loss: 0.7849 - accuracy: 0.5447 - recall_3: 0.5368 - val_loss: 0.7365 - val_accuracy: 0.5325 - val_recall_3: 0.1200\n",
      "Epoch 2/20\n",
      "250/250 [==============================] - 1s 4ms/step - loss: 0.6923 - accuracy: 0.5810 - recall_3: 0.5803 - val_loss: 0.7310 - val_accuracy: 0.5400 - val_recall_3: 0.1300\n",
      "Epoch 3/20\n",
      "250/250 [==============================] - 1s 4ms/step - loss: 0.6754 - accuracy: 0.5975 - recall_3: 0.6022 - val_loss: 0.6776 - val_accuracy: 0.5700 - val_recall_3: 0.3000\n",
      "Epoch 4/20\n",
      "250/250 [==============================] - 1s 4ms/step - loss: 0.6582 - accuracy: 0.6105 - recall_3: 0.5965 - val_loss: 0.8449 - val_accuracy: 0.5150 - val_recall_3: 0.9700\n",
      "Epoch 5/20\n",
      "250/250 [==============================] - 1s 4ms/step - loss: 0.6579 - accuracy: 0.6111 - recall_3: 0.6085 - val_loss: 0.6883 - val_accuracy: 0.5625 - val_recall_3: 0.4550\n",
      "Epoch 6/20\n",
      "243/250 [============================>.] - ETA: 0s - loss: 0.6489 - accuracy: 0.6265 - recall_3: 0.6462Restoring model weights from the end of the best epoch.\n",
      "250/250 [==============================] - 1s 4ms/step - loss: 0.6491 - accuracy: 0.6274 - recall_3: 0.6428 - val_loss: 0.6992 - val_accuracy: 0.5725 - val_recall_3: 0.6300\n",
      "Epoch 00006: early stopping\n",
      "\n",
      "------------------------------------------------------------\n",
      "\n",
      "[!] Training Completed AT 10/23/20 - 13:06:44 PM\n",
      "\n"
     ]
    },
    {
     "data": {
      "image/png": "[encoded data removed]",
      "text/plain": [
       "<Figure size 432x288 with 1 Axes>"
      ]
     },
     "metadata": {
      "needs_background": "light"
     },
     "output_type": "display_data"
    },
    {
     "data": {
      "image/png": "[encoded data removed]",
      "text/plain": [
       "<Figure size 432x288 with 1 Axes>"
      ]
     },
     "metadata": {
      "needs_background": "light"
     },
     "output_type": "display_data"
    },
    {
     "name": "stdout",
     "output_type": "stream",
     "text": [
      "------------------------------------------------------------\n",
      "------------------------------------------------------------\n",
      "[i] Classification Report\n",
      "              precision    recall  f1-score   support\n",
      "\n",
      "         cat       0.53      0.92      0.67       800\n",
      "         dog       0.68      0.17      0.27       800\n",
      "\n",
      "    accuracy                           0.54      1600\n",
      "   macro avg       0.60      0.54      0.47      1600\n",
      "weighted avg       0.60      0.54      0.47      1600\n",
      "\n"
     ]
    },
    {
     "data": {
      "image/png": "[encoded data removed]",
      "text/plain": [
       "<Figure size 288x288 with 2 Axes>"
      ]
     },
     "metadata": {
      "needs_background": "light"
     },
     "output_type": "display_data"
    },
    {
     "name": "stdout",
     "output_type": "stream",
     "text": [
      "\n",
      "[i] Total Training Time: 0:00:07.524682\n",
      "------------------------------------------------------------\n"
     ]
    },
    {
     "data": {
      "text/plain": [
       "<tensorflow.python.keras.engine.sequential.Sequential at 0x7ff4c1361780>"
      ]
     },
     "execution_count": 35,
     "metadata": {},
     "output_type": "execute_result"
    }
   ],
   "source": [
    "make_fit_evaluate_model(make_model2)"
   ]
  },
  {
   "cell_type": "code",
   "execution_count": 103,
   "metadata": {
    "ExecuteTime": {
     "end_time": "2020-10-23T16:13:28.922280Z",
     "start_time": "2020-10-23T16:13:28.918778Z"
    }
   },
   "outputs": [
    {
     "data": {
      "text/plain": [
       "{'cats': 0, 'dogs': 1}"
      ]
     },
     "execution_count": 103,
     "metadata": {},
     "output_type": "execute_result"
    }
   ],
   "source": [
    "training_set_full.class_indices"
   ]
  },
  {
   "cell_type": "markdown",
   "metadata": {},
   "source": [
    "## GridSearch"
   ]
  },
  {
   "cell_type": "markdown",
   "metadata": {},
   "source": [
    "Original Source: https://chrisalbon.com/deep_learning/keras/tuning_neural_network_hyperparameters/\n",
    "<br><br>\n",
    "\n",
    "- To use `GridSearchCV` or other similar functions in scikit-learn with a Keras neural network, we need to wrap our keras model in `keras.wrappers.scikit_learn`'s `KerasClassifier` and `KerasRegressor`.\n",
    "\n",
    "1. To do this, we need to write a build function(`build_fn`) that creates our model such as `create_model`.\n",
    "    - This function must accept whatever parameters you wish to tune. \n",
    "    - It also must have a default argument for each parameter.\n",
    "    - This function must Return the model (and only the model)\n",
    "    \n",
    "\n",
    "```python\n",
    "\n",
    "## Define the build function\n",
    "def create_model(n_units=(50,25,7), activation='relu',final_activation='softmax',\n",
    "                optimizer='adam'):\n",
    "    \n",
    "    ## Pro tip:save the local variables now so you can print out the parameters used to create the model.\n",
    "    params_used = locals()\n",
    "    print('Parameters for model:\\n',params_used)\n",
    "    \n",
    "   \n",
    "    from keras.models import Sequential\n",
    "    from keras import layers\n",
    "    \n",
    "    model=Sequential()\n",
    "    model.add(layers.Dense(n_units[0], activation=activation, input_shape=(2000,)))\n",
    "    model.add(layers.Dense(n_units[1], activation=activation))\n",
    "    model.add(layers.Dense(n_units[2], activation=final_activation))\n",
    "    model.compile(optimizer=optimizer, loss='categorical_crossentropy',metrics=['accuracy'])\n",
    "    \n",
    "    display(model.summary())\n",
    "    return model \n",
    "```    \n",
    "\n",
    "2. We then create out model using the Keras wrapper:\n",
    "\n",
    "```python\n",
    "from keras.wrappers.scikit_learn import KerasClassifier\n",
    "neural_network =  KerasClassifier(build_fn=create_model,verbose=1)\n",
    "```\n",
    "\n",
    "3. Now, set up the hyperparameter space for grid search. (Remember, your `create_model` function must accept the parameter you want to tune)\n",
    "\n",
    "```python\n",
    "params_to_test = {'n_units':[(50,25,7),(100,50,7)],\n",
    "                  'optimizer':['adam','rmsprop','adadelta'],\n",
    "                  'activation':['linear','relu','tanh'],\n",
    "                  'final_activation':['softmax']}\n",
    "```\n",
    "\n",
    "4. Now instantiate your GridSearch function\n",
    "\n",
    "```python\n",
    "from sklearn.model_selection import GridSearchCV\n",
    "\n",
    "grid = GridSearchCV(estimator=neural_network,param_grid=params_to_test)\n",
    "grid_result = grid.fit(X_train, y_train)\n",
    "best_params = grid_result.best_params_\n",
    "```\n",
    "5. And thats it!"
   ]
  },
  {
   "cell_type": "code",
   "execution_count": 43,
   "metadata": {
    "ExecuteTime": {
     "end_time": "2020-10-23T17:20:11.465645Z",
     "start_time": "2020-10-23T17:20:11.460510Z"
    }
   },
   "outputs": [],
   "source": [
    "## def make_model\n",
    "\n",
    "def make_model_to_tune(n_hidden_units =(64,32),optimizer='adam',\n",
    "                       act_func1='relu',act_func2 ='relu' ,\n",
    "                       verbose=True,):\n",
    "    \"\"\"Creats a Sequential Model with 3 layers\"\"\"\n",
    "    model_1 = Sequential()\n",
    " \n",
    "    model_1.add(Dense(n_hidden_units[0],activation=act_func1,input_shape=(X_train_unrow.shape[1],)))\n",
    "    model_1.add(Dense(n_hidden_units[1], activation=act_func2))\n",
    "    \n",
    "    model_1.add(Dense(1, activation='sigmoid'))\n",
    "\n",
    "    model_1.compile(loss='binary_crossentropy',optimizer=optimizer,\n",
    "                    metrics=['accuracy',tf.metrics.Recall()])\n",
    "    if verbose:\n",
    "        model_1.summary()\n",
    "    return model_1"
   ]
  },
  {
   "cell_type": "code",
   "execution_count": 44,
   "metadata": {
    "ExecuteTime": {
     "end_time": "2020-10-23T17:31:02.446756Z",
     "start_time": "2020-10-23T17:24:03.939808Z"
    },
    "scrolled": true
   },
   "outputs": [
    {
     "name": "stdout",
     "output_type": "stream",
     "text": [
      "Model: \"sequential_15\"\n",
      "_________________________________________________________________\n",
      "Layer (type)                 Output Shape              Param #   \n",
      "=================================================================\n",
      "dense_43 (Dense)             (None, 64)                786496    \n",
      "_________________________________________________________________\n",
      "dense_44 (Dense)             (None, 32)                2080      \n",
      "_________________________________________________________________\n",
      "dense_45 (Dense)             (None, 1)                 33        \n",
      "=================================================================\n",
      "Total params: 788,609\n",
      "Trainable params: 788,609\n",
      "Non-trainable params: 0\n",
      "_________________________________________________________________\n",
      "Epoch 1/20\n",
      "167/167 [==============================] - 1s 6ms/step - loss: 0.7299 - accuracy: 0.5367 - recall_15: 0.5268 - val_loss: 0.6756 - val_accuracy: 0.5425 - val_recall_15: 0.3300\n",
      "Epoch 2/20\n",
      "167/167 [==============================] - 1s 4ms/step - loss: 0.7129 - accuracy: 0.5616 - recall_15: 0.5321 - val_loss: 0.6907 - val_accuracy: 0.5275 - val_recall_15: 0.8950\n",
      "Epoch 3/20\n",
      "167/167 [==============================] - 1s 4ms/step - loss: 0.6767 - accuracy: 0.5781 - recall_15: 0.5720 - val_loss: 0.7104 - val_accuracy: 0.5325 - val_recall_15: 0.8950\n",
      "Epoch 4/20\n",
      "167/167 [==============================] - 1s 4ms/step - loss: 0.6707 - accuracy: 0.5893 - recall_15: 0.5742 - val_loss: 0.6980 - val_accuracy: 0.5175 - val_recall_15: 0.8250\n",
      "Epoch 5/20\n",
      "167/167 [==============================] - 1s 4ms/step - loss: 0.6728 - accuracy: 0.5880 - recall_15: 0.5826 - val_loss: 0.6711 - val_accuracy: 0.6275 - val_recall_15: 0.5200\n",
      "Epoch 6/20\n",
      "167/167 [==============================] - 1s 4ms/step - loss: 0.6512 - accuracy: 0.6165 - recall_15: 0.5811 - val_loss: 0.6733 - val_accuracy: 0.5925 - val_recall_15: 0.6500\n",
      "Epoch 7/20\n",
      "167/167 [==============================] - 1s 4ms/step - loss: 0.6510 - accuracy: 0.6113 - recall_15: 0.6153 - val_loss: 0.6687 - val_accuracy: 0.5975 - val_recall_15: 0.6000\n",
      "Epoch 8/20\n",
      "167/167 [==============================] - 1s 4ms/step - loss: 0.6473 - accuracy: 0.6257 - recall_15: 0.6232 - val_loss: 0.6771 - val_accuracy: 0.5700 - val_recall_15: 0.5750\n",
      "Epoch 9/20\n",
      "167/167 [==============================] - 1s 4ms/step - loss: 0.6411 - accuracy: 0.6321 - recall_15: 0.6320 - val_loss: 0.7308 - val_accuracy: 0.5500 - val_recall_15: 0.1750\n",
      "Epoch 10/20\n",
      "164/167 [============================>.] - ETA: 0s - loss: 0.6335 - accuracy: 0.6421 - recall_15: 0.6461Restoring model weights from the end of the best epoch.\n",
      "167/167 [==============================] - 1s 4ms/step - loss: 0.6336 - accuracy: 0.6422 - recall_15: 0.6476 - val_loss: 0.6763 - val_accuracy: 0.5950 - val_recall_15: 0.5750\n",
      "Epoch 00010: early stopping\n",
      "84/84 [==============================] - 0s 2ms/step - loss: 0.6696 - accuracy: 0.5864 - recall_15: 0.4857\n",
      "Model: \"sequential_16\"\n",
      "_________________________________________________________________\n",
      "Layer (type)                 Output Shape              Param #   \n",
      "=================================================================\n",
      "dense_46 (Dense)             (None, 64)                786496    \n",
      "_________________________________________________________________\n",
      "dense_47 (Dense)             (None, 32)                2080      \n",
      "_________________________________________________________________\n",
      "dense_48 (Dense)             (None, 1)                 33        \n",
      "=================================================================\n",
      "Total params: 788,609\n",
      "Trainable params: 788,609\n",
      "Non-trainable params: 0\n",
      "_________________________________________________________________\n",
      "Epoch 1/20\n",
      "167/167 [==============================] - 1s 6ms/step - loss: 0.7687 - accuracy: 0.5258 - recall_16: 0.5248 - val_loss: 0.7195 - val_accuracy: 0.5250 - val_recall_16: 0.0700\n",
      "Epoch 2/20\n",
      "167/167 [==============================] - 1s 4ms/step - loss: 0.6761 - accuracy: 0.5818 - recall_16: 0.5630 - val_loss: 0.6682 - val_accuracy: 0.6125 - val_recall_16: 0.5950\n",
      "Epoch 3/20\n",
      "167/167 [==============================] - 1s 4ms/step - loss: 0.6705 - accuracy: 0.5893 - recall_16: 0.5900 - val_loss: 0.6787 - val_accuracy: 0.5800 - val_recall_16: 0.4700\n",
      "Epoch 4/20\n",
      "167/167 [==============================] - 1s 4ms/step - loss: 0.6695 - accuracy: 0.5961 - recall_16: 0.5975 - val_loss: 0.6806 - val_accuracy: 0.5600 - val_recall_16: 0.2900\n",
      "Epoch 5/20\n",
      "167/167 [==============================] - 1s 4ms/step - loss: 0.6433 - accuracy: 0.6306 - recall_16: 0.6369 - val_loss: 0.6726 - val_accuracy: 0.5925 - val_recall_16: 0.4900\n",
      "Epoch 6/20\n",
      "167/167 [==============================] - 1s 4ms/step - loss: 0.6525 - accuracy: 0.6102 - recall_16: 0.6279 - val_loss: 0.6675 - val_accuracy: 0.6150 - val_recall_16: 0.6500\n",
      "Epoch 7/20\n",
      "159/167 [===========================>..] - ETA: 0s - loss: 0.6433 - accuracy: 0.6211 - recall_16: 0.6167Restoring model weights from the end of the best epoch.\n",
      "167/167 [==============================] - 1s 4ms/step - loss: 0.6432 - accuracy: 0.6207 - recall_16: 0.6242 - val_loss: 0.6894 - val_accuracy: 0.5875 - val_recall_16: 0.4900\n",
      "Epoch 00007: early stopping\n",
      "84/84 [==============================] - 0s 2ms/step - loss: 0.6593 - accuracy: 0.6052 - recall_16: 0.6042\n",
      "Model: \"sequential_17\"\n",
      "_________________________________________________________________\n",
      "Layer (type)                 Output Shape              Param #   \n",
      "=================================================================\n",
      "dense_49 (Dense)             (None, 64)                786496    \n",
      "_________________________________________________________________\n",
      "dense_50 (Dense)             (None, 32)                2080      \n",
      "_________________________________________________________________\n",
      "dense_51 (Dense)             (None, 1)                 33        \n",
      "=================================================================\n",
      "Total params: 788,609\n",
      "Trainable params: 788,609\n",
      "Non-trainable params: 0\n",
      "_________________________________________________________________\n",
      "Epoch 1/20\n",
      "167/167 [==============================] - 1s 6ms/step - loss: 0.8103 - accuracy: 0.5384 - recall_17: 0.5572 - val_loss: 0.6855 - val_accuracy: 0.5600 - val_recall_17: 0.2300\n",
      "Epoch 2/20\n",
      "167/167 [==============================] - 1s 4ms/step - loss: 0.7192 - accuracy: 0.5540 - recall_17: 0.5679 - val_loss: 0.6806 - val_accuracy: 0.5675 - val_recall_17: 0.3150\n",
      "Epoch 3/20\n",
      "167/167 [==============================] - 1s 4ms/step - loss: 0.6860 - accuracy: 0.5784 - recall_17: 0.5776 - val_loss: 0.6797 - val_accuracy: 0.5500 - val_recall_17: 0.5950\n",
      "Epoch 4/20\n",
      "167/167 [==============================] - 1s 4ms/step - loss: 0.6772 - accuracy: 0.5922 - recall_17: 0.6109 - val_loss: 0.6872 - val_accuracy: 0.5325 - val_recall_17: 0.7500\n",
      "Epoch 5/20\n",
      "167/167 [==============================] - 1s 4ms/step - loss: 0.6875 - accuracy: 0.5814 - recall_17: 0.5957 - val_loss: 0.7098 - val_accuracy: 0.5425 - val_recall_17: 0.1150\n",
      "Epoch 6/20\n",
      "163/167 [============================>.] - ETA: 0s - loss: 0.6614 - accuracy: 0.6097 - recall_17: 0.6185Restoring model weights from the end of the best epoch.\n",
      "167/167 [==============================] - 1s 4ms/step - loss: 0.6634 - accuracy: 0.6085 - recall_17: 0.6213 - val_loss: 0.7217 - val_accuracy: 0.5350 - val_recall_17: 0.9100\n",
      "Epoch 00006: early stopping\n",
      "84/84 [==============================] - 0s 2ms/step - loss: 0.6797 - accuracy: 0.5615 - recall_17: 0.2479\n",
      "Model: \"sequential_18\"\n",
      "_________________________________________________________________\n",
      "Layer (type)                 Output Shape              Param #   \n",
      "=================================================================\n",
      "dense_52 (Dense)             (None, 128)               1572992   \n",
      "_________________________________________________________________\n",
      "dense_53 (Dense)             (None, 32)                4128      \n",
      "_________________________________________________________________\n",
      "dense_54 (Dense)             (None, 1)                 33        \n",
      "=================================================================\n",
      "Total params: 1,577,153\n",
      "Trainable params: 1,577,153\n",
      "Non-trainable params: 0\n",
      "_________________________________________________________________\n",
      "Epoch 1/20\n"
     ]
    },
    {
     "name": "stdout",
     "output_type": "stream",
     "text": [
      "167/167 [==============================] - 2s 9ms/step - loss: 0.7933 - accuracy: 0.5314 - recall_18: 0.5188 - val_loss: 0.9003 - val_accuracy: 0.5125 - val_recall_18: 0.0250\n",
      "Epoch 2/20\n",
      "167/167 [==============================] - 1s 7ms/step - loss: 0.7329 - accuracy: 0.5698 - recall_18: 0.5625 - val_loss: 0.7026 - val_accuracy: 0.5625 - val_recall_18: 0.9200\n",
      "Epoch 3/20\n",
      "167/167 [==============================] - 1s 7ms/step - loss: 0.7240 - accuracy: 0.5612 - recall_18: 0.5545 - val_loss: 0.6798 - val_accuracy: 0.5975 - val_recall_18: 0.8200\n",
      "Epoch 4/20\n",
      "167/167 [==============================] - 1s 7ms/step - loss: 0.6880 - accuracy: 0.5998 - recall_18: 0.5875 - val_loss: 0.7483 - val_accuracy: 0.5400 - val_recall_18: 0.1150\n",
      "Epoch 5/20\n",
      "167/167 [==============================] - 1s 7ms/step - loss: 0.6424 - accuracy: 0.6250 - recall_18: 0.6088 - val_loss: 0.6926 - val_accuracy: 0.5925 - val_recall_18: 0.3600\n",
      "Epoch 6/20\n",
      "167/167 [==============================] - 1s 7ms/step - loss: 0.6685 - accuracy: 0.6072 - recall_18: 0.6031 - val_loss: 0.7452 - val_accuracy: 0.5400 - val_recall_18: 0.1150\n",
      "Epoch 7/20\n",
      "166/167 [============================>.] - ETA: 0s - loss: 0.6477 - accuracy: 0.6258 - recall_18: 0.6377Restoring model weights from the end of the best epoch.\n",
      "167/167 [==============================] - 1s 7ms/step - loss: 0.6475 - accuracy: 0.6255 - recall_18: 0.6388 - val_loss: 0.6610 - val_accuracy: 0.5975 - val_recall_18: 0.5650\n",
      "Epoch 00007: early stopping\n",
      "84/84 [==============================] - 0s 2ms/step - loss: 0.7150 - accuracy: 0.5527 - recall_18: 0.8727\n",
      "Model: \"sequential_19\"\n",
      "_________________________________________________________________\n",
      "Layer (type)                 Output Shape              Param #   \n",
      "=================================================================\n",
      "dense_55 (Dense)             (None, 128)               1572992   \n",
      "_________________________________________________________________\n",
      "dense_56 (Dense)             (None, 32)                4128      \n",
      "_________________________________________________________________\n",
      "dense_57 (Dense)             (None, 1)                 33        \n",
      "=================================================================\n",
      "Total params: 1,577,153\n",
      "Trainable params: 1,577,153\n",
      "Non-trainable params: 0\n",
      "_________________________________________________________________\n",
      "Epoch 1/20\n",
      "167/167 [==============================] - 1s 9ms/step - loss: 0.9162 - accuracy: 0.5233 - recall_19: 0.5195 - val_loss: 0.7338 - val_accuracy: 0.5300 - val_recall_19: 0.1750\n",
      "Epoch 2/20\n",
      "167/167 [==============================] - 1s 7ms/step - loss: 0.7387 - accuracy: 0.5633 - recall_19: 0.5540 - val_loss: 0.8675 - val_accuracy: 0.5200 - val_recall_19: 0.9700\n",
      "Epoch 3/20\n",
      "167/167 [==============================] - 1s 7ms/step - loss: 0.7517 - accuracy: 0.5843 - recall_19: 0.5859 - val_loss: 0.7234 - val_accuracy: 0.5550 - val_recall_19: 0.1950\n",
      "Epoch 4/20\n",
      "167/167 [==============================] - 1s 7ms/step - loss: 0.7172 - accuracy: 0.5785 - recall_19: 0.5746 - val_loss: 0.8022 - val_accuracy: 0.5025 - val_recall_19: 0.0200\n",
      "Epoch 5/20\n",
      "167/167 [==============================] - 1s 7ms/step - loss: 0.6641 - accuracy: 0.6059 - recall_19: 0.5900 - val_loss: 0.6795 - val_accuracy: 0.5800 - val_recall_19: 0.2850\n",
      "Epoch 6/20\n",
      "167/167 [==============================] - 1s 7ms/step - loss: 0.6445 - accuracy: 0.6209 - recall_19: 0.6245 - val_loss: 0.6961 - val_accuracy: 0.5600 - val_recall_19: 0.2600\n",
      "Epoch 7/20\n",
      "167/167 [==============================] - 1s 7ms/step - loss: 0.6510 - accuracy: 0.6120 - recall_19: 0.6204 - val_loss: 0.7103 - val_accuracy: 0.5700 - val_recall_19: 0.2350\n",
      "Epoch 8/20\n",
      "167/167 [==============================] - 1s 7ms/step - loss: 0.6278 - accuracy: 0.6413 - recall_19: 0.6328 - val_loss: 0.6649 - val_accuracy: 0.5900 - val_recall_19: 0.6700\n",
      "Epoch 9/20\n",
      "167/167 [==============================] - 1s 7ms/step - loss: 0.6291 - accuracy: 0.6495 - recall_19: 0.6362 - val_loss: 0.7521 - val_accuracy: 0.5375 - val_recall_19: 0.9000\n",
      "Epoch 10/20\n",
      "163/167 [============================>.] - ETA: 0s - loss: 0.6244 - accuracy: 0.6486 - recall_19: 0.6493Restoring model weights from the end of the best epoch.\n",
      "167/167 [==============================] - 1s 7ms/step - loss: 0.6250 - accuracy: 0.6484 - recall_19: 0.6538 - val_loss: 0.6814 - val_accuracy: 0.5925 - val_recall_19: 0.3800\n",
      "Epoch 00010: early stopping\n",
      "84/84 [==============================] - 0s 2ms/step - loss: 0.6737 - accuracy: 0.5801 - recall_19: 0.3103\n",
      "Model: \"sequential_20\"\n",
      "_________________________________________________________________\n",
      "Layer (type)                 Output Shape              Param #   \n",
      "=================================================================\n",
      "dense_58 (Dense)             (None, 128)               1572992   \n",
      "_________________________________________________________________\n",
      "dense_59 (Dense)             (None, 32)                4128      \n",
      "_________________________________________________________________\n",
      "dense_60 (Dense)             (None, 1)                 33        \n",
      "=================================================================\n",
      "Total params: 1,577,153\n",
      "Trainable params: 1,577,153\n",
      "Non-trainable params: 0\n",
      "_________________________________________________________________\n",
      "Epoch 1/20\n",
      "167/167 [==============================] - 1s 9ms/step - loss: 0.7875 - accuracy: 0.5216 - recall_20: 0.5239 - val_loss: 0.7930 - val_accuracy: 0.5125 - val_recall_20: 0.0450\n",
      "Epoch 2/20\n",
      "167/167 [==============================] - 1s 7ms/step - loss: 0.7253 - accuracy: 0.5594 - recall_20: 0.5672 - val_loss: 0.6816 - val_accuracy: 0.5550 - val_recall_20: 0.3000\n",
      "Epoch 3/20\n",
      "167/167 [==============================] - 1s 7ms/step - loss: 0.6673 - accuracy: 0.5951 - recall_20: 0.6016 - val_loss: 0.6787 - val_accuracy: 0.5525 - val_recall_20: 0.6650\n",
      "Epoch 4/20\n",
      "167/167 [==============================] - 1s 7ms/step - loss: 0.6654 - accuracy: 0.6117 - recall_20: 0.6235 - val_loss: 0.6757 - val_accuracy: 0.5700 - val_recall_20: 0.6400\n",
      "Epoch 5/20\n",
      "167/167 [==============================] - 1s 7ms/step - loss: 0.6823 - accuracy: 0.6037 - recall_20: 0.6142 - val_loss: 0.7172 - val_accuracy: 0.5500 - val_recall_20: 0.8850\n",
      "Epoch 6/20\n",
      "167/167 [==============================] - 1s 8ms/step - loss: 0.6428 - accuracy: 0.6307 - recall_20: 0.6483 - val_loss: 0.7796 - val_accuracy: 0.5400 - val_recall_20: 0.1200\n",
      "Epoch 7/20\n",
      "167/167 [==============================] - 1s 7ms/step - loss: 0.6390 - accuracy: 0.6372 - recall_20: 0.6479 - val_loss: 0.6943 - val_accuracy: 0.5500 - val_recall_20: 0.2950\n",
      "Epoch 8/20\n",
      "167/167 [==============================] - 1s 8ms/step - loss: 0.6335 - accuracy: 0.6402 - recall_20: 0.6623 - val_loss: 0.6701 - val_accuracy: 0.5800 - val_recall_20: 0.5350\n",
      "Epoch 9/20\n",
      "161/167 [===========================>..] - ETA: 0s - loss: 0.6321 - accuracy: 0.6440 - recall_20: 0.6566Restoring model weights from the end of the best epoch.\n",
      "167/167 [==============================] - 1s 7ms/step - loss: 0.6330 - accuracy: 0.6421 - recall_20: 0.6498 - val_loss: 0.6832 - val_accuracy: 0.5775 - val_recall_20: 0.3100\n",
      "Epoch 00009: early stopping\n",
      "84/84 [==============================] - 0s 3ms/step - loss: 0.6690 - accuracy: 0.5900 - recall_20: 0.6713\n",
      "Model: \"sequential_21\"\n",
      "_________________________________________________________________\n",
      "Layer (type)                 Output Shape              Param #   \n",
      "=================================================================\n",
      "dense_61 (Dense)             (None, 64)                786496    \n",
      "_________________________________________________________________\n",
      "dense_62 (Dense)             (None, 32)                2080      \n",
      "_________________________________________________________________\n",
      "dense_63 (Dense)             (None, 1)                 33        \n",
      "=================================================================\n",
      "Total params: 788,609\n",
      "Trainable params: 788,609\n",
      "Non-trainable params: 0\n",
      "_________________________________________________________________\n",
      "Epoch 1/20\n",
      "167/167 [==============================] - 1s 7ms/step - loss: 0.7768 - accuracy: 0.5275 - recall_21: 0.5222 - val_loss: 0.6716 - val_accuracy: 0.5750 - val_recall_21: 0.4700\n",
      "Epoch 2/20\n"
     ]
    },
    {
     "name": "stdout",
     "output_type": "stream",
     "text": [
      "167/167 [==============================] - 1s 5ms/step - loss: 0.6943 - accuracy: 0.5693 - recall_21: 0.5515 - val_loss: 0.6750 - val_accuracy: 0.6075 - val_recall_21: 0.8450\n",
      "Epoch 3/20\n",
      "167/167 [==============================] - 1s 5ms/step - loss: 0.6713 - accuracy: 0.5839 - recall_21: 0.5750 - val_loss: 0.6950 - val_accuracy: 0.5600 - val_recall_21: 0.8800\n",
      "Epoch 4/20\n",
      "167/167 [==============================] - 1s 4ms/step - loss: 0.6683 - accuracy: 0.5967 - recall_21: 0.5860 - val_loss: 0.6639 - val_accuracy: 0.6125 - val_recall_21: 0.5500\n",
      "Epoch 5/20\n",
      "167/167 [==============================] - 1s 5ms/step - loss: 0.6728 - accuracy: 0.5972 - recall_21: 0.5754 - val_loss: 0.6677 - val_accuracy: 0.5925 - val_recall_21: 0.4700\n",
      "Epoch 6/20\n",
      "159/167 [===========================>..] - ETA: 0s - loss: 0.6497 - accuracy: 0.6165 - recall_21: 0.5966Restoring model weights from the end of the best epoch.\n",
      "167/167 [==============================] - 1s 5ms/step - loss: 0.6486 - accuracy: 0.6167 - recall_21: 0.6020 - val_loss: 0.6635 - val_accuracy: 0.5875 - val_recall_21: 0.6250\n",
      "Epoch 00006: early stopping\n",
      "84/84 [==============================] - 0s 2ms/step - loss: 0.6827 - accuracy: 0.5594 - recall_21: 0.4850\n",
      "Model: \"sequential_22\"\n",
      "_________________________________________________________________\n",
      "Layer (type)                 Output Shape              Param #   \n",
      "=================================================================\n",
      "dense_64 (Dense)             (None, 64)                786496    \n",
      "_________________________________________________________________\n",
      "dense_65 (Dense)             (None, 32)                2080      \n",
      "_________________________________________________________________\n",
      "dense_66 (Dense)             (None, 1)                 33        \n",
      "=================================================================\n",
      "Total params: 788,609\n",
      "Trainable params: 788,609\n",
      "Non-trainable params: 0\n",
      "_________________________________________________________________\n",
      "Epoch 1/20\n",
      "167/167 [==============================] - 1s 5ms/step - loss: 0.7791 - accuracy: 0.5252 - recall_22: 0.5214 - val_loss: 0.7870 - val_accuracy: 0.5275 - val_recall_22: 0.0550\n",
      "Epoch 2/20\n",
      "167/167 [==============================] - 1s 4ms/step - loss: 0.6905 - accuracy: 0.5689 - recall_22: 0.5563 - val_loss: 0.6683 - val_accuracy: 0.5925 - val_recall_22: 0.7200\n",
      "Epoch 3/20\n",
      "167/167 [==============================] - 1s 4ms/step - loss: 0.6672 - accuracy: 0.5935 - recall_22: 0.6197 - val_loss: 0.6791 - val_accuracy: 0.5700 - val_recall_22: 0.3200\n",
      "Epoch 4/20\n",
      "167/167 [==============================] - 1s 4ms/step - loss: 0.6626 - accuracy: 0.6017 - recall_22: 0.6137 - val_loss: 0.6712 - val_accuracy: 0.6050 - val_recall_22: 0.4100\n",
      "Epoch 5/20\n",
      "167/167 [==============================] - 1s 4ms/step - loss: 0.6483 - accuracy: 0.6205 - recall_22: 0.6268 - val_loss: 0.6640 - val_accuracy: 0.6125 - val_recall_22: 0.5550\n",
      "Epoch 6/20\n",
      "167/167 [==============================] - 1s 4ms/step - loss: 0.6456 - accuracy: 0.6214 - recall_22: 0.6403 - val_loss: 0.6665 - val_accuracy: 0.6025 - val_recall_22: 0.5950\n",
      "Epoch 7/20\n",
      "167/167 [==============================] - ETA: 0s - loss: 0.6528 - accuracy: 0.6158 - recall_22: 0.6422Restoring model weights from the end of the best epoch.\n",
      "167/167 [==============================] - 1s 4ms/step - loss: 0.6528 - accuracy: 0.6158 - recall_22: 0.6422 - val_loss: 0.6775 - val_accuracy: 0.5925 - val_recall_22: 0.7050\n",
      "Epoch 00007: early stopping\n",
      "84/84 [==============================] - 0s 2ms/step - loss: 0.6613 - accuracy: 0.5996 - recall_22: 0.7406\n",
      "Model: \"sequential_23\"\n",
      "_________________________________________________________________\n",
      "Layer (type)                 Output Shape              Param #   \n",
      "=================================================================\n",
      "dense_67 (Dense)             (None, 64)                786496    \n",
      "_________________________________________________________________\n",
      "dense_68 (Dense)             (None, 32)                2080      \n",
      "_________________________________________________________________\n",
      "dense_69 (Dense)             (None, 1)                 33        \n",
      "=================================================================\n",
      "Total params: 788,609\n",
      "Trainable params: 788,609\n",
      "Non-trainable params: 0\n",
      "_________________________________________________________________\n",
      "Epoch 1/20\n",
      "167/167 [==============================] - 1s 5ms/step - loss: 0.7741 - accuracy: 0.5418 - recall_23: 0.5639 - val_loss: 0.7038 - val_accuracy: 0.5325 - val_recall_23: 0.1400\n",
      "Epoch 2/20\n",
      "167/167 [==============================] - 1s 4ms/step - loss: 0.6995 - accuracy: 0.5587 - recall_23: 0.5757 - val_loss: 0.6801 - val_accuracy: 0.5650 - val_recall_23: 0.8100\n",
      "Epoch 3/20\n",
      "167/167 [==============================] - 1s 4ms/step - loss: 0.6712 - accuracy: 0.5926 - recall_23: 0.6172 - val_loss: 0.7123 - val_accuracy: 0.5325 - val_recall_23: 0.1150\n",
      "Epoch 4/20\n",
      "167/167 [==============================] - 1s 4ms/step - loss: 0.6690 - accuracy: 0.5879 - recall_23: 0.5883 - val_loss: 0.6732 - val_accuracy: 0.5700 - val_recall_23: 0.4650\n",
      "Epoch 5/20\n",
      "167/167 [==============================] - 1s 4ms/step - loss: 0.6711 - accuracy: 0.5838 - recall_23: 0.6416 - val_loss: 0.6829 - val_accuracy: 0.5600 - val_recall_23: 0.2800\n",
      "Epoch 6/20\n",
      "163/167 [============================>.] - ETA: 0s - loss: 0.6565 - accuracy: 0.6024 - recall_23: 0.6044Restoring model weights from the end of the best epoch.\n",
      "167/167 [==============================] - 1s 4ms/step - loss: 0.6571 - accuracy: 0.6007 - recall_23: 0.6013 - val_loss: 0.7012 - val_accuracy: 0.5275 - val_recall_23: 0.9150\n",
      "Epoch 00006: early stopping\n",
      "84/84 [==============================] - 0s 2ms/step - loss: 0.6973 - accuracy: 0.5401 - recall_23: 0.1617\n",
      "Model: \"sequential_24\"\n",
      "_________________________________________________________________\n",
      "Layer (type)                 Output Shape              Param #   \n",
      "=================================================================\n",
      "dense_70 (Dense)             (None, 128)               1572992   \n",
      "_________________________________________________________________\n",
      "dense_71 (Dense)             (None, 32)                4128      \n",
      "_________________________________________________________________\n",
      "dense_72 (Dense)             (None, 1)                 33        \n",
      "=================================================================\n",
      "Total params: 1,577,153\n",
      "Trainable params: 1,577,153\n",
      "Non-trainable params: 0\n",
      "_________________________________________________________________\n",
      "Epoch 1/20\n",
      "167/167 [==============================] - 1s 8ms/step - loss: 0.8030 - accuracy: 0.5338 - recall_24: 0.5207 - val_loss: 0.9764 - val_accuracy: 0.5000 - val_recall_24: 0.0000e+00\n",
      "Epoch 2/20\n",
      "167/167 [==============================] - 1s 6ms/step - loss: 0.7069 - accuracy: 0.5571 - recall_24: 0.5439 - val_loss: 0.6868 - val_accuracy: 0.5650 - val_recall_24: 0.9150\n",
      "Epoch 3/20\n",
      "167/167 [==============================] - 1s 6ms/step - loss: 0.6657 - accuracy: 0.5940 - recall_24: 0.5803 - val_loss: 0.7105 - val_accuracy: 0.5425 - val_recall_24: 0.9050\n",
      "Epoch 4/20\n",
      "167/167 [==============================] - 1s 6ms/step - loss: 0.6544 - accuracy: 0.6126 - recall_24: 0.6096 - val_loss: 0.6787 - val_accuracy: 0.5675 - val_recall_24: 0.8150\n",
      "Epoch 5/20\n",
      "167/167 [==============================] - 1s 6ms/step - loss: 0.6585 - accuracy: 0.6156 - recall_24: 0.6092 - val_loss: 0.6688 - val_accuracy: 0.5975 - val_recall_24: 0.4750\n",
      "Epoch 6/20\n",
      "167/167 [==============================] - 1s 6ms/step - loss: 0.6501 - accuracy: 0.6154 - recall_24: 0.6164 - val_loss: 0.6632 - val_accuracy: 0.6125 - val_recall_24: 0.6300\n",
      "Epoch 7/20\n",
      "159/167 [===========================>..] - ETA: 0s - loss: 0.6461 - accuracy: 0.6289 - recall_24: 0.6287Restoring model weights from the end of the best epoch.\n",
      "167/167 [==============================] - 1s 6ms/step - loss: 0.6455 - accuracy: 0.6297 - recall_24: 0.6286 - val_loss: 0.6744 - val_accuracy: 0.6075 - val_recall_24: 0.7700\n",
      "Epoch 00007: early stopping\n",
      "84/84 [==============================] - 0s 2ms/step - loss: 0.6911 - accuracy: 0.5568 - recall_24: 0.8720\n",
      "Model: \"sequential_25\"\n",
      "_________________________________________________________________\n",
      "Layer (type)                 Output Shape              Param #   \n",
      "=================================================================\n",
      "dense_73 (Dense)             (None, 128)               1572992   \n",
      "_________________________________________________________________\n",
      "dense_74 (Dense)             (None, 32)                4128      \n",
      "_________________________________________________________________\n",
      "dense_75 (Dense)             (None, 1)                 33        \n",
      "=================================================================\n",
      "Total params: 1,577,153\n",
      "Trainable params: 1,577,153\n",
      "Non-trainable params: 0\n",
      "_________________________________________________________________\n",
      "Epoch 1/20\n"
     ]
    },
    {
     "name": "stdout",
     "output_type": "stream",
     "text": [
      "167/167 [==============================] - 1s 8ms/step - loss: 0.8301 - accuracy: 0.5282 - recall_25: 0.5300 - val_loss: 0.6854 - val_accuracy: 0.5525 - val_recall_25: 0.7750\n",
      "Epoch 2/20\n",
      "167/167 [==============================] - 1s 6ms/step - loss: 0.7097 - accuracy: 0.5548 - recall_25: 0.5611 - val_loss: 0.7329 - val_accuracy: 0.5525 - val_recall_25: 0.1100\n",
      "Epoch 3/20\n",
      "167/167 [==============================] - 1s 6ms/step - loss: 0.6795 - accuracy: 0.5745 - recall_25: 0.5773 - val_loss: 0.6684 - val_accuracy: 0.5825 - val_recall_25: 0.4900\n",
      "Epoch 4/20\n",
      "167/167 [==============================] - 1s 6ms/step - loss: 0.6872 - accuracy: 0.5700 - recall_25: 0.5705 - val_loss: 0.6696 - val_accuracy: 0.5850 - val_recall_25: 0.4800\n",
      "Epoch 5/20\n",
      "167/167 [==============================] - 1s 6ms/step - loss: 0.6664 - accuracy: 0.5959 - recall_25: 0.5926 - val_loss: 0.6800 - val_accuracy: 0.5700 - val_recall_25: 0.2850\n",
      "Epoch 6/20\n",
      "166/167 [============================>.] - ETA: 0s - loss: 0.6639 - accuracy: 0.5975 - recall_25: 0.6036Restoring model weights from the end of the best epoch.\n",
      "167/167 [==============================] - 1s 6ms/step - loss: 0.6635 - accuracy: 0.5976 - recall_25: 0.6032 - val_loss: 0.6734 - val_accuracy: 0.5825 - val_recall_25: 0.4450\n",
      "Epoch 00006: early stopping\n",
      "84/84 [==============================] - 0s 2ms/step - loss: 0.6787 - accuracy: 0.5726 - recall_25: 0.7759\n",
      "Model: \"sequential_26\"\n",
      "_________________________________________________________________\n",
      "Layer (type)                 Output Shape              Param #   \n",
      "=================================================================\n",
      "dense_76 (Dense)             (None, 128)               1572992   \n",
      "_________________________________________________________________\n",
      "dense_77 (Dense)             (None, 32)                4128      \n",
      "_________________________________________________________________\n",
      "dense_78 (Dense)             (None, 1)                 33        \n",
      "=================================================================\n",
      "Total params: 1,577,153\n",
      "Trainable params: 1,577,153\n",
      "Non-trainable params: 0\n",
      "_________________________________________________________________\n",
      "Epoch 1/20\n",
      "167/167 [==============================] - 1s 8ms/step - loss: 0.8454 - accuracy: 0.5399 - recall_26: 0.5713 - val_loss: 0.7093 - val_accuracy: 0.5075 - val_recall_26: 0.0650\n",
      "Epoch 2/20\n",
      "167/167 [==============================] - 1s 6ms/step - loss: 0.6958 - accuracy: 0.5547 - recall_26: 0.5750 - val_loss: 0.6748 - val_accuracy: 0.5700 - val_recall_26: 0.7000\n",
      "Epoch 3/20\n",
      "167/167 [==============================] - 1s 6ms/step - loss: 0.6744 - accuracy: 0.5827 - recall_26: 0.6024 - val_loss: 0.7021 - val_accuracy: 0.5525 - val_recall_26: 0.3100\n",
      "Epoch 4/20\n",
      "167/167 [==============================] - 1s 7ms/step - loss: 0.6702 - accuracy: 0.5887 - recall_26: 0.6079 - val_loss: 0.6739 - val_accuracy: 0.5375 - val_recall_26: 0.6500\n",
      "Epoch 5/20\n",
      "167/167 [==============================] - 1s 7ms/step - loss: 0.6794 - accuracy: 0.5776 - recall_26: 0.5942 - val_loss: 0.6740 - val_accuracy: 0.5500 - val_recall_26: 0.3600\n",
      "Epoch 6/20\n",
      "167/167 [==============================] - 1s 7ms/step - loss: 0.6458 - accuracy: 0.6239 - recall_26: 0.6412 - val_loss: 0.7278 - val_accuracy: 0.5275 - val_recall_26: 0.8950\n",
      "Epoch 7/20\n",
      "166/167 [============================>.] - ETA: 0s - loss: 0.6491 - accuracy: 0.6216 - recall_26: 0.6431Restoring model weights from the end of the best epoch.\n",
      "167/167 [==============================] - 1s 7ms/step - loss: 0.6493 - accuracy: 0.6215 - recall_26: 0.6431 - val_loss: 0.6692 - val_accuracy: 0.5950 - val_recall_26: 0.4850\n",
      "Epoch 00007: early stopping\n",
      "84/84 [==============================] - 0s 2ms/step - loss: 0.6761 - accuracy: 0.5690 - recall_26: 0.7375\n",
      "Model: \"sequential_27\"\n",
      "_________________________________________________________________\n",
      "Layer (type)                 Output Shape              Param #   \n",
      "=================================================================\n",
      "dense_79 (Dense)             (None, 64)                786496    \n",
      "_________________________________________________________________\n",
      "dense_80 (Dense)             (None, 32)                2080      \n",
      "_________________________________________________________________\n",
      "dense_81 (Dense)             (None, 1)                 33        \n",
      "=================================================================\n",
      "Total params: 788,609\n",
      "Trainable params: 788,609\n",
      "Non-trainable params: 0\n",
      "_________________________________________________________________\n",
      "Epoch 1/20\n",
      "167/167 [==============================] - 1s 5ms/step - loss: 0.6970 - accuracy: 0.5010 - recall_27: 0.3912 - val_loss: 0.6934 - val_accuracy: 0.5000 - val_recall_27: 1.0000\n",
      "Epoch 2/20\n",
      "167/167 [==============================] - 1s 4ms/step - loss: 0.6938 - accuracy: 0.4950 - recall_27: 0.4383 - val_loss: 0.6932 - val_accuracy: 0.5000 - val_recall_27: 0.0000e+00\n",
      "Epoch 3/20\n",
      "167/167 [==============================] - 1s 4ms/step - loss: 0.6935 - accuracy: 0.4995 - recall_27: 0.1181 - val_loss: 0.6936 - val_accuracy: 0.4975 - val_recall_27: 0.9950\n",
      "Epoch 4/20\n",
      "167/167 [==============================] - 1s 5ms/step - loss: 0.6939 - accuracy: 0.4939 - recall_27: 0.6077 - val_loss: 0.6938 - val_accuracy: 0.5000 - val_recall_27: 0.0000e+00\n",
      "Epoch 5/20\n",
      "167/167 [==============================] - 1s 4ms/step - loss: 0.6935 - accuracy: 0.5136 - recall_27: 0.2241 - val_loss: 0.6959 - val_accuracy: 0.5000 - val_recall_27: 1.0000\n",
      "Epoch 6/20\n",
      "165/167 [============================>.] - ETA: 0s - loss: 0.6944 - accuracy: 0.4877 - recall_27: 0.4061Restoring model weights from the end of the best epoch.\n",
      "167/167 [==============================] - 1s 4ms/step - loss: 0.6945 - accuracy: 0.4875 - recall_27: 0.4018 - val_loss: 0.6937 - val_accuracy: 0.5000 - val_recall_27: 0.0000e+00\n",
      "Epoch 00006: early stopping\n",
      "84/84 [==============================] - 0s 2ms/step - loss: 0.6928 - accuracy: 0.5126 - recall_27: 1.0000\n",
      "Model: \"sequential_28\"\n",
      "_________________________________________________________________\n",
      "Layer (type)                 Output Shape              Param #   \n",
      "=================================================================\n",
      "dense_82 (Dense)             (None, 64)                786496    \n",
      "_________________________________________________________________\n",
      "dense_83 (Dense)             (None, 32)                2080      \n",
      "_________________________________________________________________\n",
      "dense_84 (Dense)             (None, 1)                 33        \n",
      "=================================================================\n",
      "Total params: 788,609\n",
      "Trainable params: 788,609\n",
      "Non-trainable params: 0\n",
      "_________________________________________________________________\n",
      "Epoch 1/20\n",
      "167/167 [==============================] - 1s 6ms/step - loss: 0.6977 - accuracy: 0.5095 - recall_28: 0.6774 - val_loss: 0.6946 - val_accuracy: 0.5200 - val_recall_28: 0.9200\n",
      "Epoch 2/20\n",
      "167/167 [==============================] - 1s 4ms/step - loss: 0.6949 - accuracy: 0.5008 - recall_28: 0.5806 - val_loss: 0.6960 - val_accuracy: 0.5000 - val_recall_28: 1.0000\n",
      "Epoch 3/20\n",
      "167/167 [==============================] - 1s 4ms/step - loss: 0.6922 - accuracy: 0.5098 - recall_28: 0.6384 - val_loss: 0.6934 - val_accuracy: 0.5000 - val_recall_28: 1.0000\n",
      "Epoch 4/20\n",
      "167/167 [==============================] - 1s 4ms/step - loss: 0.6989 - accuracy: 0.5080 - recall_28: 0.6605 - val_loss: 0.6999 - val_accuracy: 0.5000 - val_recall_28: 0.0000e+00\n",
      "Epoch 5/20\n",
      "167/167 [==============================] - 1s 4ms/step - loss: 0.6881 - accuracy: 0.5337 - recall_28: 0.5304 - val_loss: 0.6979 - val_accuracy: 0.5000 - val_recall_28: 1.0000\n",
      "Epoch 6/20\n",
      "167/167 [==============================] - ETA: 0s - loss: 0.6860 - accuracy: 0.5494 - recall_28: 0.8050Restoring model weights from the end of the best epoch.\n",
      "167/167 [==============================] - 1s 4ms/step - loss: 0.6860 - accuracy: 0.5494 - recall_28: 0.8050 - val_loss: 0.6981 - val_accuracy: 0.4875 - val_recall_28: 0.1350\n",
      "Epoch 00006: early stopping\n",
      "84/84 [==============================] - 0s 2ms/step - loss: 0.6887 - accuracy: 0.5261 - recall_28: 0.9280\n",
      "Model: \"sequential_29\"\n",
      "_________________________________________________________________\n",
      "Layer (type)                 Output Shape              Param #   \n",
      "=================================================================\n",
      "dense_85 (Dense)             (None, 64)                786496    \n",
      "_________________________________________________________________\n",
      "dense_86 (Dense)             (None, 32)                2080      \n",
      "_________________________________________________________________\n",
      "dense_87 (Dense)             (None, 1)                 33        \n",
      "=================================================================\n",
      "Total params: 788,609\n",
      "Trainable params: 788,609\n",
      "Non-trainable params: 0\n",
      "_________________________________________________________________\n",
      "Epoch 1/20\n"
     ]
    },
    {
     "name": "stdout",
     "output_type": "stream",
     "text": [
      "167/167 [==============================] - 1s 5ms/step - loss: 0.7860 - accuracy: 0.4936 - recall_29: 0.3591 - val_loss: 0.6931 - val_accuracy: 0.5000 - val_recall_29: 1.0000\n",
      "Epoch 2/20\n",
      "167/167 [==============================] - 1s 4ms/step - loss: 0.6934 - accuracy: 0.5071 - recall_29: 0.6057 - val_loss: 0.6932 - val_accuracy: 0.5000 - val_recall_29: 0.0000e+00\n",
      "Epoch 3/20\n",
      "167/167 [==============================] - 1s 4ms/step - loss: 0.6935 - accuracy: 0.5013 - recall_29: 0.7475 - val_loss: 0.6932 - val_accuracy: 0.5000 - val_recall_29: 0.0000e+00\n",
      "Epoch 4/20\n",
      "167/167 [==============================] - 1s 4ms/step - loss: 0.6933 - accuracy: 0.5030 - recall_29: 0.5898 - val_loss: 0.6941 - val_accuracy: 0.5000 - val_recall_29: 0.0000e+00\n",
      "Epoch 5/20\n",
      "167/167 [==============================] - 1s 4ms/step - loss: 0.6938 - accuracy: 0.4931 - recall_29: 0.5853 - val_loss: 0.6931 - val_accuracy: 0.5000 - val_recall_29: 0.0000e+00\n",
      "Epoch 6/20\n",
      "164/167 [============================>.] - ETA: 0s - loss: 0.6936 - accuracy: 0.5042 - recall_29: 0.7331Restoring model weights from the end of the best epoch.\n",
      "167/167 [==============================] - 1s 4ms/step - loss: 0.6936 - accuracy: 0.5045 - recall_29: 0.7375 - val_loss: 0.6941 - val_accuracy: 0.5000 - val_recall_29: 1.0000\n",
      "Epoch 00006: early stopping\n",
      "84/84 [==============================] - 0s 2ms/step - loss: 0.6932 - accuracy: 0.4876 - recall_29: 0.9985\n",
      "Model: \"sequential_30\"\n",
      "_________________________________________________________________\n",
      "Layer (type)                 Output Shape              Param #   \n",
      "=================================================================\n",
      "dense_88 (Dense)             (None, 128)               1572992   \n",
      "_________________________________________________________________\n",
      "dense_89 (Dense)             (None, 32)                4128      \n",
      "_________________________________________________________________\n",
      "dense_90 (Dense)             (None, 1)                 33        \n",
      "=================================================================\n",
      "Total params: 1,577,153\n",
      "Trainable params: 1,577,153\n",
      "Non-trainable params: 0\n",
      "_________________________________________________________________\n",
      "Epoch 1/20\n",
      "167/167 [==============================] - 1s 8ms/step - loss: 0.9353 - accuracy: 0.5012 - recall_30: 0.5412 - val_loss: 0.6933 - val_accuracy: 0.5000 - val_recall_30: 1.0000\n",
      "Epoch 2/20\n",
      "167/167 [==============================] - 1s 6ms/step - loss: 0.6935 - accuracy: 0.4907 - recall_30: 0.3528 - val_loss: 0.6932 - val_accuracy: 0.5000 - val_recall_30: 1.0000\n",
      "Epoch 3/20\n",
      "167/167 [==============================] - 1s 7ms/step - loss: 0.6934 - accuracy: 0.4978 - recall_30: 0.1109 - val_loss: 0.6932 - val_accuracy: 0.5000 - val_recall_30: 1.0000\n",
      "Epoch 4/20\n",
      "167/167 [==============================] - 1s 7ms/step - loss: 0.6936 - accuracy: 0.4939 - recall_30: 0.4979 - val_loss: 0.6935 - val_accuracy: 0.5000 - val_recall_30: 0.0000e+00\n",
      "Epoch 5/20\n",
      "167/167 [==============================] - 1s 7ms/step - loss: 0.6936 - accuracy: 0.5151 - recall_30: 0.1405 - val_loss: 0.6951 - val_accuracy: 0.5000 - val_recall_30: 1.0000\n",
      "Epoch 6/20\n",
      "161/167 [===========================>..] - ETA: 0s - loss: 0.6942 - accuracy: 0.4911 - recall_30: 0.3493Restoring model weights from the end of the best epoch.\n",
      "167/167 [==============================] - 1s 7ms/step - loss: 0.6942 - accuracy: 0.4913 - recall_30: 0.3373 - val_loss: 0.6936 - val_accuracy: 0.5000 - val_recall_30: 0.0000e+00\n",
      "Epoch 00006: early stopping\n",
      "84/84 [==============================] - 0s 2ms/step - loss: 0.6929 - accuracy: 0.5126 - recall_30: 1.0000\n",
      "Model: \"sequential_31\"\n",
      "_________________________________________________________________\n",
      "Layer (type)                 Output Shape              Param #   \n",
      "=================================================================\n",
      "dense_91 (Dense)             (None, 128)               1572992   \n",
      "_________________________________________________________________\n",
      "dense_92 (Dense)             (None, 32)                4128      \n",
      "_________________________________________________________________\n",
      "dense_93 (Dense)             (None, 1)                 33        \n",
      "=================================================================\n",
      "Total params: 1,577,153\n",
      "Trainable params: 1,577,153\n",
      "Non-trainable params: 0\n",
      "_________________________________________________________________\n",
      "Epoch 1/20\n",
      "167/167 [==============================] - 1s 7ms/step - loss: 0.7110 - accuracy: 0.4928 - recall_31: 0.3867 - val_loss: 0.6935 - val_accuracy: 0.5000 - val_recall_31: 1.0000\n",
      "Epoch 2/20\n",
      "167/167 [==============================] - 1s 6ms/step - loss: 0.6943 - accuracy: 0.4954 - recall_31: 0.4674 - val_loss: 0.6934 - val_accuracy: 0.5000 - val_recall_31: 1.0000\n",
      "Epoch 3/20\n",
      "167/167 [==============================] - 1s 6ms/step - loss: 0.6937 - accuracy: 0.5059 - recall_31: 0.4839 - val_loss: 0.6937 - val_accuracy: 0.5000 - val_recall_31: 1.0000\n",
      "Epoch 4/20\n",
      "167/167 [==============================] - 1s 6ms/step - loss: 0.6933 - accuracy: 0.5132 - recall_31: 0.6853 - val_loss: 0.6951 - val_accuracy: 0.5000 - val_recall_31: 0.0000e+00\n",
      "Epoch 5/20\n",
      "167/167 [==============================] - 1s 6ms/step - loss: 0.6941 - accuracy: 0.4950 - recall_31: 0.4610 - val_loss: 0.6963 - val_accuracy: 0.5000 - val_recall_31: 1.0000\n",
      "Epoch 6/20\n",
      "164/167 [============================>.] - ETA: 0s - loss: 0.6957 - accuracy: 0.4935 - recall_31: 0.6663Restoring model weights from the end of the best epoch.\n",
      "167/167 [==============================] - 1s 6ms/step - loss: 0.6957 - accuracy: 0.4939 - recall_31: 0.6560 - val_loss: 0.6934 - val_accuracy: 0.5000 - val_recall_31: 0.0000e+00\n",
      "Epoch 00006: early stopping\n",
      "84/84 [==============================] - 0s 2ms/step - loss: 0.6935 - accuracy: 0.5002 - recall_31: 1.0000\n",
      "Model: \"sequential_32\"\n",
      "_________________________________________________________________\n",
      "Layer (type)                 Output Shape              Param #   \n",
      "=================================================================\n",
      "dense_94 (Dense)             (None, 128)               1572992   \n",
      "_________________________________________________________________\n",
      "dense_95 (Dense)             (None, 32)                4128      \n",
      "_________________________________________________________________\n",
      "dense_96 (Dense)             (None, 1)                 33        \n",
      "=================================================================\n",
      "Total params: 1,577,153\n",
      "Trainable params: 1,577,153\n",
      "Non-trainable params: 0\n",
      "_________________________________________________________________\n",
      "Epoch 1/20\n",
      "167/167 [==============================] - 1s 7ms/step - loss: 0.7720 - accuracy: 0.4951 - recall_32: 0.3625 - val_loss: 0.6931 - val_accuracy: 0.5000 - val_recall_32: 1.0000\n",
      "Epoch 2/20\n",
      "167/167 [==============================] - 1s 6ms/step - loss: 0.6938 - accuracy: 0.5066 - recall_32: 0.5987 - val_loss: 0.6931 - val_accuracy: 0.5000 - val_recall_32: 0.0000e+00\n",
      "Epoch 3/20\n",
      "167/167 [==============================] - 1s 6ms/step - loss: 0.6935 - accuracy: 0.4989 - recall_32: 0.7516 - val_loss: 0.6932 - val_accuracy: 0.5000 - val_recall_32: 0.0000e+00\n",
      "Epoch 4/20\n",
      "167/167 [==============================] - 1s 6ms/step - loss: 0.6933 - accuracy: 0.5030 - recall_32: 0.5898 - val_loss: 0.6941 - val_accuracy: 0.5000 - val_recall_32: 0.0000e+00\n",
      "Epoch 5/20\n",
      "167/167 [==============================] - 1s 6ms/step - loss: 0.6938 - accuracy: 0.4936 - recall_32: 0.5805 - val_loss: 0.6931 - val_accuracy: 0.5000 - val_recall_32: 0.0000e+00\n",
      "Epoch 6/20\n",
      "163/167 [============================>.] - ETA: 0s - loss: 0.6937 - accuracy: 0.5012 - recall_32: 0.7229Restoring model weights from the end of the best epoch.\n",
      "167/167 [==============================] - 1s 6ms/step - loss: 0.6936 - accuracy: 0.5026 - recall_32: 0.7297 - val_loss: 0.6941 - val_accuracy: 0.5000 - val_recall_32: 1.0000\n",
      "Epoch 00006: early stopping\n",
      "84/84 [==============================] - 0s 3ms/step - loss: 0.6932 - accuracy: 0.4876 - recall_32: 0.9985\n",
      "Model: \"sequential_33\"\n",
      "_________________________________________________________________\n",
      "Layer (type)                 Output Shape              Param #   \n",
      "=================================================================\n",
      "dense_97 (Dense)             (None, 64)                786496    \n",
      "_________________________________________________________________\n",
      "dense_98 (Dense)             (None, 32)                2080      \n",
      "_________________________________________________________________\n",
      "dense_99 (Dense)             (None, 1)                 33        \n",
      "=================================================================\n",
      "Total params: 788,609\n",
      "Trainable params: 788,609\n",
      "Non-trainable params: 0\n",
      "_________________________________________________________________\n",
      "Epoch 1/20\n"
     ]
    },
    {
     "name": "stdout",
     "output_type": "stream",
     "text": [
      "167/167 [==============================] - 1s 5ms/step - loss: 1.0009 - accuracy: 0.5239 - recall_33: 0.5139 - val_loss: 0.7811 - val_accuracy: 0.5325 - val_recall_33: 0.1400\n",
      "Epoch 2/20\n",
      "167/167 [==============================] - 1s 4ms/step - loss: 0.7744 - accuracy: 0.5607 - recall_33: 0.5488 - val_loss: 0.8360 - val_accuracy: 0.5250 - val_recall_33: 0.9500\n",
      "Epoch 3/20\n",
      "167/167 [==============================] - 1s 3ms/step - loss: 0.7399 - accuracy: 0.5751 - recall_33: 0.5689 - val_loss: 0.7090 - val_accuracy: 0.5625 - val_recall_33: 0.2400\n",
      "Epoch 4/20\n",
      "167/167 [==============================] - 1s 4ms/step - loss: 0.7224 - accuracy: 0.5860 - recall_33: 0.5834 - val_loss: 1.0535 - val_accuracy: 0.5025 - val_recall_33: 0.0100\n",
      "Epoch 5/20\n",
      "167/167 [==============================] - 1s 3ms/step - loss: 0.6716 - accuracy: 0.6083 - recall_33: 0.5929 - val_loss: 0.7106 - val_accuracy: 0.5475 - val_recall_33: 0.2400\n",
      "Epoch 6/20\n",
      "158/167 [===========================>..] - ETA: 0s - loss: 0.6759 - accuracy: 0.6080 - recall_33: 0.6014Restoring model weights from the end of the best epoch.\n",
      "167/167 [==============================] - 1s 3ms/step - loss: 0.6830 - accuracy: 0.6055 - recall_33: 0.6020 - val_loss: 0.7875 - val_accuracy: 0.5375 - val_recall_33: 0.9350\n",
      "Epoch 00006: early stopping\n",
      "84/84 [==============================] - 0s 2ms/step - loss: 0.7968 - accuracy: 0.5238 - recall_33: 0.1544\n",
      "Model: \"sequential_34\"\n",
      "_________________________________________________________________\n",
      "Layer (type)                 Output Shape              Param #   \n",
      "=================================================================\n",
      "dense_100 (Dense)            (None, 64)                786496    \n",
      "_________________________________________________________________\n",
      "dense_101 (Dense)            (None, 32)                2080      \n",
      "_________________________________________________________________\n",
      "dense_102 (Dense)            (None, 1)                 33        \n",
      "=================================================================\n",
      "Total params: 788,609\n",
      "Trainable params: 788,609\n",
      "Non-trainable params: 0\n",
      "_________________________________________________________________\n",
      "Epoch 1/20\n",
      "167/167 [==============================] - 2s 10ms/step - loss: 0.8813 - accuracy: 0.5232 - recall_34: 0.5128 - val_loss: 0.6984 - val_accuracy: 0.5600 - val_recall_34: 0.3100\n",
      "Epoch 2/20\n",
      "167/167 [==============================] - 1s 4ms/step - loss: 0.7355 - accuracy: 0.5616 - recall_34: 0.5544 - val_loss: 0.8988 - val_accuracy: 0.5100 - val_recall_34: 0.9800\n",
      "Epoch 3/20\n",
      "167/167 [==============================] - 1s 4ms/step - loss: 0.7578 - accuracy: 0.5811 - recall_34: 0.5825 - val_loss: 0.7236 - val_accuracy: 0.5725 - val_recall_34: 0.2050\n",
      "Epoch 4/20\n",
      "167/167 [==============================] - 1s 4ms/step - loss: 0.7079 - accuracy: 0.5813 - recall_34: 0.5750 - val_loss: 0.8821 - val_accuracy: 0.5175 - val_recall_34: 0.0350\n",
      "Epoch 5/20\n",
      "167/167 [==============================] - 1s 4ms/step - loss: 0.6786 - accuracy: 0.5982 - recall_34: 0.5926 - val_loss: 0.6706 - val_accuracy: 0.5750 - val_recall_34: 0.4800\n",
      "Epoch 6/20\n",
      "156/167 [===========================>..] - ETA: 0s - loss: 0.6626 - accuracy: 0.6184 - recall_34: 0.6256Restoring model weights from the end of the best epoch.\n",
      "167/167 [==============================] - 1s 4ms/step - loss: 0.6634 - accuracy: 0.6169 - recall_34: 0.6238 - val_loss: 0.6945 - val_accuracy: 0.5550 - val_recall_34: 0.7650\n",
      "Epoch 00006: early stopping\n",
      "84/84 [==============================] - 0s 2ms/step - loss: 0.6954 - accuracy: 0.5609 - recall_34: 0.3366\n",
      "Model: \"sequential_35\"\n",
      "_________________________________________________________________\n",
      "Layer (type)                 Output Shape              Param #   \n",
      "=================================================================\n",
      "dense_103 (Dense)            (None, 64)                786496    \n",
      "_________________________________________________________________\n",
      "dense_104 (Dense)            (None, 32)                2080      \n",
      "_________________________________________________________________\n",
      "dense_105 (Dense)            (None, 1)                 33        \n",
      "=================================================================\n",
      "Total params: 788,609\n",
      "Trainable params: 788,609\n",
      "Non-trainable params: 0\n",
      "_________________________________________________________________\n",
      "Epoch 1/20\n",
      "167/167 [==============================] - 1s 5ms/step - loss: 0.8200 - accuracy: 0.5262 - recall_35: 0.5383 - val_loss: 0.9837 - val_accuracy: 0.5025 - val_recall_35: 0.0050\n",
      "Epoch 2/20\n",
      "167/167 [==============================] - 1s 4ms/step - loss: 0.7406 - accuracy: 0.5521 - recall_35: 0.5605 - val_loss: 0.6766 - val_accuracy: 0.5525 - val_recall_35: 0.6900\n",
      "Epoch 3/20\n",
      "167/167 [==============================] - 1s 4ms/step - loss: 0.6728 - accuracy: 0.5962 - recall_35: 0.6039 - val_loss: 0.6984 - val_accuracy: 0.5525 - val_recall_35: 0.7850\n",
      "Epoch 4/20\n",
      "167/167 [==============================] - 1s 4ms/step - loss: 0.6761 - accuracy: 0.6018 - recall_35: 0.6127 - val_loss: 0.6761 - val_accuracy: 0.5500 - val_recall_35: 0.5450\n",
      "Epoch 5/20\n",
      "167/167 [==============================] - 1s 4ms/step - loss: 0.6939 - accuracy: 0.5898 - recall_35: 0.6061 - val_loss: 0.7119 - val_accuracy: 0.5425 - val_recall_35: 0.7350\n",
      "Epoch 6/20\n",
      "167/167 [==============================] - 1s 3ms/step - loss: 0.6451 - accuracy: 0.6249 - recall_35: 0.6398 - val_loss: 0.7511 - val_accuracy: 0.5325 - val_recall_35: 0.1300\n",
      "Epoch 7/20\n",
      "159/167 [===========================>..] - ETA: 0s - loss: 0.6471 - accuracy: 0.6252 - recall_35: 0.6291Restoring model weights from the end of the best epoch.\n",
      "167/167 [==============================] - 1s 4ms/step - loss: 0.6476 - accuracy: 0.6249 - recall_35: 0.6309 - val_loss: 0.7546 - val_accuracy: 0.5400 - val_recall_35: 0.9150\n",
      "Epoch 00007: early stopping\n",
      "84/84 [==============================] - 0s 2ms/step - loss: 0.6780 - accuracy: 0.5754 - recall_35: 0.7236\n",
      "Model: \"sequential_36\"\n",
      "_________________________________________________________________\n",
      "Layer (type)                 Output Shape              Param #   \n",
      "=================================================================\n",
      "dense_106 (Dense)            (None, 128)               1572992   \n",
      "_________________________________________________________________\n",
      "dense_107 (Dense)            (None, 32)                4128      \n",
      "_________________________________________________________________\n",
      "dense_108 (Dense)            (None, 1)                 33        \n",
      "=================================================================\n",
      "Total params: 1,577,153\n",
      "Trainable params: 1,577,153\n",
      "Non-trainable params: 0\n",
      "_________________________________________________________________\n",
      "Epoch 1/20\n",
      "167/167 [==============================] - 1s 8ms/step - loss: 1.0018 - accuracy: 0.5187 - recall_36: 0.5032 - val_loss: 0.8429 - val_accuracy: 0.5250 - val_recall_36: 0.1100\n",
      "Epoch 2/20\n",
      "167/167 [==============================] - 1s 7ms/step - loss: 0.7784 - accuracy: 0.5648 - recall_36: 0.5537 - val_loss: 0.8219 - val_accuracy: 0.5325 - val_recall_36: 0.9450\n",
      "Epoch 3/20\n",
      "167/167 [==============================] - 1s 7ms/step - loss: 0.7438 - accuracy: 0.5755 - recall_36: 0.5636 - val_loss: 0.7138 - val_accuracy: 0.5625 - val_recall_36: 0.2400\n",
      "Epoch 4/20\n",
      "167/167 [==============================] - 1s 6ms/step - loss: 0.7221 - accuracy: 0.5867 - recall_36: 0.5868 - val_loss: 1.0249 - val_accuracy: 0.5000 - val_recall_36: 0.0050\n",
      "Epoch 5/20\n",
      "167/167 [==============================] - 1s 6ms/step - loss: 0.6896 - accuracy: 0.6079 - recall_36: 0.5932 - val_loss: 0.6804 - val_accuracy: 0.5675 - val_recall_36: 0.4300\n",
      "Epoch 6/20\n",
      "165/167 [============================>.] - ETA: 0s - loss: 0.6865 - accuracy: 0.5964 - recall_36: 0.5931Restoring model weights from the end of the best epoch.\n",
      "167/167 [==============================] - 1s 7ms/step - loss: 0.6863 - accuracy: 0.5967 - recall_36: 0.5917 - val_loss: 0.7561 - val_accuracy: 0.5350 - val_recall_36: 0.9200\n",
      "Epoch 00006: early stopping\n",
      "84/84 [==============================] - 0s 2ms/step - loss: 0.8595 - accuracy: 0.5163 - recall_36: 0.1024\n",
      "Model: \"sequential_37\"\n",
      "_________________________________________________________________\n",
      "Layer (type)                 Output Shape              Param #   \n",
      "=================================================================\n",
      "dense_109 (Dense)            (None, 128)               1572992   \n",
      "_________________________________________________________________\n",
      "dense_110 (Dense)            (None, 32)                4128      \n",
      "_________________________________________________________________\n",
      "dense_111 (Dense)            (None, 1)                 33        \n",
      "=================================================================\n",
      "Total params: 1,577,153\n",
      "Trainable params: 1,577,153\n",
      "Non-trainable params: 0\n",
      "_________________________________________________________________\n",
      "Epoch 1/20\n"
     ]
    },
    {
     "name": "stdout",
     "output_type": "stream",
     "text": [
      "167/167 [==============================] - 1s 7ms/step - loss: 1.0796 - accuracy: 0.5207 - recall_37: 0.5281 - val_loss: 1.0206 - val_accuracy: 0.5175 - val_recall_37: 0.0550\n",
      "Epoch 2/20\n",
      "167/167 [==============================] - 1s 7ms/step - loss: 0.8256 - accuracy: 0.5532 - recall_37: 0.5525 - val_loss: 1.0519 - val_accuracy: 0.5200 - val_recall_37: 0.9750\n",
      "Epoch 3/20\n",
      "167/167 [==============================] - 1s 7ms/step - loss: 0.8125 - accuracy: 0.5826 - recall_37: 0.5855 - val_loss: 0.7916 - val_accuracy: 0.5550 - val_recall_37: 0.1550\n",
      "Epoch 4/20\n",
      "167/167 [==============================] - 1s 6ms/step - loss: 0.7377 - accuracy: 0.5873 - recall_37: 0.5885 - val_loss: 0.8070 - val_accuracy: 0.5350 - val_recall_37: 0.1000\n",
      "Epoch 5/20\n",
      "167/167 [==============================] - 1s 6ms/step - loss: 0.7065 - accuracy: 0.5959 - recall_37: 0.5863 - val_loss: 0.6736 - val_accuracy: 0.5700 - val_recall_37: 0.3100\n",
      "Epoch 6/20\n",
      "167/167 [==============================] - 1s 6ms/step - loss: 0.6474 - accuracy: 0.6314 - recall_37: 0.6313 - val_loss: 0.7120 - val_accuracy: 0.5725 - val_recall_37: 0.3150\n",
      "Epoch 7/20\n",
      "167/167 [==============================] - 1s 6ms/step - loss: 0.6707 - accuracy: 0.6265 - recall_37: 0.6189 - val_loss: 0.7583 - val_accuracy: 0.5600 - val_recall_37: 0.3750\n",
      "Epoch 8/20\n",
      "167/167 [==============================] - 1s 7ms/step - loss: 0.6264 - accuracy: 0.6477 - recall_37: 0.6440 - val_loss: 0.6779 - val_accuracy: 0.5950 - val_recall_37: 0.7350\n",
      "Epoch 9/20\n",
      "167/167 [==============================] - 1s 6ms/step - loss: 0.6867 - accuracy: 0.6179 - recall_37: 0.6182 - val_loss: 0.7028 - val_accuracy: 0.5975 - val_recall_37: 0.8150\n",
      "Epoch 10/20\n",
      "164/167 [============================>.] - ETA: 0s - loss: 0.6479 - accuracy: 0.6416 - recall_37: 0.6401Restoring model weights from the end of the best epoch.\n",
      "167/167 [==============================] - 1s 6ms/step - loss: 0.6489 - accuracy: 0.6402 - recall_37: 0.6403 - val_loss: 0.6861 - val_accuracy: 0.6150 - val_recall_37: 0.7150\n",
      "Epoch 00010: early stopping\n",
      "84/84 [==============================] - 0s 3ms/step - loss: 0.6779 - accuracy: 0.5838 - recall_37: 0.3418\n",
      "Model: \"sequential_38\"\n",
      "_________________________________________________________________\n",
      "Layer (type)                 Output Shape              Param #   \n",
      "=================================================================\n",
      "dense_112 (Dense)            (None, 128)               1572992   \n",
      "_________________________________________________________________\n",
      "dense_113 (Dense)            (None, 32)                4128      \n",
      "_________________________________________________________________\n",
      "dense_114 (Dense)            (None, 1)                 33        \n",
      "=================================================================\n",
      "Total params: 1,577,153\n",
      "Trainable params: 1,577,153\n",
      "Non-trainable params: 0\n",
      "_________________________________________________________________\n",
      "Epoch 1/20\n",
      "167/167 [==============================] - 1s 8ms/step - loss: 0.7711 - accuracy: 0.5397 - recall_38: 0.5765 - val_loss: 0.7023 - val_accuracy: 0.5325 - val_recall_38: 0.1550\n",
      "Epoch 2/20\n",
      "167/167 [==============================] - 1s 6ms/step - loss: 0.6997 - accuracy: 0.5649 - recall_38: 0.5924 - val_loss: 0.6831 - val_accuracy: 0.5500 - val_recall_38: 0.2450\n",
      "Epoch 3/20\n",
      "167/167 [==============================] - 1s 6ms/step - loss: 0.6768 - accuracy: 0.5827 - recall_38: 0.5950 - val_loss: 0.6853 - val_accuracy: 0.5425 - val_recall_38: 0.2900\n",
      "Epoch 4/20\n",
      "167/167 [==============================] - 1s 6ms/step - loss: 0.6665 - accuracy: 0.5911 - recall_38: 0.6090 - val_loss: 0.6957 - val_accuracy: 0.5450 - val_recall_38: 0.1800\n",
      "Epoch 5/20\n",
      "167/167 [==============================] - 1s 6ms/step - loss: 0.7308 - accuracy: 0.5461 - recall_38: 0.5205 - val_loss: 0.7854 - val_accuracy: 0.5000 - val_recall_38: 0.9950\n",
      "Epoch 6/20\n",
      "160/167 [===========================>..] - ETA: 0s - loss: 0.6905 - accuracy: 0.5510 - recall_38: 0.4388Restoring model weights from the end of the best epoch.\n",
      "167/167 [==============================] - 1s 7ms/step - loss: 0.6911 - accuracy: 0.5478 - recall_38: 0.4306 - val_loss: 0.6912 - val_accuracy: 0.5425 - val_recall_38: 0.8950\n",
      "Epoch 00006: early stopping\n",
      "84/84 [==============================] - 0s 2ms/step - loss: 0.6961 - accuracy: 0.5416 - recall_38: 0.1678\n",
      "Model: \"sequential_39\"\n",
      "_________________________________________________________________\n",
      "Layer (type)                 Output Shape              Param #   \n",
      "=================================================================\n",
      "dense_115 (Dense)            (None, 64)                786496    \n",
      "_________________________________________________________________\n",
      "dense_116 (Dense)            (None, 32)                2080      \n",
      "_________________________________________________________________\n",
      "dense_117 (Dense)            (None, 1)                 33        \n",
      "=================================================================\n",
      "Total params: 788,609\n",
      "Trainable params: 788,609\n",
      "Non-trainable params: 0\n",
      "_________________________________________________________________\n",
      "Epoch 1/20\n",
      "167/167 [==============================] - 1s 5ms/step - loss: 0.8534 - accuracy: 0.5359 - recall_39: 0.5230 - val_loss: 0.9842 - val_accuracy: 0.5075 - val_recall_39: 0.0150\n",
      "Epoch 2/20\n",
      "167/167 [==============================] - 1s 4ms/step - loss: 0.7447 - accuracy: 0.5745 - recall_39: 0.5564 - val_loss: 0.6844 - val_accuracy: 0.5925 - val_recall_39: 0.9000\n",
      "Epoch 3/20\n",
      "167/167 [==============================] - 1s 4ms/step - loss: 0.7220 - accuracy: 0.5697 - recall_39: 0.5602 - val_loss: 0.6838 - val_accuracy: 0.6025 - val_recall_39: 0.8450\n",
      "Epoch 4/20\n",
      "167/167 [==============================] - 1s 4ms/step - loss: 0.6789 - accuracy: 0.5922 - recall_39: 0.5746 - val_loss: 0.6601 - val_accuracy: 0.5800 - val_recall_39: 0.5000\n",
      "Epoch 5/20\n",
      "167/167 [==============================] - 1s 4ms/step - loss: 0.6644 - accuracy: 0.6032 - recall_39: 0.5860 - val_loss: 0.6701 - val_accuracy: 0.6150 - val_recall_39: 0.6250\n",
      "Epoch 6/20\n",
      "167/167 [==============================] - 1s 4ms/step - loss: 0.6724 - accuracy: 0.6087 - recall_39: 0.5948 - val_loss: 0.6720 - val_accuracy: 0.5825 - val_recall_39: 0.4150\n",
      "Epoch 7/20\n",
      "161/167 [===========================>..] - ETA: 0s - loss: 0.6482 - accuracy: 0.6326 - recall_39: 0.6391Restoring model weights from the end of the best epoch.\n",
      "167/167 [==============================] - 1s 4ms/step - loss: 0.6477 - accuracy: 0.6314 - recall_39: 0.6430 - val_loss: 0.6560 - val_accuracy: 0.6000 - val_recall_39: 0.6100\n",
      "Epoch 00007: early stopping\n",
      "84/84 [==============================] - 0s 2ms/step - loss: 0.6983 - accuracy: 0.5673 - recall_39: 0.8288\n",
      "Model: \"sequential_40\"\n",
      "_________________________________________________________________\n",
      "Layer (type)                 Output Shape              Param #   \n",
      "=================================================================\n",
      "dense_118 (Dense)            (None, 64)                786496    \n",
      "_________________________________________________________________\n",
      "dense_119 (Dense)            (None, 32)                2080      \n",
      "_________________________________________________________________\n",
      "dense_120 (Dense)            (None, 1)                 33        \n",
      "=================================================================\n",
      "Total params: 788,609\n",
      "Trainable params: 788,609\n",
      "Non-trainable params: 0\n",
      "_________________________________________________________________\n",
      "Epoch 1/20\n",
      "167/167 [==============================] - 1s 5ms/step - loss: 0.8734 - accuracy: 0.5239 - recall_40: 0.5233 - val_loss: 0.7993 - val_accuracy: 0.5075 - val_recall_40: 0.0150\n",
      "Epoch 2/20\n",
      "167/167 [==============================] - 1s 4ms/step - loss: 0.7122 - accuracy: 0.5530 - recall_40: 0.5491 - val_loss: 0.6869 - val_accuracy: 0.5475 - val_recall_40: 0.2100\n",
      "Epoch 3/20\n",
      "167/167 [==============================] - 1s 4ms/step - loss: 0.6910 - accuracy: 0.5668 - recall_40: 0.5664 - val_loss: 0.7235 - val_accuracy: 0.5225 - val_recall_40: 0.9400\n",
      "Epoch 4/20\n",
      "167/167 [==============================] - 1s 4ms/step - loss: 0.6916 - accuracy: 0.5781 - recall_40: 0.5855 - val_loss: 0.6695 - val_accuracy: 0.5700 - val_recall_40: 0.5850\n",
      "Epoch 5/20\n"
     ]
    },
    {
     "name": "stdout",
     "output_type": "stream",
     "text": [
      "167/167 [==============================] - 1s 4ms/step - loss: 0.6863 - accuracy: 0.5873 - recall_40: 0.5810 - val_loss: 0.7102 - val_accuracy: 0.5450 - val_recall_40: 0.1950\n",
      "Epoch 6/20\n",
      "167/167 [==============================] - 1s 4ms/step - loss: 0.6642 - accuracy: 0.6010 - recall_40: 0.6103 - val_loss: 0.6743 - val_accuracy: 0.5850 - val_recall_40: 0.7400\n",
      "Epoch 7/20\n",
      "167/167 [==============================] - 1s 4ms/step - loss: 0.6589 - accuracy: 0.6102 - recall_40: 0.6080 - val_loss: 0.7395 - val_accuracy: 0.5425 - val_recall_40: 0.1350\n",
      "Epoch 8/20\n",
      "167/167 [==============================] - 1s 4ms/step - loss: 0.6686 - accuracy: 0.6077 - recall_40: 0.6035 - val_loss: 0.7598 - val_accuracy: 0.5425 - val_recall_40: 0.9150\n",
      "Epoch 9/20\n",
      "159/167 [===========================>..] - ETA: 0s - loss: 0.6664 - accuracy: 0.6169 - recall_40: 0.6228Restoring model weights from the end of the best epoch.\n",
      "167/167 [==============================] - 1s 4ms/step - loss: 0.6636 - accuracy: 0.6190 - recall_40: 0.6283 - val_loss: 0.7103 - val_accuracy: 0.5375 - val_recall_40: 0.8600\n",
      "Epoch 00009: early stopping\n",
      "84/84 [==============================] - 0s 2ms/step - loss: 0.6652 - accuracy: 0.6010 - recall_40: 0.6334\n",
      "Model: \"sequential_41\"\n",
      "_________________________________________________________________\n",
      "Layer (type)                 Output Shape              Param #   \n",
      "=================================================================\n",
      "dense_121 (Dense)            (None, 64)                786496    \n",
      "_________________________________________________________________\n",
      "dense_122 (Dense)            (None, 32)                2080      \n",
      "_________________________________________________________________\n",
      "dense_123 (Dense)            (None, 1)                 33        \n",
      "=================================================================\n",
      "Total params: 788,609\n",
      "Trainable params: 788,609\n",
      "Non-trainable params: 0\n",
      "_________________________________________________________________\n",
      "Epoch 1/20\n",
      "167/167 [==============================] - 1s 5ms/step - loss: 0.8314 - accuracy: 0.5345 - recall_41: 0.5494 - val_loss: 0.7506 - val_accuracy: 0.5225 - val_recall_41: 0.0700\n",
      "Epoch 2/20\n",
      "167/167 [==============================] - 1s 4ms/step - loss: 0.7285 - accuracy: 0.5549 - recall_41: 0.5657 - val_loss: 0.6889 - val_accuracy: 0.5525 - val_recall_41: 0.8350\n",
      "Epoch 3/20\n",
      "167/167 [==============================] - 1s 4ms/step - loss: 0.6856 - accuracy: 0.5750 - recall_41: 0.5835 - val_loss: 0.6848 - val_accuracy: 0.5375 - val_recall_41: 0.3400\n",
      "Epoch 4/20\n",
      "167/167 [==============================] - 1s 4ms/step - loss: 0.6732 - accuracy: 0.5945 - recall_41: 0.6101 - val_loss: 0.6755 - val_accuracy: 0.5700 - val_recall_41: 0.5500\n",
      "Epoch 5/20\n",
      "167/167 [==============================] - 1s 4ms/step - loss: 0.7001 - accuracy: 0.5866 - recall_41: 0.5990 - val_loss: 0.6787 - val_accuracy: 0.5625 - val_recall_41: 0.2850\n",
      "Epoch 6/20\n",
      "167/167 [==============================] - ETA: 0s - loss: 0.6521 - accuracy: 0.6108 - recall_41: 0.6420Restoring model weights from the end of the best epoch.\n",
      "167/167 [==============================] - 1s 4ms/step - loss: 0.6521 - accuracy: 0.6108 - recall_41: 0.6420 - val_loss: 0.6770 - val_accuracy: 0.5375 - val_recall_41: 0.7750\n",
      "Epoch 00006: early stopping\n",
      "84/84 [==============================] - 0s 2ms/step - loss: 0.7400 - accuracy: 0.5270 - recall_41: 0.0739\n",
      "Model: \"sequential_42\"\n",
      "_________________________________________________________________\n",
      "Layer (type)                 Output Shape              Param #   \n",
      "=================================================================\n",
      "dense_124 (Dense)            (None, 128)               1572992   \n",
      "_________________________________________________________________\n",
      "dense_125 (Dense)            (None, 32)                4128      \n",
      "_________________________________________________________________\n",
      "dense_126 (Dense)            (None, 1)                 33        \n",
      "=================================================================\n",
      "Total params: 1,577,153\n",
      "Trainable params: 1,577,153\n",
      "Non-trainable params: 0\n",
      "_________________________________________________________________\n",
      "Epoch 1/20\n",
      "167/167 [==============================] - 1s 7ms/step - loss: 0.8252 - accuracy: 0.5305 - recall_42: 0.5161 - val_loss: 1.0362 - val_accuracy: 0.5000 - val_recall_42: 0.0000e+00\n",
      "Epoch 2/20\n",
      "167/167 [==============================] - 1s 6ms/step - loss: 0.7125 - accuracy: 0.5631 - recall_42: 0.5484 - val_loss: 0.6662 - val_accuracy: 0.5775 - val_recall_42: 0.5400\n",
      "Epoch 3/20\n",
      "167/167 [==============================] - 1s 6ms/step - loss: 0.6839 - accuracy: 0.5717 - recall_42: 0.5602 - val_loss: 0.6974 - val_accuracy: 0.5600 - val_recall_42: 0.8800\n",
      "Epoch 4/20\n",
      "167/167 [==============================] - 1s 6ms/step - loss: 0.7326 - accuracy: 0.5792 - recall_42: 0.5693 - val_loss: 1.2124 - val_accuracy: 0.5000 - val_recall_42: 0.0050\n",
      "Epoch 5/20\n",
      "167/167 [==============================] - 1s 6ms/step - loss: 0.7032 - accuracy: 0.5779 - recall_42: 0.5686 - val_loss: 0.6949 - val_accuracy: 0.5350 - val_recall_42: 0.2350\n",
      "Epoch 6/20\n",
      "167/167 [==============================] - 1s 6ms/step - loss: 0.6670 - accuracy: 0.6044 - recall_42: 0.5936 - val_loss: 0.6679 - val_accuracy: 0.5775 - val_recall_42: 0.4350\n",
      "Epoch 7/20\n",
      "163/167 [============================>.] - ETA: 0s - loss: 0.6538 - accuracy: 0.6169 - recall_42: 0.6187Restoring model weights from the end of the best epoch.\n",
      "167/167 [==============================] - 1s 6ms/step - loss: 0.6532 - accuracy: 0.6165 - recall_42: 0.6240 - val_loss: 0.6617 - val_accuracy: 0.6100 - val_recall_42: 0.7050\n",
      "Epoch 00007: early stopping\n",
      "84/84 [==============================] - 0s 2ms/step - loss: 0.6784 - accuracy: 0.5782 - recall_42: 0.5611\n",
      "Model: \"sequential_43\"\n",
      "_________________________________________________________________\n",
      "Layer (type)                 Output Shape              Param #   \n",
      "=================================================================\n",
      "dense_127 (Dense)            (None, 128)               1572992   \n",
      "_________________________________________________________________\n",
      "dense_128 (Dense)            (None, 32)                4128      \n",
      "_________________________________________________________________\n",
      "dense_129 (Dense)            (None, 1)                 33        \n",
      "=================================================================\n",
      "Total params: 1,577,153\n",
      "Trainable params: 1,577,153\n",
      "Non-trainable params: 0\n",
      "_________________________________________________________________\n",
      "Epoch 1/20\n",
      "167/167 [==============================] - 1s 7ms/step - loss: 0.9126 - accuracy: 0.5308 - recall_43: 0.5218 - val_loss: 0.6868 - val_accuracy: 0.5750 - val_recall_43: 0.4050\n",
      "Epoch 2/20\n",
      "167/167 [==============================] - 1s 6ms/step - loss: 0.7426 - accuracy: 0.5458 - recall_43: 0.5296 - val_loss: 0.6680 - val_accuracy: 0.5725 - val_recall_43: 0.6300\n",
      "Epoch 3/20\n",
      "167/167 [==============================] - 1s 6ms/step - loss: 0.7748 - accuracy: 0.5404 - recall_43: 0.5308 - val_loss: 0.7346 - val_accuracy: 0.5175 - val_recall_43: 0.9500\n",
      "Epoch 4/20\n",
      "167/167 [==============================] - 1s 7ms/step - loss: 0.6841 - accuracy: 0.5736 - recall_43: 0.5731 - val_loss: 0.6719 - val_accuracy: 0.5525 - val_recall_43: 0.4250\n",
      "Epoch 5/20\n",
      "167/167 [==============================] - 1s 8ms/step - loss: 0.6728 - accuracy: 0.5905 - recall_43: 0.5889 - val_loss: 0.6711 - val_accuracy: 0.5525 - val_recall_43: 0.3900\n",
      "Epoch 6/20\n",
      "165/167 [============================>.] - ETA: 0s - loss: 0.6611 - accuracy: 0.6070 - recall_43: 0.6142Restoring model weights from the end of the best epoch.\n",
      "167/167 [==============================] - 1s 7ms/step - loss: 0.6607 - accuracy: 0.6075 - recall_43: 0.6159 - val_loss: 0.6995 - val_accuracy: 0.5675 - val_recall_43: 0.2200\n",
      "Epoch 00006: early stopping\n",
      "84/84 [==============================] - 0s 3ms/step - loss: 0.6836 - accuracy: 0.5699 - recall_43: 0.4138\n",
      "Model: \"sequential_44\"\n",
      "_________________________________________________________________\n",
      "Layer (type)                 Output Shape              Param #   \n",
      "=================================================================\n",
      "dense_130 (Dense)            (None, 128)               1572992   \n",
      "_________________________________________________________________\n",
      "dense_131 (Dense)            (None, 32)                4128      \n",
      "_________________________________________________________________\n",
      "dense_132 (Dense)            (None, 1)                 33        \n",
      "=================================================================\n",
      "Total params: 1,577,153\n",
      "Trainable params: 1,577,153\n",
      "Non-trainable params: 0\n",
      "_________________________________________________________________\n",
      "Epoch 1/20\n"
     ]
    },
    {
     "name": "stdout",
     "output_type": "stream",
     "text": [
      "167/167 [==============================] - 1s 8ms/step - loss: 1.0083 - accuracy: 0.5231 - recall_44: 0.5354 - val_loss: 1.1795 - val_accuracy: 0.5000 - val_recall_44: 0.0000e+00\n",
      "Epoch 2/20\n",
      "167/167 [==============================] - 1s 7ms/step - loss: 0.7578 - accuracy: 0.5502 - recall_44: 0.5598 - val_loss: 0.7058 - val_accuracy: 0.5350 - val_recall_44: 0.8550\n",
      "Epoch 3/20\n",
      "167/167 [==============================] - 1s 7ms/step - loss: 0.6808 - accuracy: 0.5881 - recall_44: 0.5931 - val_loss: 0.7023 - val_accuracy: 0.5550 - val_recall_44: 0.8100\n",
      "Epoch 4/20\n",
      "167/167 [==============================] - 1s 7ms/step - loss: 0.6783 - accuracy: 0.5969 - recall_44: 0.6079 - val_loss: 0.6739 - val_accuracy: 0.5625 - val_recall_44: 0.4800\n",
      "Epoch 5/20\n",
      "167/167 [==============================] - 1s 7ms/step - loss: 0.6968 - accuracy: 0.5864 - recall_44: 0.5924 - val_loss: 0.8669 - val_accuracy: 0.5075 - val_recall_44: 0.9850\n",
      "Epoch 6/20\n",
      "167/167 [==============================] - 1s 7ms/step - loss: 0.6620 - accuracy: 0.6067 - recall_44: 0.6164 - val_loss: 0.7484 - val_accuracy: 0.5400 - val_recall_44: 0.9400\n",
      "Epoch 7/20\n",
      "167/167 [==============================] - 1s 7ms/step - loss: 0.6679 - accuracy: 0.6084 - recall_44: 0.6120 - val_loss: 0.6670 - val_accuracy: 0.5950 - val_recall_44: 0.5950\n",
      "Epoch 8/20\n",
      "161/167 [===========================>..] - ETA: 0s - loss: 0.6644 - accuracy: 0.6097 - recall_44: 0.6250Restoring model weights from the end of the best epoch.\n",
      "167/167 [==============================] - 1s 7ms/step - loss: 0.6635 - accuracy: 0.6110 - recall_44: 0.6264 - val_loss: 0.6705 - val_accuracy: 0.5650 - val_recall_44: 0.4700\n",
      "Epoch 00008: early stopping\n",
      "84/84 [==============================] - 0s 2ms/step - loss: 0.6978 - accuracy: 0.5653 - recall_44: 0.8268\n",
      "Model: \"sequential_45\"\n",
      "_________________________________________________________________\n",
      "Layer (type)                 Output Shape              Param #   \n",
      "=================================================================\n",
      "dense_133 (Dense)            (None, 64)                786496    \n",
      "_________________________________________________________________\n",
      "dense_134 (Dense)            (None, 32)                2080      \n",
      "_________________________________________________________________\n",
      "dense_135 (Dense)            (None, 1)                 33        \n",
      "=================================================================\n",
      "Total params: 788,609\n",
      "Trainable params: 788,609\n",
      "Non-trainable params: 0\n",
      "_________________________________________________________________\n",
      "Epoch 1/20\n",
      "167/167 [==============================] - 1s 6ms/step - loss: 0.7148 - accuracy: 0.5016 - recall_45: 0.2442 - val_loss: 0.6933 - val_accuracy: 0.5000 - val_recall_45: 1.0000\n",
      "Epoch 2/20\n",
      "167/167 [==============================] - 1s 4ms/step - loss: 0.6937 - accuracy: 0.4941 - recall_45: 0.4189 - val_loss: 0.6931 - val_accuracy: 0.5000 - val_recall_45: 0.0000e+00\n",
      "Epoch 3/20\n",
      "167/167 [==============================] - 1s 4ms/step - loss: 0.6934 - accuracy: 0.4993 - recall_45: 0.1185 - val_loss: 0.6934 - val_accuracy: 0.5000 - val_recall_45: 1.0000\n",
      "Epoch 4/20\n",
      "167/167 [==============================] - 1s 4ms/step - loss: 0.6940 - accuracy: 0.4917 - recall_45: 0.5868 - val_loss: 0.6938 - val_accuracy: 0.5000 - val_recall_45: 0.0000e+00\n",
      "Epoch 5/20\n",
      "167/167 [==============================] - 1s 4ms/step - loss: 0.6934 - accuracy: 0.5136 - recall_45: 0.2241 - val_loss: 0.6959 - val_accuracy: 0.5000 - val_recall_45: 1.0000\n",
      "Epoch 6/20\n",
      "162/167 [============================>.] - ETA: 0s - loss: 0.6944 - accuracy: 0.4878 - recall_45: 0.4196Restoring model weights from the end of the best epoch.\n",
      "167/167 [==============================] - 1s 4ms/step - loss: 0.6944 - accuracy: 0.4875 - recall_45: 0.4071 - val_loss: 0.6937 - val_accuracy: 0.5000 - val_recall_45: 0.0000e+00\n",
      "Epoch 00006: early stopping\n",
      "84/84 [==============================] - 0s 2ms/step - loss: 0.6929 - accuracy: 0.5126 - recall_45: 1.0000\n",
      "Model: \"sequential_46\"\n",
      "_________________________________________________________________\n",
      "Layer (type)                 Output Shape              Param #   \n",
      "=================================================================\n",
      "dense_136 (Dense)            (None, 64)                786496    \n",
      "_________________________________________________________________\n",
      "dense_137 (Dense)            (None, 32)                2080      \n",
      "_________________________________________________________________\n",
      "dense_138 (Dense)            (None, 1)                 33        \n",
      "=================================================================\n",
      "Total params: 788,609\n",
      "Trainable params: 788,609\n",
      "Non-trainable params: 0\n",
      "_________________________________________________________________\n",
      "Epoch 1/20\n",
      "167/167 [==============================] - 1s 6ms/step - loss: 0.7022 - accuracy: 0.4922 - recall_46: 0.5626 - val_loss: 0.6935 - val_accuracy: 0.5000 - val_recall_46: 1.0000\n",
      "Epoch 2/20\n",
      "167/167 [==============================] - 1s 4ms/step - loss: 0.6944 - accuracy: 0.4935 - recall_46: 0.4415 - val_loss: 0.6935 - val_accuracy: 0.5000 - val_recall_46: 1.0000\n",
      "Epoch 3/20\n",
      "167/167 [==============================] - 1s 4ms/step - loss: 0.6937 - accuracy: 0.5059 - recall_46: 0.4899 - val_loss: 0.6938 - val_accuracy: 0.5000 - val_recall_46: 1.0000\n",
      "Epoch 4/20\n",
      "167/167 [==============================] - 1s 4ms/step - loss: 0.6933 - accuracy: 0.5132 - recall_46: 0.6853 - val_loss: 0.6951 - val_accuracy: 0.5000 - val_recall_46: 0.0000e+00\n",
      "Epoch 5/20\n",
      "167/167 [==============================] - 1s 4ms/step - loss: 0.6941 - accuracy: 0.4950 - recall_46: 0.4610 - val_loss: 0.6964 - val_accuracy: 0.5000 - val_recall_46: 1.0000\n",
      "Epoch 6/20\n",
      "167/167 [==============================] - ETA: 0s - loss: 0.6948 - accuracy: 0.4930 - recall_46: 0.4070Restoring model weights from the end of the best epoch.\n",
      "167/167 [==============================] - 1s 4ms/step - loss: 0.6948 - accuracy: 0.4930 - recall_46: 0.4070 - val_loss: 0.6934 - val_accuracy: 0.5000 - val_recall_46: 0.0000e+00\n",
      "Epoch 00006: early stopping\n",
      "84/84 [==============================] - 0s 2ms/step - loss: 0.6935 - accuracy: 0.5002 - recall_46: 1.0000\n",
      "Model: \"sequential_47\"\n",
      "_________________________________________________________________\n",
      "Layer (type)                 Output Shape              Param #   \n",
      "=================================================================\n",
      "dense_139 (Dense)            (None, 64)                786496    \n",
      "_________________________________________________________________\n",
      "dense_140 (Dense)            (None, 32)                2080      \n",
      "_________________________________________________________________\n",
      "dense_141 (Dense)            (None, 1)                 33        \n",
      "=================================================================\n",
      "Total params: 788,609\n",
      "Trainable params: 788,609\n",
      "Non-trainable params: 0\n",
      "_________________________________________________________________\n",
      "Epoch 1/20\n",
      "167/167 [==============================] - 1s 6ms/step - loss: 0.8748 - accuracy: 0.4925 - recall_47: 0.0048 - val_loss: 0.6931 - val_accuracy: 0.5000 - val_recall_47: 1.0000\n",
      "Epoch 2/20\n",
      "167/167 [==============================] - 1s 4ms/step - loss: 0.6933 - accuracy: 0.5036 - recall_47: 0.6494 - val_loss: 0.6932 - val_accuracy: 0.5000 - val_recall_47: 0.0000e+00\n",
      "Epoch 3/20\n",
      "167/167 [==============================] - 1s 4ms/step - loss: 0.6934 - accuracy: 0.5026 - recall_47: 0.7949 - val_loss: 0.6931 - val_accuracy: 0.5000 - val_recall_47: 0.0000e+00\n",
      "Epoch 4/20\n",
      "167/167 [==============================] - 1s 4ms/step - loss: 0.6932 - accuracy: 0.5030 - recall_47: 0.5957 - val_loss: 0.6939 - val_accuracy: 0.5000 - val_recall_47: 0.0000e+00\n",
      "Epoch 5/20\n",
      "167/167 [==============================] - 1s 4ms/step - loss: 0.6937 - accuracy: 0.4964 - recall_47: 0.6305 - val_loss: 0.6931 - val_accuracy: 0.5000 - val_recall_47: 0.0000e+00\n",
      "Epoch 6/20\n",
      "164/167 [============================>.] - ETA: 0s - loss: 0.6936 - accuracy: 0.5042 - recall_47: 0.7572Restoring model weights from the end of the best epoch.\n",
      "167/167 [==============================] - 1s 4ms/step - loss: 0.6935 - accuracy: 0.5045 - recall_47: 0.7612 - val_loss: 0.6941 - val_accuracy: 0.5000 - val_recall_47: 1.0000\n",
      "Epoch 00006: early stopping\n"
     ]
    },
    {
     "name": "stdout",
     "output_type": "stream",
     "text": [
      "84/84 [==============================] - 0s 2ms/step - loss: 0.6932 - accuracy: 0.4880 - recall_47: 0.9992\n",
      "Model: \"sequential_48\"\n",
      "_________________________________________________________________\n",
      "Layer (type)                 Output Shape              Param #   \n",
      "=================================================================\n",
      "dense_142 (Dense)            (None, 128)               1572992   \n",
      "_________________________________________________________________\n",
      "dense_143 (Dense)            (None, 32)                4128      \n",
      "_________________________________________________________________\n",
      "dense_144 (Dense)            (None, 1)                 33        \n",
      "=================================================================\n",
      "Total params: 1,577,153\n",
      "Trainable params: 1,577,153\n",
      "Non-trainable params: 0\n",
      "_________________________________________________________________\n",
      "Epoch 1/20\n",
      "167/167 [==============================] - 1s 9ms/step - loss: 0.6969 - accuracy: 0.4993 - recall_48: 0.3046 - val_loss: 0.6934 - val_accuracy: 0.5000 - val_recall_48: 1.0000\n",
      "Epoch 2/20\n",
      "167/167 [==============================] - 1s 7ms/step - loss: 0.6938 - accuracy: 0.4950 - recall_48: 0.4383 - val_loss: 0.6932 - val_accuracy: 0.5000 - val_recall_48: 0.0000e+00\n",
      "Epoch 3/20\n",
      "167/167 [==============================] - 1s 7ms/step - loss: 0.6935 - accuracy: 0.4993 - recall_48: 0.1185 - val_loss: 0.6935 - val_accuracy: 0.5000 - val_recall_48: 1.0000\n",
      "Epoch 4/20\n",
      "167/167 [==============================] - 1s 7ms/step - loss: 0.6940 - accuracy: 0.4947 - recall_48: 0.5777 - val_loss: 0.6939 - val_accuracy: 0.5000 - val_recall_48: 0.0000e+00\n",
      "Epoch 5/20\n",
      "167/167 [==============================] - 1s 7ms/step - loss: 0.6935 - accuracy: 0.5136 - recall_48: 0.2241 - val_loss: 0.6959 - val_accuracy: 0.5000 - val_recall_48: 1.0000\n",
      "Epoch 6/20\n",
      "161/167 [===========================>..] - ETA: 0s - loss: 0.6945 - accuracy: 0.4880 - recall_48: 0.4217Restoring model weights from the end of the best epoch.\n",
      "167/167 [==============================] - 1s 7ms/step - loss: 0.6945 - accuracy: 0.4883 - recall_48: 0.4071 - val_loss: 0.6937 - val_accuracy: 0.5000 - val_recall_48: 0.0000e+00\n",
      "Epoch 00006: early stopping\n",
      "84/84 [==============================] - 0s 2ms/step - loss: 0.6928 - accuracy: 0.5126 - recall_48: 1.0000\n",
      "Model: \"sequential_49\"\n",
      "_________________________________________________________________\n",
      "Layer (type)                 Output Shape              Param #   \n",
      "=================================================================\n",
      "dense_145 (Dense)            (None, 128)               1572992   \n",
      "_________________________________________________________________\n",
      "dense_146 (Dense)            (None, 32)                4128      \n",
      "_________________________________________________________________\n",
      "dense_147 (Dense)            (None, 1)                 33        \n",
      "=================================================================\n",
      "Total params: 1,577,153\n",
      "Trainable params: 1,577,153\n",
      "Non-trainable params: 0\n",
      "_________________________________________________________________\n",
      "Epoch 1/20\n",
      "167/167 [==============================] - 1s 8ms/step - loss: 0.9130 - accuracy: 0.4995 - recall_49: 0.9940 - val_loss: 0.6935 - val_accuracy: 0.5000 - val_recall_49: 1.0000\n",
      "Epoch 2/20\n",
      "167/167 [==============================] - 1s 6ms/step - loss: 0.6937 - accuracy: 0.4917 - recall_49: 0.5836 - val_loss: 0.6932 - val_accuracy: 0.5000 - val_recall_49: 1.0000\n",
      "Epoch 3/20\n",
      "167/167 [==============================] - 1s 6ms/step - loss: 0.6935 - accuracy: 0.5055 - recall_49: 0.4115 - val_loss: 0.6932 - val_accuracy: 0.5000 - val_recall_49: 1.0000\n",
      "Epoch 4/20\n",
      "167/167 [==============================] - 1s 6ms/step - loss: 0.6930 - accuracy: 0.5117 - recall_49: 0.6958 - val_loss: 0.6948 - val_accuracy: 0.5000 - val_recall_49: 0.0000e+00\n",
      "Epoch 5/20\n",
      "167/167 [==============================] - 1s 6ms/step - loss: 0.6939 - accuracy: 0.4962 - recall_49: 0.3961 - val_loss: 0.6949 - val_accuracy: 0.5000 - val_recall_49: 1.0000\n",
      "Epoch 6/20\n",
      "165/167 [============================>.] - ETA: 0s - loss: 0.6938 - accuracy: 0.4998 - recall_49: 0.5392Restoring model weights from the end of the best epoch.\n",
      "167/167 [==============================] - 1s 6ms/step - loss: 0.6938 - accuracy: 0.4997 - recall_49: 0.5338 - val_loss: 0.6933 - val_accuracy: 0.5000 - val_recall_49: 0.0000e+00\n",
      "Epoch 00006: early stopping\n",
      "84/84 [==============================] - 0s 2ms/step - loss: 0.6934 - accuracy: 0.5002 - recall_49: 1.0000\n",
      "Model: \"sequential_50\"\n",
      "_________________________________________________________________\n",
      "Layer (type)                 Output Shape              Param #   \n",
      "=================================================================\n",
      "dense_148 (Dense)            (None, 128)               1572992   \n",
      "_________________________________________________________________\n",
      "dense_149 (Dense)            (None, 32)                4128      \n",
      "_________________________________________________________________\n",
      "dense_150 (Dense)            (None, 1)                 33        \n",
      "=================================================================\n",
      "Total params: 1,577,153\n",
      "Trainable params: 1,577,153\n",
      "Non-trainable params: 0\n",
      "_________________________________________________________________\n",
      "Epoch 1/20\n",
      "167/167 [==============================] - 1s 7ms/step - loss: 0.8260 - accuracy: 0.5037 - recall_50: 0.9322 - val_loss: 0.6931 - val_accuracy: 0.5000 - val_recall_50: 1.0000\n",
      "Epoch 2/20\n",
      "167/167 [==============================] - 1s 7ms/step - loss: 0.6933 - accuracy: 0.5056 - recall_50: 0.6101 - val_loss: 0.6932 - val_accuracy: 0.5000 - val_recall_50: 0.0000e+00\n",
      "Epoch 3/20\n",
      "167/167 [==============================] - 1s 7ms/step - loss: 0.6935 - accuracy: 0.5011 - recall_50: 0.7656 - val_loss: 0.6932 - val_accuracy: 0.5000 - val_recall_50: 0.0000e+00\n",
      "Epoch 4/20\n",
      "167/167 [==============================] - 1s 7ms/step - loss: 0.6932 - accuracy: 0.5024 - recall_50: 0.5894 - val_loss: 0.6940 - val_accuracy: 0.5000 - val_recall_50: 0.0000e+00\n",
      "Epoch 5/20\n",
      "167/167 [==============================] - 1s 7ms/step - loss: 0.6937 - accuracy: 0.4951 - recall_50: 0.5998 - val_loss: 0.6931 - val_accuracy: 0.5000 - val_recall_50: 0.0000e+00\n",
      "Epoch 6/20\n",
      "165/167 [============================>.] - ETA: 0s - loss: 0.6936 - accuracy: 0.5044 - recall_50: 0.7346Restoring model weights from the end of the best epoch.\n",
      "167/167 [==============================] - 1s 7ms/step - loss: 0.6936 - accuracy: 0.5041 - recall_50: 0.7371 - val_loss: 0.6941 - val_accuracy: 0.5000 - val_recall_50: 1.0000\n",
      "Epoch 00006: early stopping\n",
      "84/84 [==============================] - 0s 3ms/step - loss: 0.6932 - accuracy: 0.4872 - recall_50: 1.0000\n",
      "Model: \"sequential_51\"\n",
      "_________________________________________________________________\n",
      "Layer (type)                 Output Shape              Param #   \n",
      "=================================================================\n",
      "dense_151 (Dense)            (None, 64)                786496    \n",
      "_________________________________________________________________\n",
      "dense_152 (Dense)            (None, 32)                2080      \n",
      "_________________________________________________________________\n",
      "dense_153 (Dense)            (None, 1)                 33        \n",
      "=================================================================\n",
      "Total params: 788,609\n",
      "Trainable params: 788,609\n",
      "Non-trainable params: 0\n",
      "_________________________________________________________________\n",
      "Epoch 1/20\n",
      "167/167 [==============================] - 1s 6ms/step - loss: 0.7153 - accuracy: 0.4933 - recall_51: 0.4512 - val_loss: 0.6932 - val_accuracy: 0.5000 - val_recall_51: 1.0000\n",
      "Epoch 2/20\n",
      "167/167 [==============================] - 1s 4ms/step - loss: 0.6983 - accuracy: 0.5007 - recall_51: 0.4318 - val_loss: 0.6932 - val_accuracy: 0.5000 - val_recall_51: 0.0000e+00\n",
      "Epoch 3/20\n",
      "167/167 [==============================] - 1s 4ms/step - loss: 0.6985 - accuracy: 0.4948 - recall_51: 0.3995 - val_loss: 0.6977 - val_accuracy: 0.5000 - val_recall_51: 1.0000\n",
      "Epoch 4/20\n",
      "167/167 [==============================] - 1s 4ms/step - loss: 0.6960 - accuracy: 0.5037 - recall_51: 0.5017 - val_loss: 0.7025 - val_accuracy: 0.5000 - val_recall_51: 0.0000e+00\n",
      "Epoch 5/20\n"
     ]
    },
    {
     "name": "stdout",
     "output_type": "stream",
     "text": [
      "167/167 [==============================] - 1s 4ms/step - loss: 0.6969 - accuracy: 0.5061 - recall_51: 0.4413 - val_loss: 0.6931 - val_accuracy: 0.5000 - val_recall_51: 0.0000e+00\n",
      "Epoch 6/20\n",
      "157/167 [===========================>..] - ETA: 0s - loss: 0.6982 - accuracy: 0.4976 - recall_51: 0.4169Restoring model weights from the end of the best epoch.\n",
      "167/167 [==============================] - 1s 4ms/step - loss: 0.6979 - accuracy: 0.4982 - recall_51: 0.4030 - val_loss: 0.6937 - val_accuracy: 0.5000 - val_recall_51: 1.0000\n",
      "Epoch 00006: early stopping\n",
      "84/84 [==============================] - 0s 2ms/step - loss: 0.6931 - accuracy: 0.5126 - recall_51: 1.0000\n",
      "Model: \"sequential_52\"\n",
      "_________________________________________________________________\n",
      "Layer (type)                 Output Shape              Param #   \n",
      "=================================================================\n",
      "dense_154 (Dense)            (None, 64)                786496    \n",
      "_________________________________________________________________\n",
      "dense_155 (Dense)            (None, 32)                2080      \n",
      "_________________________________________________________________\n",
      "dense_156 (Dense)            (None, 1)                 33        \n",
      "=================================================================\n",
      "Total params: 788,609\n",
      "Trainable params: 788,609\n",
      "Non-trainable params: 0\n",
      "_________________________________________________________________\n",
      "Epoch 1/20\n",
      "167/167 [==============================] - 1s 6ms/step - loss: 0.7035 - accuracy: 0.5044 - recall_52: 0.5900 - val_loss: 0.6932 - val_accuracy: 0.5000 - val_recall_52: 0.0000e+00\n",
      "Epoch 2/20\n",
      "167/167 [==============================] - 1s 4ms/step - loss: 0.6960 - accuracy: 0.5048 - recall_52: 0.4947 - val_loss: 0.6958 - val_accuracy: 0.5000 - val_recall_52: 1.0000\n",
      "Epoch 3/20\n",
      "167/167 [==============================] - 1s 4ms/step - loss: 0.6957 - accuracy: 0.5033 - recall_52: 0.4512 - val_loss: 0.7045 - val_accuracy: 0.5000 - val_recall_52: 1.0000\n",
      "Epoch 4/20\n",
      "167/167 [==============================] - 1s 4ms/step - loss: 0.6964 - accuracy: 0.5001 - recall_52: 0.4921 - val_loss: 0.6940 - val_accuracy: 0.5000 - val_recall_52: 0.0000e+00\n",
      "Epoch 5/20\n",
      "167/167 [==============================] - 1s 4ms/step - loss: 0.6958 - accuracy: 0.5025 - recall_52: 0.4325 - val_loss: 0.6933 - val_accuracy: 0.5000 - val_recall_52: 0.0000e+00\n",
      "Epoch 6/20\n",
      "157/167 [===========================>..] - ETA: 0s - loss: 0.6964 - accuracy: 0.4875 - recall_52: 0.4525Restoring model weights from the end of the best epoch.\n",
      "167/167 [==============================] - 1s 5ms/step - loss: 0.6962 - accuracy: 0.4892 - recall_52: 0.4272 - val_loss: 0.6933 - val_accuracy: 0.5000 - val_recall_52: 0.0000e+00\n",
      "Epoch 00006: early stopping\n",
      "84/84 [==============================] - 0s 3ms/step - loss: 0.6932 - accuracy: 0.4998 - recall_52: 0.0000e+00\n",
      "Model: \"sequential_53\"\n",
      "_________________________________________________________________\n",
      "Layer (type)                 Output Shape              Param #   \n",
      "=================================================================\n",
      "dense_157 (Dense)            (None, 64)                786496    \n",
      "_________________________________________________________________\n",
      "dense_158 (Dense)            (None, 32)                2080      \n",
      "_________________________________________________________________\n",
      "dense_159 (Dense)            (None, 1)                 33        \n",
      "=================================================================\n",
      "Total params: 788,609\n",
      "Trainable params: 788,609\n",
      "Non-trainable params: 0\n",
      "_________________________________________________________________\n",
      "Epoch 1/20\n",
      "167/167 [==============================] - 1s 6ms/step - loss: 0.7018 - accuracy: 0.5099 - recall_53: 0.5713 - val_loss: 0.6962 - val_accuracy: 0.5000 - val_recall_53: 1.0000\n",
      "Epoch 2/20\n",
      "167/167 [==============================] - 1s 4ms/step - loss: 0.6962 - accuracy: 0.4991 - recall_53: 0.5365 - val_loss: 0.6946 - val_accuracy: 0.5000 - val_recall_53: 0.0000e+00\n",
      "Epoch 3/20\n",
      "167/167 [==============================] - 1s 4ms/step - loss: 0.6962 - accuracy: 0.4974 - recall_53: 0.5842 - val_loss: 0.6959 - val_accuracy: 0.5000 - val_recall_53: 0.0000e+00\n",
      "Epoch 4/20\n",
      "167/167 [==============================] - 1s 4ms/step - loss: 0.6954 - accuracy: 0.4953 - recall_53: 0.5291 - val_loss: 0.6934 - val_accuracy: 0.5000 - val_recall_53: 0.0000e+00\n",
      "Epoch 5/20\n",
      "167/167 [==============================] - 1s 4ms/step - loss: 0.6973 - accuracy: 0.4828 - recall_53: 0.6290 - val_loss: 0.6932 - val_accuracy: 0.5000 - val_recall_53: 0.0000e+00\n",
      "Epoch 6/20\n",
      "161/167 [===========================>..] - ETA: 0s - loss: 0.6958 - accuracy: 0.5029 - recall_53: 0.5183Restoring model weights from the end of the best epoch.\n",
      "167/167 [==============================] - 1s 4ms/step - loss: 0.6961 - accuracy: 0.5004 - recall_53: 0.4983 - val_loss: 0.6937 - val_accuracy: 0.5000 - val_recall_53: 0.0000e+00\n",
      "Epoch 00006: early stopping\n",
      "84/84 [==============================] - 0s 2ms/step - loss: 0.6983 - accuracy: 0.4872 - recall_53: 1.0000\n",
      "Model: \"sequential_54\"\n",
      "_________________________________________________________________\n",
      "Layer (type)                 Output Shape              Param #   \n",
      "=================================================================\n",
      "dense_160 (Dense)            (None, 128)               1572992   \n",
      "_________________________________________________________________\n",
      "dense_161 (Dense)            (None, 32)                4128      \n",
      "_________________________________________________________________\n",
      "dense_162 (Dense)            (None, 1)                 33        \n",
      "=================================================================\n",
      "Total params: 1,577,153\n",
      "Trainable params: 1,577,153\n",
      "Non-trainable params: 0\n",
      "_________________________________________________________________\n",
      "Epoch 1/20\n",
      "167/167 [==============================] - 1s 8ms/step - loss: 0.7053 - accuracy: 0.4992 - recall_54: 0.4683 - val_loss: 0.6961 - val_accuracy: 0.5000 - val_recall_54: 0.0000e+00\n",
      "Epoch 2/20\n",
      "167/167 [==============================] - 1s 6ms/step - loss: 0.6999 - accuracy: 0.4988 - recall_54: 0.4542 - val_loss: 0.6951 - val_accuracy: 0.5000 - val_recall_54: 0.0000e+00\n",
      "Epoch 3/20\n",
      "167/167 [==============================] - 1s 6ms/step - loss: 0.7003 - accuracy: 0.4963 - recall_54: 0.4132 - val_loss: 0.6941 - val_accuracy: 0.5000 - val_recall_54: 1.0000\n",
      "Epoch 4/20\n",
      "167/167 [==============================] - 1s 6ms/step - loss: 0.6963 - accuracy: 0.4969 - recall_54: 0.4766 - val_loss: 0.7012 - val_accuracy: 0.5000 - val_recall_54: 0.0000e+00\n",
      "Epoch 5/20\n",
      "167/167 [==============================] - 1s 6ms/step - loss: 0.6965 - accuracy: 0.5061 - recall_54: 0.4596 - val_loss: 0.6932 - val_accuracy: 0.5000 - val_recall_54: 1.0000\n",
      "Epoch 6/20\n",
      "160/167 [===========================>..] - ETA: 0s - loss: 0.6988 - accuracy: 0.5014 - recall_54: 0.4254Restoring model weights from the end of the best epoch.\n",
      "167/167 [==============================] - 1s 6ms/step - loss: 0.6985 - accuracy: 0.5020 - recall_54: 0.4189 - val_loss: 0.6936 - val_accuracy: 0.5000 - val_recall_54: 1.0000\n",
      "Epoch 00006: early stopping\n",
      "84/84 [==============================] - 0s 3ms/step - loss: 0.6980 - accuracy: 0.4874 - recall_54: 0.0000e+00\n",
      "Model: \"sequential_55\"\n",
      "_________________________________________________________________\n",
      "Layer (type)                 Output Shape              Param #   \n",
      "=================================================================\n",
      "dense_163 (Dense)            (None, 128)               1572992   \n",
      "_________________________________________________________________\n",
      "dense_164 (Dense)            (None, 32)                4128      \n",
      "_________________________________________________________________\n",
      "dense_165 (Dense)            (None, 1)                 33        \n",
      "=================================================================\n",
      "Total params: 1,577,153\n",
      "Trainable params: 1,577,153\n",
      "Non-trainable params: 0\n",
      "_________________________________________________________________\n",
      "Epoch 1/20\n",
      "167/167 [==============================] - 2s 13ms/step - loss: 0.7048 - accuracy: 0.5003 - recall_55: 0.6043 - val_loss: 0.6932 - val_accuracy: 0.5000 - val_recall_55: 0.0000e+00\n",
      "Epoch 2/20\n"
     ]
    },
    {
     "name": "stdout",
     "output_type": "stream",
     "text": [
      "167/167 [==============================] - 1s 7ms/step - loss: 0.6990 - accuracy: 0.4995 - recall_55: 0.5075 - val_loss: 0.6939 - val_accuracy: 0.5000 - val_recall_55: 1.0000\n",
      "Epoch 3/20\n",
      "167/167 [==============================] - 1s 7ms/step - loss: 0.6974 - accuracy: 0.4965 - recall_55: 0.4325 - val_loss: 0.7130 - val_accuracy: 0.5000 - val_recall_55: 1.0000\n",
      "Epoch 4/20\n",
      "167/167 [==============================] - 1s 7ms/step - loss: 0.6957 - accuracy: 0.5061 - recall_55: 0.4921 - val_loss: 0.6958 - val_accuracy: 0.5000 - val_recall_55: 0.0000e+00\n",
      "Epoch 5/20\n",
      "167/167 [==============================] - 1s 6ms/step - loss: 0.6967 - accuracy: 0.5091 - recall_55: 0.4651 - val_loss: 0.7052 - val_accuracy: 0.5000 - val_recall_55: 0.0000e+00\n",
      "Epoch 6/20\n",
      "165/167 [============================>.] - ETA: 0s - loss: 0.6987 - accuracy: 0.4983 - recall_55: 0.4771Restoring model weights from the end of the best epoch.\n",
      "167/167 [==============================] - 1s 6ms/step - loss: 0.6986 - accuracy: 0.4984 - recall_55: 0.4824 - val_loss: 0.6931 - val_accuracy: 0.5000 - val_recall_55: 0.0000e+00\n",
      "Epoch 00006: early stopping\n",
      "84/84 [==============================] - 0s 2ms/step - loss: 0.6932 - accuracy: 0.4998 - recall_55: 0.0000e+00\n",
      "Model: \"sequential_56\"\n",
      "_________________________________________________________________\n",
      "Layer (type)                 Output Shape              Param #   \n",
      "=================================================================\n",
      "dense_166 (Dense)            (None, 128)               1572992   \n",
      "_________________________________________________________________\n",
      "dense_167 (Dense)            (None, 32)                4128      \n",
      "_________________________________________________________________\n",
      "dense_168 (Dense)            (None, 1)                 33        \n",
      "=================================================================\n",
      "Total params: 1,577,153\n",
      "Trainable params: 1,577,153\n",
      "Non-trainable params: 0\n",
      "_________________________________________________________________\n",
      "Epoch 1/20\n",
      "167/167 [==============================] - 1s 9ms/step - loss: 0.7104 - accuracy: 0.5109 - recall_56: 0.5265 - val_loss: 0.6965 - val_accuracy: 0.5000 - val_recall_56: 1.0000\n",
      "Epoch 2/20\n",
      "167/167 [==============================] - 1s 7ms/step - loss: 0.6976 - accuracy: 0.4994 - recall_56: 0.5417 - val_loss: 0.6952 - val_accuracy: 0.5000 - val_recall_56: 0.0000e+00\n",
      "Epoch 3/20\n",
      "167/167 [==============================] - 1s 7ms/step - loss: 0.6966 - accuracy: 0.4936 - recall_56: 0.5568 - val_loss: 0.6958 - val_accuracy: 0.5000 - val_recall_56: 0.0000e+00\n",
      "Epoch 4/20\n",
      "167/167 [==============================] - 1s 7ms/step - loss: 0.6958 - accuracy: 0.4959 - recall_56: 0.5591 - val_loss: 0.6932 - val_accuracy: 0.5000 - val_recall_56: 1.0000\n",
      "Epoch 5/20\n",
      "167/167 [==============================] - 1s 7ms/step - loss: 0.6982 - accuracy: 0.4891 - recall_56: 0.6175 - val_loss: 0.6931 - val_accuracy: 0.5000 - val_recall_56: 0.0000e+00\n",
      "Epoch 6/20\n",
      "167/167 [==============================] - ETA: 0s - loss: 0.6967 - accuracy: 0.4989 - recall_56: 0.5087Restoring model weights from the end of the best epoch.\n",
      "167/167 [==============================] - 1s 7ms/step - loss: 0.6967 - accuracy: 0.4989 - recall_56: 0.5087 - val_loss: 0.6940 - val_accuracy: 0.5000 - val_recall_56: 0.0000e+00\n",
      "Epoch 00006: early stopping\n",
      "84/84 [==============================] - 0s 3ms/step - loss: 0.6986 - accuracy: 0.4872 - recall_56: 1.0000\n",
      "Model: \"sequential_57\"\n",
      "_________________________________________________________________\n",
      "Layer (type)                 Output Shape              Param #   \n",
      "=================================================================\n",
      "dense_169 (Dense)            (None, 64)                786496    \n",
      "_________________________________________________________________\n",
      "dense_170 (Dense)            (None, 32)                2080      \n",
      "_________________________________________________________________\n",
      "dense_171 (Dense)            (None, 1)                 33        \n",
      "=================================================================\n",
      "Total params: 788,609\n",
      "Trainable params: 788,609\n",
      "Non-trainable params: 0\n",
      "_________________________________________________________________\n",
      "Epoch 1/20\n",
      "167/167 [==============================] - 1s 6ms/step - loss: 0.7786 - accuracy: 0.5001 - recall_57: 0.4652 - val_loss: 0.6937 - val_accuracy: 0.5000 - val_recall_57: 1.0000\n",
      "Epoch 2/20\n",
      "167/167 [==============================] - 1s 4ms/step - loss: 0.6970 - accuracy: 0.5052 - recall_57: 0.4607 - val_loss: 0.6932 - val_accuracy: 0.5000 - val_recall_57: 0.0000e+00\n",
      "Epoch 3/20\n",
      "167/167 [==============================] - 1s 4ms/step - loss: 0.6978 - accuracy: 0.4982 - recall_57: 0.4212 - val_loss: 0.6999 - val_accuracy: 0.5000 - val_recall_57: 1.0000\n",
      "Epoch 4/20\n",
      "167/167 [==============================] - 1s 4ms/step - loss: 0.6961 - accuracy: 0.5037 - recall_57: 0.5017 - val_loss: 0.7025 - val_accuracy: 0.5000 - val_recall_57: 0.0000e+00\n",
      "Epoch 5/20\n",
      "167/167 [==============================] - 1s 4ms/step - loss: 0.6968 - accuracy: 0.5042 - recall_57: 0.4516 - val_loss: 0.6931 - val_accuracy: 0.5000 - val_recall_57: 0.0000e+00\n",
      "Epoch 6/20\n",
      "161/167 [===========================>..] - ETA: 0s - loss: 0.6983 - accuracy: 0.4988 - recall_57: 0.4076Restoring model weights from the end of the best epoch.\n",
      "167/167 [==============================] - 1s 4ms/step - loss: 0.6981 - accuracy: 0.4993 - recall_57: 0.4041 - val_loss: 0.6937 - val_accuracy: 0.5000 - val_recall_57: 1.0000\n",
      "Epoch 00006: early stopping\n",
      "84/84 [==============================] - 0s 2ms/step - loss: 0.6929 - accuracy: 0.5126 - recall_57: 1.0000\n",
      "Model: \"sequential_58\"\n",
      "_________________________________________________________________\n",
      "Layer (type)                 Output Shape              Param #   \n",
      "=================================================================\n",
      "dense_172 (Dense)            (None, 64)                786496    \n",
      "_________________________________________________________________\n",
      "dense_173 (Dense)            (None, 32)                2080      \n",
      "_________________________________________________________________\n",
      "dense_174 (Dense)            (None, 1)                 33        \n",
      "=================================================================\n",
      "Total params: 788,609\n",
      "Trainable params: 788,609\n",
      "Non-trainable params: 0\n",
      "_________________________________________________________________\n",
      "Epoch 1/20\n",
      "167/167 [==============================] - 1s 5ms/step - loss: 0.7302 - accuracy: 0.4941 - recall_58: 0.5514 - val_loss: 0.6935 - val_accuracy: 0.5000 - val_recall_58: 0.0000e+00\n",
      "Epoch 2/20\n",
      "167/167 [==============================] - 1s 4ms/step - loss: 0.6979 - accuracy: 0.5014 - recall_58: 0.4914 - val_loss: 0.6954 - val_accuracy: 0.5000 - val_recall_58: 1.0000\n",
      "Epoch 3/20\n",
      "167/167 [==============================] - 1s 4ms/step - loss: 0.6971 - accuracy: 0.4965 - recall_58: 0.4505 - val_loss: 0.7157 - val_accuracy: 0.5000 - val_recall_58: 1.0000\n",
      "Epoch 4/20\n",
      "167/167 [==============================] - 1s 4ms/step - loss: 0.6962 - accuracy: 0.5068 - recall_58: 0.4989 - val_loss: 0.6962 - val_accuracy: 0.5000 - val_recall_58: 0.0000e+00\n",
      "Epoch 5/20\n",
      "167/167 [==============================] - 1s 4ms/step - loss: 0.6970 - accuracy: 0.5095 - recall_58: 0.4659 - val_loss: 0.7058 - val_accuracy: 0.5000 - val_recall_58: 0.0000e+00\n",
      "Epoch 6/20\n",
      "156/167 [===========================>..] - ETA: 0s - loss: 0.6989 - accuracy: 0.4996 - recall_58: 0.4420Restoring model weights from the end of the best epoch.\n",
      "167/167 [==============================] - 1s 4ms/step - loss: 0.6987 - accuracy: 0.4984 - recall_58: 0.4704 - val_loss: 0.6931 - val_accuracy: 0.5000 - val_recall_58: 0.0000e+00\n",
      "Epoch 00006: early stopping\n",
      "84/84 [==============================] - 0s 2ms/step - loss: 0.6935 - accuracy: 0.4998 - recall_58: 0.0000e+00\n",
      "Model: \"sequential_59\"\n",
      "_________________________________________________________________\n",
      "Layer (type)                 Output Shape              Param #   \n",
      "=================================================================\n",
      "dense_175 (Dense)            (None, 64)                786496    \n",
      "_________________________________________________________________\n",
      "dense_176 (Dense)            (None, 32)                2080      \n",
      "_________________________________________________________________\n",
      "dense_177 (Dense)            (None, 1)                 33        \n",
      "=================================================================\n",
      "Total params: 788,609\n",
      "Trainable params: 788,609\n",
      "Non-trainable params: 0\n",
      "_________________________________________________________________\n",
      "Epoch 1/20\n"
     ]
    },
    {
     "name": "stdout",
     "output_type": "stream",
     "text": [
      "167/167 [==============================] - 1s 5ms/step - loss: 0.8070 - accuracy: 0.5112 - recall_59: 0.4891 - val_loss: 0.6942 - val_accuracy: 0.5000 - val_recall_59: 1.0000\n",
      "Epoch 2/20\n",
      "167/167 [==============================] - 1s 3ms/step - loss: 0.6969 - accuracy: 0.5000 - recall_59: 0.5454 - val_loss: 0.6948 - val_accuracy: 0.5000 - val_recall_59: 0.0000e+00\n",
      "Epoch 3/20\n",
      "167/167 [==============================] - 1s 4ms/step - loss: 0.6967 - accuracy: 0.4951 - recall_59: 0.5642 - val_loss: 0.6957 - val_accuracy: 0.5000 - val_recall_59: 0.0000e+00\n",
      "Epoch 4/20\n",
      "167/167 [==============================] - 1s 4ms/step - loss: 0.6961 - accuracy: 0.4970 - recall_59: 0.5524 - val_loss: 0.6941 - val_accuracy: 0.5000 - val_recall_59: 1.0000\n",
      "Epoch 5/20\n",
      "167/167 [==============================] - 1s 4ms/step - loss: 0.6991 - accuracy: 0.4940 - recall_59: 0.5909 - val_loss: 0.6933 - val_accuracy: 0.5000 - val_recall_59: 1.0000\n",
      "Epoch 6/20\n",
      "155/167 [==========================>...] - ETA: 0s - loss: 0.6961 - accuracy: 0.5095 - recall_59: 0.5381Restoring model weights from the end of the best epoch.\n",
      "167/167 [==============================] - 1s 4ms/step - loss: 0.6972 - accuracy: 0.5064 - recall_59: 0.5161 - val_loss: 0.6932 - val_accuracy: 0.5000 - val_recall_59: 0.0000e+00\n",
      "Epoch 00006: early stopping\n",
      "84/84 [==============================] - 0s 2ms/step - loss: 0.6954 - accuracy: 0.4872 - recall_59: 1.0000\n",
      "Model: \"sequential_60\"\n",
      "_________________________________________________________________\n",
      "Layer (type)                 Output Shape              Param #   \n",
      "=================================================================\n",
      "dense_178 (Dense)            (None, 128)               1572992   \n",
      "_________________________________________________________________\n",
      "dense_179 (Dense)            (None, 32)                4128      \n",
      "_________________________________________________________________\n",
      "dense_180 (Dense)            (None, 1)                 33        \n",
      "=================================================================\n",
      "Total params: 1,577,153\n",
      "Trainable params: 1,577,153\n",
      "Non-trainable params: 0\n",
      "_________________________________________________________________\n",
      "Epoch 1/20\n",
      "167/167 [==============================] - 1s 8ms/step - loss: 0.8245 - accuracy: 0.4956 - recall_60: 0.4542 - val_loss: 0.6936 - val_accuracy: 0.5000 - val_recall_60: 1.0000\n",
      "Epoch 2/20\n",
      "167/167 [==============================] - 1s 7ms/step - loss: 0.6974 - accuracy: 0.5048 - recall_60: 0.4421 - val_loss: 0.6932 - val_accuracy: 0.5000 - val_recall_60: 0.0000e+00\n",
      "Epoch 3/20\n",
      "167/167 [==============================] - 1s 6ms/step - loss: 0.6983 - accuracy: 0.4990 - recall_60: 0.4159 - val_loss: 0.6970 - val_accuracy: 0.5000 - val_recall_60: 1.0000\n",
      "Epoch 4/20\n",
      "167/167 [==============================] - 1s 6ms/step - loss: 0.6961 - accuracy: 0.5044 - recall_60: 0.4903 - val_loss: 0.7018 - val_accuracy: 0.5000 - val_recall_60: 0.0000e+00\n",
      "Epoch 5/20\n",
      "167/167 [==============================] - 1s 6ms/step - loss: 0.6965 - accuracy: 0.5052 - recall_60: 0.4622 - val_loss: 0.6932 - val_accuracy: 0.5000 - val_recall_60: 1.0000\n",
      "Epoch 6/20\n",
      "159/167 [===========================>..] - ETA: 0s - loss: 0.6990 - accuracy: 0.5022 - recall_60: 0.4034Restoring model weights from the end of the best epoch.\n",
      "167/167 [==============================] - 1s 6ms/step - loss: 0.6987 - accuracy: 0.5027 - recall_60: 0.3954 - val_loss: 0.6935 - val_accuracy: 0.5000 - val_recall_60: 1.0000\n",
      "Epoch 00006: early stopping\n",
      "84/84 [==============================] - 0s 2ms/step - loss: 0.6928 - accuracy: 0.5126 - recall_60: 1.0000\n",
      "Model: \"sequential_61\"\n",
      "_________________________________________________________________\n",
      "Layer (type)                 Output Shape              Param #   \n",
      "=================================================================\n",
      "dense_181 (Dense)            (None, 128)               1572992   \n",
      "_________________________________________________________________\n",
      "dense_182 (Dense)            (None, 32)                4128      \n",
      "_________________________________________________________________\n",
      "dense_183 (Dense)            (None, 1)                 33        \n",
      "=================================================================\n",
      "Total params: 1,577,153\n",
      "Trainable params: 1,577,153\n",
      "Non-trainable params: 0\n",
      "_________________________________________________________________\n",
      "Epoch 1/20\n",
      "167/167 [==============================] - 1s 8ms/step - loss: 0.7286 - accuracy: 0.5031 - recall_61: 0.5949 - val_loss: 0.6933 - val_accuracy: 0.5000 - val_recall_61: 0.0000e+00\n",
      "Epoch 2/20\n",
      "167/167 [==============================] - 1s 7ms/step - loss: 0.7000 - accuracy: 0.4990 - recall_61: 0.5191 - val_loss: 0.6932 - val_accuracy: 0.5000 - val_recall_61: 0.0000e+00\n",
      "Epoch 3/20\n",
      "167/167 [==============================] - 1s 6ms/step - loss: 0.6980 - accuracy: 0.5005 - recall_61: 0.4389 - val_loss: 0.7039 - val_accuracy: 0.5000 - val_recall_61: 1.0000\n",
      "Epoch 4/20\n",
      "167/167 [==============================] - 1s 7ms/step - loss: 0.6955 - accuracy: 0.5082 - recall_61: 0.4764 - val_loss: 0.6946 - val_accuracy: 0.5000 - val_recall_61: 0.0000e+00\n",
      "Epoch 5/20\n",
      "167/167 [==============================] - 1s 7ms/step - loss: 0.6967 - accuracy: 0.5145 - recall_61: 0.4524 - val_loss: 0.7048 - val_accuracy: 0.5000 - val_recall_61: 0.0000e+00\n",
      "Epoch 6/20\n",
      "159/167 [===========================>..] - ETA: 0s - loss: 0.6986 - accuracy: 0.5012 - recall_61: 0.4671Restoring model weights from the end of the best epoch.\n",
      "167/167 [==============================] - 1s 7ms/step - loss: 0.6986 - accuracy: 0.4999 - recall_61: 0.4902 - val_loss: 0.6930 - val_accuracy: 0.5050 - val_recall_61: 0.0100\n",
      "Epoch 00006: early stopping\n",
      "84/84 [==============================] - 0s 2ms/step - loss: 0.6932 - accuracy: 0.4998 - recall_61: 0.0000e+00\n",
      "Model: \"sequential_62\"\n",
      "_________________________________________________________________\n",
      "Layer (type)                 Output Shape              Param #   \n",
      "=================================================================\n",
      "dense_184 (Dense)            (None, 128)               1572992   \n",
      "_________________________________________________________________\n",
      "dense_185 (Dense)            (None, 32)                4128      \n",
      "_________________________________________________________________\n",
      "dense_186 (Dense)            (None, 1)                 33        \n",
      "=================================================================\n",
      "Total params: 1,577,153\n",
      "Trainable params: 1,577,153\n",
      "Non-trainable params: 0\n",
      "_________________________________________________________________\n",
      "Epoch 1/20\n",
      "167/167 [==============================] - 1s 8ms/step - loss: 0.7071 - accuracy: 0.5019 - recall_62: 0.5520 - val_loss: 0.6998 - val_accuracy: 0.5000 - val_recall_62: 1.0000\n",
      "Epoch 2/20\n",
      "167/167 [==============================] - 1s 6ms/step - loss: 0.6996 - accuracy: 0.5032 - recall_62: 0.6024 - val_loss: 0.6936 - val_accuracy: 0.5000 - val_recall_62: 0.0000e+00\n",
      "Epoch 3/20\n",
      "167/167 [==============================] - 1s 6ms/step - loss: 0.7023 - accuracy: 0.4976 - recall_62: 0.5413 - val_loss: 0.7026 - val_accuracy: 0.5000 - val_recall_62: 0.0000e+00\n",
      "Epoch 4/20\n",
      "167/167 [==============================] - 1s 6ms/step - loss: 0.7018 - accuracy: 0.4993 - recall_62: 0.5268 - val_loss: 0.6996 - val_accuracy: 0.5000 - val_recall_62: 1.0000\n",
      "Epoch 5/20\n",
      "167/167 [==============================] - 1s 6ms/step - loss: 0.7039 - accuracy: 0.4987 - recall_62: 0.5679 - val_loss: 0.6935 - val_accuracy: 0.5000 - val_recall_62: 0.0000e+00\n",
      "Epoch 6/20\n",
      "163/167 [============================>.] - ETA: 0s - loss: 0.6964 - accuracy: 0.5130 - recall_62: 0.4916Restoring model weights from the end of the best epoch.\n",
      "167/167 [==============================] - 1s 6ms/step - loss: 0.6969 - accuracy: 0.5109 - recall_62: 0.4891 - val_loss: 0.7161 - val_accuracy: 0.5000 - val_recall_62: 1.0000\n",
      "Epoch 00006: early stopping\n",
      "84/84 [==============================] - 0s 2ms/step - loss: 0.7027 - accuracy: 0.4876 - recall_62: 1.0000\n",
      "Model: \"sequential_63\"\n",
      "_________________________________________________________________\n",
      "Layer (type)                 Output Shape              Param #   \n",
      "=================================================================\n",
      "dense_187 (Dense)            (None, 64)                786496    \n",
      "_________________________________________________________________\n",
      "dense_188 (Dense)            (None, 32)                2080      \n",
      "_________________________________________________________________\n",
      "dense_189 (Dense)            (None, 1)                 33        \n",
      "=================================================================\n",
      "Total params: 788,609\n",
      "Trainable params: 788,609\n",
      "Non-trainable params: 0\n",
      "_________________________________________________________________\n",
      "Epoch 1/20\n"
     ]
    },
    {
     "name": "stdout",
     "output_type": "stream",
     "text": [
      "167/167 [==============================] - 1s 5ms/step - loss: 0.8215 - accuracy: 0.5008 - recall_63: 0.4239 - val_loss: 0.6938 - val_accuracy: 0.5000 - val_recall_63: 1.0000\n",
      "Epoch 2/20\n",
      "167/167 [==============================] - 1s 4ms/step - loss: 0.6956 - accuracy: 0.5018 - recall_63: 0.4512 - val_loss: 0.6938 - val_accuracy: 0.5000 - val_recall_63: 0.0000e+00\n",
      "Epoch 3/20\n",
      "167/167 [==============================] - 1s 4ms/step - loss: 0.6952 - accuracy: 0.4888 - recall_63: 0.3145 - val_loss: 0.6995 - val_accuracy: 0.5000 - val_recall_63: 1.0000\n",
      "Epoch 4/20\n",
      "167/167 [==============================] - 1s 4ms/step - loss: 0.6956 - accuracy: 0.5018 - recall_63: 0.4877 - val_loss: 0.6957 - val_accuracy: 0.5000 - val_recall_63: 0.0000e+00\n",
      "Epoch 5/20\n",
      "167/167 [==============================] - 1s 4ms/step - loss: 0.6947 - accuracy: 0.5113 - recall_63: 0.3190 - val_loss: 0.6981 - val_accuracy: 0.5000 - val_recall_63: 1.0000\n",
      "Epoch 6/20\n",
      "158/167 [===========================>..] - ETA: 0s - loss: 0.6958 - accuracy: 0.4949 - recall_63: 0.5140Restoring model weights from the end of the best epoch.\n",
      "167/167 [==============================] - 1s 4ms/step - loss: 0.6958 - accuracy: 0.4954 - recall_63: 0.4873 - val_loss: 0.6951 - val_accuracy: 0.5000 - val_recall_63: 0.0000e+00\n",
      "Epoch 00006: early stopping\n",
      "84/84 [==============================] - 0s 2ms/step - loss: 0.6929 - accuracy: 0.5126 - recall_63: 1.0000\n",
      "Model: \"sequential_64\"\n",
      "_________________________________________________________________\n",
      "Layer (type)                 Output Shape              Param #   \n",
      "=================================================================\n",
      "dense_190 (Dense)            (None, 64)                786496    \n",
      "_________________________________________________________________\n",
      "dense_191 (Dense)            (None, 32)                2080      \n",
      "_________________________________________________________________\n",
      "dense_192 (Dense)            (None, 1)                 33        \n",
      "=================================================================\n",
      "Total params: 788,609\n",
      "Trainable params: 788,609\n",
      "Non-trainable params: 0\n",
      "_________________________________________________________________\n",
      "Epoch 1/20\n",
      "167/167 [==============================] - 1s 5ms/step - loss: 0.8066 - accuracy: 0.4950 - recall_64: 0.6290 - val_loss: 0.6932 - val_accuracy: 0.5000 - val_recall_64: 0.0000e+00\n",
      "Epoch 2/20\n",
      "167/167 [==============================] - 1s 4ms/step - loss: 0.6962 - accuracy: 0.5033 - recall_64: 0.4992 - val_loss: 0.6962 - val_accuracy: 0.5000 - val_recall_64: 1.0000\n",
      "Epoch 3/20\n",
      "167/167 [==============================] - 1s 4ms/step - loss: 0.6957 - accuracy: 0.5029 - recall_64: 0.4449 - val_loss: 0.7029 - val_accuracy: 0.5000 - val_recall_64: 1.0000\n",
      "Epoch 4/20\n",
      "167/167 [==============================] - 1s 3ms/step - loss: 0.6958 - accuracy: 0.4978 - recall_64: 0.5079 - val_loss: 0.6943 - val_accuracy: 0.5000 - val_recall_64: 0.0000e+00\n",
      "Epoch 5/20\n",
      "167/167 [==============================] - 1s 4ms/step - loss: 0.6952 - accuracy: 0.5055 - recall_64: 0.4295 - val_loss: 0.6945 - val_accuracy: 0.5000 - val_recall_64: 1.0000\n",
      "Epoch 6/20\n",
      "155/167 [==========================>...] - ETA: 0s - loss: 0.6950 - accuracy: 0.4847 - recall_64: 0.4429Restoring model weights from the end of the best epoch.\n",
      "167/167 [==============================] - 1s 4ms/step - loss: 0.6949 - accuracy: 0.4870 - recall_64: 0.4130 - val_loss: 0.6934 - val_accuracy: 0.5000 - val_recall_64: 0.0000e+00\n",
      "Epoch 00006: early stopping\n",
      "84/84 [==============================] - 0s 2ms/step - loss: 0.6932 - accuracy: 0.4998 - recall_64: 0.0000e+00\n",
      "Model: \"sequential_65\"\n",
      "_________________________________________________________________\n",
      "Layer (type)                 Output Shape              Param #   \n",
      "=================================================================\n",
      "dense_193 (Dense)            (None, 64)                786496    \n",
      "_________________________________________________________________\n",
      "dense_194 (Dense)            (None, 32)                2080      \n",
      "_________________________________________________________________\n",
      "dense_195 (Dense)            (None, 1)                 33        \n",
      "=================================================================\n",
      "Total params: 788,609\n",
      "Trainable params: 788,609\n",
      "Non-trainable params: 0\n",
      "_________________________________________________________________\n",
      "Epoch 1/20\n",
      "167/167 [==============================] - 1s 5ms/step - loss: 0.7060 - accuracy: 0.5109 - recall_65: 0.5616 - val_loss: 0.6942 - val_accuracy: 0.5000 - val_recall_65: 1.0000\n",
      "Epoch 2/20\n",
      "167/167 [==============================] - 1s 4ms/step - loss: 0.6959 - accuracy: 0.4949 - recall_65: 0.5187 - val_loss: 0.6936 - val_accuracy: 0.5000 - val_recall_65: 0.0000e+00\n",
      "Epoch 3/20\n",
      "167/167 [==============================] - 1s 4ms/step - loss: 0.6951 - accuracy: 0.5026 - recall_65: 0.5850 - val_loss: 0.6931 - val_accuracy: 0.5000 - val_recall_65: 0.0000e+00\n",
      "Epoch 4/20\n",
      "167/167 [==============================] - 1s 4ms/step - loss: 0.6948 - accuracy: 0.4929 - recall_65: 0.4498 - val_loss: 0.6959 - val_accuracy: 0.5000 - val_recall_65: 0.0000e+00\n",
      "Epoch 5/20\n",
      "167/167 [==============================] - 1s 4ms/step - loss: 0.6952 - accuracy: 0.4886 - recall_65: 0.6627 - val_loss: 0.6933 - val_accuracy: 0.4975 - val_recall_65: 0.9950\n",
      "Epoch 6/20\n",
      "161/167 [===========================>..] - ETA: 0s - loss: 0.6945 - accuracy: 0.5031 - recall_65: 0.6407Restoring model weights from the end of the best epoch.\n",
      "167/167 [==============================] - 1s 4ms/step - loss: 0.6943 - accuracy: 0.5054 - recall_65: 0.6546 - val_loss: 0.6935 - val_accuracy: 0.5000 - val_recall_65: 1.0000\n",
      "Epoch 00006: early stopping\n",
      "84/84 [==============================] - 0s 2ms/step - loss: 0.6954 - accuracy: 0.4872 - recall_65: 1.0000\n",
      "Model: \"sequential_66\"\n",
      "_________________________________________________________________\n",
      "Layer (type)                 Output Shape              Param #   \n",
      "=================================================================\n",
      "dense_196 (Dense)            (None, 128)               1572992   \n",
      "_________________________________________________________________\n",
      "dense_197 (Dense)            (None, 32)                4128      \n",
      "_________________________________________________________________\n",
      "dense_198 (Dense)            (None, 1)                 33        \n",
      "=================================================================\n",
      "Total params: 1,577,153\n",
      "Trainable params: 1,577,153\n",
      "Non-trainable params: 0\n",
      "_________________________________________________________________\n",
      "Epoch 1/20\n",
      "167/167 [==============================] - 1s 7ms/step - loss: 0.8355 - accuracy: 0.4956 - recall_66: 0.4064 - val_loss: 0.6935 - val_accuracy: 0.5000 - val_recall_66: 1.0000\n",
      "Epoch 2/20\n",
      "167/167 [==============================] - 1s 6ms/step - loss: 0.6944 - accuracy: 0.5029 - recall_66: 0.4159 - val_loss: 0.6936 - val_accuracy: 0.5000 - val_recall_66: 0.0000e+00\n",
      "Epoch 3/20\n",
      "167/167 [==============================] - 1s 6ms/step - loss: 0.6939 - accuracy: 0.5001 - recall_66: 0.1314 - val_loss: 0.6941 - val_accuracy: 0.5000 - val_recall_66: 1.0000\n",
      "Epoch 4/20\n",
      "167/167 [==============================] - 1s 6ms/step - loss: 0.6943 - accuracy: 0.4977 - recall_66: 0.5503 - val_loss: 0.6940 - val_accuracy: 0.5000 - val_recall_66: 0.0000e+00\n",
      "Epoch 5/20\n",
      "167/167 [==============================] - 1s 6ms/step - loss: 0.6935 - accuracy: 0.5136 - recall_66: 0.2241 - val_loss: 0.6961 - val_accuracy: 0.5000 - val_recall_66: 1.0000\n",
      "Epoch 6/20\n",
      "163/167 [============================>.] - ETA: 0s - loss: 0.6944 - accuracy: 0.4895 - recall_66: 0.4053Restoring model weights from the end of the best epoch.\n",
      "167/167 [==============================] - 1s 6ms/step - loss: 0.6945 - accuracy: 0.4890 - recall_66: 0.3957 - val_loss: 0.6937 - val_accuracy: 0.5000 - val_recall_66: 0.0000e+00\n",
      "Epoch 00006: early stopping\n",
      "84/84 [==============================] - 0s 2ms/step - loss: 0.6928 - accuracy: 0.5126 - recall_66: 1.0000\n",
      "Model: \"sequential_67\"\n",
      "_________________________________________________________________\n",
      "Layer (type)                 Output Shape              Param #   \n",
      "=================================================================\n",
      "dense_199 (Dense)            (None, 128)               1572992   \n",
      "_________________________________________________________________\n",
      "dense_200 (Dense)            (None, 32)                4128      \n",
      "_________________________________________________________________\n",
      "dense_201 (Dense)            (None, 1)                 33        \n",
      "=================================================================\n",
      "Total params: 1,577,153\n",
      "Trainable params: 1,577,153\n",
      "Non-trainable params: 0\n",
      "_________________________________________________________________\n",
      "Epoch 1/20\n"
     ]
    },
    {
     "name": "stdout",
     "output_type": "stream",
     "text": [
      "167/167 [==============================] - 1s 7ms/step - loss: 0.7250 - accuracy: 0.4853 - recall_67: 0.4407 - val_loss: 0.6936 - val_accuracy: 0.5000 - val_recall_67: 1.0000\n",
      "Epoch 2/20\n",
      "167/167 [==============================] - 1s 6ms/step - loss: 0.6945 - accuracy: 0.4997 - recall_67: 0.3882 - val_loss: 0.6939 - val_accuracy: 0.5000 - val_recall_67: 1.0000\n",
      "Epoch 3/20\n",
      "167/167 [==============================] - 1s 6ms/step - loss: 0.6939 - accuracy: 0.5074 - recall_67: 0.6245 - val_loss: 0.6938 - val_accuracy: 0.5000 - val_recall_67: 1.0000\n",
      "Epoch 4/20\n",
      "167/167 [==============================] - 1s 6ms/step - loss: 0.6934 - accuracy: 0.5046 - recall_67: 0.6230 - val_loss: 0.6951 - val_accuracy: 0.5000 - val_recall_67: 0.0000e+00\n",
      "Epoch 5/20\n",
      "167/167 [==============================] - 1s 6ms/step - loss: 0.6941 - accuracy: 0.4950 - recall_67: 0.4670 - val_loss: 0.6967 - val_accuracy: 0.5000 - val_recall_67: 1.0000\n",
      "Epoch 6/20\n",
      "163/167 [============================>.] - ETA: 0s - loss: 0.6940 - accuracy: 0.4990 - recall_67: 0.5267Restoring model weights from the end of the best epoch.\n",
      "167/167 [==============================] - 1s 6ms/step - loss: 0.6940 - accuracy: 0.4990 - recall_67: 0.5150 - val_loss: 0.6933 - val_accuracy: 0.5000 - val_recall_67: 0.0000e+00\n",
      "Epoch 00006: early stopping\n",
      "84/84 [==============================] - 0s 2ms/step - loss: 0.6935 - accuracy: 0.5002 - recall_67: 1.0000\n",
      "Model: \"sequential_68\"\n",
      "_________________________________________________________________\n",
      "Layer (type)                 Output Shape              Param #   \n",
      "=================================================================\n",
      "dense_202 (Dense)            (None, 128)               1572992   \n",
      "_________________________________________________________________\n",
      "dense_203 (Dense)            (None, 32)                4128      \n",
      "_________________________________________________________________\n",
      "dense_204 (Dense)            (None, 1)                 33        \n",
      "=================================================================\n",
      "Total params: 1,577,153\n",
      "Trainable params: 1,577,153\n",
      "Non-trainable params: 0\n",
      "_________________________________________________________________\n",
      "Epoch 1/20\n",
      "167/167 [==============================] - 1s 8ms/step - loss: 0.7004 - accuracy: 0.5060 - recall_68: 0.5305 - val_loss: 0.6933 - val_accuracy: 0.5000 - val_recall_68: 1.0000\n",
      "Epoch 2/20\n",
      "167/167 [==============================] - 1s 7ms/step - loss: 0.6946 - accuracy: 0.5030 - recall_68: 0.5598 - val_loss: 0.6932 - val_accuracy: 0.5000 - val_recall_68: 0.0000e+00\n",
      "Epoch 3/20\n",
      "167/167 [==============================] - 1s 7ms/step - loss: 0.6940 - accuracy: 0.5015 - recall_68: 0.7364 - val_loss: 0.6933 - val_accuracy: 0.5000 - val_recall_68: 0.0000e+00\n",
      "Epoch 4/20\n",
      "167/167 [==============================] - 1s 7ms/step - loss: 0.6936 - accuracy: 0.5036 - recall_68: 0.5728 - val_loss: 0.6948 - val_accuracy: 0.5000 - val_recall_68: 0.0000e+00\n",
      "Epoch 5/20\n",
      "167/167 [==============================] - 1s 7ms/step - loss: 0.6940 - accuracy: 0.4970 - recall_68: 0.5524 - val_loss: 0.6932 - val_accuracy: 0.5000 - val_recall_68: 1.0000\n",
      "Epoch 6/20\n",
      "165/167 [============================>.] - ETA: 0s - loss: 0.6937 - accuracy: 0.5032 - recall_68: 0.7215Restoring model weights from the end of the best epoch.\n",
      "167/167 [==============================] - 1s 7ms/step - loss: 0.6938 - accuracy: 0.5030 - recall_68: 0.7242 - val_loss: 0.6939 - val_accuracy: 0.5000 - val_recall_68: 1.0000\n",
      "Epoch 00006: early stopping\n",
      "84/84 [==============================] - 0s 2ms/step - loss: 0.6939 - accuracy: 0.4872 - recall_68: 1.0000\n",
      "Model: \"sequential_69\"\n",
      "_________________________________________________________________\n",
      "Layer (type)                 Output Shape              Param #   \n",
      "=================================================================\n",
      "dense_205 (Dense)            (None, 64)                786496    \n",
      "_________________________________________________________________\n",
      "dense_206 (Dense)            (None, 32)                2080      \n",
      "_________________________________________________________________\n",
      "dense_207 (Dense)            (None, 1)                 33        \n",
      "=================================================================\n",
      "Total params: 788,609\n",
      "Trainable params: 788,609\n",
      "Non-trainable params: 0\n",
      "_________________________________________________________________\n",
      "Epoch 1/20\n",
      "250/250 [==============================] - 1s 4ms/step - loss: 0.8134 - accuracy: 0.5328 - recall_69: 0.5305 - val_loss: 0.6874 - val_accuracy: 0.5600 - val_recall_69: 0.7750\n",
      "Epoch 2/20\n",
      "250/250 [==============================] - 1s 3ms/step - loss: 0.6782 - accuracy: 0.5724 - recall_69: 0.5725 - val_loss: 0.6676 - val_accuracy: 0.5700 - val_recall_69: 0.5050\n",
      "Epoch 3/20\n",
      "250/250 [==============================] - 1s 3ms/step - loss: 0.6770 - accuracy: 0.5745 - recall_69: 0.5773 - val_loss: 0.6812 - val_accuracy: 0.5475 - val_recall_69: 0.2550\n",
      "Epoch 4/20\n",
      "250/250 [==============================] - 1s 3ms/step - loss: 0.6736 - accuracy: 0.5775 - recall_69: 0.5635 - val_loss: 0.6741 - val_accuracy: 0.5800 - val_recall_69: 0.8150\n",
      "Epoch 5/20\n",
      "250/250 [==============================] - 1s 4ms/step - loss: 0.6652 - accuracy: 0.5934 - recall_69: 0.5932 - val_loss: 0.6688 - val_accuracy: 0.5700 - val_recall_69: 0.6700\n",
      "Epoch 6/20\n",
      "244/250 [============================>.] - ETA: 0s - loss: 0.6624 - accuracy: 0.6078 - recall_69: 0.6027Restoring model weights from the end of the best epoch.\n",
      "250/250 [==============================] - 1s 4ms/step - loss: 0.6625 - accuracy: 0.6076 - recall_69: 0.6000 - val_loss: 0.7032 - val_accuracy: 0.5575 - val_recall_69: 0.4000\n",
      "Epoch 00006: early stopping\n",
      "------------------------------------------------------------\n",
      "[i] MODEL CREATED AT 10/23/20 - 13:30:54 PM\n",
      "------------------------------------------------------------\n",
      "\n",
      "Model: \"sequential_70\"\n",
      "_________________________________________________________________\n",
      "Layer (type)                 Output Shape              Param #   \n",
      "=================================================================\n",
      "dense_208 (Dense)            (None, 64)                786496    \n",
      "_________________________________________________________________\n",
      "dense_209 (Dense)            (None, 32)                2080      \n",
      "_________________________________________________________________\n",
      "dense_210 (Dense)            (None, 1)                 33        \n",
      "=================================================================\n",
      "Total params: 788,609\n",
      "Trainable params: 788,609\n",
      "Non-trainable params: 0\n",
      "_________________________________________________________________\n",
      "Epoch 1/20\n",
      "250/250 [==============================] - 1s 5ms/step - loss: 0.7715 - accuracy: 0.5357 - recall_70: 0.5450 - val_loss: 0.6817 - val_accuracy: 0.5550 - val_recall_70: 0.3900\n",
      "Epoch 2/20\n",
      "250/250 [==============================] - 1s 4ms/step - loss: 0.6842 - accuracy: 0.5724 - recall_70: 0.5660 - val_loss: 0.6717 - val_accuracy: 0.5675 - val_recall_70: 0.3950\n",
      "Epoch 3/20\n",
      "250/250 [==============================] - 1s 4ms/step - loss: 0.6876 - accuracy: 0.5769 - recall_70: 0.5757 - val_loss: 0.7042 - val_accuracy: 0.5600 - val_recall_70: 0.8500\n",
      "Epoch 4/20\n",
      "250/250 [==============================] - 1s 4ms/step - loss: 0.6894 - accuracy: 0.5723 - recall_70: 0.5698 - val_loss: 0.7482 - val_accuracy: 0.5175 - val_recall_70: 0.9450\n",
      "Epoch 5/20\n",
      "250/250 [==============================] - 1s 4ms/step - loss: 0.6659 - accuracy: 0.5945 - recall_70: 0.6020 - val_loss: 0.6866 - val_accuracy: 0.5425 - val_recall_70: 0.1650\n",
      "Epoch 6/20\n",
      "248/250 [============================>.] - ETA: 0s - loss: 0.6556 - accuracy: 0.6086 - recall_70: 0.6166Restoring model weights from the end of the best epoch.\n",
      "250/250 [==============================] - 1s 4ms/step - loss: 0.6559 - accuracy: 0.6083 - recall_70: 0.6135 - val_loss: 0.7027 - val_accuracy: 0.5525 - val_recall_70: 0.3250\n",
      "Epoch 00006: early stopping\n",
      "\n",
      "------------------------------------------------------------\n",
      "\n",
      "[!] Training Completed AT 10/23/20 - 13:31:01 PM\n",
      "\n"
     ]
    },
    {
     "data": {
      "image/png": "[encoded data removed]",
      "text/plain": [
       "<Figure size 432x288 with 1 Axes>"
      ]
     },
     "metadata": {
      "needs_background": "light"
     },
     "output_type": "display_data"
    },
    {
     "data": {
      "image/png": "[encoded data removed]",
      "text/plain": [
       "<Figure size 432x288 with 1 Axes>"
      ]
     },
     "metadata": {
      "needs_background": "light"
     },
     "output_type": "display_data"
    },
    {
     "name": "stdout",
     "output_type": "stream",
     "text": [
      "------------------------------------------------------------\n",
      "------------------------------------------------------------\n",
      "[i] Classification Report\n",
      "              precision    recall  f1-score   support\n",
      "\n",
      "         cat       0.56      0.76      0.65       800\n",
      "         dog       0.63      0.41      0.50       800\n",
      "\n",
      "    accuracy                           0.59      1600\n",
      "   macro avg       0.60      0.59      0.57      1600\n",
      "weighted avg       0.60      0.59      0.57      1600\n",
      "\n"
     ]
    },
    {
     "data": {
      "image/png": "[encoded data removed]",
      "text/plain": [
       "<Figure size 288x288 with 2 Axes>"
      ]
     },
     "metadata": {
      "needs_background": "light"
     },
     "output_type": "display_data"
    },
    {
     "name": "stdout",
     "output_type": "stream",
     "text": [
      "\n",
      "[i] Total Training Time: 0:00:06.904441\n",
      "------------------------------------------------------------\n"
     ]
    },
    {
     "data": {
      "text/plain": [
       "<tensorflow.python.keras.wrappers.scikit_learn.KerasClassifier at 0x7ff4c082e860>"
      ]
     },
     "execution_count": 44,
     "metadata": {},
     "output_type": "execute_result"
    }
   ],
   "source": [
    "from tensorflow.keras.wrappers.scikit_learn import KerasClassifier\n",
    "from sklearn.model_selection import GridSearchCV\n",
    "\n",
    "fit_kws=dict(epochs=20,validation_data=(X_val_unrow,y_val))\n",
    "\n",
    "\n",
    "sk_model = KerasClassifier(make_model_to_tune)\n",
    "\n",
    "params = {'n_hidden_units':[(64,32),(128,32)],\n",
    "         'act_func1':['relu',tf.keras.layers.LeakyReLU(),'tanh'],\n",
    "          'act_func2':['relu',tf.keras.layers.LeakyReLU(),'tanh']}\n",
    "\n",
    "gridsearch = GridSearchCV(sk_model,params,cv=3)\n",
    "gridsearch.fit(X_train_unrow, y_train,**fit_kws,callbacks=make_callbacks())\n",
    "make_fit_evaluate_model(gridsearch.best_estimator_)"
   ]
  },
  {
   "cell_type": "code",
   "execution_count": 45,
   "metadata": {
    "ExecuteTime": {
     "end_time": "2020-10-23T17:44:52.291877Z",
     "start_time": "2020-10-23T17:44:52.287802Z"
    }
   },
   "outputs": [
    {
     "data": {
      "text/plain": [
       "{'act_func1': 'relu', 'act_func2': 'relu', 'n_hidden_units': (64, 32)}"
      ]
     },
     "execution_count": 45,
     "metadata": {},
     "output_type": "execute_result"
    }
   ],
   "source": [
    "gridsearch.best_params_"
   ]
  },
  {
   "cell_type": "markdown",
   "metadata": {
    "heading_collapsed": true
   },
   "source": [
    "## APPENDIX/HOW-TOs:"
   ]
  },
  {
   "cell_type": "markdown",
   "metadata": {},
   "source": [
    "## How to Make a Custom Scoring Function"
   ]
  },
  {
   "cell_type": "markdown",
   "metadata": {},
   "source": [
    "1. **Why would you do this?**\n",
    "    1. You may want to use a metric that isn't available in sklearn. \n",
    "        - In the included `my_custom_scorer` function, I take the accuracy of each class's predictions from the diagonal of a normalized confusion matrix. \n",
    "        - I then calculate the mean of those 3 class accuracies, which is the `score` that is returned to the gridsearch. \n",
    "        \n",
    "    2. You may want to add a printout or display to the scoring function so you can see the results as the search is going.\n",
    "<br><br>\n",
    "2. **How do you do write your own?**\n",
    "    1. Define your custom scoring function.\n",
    "        - It must accept `y_true`,`y_pred`\n",
    "        - It must return a value to maximize. (like accuracy)\n",
    "    2. You can add print or display commands to have the scoring function report the current results as the gridsearch is still going.\n",
    "        - If you combine this with the example `create_model` function above that includes the `vars=locals(); print(vars)` command, then gridsearch will display:\n",
    "            1. the parameters of each model (each time the `create_model` function is called.\n",
    "            2. The score of each model, including a confusion matrix figure (each time it calls `my_custom_scorer`).\n",
    "        \n",
    "```python\n",
    "def my_custom_scorer(y_true,y_pred):\n",
    "    \"\"\"My custom score function to use with sklearn's GridSearchCV\n",
    "    Maximizes the average accuracy per class using a normalized confusion matrix\"\"\"\n",
    "    from sklearn.metrics import confusion_matrix\n",
    "    import numpy as np\n",
    "    import functions_combined_BEST as ji    \n",
    "\n",
    "    ## Flatten one-hot encoded target columns into 1 column for sklearn functions\n",
    "    if y_true.ndim>1 or y_pred.ndim>1:\n",
    "        \n",
    "        ## reduce dimensions of y_train and y_test\n",
    "        if y_true.ndim>1:            \n",
    "            y_true = y_true.argmax(axis=1)\n",
    "        \n",
    "        if y_pred.ndim>1:\n",
    "            y_pred = y_pred.argmax(axis=1)\n",
    "\n",
    "    \n",
    "     # Get confusion matrx\n",
    "    cm = confusion_matrix(y_true, y_pred)\n",
    "\n",
    "    # Normalize confusion matrix\n",
    "    cm_norm = cm.astype('float')/cm.sum(axis=1)[:,np.newaxis]\n",
    "\n",
    "    ## Get diagonals for class accuracy\n",
    "    diag = cm_norm.diagonal()\n",
    "    \n",
    "    # Get the mean of the diagonal values\n",
    "    score = np.mean(diag)\n",
    "    \n",
    "    ## Display Results for the User\n",
    "    print(f'Mean Class Accuracy = {score}')\n",
    "    print(f'Class Accuracy Values:')\n",
    "    print(diag)    \n",
    "\n",
    "    ## Plot the confusion matrix.\n",
    "    ji.plot_confusion_matrix(cm,normalize=True)\n",
    "\n",
    "    # return the score \n",
    "    return score\n",
    "```        \n",
    "        \n",
    "        \n",
    "3. **How do you use it?**\n",
    "    - When instantiating GridSearchCV pass your function as the `scoring=` parameter, wrapped in the  `sklearn.metrics.make_scorer` function.\n",
    "  \n",
    "\n",
    "```python\n",
    "## Using custom scoring function\n",
    "from sklearn.metrics import make_scorer\n",
    "\n",
    "grid = GridSearchCV(estimator=neural_network, \n",
    "                    param_grid=params_to_test,\n",
    "                   scoring=make_scorer(my_custom_scorer))\n",
    "                    \n",
    "grid_result = grid.fit(X_train, y_train)\n",
    "```"
   ]
  },
  {
   "cell_type": "code",
   "execution_count": null,
   "metadata": {},
   "outputs": [],
   "source": []
  },
  {
   "cell_type": "markdown",
   "metadata": {},
   "source": [
    "# APPENDIX"
   ]
  },
  {
   "cell_type": "markdown",
   "metadata": {
    "ExecuteTime": {
     "end_time": "2020-10-23T15:46:09.911414Z",
     "start_time": "2020-10-23T15:46:09.909226Z"
    }
   },
   "source": [
    "## Older Functions"
   ]
  },
  {
   "cell_type": "code",
   "execution_count": null,
   "metadata": {},
   "outputs": [],
   "source": [
    "stop"
   ]
  },
  {
   "cell_type": "code",
   "execution_count": null,
   "metadata": {},
   "outputs": [],
   "source": []
  },
  {
   "cell_type": "code",
   "execution_count": null,
   "metadata": {
    "ExecuteTime": {
     "end_time": "2020-10-23T15:28:03.675963Z",
     "start_time": "2020-10-23T15:26:54.901Z"
    }
   },
   "outputs": [],
   "source": [
    "def create_checkpoint(monitor,model_subfolder=\"\"):#='Datasets/Models/cat_vs_dog/'):\n",
    "    \n",
    "    checkpoint = ModelCheckpoint(filepath, monitor=monitor, verbose=1, save_best_only=True, mode='max')\n",
    "    return checkpoint\n",
    "\n",
    "def create_early_stopping(monitor = 'val_accuracy',min_delta = 0.05, patience = 3,\n",
    "                          verbose = 1, restore_best_weights = True):\n",
    "\n",
    "    args = locals()\n",
    "    earlystop = EarlyStopping(**args)\n",
    "    return earlystop\n",
    "\n",
    "\n",
    "def get_callbacks(early_stop_kws={}, checkpoint_kws={}):\n",
    "    model_subfolder=base_folder+'Models/'\n",
    "    os.makedirs(model_subfolder,exist_ok=True)\n",
    "\n",
    "    callbacks_list = [create_checkpoint('val_accuracy',\n",
    "                                        model_subfolder=model_subfolder,**checkpoint_kws),\n",
    "                      create_early_stopping(**early_stop_kws)]\n",
    "    return callbacks_list"
   ]
  },
  {
   "cell_type": "code",
   "execution_count": 46,
   "metadata": {
    "ExecuteTime": {
     "end_time": "2020-10-23T15:37:09.760983Z",
     "start_time": "2020-10-23T15:37:09.741963Z"
    },
    "code_folding": [
     0
    ]
   },
   "outputs": [],
   "source": [
    "def plot_keras_history(history,figsize_1=(6,4),\n",
    "    figsize_2=(8,6)):\n",
    "    \"\"\"Plots keras history and returns fig\"\"\"\n",
    "    ## Make a df from history\n",
    "    plot_df = pd.DataFrame(history.history)\n",
    "    plot_df['Epoch'] = range(1,len(plot_df)+1)\n",
    "    plot_df.set_index('Epoch',inplace=True)\n",
    "    ## Get cols for acc vs loss\n",
    "    acc_cols = list(filter(lambda x: 'acc' in x, plot_df.columns))\n",
    "    loss_cols = list(filter(lambda x: 'loss' in x, plot_df.columns))   \n",
    "    \n",
    "    ## Set figsizes based on number of keys\n",
    "    if len(acc_cols)>1:\n",
    "        figsize=figsize_2\n",
    "    else:\n",
    "        figsize=figsize_1\n",
    "\n",
    "    ## Make figure and axes\n",
    "    fig,ax = plt.subplots(nrows=2,figsize=figsize,sharex=True)\n",
    "    \n",
    "    ## Plot Accuracy cols in plot 1\n",
    "    plot_df[acc_cols].plot(ax=ax[0])\n",
    "    ax[0].set(ylabel='Accuracy')\n",
    "    ax[0].set_title('Training Results')\n",
    "\n",
    "    ## Plot loss cols in plot 2\n",
    "    plot_df[loss_cols].plot(ax=ax[1])\n",
    "    ax[1].set(ylabel='Loss')\n",
    "    ax[1].set_xlabel('Epoch #')\n",
    "\n",
    "\n",
    "    ## Change xaxis locators \n",
    "    [a.xaxis.set_major_locator(mpl.ticker.MaxNLocator(len(plot_df),integer=True)) for a in ax]\n",
    "    [a.set_xlim((1,len(plot_df)+1)) for a in ax]\n",
    "    plt.tight_layout()\n",
    "    \n",
    "    return fig"
   ]
  }
 ],
 "metadata": {
  "colab": {
   "collapsed_sections": [],
   "name": "Copy of James' Study Group Notes - Section 41-42 (condensed version).ipynb",
   "provenance": []
  },
  "kernelspec": {
   "display_name": "Python [conda env:learn-env] *",
   "language": "python",
   "name": "conda-env-learn-env-py"
  },
  "language_info": {
   "codemirror_mode": {
    "name": "ipython",
    "version": 3
   },
   "file_extension": ".py",
   "mimetype": "text/x-python",
   "name": "python",
   "nbconvert_exporter": "python",
   "pygments_lexer": "ipython3",
   "version": "3.6.11"
  },
  "toc": {
   "base_numbering": 1,
   "nav_menu": {},
   "number_sections": false,
   "sideBar": true,
   "skip_h1_title": false,
   "title_cell": "Table of Contents",
   "title_sidebar": "Contents",
   "toc_cell": false,
   "toc_position": {
    "height": "calc(100% - 180px)",
    "left": "10px",
    "top": "150px",
    "width": "256px"
   },
   "toc_section_display": true,
   "toc_window_display": true
  }
 },
 "nbformat": 4,
 "nbformat_minor": 1
}
