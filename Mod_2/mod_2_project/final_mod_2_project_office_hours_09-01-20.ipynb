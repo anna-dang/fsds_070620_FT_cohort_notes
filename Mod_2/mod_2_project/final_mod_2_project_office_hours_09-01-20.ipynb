{
 "cells": [
  {
   "cell_type": "markdown",
   "metadata": {},
   "source": [
    "# Mod 2 Project Final Office Hours"
   ]
  },
  {
   "cell_type": "markdown",
   "metadata": {},
   "source": [
    "- online-ds-ft-070620\n",
    "- 09/01/20"
   ]
  },
  {
   "cell_type": "markdown",
   "metadata": {},
   "source": [
    "## Topics"
   ]
  },
  {
   "cell_type": "markdown",
   "metadata": {},
   "source": [
    "- **Announcements:**\n",
    "    - Mod 2 project deadlines and scheduling reviews.\n",
    "    - 🎉BREAK WEEK 🎉 \n",
    "    - End of Mod Survey\n",
    "    - Module 3 deployed"
   ]
  },
  {
   "cell_type": "markdown",
   "metadata": {},
   "source": [
    "- **Project-Related How-tos:**\n",
    "    - Writing your README\n",
    "    - Example README.mds\n",
    "    - Model validation for regression"
   ]
  },
  {
   "cell_type": "markdown",
   "metadata": {},
   "source": [
    "# ANNOUNCEMENTS"
   ]
  },
  {
   "cell_type": "markdown",
   "metadata": {},
   "source": [
    "## 🚨Mod 2 Project Deadlines and Reviews🚨"
   ]
  },
  {
   "cell_type": "markdown",
   "metadata": {},
   "source": [
    "- **Schedule your project review ASAP** for the **FIRST week (09/07-09/12)** we are back from break.\n",
    "  - [https://go.oncehub.com/OfficeHoursfor070620FT](https://go.oncehub.com/OfficeHoursfor070620FT)\n",
    "  - <div style=color:red;font-weight:bold>IF THERE ARE NO TIMESLOTS LEFT FOR THAT MESSAGE ME DIRECTLY ON SLACK.</div>\n",
    "  \n",
    " "
   ]
  },
  {
   "cell_type": "markdown",
   "metadata": {},
   "source": [
    " ### Review Schedule Timeline\n",
    "- **Week one (09/07-09/12) is for first reviews.**\n",
    "- **Week two (09/14-09/18) will be for** ***follow-up reviews only***.\n",
    "\n",
    "\n",
    "- **The HARD deadline for passing your project review is Friday 09/18**"
   ]
  },
  {
   "cell_type": "markdown",
   "metadata": {},
   "source": [
    "## 🎉BREAK WEEK🎉  (08/31 - 09/05)"
   ]
  },
  {
   "cell_type": "markdown",
   "metadata": {},
   "source": [
    "- **Reminder: we will be on break for this week 08/31 - 09/05/20**\n",
    "  - This means:\n",
    "    - No study group\n",
    "    - No one-on-ones. \n",
    "    - No project reviews. \n",
    "- **Enjoy the extra time to polish your projects and** ***relax!***\n"
   ]
  },
  {
   "cell_type": "markdown",
   "metadata": {},
   "source": [
    "## Module 3 Starts Next Week!\n"
   ]
  },
  {
   "cell_type": "markdown",
   "metadata": {},
   "source": [
    "- Module 3  was deployed over the weekend\n",
    "\n",
    "- Our first study group on mod 3 will be after break:\n",
    "    - Section 21: Object Oriented Programming\n",
    "    - Section 22: Linear Algebra\n",
    "    - Section 23: Calculus, and Gradient Descent"
   ]
  },
  {
   "cell_type": "markdown",
   "metadata": {},
   "source": [
    "# Project How-To's:"
   ]
  },
  {
   "cell_type": "markdown",
   "metadata": {},
   "source": [
    "## 1A. Writing your README"
   ]
  },
  {
   "cell_type": "markdown",
   "metadata": {},
   "source": [
    "> **From now on we must go a step beyond just exporting the notebook to be your `README.md`**"
   ]
  },
  {
   "cell_type": "markdown",
   "metadata": {},
   "source": [
    "> **I RECOMMEND THIS TEMPLATE AND VIDEO ON DATA SCIENCE PROJECT READMEs**\n",
    "- [Flatiron YouTube Video: Writing a Data Science Project README](https://www.youtube.com/watch?v=RDrZHJa1raw&list=PLFknVelSJiSw5mJOlowsVjwQM_iu1OROt&index=32&t=0s)\n",
    "- [README template file on GitHub:](https://gist.github.com/MrGeislinger/4aaadde4de7d95331547f8bdf86d5313)"
   ]
  },
  {
   "cell_type": "markdown",
   "metadata": {},
   "source": [
    "> - If you checked the resources linked abova and still don't know how to get started, I recommend composing your README using your introduction/interpretations/conclusions sections from your notebook.\n",
    "\n",
    "\n",
    "- **To export your figures for your README there are several options:**\n",
    "    - Save your figures manually (right click >save image as)\n",
    "    - OR programming using [matplotlib's `plt.savefig` function](https://matplotlib.org/3.1.1/api/_as_gen/matplotlib.pyplot.savefig.html)\n",
    "    - OR export your notebook to a .md file in order to get the .zip file with all of your output images. "
   ]
  },
  {
   "cell_type": "markdown",
   "metadata": {},
   "source": [
    "## 1B. Example READMEs"
   ]
  },
  {
   "cell_type": "markdown",
   "metadata": {},
   "source": [
    "### **Best Mod 2 Project Example Student READMEs/Notebooks:**\n",
    ">- For READMEs:\n",
    "    - https://github.com/collinloo/M2_FinalProject\n",
    "    - https://github.com/NehaP92/dsc-mod-2-project-online-pt-041320\n",
    "    \n",
    "    \n",
    "- For Notebook Comments/Observations (AAA)\n",
    "    - **[Best Notebook (Rendered)](https://nbviewer.jupyter.org/github/collinloo/M2_FinalProject/blob/master/collinloo_M2FP.ipynb)**\n",
    "    "
   ]
  },
  {
   "cell_type": "markdown",
   "metadata": {},
   "source": [
    "### Additional README Examples"
   ]
  },
  {
   "cell_type": "markdown",
   "metadata": {},
   "source": [
    "- Student Mod 1 Project READMEs:\n",
    "    - https://github.com/xinegan88/the-winning-formula\n",
    "    - https://github.com/shsobieski/Build-a-Better-Blockbuster\n",
    "    \n",
    "\n",
    "    \n",
    "\n",
    "- Capstone READMEs:\n",
    "    - Mine (partrially incomplete - no final model metrics):\n",
    "        - https://github.com/jirvingphd/dsc-5-capstone-project-online-ds-ft-021119\n",
    "    - https://github.com/lpilossoph/Capstone-Project"
   ]
  },
  {
   "cell_type": "markdown",
   "metadata": {},
   "source": [
    "## 2. Model Validation for Mod 2 Project"
   ]
  },
  {
   "cell_type": "markdown",
   "metadata": {},
   "source": [
    "- I **do not** require **cross**-validation of your final models.\n",
    "- I **will** ask you to use `train_test_split` and validate your model by comparing the model R2 of the training data vs the test data."
   ]
  },
  {
   "cell_type": "code",
   "execution_count": 1,
   "metadata": {
    "ExecuteTime": {
     "end_time": "2020-07-31T22:52:19.634062Z",
     "start_time": "2020-07-31T22:52:18.195919Z"
    }
   },
   "outputs": [
    {
     "data": {
      "text/html": [
       "<div>\n",
       "<style scoped>\n",
       "    .dataframe tbody tr th:only-of-type {\n",
       "        vertical-align: middle;\n",
       "    }\n",
       "\n",
       "    .dataframe tbody tr th {\n",
       "        vertical-align: top;\n",
       "    }\n",
       "\n",
       "    .dataframe thead th {\n",
       "        text-align: right;\n",
       "    }\n",
       "</style>\n",
       "<table border=\"1\" class=\"dataframe\">\n",
       "  <thead>\n",
       "    <tr style=\"text-align: right;\">\n",
       "      <th></th>\n",
       "      <th>price</th>\n",
       "      <th>bedrooms</th>\n",
       "      <th>bathrooms</th>\n",
       "      <th>sqft_living</th>\n",
       "      <th>sqft_lot</th>\n",
       "      <th>floors</th>\n",
       "      <th>condition</th>\n",
       "      <th>grade</th>\n",
       "      <th>zipcode</th>\n",
       "      <th>sqft_living15</th>\n",
       "      <th>...</th>\n",
       "      <th>sca_sqft_lot15</th>\n",
       "      <th>sca_bedrooms</th>\n",
       "      <th>sca_bathrooms</th>\n",
       "      <th>codebins_yrbuilt</th>\n",
       "      <th>codebins_sqftbasement</th>\n",
       "      <th>codebins_sqftabove</th>\n",
       "      <th>codezipcode</th>\n",
       "      <th>lat</th>\n",
       "      <th>long</th>\n",
       "      <th>id</th>\n",
       "    </tr>\n",
       "  </thead>\n",
       "  <tbody>\n",
       "    <tr>\n",
       "      <th>0</th>\n",
       "      <td>221900.0</td>\n",
       "      <td>3.0</td>\n",
       "      <td>1.00</td>\n",
       "      <td>1180.0</td>\n",
       "      <td>5650.0</td>\n",
       "      <td>1.0</td>\n",
       "      <td>3.0</td>\n",
       "      <td>7.0</td>\n",
       "      <td>98178.0</td>\n",
       "      <td>1340.0</td>\n",
       "      <td>...</td>\n",
       "      <td>-0.391872</td>\n",
       "      <td>0.0</td>\n",
       "      <td>-1.00</td>\n",
       "      <td>5.0</td>\n",
       "      <td>0.0</td>\n",
       "      <td>2.0</td>\n",
       "      <td>66.0</td>\n",
       "      <td>47.5112</td>\n",
       "      <td>-122.257</td>\n",
       "      <td>7129300520</td>\n",
       "    </tr>\n",
       "    <tr>\n",
       "      <th>1</th>\n",
       "      <td>538000.0</td>\n",
       "      <td>3.0</td>\n",
       "      <td>2.25</td>\n",
       "      <td>2570.0</td>\n",
       "      <td>7242.0</td>\n",
       "      <td>2.0</td>\n",
       "      <td>3.0</td>\n",
       "      <td>7.0</td>\n",
       "      <td>98125.0</td>\n",
       "      <td>1690.0</td>\n",
       "      <td>...</td>\n",
       "      <td>0.026953</td>\n",
       "      <td>0.0</td>\n",
       "      <td>0.25</td>\n",
       "      <td>5.0</td>\n",
       "      <td>1.0</td>\n",
       "      <td>4.0</td>\n",
       "      <td>55.0</td>\n",
       "      <td>47.7210</td>\n",
       "      <td>-122.319</td>\n",
       "      <td>6414100192</td>\n",
       "    </tr>\n",
       "  </tbody>\n",
       "</table>\n",
       "<p>2 rows × 30 columns</p>\n",
       "</div>"
      ],
      "text/plain": [
       "      price  bedrooms  bathrooms  sqft_living  sqft_lot  floors  condition  \\\n",
       "0  221900.0       3.0       1.00       1180.0    5650.0     1.0        3.0   \n",
       "1  538000.0       3.0       2.25       2570.0    7242.0     2.0        3.0   \n",
       "\n",
       "   grade  zipcode  sqft_living15  ...  sca_sqft_lot15  sca_bedrooms  \\\n",
       "0    7.0  98178.0         1340.0  ...       -0.391872           0.0   \n",
       "1    7.0  98125.0         1690.0  ...        0.026953           0.0   \n",
       "\n",
       "   sca_bathrooms  codebins_yrbuilt codebins_sqftbasement codebins_sqftabove  \\\n",
       "0          -1.00               5.0                   0.0                2.0   \n",
       "1           0.25               5.0                   1.0                4.0   \n",
       "\n",
       "  codezipcode      lat     long          id  \n",
       "0        66.0  47.5112 -122.257  7129300520  \n",
       "1        55.0  47.7210 -122.319  6414100192  \n",
       "\n",
       "[2 rows x 30 columns]"
      ]
     },
     "execution_count": 1,
     "metadata": {},
     "output_type": "execute_result"
    }
   ],
   "source": [
    "import pandas as pd\n",
    "import statsmodels.api as sm\n",
    "import statsmodels.stats.api as sms\n",
    "import statsmodels.formula.api as smf\n",
    "import scipy.stats as stats\n",
    "\n",
    "## Load in data for example model validation\n",
    "df = pd.read_csv('https://raw.githubusercontent.com/jirvingphd/dsc-1-final-project-online-ds-ft-021119/master/kc_housing_model_df_final_data.csv',\n",
    "                index_col=0)\n",
    "df.dropna(inplace=True)\n",
    "df.head(2)"
   ]
  },
  {
   "cell_type": "code",
   "execution_count": 2,
   "metadata": {
    "ExecuteTime": {
     "end_time": "2020-07-31T23:20:46.631511Z",
     "start_time": "2020-07-31T23:20:46.513267Z"
    }
   },
   "outputs": [],
   "source": [
    "# Import model validation functions\n",
    "from sklearn.metrics import r2_score, mean_squared_error\n",
    "from sklearn.model_selection import train_test_split"
   ]
  },
  {
   "cell_type": "code",
   "execution_count": 17,
   "metadata": {
    "ExecuteTime": {
     "end_time": "2020-07-31T23:25:01.026160Z",
     "start_time": "2020-07-31T23:25:01.015837Z"
    }
   },
   "outputs": [
    {
     "data": {
      "text/plain": [
       "((14289, 30), (4764, 30))"
      ]
     },
     "execution_count": 17,
     "metadata": {},
     "output_type": "execute_result"
    }
   ],
   "source": [
    "## Create a training and test set\n",
    "df_train, df_test = train_test_split(df,test_size=0.25,shuffle=True,\n",
    "                                     random_state=321)\n",
    "df_train.shape, df_test.shape"
   ]
  },
  {
   "cell_type": "code",
   "execution_count": 18,
   "metadata": {
    "ExecuteTime": {
     "end_time": "2020-07-31T23:25:01.406402Z",
     "start_time": "2020-07-31T23:25:01.237638Z"
    }
   },
   "outputs": [],
   "source": [
    "## Train Model using the training data ONLY\n",
    "f1 = 'price~C(zipcode)+grade+sca_sqft_living+sca_sqft_living15' \n",
    "model = smf.ols(formula=f1, data=df_train).fit()"
   ]
  },
  {
   "cell_type": "code",
   "execution_count": 19,
   "metadata": {
    "ExecuteTime": {
     "end_time": "2020-07-31T23:25:01.520241Z",
     "start_time": "2020-07-31T23:25:01.411941Z"
    },
    "scrolled": false
   },
   "outputs": [
    {
     "name": "stdout",
     "output_type": "stream",
     "text": [
      "Training Data R-Squared = 0.796\n",
      "Training Data R-Squared = 0.798\n"
     ]
    }
   ],
   "source": [
    "## Get Model Predictions and Calculate Training R2\n",
    "r2_train = r2_score(df_train['price'],model.predict(df_train))\n",
    "print(f'Training Data R-Squared = {round(r2_train,3)}')\n",
    "\n",
    "## Get Model Predictions and Calculate Training R2\n",
    "r2_test = r2_score(df_test['price'],model.predict(df_test))\n",
    "print(f'Training Data R-Squared = {round(r2_test,3)}')\n",
    "\n",
    "## Display model summary\n",
    "# model.summary()"
   ]
  },
  {
   "cell_type": "code",
   "execution_count": null,
   "metadata": {},
   "outputs": [],
   "source": []
  }
 ],
 "metadata": {
  "kernelspec": {
   "display_name": "learn-env",
   "language": "python",
   "name": "learn-env"
  },
  "language_info": {
   "codemirror_mode": {
    "name": "ipython",
    "version": 3
   },
   "file_extension": ".py",
   "mimetype": "text/x-python",
   "name": "python",
   "nbconvert_exporter": "python",
   "pygments_lexer": "ipython3",
   "version": "3.6.11"
  },
  "toc": {
   "base_numbering": 1,
   "nav_menu": {},
   "number_sections": false,
   "sideBar": false,
   "skip_h1_title": false,
   "title_cell": "Table of Contents",
   "title_sidebar": "Contents",
   "toc_cell": false,
   "toc_position": {
    "height": "445.455px",
    "left": "72px",
    "top": "110.285px",
    "width": "232.713px"
   },
   "toc_section_display": true,
   "toc_window_display": false
  }
 },
 "nbformat": 4,
 "nbformat_minor": 4
}
