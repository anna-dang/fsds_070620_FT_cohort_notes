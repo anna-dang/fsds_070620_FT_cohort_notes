{
 "cells": [
  {
   "cell_type": "markdown",
   "metadata": {},
   "source": [
    "# Section 31: Support Vector Machines"
   ]
  },
  {
   "cell_type": "markdown",
   "metadata": {},
   "source": [
    "- online-ds-ft-070620\n",
    "- 09/29/20"
   ]
  },
  {
   "cell_type": "markdown",
   "metadata": {},
   "source": [
    "##   Questions?"
   ]
  },
  {
   "cell_type": "markdown",
   "metadata": {},
   "source": [
    "- Walkthrough of an sklearn SVC\n",
    "- "
   ]
  },
  {
   "cell_type": "markdown",
   "metadata": {},
   "source": [
    "## Learning Objectives"
   ]
  },
  {
   "cell_type": "markdown",
   "metadata": {},
   "source": [
    "- To revisit Linear (Algebra) Equations and revisit the relationship between $y=mx+b$ and $y= w^TX+B$.\n",
    "- To understand how support vector machine attempts to separate groups.\n",
    "- Discuss the advantages / disadvantages of SVMs\n",
    "\n",
    "- To understand the math notation of SVMs\n",
    "- Learn about using kernels with SVMs\n",
    "\n",
    "\n",
    "- Apply SVC with a real-world dataset\n",
    "    - Use pipelines for preprocessing\n"
   ]
  },
  {
   "cell_type": "markdown",
   "metadata": {},
   "source": [
    "## Resources"
   ]
  },
  {
   "cell_type": "markdown",
   "metadata": {},
   "source": [
    "- BLOG POSTS/ARTICLES\n",
    "    - [Towards Data Science - SVM Simply Explained](https://towardsdatascience.com/support-vector-machine-simply-explained-fee28eba5496)\n",
    "- STUDY GROUP RECORDINGS:\n",
    "    - [Support Vector Machines - Victor](https://www.youtube.com/watch?v=_QmnoubpU3Q&list=PLVoXE6pv5LIg4WOllQ4rNPi9BtvtVMb78&index=5)\n",
    "    - [The Kernel Trick - Victor](https://www.youtube.com/watch?v=mnN74NI4Gqk&list=PLVoXE6pv5LIg4WOllQ4rNPi9BtvtVMb78&index=6)"
   ]
  },
  {
   "cell_type": "markdown",
   "metadata": {},
   "source": [
    "# Support Vector Machines"
   ]
  },
  {
   "cell_type": "markdown",
   "metadata": {},
   "source": [
    "\n",
    "\n",
    "<img src=\"https://raw.githubusercontent.com/jirvingphd/fsds_100719_cohort_notes/master/images/i_support_vector_machines.jpg\" width=50%>\n",
    "\n",
    "> Available now for [purchase](https://www.amazon.com/Support-Machines-Network-Machine-Learning/dp/B07XTLT7RL/ref=sr_1_2?dchild=1&keywords=i+support+vector+machines&qid=1579708346&s=apparel&sr=1-2) 😉"
   ]
  },
  {
   "cell_type": "markdown",
   "metadata": {},
   "source": [
    "\n",
    "- **Supervised learning**\n",
    "- Classification OR regression.\n",
    "- We can sacrifice accuracy to get _better_ boundaries (and protect against outliers)\n",
    "<img src=\"https://raw.githubusercontent.com/learn-co-students/dsc-introduction-to-support-vector-machines-online-ds-pt-100719/master/images/new_SVM_C.png\" width=80%>\n",
    "\n",
    "\n",
    "#### Advantages\n",
    "- Good for datasets with more variables than observations\n",
    "- Robust against outliers\n",
    "\n",
    "- Good performance\n",
    "- Good off-the-shelf model in general for several scenarios\n",
    "- Can approximate complex non-linear functions\n",
    "\n",
    "#### Disadvantages\n",
    "- Long training time required\n",
    "- Tuning required to determine optimal kernel for non-linear SVMs\n",
    "\n",
    "#### Requirements\n",
    "- Scaled features\n",
    "- Null values filled\n",
    "\n",
    "\n",
    "\n",
    "\n"
   ]
  },
  {
   "cell_type": "markdown",
   "metadata": {},
   "source": [
    "# Motivation"
   ]
  },
  {
   "cell_type": "code",
   "execution_count": 1,
   "metadata": {
    "ExecuteTime": {
     "end_time": "2020-09-29T16:43:30.019473Z",
     "start_time": "2020-09-29T16:43:27.051473Z"
    }
   },
   "outputs": [
    {
     "name": "stdout",
     "output_type": "stream",
     "text": [
      "fsds v0.2.25 loaded.  Read the docs: https://fs-ds.readthedocs.io/en/latest/ \n"
     ]
    },
    {
     "data": {
      "text/html": [
       "<style  type=\"text/css\" >\n",
       "</style><table id=\"T_e6f04626_0272_11eb_b89f_acde48001122\" ><caption>Loaded Packages and Handles</caption><thead>    <tr>        <th class=\"col_heading level0 col0\" >Handle</th>        <th class=\"col_heading level0 col1\" >Package</th>        <th class=\"col_heading level0 col2\" >Description</th>    </tr></thead><tbody>\n",
       "                <tr>\n",
       "                                <td id=\"T_e6f04626_0272_11eb_b89f_acde48001122row0_col0\" class=\"data row0 col0\" >dp</td>\n",
       "                        <td id=\"T_e6f04626_0272_11eb_b89f_acde48001122row0_col1\" class=\"data row0 col1\" >IPython.display</td>\n",
       "                        <td id=\"T_e6f04626_0272_11eb_b89f_acde48001122row0_col2\" class=\"data row0 col2\" >Display modules with helpful display and clearing commands.</td>\n",
       "            </tr>\n",
       "            <tr>\n",
       "                                <td id=\"T_e6f04626_0272_11eb_b89f_acde48001122row1_col0\" class=\"data row1 col0\" >fs</td>\n",
       "                        <td id=\"T_e6f04626_0272_11eb_b89f_acde48001122row1_col1\" class=\"data row1 col1\" >fsds</td>\n",
       "                        <td id=\"T_e6f04626_0272_11eb_b89f_acde48001122row1_col2\" class=\"data row1 col2\" >Custom data science bootcamp student package</td>\n",
       "            </tr>\n",
       "            <tr>\n",
       "                                <td id=\"T_e6f04626_0272_11eb_b89f_acde48001122row2_col0\" class=\"data row2 col0\" >mpl</td>\n",
       "                        <td id=\"T_e6f04626_0272_11eb_b89f_acde48001122row2_col1\" class=\"data row2 col1\" >matplotlib</td>\n",
       "                        <td id=\"T_e6f04626_0272_11eb_b89f_acde48001122row2_col2\" class=\"data row2 col2\" >Matplotlib's base OOP module with formatting artists</td>\n",
       "            </tr>\n",
       "            <tr>\n",
       "                                <td id=\"T_e6f04626_0272_11eb_b89f_acde48001122row3_col0\" class=\"data row3 col0\" >plt</td>\n",
       "                        <td id=\"T_e6f04626_0272_11eb_b89f_acde48001122row3_col1\" class=\"data row3 col1\" >matplotlib.pyplot</td>\n",
       "                        <td id=\"T_e6f04626_0272_11eb_b89f_acde48001122row3_col2\" class=\"data row3 col2\" >Matplotlib's matlab-like plotting module</td>\n",
       "            </tr>\n",
       "            <tr>\n",
       "                                <td id=\"T_e6f04626_0272_11eb_b89f_acde48001122row4_col0\" class=\"data row4 col0\" >np</td>\n",
       "                        <td id=\"T_e6f04626_0272_11eb_b89f_acde48001122row4_col1\" class=\"data row4 col1\" >numpy</td>\n",
       "                        <td id=\"T_e6f04626_0272_11eb_b89f_acde48001122row4_col2\" class=\"data row4 col2\" >scientific computing with Python</td>\n",
       "            </tr>\n",
       "            <tr>\n",
       "                                <td id=\"T_e6f04626_0272_11eb_b89f_acde48001122row5_col0\" class=\"data row5 col0\" >pd</td>\n",
       "                        <td id=\"T_e6f04626_0272_11eb_b89f_acde48001122row5_col1\" class=\"data row5 col1\" >pandas</td>\n",
       "                        <td id=\"T_e6f04626_0272_11eb_b89f_acde48001122row5_col2\" class=\"data row5 col2\" >High performance data structures and tools</td>\n",
       "            </tr>\n",
       "            <tr>\n",
       "                                <td id=\"T_e6f04626_0272_11eb_b89f_acde48001122row6_col0\" class=\"data row6 col0\" >sns</td>\n",
       "                        <td id=\"T_e6f04626_0272_11eb_b89f_acde48001122row6_col1\" class=\"data row6 col1\" >seaborn</td>\n",
       "                        <td id=\"T_e6f04626_0272_11eb_b89f_acde48001122row6_col2\" class=\"data row6 col2\" >High-level data visualization library based on matplotlib</td>\n",
       "            </tr>\n",
       "    </tbody></table>"
      ],
      "text/plain": [
       "<pandas.io.formats.style.Styler at 0x7f9b9bbd2ba8>"
      ]
     },
     "metadata": {},
     "output_type": "display_data"
    },
    {
     "data": {
      "text/html": [
       "        <script type=\"text/javascript\">\n",
       "        window.PlotlyConfig = {MathJaxConfig: 'local'};\n",
       "        if (window.MathJax) {MathJax.Hub.Config({SVG: {font: \"STIX-Web\"}});}\n",
       "        if (typeof require !== 'undefined') {\n",
       "        require.undef(\"plotly\");\n",
       "        requirejs.config({\n",
       "            paths: {\n",
       "                'plotly': ['https://cdn.plot.ly/plotly-latest.min']\n",
       "            }\n",
       "        });\n",
       "        require(['plotly'], function(Plotly) {\n",
       "            window._Plotly = Plotly;\n",
       "        });\n",
       "        }\n",
       "        </script>\n",
       "        "
      ]
     },
     "metadata": {},
     "output_type": "display_data"
    },
    {
     "data": {
      "text/html": [
       "        <script type=\"text/javascript\">\n",
       "        window.PlotlyConfig = {MathJaxConfig: 'local'};\n",
       "        if (window.MathJax) {MathJax.Hub.Config({SVG: {font: \"STIX-Web\"}});}\n",
       "        if (typeof require !== 'undefined') {\n",
       "        require.undef(\"plotly\");\n",
       "        requirejs.config({\n",
       "            paths: {\n",
       "                'plotly': ['https://cdn.plot.ly/plotly-latest.min']\n",
       "            }\n",
       "        });\n",
       "        require(['plotly'], function(Plotly) {\n",
       "            window._Plotly = Plotly;\n",
       "        });\n",
       "        }\n",
       "        </script>\n",
       "        "
      ]
     },
     "metadata": {},
     "output_type": "display_data"
    },
    {
     "name": "stdout",
     "output_type": "stream",
     "text": [
      "[i] Pandas .iplot() method activated.\n"
     ]
    }
   ],
   "source": [
    "from fsds.imports import *\n",
    "import sklearn.datasets as datasets\n",
    "\n",
    "# Loading in an example dataset\n",
    "plt.style.use('seaborn-notebook')\n",
    "iris = datasets.load_iris()\n",
    "iris_data = iris.data\n",
    "\n",
    "# Only use two targets/classifications\n",
    "iris_targets = np.where(iris.target == 0, 0, 1)"
   ]
  },
  {
   "cell_type": "markdown",
   "metadata": {},
   "source": [
    "## How can we separate the data?\n"
   ]
  },
  {
   "cell_type": "code",
   "execution_count": 2,
   "metadata": {
    "ExecuteTime": {
     "end_time": "2020-09-29T16:43:31.521809Z",
     "start_time": "2020-09-29T16:43:31.324135Z"
    }
   },
   "outputs": [
    {
     "data": {
      "image/png": "[encoded data removed]",
      "text/plain": [
       "<Figure size 576x396 with 1 Axes>"
      ]
     },
     "metadata": {
      "needs_background": "light"
     },
     "output_type": "display_data"
    }
   ],
   "source": [
    "# Plotting different points\n",
    "def plot_iris():\n",
    "    fig, ax = plt.subplots()\n",
    "    ax.scatter(x=iris_data[:,2], y=iris_data[:,1], c=iris_targets)\n",
    "    return fig,ax\n",
    "fig,ax= plot_iris()"
   ]
  },
  {
   "cell_type": "markdown",
   "metadata": {},
   "source": [
    "### Q1: Look at these lines, which is a better model?\n",
    "\n"
   ]
  },
  {
   "cell_type": "markdown",
   "metadata": {},
   "source": [
    "- "
   ]
  },
  {
   "cell_type": "code",
   "execution_count": 3,
   "metadata": {
    "ExecuteTime": {
     "end_time": "2020-09-29T16:43:51.545942Z",
     "start_time": "2020-09-29T16:43:51.325620Z"
    }
   },
   "outputs": [
    {
     "data": {
      "text/plain": [
       "<matplotlib.legend.Legend at 0x7f9b98d92240>"
      ]
     },
     "execution_count": 3,
     "metadata": {},
     "output_type": "execute_result"
    },
    {
     "data": {
      "image/png": "[encoded data removed]",
      "text/plain": [
       "<Figure size 576x396 with 1 Axes>"
      ]
     },
     "metadata": {
      "needs_background": "light"
     },
     "output_type": "display_data"
    }
   ],
   "source": [
    "# Plotting lines to separate points\n",
    "fig,ax=plot_iris()\n",
    "l1 = np.array([[1,2],[6.5,4.5]])\n",
    "ax.plot(l1[:,0], l1[:,1], linestyle='--',label='line 1')\n",
    "l2 = np.array([[2,2],[3.5,4.5]])\n",
    "ax.plot(l2[:,0], l2[:,1], linestyle='--',label='line 2')\n",
    "\n",
    "ax.legend()"
   ]
  },
  {
   "cell_type": "markdown",
   "metadata": {},
   "source": [
    "#### A1: "
   ]
  },
  {
   "cell_type": "markdown",
   "metadata": {},
   "source": [
    "- Line 2."
   ]
  },
  {
   "cell_type": "markdown",
   "metadata": {},
   "source": [
    "### Q2: Why is it better? "
   ]
  },
  {
   "cell_type": "markdown",
   "metadata": {},
   "source": [
    "- "
   ]
  },
  {
   "cell_type": "markdown",
   "metadata": {},
   "source": [
    "#### A2:"
   ]
  },
  {
   "cell_type": "markdown",
   "metadata": {},
   "source": [
    "- Maximizes the distance between the data points and the line (the margin).\n"
   ]
  },
  {
   "cell_type": "markdown",
   "metadata": {},
   "source": [
    "### Accuracy isn't everything"
   ]
  },
  {
   "cell_type": "markdown",
   "metadata": {},
   "source": [
    "> Could say each line classifies the same (accuracy), so which of the following would be better?"
   ]
  },
  {
   "cell_type": "code",
   "execution_count": 5,
   "metadata": {
    "ExecuteTime": {
     "end_time": "2020-09-29T16:46:43.803562Z",
     "start_time": "2020-09-29T16:46:43.516749Z"
    }
   },
   "outputs": [
    {
     "data": {
      "text/plain": [
       "(1.0, 5.0)"
      ]
     },
     "execution_count": 5,
     "metadata": {},
     "output_type": "execute_result"
    },
    {
     "data": {
      "image/png": "[encoded data removed]",
      "text/plain": [
       "<Figure size 576x396 with 1 Axes>"
      ]
     },
     "metadata": {
      "needs_background": "light"
     },
     "output_type": "display_data"
    }
   ],
   "source": [
    "# Small margin\n",
    "margin_small = np.array([0.2,0])\n",
    "l2_margin_pos_small = l2 + margin_small\n",
    "l2_margin_neg_small = l2 - margin_small\n",
    "\n",
    "## Large margin\n",
    "margin_larger = np.array([0.5,0])\n",
    "l2_margin_pos_big = l2 + margin_larger\n",
    "l2_margin_neg_big = l2 - margin_larger\n",
    "\n",
    "# Plotting different points\n",
    "fig,ax = plot_iris()\n",
    "# Plotting lines to separate points\n",
    "ax.plot(l2[:,0], l2[:,1], linestyle='-', label='Decision Boundary')\n",
    "\n",
    "# Plot with margins\n",
    "ax.plot(l2_margin_pos_small[:,0], l2_margin_pos_small[:,1], \n",
    "        linestyle='--', color='orange', label='Small Margin')\n",
    "ax.plot(l2_margin_neg_small[:,0], l2_margin_neg_small[:,1], linestyle='--', color='orange')\n",
    "\n",
    "ax.plot(l2_margin_pos_big[:,0], l2_margin_pos_big[:,1], \n",
    "        linestyle='--', color='red',label='Large Margin')\n",
    "ax.plot(l2_margin_neg_big[:,0], l2_margin_neg_big[:,1], linestyle='--', color='red')\n",
    "ax.legend()\n",
    "ax.set_xlim(1,5)"
   ]
  },
  {
   "cell_type": "markdown",
   "metadata": {},
   "source": [
    "<!---#### Line Definitions/Legend\n",
    "- Blue = Model\n",
    "- Possible Margins:\n",
    "    - orange\n",
    "    - red\n",
    "    \n",
    "- Left and Right margins are called negative and positive hyperplanes--->"
   ]
  },
  {
   "cell_type": "markdown",
   "metadata": {},
   "source": [
    "### Q3: Which margin is better? Why?"
   ]
  },
  {
   "cell_type": "code",
   "execution_count": null,
   "metadata": {
    "ExecuteTime": {
     "end_time": "2020-09-29T16:24:47.439241Z",
     "start_time": "2020-09-29T16:24:47.233494Z"
    }
   },
   "outputs": [],
   "source": [
    "fig"
   ]
  },
  {
   "cell_type": "markdown",
   "metadata": {},
   "source": [
    "- "
   ]
  },
  {
   "cell_type": "markdown",
   "metadata": {},
   "source": [
    "#### A3:"
   ]
  },
  {
   "cell_type": "markdown",
   "metadata": {},
   "source": [
    "- The larger margin. \n",
    "- The smaller the margin the more you're assuming your model is correct and the more likely it will be over-fit and not generalize well.\n",
    "<!--- > <img src=\"https://raw.githubusercontent.com/jirvingphd/dsc-introduction-to-support-vector-machines-online-ds-pt-100719/master/images/new_SVM_test2.png\"> --->"
   ]
  },
  {
   "cell_type": "markdown",
   "metadata": {},
   "source": [
    "# So what is a \"support vector\" anyway?"
   ]
  },
  {
   "cell_type": "markdown",
   "metadata": {},
   "source": [
    "## Terminology"
   ]
  },
  {
   "cell_type": "markdown",
   "metadata": {},
   "source": [
    "#### Hyperplane: "
   ]
  },
  {
   "cell_type": "markdown",
   "metadata": {},
   "source": [
    "- a $n$-dimensional line.\n",
    "- These hyperplanes are defined by two terms: $w_T$ and $b$. \n",
    "    - $w_T$ term is called the **weight vector** and contains the weights that are used in the classification.\n",
    "    - $b$ term is called the **bias** and functions as an offset term. \n",
    "        - If there were no bias term, the hyperplane would always go through the origin which would not be very generalizable! "
   ]
  },
  {
   "cell_type": "markdown",
   "metadata": {},
   "source": [
    "### Sidebar: Linear Equation Notation vs Linear Regression"
   ]
  },
  {
   "cell_type": "markdown",
   "metadata": {},
   "source": [
    "> **in Linear Regression, we predict $y$ using 2 parameters, m (slope) + b(intercept/constant):**\n",
    "$$ \\large y = mx+b $$\n",
    "where: \n",
    "- $x$ = input data for modeling\n",
    "- $y$ = model] predictions\n",
    "- $m$ = slope\n",
    "- $b$ = intercept\n",
    "\n",
    ">**In Linear Model Formulas, terminology/notation changes:**\n",
    "- slopes $(m)$ becomes **weights ($w$)**\n",
    "- constants $b$ becomes **biases ($b$)**\n",
    "$$ \\large y =  XW^T+B $$\n",
    "- $x$ = input data for modeling\n",
    "- $y$ = model] predictions\n",
    "- $w$ is the weight (slope)\n",
    "- $b$ is the bias (constant)\n",
    " <img src=\"https://raw.githubusercontent.com/jirvingphd/fsds_100719_cohort_notes/master/images/linear _model_multi_inputs_and_outputs.png\" width=40%>\n",
    "\n",
    "<img src=\"https://raw.githubusercontent.com/jirvingphd/fsds_100719_cohort_notes/master/images/linear_model_multi_inputs.png\" width=40%>\n",
    "\n",
    "<!---<img src=\"https://raw.githubusercontent.com/jirvingphd/fsds_100719_cohort_notes/master/images/linear_model_multi_inputs_arrows.png\" width=40%>\n",
    "--->"
   ]
  },
  {
   "cell_type": "markdown",
   "metadata": {},
   "source": [
    "## Terminology Continued "
   ]
  },
  {
   "cell_type": "markdown",
   "metadata": {},
   "source": [
    "#### Decision boundary: "
   ]
  },
  {
   "cell_type": "markdown",
   "metadata": {},
   "source": [
    "- The hyperplane that divides/separates the classes\n",
    "<img src=\"https://raw.githubusercontent.com/jirvingphd/dsc-introduction-to-support-vector-machines-online-ds-pt-100719/master/images/new_SVM_2.png\" width=30%>"
   ]
  },
  {
   "cell_type": "markdown",
   "metadata": {},
   "source": [
    "#### Margin"
   ]
  },
  {
   "cell_type": "markdown",
   "metadata": {},
   "source": [
    "- The distance between the decision boundary and the closes datapoints\n",
    "<img src=\"https://raw.githubusercontent.com/jirvingphd/dsc-introduction-to-support-vector-machines-online-ds-pt-100719/master/images/new_SVM_4.png\" width=30%>\n",
    " "
   ]
  },
  {
   "cell_type": "markdown",
   "metadata": {},
   "source": [
    "#### Support Vector:"
   ]
  },
  {
   "cell_type": "markdown",
   "metadata": {},
   "source": [
    "- \"Support vectors are the data points nearest to the hyperplane, the points of a data set that, if removed, would alter the position of the dividing hyperplane. Because of this, they can be considered the critical elements of a data set.\" - [KDnuggets - SVM simple explanation](https://www.kdnuggets.com/2016/07/support-vector-machines-simple-explanation.html) \n",
    "\n",
    "<img src=\"https://raw.githubusercontent.com/jirvingphd/dsc-introduction-to-support-vector-machines-online-ds-pt-100719/master/images/new_SVM_fin.png\" width=60%>"
   ]
  },
  {
   "cell_type": "markdown",
   "metadata": {},
   "source": [
    "#### Positive/Negative Hyperplanes"
   ]
  },
  {
   "cell_type": "markdown",
   "metadata": {},
   "source": [
    "> Note: For SVMs, we do not represent our classes as 0 and 1, instead we use -1 and +1"
   ]
  },
  {
   "cell_type": "markdown",
   "metadata": {},
   "source": [
    "- Positive Hyperplane:\n",
    "    - The line defined by the support vectors to the right (+) of the decision boundary\n",
    "    $$ b + w_Tx_{pos} =1$$\n",
    "\n",
    "    \n",
    "- Negative Hyperplane:\n",
    "    - The line defined support vector to the left (-) of the decision boundary\n",
    "    $$ b + w_Tx_{neg} =-1$$\n"
   ]
  },
  {
   "cell_type": "markdown",
   "metadata": {},
   "source": [
    "## Support Vector Machine - Max-Margin  Classifier"
   ]
  },
  {
   "cell_type": "markdown",
   "metadata": {},
   "source": [
    "> Our goal is to **maximize the separation between the two hyperplanes.**\n",
    "\n",
    "- To do this, first subtract the negative hyperplane's equation from the positive hyperplane's equation:\n",
    "\n",
    "$$ \\large w_T(x_{pos}-x_{neg}) = 2$$\n",
    "\n",
    "- Normalize $w_T$ by dividing both sides of the equation by its norm, $||w||$\n",
    "    - Note: $ || w ||= \\sqrt{\\sum^m_{j-1}w_j^2} $"
   ]
  },
  {
   "cell_type": "markdown",
   "metadata": {},
   "source": [
    "> **The equation becomes:**\n",
    "$$ \\large \\dfrac{w_T(x_{pos}-x_{neg})}{\\lVert w \\rVert} = \\dfrac{2}{\\lVert w \\rVert}$$\n",
    "\n",
    "- The left side of the equation = the distance between the positive and negative hyperplanes. (This is the **margin**)\n",
    "\n",
    "- The objective of the SVM is then maximizing $\\dfrac{2}{\\lVert w \\rVert}$ under the constraint/requirement that the samples are classified correctly. \n",
    "\n",
    "\n",
    "- Note that maximizing $\\dfrac{2}{\\lVert w \\rVert}$ means we're minimizing $\\lVert w \\rVert$, or\n",
    "    - as is done in practice because it seems to be easier to be minimized, $\\dfrac{1}{2}\\lVert w \\rVert^2$."
   ]
  },
  {
   "cell_type": "markdown",
   "metadata": {},
   "source": [
    "> Contraints expressed mathematically:\n",
    "- $ b + w_Tx^{(i)} \\geq 1$  if $y ^{(i)} = 1$\n",
    "- $ b + w_Tx^{(i)} \\leq -1$  if $y ^{(i)} = -1$<br>\n",
    "For $i= 1,\\ldots ,N$\n",
    "> These equations say that:\n",
    "- all negative samples should fall on the left side of the negative hyperplane\n",
    "- whereas all the positive samples should fall on the right of the positive hyperplane. \n",
    "\n",
    "<!---This can also be written in one line as follows:\n",
    "\n",
    "$y ^{(i)} (b + w_Tx^{(i)} )\\geq 1$  for each $i$\n",
    "--->\n"
   ]
  },
  {
   "cell_type": "markdown",
   "metadata": {},
   "source": [
    "## But what if my data isn't easily separable?\n",
    "- When does maximizing the margin cause problems?"
   ]
  },
  {
   "cell_type": "markdown",
   "metadata": {},
   "source": [
    "<img src=\"https://raw.githubusercontent.com/learn-co-students/dsc-introduction-to-support-vector-machines-online-ds-pt-100719/master/images/new_SVM_C.png\">\n",
    "\n",
    "- So Where do we go from here?/ What can we do about this?"
   ]
  },
  {
   "cell_type": "markdown",
   "metadata": {},
   "source": [
    "### Two Types of SVM Max-Margin Classifier\n",
    "\n",
    "\n",
    "- Two kinds of max-margin classifiers:\n",
    "    - hard margin = no errors whatsoever\n",
    "    - soft margin = allows for errors\n"
   ]
  },
  {
   "cell_type": "markdown",
   "metadata": {},
   "source": [
    "## The Soft-Margin Classifier"
   ]
  },
  {
   "cell_type": "markdown",
   "metadata": {},
   "source": [
    "- The linear constraints need to be relaxed for data that are not linearly separable.\n",
    "- We do this by adding slack variables $\\xi$ to our margins. \n",
    "    - By adding some slack ( allowance for misclassification), we improve model generalizability while sacrificing accuracy\n",
    "> Soft Margine Constraints:\n",
    ">- $ b + w_Tx^{(i)} \\geq 1-\\xi^{(i)}$  if $y ^{(i)} = 1$\n",
    ">- $ b + w_Tx^{(i)} \\leq -1+\\xi^{(i)}$  if $y ^{(i)} = -1$<br>For $i= 1,\\ldots ,N$\n",
    "\n",
    "\n",
    "- The objective function (AKA the function you want to minimize) is \n",
    "\n",
    " $$\\dfrac{1}{2}\\lVert w \\rVert^2+ C(\\sum_i \\xi^{(i)})$$\n",
    "- The hyperparameter $C$ is used to define how much slack is allowed.\n"
   ]
  },
  {
   "cell_type": "markdown",
   "metadata": {},
   "source": [
    "### The Hyperparameter $C$\n",
    "\n",
    "Q: What happens if $C$ is very large? (What errors do we care about more?)"
   ]
  },
  {
   "cell_type": "markdown",
   "metadata": {},
   "source": [
    "\n",
    "        \n",
    "        \n",
    "<img src=\"https://raw.githubusercontent.com/learn-co-students/dsc-introduction-to-support-vector-machines-online-ds-pt-100719/master/images/new_SVM_C.png\">\n",
    "\n",
    "- When C is large, we get left figure. \n",
    "    - Misclassifications are heavily punished.\n",
    "- When C is small, we get right figure.\n",
    "    - Misclassifications are accepted to maximize overall margin\n",
    "\n",
    "<!---\n",
    "## Classification error\n",
    "\n",
    "We minimize the two kinds of error:\n",
    " - how many are \"misclassified\" \n",
    " - how many are in bad boundary (within margin)\n",
    " \n",
    "\n",
    "This gives us something like this:\n",
    "\n",
    "$Error_{total} = Error_{classification} + Error_{margin}$\n",
    " \n",
    "\n",
    "- We start from our margin to count the error (instead of the center)\n",
    "\n",
    "## Margin error\n",
    "\n",
    "- $E = |W|^2 = ||W_1||+||W_2|| + …$ \n",
    "    + big vs small margin (we want very large)\n",
    "- $M = \\frac{2}{||W||}$ \n",
    "    + inverse proportion, large margin → small error\n",
    "\n",
    "Turns out to the same as the L2 Regularization!\n",
    "\n",
    "## Gradient Descent to minimize--->"
   ]
  },
  {
   "cell_type": "markdown",
   "metadata": {},
   "source": [
    "# The Kernel Trick"
   ]
  },
  {
   "cell_type": "markdown",
   "metadata": {},
   "source": [
    "> #### Q: But what do we do when don't have linearly separable data??\n",
    "\n",
    "<img src=\"https://raw.githubusercontent.com/learn-co-students/dsc-the-kernel-trick-online-ds-pt-100719/master/images/new_SVM_nonlin.png\" width=60%>"
   ]
  },
  {
   "cell_type": "markdown",
   "metadata": {},
   "source": [
    "> #### A: When a simple model isn't good enough, extend to higher dimensions.\n",
    "\n",
    "> Use a kernel function to transform the data into a higher dimension and then separate the data in the higher dimension.\n",
    "\n",
    "<img src=\"https://raw.githubusercontent.com/learn-co-students/dsc-the-kernel-trick-online-ds-pt-100719/master/images/new_SVM_kernel.png\" width=60%>\n"
   ]
  },
  {
   "cell_type": "markdown",
   "metadata": {},
   "source": [
    "## Kernel Function Resources"
   ]
  },
  {
   "cell_type": "markdown",
   "metadata": {},
   "source": [
    "- **Blog Posts/Articles**\n",
    "    - [Blog Post on Hyperparameter Tuning](https://medium.com/all-things-ai/in-depth-parameter-tuning-for-svc-758215394769)\n",
    "    - \n",
    "\n",
    "- **Scikit-Learn Documentation:**\n",
    "    - [SVMs for Classification](https://scikit-learn.org/stable/modules/svm.html#classification)\n",
    "    - [Scikit-Learn Docs: Kernel Functions](https://scikit-learn.org/stable/modules/svm.html#svm-kernels)\n",
    "\n",
    "        - [Scikit-Learn SVM Math Equations](https://scikit-learn.org/stable/modules/svm.html#mathematical-formulation)"
   ]
  },
  {
   "cell_type": "markdown",
   "metadata": {
    "ExecuteTime": {
     "end_time": "2020-04-15T20:27:38.825498Z",
     "start_time": "2020-04-15T20:27:38.816259Z"
    }
   },
   "source": [
    "## Kernel Functions for sklearn's `SVC`"
   ]
  },
  {
   "cell_type": "markdown",
   "metadata": {},
   "source": [
    "- Probably the most important information worth reviewing is some of the various kernel functions that you can apply.\n",
    "\n",
    "\n",
    "- Recall that in general, `C` is the parameter for balancing standard accuracy metrics for tuning classifiers versus the decision boundary distance."
   ]
  },
  {
   "cell_type": "markdown",
   "metadata": {
    "ExecuteTime": {
     "end_time": "2020-04-15T20:27:38.825498Z",
     "start_time": "2020-04-15T20:27:38.816259Z"
    }
   },
   "source": [
    "#### 1. Radial Basis Functions (RBF) Kernel\n",
    "$$\\exp{(-\\gamma \\lVert  x -  x' \\rVert^2)} $$\n",
    "- [Hyperparameters](https://scikit-learn.org/stable/auto_examples/svm/plot_rbf_parameters.html):\n",
    "    1. `C`\n",
    "    2. $\\gamma$, which can be specified using `gamma` in scikit-learn (default='auto')\n",
    "        - Large gamma = overfitting\n",
    "        - Small gamma = underfitting"
   ]
  },
  {
   "cell_type": "markdown",
   "metadata": {},
   "source": [
    "#### 2. Polynomial Kernel\n",
    "$$(\\gamma \\langle  x -  x' \\rangle+r)^d $$\n",
    "- Hyperparameters:\n",
    "    1. $\\gamma$, which can be specified using `gamma` in scikit-learn\n",
    "    2. $r$, which can be specified using `coef0` in scikit-learn\n",
    "    3. $d$, which can be specified using `degree` in scikit-learn"
   ]
  },
  {
   "cell_type": "markdown",
   "metadata": {},
   "source": [
    "#### 3. Sigmoid Kernel\n",
    "$$\\tanh ( \\gamma\\langle  x -  x' \\rangle+r) $$\n",
    "- Hyperparameters:\n",
    "    1. $\\gamma$, which can be specified using `gamma` in scikit-learn\n",
    "    2. $r$, which can be specified using `coef0` in scikit-learn\n"
   ]
  },
  {
   "cell_type": "markdown",
   "metadata": {},
   "source": [
    "### Other Types of SVC Models in sklearn"
   ]
  },
  {
   "cell_type": "markdown",
   "metadata": {},
   "source": [
    "#### NuSVC\n",
    "- Like SVC, NuSVC but adds a parameter $v$ (see hyperparameters below). \n",
    "- NuSVC implements \"one-against-one\" approach when number of classes >2\n",
    "    - when there are n classes, $\\dfrac{n*(n-1)}{2}$ classifiers are created, and each one classifies samples in 2 classes. \n",
    "\n",
    "\n",
    "- Hyperparameters:\n",
    "    - $v$: controls the number of support vectors and training errors\n",
    "        - creates upper bound on training errors\n",
    "        - creates lower bound on support vectors\n"
   ]
  },
  {
   "cell_type": "markdown",
   "metadata": {},
   "source": [
    "##### LinearSVC\n",
    "- Like SVC but LinearSVC implements \"one-vs-rest\" so when there are $n$ classes, just $n$ classifiers are created and each one classifies samples in 2 classes (class of interest and all others)\n",
    "- LinearSVC generates more classifiers, so LinearSVC tends to scale better."
   ]
  },
  {
   "cell_type": "markdown",
   "metadata": {},
   "source": [
    "### But there's sooo many options?!?"
   ]
  },
  {
   "cell_type": "markdown",
   "metadata": {},
   "source": [
    "- To keep it simple:\n",
    "    - If your data looks linearly separable, use linear SVC, otherwise use RBF\n",
    "    - But I am sure you can find some technical papers discussing the tradeoffs of all of the options.\n",
    "     - (I wasn't able to find a good high-level comparison or use-case type of article.)"
   ]
  },
  {
   "cell_type": "markdown",
   "metadata": {},
   "source": [
    "___"
   ]
  },
  {
   "cell_type": "markdown",
   "metadata": {},
   "source": [
    "# Activity: SVM with Iowa Prisoners (with Pipelines!)"
   ]
  },
  {
   "cell_type": "code",
   "execution_count": 6,
   "metadata": {
    "ExecuteTime": {
     "end_time": "2020-09-29T17:16:13.044123Z",
     "start_time": "2020-09-29T17:16:13.041674Z"
    }
   },
   "outputs": [],
   "source": [
    "#!pip install -U fsds\n",
    "from fsds.imports import *"
   ]
  },
  {
   "cell_type": "code",
   "execution_count": 7,
   "metadata": {
    "ExecuteTime": {
     "end_time": "2020-09-29T17:16:17.981068Z",
     "start_time": "2020-09-29T17:16:16.301760Z"
    },
    "scrolled": true
   },
   "outputs": [
    {
     "data": {
      "text/html": [
       "<div>\n",
       "<style scoped>\n",
       "    .dataframe tbody tr th:only-of-type {\n",
       "        vertical-align: middle;\n",
       "    }\n",
       "\n",
       "    .dataframe tbody tr th {\n",
       "        vertical-align: top;\n",
       "    }\n",
       "\n",
       "    .dataframe thead th {\n",
       "        text-align: right;\n",
       "    }\n",
       "</style>\n",
       "<table border=\"1\" class=\"dataframe\">\n",
       "  <thead>\n",
       "    <tr style=\"text-align: right;\">\n",
       "      <th></th>\n",
       "      <th>race_ethnicity</th>\n",
       "      <th>age_released</th>\n",
       "      <th>crime_class</th>\n",
       "      <th>crime_type</th>\n",
       "      <th>crime_subtype</th>\n",
       "      <th>release_type</th>\n",
       "      <th>super_dist</th>\n",
       "      <th>recidivist</th>\n",
       "      <th>target_pop</th>\n",
       "      <th>sex</th>\n",
       "    </tr>\n",
       "  </thead>\n",
       "  <tbody>\n",
       "    <tr>\n",
       "      <th>0</th>\n",
       "      <td>Black - Non-Hispanic</td>\n",
       "      <td>25-34</td>\n",
       "      <td>C Felony</td>\n",
       "      <td>Violent</td>\n",
       "      <td>Robbery</td>\n",
       "      <td>Parole</td>\n",
       "      <td>7JD</td>\n",
       "      <td>Yes</td>\n",
       "      <td>Yes</td>\n",
       "      <td>Male</td>\n",
       "    </tr>\n",
       "    <tr>\n",
       "      <th>1</th>\n",
       "      <td>White - Non-Hispanic</td>\n",
       "      <td>25-34</td>\n",
       "      <td>D Felony</td>\n",
       "      <td>Property</td>\n",
       "      <td>Theft</td>\n",
       "      <td>Discharged – End of Sentence</td>\n",
       "      <td>NaN</td>\n",
       "      <td>Yes</td>\n",
       "      <td>No</td>\n",
       "      <td>Male</td>\n",
       "    </tr>\n",
       "    <tr>\n",
       "      <th>2</th>\n",
       "      <td>White - Non-Hispanic</td>\n",
       "      <td>35-44</td>\n",
       "      <td>B Felony</td>\n",
       "      <td>Drug</td>\n",
       "      <td>Trafficking</td>\n",
       "      <td>Parole</td>\n",
       "      <td>5JD</td>\n",
       "      <td>Yes</td>\n",
       "      <td>Yes</td>\n",
       "      <td>Male</td>\n",
       "    </tr>\n",
       "    <tr>\n",
       "      <th>3</th>\n",
       "      <td>White - Non-Hispanic</td>\n",
       "      <td>25-34</td>\n",
       "      <td>B Felony</td>\n",
       "      <td>Other</td>\n",
       "      <td>Other Criminal</td>\n",
       "      <td>Parole</td>\n",
       "      <td>6JD</td>\n",
       "      <td>No</td>\n",
       "      <td>Yes</td>\n",
       "      <td>Male</td>\n",
       "    </tr>\n",
       "    <tr>\n",
       "      <th>4</th>\n",
       "      <td>Black - Non-Hispanic</td>\n",
       "      <td>35-44</td>\n",
       "      <td>D Felony</td>\n",
       "      <td>Violent</td>\n",
       "      <td>Assault</td>\n",
       "      <td>Discharged – End of Sentence</td>\n",
       "      <td>NaN</td>\n",
       "      <td>Yes</td>\n",
       "      <td>No</td>\n",
       "      <td>Male</td>\n",
       "    </tr>\n",
       "  </tbody>\n",
       "</table>\n",
       "</div>"
      ],
      "text/plain": [
       "         race_ethnicity age_released crime_class crime_type   crime_subtype  \\\n",
       "0  Black - Non-Hispanic        25-34    C Felony    Violent         Robbery   \n",
       "1  White - Non-Hispanic        25-34    D Felony   Property           Theft   \n",
       "2  White - Non-Hispanic        35-44    B Felony       Drug     Trafficking   \n",
       "3  White - Non-Hispanic        25-34    B Felony      Other  Other Criminal   \n",
       "4  Black - Non-Hispanic        35-44    D Felony    Violent         Assault   \n",
       "\n",
       "                   release_type super_dist recidivist target_pop   sex  \n",
       "0                        Parole        7JD        Yes        Yes  Male  \n",
       "1  Discharged – End of Sentence        NaN        Yes         No  Male  \n",
       "2                        Parole        5JD        Yes        Yes  Male  \n",
       "3                        Parole        6JD         No        Yes  Male  \n",
       "4  Discharged – End of Sentence        NaN        Yes         No  Male  "
      ]
     },
     "execution_count": 7,
     "metadata": {},
     "output_type": "execute_result"
    }
   ],
   "source": [
    "# # prisoners = \"https://raw.githubusercontent.com/jirvingphd/dsc-3-final-project-online-ds-ft-021119/master/iowa_recidivism_renamed.csv\"\n",
    "df = fs.datasets.load_iowa_prisoners(vers='clean',read_csv_kwds={'index_col':0})\n",
    "## Drop unwanted cols\n",
    "df= df.drop(columns=['yr_released','report_year'])\n",
    "df.head()"
   ]
  },
  {
   "cell_type": "code",
   "execution_count": 9,
   "metadata": {
    "ExecuteTime": {
     "end_time": "2020-09-29T17:17:09.708875Z",
     "start_time": "2020-09-29T17:17:09.703932Z"
    }
   },
   "outputs": [
    {
     "data": {
      "text/plain": [
       "race_ethnicity    object\n",
       "age_released      object\n",
       "crime_class       object\n",
       "crime_type        object\n",
       "crime_subtype     object\n",
       "release_type      object\n",
       "super_dist        object\n",
       "recidivist        object\n",
       "target_pop        object\n",
       "sex               object\n",
       "dtype: object"
      ]
     },
     "execution_count": 9,
     "metadata": {},
     "output_type": "execute_result"
    }
   ],
   "source": [
    "df.dtypes"
   ]
  },
  {
   "cell_type": "code",
   "execution_count": 12,
   "metadata": {
    "ExecuteTime": {
     "end_time": "2020-09-29T17:18:08.318871Z",
     "start_time": "2020-09-29T17:18:08.300659Z"
    }
   },
   "outputs": [
    {
     "data": {
      "text/plain": [
       "90"
      ]
     },
     "execution_count": 12,
     "metadata": {},
     "output_type": "execute_result"
    }
   ],
   "source": [
    "df.nunique().sum()"
   ]
  },
  {
   "cell_type": "code",
   "execution_count": null,
   "metadata": {
    "ExecuteTime": {
     "end_time": "2020-09-29T16:24:49.889902Z",
     "start_time": "2020-09-29T16:24:49.871658Z"
    }
   },
   "outputs": [],
   "source": [
    "df.info()"
   ]
  },
  {
   "cell_type": "markdown",
   "metadata": {},
   "source": [
    "### Making age_released numerical"
   ]
  },
  {
   "cell_type": "code",
   "execution_count": 14,
   "metadata": {
    "ExecuteTime": {
     "end_time": "2020-09-29T17:18:23.287660Z",
     "start_time": "2020-09-29T17:18:23.278511Z"
    }
   },
   "outputs": [
    {
     "data": {
      "text/plain": [
       "25-34           9554\n",
       "35-44           6223\n",
       "Under 25        4590\n",
       "45-54           4347\n",
       "55 and Older    1303\n",
       "NaN                3\n",
       "Name: age_released, dtype: int64"
      ]
     },
     "execution_count": 14,
     "metadata": {},
     "output_type": "execute_result"
    }
   ],
   "source": [
    "df['age_released'].value_counts(dropna=False)"
   ]
  },
  {
   "cell_type": "code",
   "execution_count": 15,
   "metadata": {
    "ExecuteTime": {
     "end_time": "2020-09-29T17:19:32.491492Z",
     "start_time": "2020-09-29T17:19:32.486619Z"
    }
   },
   "outputs": [
    {
     "data": {
      "text/plain": [
       "{'Under 25': 20, '25-34': 30, '35-44': 40, '45-54': 50, '55 and Older': 70}"
      ]
     },
     "execution_count": 15,
     "metadata": {},
     "output_type": "execute_result"
    }
   ],
   "source": [
    "# Mapping age_map onto 'age_released'\n",
    "# Encoding age groups as ordinal\n",
    "age_ranges = ('Under 25','25-34', '35-44','45-54','55 and Older')\n",
    "age_numbers = (20,30,40,50,70) \n",
    "age_num_map = dict(zip(age_ranges,age_numbers))\n",
    "age_num_map"
   ]
  },
  {
   "cell_type": "code",
   "execution_count": 16,
   "metadata": {
    "ExecuteTime": {
     "end_time": "2020-09-29T17:19:50.975974Z",
     "start_time": "2020-09-29T17:19:50.964980Z"
    }
   },
   "outputs": [
    {
     "data": {
      "text/plain": [
       "30.0    9554\n",
       "40.0    6223\n",
       "20.0    4590\n",
       "50.0    4347\n",
       "70.0    1303\n",
       "NaN        3\n",
       "Name: age_released, dtype: int64"
      ]
     },
     "execution_count": 16,
     "metadata": {},
     "output_type": "execute_result"
    }
   ],
   "source": [
    "df['age_released'] = df['age_released'].map(age_num_map)\n",
    "df['age_released'].value_counts(dropna=False)"
   ]
  },
  {
   "cell_type": "markdown",
   "metadata": {},
   "source": [
    "### Simplifying Categorical Columns"
   ]
  },
  {
   "cell_type": "code",
   "execution_count": null,
   "metadata": {
    "ExecuteTime": {
     "end_time": "2020-09-29T16:24:49.922653Z",
     "start_time": "2020-09-29T16:24:49.920326Z"
    }
   },
   "outputs": [],
   "source": [
    "# df['race_ethnicity'].value_counts(dropna=False)"
   ]
  },
  {
   "cell_type": "code",
   "execution_count": null,
   "metadata": {
    "ExecuteTime": {
     "end_time": "2020-09-29T16:24:49.927148Z",
     "start_time": "2020-09-29T16:24:49.924443Z"
    }
   },
   "outputs": [],
   "source": [
    "# # Defining Dictionary Map for race_ethnicity categories\n",
    "# race_ethnicity_map = {\n",
    "#     'White - Non-Hispanic':'White',\n",
    "#     'Black - Non-Hispanic': 'Black',\n",
    "#     'White - Hispanic' : 'Hispanic',\n",
    "#     'American Indian or Alaska Native - Non-Hispanic' : 'American Native',\n",
    "#     'Asian or Pacific Islander - Non-Hispanic' : 'Asian or Pacific Islander',\n",
    "#     'Black - Hispanic' : 'Black',\n",
    "#     'American Indian or Alaska Native - Hispanic':'American Native',\n",
    "#     'White -' : 'White',\n",
    "#     'Asian or Pacific Islander - Hispanic' : 'Asian or Pacific Islander',\n",
    "#     'N/A -' : np.nan,\n",
    "#     'Black -':'Black'\n",
    "# }\n",
    "\n",
    "# df['race_ethnicity'] = df['race_ethnicity'].map(race_ethnicity_map)\n",
    "# df['race_ethnicity'].value_counts(dropna=False)"
   ]
  },
  {
   "cell_type": "code",
   "execution_count": null,
   "metadata": {
    "ExecuteTime": {
     "end_time": "2020-09-29T16:24:49.931001Z",
     "start_time": "2020-09-29T16:24:49.928918Z"
    }
   },
   "outputs": [],
   "source": [
    "# df['crime_class'].value_counts()"
   ]
  },
  {
   "cell_type": "code",
   "execution_count": null,
   "metadata": {
    "ExecuteTime": {
     "end_time": "2020-09-29T16:24:49.935092Z",
     "start_time": "2020-09-29T16:24:49.932505Z"
    }
   },
   "outputs": [],
   "source": [
    "# # Remapping\n",
    "# crime_class_map = {'Other Felony (Old Code)': np.nan ,#or other felony\n",
    "#                   'Other Misdemeanor':np.nan,\n",
    "#                    'Felony - Mandatory Minimum':np.nan, # if minimum then lowest sentence ==  D Felony\n",
    "#                    'Special Sentence 2005': 'Sex Offender',\n",
    "#                    'Other Felony' : np.nan ,\n",
    "#                    'Sexual Predator Community Supervision' : 'Sex Offender',\n",
    "#                    'D Felony': 'D Felony',\n",
    "#                    'C Felony' :'C Felony',\n",
    "#                    'B Felony' : 'B Felony',\n",
    "#                    'A Felony' : 'A Felony',\n",
    "#                    'Aggravated Misdemeanor':'Aggravated Misdemeanor',\n",
    "#                    'Felony - Enhancement to Original Penalty':'Felony - Enhanced',\n",
    "#                    'Felony - Enhanced':'Felony - Enhanced' ,\n",
    "#                    'Serious Misdemeanor':'Serious Misdemeanor',\n",
    "#                    'Simple Misdemeanor':'Simple Misdemeanor'}\n",
    "\n",
    "# df['crime_class'] = df['crime_class'].map(crime_class_map)\n",
    "# df['crime_class'].value_counts(dropna=False)"
   ]
  },
  {
   "cell_type": "code",
   "execution_count": 17,
   "metadata": {
    "ExecuteTime": {
     "end_time": "2020-09-29T17:20:32.213549Z",
     "start_time": "2020-09-29T17:20:32.208151Z"
    }
   },
   "outputs": [
    {
     "data": {
      "text/plain": [
       "race_ethnicity     object\n",
       "age_released      float64\n",
       "crime_class        object\n",
       "crime_type         object\n",
       "crime_subtype      object\n",
       "release_type       object\n",
       "super_dist         object\n",
       "recidivist         object\n",
       "target_pop         object\n",
       "sex                object\n",
       "dtype: object"
      ]
     },
     "execution_count": 17,
     "metadata": {},
     "output_type": "execute_result"
    }
   ],
   "source": [
    "df.dtypes"
   ]
  },
  {
   "cell_type": "markdown",
   "metadata": {},
   "source": [
    "> For interest of model gridsarching, let's drop some categorical features"
   ]
  },
  {
   "cell_type": "code",
   "execution_count": 18,
   "metadata": {
    "ExecuteTime": {
     "end_time": "2020-09-29T17:20:33.982681Z",
     "start_time": "2020-09-29T17:20:33.965579Z"
    }
   },
   "outputs": [
    {
     "data": {
      "text/plain": [
       "race_ethnicity    11\n",
       "age_released       5\n",
       "crime_class       15\n",
       "crime_type         5\n",
       "crime_subtype     26\n",
       "release_type      12\n",
       "super_dist        10\n",
       "recidivist         2\n",
       "target_pop         2\n",
       "sex                2\n",
       "dtype: int64"
      ]
     },
     "execution_count": 18,
     "metadata": {},
     "output_type": "execute_result"
    }
   ],
   "source": [
    "df.nunique()"
   ]
  },
  {
   "cell_type": "code",
   "execution_count": 19,
   "metadata": {
    "ExecuteTime": {
     "end_time": "2020-09-29T17:21:13.455812Z",
     "start_time": "2020-09-29T17:21:13.435488Z"
    }
   },
   "outputs": [
    {
     "data": {
      "text/plain": [
       "race_ethnicity    11\n",
       "age_released       5\n",
       "crime_class       15\n",
       "crime_type         5\n",
       "release_type      12\n",
       "super_dist        10\n",
       "recidivist         2\n",
       "target_pop         2\n",
       "sex                2\n",
       "dtype: int64"
      ]
     },
     "execution_count": 19,
     "metadata": {},
     "output_type": "execute_result"
    }
   ],
   "source": [
    "df.drop(columns=['crime_subtype'],inplace=True)\n",
    "df.nunique()"
   ]
  },
  {
   "cell_type": "markdown",
   "metadata": {},
   "source": [
    "## Preprocessing with Pipelines +  `ColumnTransformer`\n",
    "\n",
    "- [Pipeline Documentation](https://scikit-learn.org/stable/modules/generated/sklearn.pipeline.Pipeline.html)\n",
    "- [ColumnTransformer Documentation](https://scikit-learn.org/stable/auto_examples/compose/plot_column_transformer_mixed_types.html)"
   ]
  },
  {
   "cell_type": "markdown",
   "metadata": {},
   "source": [
    "### Train-Test-Split"
   ]
  },
  {
   "cell_type": "code",
   "execution_count": 22,
   "metadata": {
    "ExecuteTime": {
     "end_time": "2020-09-29T17:23:03.924285Z",
     "start_time": "2020-09-29T17:23:03.913007Z"
    }
   },
   "outputs": [
    {
     "data": {
      "text/plain": [
       "0        1\n",
       "1        1\n",
       "2        1\n",
       "3        0\n",
       "4        1\n",
       "        ..\n",
       "26015    0\n",
       "26016    0\n",
       "26017    0\n",
       "26018    0\n",
       "26019    1\n",
       "Name: recidivist, Length: 26020, dtype: int64"
      ]
     },
     "execution_count": 22,
     "metadata": {},
     "output_type": "execute_result"
    }
   ],
   "source": [
    "## Make x and y\n",
    "X = df.drop(columns=['recidivist'])\n",
    "y = df['recidivist'].map({'Yes':1,'No':0})\n",
    "y"
   ]
  },
  {
   "cell_type": "code",
   "execution_count": 24,
   "metadata": {
    "ExecuteTime": {
     "end_time": "2020-09-29T17:23:54.064874Z",
     "start_time": "2020-09-29T17:23:54.054956Z"
    }
   },
   "outputs": [
    {
     "data": {
      "text/plain": [
       "0    0.666372\n",
       "1    0.333628\n",
       "Name: recidivist, dtype: float64"
      ]
     },
     "execution_count": 24,
     "metadata": {},
     "output_type": "execute_result"
    }
   ],
   "source": [
    "## check class balance\n",
    "y.value_counts(normalize=True)"
   ]
  },
  {
   "cell_type": "code",
   "execution_count": 29,
   "metadata": {
    "ExecuteTime": {
     "end_time": "2020-09-29T17:26:22.837585Z",
     "start_time": "2020-09-29T17:26:22.812550Z"
    }
   },
   "outputs": [
    {
     "data": {
      "text/plain": [
       "(0    0.666359\n",
       " 1    0.333641\n",
       " Name: recidivist, dtype: float64,\n",
       " 0    0.66641\n",
       " 1    0.33359\n",
       " Name: recidivist, dtype: float64)"
      ]
     },
     "execution_count": 29,
     "metadata": {},
     "output_type": "execute_result"
    }
   ],
   "source": [
    "from sklearn.model_selection import train_test_split\n",
    "\n",
    "## Train test split\n",
    "X_train, X_test, y_train, y_test = train_test_split(X,y,stratify=y)\n",
    "y_train.value_counts(1), y_test.value_counts(1)"
   ]
  },
  {
   "cell_type": "markdown",
   "metadata": {},
   "source": [
    "# Preprocessing Data"
   ]
  },
  {
   "cell_type": "markdown",
   "metadata": {},
   "source": [
    "- Impute Null values\n",
    "- Scaling Numerical Data\n",
    "- Encode Categorical Data\n",
    "    - ~~Label Encoding~~\n",
    "    - One hot encoding\n"
   ]
  },
  {
   "cell_type": "code",
   "execution_count": 31,
   "metadata": {
    "ExecuteTime": {
     "end_time": "2020-09-29T17:27:40.663860Z",
     "start_time": "2020-09-29T17:27:40.101320Z"
    }
   },
   "outputs": [
    {
     "data": {
      "text/plain": [
       "<AxesSubplot:>"
      ]
     },
     "execution_count": 31,
     "metadata": {},
     "output_type": "execute_result"
    },
    {
     "data": {
      "image/png": "[encoded data removed]",
      "text/plain": [
       "<Figure size 1800x720 with 2 Axes>"
      ]
     },
     "metadata": {
      "needs_background": "light"
     },
     "output_type": "display_data"
    }
   ],
   "source": [
    "## Check null values (visually too)\n",
    "import missingno\n",
    "missingno.matrix(df)"
   ]
  },
  {
   "cell_type": "markdown",
   "metadata": {},
   "source": [
    "#### Pipelnes and ColumnTransformer"
   ]
  },
  {
   "cell_type": "code",
   "execution_count": 32,
   "metadata": {
    "ExecuteTime": {
     "end_time": "2020-09-29T17:28:34.013054Z",
     "start_time": "2020-09-29T17:28:34.002127Z"
    }
   },
   "outputs": [],
   "source": [
    "from sklearn.pipeline import Pipeline\n",
    "from sklearn.compose import ColumnTransformer"
   ]
  },
  {
   "cell_type": "code",
   "execution_count": 33,
   "metadata": {
    "ExecuteTime": {
     "end_time": "2020-09-29T17:28:41.069467Z",
     "start_time": "2020-09-29T17:28:40.981947Z"
    }
   },
   "outputs": [],
   "source": [
    "from sklearn.impute import SimpleImputer\n",
    "from sklearn.preprocessing import StandardScaler, MinMaxScaler,OneHotEncoder"
   ]
  },
  {
   "cell_type": "code",
   "execution_count": 34,
   "metadata": {
    "ExecuteTime": {
     "end_time": "2020-09-29T17:28:42.768779Z",
     "start_time": "2020-09-29T17:28:42.764908Z"
    }
   },
   "outputs": [],
   "source": [
    "from sklearn import set_config\n",
    "set_config(display='text')"
   ]
  },
  {
   "cell_type": "code",
   "execution_count": 35,
   "metadata": {
    "ExecuteTime": {
     "end_time": "2020-09-29T17:28:59.179577Z",
     "start_time": "2020-09-29T17:28:59.172002Z"
    }
   },
   "outputs": [
    {
     "data": {
      "text/plain": [
       "Index(['age_released'], dtype='object')"
      ]
     },
     "execution_count": 35,
     "metadata": {},
     "output_type": "execute_result"
    }
   ],
   "source": [
    "## Get a list of columns to be run as numeric data\n",
    "num_cols = X_train.select_dtypes('number').columns\n",
    "num_cols"
   ]
  },
  {
   "cell_type": "code",
   "execution_count": 36,
   "metadata": {
    "ExecuteTime": {
     "end_time": "2020-09-29T17:31:19.979980Z",
     "start_time": "2020-09-29T17:31:19.971711Z"
    },
    "scrolled": true
   },
   "outputs": [
    {
     "data": {
      "text/plain": [
       "Pipeline(steps=[('imputer', SimpleImputer(strategy='median')),\n",
       "                ('scaler', StandardScaler())])"
      ]
     },
     "execution_count": 36,
     "metadata": {},
     "output_type": "execute_result"
    }
   ],
   "source": [
    "## Make a num_transformer pipeline\n",
    "num_transformer = Pipeline(steps=[\n",
    "    ('imputer', SimpleImputer(strategy='median')),\n",
    "    ('scaler',StandardScaler())])\n",
    "num_transformer"
   ]
  },
  {
   "cell_type": "code",
   "execution_count": 37,
   "metadata": {
    "ExecuteTime": {
     "end_time": "2020-09-29T17:31:21.539933Z",
     "start_time": "2020-09-29T17:31:21.530371Z"
    }
   },
   "outputs": [
    {
     "data": {
      "text/html": [
       "<style>div.sk-top-container {color: black;background-color: white;}div.sk-toggleable {background-color: white;}label.sk-toggleable__label {cursor: pointer;display: block;width: 100%;margin-bottom: 0;padding: 0.2em 0.3em;box-sizing: border-box;text-align: center;}div.sk-toggleable__content {max-height: 0;max-width: 0;overflow: hidden;text-align: left;background-color: #f0f8ff;}div.sk-toggleable__content pre {margin: 0.2em;color: black;border-radius: 0.25em;background-color: #f0f8ff;}input.sk-toggleable__control:checked~div.sk-toggleable__content {max-height: 200px;max-width: 100%;overflow: auto;}div.sk-estimator input.sk-toggleable__control:checked~label.sk-toggleable__label {background-color: #d4ebff;}div.sk-label input.sk-toggleable__control:checked~label.sk-toggleable__label {background-color: #d4ebff;}input.sk-hidden--visually {border: 0;clip: rect(1px 1px 1px 1px);clip: rect(1px, 1px, 1px, 1px);height: 1px;margin: -1px;overflow: hidden;padding: 0;position: absolute;width: 1px;}div.sk-estimator {font-family: monospace;background-color: #f0f8ff;margin: 0.25em 0.25em;border: 1px dotted black;border-radius: 0.25em;box-sizing: border-box;}div.sk-estimator:hover {background-color: #d4ebff;}div.sk-parallel-item::after {content: \"\";width: 100%;border-bottom: 1px solid gray;flex-grow: 1;}div.sk-label:hover label.sk-toggleable__label {background-color: #d4ebff;}div.sk-serial::before {content: \"\";position: absolute;border-left: 1px solid gray;box-sizing: border-box;top: 2em;bottom: 0;left: 50%;}div.sk-serial {display: flex;flex-direction: column;align-items: center;background-color: white;}div.sk-item {z-index: 1;}div.sk-parallel {display: flex;align-items: stretch;justify-content: center;background-color: white;}div.sk-parallel-item {display: flex;flex-direction: column;position: relative;background-color: white;}div.sk-parallel-item:first-child::after {align-self: flex-end;width: 50%;}div.sk-parallel-item:last-child::after {align-self: flex-start;width: 50%;}div.sk-parallel-item:only-child::after {width: 0;}div.sk-dashed-wrapped {border: 1px dashed gray;margin: 0.2em;box-sizing: border-box;padding-bottom: 0.1em;background-color: white;position: relative;}div.sk-label label {font-family: monospace;font-weight: bold;background-color: white;display: inline-block;line-height: 1.2em;}div.sk-label-container {position: relative;z-index: 2;text-align: center;}div.sk-container {display: inline-block;position: relative;}</style><div class=\"sk-top-container\"><div class=\"sk-container\"><div class=\"sk-item sk-dashed-wrapped\"><div class=\"sk-label-container\"><div class=\"sk-label sk-toggleable\"><input class=\"sk-toggleable__control sk-hidden--visually\" id=\"87837560-a0e3-4238-a9b5-23ff73341b42\" type=\"checkbox\" ><label class=\"sk-toggleable__label\" for=\"87837560-a0e3-4238-a9b5-23ff73341b42\">Pipeline</label><div class=\"sk-toggleable__content\"><pre>Pipeline(steps=[('imputer', SimpleImputer(strategy='median')),\n",
       "                ('scaler', StandardScaler())])</pre></div></div></div><div class=\"sk-serial\"><div class=\"sk-item\"><div class=\"sk-estimator sk-toggleable\"><input class=\"sk-toggleable__control sk-hidden--visually\" id=\"14986186-b635-4c00-aca3-5c000f309cd8\" type=\"checkbox\" ><label class=\"sk-toggleable__label\" for=\"14986186-b635-4c00-aca3-5c000f309cd8\">SimpleImputer</label><div class=\"sk-toggleable__content\"><pre>SimpleImputer(strategy='median')</pre></div></div></div><div class=\"sk-item\"><div class=\"sk-estimator sk-toggleable\"><input class=\"sk-toggleable__control sk-hidden--visually\" id=\"c832d2ec-717c-4d85-9412-64b6b652c3f7\" type=\"checkbox\" ><label class=\"sk-toggleable__label\" for=\"c832d2ec-717c-4d85-9412-64b6b652c3f7\">StandardScaler</label><div class=\"sk-toggleable__content\"><pre>StandardScaler()</pre></div></div></div></div></div></div></div>"
      ],
      "text/plain": [
       "Pipeline(steps=[('imputer', SimpleImputer(strategy='median')),\n",
       "                ('scaler', StandardScaler())])"
      ]
     },
     "execution_count": 37,
     "metadata": {},
     "output_type": "execute_result"
    }
   ],
   "source": [
    "## vis as diagram\n",
    "set_config(display='diagram')\n",
    "num_transformer"
   ]
  },
  {
   "cell_type": "code",
   "execution_count": 38,
   "metadata": {
    "ExecuteTime": {
     "end_time": "2020-09-29T17:32:17.078668Z",
     "start_time": "2020-09-29T17:32:17.070837Z"
    },
    "scrolled": true
   },
   "outputs": [
    {
     "data": {
      "text/plain": [
       "Index(['race_ethnicity', 'crime_class', 'crime_type', 'release_type',\n",
       "       'super_dist', 'target_pop', 'sex'],\n",
       "      dtype='object')"
      ]
     },
     "execution_count": 38,
     "metadata": {},
     "output_type": "execute_result"
    }
   ],
   "source": [
    "## Get a list of columns to be run as categorical data\n",
    "cat_cols = X_train.select_dtypes('O').columns\n",
    "cat_cols"
   ]
  },
  {
   "cell_type": "code",
   "execution_count": 46,
   "metadata": {
    "ExecuteTime": {
     "end_time": "2020-09-29T17:39:41.013502Z",
     "start_time": "2020-09-29T17:39:41.002585Z"
    }
   },
   "outputs": [
    {
     "data": {
      "text/html": [
       "<style>div.sk-top-container {color: black;background-color: white;}div.sk-toggleable {background-color: white;}label.sk-toggleable__label {cursor: pointer;display: block;width: 100%;margin-bottom: 0;padding: 0.2em 0.3em;box-sizing: border-box;text-align: center;}div.sk-toggleable__content {max-height: 0;max-width: 0;overflow: hidden;text-align: left;background-color: #f0f8ff;}div.sk-toggleable__content pre {margin: 0.2em;color: black;border-radius: 0.25em;background-color: #f0f8ff;}input.sk-toggleable__control:checked~div.sk-toggleable__content {max-height: 200px;max-width: 100%;overflow: auto;}div.sk-estimator input.sk-toggleable__control:checked~label.sk-toggleable__label {background-color: #d4ebff;}div.sk-label input.sk-toggleable__control:checked~label.sk-toggleable__label {background-color: #d4ebff;}input.sk-hidden--visually {border: 0;clip: rect(1px 1px 1px 1px);clip: rect(1px, 1px, 1px, 1px);height: 1px;margin: -1px;overflow: hidden;padding: 0;position: absolute;width: 1px;}div.sk-estimator {font-family: monospace;background-color: #f0f8ff;margin: 0.25em 0.25em;border: 1px dotted black;border-radius: 0.25em;box-sizing: border-box;}div.sk-estimator:hover {background-color: #d4ebff;}div.sk-parallel-item::after {content: \"\";width: 100%;border-bottom: 1px solid gray;flex-grow: 1;}div.sk-label:hover label.sk-toggleable__label {background-color: #d4ebff;}div.sk-serial::before {content: \"\";position: absolute;border-left: 1px solid gray;box-sizing: border-box;top: 2em;bottom: 0;left: 50%;}div.sk-serial {display: flex;flex-direction: column;align-items: center;background-color: white;}div.sk-item {z-index: 1;}div.sk-parallel {display: flex;align-items: stretch;justify-content: center;background-color: white;}div.sk-parallel-item {display: flex;flex-direction: column;position: relative;background-color: white;}div.sk-parallel-item:first-child::after {align-self: flex-end;width: 50%;}div.sk-parallel-item:last-child::after {align-self: flex-start;width: 50%;}div.sk-parallel-item:only-child::after {width: 0;}div.sk-dashed-wrapped {border: 1px dashed gray;margin: 0.2em;box-sizing: border-box;padding-bottom: 0.1em;background-color: white;position: relative;}div.sk-label label {font-family: monospace;font-weight: bold;background-color: white;display: inline-block;line-height: 1.2em;}div.sk-label-container {position: relative;z-index: 2;text-align: center;}div.sk-container {display: inline-block;position: relative;}</style><div class=\"sk-top-container\"><div class=\"sk-container\"><div class=\"sk-item sk-dashed-wrapped\"><div class=\"sk-label-container\"><div class=\"sk-label sk-toggleable\"><input class=\"sk-toggleable__control sk-hidden--visually\" id=\"4bb32084-8ce5-452a-885a-727f1cf7fe20\" type=\"checkbox\" ><label class=\"sk-toggleable__label\" for=\"4bb32084-8ce5-452a-885a-727f1cf7fe20\">Pipeline</label><div class=\"sk-toggleable__content\"><pre>Pipeline(steps=[('imputer',\n",
       "                 SimpleImputer(fill_value='missing', strategy='constant')),\n",
       "                ('encoder',\n",
       "                 OneHotEncoder(handle_unknown='ignore', sparse=False))])</pre></div></div></div><div class=\"sk-serial\"><div class=\"sk-item\"><div class=\"sk-estimator sk-toggleable\"><input class=\"sk-toggleable__control sk-hidden--visually\" id=\"bcc91c62-e4bd-492d-9230-be0088b61ded\" type=\"checkbox\" ><label class=\"sk-toggleable__label\" for=\"bcc91c62-e4bd-492d-9230-be0088b61ded\">SimpleImputer</label><div class=\"sk-toggleable__content\"><pre>SimpleImputer(fill_value='missing', strategy='constant')</pre></div></div></div><div class=\"sk-item\"><div class=\"sk-estimator sk-toggleable\"><input class=\"sk-toggleable__control sk-hidden--visually\" id=\"52a2514a-26aa-4bfd-961a-99a1c3bf83ef\" type=\"checkbox\" ><label class=\"sk-toggleable__label\" for=\"52a2514a-26aa-4bfd-961a-99a1c3bf83ef\">OneHotEncoder</label><div class=\"sk-toggleable__content\"><pre>OneHotEncoder(handle_unknown='ignore', sparse=False)</pre></div></div></div></div></div></div></div>"
      ],
      "text/plain": [
       "Pipeline(steps=[('imputer',\n",
       "                 SimpleImputer(fill_value='missing', strategy='constant')),\n",
       "                ('encoder',\n",
       "                 OneHotEncoder(handle_unknown='ignore', sparse=False))])"
      ]
     },
     "execution_count": 46,
     "metadata": {},
     "output_type": "execute_result"
    }
   ],
   "source": [
    "## Create a cat_transformer pipeline \n",
    "cat_transformer = Pipeline(steps=[\n",
    "    ('imputer',SimpleImputer(strategy='constant',fill_value='missing')),\n",
    "    ('encoder', OneHotEncoder(handle_unknown='ignore',sparse=False))])\n",
    "cat_transformer\n",
    "\n",
    "## that will impute using median and then calculate z-scores\n"
   ]
  },
  {
   "cell_type": "markdown",
   "metadata": {},
   "source": [
    "### Combine Preprocessing into one ColumnTransformer"
   ]
  },
  {
   "cell_type": "code",
   "execution_count": 47,
   "metadata": {
    "ExecuteTime": {
     "end_time": "2020-09-29T17:39:41.780944Z",
     "start_time": "2020-09-29T17:39:41.708678Z"
    },
    "scrolled": true
   },
   "outputs": [
    {
     "data": {
      "text/html": [
       "<style>div.sk-top-container {color: black;background-color: white;}div.sk-toggleable {background-color: white;}label.sk-toggleable__label {cursor: pointer;display: block;width: 100%;margin-bottom: 0;padding: 0.2em 0.3em;box-sizing: border-box;text-align: center;}div.sk-toggleable__content {max-height: 0;max-width: 0;overflow: hidden;text-align: left;background-color: #f0f8ff;}div.sk-toggleable__content pre {margin: 0.2em;color: black;border-radius: 0.25em;background-color: #f0f8ff;}input.sk-toggleable__control:checked~div.sk-toggleable__content {max-height: 200px;max-width: 100%;overflow: auto;}div.sk-estimator input.sk-toggleable__control:checked~label.sk-toggleable__label {background-color: #d4ebff;}div.sk-label input.sk-toggleable__control:checked~label.sk-toggleable__label {background-color: #d4ebff;}input.sk-hidden--visually {border: 0;clip: rect(1px 1px 1px 1px);clip: rect(1px, 1px, 1px, 1px);height: 1px;margin: -1px;overflow: hidden;padding: 0;position: absolute;width: 1px;}div.sk-estimator {font-family: monospace;background-color: #f0f8ff;margin: 0.25em 0.25em;border: 1px dotted black;border-radius: 0.25em;box-sizing: border-box;}div.sk-estimator:hover {background-color: #d4ebff;}div.sk-parallel-item::after {content: \"\";width: 100%;border-bottom: 1px solid gray;flex-grow: 1;}div.sk-label:hover label.sk-toggleable__label {background-color: #d4ebff;}div.sk-serial::before {content: \"\";position: absolute;border-left: 1px solid gray;box-sizing: border-box;top: 2em;bottom: 0;left: 50%;}div.sk-serial {display: flex;flex-direction: column;align-items: center;background-color: white;}div.sk-item {z-index: 1;}div.sk-parallel {display: flex;align-items: stretch;justify-content: center;background-color: white;}div.sk-parallel-item {display: flex;flex-direction: column;position: relative;background-color: white;}div.sk-parallel-item:first-child::after {align-self: flex-end;width: 50%;}div.sk-parallel-item:last-child::after {align-self: flex-start;width: 50%;}div.sk-parallel-item:only-child::after {width: 0;}div.sk-dashed-wrapped {border: 1px dashed gray;margin: 0.2em;box-sizing: border-box;padding-bottom: 0.1em;background-color: white;position: relative;}div.sk-label label {font-family: monospace;font-weight: bold;background-color: white;display: inline-block;line-height: 1.2em;}div.sk-label-container {position: relative;z-index: 2;text-align: center;}div.sk-container {display: inline-block;position: relative;}</style><div class=\"sk-top-container\"><div class=\"sk-container\"><div class=\"sk-item sk-dashed-wrapped\"><div class=\"sk-label-container\"><div class=\"sk-label sk-toggleable\"><input class=\"sk-toggleable__control sk-hidden--visually\" id=\"b51fbab9-7486-4d32-b345-5a11b1b92bb7\" type=\"checkbox\" ><label class=\"sk-toggleable__label\" for=\"b51fbab9-7486-4d32-b345-5a11b1b92bb7\">ColumnTransformer</label><div class=\"sk-toggleable__content\"><pre>ColumnTransformer(transformers=[('num',\n",
       "                                 Pipeline(steps=[('imputer',\n",
       "                                                  SimpleImputer(strategy='median')),\n",
       "                                                 ('scaler', StandardScaler())]),\n",
       "                                 Index(['age_released'], dtype='object')),\n",
       "                                ('cat',\n",
       "                                 Pipeline(steps=[('imputer',\n",
       "                                                  SimpleImputer(fill_value='missing',\n",
       "                                                                strategy='constant')),\n",
       "                                                 ('encoder',\n",
       "                                                  OneHotEncoder(handle_unknown='ignore',\n",
       "                                                                sparse=False))]),\n",
       "                                 Index(['race_ethnicity', 'crime_class', 'crime_type', 'release_type',\n",
       "       'super_dist', 'target_pop', 'sex'],\n",
       "      dtype='object'))])</pre></div></div></div><div class=\"sk-parallel\"><div class=\"sk-parallel-item\"><div class=\"sk-item\"><div class=\"sk-label-container\"><div class=\"sk-label sk-toggleable\"><input class=\"sk-toggleable__control sk-hidden--visually\" id=\"8d4b3cd5-f525-4e6f-8cd4-368a8cacaaaa\" type=\"checkbox\" ><label class=\"sk-toggleable__label\" for=\"8d4b3cd5-f525-4e6f-8cd4-368a8cacaaaa\">num</label><div class=\"sk-toggleable__content\"><pre>Index(['age_released'], dtype='object')</pre></div></div></div><div class=\"sk-serial\"><div class=\"sk-item\"><div class=\"sk-serial\"><div class=\"sk-item\"><div class=\"sk-estimator sk-toggleable\"><input class=\"sk-toggleable__control sk-hidden--visually\" id=\"c61c9828-c81c-4367-9f1f-4b3d5655b84c\" type=\"checkbox\" ><label class=\"sk-toggleable__label\" for=\"c61c9828-c81c-4367-9f1f-4b3d5655b84c\">SimpleImputer</label><div class=\"sk-toggleable__content\"><pre>SimpleImputer(strategy='median')</pre></div></div></div><div class=\"sk-item\"><div class=\"sk-estimator sk-toggleable\"><input class=\"sk-toggleable__control sk-hidden--visually\" id=\"080d9de3-b04c-4b53-924b-c28cf96627c3\" type=\"checkbox\" ><label class=\"sk-toggleable__label\" for=\"080d9de3-b04c-4b53-924b-c28cf96627c3\">StandardScaler</label><div class=\"sk-toggleable__content\"><pre>StandardScaler()</pre></div></div></div></div></div></div></div></div><div class=\"sk-parallel-item\"><div class=\"sk-item\"><div class=\"sk-label-container\"><div class=\"sk-label sk-toggleable\"><input class=\"sk-toggleable__control sk-hidden--visually\" id=\"adfcef7c-61c2-4247-bf80-6b3c991a7586\" type=\"checkbox\" ><label class=\"sk-toggleable__label\" for=\"adfcef7c-61c2-4247-bf80-6b3c991a7586\">cat</label><div class=\"sk-toggleable__content\"><pre>Index(['race_ethnicity', 'crime_class', 'crime_type', 'release_type',\n",
       "       'super_dist', 'target_pop', 'sex'],\n",
       "      dtype='object')</pre></div></div></div><div class=\"sk-serial\"><div class=\"sk-item\"><div class=\"sk-serial\"><div class=\"sk-item\"><div class=\"sk-estimator sk-toggleable\"><input class=\"sk-toggleable__control sk-hidden--visually\" id=\"78efb8ff-06c8-4195-b36c-3ab7878f7568\" type=\"checkbox\" ><label class=\"sk-toggleable__label\" for=\"78efb8ff-06c8-4195-b36c-3ab7878f7568\">SimpleImputer</label><div class=\"sk-toggleable__content\"><pre>SimpleImputer(fill_value='missing', strategy='constant')</pre></div></div></div><div class=\"sk-item\"><div class=\"sk-estimator sk-toggleable\"><input class=\"sk-toggleable__control sk-hidden--visually\" id=\"f0a1c912-0fca-4a51-a461-00c8a216296a\" type=\"checkbox\" ><label class=\"sk-toggleable__label\" for=\"f0a1c912-0fca-4a51-a461-00c8a216296a\">OneHotEncoder</label><div class=\"sk-toggleable__content\"><pre>OneHotEncoder(handle_unknown='ignore', sparse=False)</pre></div></div></div></div></div></div></div></div></div></div></div></div>"
      ],
      "text/plain": [
       "ColumnTransformer(transformers=[('num',\n",
       "                                 Pipeline(steps=[('imputer',\n",
       "                                                  SimpleImputer(strategy='median')),\n",
       "                                                 ('scaler', StandardScaler())]),\n",
       "                                 Index(['age_released'], dtype='object')),\n",
       "                                ('cat',\n",
       "                                 Pipeline(steps=[('imputer',\n",
       "                                                  SimpleImputer(fill_value='missing',\n",
       "                                                                strategy='constant')),\n",
       "                                                 ('encoder',\n",
       "                                                  OneHotEncoder(handle_unknown='ignore',\n",
       "                                                                sparse=False))]),\n",
       "                                 Index(['race_ethnicity', 'crime_class', 'crime_type', 'release_type',\n",
       "       'super_dist', 'target_pop', 'sex'],\n",
       "      dtype='object'))])"
      ]
     },
     "execution_count": 47,
     "metadata": {},
     "output_type": "execute_result"
    }
   ],
   "source": [
    "## COMBINE BOTH PIPELINES INTO ONE WITH COLUMN TRANSFORMER\n",
    "preprocessing = ColumnTransformer(transformers=[\n",
    "    ('num',num_transformer,num_cols),\n",
    "    ('cat',cat_transformer,cat_cols)])\n",
    "preprocessing"
   ]
  },
  {
   "cell_type": "code",
   "execution_count": 48,
   "metadata": {
    "ExecuteTime": {
     "end_time": "2020-09-29T17:39:42.204285Z",
     "start_time": "2020-09-29T17:39:42.111944Z"
    }
   },
   "outputs": [
    {
     "data": {
      "text/plain": [
       "array([[ 0.32638328,  0.        ,  0.        , ...,  0.        ,\n",
       "         1.        ,  0.        ],\n",
       "       [ 1.13478153,  0.        ,  0.        , ...,  0.        ,\n",
       "         1.        ,  0.        ],\n",
       "       [ 1.13478153,  0.        ,  0.        , ...,  1.        ,\n",
       "         0.        ,  0.        ],\n",
       "       ...,\n",
       "       [ 1.13478153,  0.        ,  0.        , ...,  0.        ,\n",
       "         1.        ,  0.        ],\n",
       "       [-0.48201496,  0.        ,  0.        , ...,  0.        ,\n",
       "         1.        ,  0.        ],\n",
       "       [ 1.13478153,  0.        ,  0.        , ...,  0.        ,\n",
       "         1.        ,  0.        ]])"
      ]
     },
     "execution_count": 48,
     "metadata": {},
     "output_type": "execute_result"
    }
   ],
   "source": [
    "## Get X_train and X_test from column transformer\n",
    "X_train_tf = preprocessing.fit_transform(X_train)\n",
    "X_test_tf = preprocessing.transform(X_test)\n",
    "X_train_tf"
   ]
  },
  {
   "cell_type": "markdown",
   "metadata": {},
   "source": [
    "> **One downside of Pipelines is that its harder to get the individual info we need to re-form our dataset as a df**"
   ]
  },
  {
   "cell_type": "code",
   "execution_count": 52,
   "metadata": {
    "ExecuteTime": {
     "end_time": "2020-09-29T17:42:42.861376Z",
     "start_time": "2020-09-29T17:42:42.852438Z"
    }
   },
   "outputs": [
    {
     "data": {
      "text/plain": [
       "Pipeline(steps=[('imputer',\n",
       "                 SimpleImputer(fill_value='missing', strategy='constant')),\n",
       "                ('encoder',\n",
       "                 OneHotEncoder(handle_unknown='ignore', sparse=False))])"
      ]
     },
     "execution_count": 52,
     "metadata": {},
     "output_type": "execute_result"
    }
   ],
   "source": [
    "set_config(display='text')\n",
    "slice_pipe = preprocessing.named_transformers_['cat']\n",
    "slice_pipe"
   ]
  },
  {
   "cell_type": "code",
   "execution_count": 57,
   "metadata": {
    "ExecuteTime": {
     "end_time": "2020-09-29T17:43:48.972222Z",
     "start_time": "2020-09-29T17:43:48.967995Z"
    }
   },
   "outputs": [
    {
     "data": {
      "text/plain": [
       "array(['race_ethnicity_American Indian or Alaska Native - Hispanic',\n",
       "       'race_ethnicity_American Indian or Alaska Native - Non-Hispanic',\n",
       "       'race_ethnicity_Asian or Pacific Islander - Hispanic',\n",
       "       'race_ethnicity_Asian or Pacific Islander - Non-Hispanic',\n",
       "       'race_ethnicity_Black -', 'race_ethnicity_Black - Hispanic',\n",
       "       'race_ethnicity_Black - Non-Hispanic', 'race_ethnicity_N/A -',\n",
       "       'race_ethnicity_White -', 'race_ethnicity_White - Hispanic',\n",
       "       'race_ethnicity_White - Non-Hispanic', 'race_ethnicity_missing',\n",
       "       'crime_class_A Felony', 'crime_class_Aggravated Misdemeanor',\n",
       "       'crime_class_B Felony', 'crime_class_C Felony',\n",
       "       'crime_class_D Felony', 'crime_class_Felony - Enhanced',\n",
       "       'crime_class_Felony - Enhancement to Original Penalty',\n",
       "       'crime_class_Felony - Mandatory Minimum',\n",
       "       'crime_class_Other Felony', 'crime_class_Other Felony (Old Code)',\n",
       "       'crime_class_Other Misdemeanor', 'crime_class_Serious Misdemeanor',\n",
       "       'crime_class_Sexual Predator Community Supervision',\n",
       "       'crime_class_Simple Misdemeanor',\n",
       "       'crime_class_Special Sentence 2005', 'crime_type_Drug',\n",
       "       'crime_type_Other', 'crime_type_Property',\n",
       "       'crime_type_Public Order', 'crime_type_Violent',\n",
       "       'release_type_Discharged - Expiration of Sentence',\n",
       "       'release_type_Discharged – End of Sentence',\n",
       "       'release_type_Interstate Compact Parole', 'release_type_Parole',\n",
       "       'release_type_Parole Granted',\n",
       "       'release_type_Paroled to Detainer - INS',\n",
       "       'release_type_Paroled to Detainer - Iowa',\n",
       "       'release_type_Paroled to Detainer - Out of State',\n",
       "       'release_type_Paroled to Detainer - U.S. Marshall',\n",
       "       'release_type_Paroled w/Immediate Discharge',\n",
       "       'release_type_Released to Special Sentence',\n",
       "       'release_type_Special Sentence', 'release_type_missing',\n",
       "       'super_dist_1JD', 'super_dist_2JD', 'super_dist_3JD',\n",
       "       'super_dist_4JD', 'super_dist_5JD', 'super_dist_6JD',\n",
       "       'super_dist_7JD', 'super_dist_8JD', 'super_dist_ISC',\n",
       "       'super_dist_Interstate Compact', 'super_dist_missing',\n",
       "       'target_pop_No', 'target_pop_Yes', 'sex_Female', 'sex_Male',\n",
       "       'sex_missing'], dtype=object)"
      ]
     },
     "execution_count": 57,
     "metadata": {},
     "output_type": "execute_result"
    }
   ],
   "source": [
    "cat_feautres = slice_pipe.named_steps['encoder'].get_feature_names(cat_cols)\n",
    "cat_feautres"
   ]
  },
  {
   "cell_type": "code",
   "execution_count": 59,
   "metadata": {
    "ExecuteTime": {
     "end_time": "2020-09-29T17:45:00.289214Z",
     "start_time": "2020-09-29T17:45:00.249719Z"
    }
   },
   "outputs": [
    {
     "data": {
      "text/html": [
       "<div>\n",
       "<style scoped>\n",
       "    .dataframe tbody tr th:only-of-type {\n",
       "        vertical-align: middle;\n",
       "    }\n",
       "\n",
       "    .dataframe tbody tr th {\n",
       "        vertical-align: top;\n",
       "    }\n",
       "\n",
       "    .dataframe thead th {\n",
       "        text-align: right;\n",
       "    }\n",
       "</style>\n",
       "<table border=\"1\" class=\"dataframe\">\n",
       "  <thead>\n",
       "    <tr style=\"text-align: right;\">\n",
       "      <th></th>\n",
       "      <th>age_released</th>\n",
       "      <th>race_ethnicity_American Indian or Alaska Native - Hispanic</th>\n",
       "      <th>race_ethnicity_American Indian or Alaska Native - Non-Hispanic</th>\n",
       "      <th>race_ethnicity_Asian or Pacific Islander - Hispanic</th>\n",
       "      <th>race_ethnicity_Asian or Pacific Islander - Non-Hispanic</th>\n",
       "      <th>race_ethnicity_Black -</th>\n",
       "      <th>race_ethnicity_Black - Hispanic</th>\n",
       "      <th>race_ethnicity_Black - Non-Hispanic</th>\n",
       "      <th>race_ethnicity_N/A -</th>\n",
       "      <th>race_ethnicity_White -</th>\n",
       "      <th>...</th>\n",
       "      <th>super_dist_7JD</th>\n",
       "      <th>super_dist_8JD</th>\n",
       "      <th>super_dist_ISC</th>\n",
       "      <th>super_dist_Interstate Compact</th>\n",
       "      <th>super_dist_missing</th>\n",
       "      <th>target_pop_No</th>\n",
       "      <th>target_pop_Yes</th>\n",
       "      <th>sex_Female</th>\n",
       "      <th>sex_Male</th>\n",
       "      <th>sex_missing</th>\n",
       "    </tr>\n",
       "  </thead>\n",
       "  <tbody>\n",
       "    <tr>\n",
       "      <th>0</th>\n",
       "      <td>0.326383</td>\n",
       "      <td>0.0</td>\n",
       "      <td>0.0</td>\n",
       "      <td>0.0</td>\n",
       "      <td>0.0</td>\n",
       "      <td>0.0</td>\n",
       "      <td>0.0</td>\n",
       "      <td>0.0</td>\n",
       "      <td>0.0</td>\n",
       "      <td>0.0</td>\n",
       "      <td>...</td>\n",
       "      <td>0.0</td>\n",
       "      <td>0.0</td>\n",
       "      <td>0.0</td>\n",
       "      <td>0.0</td>\n",
       "      <td>0.0</td>\n",
       "      <td>0.0</td>\n",
       "      <td>1.0</td>\n",
       "      <td>0.0</td>\n",
       "      <td>1.0</td>\n",
       "      <td>0.0</td>\n",
       "    </tr>\n",
       "    <tr>\n",
       "      <th>1</th>\n",
       "      <td>1.134782</td>\n",
       "      <td>0.0</td>\n",
       "      <td>0.0</td>\n",
       "      <td>0.0</td>\n",
       "      <td>0.0</td>\n",
       "      <td>0.0</td>\n",
       "      <td>0.0</td>\n",
       "      <td>0.0</td>\n",
       "      <td>0.0</td>\n",
       "      <td>0.0</td>\n",
       "      <td>...</td>\n",
       "      <td>0.0</td>\n",
       "      <td>0.0</td>\n",
       "      <td>0.0</td>\n",
       "      <td>1.0</td>\n",
       "      <td>0.0</td>\n",
       "      <td>1.0</td>\n",
       "      <td>0.0</td>\n",
       "      <td>0.0</td>\n",
       "      <td>1.0</td>\n",
       "      <td>0.0</td>\n",
       "    </tr>\n",
       "    <tr>\n",
       "      <th>2</th>\n",
       "      <td>1.134782</td>\n",
       "      <td>0.0</td>\n",
       "      <td>0.0</td>\n",
       "      <td>0.0</td>\n",
       "      <td>0.0</td>\n",
       "      <td>0.0</td>\n",
       "      <td>0.0</td>\n",
       "      <td>1.0</td>\n",
       "      <td>0.0</td>\n",
       "      <td>0.0</td>\n",
       "      <td>...</td>\n",
       "      <td>1.0</td>\n",
       "      <td>0.0</td>\n",
       "      <td>0.0</td>\n",
       "      <td>0.0</td>\n",
       "      <td>0.0</td>\n",
       "      <td>0.0</td>\n",
       "      <td>1.0</td>\n",
       "      <td>1.0</td>\n",
       "      <td>0.0</td>\n",
       "      <td>0.0</td>\n",
       "    </tr>\n",
       "    <tr>\n",
       "      <th>3</th>\n",
       "      <td>1.134782</td>\n",
       "      <td>0.0</td>\n",
       "      <td>0.0</td>\n",
       "      <td>0.0</td>\n",
       "      <td>0.0</td>\n",
       "      <td>0.0</td>\n",
       "      <td>0.0</td>\n",
       "      <td>0.0</td>\n",
       "      <td>0.0</td>\n",
       "      <td>0.0</td>\n",
       "      <td>...</td>\n",
       "      <td>0.0</td>\n",
       "      <td>0.0</td>\n",
       "      <td>0.0</td>\n",
       "      <td>0.0</td>\n",
       "      <td>0.0</td>\n",
       "      <td>1.0</td>\n",
       "      <td>0.0</td>\n",
       "      <td>0.0</td>\n",
       "      <td>1.0</td>\n",
       "      <td>0.0</td>\n",
       "    </tr>\n",
       "    <tr>\n",
       "      <th>4</th>\n",
       "      <td>-0.482015</td>\n",
       "      <td>0.0</td>\n",
       "      <td>0.0</td>\n",
       "      <td>0.0</td>\n",
       "      <td>0.0</td>\n",
       "      <td>0.0</td>\n",
       "      <td>0.0</td>\n",
       "      <td>1.0</td>\n",
       "      <td>0.0</td>\n",
       "      <td>0.0</td>\n",
       "      <td>...</td>\n",
       "      <td>0.0</td>\n",
       "      <td>0.0</td>\n",
       "      <td>0.0</td>\n",
       "      <td>0.0</td>\n",
       "      <td>1.0</td>\n",
       "      <td>1.0</td>\n",
       "      <td>0.0</td>\n",
       "      <td>0.0</td>\n",
       "      <td>1.0</td>\n",
       "      <td>0.0</td>\n",
       "    </tr>\n",
       "    <tr>\n",
       "      <th>...</th>\n",
       "      <td>...</td>\n",
       "      <td>...</td>\n",
       "      <td>...</td>\n",
       "      <td>...</td>\n",
       "      <td>...</td>\n",
       "      <td>...</td>\n",
       "      <td>...</td>\n",
       "      <td>...</td>\n",
       "      <td>...</td>\n",
       "      <td>...</td>\n",
       "      <td>...</td>\n",
       "      <td>...</td>\n",
       "      <td>...</td>\n",
       "      <td>...</td>\n",
       "      <td>...</td>\n",
       "      <td>...</td>\n",
       "      <td>...</td>\n",
       "      <td>...</td>\n",
       "      <td>...</td>\n",
       "      <td>...</td>\n",
       "      <td>...</td>\n",
       "    </tr>\n",
       "    <tr>\n",
       "      <th>19510</th>\n",
       "      <td>0.326383</td>\n",
       "      <td>0.0</td>\n",
       "      <td>0.0</td>\n",
       "      <td>0.0</td>\n",
       "      <td>0.0</td>\n",
       "      <td>0.0</td>\n",
       "      <td>0.0</td>\n",
       "      <td>0.0</td>\n",
       "      <td>0.0</td>\n",
       "      <td>0.0</td>\n",
       "      <td>...</td>\n",
       "      <td>0.0</td>\n",
       "      <td>0.0</td>\n",
       "      <td>0.0</td>\n",
       "      <td>0.0</td>\n",
       "      <td>1.0</td>\n",
       "      <td>1.0</td>\n",
       "      <td>0.0</td>\n",
       "      <td>0.0</td>\n",
       "      <td>1.0</td>\n",
       "      <td>0.0</td>\n",
       "    </tr>\n",
       "    <tr>\n",
       "      <th>19511</th>\n",
       "      <td>-0.482015</td>\n",
       "      <td>0.0</td>\n",
       "      <td>0.0</td>\n",
       "      <td>0.0</td>\n",
       "      <td>0.0</td>\n",
       "      <td>0.0</td>\n",
       "      <td>0.0</td>\n",
       "      <td>0.0</td>\n",
       "      <td>0.0</td>\n",
       "      <td>0.0</td>\n",
       "      <td>...</td>\n",
       "      <td>0.0</td>\n",
       "      <td>0.0</td>\n",
       "      <td>1.0</td>\n",
       "      <td>0.0</td>\n",
       "      <td>0.0</td>\n",
       "      <td>1.0</td>\n",
       "      <td>0.0</td>\n",
       "      <td>0.0</td>\n",
       "      <td>1.0</td>\n",
       "      <td>0.0</td>\n",
       "    </tr>\n",
       "    <tr>\n",
       "      <th>19512</th>\n",
       "      <td>1.134782</td>\n",
       "      <td>0.0</td>\n",
       "      <td>0.0</td>\n",
       "      <td>0.0</td>\n",
       "      <td>0.0</td>\n",
       "      <td>0.0</td>\n",
       "      <td>0.0</td>\n",
       "      <td>0.0</td>\n",
       "      <td>0.0</td>\n",
       "      <td>0.0</td>\n",
       "      <td>...</td>\n",
       "      <td>0.0</td>\n",
       "      <td>0.0</td>\n",
       "      <td>0.0</td>\n",
       "      <td>0.0</td>\n",
       "      <td>0.0</td>\n",
       "      <td>0.0</td>\n",
       "      <td>1.0</td>\n",
       "      <td>0.0</td>\n",
       "      <td>1.0</td>\n",
       "      <td>0.0</td>\n",
       "    </tr>\n",
       "    <tr>\n",
       "      <th>19513</th>\n",
       "      <td>-0.482015</td>\n",
       "      <td>0.0</td>\n",
       "      <td>0.0</td>\n",
       "      <td>0.0</td>\n",
       "      <td>0.0</td>\n",
       "      <td>0.0</td>\n",
       "      <td>0.0</td>\n",
       "      <td>0.0</td>\n",
       "      <td>0.0</td>\n",
       "      <td>0.0</td>\n",
       "      <td>...</td>\n",
       "      <td>0.0</td>\n",
       "      <td>0.0</td>\n",
       "      <td>0.0</td>\n",
       "      <td>0.0</td>\n",
       "      <td>1.0</td>\n",
       "      <td>1.0</td>\n",
       "      <td>0.0</td>\n",
       "      <td>0.0</td>\n",
       "      <td>1.0</td>\n",
       "      <td>0.0</td>\n",
       "    </tr>\n",
       "    <tr>\n",
       "      <th>19514</th>\n",
       "      <td>1.134782</td>\n",
       "      <td>0.0</td>\n",
       "      <td>0.0</td>\n",
       "      <td>0.0</td>\n",
       "      <td>0.0</td>\n",
       "      <td>0.0</td>\n",
       "      <td>0.0</td>\n",
       "      <td>0.0</td>\n",
       "      <td>0.0</td>\n",
       "      <td>0.0</td>\n",
       "      <td>...</td>\n",
       "      <td>0.0</td>\n",
       "      <td>0.0</td>\n",
       "      <td>0.0</td>\n",
       "      <td>0.0</td>\n",
       "      <td>0.0</td>\n",
       "      <td>0.0</td>\n",
       "      <td>1.0</td>\n",
       "      <td>0.0</td>\n",
       "      <td>1.0</td>\n",
       "      <td>0.0</td>\n",
       "    </tr>\n",
       "  </tbody>\n",
       "</table>\n",
       "<p>19515 rows × 62 columns</p>\n",
       "</div>"
      ],
      "text/plain": [
       "       age_released  \\\n",
       "0          0.326383   \n",
       "1          1.134782   \n",
       "2          1.134782   \n",
       "3          1.134782   \n",
       "4         -0.482015   \n",
       "...             ...   \n",
       "19510      0.326383   \n",
       "19511     -0.482015   \n",
       "19512      1.134782   \n",
       "19513     -0.482015   \n",
       "19514      1.134782   \n",
       "\n",
       "       race_ethnicity_American Indian or Alaska Native - Hispanic  \\\n",
       "0                                                    0.0            \n",
       "1                                                    0.0            \n",
       "2                                                    0.0            \n",
       "3                                                    0.0            \n",
       "4                                                    0.0            \n",
       "...                                                  ...            \n",
       "19510                                                0.0            \n",
       "19511                                                0.0            \n",
       "19512                                                0.0            \n",
       "19513                                                0.0            \n",
       "19514                                                0.0            \n",
       "\n",
       "       race_ethnicity_American Indian or Alaska Native - Non-Hispanic  \\\n",
       "0                                                    0.0                \n",
       "1                                                    0.0                \n",
       "2                                                    0.0                \n",
       "3                                                    0.0                \n",
       "4                                                    0.0                \n",
       "...                                                  ...                \n",
       "19510                                                0.0                \n",
       "19511                                                0.0                \n",
       "19512                                                0.0                \n",
       "19513                                                0.0                \n",
       "19514                                                0.0                \n",
       "\n",
       "       race_ethnicity_Asian or Pacific Islander - Hispanic  \\\n",
       "0                                                    0.0     \n",
       "1                                                    0.0     \n",
       "2                                                    0.0     \n",
       "3                                                    0.0     \n",
       "4                                                    0.0     \n",
       "...                                                  ...     \n",
       "19510                                                0.0     \n",
       "19511                                                0.0     \n",
       "19512                                                0.0     \n",
       "19513                                                0.0     \n",
       "19514                                                0.0     \n",
       "\n",
       "       race_ethnicity_Asian or Pacific Islander - Non-Hispanic  \\\n",
       "0                                                    0.0         \n",
       "1                                                    0.0         \n",
       "2                                                    0.0         \n",
       "3                                                    0.0         \n",
       "4                                                    0.0         \n",
       "...                                                  ...         \n",
       "19510                                                0.0         \n",
       "19511                                                0.0         \n",
       "19512                                                0.0         \n",
       "19513                                                0.0         \n",
       "19514                                                0.0         \n",
       "\n",
       "       race_ethnicity_Black -  race_ethnicity_Black - Hispanic  \\\n",
       "0                         0.0                              0.0   \n",
       "1                         0.0                              0.0   \n",
       "2                         0.0                              0.0   \n",
       "3                         0.0                              0.0   \n",
       "4                         0.0                              0.0   \n",
       "...                       ...                              ...   \n",
       "19510                     0.0                              0.0   \n",
       "19511                     0.0                              0.0   \n",
       "19512                     0.0                              0.0   \n",
       "19513                     0.0                              0.0   \n",
       "19514                     0.0                              0.0   \n",
       "\n",
       "       race_ethnicity_Black - Non-Hispanic  race_ethnicity_N/A -  \\\n",
       "0                                      0.0                   0.0   \n",
       "1                                      0.0                   0.0   \n",
       "2                                      1.0                   0.0   \n",
       "3                                      0.0                   0.0   \n",
       "4                                      1.0                   0.0   \n",
       "...                                    ...                   ...   \n",
       "19510                                  0.0                   0.0   \n",
       "19511                                  0.0                   0.0   \n",
       "19512                                  0.0                   0.0   \n",
       "19513                                  0.0                   0.0   \n",
       "19514                                  0.0                   0.0   \n",
       "\n",
       "       race_ethnicity_White -  ...  super_dist_7JD  super_dist_8JD  \\\n",
       "0                         0.0  ...             0.0             0.0   \n",
       "1                         0.0  ...             0.0             0.0   \n",
       "2                         0.0  ...             1.0             0.0   \n",
       "3                         0.0  ...             0.0             0.0   \n",
       "4                         0.0  ...             0.0             0.0   \n",
       "...                       ...  ...             ...             ...   \n",
       "19510                     0.0  ...             0.0             0.0   \n",
       "19511                     0.0  ...             0.0             0.0   \n",
       "19512                     0.0  ...             0.0             0.0   \n",
       "19513                     0.0  ...             0.0             0.0   \n",
       "19514                     0.0  ...             0.0             0.0   \n",
       "\n",
       "       super_dist_ISC  super_dist_Interstate Compact  super_dist_missing  \\\n",
       "0                 0.0                            0.0                 0.0   \n",
       "1                 0.0                            1.0                 0.0   \n",
       "2                 0.0                            0.0                 0.0   \n",
       "3                 0.0                            0.0                 0.0   \n",
       "4                 0.0                            0.0                 1.0   \n",
       "...               ...                            ...                 ...   \n",
       "19510             0.0                            0.0                 1.0   \n",
       "19511             1.0                            0.0                 0.0   \n",
       "19512             0.0                            0.0                 0.0   \n",
       "19513             0.0                            0.0                 1.0   \n",
       "19514             0.0                            0.0                 0.0   \n",
       "\n",
       "       target_pop_No  target_pop_Yes  sex_Female  sex_Male  sex_missing  \n",
       "0                0.0             1.0         0.0       1.0          0.0  \n",
       "1                1.0             0.0         0.0       1.0          0.0  \n",
       "2                0.0             1.0         1.0       0.0          0.0  \n",
       "3                1.0             0.0         0.0       1.0          0.0  \n",
       "4                1.0             0.0         0.0       1.0          0.0  \n",
       "...              ...             ...         ...       ...          ...  \n",
       "19510            1.0             0.0         0.0       1.0          0.0  \n",
       "19511            1.0             0.0         0.0       1.0          0.0  \n",
       "19512            0.0             1.0         0.0       1.0          0.0  \n",
       "19513            1.0             0.0         0.0       1.0          0.0  \n",
       "19514            0.0             1.0         0.0       1.0          0.0  \n",
       "\n",
       "[19515 rows x 62 columns]"
      ]
     },
     "execution_count": 59,
     "metadata": {},
     "output_type": "execute_result"
    }
   ],
   "source": [
    "X_train_tf = pd.DataFrame(X_train_tf,columns=[*num_cols, *cat_feautres])\n",
    "X_train_tf"
   ]
  },
  {
   "cell_type": "code",
   "execution_count": 63,
   "metadata": {
    "ExecuteTime": {
     "end_time": "2020-09-29T17:46:11.334210Z",
     "start_time": "2020-09-29T17:46:11.330034Z"
    }
   },
   "outputs": [
    {
     "data": {
      "text/plain": [
       "['age_released']"
      ]
     },
     "execution_count": 63,
     "metadata": {},
     "output_type": "execute_result"
    }
   ],
   "source": [
    "number_cols = num_cols.tolist().copy()\n",
    "number_cols"
   ]
  },
  {
   "cell_type": "code",
   "execution_count": null,
   "metadata": {
    "ExecuteTime": {
     "end_time": "2020-09-29T17:46:12.547976Z",
     "start_time": "2020-09-29T17:46:12.545703Z"
    }
   },
   "outputs": [],
   "source": [
    "number_cols.extend(cat_feautres)"
   ]
  },
  {
   "cell_type": "code",
   "execution_count": 65,
   "metadata": {
    "ExecuteTime": {
     "end_time": "2020-09-29T17:46:23.202092Z",
     "start_time": "2020-09-29T17:46:23.197300Z"
    }
   },
   "outputs": [
    {
     "data": {
      "text/plain": [
       "['age_released',\n",
       " 'race_ethnicity_American Indian or Alaska Native - Hispanic',\n",
       " 'race_ethnicity_American Indian or Alaska Native - Non-Hispanic',\n",
       " 'race_ethnicity_Asian or Pacific Islander - Hispanic',\n",
       " 'race_ethnicity_Asian or Pacific Islander - Non-Hispanic',\n",
       " 'race_ethnicity_Black -',\n",
       " 'race_ethnicity_Black - Hispanic',\n",
       " 'race_ethnicity_Black - Non-Hispanic',\n",
       " 'race_ethnicity_N/A -',\n",
       " 'race_ethnicity_White -',\n",
       " 'race_ethnicity_White - Hispanic',\n",
       " 'race_ethnicity_White - Non-Hispanic',\n",
       " 'race_ethnicity_missing',\n",
       " 'crime_class_A Felony',\n",
       " 'crime_class_Aggravated Misdemeanor',\n",
       " 'crime_class_B Felony',\n",
       " 'crime_class_C Felony',\n",
       " 'crime_class_D Felony',\n",
       " 'crime_class_Felony - Enhanced',\n",
       " 'crime_class_Felony - Enhancement to Original Penalty',\n",
       " 'crime_class_Felony - Mandatory Minimum',\n",
       " 'crime_class_Other Felony',\n",
       " 'crime_class_Other Felony (Old Code)',\n",
       " 'crime_class_Other Misdemeanor',\n",
       " 'crime_class_Serious Misdemeanor',\n",
       " 'crime_class_Sexual Predator Community Supervision',\n",
       " 'crime_class_Simple Misdemeanor',\n",
       " 'crime_class_Special Sentence 2005',\n",
       " 'crime_type_Drug',\n",
       " 'crime_type_Other',\n",
       " 'crime_type_Property',\n",
       " 'crime_type_Public Order',\n",
       " 'crime_type_Violent',\n",
       " 'release_type_Discharged - Expiration of Sentence',\n",
       " 'release_type_Discharged – End of Sentence',\n",
       " 'release_type_Interstate Compact Parole',\n",
       " 'release_type_Parole',\n",
       " 'release_type_Parole Granted',\n",
       " 'release_type_Paroled to Detainer - INS',\n",
       " 'release_type_Paroled to Detainer - Iowa',\n",
       " 'release_type_Paroled to Detainer - Out of State',\n",
       " 'release_type_Paroled to Detainer - U.S. Marshall',\n",
       " 'release_type_Paroled w/Immediate Discharge',\n",
       " 'release_type_Released to Special Sentence',\n",
       " 'release_type_Special Sentence',\n",
       " 'release_type_missing',\n",
       " 'super_dist_1JD',\n",
       " 'super_dist_2JD',\n",
       " 'super_dist_3JD',\n",
       " 'super_dist_4JD',\n",
       " 'super_dist_5JD',\n",
       " 'super_dist_6JD',\n",
       " 'super_dist_7JD',\n",
       " 'super_dist_8JD',\n",
       " 'super_dist_ISC',\n",
       " 'super_dist_Interstate Compact',\n",
       " 'super_dist_missing',\n",
       " 'target_pop_No',\n",
       " 'target_pop_Yes',\n",
       " 'sex_Female',\n",
       " 'sex_Male',\n",
       " 'sex_missing']"
      ]
     },
     "execution_count": 65,
     "metadata": {},
     "output_type": "execute_result"
    }
   ],
   "source": [
    "number_cols"
   ]
  },
  {
   "cell_type": "code",
   "execution_count": 68,
   "metadata": {
    "ExecuteTime": {
     "end_time": "2020-09-29T17:47:00.507927Z",
     "start_time": "2020-09-29T17:47:00.505541Z"
    }
   },
   "outputs": [],
   "source": [
    "# [*num_cols,*cat_feautres]"
   ]
  },
  {
   "cell_type": "code",
   "execution_count": 69,
   "metadata": {
    "ExecuteTime": {
     "end_time": "2020-09-29T17:47:04.450962Z",
     "start_time": "2020-09-29T17:47:04.416391Z"
    }
   },
   "outputs": [
    {
     "data": {
      "text/html": [
       "<div>\n",
       "<style scoped>\n",
       "    .dataframe tbody tr th:only-of-type {\n",
       "        vertical-align: middle;\n",
       "    }\n",
       "\n",
       "    .dataframe tbody tr th {\n",
       "        vertical-align: top;\n",
       "    }\n",
       "\n",
       "    .dataframe thead th {\n",
       "        text-align: right;\n",
       "    }\n",
       "</style>\n",
       "<table border=\"1\" class=\"dataframe\">\n",
       "  <thead>\n",
       "    <tr style=\"text-align: right;\">\n",
       "      <th></th>\n",
       "      <th>age_released</th>\n",
       "      <th>race_ethnicity_American Indian or Alaska Native - Hispanic</th>\n",
       "      <th>race_ethnicity_American Indian or Alaska Native - Non-Hispanic</th>\n",
       "      <th>race_ethnicity_Asian or Pacific Islander - Hispanic</th>\n",
       "      <th>race_ethnicity_Asian or Pacific Islander - Non-Hispanic</th>\n",
       "      <th>race_ethnicity_Black -</th>\n",
       "      <th>race_ethnicity_Black - Hispanic</th>\n",
       "      <th>race_ethnicity_Black - Non-Hispanic</th>\n",
       "      <th>race_ethnicity_N/A -</th>\n",
       "      <th>race_ethnicity_White -</th>\n",
       "      <th>...</th>\n",
       "      <th>super_dist_7JD</th>\n",
       "      <th>super_dist_8JD</th>\n",
       "      <th>super_dist_ISC</th>\n",
       "      <th>super_dist_Interstate Compact</th>\n",
       "      <th>super_dist_missing</th>\n",
       "      <th>target_pop_No</th>\n",
       "      <th>target_pop_Yes</th>\n",
       "      <th>sex_Female</th>\n",
       "      <th>sex_Male</th>\n",
       "      <th>sex_missing</th>\n",
       "    </tr>\n",
       "  </thead>\n",
       "  <tbody>\n",
       "    <tr>\n",
       "      <th>0</th>\n",
       "      <td>-0.482015</td>\n",
       "      <td>0.0</td>\n",
       "      <td>0.0</td>\n",
       "      <td>0.0</td>\n",
       "      <td>0.0</td>\n",
       "      <td>0.0</td>\n",
       "      <td>0.0</td>\n",
       "      <td>1.0</td>\n",
       "      <td>0.0</td>\n",
       "      <td>0.0</td>\n",
       "      <td>...</td>\n",
       "      <td>0.0</td>\n",
       "      <td>0.0</td>\n",
       "      <td>0.0</td>\n",
       "      <td>0.0</td>\n",
       "      <td>0.0</td>\n",
       "      <td>0.0</td>\n",
       "      <td>1.0</td>\n",
       "      <td>0.0</td>\n",
       "      <td>1.0</td>\n",
       "      <td>0.0</td>\n",
       "    </tr>\n",
       "    <tr>\n",
       "      <th>1</th>\n",
       "      <td>-0.482015</td>\n",
       "      <td>0.0</td>\n",
       "      <td>0.0</td>\n",
       "      <td>0.0</td>\n",
       "      <td>0.0</td>\n",
       "      <td>0.0</td>\n",
       "      <td>0.0</td>\n",
       "      <td>0.0</td>\n",
       "      <td>0.0</td>\n",
       "      <td>0.0</td>\n",
       "      <td>...</td>\n",
       "      <td>0.0</td>\n",
       "      <td>0.0</td>\n",
       "      <td>0.0</td>\n",
       "      <td>0.0</td>\n",
       "      <td>0.0</td>\n",
       "      <td>0.0</td>\n",
       "      <td>1.0</td>\n",
       "      <td>0.0</td>\n",
       "      <td>1.0</td>\n",
       "      <td>0.0</td>\n",
       "    </tr>\n",
       "    <tr>\n",
       "      <th>2</th>\n",
       "      <td>0.326383</td>\n",
       "      <td>0.0</td>\n",
       "      <td>1.0</td>\n",
       "      <td>0.0</td>\n",
       "      <td>0.0</td>\n",
       "      <td>0.0</td>\n",
       "      <td>0.0</td>\n",
       "      <td>0.0</td>\n",
       "      <td>0.0</td>\n",
       "      <td>0.0</td>\n",
       "      <td>...</td>\n",
       "      <td>0.0</td>\n",
       "      <td>0.0</td>\n",
       "      <td>0.0</td>\n",
       "      <td>0.0</td>\n",
       "      <td>0.0</td>\n",
       "      <td>0.0</td>\n",
       "      <td>1.0</td>\n",
       "      <td>0.0</td>\n",
       "      <td>1.0</td>\n",
       "      <td>0.0</td>\n",
       "    </tr>\n",
       "    <tr>\n",
       "      <th>3</th>\n",
       "      <td>-0.482015</td>\n",
       "      <td>0.0</td>\n",
       "      <td>0.0</td>\n",
       "      <td>0.0</td>\n",
       "      <td>0.0</td>\n",
       "      <td>0.0</td>\n",
       "      <td>0.0</td>\n",
       "      <td>1.0</td>\n",
       "      <td>0.0</td>\n",
       "      <td>0.0</td>\n",
       "      <td>...</td>\n",
       "      <td>0.0</td>\n",
       "      <td>0.0</td>\n",
       "      <td>0.0</td>\n",
       "      <td>0.0</td>\n",
       "      <td>0.0</td>\n",
       "      <td>0.0</td>\n",
       "      <td>1.0</td>\n",
       "      <td>0.0</td>\n",
       "      <td>1.0</td>\n",
       "      <td>0.0</td>\n",
       "    </tr>\n",
       "    <tr>\n",
       "      <th>4</th>\n",
       "      <td>-0.482015</td>\n",
       "      <td>0.0</td>\n",
       "      <td>0.0</td>\n",
       "      <td>0.0</td>\n",
       "      <td>0.0</td>\n",
       "      <td>0.0</td>\n",
       "      <td>0.0</td>\n",
       "      <td>0.0</td>\n",
       "      <td>0.0</td>\n",
       "      <td>0.0</td>\n",
       "      <td>...</td>\n",
       "      <td>0.0</td>\n",
       "      <td>0.0</td>\n",
       "      <td>0.0</td>\n",
       "      <td>0.0</td>\n",
       "      <td>0.0</td>\n",
       "      <td>1.0</td>\n",
       "      <td>0.0</td>\n",
       "      <td>0.0</td>\n",
       "      <td>1.0</td>\n",
       "      <td>0.0</td>\n",
       "    </tr>\n",
       "    <tr>\n",
       "      <th>...</th>\n",
       "      <td>...</td>\n",
       "      <td>...</td>\n",
       "      <td>...</td>\n",
       "      <td>...</td>\n",
       "      <td>...</td>\n",
       "      <td>...</td>\n",
       "      <td>...</td>\n",
       "      <td>...</td>\n",
       "      <td>...</td>\n",
       "      <td>...</td>\n",
       "      <td>...</td>\n",
       "      <td>...</td>\n",
       "      <td>...</td>\n",
       "      <td>...</td>\n",
       "      <td>...</td>\n",
       "      <td>...</td>\n",
       "      <td>...</td>\n",
       "      <td>...</td>\n",
       "      <td>...</td>\n",
       "      <td>...</td>\n",
       "      <td>...</td>\n",
       "    </tr>\n",
       "    <tr>\n",
       "      <th>6500</th>\n",
       "      <td>1.134782</td>\n",
       "      <td>0.0</td>\n",
       "      <td>0.0</td>\n",
       "      <td>0.0</td>\n",
       "      <td>0.0</td>\n",
       "      <td>0.0</td>\n",
       "      <td>0.0</td>\n",
       "      <td>0.0</td>\n",
       "      <td>0.0</td>\n",
       "      <td>0.0</td>\n",
       "      <td>...</td>\n",
       "      <td>0.0</td>\n",
       "      <td>0.0</td>\n",
       "      <td>0.0</td>\n",
       "      <td>0.0</td>\n",
       "      <td>1.0</td>\n",
       "      <td>1.0</td>\n",
       "      <td>0.0</td>\n",
       "      <td>0.0</td>\n",
       "      <td>1.0</td>\n",
       "      <td>0.0</td>\n",
       "    </tr>\n",
       "    <tr>\n",
       "      <th>6501</th>\n",
       "      <td>-1.290413</td>\n",
       "      <td>0.0</td>\n",
       "      <td>0.0</td>\n",
       "      <td>0.0</td>\n",
       "      <td>0.0</td>\n",
       "      <td>0.0</td>\n",
       "      <td>0.0</td>\n",
       "      <td>0.0</td>\n",
       "      <td>0.0</td>\n",
       "      <td>0.0</td>\n",
       "      <td>...</td>\n",
       "      <td>0.0</td>\n",
       "      <td>0.0</td>\n",
       "      <td>0.0</td>\n",
       "      <td>0.0</td>\n",
       "      <td>1.0</td>\n",
       "      <td>1.0</td>\n",
       "      <td>0.0</td>\n",
       "      <td>0.0</td>\n",
       "      <td>1.0</td>\n",
       "      <td>0.0</td>\n",
       "    </tr>\n",
       "    <tr>\n",
       "      <th>6502</th>\n",
       "      <td>-0.482015</td>\n",
       "      <td>0.0</td>\n",
       "      <td>0.0</td>\n",
       "      <td>0.0</td>\n",
       "      <td>0.0</td>\n",
       "      <td>0.0</td>\n",
       "      <td>0.0</td>\n",
       "      <td>0.0</td>\n",
       "      <td>0.0</td>\n",
       "      <td>0.0</td>\n",
       "      <td>...</td>\n",
       "      <td>0.0</td>\n",
       "      <td>0.0</td>\n",
       "      <td>0.0</td>\n",
       "      <td>0.0</td>\n",
       "      <td>1.0</td>\n",
       "      <td>1.0</td>\n",
       "      <td>0.0</td>\n",
       "      <td>0.0</td>\n",
       "      <td>1.0</td>\n",
       "      <td>0.0</td>\n",
       "    </tr>\n",
       "    <tr>\n",
       "      <th>6503</th>\n",
       "      <td>-0.482015</td>\n",
       "      <td>0.0</td>\n",
       "      <td>0.0</td>\n",
       "      <td>0.0</td>\n",
       "      <td>0.0</td>\n",
       "      <td>0.0</td>\n",
       "      <td>0.0</td>\n",
       "      <td>1.0</td>\n",
       "      <td>0.0</td>\n",
       "      <td>0.0</td>\n",
       "      <td>...</td>\n",
       "      <td>0.0</td>\n",
       "      <td>0.0</td>\n",
       "      <td>0.0</td>\n",
       "      <td>0.0</td>\n",
       "      <td>0.0</td>\n",
       "      <td>0.0</td>\n",
       "      <td>1.0</td>\n",
       "      <td>0.0</td>\n",
       "      <td>1.0</td>\n",
       "      <td>0.0</td>\n",
       "    </tr>\n",
       "    <tr>\n",
       "      <th>6504</th>\n",
       "      <td>-0.482015</td>\n",
       "      <td>0.0</td>\n",
       "      <td>0.0</td>\n",
       "      <td>0.0</td>\n",
       "      <td>0.0</td>\n",
       "      <td>0.0</td>\n",
       "      <td>0.0</td>\n",
       "      <td>0.0</td>\n",
       "      <td>0.0</td>\n",
       "      <td>0.0</td>\n",
       "      <td>...</td>\n",
       "      <td>0.0</td>\n",
       "      <td>0.0</td>\n",
       "      <td>0.0</td>\n",
       "      <td>0.0</td>\n",
       "      <td>1.0</td>\n",
       "      <td>0.0</td>\n",
       "      <td>1.0</td>\n",
       "      <td>0.0</td>\n",
       "      <td>1.0</td>\n",
       "      <td>0.0</td>\n",
       "    </tr>\n",
       "  </tbody>\n",
       "</table>\n",
       "<p>6505 rows × 62 columns</p>\n",
       "</div>"
      ],
      "text/plain": [
       "      age_released  \\\n",
       "0        -0.482015   \n",
       "1        -0.482015   \n",
       "2         0.326383   \n",
       "3        -0.482015   \n",
       "4        -0.482015   \n",
       "...            ...   \n",
       "6500      1.134782   \n",
       "6501     -1.290413   \n",
       "6502     -0.482015   \n",
       "6503     -0.482015   \n",
       "6504     -0.482015   \n",
       "\n",
       "      race_ethnicity_American Indian or Alaska Native - Hispanic  \\\n",
       "0                                                   0.0            \n",
       "1                                                   0.0            \n",
       "2                                                   0.0            \n",
       "3                                                   0.0            \n",
       "4                                                   0.0            \n",
       "...                                                 ...            \n",
       "6500                                                0.0            \n",
       "6501                                                0.0            \n",
       "6502                                                0.0            \n",
       "6503                                                0.0            \n",
       "6504                                                0.0            \n",
       "\n",
       "      race_ethnicity_American Indian or Alaska Native - Non-Hispanic  \\\n",
       "0                                                   0.0                \n",
       "1                                                   0.0                \n",
       "2                                                   1.0                \n",
       "3                                                   0.0                \n",
       "4                                                   0.0                \n",
       "...                                                 ...                \n",
       "6500                                                0.0                \n",
       "6501                                                0.0                \n",
       "6502                                                0.0                \n",
       "6503                                                0.0                \n",
       "6504                                                0.0                \n",
       "\n",
       "      race_ethnicity_Asian or Pacific Islander - Hispanic  \\\n",
       "0                                                   0.0     \n",
       "1                                                   0.0     \n",
       "2                                                   0.0     \n",
       "3                                                   0.0     \n",
       "4                                                   0.0     \n",
       "...                                                 ...     \n",
       "6500                                                0.0     \n",
       "6501                                                0.0     \n",
       "6502                                                0.0     \n",
       "6503                                                0.0     \n",
       "6504                                                0.0     \n",
       "\n",
       "      race_ethnicity_Asian or Pacific Islander - Non-Hispanic  \\\n",
       "0                                                   0.0         \n",
       "1                                                   0.0         \n",
       "2                                                   0.0         \n",
       "3                                                   0.0         \n",
       "4                                                   0.0         \n",
       "...                                                 ...         \n",
       "6500                                                0.0         \n",
       "6501                                                0.0         \n",
       "6502                                                0.0         \n",
       "6503                                                0.0         \n",
       "6504                                                0.0         \n",
       "\n",
       "      race_ethnicity_Black -  race_ethnicity_Black - Hispanic  \\\n",
       "0                        0.0                              0.0   \n",
       "1                        0.0                              0.0   \n",
       "2                        0.0                              0.0   \n",
       "3                        0.0                              0.0   \n",
       "4                        0.0                              0.0   \n",
       "...                      ...                              ...   \n",
       "6500                     0.0                              0.0   \n",
       "6501                     0.0                              0.0   \n",
       "6502                     0.0                              0.0   \n",
       "6503                     0.0                              0.0   \n",
       "6504                     0.0                              0.0   \n",
       "\n",
       "      race_ethnicity_Black - Non-Hispanic  race_ethnicity_N/A -  \\\n",
       "0                                     1.0                   0.0   \n",
       "1                                     0.0                   0.0   \n",
       "2                                     0.0                   0.0   \n",
       "3                                     1.0                   0.0   \n",
       "4                                     0.0                   0.0   \n",
       "...                                   ...                   ...   \n",
       "6500                                  0.0                   0.0   \n",
       "6501                                  0.0                   0.0   \n",
       "6502                                  0.0                   0.0   \n",
       "6503                                  1.0                   0.0   \n",
       "6504                                  0.0                   0.0   \n",
       "\n",
       "      race_ethnicity_White -  ...  super_dist_7JD  super_dist_8JD  \\\n",
       "0                        0.0  ...             0.0             0.0   \n",
       "1                        0.0  ...             0.0             0.0   \n",
       "2                        0.0  ...             0.0             0.0   \n",
       "3                        0.0  ...             0.0             0.0   \n",
       "4                        0.0  ...             0.0             0.0   \n",
       "...                      ...  ...             ...             ...   \n",
       "6500                     0.0  ...             0.0             0.0   \n",
       "6501                     0.0  ...             0.0             0.0   \n",
       "6502                     0.0  ...             0.0             0.0   \n",
       "6503                     0.0  ...             0.0             0.0   \n",
       "6504                     0.0  ...             0.0             0.0   \n",
       "\n",
       "      super_dist_ISC  super_dist_Interstate Compact  super_dist_missing  \\\n",
       "0                0.0                            0.0                 0.0   \n",
       "1                0.0                            0.0                 0.0   \n",
       "2                0.0                            0.0                 0.0   \n",
       "3                0.0                            0.0                 0.0   \n",
       "4                0.0                            0.0                 0.0   \n",
       "...              ...                            ...                 ...   \n",
       "6500             0.0                            0.0                 1.0   \n",
       "6501             0.0                            0.0                 1.0   \n",
       "6502             0.0                            0.0                 1.0   \n",
       "6503             0.0                            0.0                 0.0   \n",
       "6504             0.0                            0.0                 1.0   \n",
       "\n",
       "      target_pop_No  target_pop_Yes  sex_Female  sex_Male  sex_missing  \n",
       "0               0.0             1.0         0.0       1.0          0.0  \n",
       "1               0.0             1.0         0.0       1.0          0.0  \n",
       "2               0.0             1.0         0.0       1.0          0.0  \n",
       "3               0.0             1.0         0.0       1.0          0.0  \n",
       "4               1.0             0.0         0.0       1.0          0.0  \n",
       "...             ...             ...         ...       ...          ...  \n",
       "6500            1.0             0.0         0.0       1.0          0.0  \n",
       "6501            1.0             0.0         0.0       1.0          0.0  \n",
       "6502            1.0             0.0         0.0       1.0          0.0  \n",
       "6503            0.0             1.0         0.0       1.0          0.0  \n",
       "6504            0.0             1.0         0.0       1.0          0.0  \n",
       "\n",
       "[6505 rows x 62 columns]"
      ]
     },
     "execution_count": 69,
     "metadata": {},
     "output_type": "execute_result"
    }
   ],
   "source": [
    "X_test_tf = pd.DataFrame(X_test_tf,columns=[*num_cols, *cat_feautres])\n",
    "X_test_tf\n"
   ]
  },
  {
   "cell_type": "code",
   "execution_count": null,
   "metadata": {},
   "outputs": [],
   "source": []
  },
  {
   "cell_type": "code",
   "execution_count": null,
   "metadata": {
    "ExecuteTime": {
     "end_time": "2020-09-29T16:29:23.717504Z",
     "start_time": "2020-09-29T16:29:23.715348Z"
    }
   },
   "outputs": [],
   "source": [
    "## Make X_train_ohe and X_teast_ohe dataqframes\n"
   ]
  },
  {
   "cell_type": "code",
   "execution_count": null,
   "metadata": {
    "ExecuteTime": {
     "end_time": "2020-09-29T16:24:50.882798Z",
     "start_time": "2020-09-29T16:24:50.851254Z"
    },
    "scrolled": true
   },
   "outputs": [],
   "source": []
  },
  {
   "cell_type": "markdown",
   "metadata": {},
   "source": [
    "### SVM with sklearn"
   ]
  },
  {
   "cell_type": "code",
   "execution_count": 78,
   "metadata": {
    "ExecuteTime": {
     "end_time": "2020-09-29T17:53:08.361198Z",
     "start_time": "2020-09-29T17:53:08.357161Z"
    }
   },
   "outputs": [
    {
     "data": {
      "text/plain": [
       "(19515, 62)"
      ]
     },
     "execution_count": 78,
     "metadata": {},
     "output_type": "execute_result"
    }
   ],
   "source": [
    "X_train_tf.shape"
   ]
  },
  {
   "cell_type": "code",
   "execution_count": 71,
   "metadata": {
    "ExecuteTime": {
     "end_time": "2020-09-29T17:49:00.318089Z",
     "start_time": "2020-09-29T17:48:12.184628Z"
    }
   },
   "outputs": [
    {
     "data": {
      "text/plain": [
       "SVC()"
      ]
     },
     "execution_count": 71,
     "metadata": {},
     "output_type": "execute_result"
    }
   ],
   "source": [
    "set_config(display='text')\n",
    "from sklearn.svm import SVC\n",
    "## fit model\n",
    "clf = SVC()\n",
    "clf.fit(X_train_tf,y_train)"
   ]
  },
  {
   "cell_type": "code",
   "execution_count": 72,
   "metadata": {
    "ExecuteTime": {
     "end_time": "2020-09-29T17:49:24.360273Z",
     "start_time": "2020-09-29T17:49:15.396903Z"
    }
   },
   "outputs": [
    {
     "data": {
      "text/plain": [
       "array([0, 0, 1, ..., 0, 0, 0])"
      ]
     },
     "execution_count": 72,
     "metadata": {},
     "output_type": "execute_result"
    }
   ],
   "source": [
    "## Get PReds\n",
    "y_hat_test = clf.predict(X_test_tf)\n",
    "y_hat_test"
   ]
  },
  {
   "cell_type": "code",
   "execution_count": 75,
   "metadata": {
    "ExecuteTime": {
     "end_time": "2020-09-29T17:50:16.088114Z",
     "start_time": "2020-09-29T17:50:16.072864Z"
    }
   },
   "outputs": [
    {
     "name": "stdout",
     "output_type": "stream",
     "text": [
      "              precision    recall  f1-score   support\n",
      "\n",
      "           0       0.69      0.93      0.79      4335\n",
      "           1       0.54      0.17      0.26      2170\n",
      "\n",
      "    accuracy                           0.68      6505\n",
      "   macro avg       0.62      0.55      0.53      6505\n",
      "weighted avg       0.64      0.68      0.61      6505\n",
      "\n"
     ]
    }
   ],
   "source": [
    "## evaluatem model\n",
    "from sklearn import metrics\n",
    "print(metrics.classification_report(y_test, y_hat_test))"
   ]
  },
  {
   "cell_type": "code",
   "execution_count": 77,
   "metadata": {
    "ExecuteTime": {
     "end_time": "2020-09-29T17:52:14.819305Z",
     "start_time": "2020-09-29T17:52:05.403537Z"
    }
   },
   "outputs": [
    {
     "data": {
      "text/plain": [
       "<sklearn.metrics._plot.confusion_matrix.ConfusionMatrixDisplay at 0x7f9b8a536630>"
      ]
     },
     "execution_count": 77,
     "metadata": {},
     "output_type": "execute_result"
    },
    {
     "data": {
      "image/png": "[encoded data removed]",
      "text/plain": [
       "<Figure size 576x396 with 2 Axes>"
      ]
     },
     "metadata": {
      "needs_background": "light"
     },
     "output_type": "display_data"
    }
   ],
   "source": [
    "## conf matr\n",
    "metrics.plot_confusion_matrix(clf,X_test_tf,y_test,cmap='Blues',\n",
    "                             normalize='true')"
   ]
  },
  {
   "cell_type": "markdown",
   "metadata": {},
   "source": []
  },
  {
   "cell_type": "markdown",
   "metadata": {},
   "source": [
    "# QUESTIONS TO RETURN TO TOMORROW (09/30) - \n",
    "- Classification Report\n",
    "- Plotting confusion matrix\n",
    "- GridSearch, Parmas for SVM"
   ]
  },
  {
   "cell_type": "code",
   "execution_count": null,
   "metadata": {
    "ExecuteTime": {
     "end_time": "2020-09-29T16:30:10.128583Z",
     "start_time": "2020-09-29T16:30:10.126600Z"
    }
   },
   "outputs": [],
   "source": [
    "## ROC PLOT\n"
   ]
  },
  {
   "cell_type": "markdown",
   "metadata": {},
   "source": [
    "## GridSearching for best C and gamma"
   ]
  },
  {
   "cell_type": "code",
   "execution_count": null,
   "metadata": {
    "ExecuteTime": {
     "end_time": "2020-09-29T16:25:58.181585Z",
     "start_time": "2020-09-29T16:25:58.177302Z"
    }
   },
   "outputs": [],
   "source": [
    "from sklearn.model_selection import GridSearchCV\n"
   ]
  },
  {
   "cell_type": "code",
   "execution_count": null,
   "metadata": {
    "ExecuteTime": {
     "start_time": "2020-09-29T16:24:47.861Z"
    }
   },
   "outputs": [],
   "source": []
  },
  {
   "cell_type": "code",
   "execution_count": null,
   "metadata": {
    "ExecuteTime": {
     "start_time": "2020-09-29T16:24:47.884Z"
    }
   },
   "outputs": [],
   "source": []
  },
  {
   "cell_type": "code",
   "execution_count": null,
   "metadata": {
    "ExecuteTime": {
     "end_time": "2020-09-29T16:23:51.933078Z",
     "start_time": "2020-09-29T16:22:49.821Z"
    }
   },
   "outputs": [],
   "source": []
  },
  {
   "cell_type": "markdown",
   "metadata": {
    "heading_collapsed": true
   },
   "source": [
    "# APPENDIX"
   ]
  },
  {
   "cell_type": "markdown",
   "metadata": {
    "hidden": true
   },
   "source": [
    "## Note re: predictions/probability"
   ]
  },
  {
   "cell_type": "markdown",
   "metadata": {
    "hidden": true
   },
   "source": [
    "> You can make predictions using support vector machines. The SVC decision function gives a probability score per class. However, this is not done by default. You'll need to set the `probability` argument equal to `True`. Scikit-learn internally performs cross-validation to compute the probabilities, so you can expect that setting `probability` to `True` makes the calculations longer. For large datasets, computation can take considerable time to execute.\n",
    "\n",
    "- In other words:\n",
    "    - If you want to get the probabiltiies (`.predict_proba`) for ROC AUC, you would have to instantiate your SVC with the parameter `SVC(probability=True)`\n",
    "    - https://www.kaggle.com/c/home-credit-default-risk/discussion/63499"
   ]
  },
  {
   "cell_type": "markdown",
   "metadata": {
    "hidden": true
   },
   "source": [
    "## Scikit Learn Example of RBF Hyperparameters"
   ]
  },
  {
   "cell_type": "markdown",
   "metadata": {
    "hidden": true
   },
   "source": [
    "> https://scikit-learn.org/stable/auto_examples/svm/plot_rbf_parameters.html"
   ]
  },
  {
   "cell_type": "code",
   "execution_count": null,
   "metadata": {
    "ExecuteTime": {
     "end_time": "2020-09-29T16:10:01.942905Z",
     "start_time": "2020-09-29T16:09:38.736Z"
    },
    "hidden": true
   },
   "outputs": [],
   "source": [
    "print(__doc__)\n",
    "\n",
    "import numpy as np\n",
    "import matplotlib.pyplot as plt\n",
    "from matplotlib.colors import Normalize\n",
    "\n",
    "from sklearn.svm import SVC\n",
    "from sklearn.preprocessing import StandardScaler\n",
    "from sklearn.datasets import load_iris\n",
    "from sklearn.model_selection import StratifiedShuffleSplit\n",
    "from sklearn.model_selection import GridSearchCV\n",
    "\n",
    "\n",
    "# Utility function to move the midpoint of a colormap to be around\n",
    "# the values of interest.\n",
    "\n",
    "class MidpointNormalize(Normalize):\n",
    "\n",
    "    def __init__(self, vmin=None, vmax=None, midpoint=None, clip=False):\n",
    "        self.midpoint = midpoint\n",
    "        Normalize.__init__(self, vmin, vmax, clip)\n",
    "\n",
    "    def __call__(self, value, clip=None):\n",
    "        x, y = [self.vmin, self.midpoint, self.vmax], [0, 0.5, 1]\n",
    "        return np.ma.masked_array(np.interp(value, x, y))\n",
    "\n",
    "# #############################################################################\n",
    "# Load and prepare data set\n",
    "#\n",
    "# dataset for grid search\n",
    "\n",
    "iris = load_iris()\n",
    "X = iris.data\n",
    "y = iris.target\n",
    "\n",
    "# Dataset for decision function visualization: we only keep the first two\n",
    "# features in X and sub-sample the dataset to keep only 2 classes and\n",
    "# make it a binary classification problem.\n",
    "\n",
    "X_2d = X[:, :2]\n",
    "X_2d = X_2d[y > 0]\n",
    "y_2d = y[y > 0]\n",
    "y_2d -= 1\n",
    "\n",
    "# It is usually a good idea to scale the data for SVM training.\n",
    "# We are cheating a bit in this example in scaling all of the data,\n",
    "# instead of fitting the transformation on the training set and\n",
    "# just applying it on the test set.\n",
    "\n",
    "scaler = StandardScaler()\n",
    "X = scaler.fit_transform(X)\n",
    "X_2d = scaler.fit_transform(X_2d)\n",
    "\n",
    "# #############################################################################\n",
    "# Train classifiers\n",
    "#\n",
    "# For an initial search, a logarithmic grid with basis\n",
    "# 10 is often helpful. Using a basis of 2, a finer\n",
    "# tuning can be achieved but at a much higher cost.\n",
    "\n",
    "C_range = np.logspace(-2, 10, 13)\n",
    "gamma_range = np.logspace(-9, 3, 13)\n",
    "param_grid = dict(gamma=gamma_range, C=C_range)\n",
    "cv = StratifiedShuffleSplit(n_splits=5, test_size=0.2, random_state=42)\n",
    "grid = GridSearchCV(SVC(), param_grid=param_grid, cv=cv)\n",
    "grid.fit(X, y)\n",
    "\n",
    "print(\"The best parameters are %s with a score of %0.2f\"\n",
    "      % (grid.best_params_, grid.best_score_))\n",
    "\n",
    "# Now we need to fit a classifier for all parameters in the 2d version\n",
    "# (we use a smaller set of parameters here because it takes a while to train)\n",
    "\n",
    "C_2d_range = [1e-2, 1, 1e2]\n",
    "gamma_2d_range = [1e-1, 1, 1e1]\n",
    "classifiers = []\n",
    "for C in C_2d_range:\n",
    "    for gamma in gamma_2d_range:\n",
    "        clf = SVC(C=C, gamma=gamma)\n",
    "        clf.fit(X_2d, y_2d)\n",
    "        classifiers.append((C, gamma, clf))\n",
    "\n",
    "# #############################################################################\n",
    "# Visualization\n",
    "#\n",
    "# draw visualization of parameter effects\n",
    "\n",
    "plt.figure(figsize=(8, 6))\n",
    "xx, yy = np.meshgrid(np.linspace(-3, 3, 200), np.linspace(-3, 3, 200))\n",
    "for (k, (C, gamma, clf)) in enumerate(classifiers):\n",
    "    # evaluate decision function in a grid\n",
    "    Z = clf.decision_function(np.c_[xx.ravel(), yy.ravel()])\n",
    "    Z = Z.reshape(xx.shape)\n",
    "\n",
    "    # visualize decision function for these parameters\n",
    "    plt.subplot(len(C_2d_range), len(gamma_2d_range), k + 1)\n",
    "#     plt.title(\"gamma=10^%d, C=10^%d\" % (np.log10(gamma), np.log10(C)),\n",
    "#               size='medium')\n",
    "    plt.title(f\"gamma={gamma}, C={C}\")\n",
    "\n",
    "    # visualize parameter's effect on decision function\n",
    "    plt.pcolormesh(xx, yy, -Z, cmap=plt.cm.RdBu)\n",
    "    plt.scatter(X_2d[:, 0], X_2d[:, 1], c=y_2d, cmap=plt.cm.RdBu_r,\n",
    "                edgecolors='k')\n",
    "    plt.xticks(())\n",
    "    plt.yticks(())\n",
    "    plt.axis('tight')\n",
    "\n",
    "scores = grid.cv_results_['mean_test_score'].reshape(len(C_range),\n",
    "                                                     len(gamma_range))\n",
    "\n",
    "# Draw heatmap of the validation accuracy as a function of gamma and C\n",
    "#\n",
    "# The score are encoded as colors with the hot colormap which varies from dark\n",
    "# red to bright yellow. As the most interesting scores are all located in the\n",
    "# 0.92 to 0.97 range we use a custom normalizer to set the mid-point to 0.92 so\n",
    "# as to make it easier to visualize the small variations of score values in the\n",
    "# interesting range while not brutally collapsing all the low score values to\n",
    "# the same color.\n",
    "\n",
    "plt.figure(figsize=(8, 6))\n",
    "plt.subplots_adjust(left=.2, right=0.95, bottom=0.15, top=0.95)\n",
    "plt.imshow(scores, interpolation='nearest', cmap=plt.cm.hot,\n",
    "           norm=MidpointNormalize(vmin=0.2, midpoint=0.92))\n",
    "plt.xlabel('gamma')\n",
    "plt.ylabel('C')\n",
    "plt.colorbar()\n",
    "plt.xticks(np.arange(len(gamma_range)), gamma_range, rotation=45)\n",
    "plt.yticks(np.arange(len(C_range)), C_range)\n",
    "plt.title('Validation accuracy')\n",
    "plt.show()"
   ]
  },
  {
   "cell_type": "code",
   "execution_count": null,
   "metadata": {
    "hidden": true
   },
   "outputs": [],
   "source": []
  }
 ],
 "metadata": {
  "kernelspec": {
   "display_name": "Python [conda env:learn-env] *",
   "language": "python",
   "name": "conda-env-learn-env-py"
  },
  "language_info": {
   "codemirror_mode": {
    "name": "ipython",
    "version": 3
   },
   "file_extension": ".py",
   "mimetype": "text/x-python",
   "name": "python",
   "nbconvert_exporter": "python",
   "pygments_lexer": "ipython3",
   "version": "3.6.11"
  },
  "toc": {
   "base_numbering": 1,
   "nav_menu": {},
   "number_sections": true,
   "sideBar": true,
   "skip_h1_title": false,
   "title_cell": "Table of Contents",
   "title_sidebar": "Contents",
   "toc_cell": false,
   "toc_position": {
    "height": "calc(100% - 180px)",
    "left": "10px",
    "top": "150px",
    "width": "279px"
   },
   "toc_section_display": true,
   "toc_window_display": true
  },
  "varInspector": {
   "cols": {
    "lenName": 16,
    "lenType": 16,
    "lenVar": 40
   },
   "kernels_config": {
    "python": {
     "delete_cmd_postfix": "",
     "delete_cmd_prefix": "del ",
     "library": "var_list.py",
     "varRefreshCmd": "print(var_dic_list())"
    },
    "r": {
     "delete_cmd_postfix": ") ",
     "delete_cmd_prefix": "rm(",
     "library": "var_list.r",
     "varRefreshCmd": "cat(var_dic_list()) "
    }
   },
   "types_to_exclude": [
    "module",
    "function",
    "builtin_function_or_method",
    "instance",
    "_Feature"
   ],
   "window_display": false
  },
  "widgets": {
   "application/vnd.jupyter.widget-state+json": {
    "state": {
     "3176a925b1da4812b6b9a08eaa9a47e5": {
      "model_module": "@jupyter-widgets/controls",
      "model_module_version": "1.5.0",
      "model_name": "ProgressStyleModel",
      "state": {
       "description_width": "initial"
      }
     },
     "6cdfcbcf7d9e46788a093ca3e89884cf": {
      "model_module": "@jupyter-widgets/base",
      "model_module_version": "1.2.0",
      "model_name": "LayoutModel",
      "state": {}
     },
     "7f45943170bc4076966bdad19d1993bb": {
      "model_module": "@jupyter-widgets/base",
      "model_module_version": "1.2.0",
      "model_name": "LayoutModel",
      "state": {}
     },
     "907fbf82d8fd4b0aa4bd1e20f61cd86c": {
      "model_module": "@jupyter-widgets/controls",
      "model_module_version": "1.5.0",
      "model_name": "DescriptionStyleModel",
      "state": {
       "description_width": ""
      }
     },
     "b1e379b187b447b6a38deec60ef877de": {
      "model_module": "@jupyter-widgets/base",
      "model_module_version": "1.2.0",
      "model_name": "LayoutModel",
      "state": {}
     },
     "b2c21f049d1c447ab6bdb2eb160fc01c": {
      "model_module": "@jupyter-widgets/controls",
      "model_module_version": "1.5.0",
      "model_name": "HTMLModel",
      "state": {
       "layout": "IPY_MODEL_b1e379b187b447b6a38deec60ef877de",
       "style": "IPY_MODEL_907fbf82d8fd4b0aa4bd1e20f61cd86c",
       "value": " 0/6497 [00:00&lt;?, ?it/s]"
      }
     },
     "b83511e5360247068a26da1552bce1b5": {
      "model_module": "@jupyter-widgets/controls",
      "model_module_version": "1.5.0",
      "model_name": "HBoxModel",
      "state": {
       "children": [
        "IPY_MODEL_fca5f875a10349d59c154faa80e49698",
        "IPY_MODEL_b2c21f049d1c447ab6bdb2eb160fc01c"
       ],
       "layout": "IPY_MODEL_7f45943170bc4076966bdad19d1993bb"
      }
     },
     "fca5f875a10349d59c154faa80e49698": {
      "model_module": "@jupyter-widgets/controls",
      "model_module_version": "1.5.0",
      "model_name": "IntProgressModel",
      "state": {
       "description": "  0%",
       "layout": "IPY_MODEL_6cdfcbcf7d9e46788a093ca3e89884cf",
       "max": 6497,
       "style": "IPY_MODEL_3176a925b1da4812b6b9a08eaa9a47e5"
      }
     }
    },
    "version_major": 2,
    "version_minor": 0
   }
  }
 },
 "nbformat": 4,
 "nbformat_minor": 2
}
