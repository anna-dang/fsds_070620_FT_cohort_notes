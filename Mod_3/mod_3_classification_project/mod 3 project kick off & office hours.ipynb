{
 "cells": [
  {
   "cell_type": "markdown",
   "metadata": {
    "heading_collapsed": true
   },
   "source": [
    "# 09/30/20: Mod 3 Project Kick-Off\n",
    "- online-ds-ft-070620"
   ]
  },
  {
   "cell_type": "markdown",
   "metadata": {
    "hidden": true
   },
   "source": [
    "## Deadlines\n",
    "- **Soft deadline** (for submitting project links)is **Tuesday October 6th.**<br>\n",
    "- **Project reviews will be from 10/07 - 10/20.**\n",
    "- **Hard deadline for passing project reviews is 10/20.**"
   ]
  },
  {
   "cell_type": "markdown",
   "metadata": {
    "hidden": true
   },
   "source": [
    "## Timeline\n",
    "- Send me a DM on Slack with your chosen dataset by tomorrow afternoon.\n",
    "- You need to have your dataset approved by Friday morning if you select your own."
   ]
  },
  {
   "cell_type": "markdown",
   "metadata": {
    "hidden": true
   },
   "source": [
    "___"
   ]
  },
  {
   "cell_type": "markdown",
   "metadata": {},
   "source": [
    "# 10/01: Office Hours 1"
   ]
  },
  {
   "cell_type": "markdown",
   "metadata": {},
   "source": [
    "## Questions"
   ]
  },
  {
   "cell_type": "markdown",
   "metadata": {},
   "source": [
    "### from slack:\n",
    "\n",
    "#### Q1:\n",
    "- I just finished scrubbing my data. I didn't check for outliers or multicollinearity because thats only linear regression (I believe?).\n",
    "    - only LogReg needs some of the same assumotions met (try a follow up addressing outliers,etc)\n",
    "    \n",
    "- Do I need to ohe my categorical columns or somehow change them to numbers before beginning my modeling process? \n",
    "    - Dropped first for linear regression in mod 2, but here you prob don't want to do that (unlesss LogReg)\n",
    "    - OneHotEncoder - has `drop = 'if_binary'`\n",
    "- Kind of confused on the set up prior to train test split/modeling. \n",
    "\n",
    "#### Q2:\n"
   ]
  },
  {
   "cell_type": "markdown",
   "metadata": {},
   "source": [
    "#### Train Test Split vs EVERYTHING ELSE"
   ]
  },
  {
   "cell_type": "markdown",
   "metadata": {},
   "source": [
    "- Feature Engineering (combining features/making new features) can happen BEFORE train-test-split\n",
    "- but anything transforming the values (including fill nulls using median/mean/etc) need to go AFTER\n",
    "- Scaling comes after TTS too"
   ]
  },
  {
   "cell_type": "markdown",
   "metadata": {},
   "source": [
    "### Fixing Smote six errors\n",
    "```python\n",
    "import six\n",
    "import sys\n",
    "sys.modules['sklearn.externals.six'] = six\n",
    "from imblearn.over_sampling import SMOTE, ADASYN\n",
    "```"
   ]
  },
  {
   "cell_type": "markdown",
   "metadata": {},
   "source": [
    "___"
   ]
  },
  {
   "cell_type": "markdown",
   "metadata": {},
   "source": [
    "## Dealing with Class Imbalance"
   ]
  },
  {
   "cell_type": "markdown",
   "metadata": {},
   "source": [
    "- SMOTE\n",
    "- `class_weight` parameter with sklearn models\n",
    "- undersample the majority class\n",
    "- oversample the minority class"
   ]
  },
  {
   "cell_type": "code",
   "execution_count": null,
   "metadata": {},
   "outputs": [],
   "source": []
  }
 ],
 "metadata": {
  "kernelspec": {
   "display_name": "Python 3",
   "language": "python",
   "name": "python3"
  },
  "language_info": {
   "codemirror_mode": {
    "name": "ipython",
    "version": 3
   },
   "file_extension": ".py",
   "mimetype": "text/x-python",
   "name": "python",
   "nbconvert_exporter": "python",
   "pygments_lexer": "ipython3",
   "version": "3.6.11"
  },
  "toc": {
   "base_numbering": 1,
   "nav_menu": {},
   "number_sections": true,
   "sideBar": true,
   "skip_h1_title": false,
   "title_cell": "Table of Contents",
   "title_sidebar": "Contents",
   "toc_cell": false,
   "toc_position": {},
   "toc_section_display": true,
   "toc_window_display": false
  }
 },
 "nbformat": 4,
 "nbformat_minor": 2
}
