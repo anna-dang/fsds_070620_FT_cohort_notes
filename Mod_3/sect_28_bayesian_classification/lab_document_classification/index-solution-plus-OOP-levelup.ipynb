{
 "cells": [
  {
   "cell_type": "markdown",
   "metadata": {},
   "source": [
    "# Document Classification with Naive Bayes - Lab\n",
    "\n",
    "## Introduction\n",
    "\n",
    "In this lesson, you'll practice implementing the Naive Bayes algorithm on your own.\n",
    "\n",
    "## Objectives\n",
    "\n",
    "In this lab you will:  \n",
    "\n",
    "* Implement document classification using Naive Bayes"
   ]
  },
  {
   "cell_type": "markdown",
   "metadata": {},
   "source": [
    "## Import the dataset\n",
    "\n",
    "To start, import the dataset stored in the text file `'SMSSpamCollection'`."
   ]
  },
  {
   "cell_type": "code",
   "execution_count": 24,
   "metadata": {
    "ExecuteTime": {
     "end_time": "2020-09-27T22:30:24.002684Z",
     "start_time": "2020-09-27T22:30:23.980698Z"
    }
   },
   "outputs": [
    {
     "data": {
      "text/html": [
       "<div>\n",
       "<style scoped>\n",
       "    .dataframe tbody tr th:only-of-type {\n",
       "        vertical-align: middle;\n",
       "    }\n",
       "\n",
       "    .dataframe tbody tr th {\n",
       "        vertical-align: top;\n",
       "    }\n",
       "\n",
       "    .dataframe thead th {\n",
       "        text-align: right;\n",
       "    }\n",
       "</style>\n",
       "<table border=\"1\" class=\"dataframe\">\n",
       "  <thead>\n",
       "    <tr style=\"text-align: right;\">\n",
       "      <th></th>\n",
       "      <th>label</th>\n",
       "      <th>text</th>\n",
       "    </tr>\n",
       "  </thead>\n",
       "  <tbody>\n",
       "    <tr>\n",
       "      <th>0</th>\n",
       "      <td>ham</td>\n",
       "      <td>Go until jurong point, crazy.. Available only ...</td>\n",
       "    </tr>\n",
       "    <tr>\n",
       "      <th>1</th>\n",
       "      <td>ham</td>\n",
       "      <td>Ok lar... Joking wif u oni...</td>\n",
       "    </tr>\n",
       "    <tr>\n",
       "      <th>2</th>\n",
       "      <td>spam</td>\n",
       "      <td>Free entry in 2 a wkly comp to win FA Cup fina...</td>\n",
       "    </tr>\n",
       "    <tr>\n",
       "      <th>3</th>\n",
       "      <td>ham</td>\n",
       "      <td>U dun say so early hor... U c already then say...</td>\n",
       "    </tr>\n",
       "    <tr>\n",
       "      <th>4</th>\n",
       "      <td>ham</td>\n",
       "      <td>Nah I don't think he goes to usf, he lives aro...</td>\n",
       "    </tr>\n",
       "  </tbody>\n",
       "</table>\n",
       "</div>"
      ],
      "text/plain": [
       "  label                                               text\n",
       "0   ham  Go until jurong point, crazy.. Available only ...\n",
       "1   ham                      Ok lar... Joking wif u oni...\n",
       "2  spam  Free entry in 2 a wkly comp to win FA Cup fina...\n",
       "3   ham  U dun say so early hor... U c already then say...\n",
       "4   ham  Nah I don't think he goes to usf, he lives aro..."
      ]
     },
     "execution_count": 24,
     "metadata": {},
     "output_type": "execute_result"
    }
   ],
   "source": [
    "# Import the data\n",
    "import pandas as pd\n",
    "df = pd.read_csv('SMSSpamCollection', sep='\\t', names=['label', 'text'])\n",
    "df.head()"
   ]
  },
  {
   "cell_type": "markdown",
   "metadata": {},
   "source": [
    "## Account for class imbalance\n",
    "\n",
    "To help your algorithm perform more accurately, subset the dataset so that the two classes are of equal size. To do this, keep all of the instances of the minority class (spam) and subset examples of the majority class (ham) to an equal number of examples."
   ]
  },
  {
   "cell_type": "code",
   "execution_count": 25,
   "metadata": {
    "ExecuteTime": {
     "end_time": "2020-09-27T22:30:24.015951Z",
     "start_time": "2020-09-27T22:30:24.004531Z"
    }
   },
   "outputs": [
    {
     "data": {
      "text/plain": [
       "ham     747\n",
       "spam    747\n",
       "Name: label, dtype: int64"
      ]
     },
     "execution_count": 25,
     "metadata": {},
     "output_type": "execute_result"
    }
   ],
   "source": [
    "# Your code here\n",
    "minority = df[df['label'] == 'spam']\n",
    "undersampled_majority = df[df['label'] == 'ham'].sample(n=len(minority))\n",
    "df2 = pd.concat([minority, undersampled_majority])\n",
    "df2.label.value_counts()"
   ]
  },
  {
   "cell_type": "code",
   "execution_count": 26,
   "metadata": {
    "ExecuteTime": {
     "end_time": "2020-09-27T22:30:24.023409Z",
     "start_time": "2020-09-27T22:30:24.018187Z"
    }
   },
   "outputs": [
    {
     "data": {
      "text/plain": [
       "{'ham': 0.5, 'spam': 0.5}"
      ]
     },
     "execution_count": 26,
     "metadata": {},
     "output_type": "execute_result"
    }
   ],
   "source": [
    "p_classes = dict(df2['label'].value_counts(normalize=True))\n",
    "p_classes"
   ]
  },
  {
   "cell_type": "code",
   "execution_count": 27,
   "metadata": {
    "ExecuteTime": {
     "end_time": "2020-09-27T22:30:24.029525Z",
     "start_time": "2020-09-27T22:30:24.025156Z"
    }
   },
   "outputs": [
    {
     "data": {
      "text/plain": [
       "label                                                 spam\n",
       "text     Free entry in 2 a wkly comp to win FA Cup fina...\n",
       "Name: 2, dtype: object"
      ]
     },
     "execution_count": 27,
     "metadata": {},
     "output_type": "execute_result"
    }
   ],
   "source": [
    "df2.iloc[0]"
   ]
  },
  {
   "cell_type": "markdown",
   "metadata": {},
   "source": [
    "## Train-test split\n",
    "\n",
    "Now implement a train-test split on the dataset: "
   ]
  },
  {
   "cell_type": "code",
   "execution_count": 28,
   "metadata": {
    "ExecuteTime": {
     "end_time": "2020-09-27T22:30:24.038439Z",
     "start_time": "2020-09-27T22:30:24.031169Z"
    }
   },
   "outputs": [],
   "source": [
    "from sklearn.model_selection import train_test_split\n",
    "X = df2['text']\n",
    "y = df2['label']\n",
    "X_train, X_test, y_train, y_test = train_test_split(X, y, random_state=17)\n",
    "train_df = pd.concat([X_train, y_train], axis=1) \n",
    "test_df = pd.concat([X_test, y_test], axis=1)"
   ]
  },
  {
   "cell_type": "markdown",
   "metadata": {},
   "source": [
    "## Create the word frequency dictionary for each class\n",
    "\n",
    "Create a word frequency dictionary for each class: "
   ]
  },
  {
   "cell_type": "code",
   "execution_count": 29,
   "metadata": {
    "ExecuteTime": {
     "end_time": "2020-09-27T22:30:24.063256Z",
     "start_time": "2020-09-27T22:30:24.040423Z"
    }
   },
   "outputs": [],
   "source": [
    "# Will be a nested dictionary of class_i : {word1:freq, word2:freq..., wordn:freq},.... class_m : {}\n",
    "class_word_freq = {} \n",
    "classes = train_df['label'].unique()\n",
    "for class_ in classes:\n",
    "    temp_df = train_df[train_df['label'] == class_]\n",
    "    bag = {}\n",
    "    for row in temp_df.index:\n",
    "        doc = temp_df['text'][row]\n",
    "        for word in doc.split():\n",
    "            bag[word] = bag.get(word, 0) + 1\n",
    "    class_word_freq[class_] = bag"
   ]
  },
  {
   "cell_type": "markdown",
   "metadata": {},
   "source": [
    "## Count the total corpus words\n",
    "Calculate V, the total number of words in the corpus: "
   ]
  },
  {
   "cell_type": "code",
   "execution_count": 30,
   "metadata": {
    "ExecuteTime": {
     "end_time": "2020-09-27T22:30:24.074975Z",
     "start_time": "2020-09-27T22:30:24.065099Z"
    }
   },
   "outputs": [
    {
     "data": {
      "text/plain": [
       "5998"
      ]
     },
     "execution_count": 30,
     "metadata": {},
     "output_type": "execute_result"
    }
   ],
   "source": [
    "vocabulary = set()\n",
    "for text in train_df['text']:\n",
    "    for word in text.split():\n",
    "        vocabulary.add(word)\n",
    "V = len(vocabulary)\n",
    "V"
   ]
  },
  {
   "cell_type": "markdown",
   "metadata": {},
   "source": [
    "## Create a bag of words function\n",
    "\n",
    "Before implementing the entire Naive Bayes algorithm, create a helper function `bag_it()` to create a bag of words representation from a document's text."
   ]
  },
  {
   "cell_type": "code",
   "execution_count": 31,
   "metadata": {
    "ExecuteTime": {
     "end_time": "2020-09-27T22:30:24.079457Z",
     "start_time": "2020-09-27T22:30:24.076587Z"
    }
   },
   "outputs": [],
   "source": [
    "def bag_it(doc):\n",
    "    bag = {}\n",
    "    for word in doc.split():\n",
    "        bag[word] = bag.get(word, 0) + 1\n",
    "    return bag"
   ]
  },
  {
   "cell_type": "markdown",
   "metadata": {},
   "source": [
    "## Implementing Naive Bayes\n",
    "\n",
    "Now, implement a master function to build a naive Bayes classifier. Be sure to use the logarithmic probabilities to avoid underflow."
   ]
  },
  {
   "cell_type": "code",
   "execution_count": 32,
   "metadata": {
    "ExecuteTime": {
     "end_time": "2020-09-27T22:30:24.086733Z",
     "start_time": "2020-09-27T22:30:24.081960Z"
    }
   },
   "outputs": [],
   "source": [
    "def classify_doc(doc, class_word_freq, p_classes, V, return_posteriors=False):\n",
    "    bag = bag_it(doc)\n",
    "    classes = []\n",
    "    posteriors = []\n",
    "    for class_ in class_word_freq.keys():\n",
    "        p = np.log(p_classes[class_])\n",
    "        for word in bag.keys():\n",
    "            num = bag[word]+1\n",
    "            denom = class_word_freq[class_].get(word, 0) + V\n",
    "            p += np.log(num/denom)\n",
    "        classes.append(class_)\n",
    "        posteriors.append(p)\n",
    "    if return_posteriors:\n",
    "        print(posteriors)\n",
    "    return classes[np.argmax(posteriors)]"
   ]
  },
  {
   "cell_type": "markdown",
   "metadata": {},
   "source": [
    "## Test your classifier\n",
    "\n",
    "Finally, test your classifier and measure its accuracy. Don't be perturbed if your results are sub-par; industry use cases would require substantial additional preprocessing before implementing the algorithm in practice."
   ]
  },
  {
   "cell_type": "code",
   "execution_count": 33,
   "metadata": {
    "ExecuteTime": {
     "end_time": "2020-09-27T22:30:24.168873Z",
     "start_time": "2020-09-27T22:30:24.088752Z"
    }
   },
   "outputs": [
    {
     "data": {
      "text/plain": [
       "False    0.752679\n",
       "True     0.247321\n",
       "dtype: float64"
      ]
     },
     "execution_count": 33,
     "metadata": {},
     "output_type": "execute_result"
    }
   ],
   "source": [
    "import numpy as np\n",
    "\n",
    "y_hat_train = X_train.map(lambda x: classify_doc(x, class_word_freq, p_classes, V))\n",
    "residuals = y_train == y_hat_train\n",
    "residuals.value_counts(normalize=True)"
   ]
  },
  {
   "cell_type": "code",
   "execution_count": 34,
   "metadata": {
    "ExecuteTime": {
     "end_time": "2020-09-27T22:30:24.202636Z",
     "start_time": "2020-09-27T22:30:24.170227Z"
    }
   },
   "outputs": [
    {
     "data": {
      "text/plain": [
       "False    0.719251\n",
       "True     0.280749\n",
       "dtype: float64"
      ]
     },
     "execution_count": 34,
     "metadata": {},
     "output_type": "execute_result"
    }
   ],
   "source": [
    "y_hat_test = X_test.map(lambda x: classify_doc(x, class_word_freq, p_classes, V))\n",
    "residuals = y_test == y_hat_test\n",
    "residuals.value_counts(normalize=True)"
   ]
  },
  {
   "cell_type": "code",
   "execution_count": 35,
   "metadata": {
    "ExecuteTime": {
     "end_time": "2020-09-27T22:30:24.421431Z",
     "start_time": "2020-09-27T22:30:24.204376Z"
    }
   },
   "outputs": [
    {
     "name": "stdout",
     "output_type": "stream",
     "text": [
      "              precision    recall  f1-score   support\n",
      "\n",
      "         ham       0.35      0.58      0.44       180\n",
      "        spam       0.01      0.01      0.01       194\n",
      "\n",
      "    accuracy                           0.28       374\n",
      "   macro avg       0.18      0.29      0.22       374\n",
      "weighted avg       0.18      0.28      0.21       374\n",
      "\n"
     ]
    },
    {
     "data": {
      "image/png": "[encoded data removed]",
      "text/plain": [
       "<Figure size 432x288 with 2 Axes>"
      ]
     },
     "metadata": {
      "needs_background": "light"
     },
     "output_type": "display_data"
    }
   ],
   "source": [
    "## USING SKLEARN \n",
    "from sklearn import metrics\n",
    "import seaborn as sns\n",
    "sns.heatmap(metrics.confusion_matrix(y_test,y_hat_test,normalize='true'),\n",
    "            annot=True,cmap='Blues')\n",
    "print(metrics.classification_report(y_test,y_hat_test))"
   ]
  },
  {
   "cell_type": "markdown",
   "metadata": {},
   "source": [
    "# Using Built-in Naive Bayes with `sklearn` with NLP \n"
   ]
  },
  {
   "cell_type": "code",
   "execution_count": 36,
   "metadata": {
    "ExecuteTime": {
     "end_time": "2020-09-27T22:30:24.430822Z",
     "start_time": "2020-09-27T22:30:24.423145Z"
    }
   },
   "outputs": [
    {
     "data": {
      "text/plain": [
       "['i',\n",
       " 'me',\n",
       " 'my',\n",
       " 'myself',\n",
       " 'we',\n",
       " 'our',\n",
       " 'ours',\n",
       " 'ourselves',\n",
       " 'you',\n",
       " \"you're\",\n",
       " \"you've\",\n",
       " \"you'll\",\n",
       " \"you'd\",\n",
       " 'your',\n",
       " 'yours',\n",
       " 'yourself',\n",
       " 'yourselves',\n",
       " 'he',\n",
       " 'him',\n",
       " 'his',\n",
       " 'himself',\n",
       " 'she',\n",
       " \"she's\",\n",
       " 'her',\n",
       " 'hers',\n",
       " 'herself',\n",
       " 'it',\n",
       " \"it's\",\n",
       " 'its',\n",
       " 'itself',\n",
       " 'they',\n",
       " 'them',\n",
       " 'their',\n",
       " 'theirs',\n",
       " 'themselves',\n",
       " 'what',\n",
       " 'which',\n",
       " 'who',\n",
       " 'whom',\n",
       " 'this',\n",
       " 'that',\n",
       " \"that'll\",\n",
       " 'these',\n",
       " 'those',\n",
       " 'am',\n",
       " 'is',\n",
       " 'are',\n",
       " 'was',\n",
       " 'were',\n",
       " 'be',\n",
       " 'been',\n",
       " 'being',\n",
       " 'have',\n",
       " 'has',\n",
       " 'had',\n",
       " 'having',\n",
       " 'do',\n",
       " 'does',\n",
       " 'did',\n",
       " 'doing',\n",
       " 'a',\n",
       " 'an',\n",
       " 'the',\n",
       " 'and',\n",
       " 'but',\n",
       " 'if',\n",
       " 'or',\n",
       " 'because',\n",
       " 'as',\n",
       " 'until',\n",
       " 'while',\n",
       " 'of',\n",
       " 'at',\n",
       " 'by',\n",
       " 'for',\n",
       " 'with',\n",
       " 'about',\n",
       " 'against',\n",
       " 'between',\n",
       " 'into',\n",
       " 'through',\n",
       " 'during',\n",
       " 'before',\n",
       " 'after',\n",
       " 'above',\n",
       " 'below',\n",
       " 'to',\n",
       " 'from',\n",
       " 'up',\n",
       " 'down',\n",
       " 'in',\n",
       " 'out',\n",
       " 'on',\n",
       " 'off',\n",
       " 'over',\n",
       " 'under',\n",
       " 'again',\n",
       " 'further',\n",
       " 'then',\n",
       " 'once',\n",
       " 'here',\n",
       " 'there',\n",
       " 'when',\n",
       " 'where',\n",
       " 'why',\n",
       " 'how',\n",
       " 'all',\n",
       " 'any',\n",
       " 'both',\n",
       " 'each',\n",
       " 'few',\n",
       " 'more',\n",
       " 'most',\n",
       " 'other',\n",
       " 'some',\n",
       " 'such',\n",
       " 'no',\n",
       " 'nor',\n",
       " 'not',\n",
       " 'only',\n",
       " 'own',\n",
       " 'same',\n",
       " 'so',\n",
       " 'than',\n",
       " 'too',\n",
       " 'very',\n",
       " 's',\n",
       " 't',\n",
       " 'can',\n",
       " 'will',\n",
       " 'just',\n",
       " 'don',\n",
       " \"don't\",\n",
       " 'should',\n",
       " \"should've\",\n",
       " 'now',\n",
       " 'd',\n",
       " 'll',\n",
       " 'm',\n",
       " 'o',\n",
       " 're',\n",
       " 've',\n",
       " 'y',\n",
       " 'ain',\n",
       " 'aren',\n",
       " \"aren't\",\n",
       " 'couldn',\n",
       " \"couldn't\",\n",
       " 'didn',\n",
       " \"didn't\",\n",
       " 'doesn',\n",
       " \"doesn't\",\n",
       " 'hadn',\n",
       " \"hadn't\",\n",
       " 'hasn',\n",
       " \"hasn't\",\n",
       " 'haven',\n",
       " \"haven't\",\n",
       " 'isn',\n",
       " \"isn't\",\n",
       " 'ma',\n",
       " 'mightn',\n",
       " \"mightn't\",\n",
       " 'mustn',\n",
       " \"mustn't\",\n",
       " 'needn',\n",
       " \"needn't\",\n",
       " 'shan',\n",
       " \"shan't\",\n",
       " 'shouldn',\n",
       " \"shouldn't\",\n",
       " 'wasn',\n",
       " \"wasn't\",\n",
       " 'weren',\n",
       " \"weren't\",\n",
       " 'won',\n",
       " \"won't\",\n",
       " 'wouldn',\n",
       " \"wouldn't\",\n",
       " '!',\n",
       " '\"',\n",
       " '#',\n",
       " '$',\n",
       " '%',\n",
       " '&',\n",
       " \"'\",\n",
       " '(',\n",
       " ')',\n",
       " '*',\n",
       " '+',\n",
       " ',',\n",
       " '-',\n",
       " '.',\n",
       " '/',\n",
       " ':',\n",
       " ';',\n",
       " '<',\n",
       " '=',\n",
       " '>',\n",
       " '?',\n",
       " '@',\n",
       " '[',\n",
       " '\\\\',\n",
       " ']',\n",
       " '^',\n",
       " '_',\n",
       " '`',\n",
       " '{',\n",
       " '|',\n",
       " '}',\n",
       " '~']"
      ]
     },
     "execution_count": 36,
     "metadata": {},
     "output_type": "execute_result"
    }
   ],
   "source": [
    "from nltk.corpus import stopwords\n",
    "from string import punctuation\n",
    "stopwords_list = stopwords.words('english')\n",
    "stopwords_list += punctuation\n",
    "stopwords_list"
   ]
  },
  {
   "cell_type": "code",
   "execution_count": 37,
   "metadata": {
    "ExecuteTime": {
     "end_time": "2020-09-27T22:30:24.438937Z",
     "start_time": "2020-09-27T22:30:24.433882Z"
    }
   },
   "outputs": [
    {
     "data": {
      "text/plain": [
       "ham     747\n",
       "spam    747\n",
       "Name: label, dtype: int64"
      ]
     },
     "execution_count": 37,
     "metadata": {},
     "output_type": "execute_result"
    }
   ],
   "source": [
    " df2['label'].value_counts()"
   ]
  },
  {
   "cell_type": "code",
   "execution_count": 38,
   "metadata": {
    "ExecuteTime": {
     "end_time": "2020-09-27T22:30:24.443268Z",
     "start_time": "2020-09-27T22:30:24.441186Z"
    }
   },
   "outputs": [],
   "source": [
    "from sklearn.feature_extraction.text import CountVectorizer\n",
    "vectorizer = CountVectorizer(stop_words=stopwords_list)"
   ]
  },
  {
   "cell_type": "code",
   "execution_count": 39,
   "metadata": {
    "ExecuteTime": {
     "end_time": "2020-09-27T22:30:24.482850Z",
     "start_time": "2020-09-27T22:30:24.444818Z"
    }
   },
   "outputs": [
    {
     "data": {
      "text/plain": [
       "<1120x3741 sparse matrix of type '<class 'numpy.int64'>'\n",
       "\twith 12992 stored elements in Compressed Sparse Row format>"
      ]
     },
     "execution_count": 39,
     "metadata": {},
     "output_type": "execute_result"
    }
   ],
   "source": [
    "X = df2['text']\n",
    "y = df2['label'].copy()\n",
    "\n",
    "X_train, X_test, y_train,y_test =train_test_split(X, y,random_state=17)\n",
    "\n",
    "X_train_vec = vectorizer.fit_transform(X_train)\n",
    "X_test_vec = vectorizer.transform(X_test)\n",
    "X_train_vec"
   ]
  },
  {
   "cell_type": "code",
   "execution_count": 40,
   "metadata": {
    "ExecuteTime": {
     "end_time": "2020-09-27T22:30:24.489943Z",
     "start_time": "2020-09-27T22:30:24.484778Z"
    }
   },
   "outputs": [
    {
     "data": {
      "text/plain": [
       "[array(['give', 'miss', 'number', 'one', 'please'], dtype='<U28')]"
      ]
     },
     "execution_count": 40,
     "metadata": {},
     "output_type": "execute_result"
    }
   ],
   "source": [
    "vectorizer.inverse_transform(X_test_vec[1])"
   ]
  },
  {
   "cell_type": "code",
   "execution_count": 41,
   "metadata": {
    "ExecuteTime": {
     "end_time": "2020-09-27T22:30:24.666725Z",
     "start_time": "2020-09-27T22:30:24.491673Z"
    }
   },
   "outputs": [
    {
     "name": "stdout",
     "output_type": "stream",
     "text": [
      "              precision    recall  f1-score   support\n",
      "\n",
      "         ham       0.98      0.95      0.96       180\n",
      "        spam       0.95      0.98      0.97       194\n",
      "\n",
      "    accuracy                           0.97       374\n",
      "   macro avg       0.97      0.96      0.97       374\n",
      "weighted avg       0.97      0.97      0.97       374\n",
      "\n"
     ]
    },
    {
     "data": {
      "text/plain": [
       "<sklearn.metrics._plot.confusion_matrix.ConfusionMatrixDisplay at 0x7fb3c4328e80>"
      ]
     },
     "execution_count": 41,
     "metadata": {},
     "output_type": "execute_result"
    },
    {
     "data": {
      "image/png": "[encoded data removed]",
      "text/plain": [
       "<Figure size 432x288 with 2 Axes>"
      ]
     },
     "metadata": {
      "needs_background": "light"
     },
     "output_type": "display_data"
    }
   ],
   "source": [
    "## Using  sklearn MultinomialNB https://scikit-learn.org/stable/modules/generated/sklearn.naive_bayes.MultinomialNB.html\n",
    "from sklearn import metrics\n",
    "from sklearn.naive_bayes import MultinomialNB\n",
    "model = MultinomialNB()\n",
    "model.fit(X_train_vec,y_train)\n",
    "\n",
    "y_hat_test = model.predict(X_test_vec)\n",
    "\n",
    "print(metrics.classification_report(y_test,y_hat_test))\n",
    "metrics.plot_confusion_matrix(model,X_test_vec,y_test,cmap='Blues', normalize='true')\n",
    "# y_test.value_counts(normalize=True)"
   ]
  },
  {
   "cell_type": "code",
   "execution_count": 42,
   "metadata": {
    "ExecuteTime": {
     "end_time": "2020-09-27T22:30:24.671770Z",
     "start_time": "2020-09-27T22:30:24.668407Z"
    }
   },
   "outputs": [
    {
     "data": {
      "text/plain": [
       "array(['ham', 'spam'], dtype='<U4')"
      ]
     },
     "execution_count": 42,
     "metadata": {},
     "output_type": "execute_result"
    }
   ],
   "source": [
    "model.classes_"
   ]
  },
  {
   "cell_type": "code",
   "execution_count": 43,
   "metadata": {
    "ExecuteTime": {
     "end_time": "2020-09-27T22:30:24.676770Z",
     "start_time": "2020-09-27T22:30:24.673447Z"
    }
   },
   "outputs": [
    {
     "data": {
      "text/plain": [
       "3741"
      ]
     },
     "execution_count": 43,
     "metadata": {},
     "output_type": "execute_result"
    }
   ],
   "source": [
    "vocab = vectorizer.vocabulary_\n",
    "len(vocab)"
   ]
  },
  {
   "cell_type": "code",
   "execution_count": 44,
   "metadata": {
    "ExecuteTime": {
     "end_time": "2020-09-27T22:30:24.681967Z",
     "start_time": "2020-09-27T22:30:24.678622Z"
    },
    "scrolled": true
   },
   "outputs": [
    {
     "data": {
      "text/plain": [
       "3741"
      ]
     },
     "execution_count": 44,
     "metadata": {},
     "output_type": "execute_result"
    }
   ],
   "source": [
    "model.n_features_"
   ]
  },
  {
   "cell_type": "markdown",
   "metadata": {},
   "source": [
    "## Level up (Optional)\n",
    "\n",
    "Rework your code into an appropriate class structure so that you could easily implement the algorithm on any given dataset."
   ]
  },
  {
   "cell_type": "markdown",
   "metadata": {},
   "source": [
    "## My Way - OOP & sklearn"
   ]
  },
  {
   "cell_type": "code",
   "execution_count": 45,
   "metadata": {
    "ExecuteTime": {
     "end_time": "2020-09-27T22:30:24.687266Z",
     "start_time": "2020-09-27T22:30:24.683613Z"
    }
   },
   "outputs": [],
   "source": [
    "## Combine class dicts\n",
    "def join_freq_dicts(*ds):\n",
    "    \"\"\"Combines any number of frequency word dicts\"\"\"\n",
    "    D = {}\n",
    "    for d in ds:\n",
    "        for k,v in d.items():\n",
    "            cur_v = D.get(k,0)\n",
    "            D[k] = cur_v+v\n",
    "    return D"
   ]
  },
  {
   "cell_type": "markdown",
   "metadata": {},
   "source": [
    "### Making your own sklearn estimator\n",
    "\n",
    "- http://danielhnyk.cz/creating-your-own-estimator-scikit-learn/\n",
    "\n",
    "- https://scikit-learn.org/stable/developers/develop.html"
   ]
  },
  {
   "cell_type": "code",
   "execution_count": 46,
   "metadata": {
    "ExecuteTime": {
     "end_time": "2020-09-27T22:30:24.765177Z",
     "start_time": "2020-09-27T22:30:24.688951Z"
    }
   },
   "outputs": [],
   "source": [
    "from sklearn.utils.estimator_checks import check_estimator\n",
    "from sklearn.base import BaseEstimator,ClassifierMixin\n",
    "\n",
    "class Bayes(ClassifierMixin,BaseEstimator):\n",
    "\n",
    "    def __init__(self,*args,**kwargs):\n",
    "        self._id = 'Bayesian Classification built on top of sklearn.'\n",
    "        \n",
    "    def fit(self, X_train,y_train,class_priors=None):\n",
    "        \"\"\"After fitting, model will have .classes_, \n",
    "        .class_word_freq, .class_priors\"\"\"\n",
    "        \n",
    "        class_word_freq = {} \n",
    "        classes = list(y_train.unique())\n",
    "        self.classes_ = classes\n",
    "        \n",
    "        vocab ={}\n",
    "        for class_ in classes:\n",
    "            temp_df = X_train[y_train == class_]\n",
    "            bag = {}\n",
    "            for row in temp_df.index:\n",
    "                doc = temp_df[row]\n",
    "                for word in doc.split():\n",
    "                    bag[word] = bag.get(word, 0) + 1\n",
    "            class_word_freq[class_] = bag\n",
    "        \n",
    "        self.class_word_freq = class_word_freq\n",
    "        \n",
    "        if class_priors == None:\n",
    "            class_priors = dict(y_train.value_counts(normalize=True))\n",
    "            \n",
    "        self.class_priors_ =class_priors \n",
    "        self.class_counts_ = dict(y_train.value_counts(normalize=False))\n",
    "        self.vocab = join_freq_dicts(*list(class_word_freq.values()))\n",
    "        self.vocab_size = len(self.vocab)\n",
    "        self.fitted_ = True\n",
    "        \n",
    "        \n",
    "    ## Solution way\n",
    "    def bag_it(self,doc):\n",
    "        bag = {}\n",
    "        for word in doc.split():\n",
    "            bag[word] = bag.get(word, 0) + 1\n",
    "        return bag\n",
    "\n",
    "        \n",
    "    @staticmethod\n",
    "    def join_freq_dicts(*ds):\n",
    "        D = join_freq_dicts(*ds)\n",
    "        return D\n",
    "    \n",
    "    \n",
    "    def __repr__(self):\n",
    "        output = [['Class','Count','Prior','Vocab Size']]\n",
    "        for class_ in self.classes_:\n",
    "            data = [class_,self.class_counts_[class_], self.class_priors_[class_],\n",
    "            len(self.class_word_freq[class_])]\n",
    "            output.append(data)\n",
    "\n",
    "        display(pd.DataFrame(output[1:],columns=output[0]))\n",
    "        return self._id\n",
    "    \n",
    "    def __str__(self):\n",
    "        output = [['Class','Count','Prior','Vocab Size']]\n",
    "        for class_ in self.classes_:\n",
    "            data = [class_,self.class_counts_[class_], self.class_priors_[class_],\n",
    "            len(self.class_word_freq[class_])]\n",
    "            output.append(data)\n",
    "\n",
    "        print(pd.DataFrame(output[1:],columns=output[0]))\n",
    "        return self._id\n",
    "\n",
    "## NOTE TO SELF: FIX PREDICT? Match X_train.map appraoch from above 09/27/20    \n",
    "    def predict(self, X):#, ):\n",
    "        return_posteriors=False\n",
    "        p_classes = self.class_priors_\n",
    "        V = self.vocab_size\n",
    "        class_word_freq = self.class_word_freq\n",
    "        preds = [ ]\n",
    "        for doc in X:\n",
    "\n",
    "            bag = self.bag_it(doc)\n",
    "            classes = []\n",
    "            posteriors = []\n",
    "\n",
    "            for class_ in class_word_freq.keys():\n",
    "                p = np.log(p_classes[class_])\n",
    "\n",
    "                for word in bag.keys():\n",
    "                    num = bag[word]+1\n",
    "                    denom = class_word_freq[class_].get(word, 0) + V\n",
    "                    p += np.log(num/denom)\n",
    "                classes.append(class_)\n",
    "                posteriors.append(p)\n",
    "\n",
    "            if return_posteriors:\n",
    "                preds.append(posteriors)\n",
    "                \n",
    "            else:\n",
    "                preds.append(classes[np.argmax(posteriors)])\n",
    "        return pd.Series(preds, index=X.index)\n",
    "\n",
    "    \n",
    "    def predict_proba(self, X):#, ):\n",
    "        return_posteriors=False\n",
    "        p_classes = self.class_priors_\n",
    "        V = self.vocab_size\n",
    "        class_word_freq = self.class_word_freq\n",
    "        preds = [ ]\n",
    "        for doc in X:\n",
    "\n",
    "            bag = self.bag_it(doc)\n",
    "            classes = []\n",
    "            posteriors = []\n",
    "\n",
    "            for class_ in class_word_freq.keys():\n",
    "                p = np.log(p_classes[class_])\n",
    "\n",
    "                for word in bag.keys():\n",
    "                    num = bag[word]+1\n",
    "                    denom = class_word_freq[class_].get(word, 0) + V\n",
    "                    p += np.log(num/denom)\n",
    "                classes.append(class_)\n",
    "                posteriors.append(p)\n",
    "\n",
    "            if return_posteriors:\n",
    "                preds.append(posteriors)\n",
    "                \n",
    "            else:\n",
    "                preds.append(classes[np.argmax(posteriors)])\n",
    "        return pd.Series(preds, index=X.index)"
   ]
  },
  {
   "cell_type": "code",
   "execution_count": 47,
   "metadata": {
    "ExecuteTime": {
     "end_time": "2020-09-27T22:30:24.868724Z",
     "start_time": "2020-09-27T22:30:24.767100Z"
    }
   },
   "outputs": [
    {
     "data": {
      "text/plain": [
       "588      ham\n",
       "312      ham\n",
       "844      ham\n",
       "631      ham\n",
       "2655     ham\n",
       "        ... \n",
       "2987     ham\n",
       "1964     ham\n",
       "910      ham\n",
       "29      spam\n",
       "4616     ham\n",
       "Length: 1120, dtype: object"
      ]
     },
     "execution_count": 47,
     "metadata": {},
     "output_type": "execute_result"
    }
   ],
   "source": [
    "model = Bayes()\n",
    "model.fit(X_train,y_train,class_priors=None)#p_classes)\n",
    "y_hat_train_prob = model.predict_proba(X_train)#,return_posteriors=True)\n",
    "y_hat_train_prob"
   ]
  },
  {
   "cell_type": "code",
   "execution_count": 48,
   "metadata": {
    "ExecuteTime": {
     "end_time": "2020-09-27T22:30:24.879107Z",
     "start_time": "2020-09-27T22:30:24.870371Z"
    }
   },
   "outputs": [
    {
     "data": {
      "text/html": [
       "<div>\n",
       "<style scoped>\n",
       "    .dataframe tbody tr th:only-of-type {\n",
       "        vertical-align: middle;\n",
       "    }\n",
       "\n",
       "    .dataframe tbody tr th {\n",
       "        vertical-align: top;\n",
       "    }\n",
       "\n",
       "    .dataframe thead th {\n",
       "        text-align: right;\n",
       "    }\n",
       "</style>\n",
       "<table border=\"1\" class=\"dataframe\">\n",
       "  <thead>\n",
       "    <tr style=\"text-align: right;\">\n",
       "      <th></th>\n",
       "      <th>Class</th>\n",
       "      <th>Count</th>\n",
       "      <th>Prior</th>\n",
       "      <th>Vocab Size</th>\n",
       "    </tr>\n",
       "  </thead>\n",
       "  <tbody>\n",
       "    <tr>\n",
       "      <th>0</th>\n",
       "      <td>ham</td>\n",
       "      <td>567</td>\n",
       "      <td>0.50625</td>\n",
       "      <td>2955</td>\n",
       "    </tr>\n",
       "    <tr>\n",
       "      <th>1</th>\n",
       "      <td>spam</td>\n",
       "      <td>553</td>\n",
       "      <td>0.49375</td>\n",
       "      <td>3628</td>\n",
       "    </tr>\n",
       "  </tbody>\n",
       "</table>\n",
       "</div>"
      ],
      "text/plain": [
       "  Class  Count    Prior  Vocab Size\n",
       "0   ham    567  0.50625        2955\n",
       "1  spam    553  0.49375        3628"
      ]
     },
     "metadata": {},
     "output_type": "display_data"
    },
    {
     "data": {
      "text/plain": [
       "Bayesian Classification built on top of sklearn."
      ]
     },
     "execution_count": 48,
     "metadata": {},
     "output_type": "execute_result"
    }
   ],
   "source": [
    "model"
   ]
  },
  {
   "cell_type": "code",
   "execution_count": 50,
   "metadata": {
    "ExecuteTime": {
     "end_time": "2020-09-27T22:30:43.227376Z",
     "start_time": "2020-09-27T22:30:42.864927Z"
    }
   },
   "outputs": [
    {
     "name": "stdout",
     "output_type": "stream",
     "text": [
      "              precision    recall  f1-score   support\n",
      "\n",
      "         ham       0.45      0.87      0.59       180\n",
      "        spam       0.00      0.00      0.00       194\n",
      "\n",
      "    accuracy                           0.42       374\n",
      "   macro avg       0.22      0.44      0.30       374\n",
      "weighted avg       0.22      0.42      0.28       374\n",
      "\n",
      "0.4197860962566845\n"
     ]
    },
    {
     "data": {
      "text/plain": [
       "<sklearn.metrics._plot.confusion_matrix.ConfusionMatrixDisplay at 0x7fb3c0e54f28>"
      ]
     },
     "execution_count": 50,
     "metadata": {},
     "output_type": "execute_result"
    },
    {
     "data": {
      "image/png": "[encoded data removed]",
      "text/plain": [
       "<Figure size 432x288 with 2 Axes>"
      ]
     },
     "metadata": {
      "needs_background": "light"
     },
     "output_type": "display_data"
    }
   ],
   "source": [
    "from sklearn import metrics\n",
    "model = Bayes()\n",
    "model.fit(X_train,y_train,class_priors=None)#p_classes)\n",
    "y_hat_train = model.predict(X_train)#,return_posteriors=True)\n",
    "y_hat_test = model.predict(X_test)\n",
    "\n",
    "print(metrics.classification_report(y_test,y_hat_test))\n",
    "print(model.score(X_test,y_test))\n",
    "metrics.plot_confusion_matrix(model,X_test,y_test,cmap=\"Blues\",\n",
    "                             normalize='true')\n"
   ]
  },
  {
   "cell_type": "markdown",
   "metadata": {},
   "source": [
    "## Summary\n",
    "\n",
    "Well done! In this lab, you practiced implementing Naive Bayes for document classification!"
   ]
  }
 ],
 "metadata": {
  "kernelspec": {
   "display_name": "Python 3",
   "language": "python",
   "name": "python3"
  },
  "language_info": {
   "codemirror_mode": {
    "name": "ipython",
    "version": 3
   },
   "file_extension": ".py",
   "mimetype": "text/x-python",
   "name": "python",
   "nbconvert_exporter": "python",
   "pygments_lexer": "ipython3",
   "version": "3.6.11"
  },
  "toc": {
   "base_numbering": 1,
   "nav_menu": {},
   "number_sections": true,
   "sideBar": true,
   "skip_h1_title": false,
   "title_cell": "Table of Contents",
   "title_sidebar": "Contents",
   "toc_cell": false,
   "toc_position": {},
   "toc_section_display": true,
   "toc_window_display": false
  }
 },
 "nbformat": 4,
 "nbformat_minor": 2
}
