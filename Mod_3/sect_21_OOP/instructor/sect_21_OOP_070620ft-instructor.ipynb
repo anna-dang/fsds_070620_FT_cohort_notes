{
 "cells": [
  {
   "cell_type": "markdown",
   "metadata": {},
   "source": [
    "# Sect 21: Object-Oriented Programming "
   ]
  },
  {
   "cell_type": "markdown",
   "metadata": {},
   "source": [
    "- online-ds-ft-070620\n",
    "- 09/09/20"
   ]
  },
  {
   "cell_type": "markdown",
   "metadata": {},
   "source": [
    "## Questions?\n"
   ]
  },
  {
   "cell_type": "markdown",
   "metadata": {},
   "source": [
    "- [Inheritance Lab](https://learn.co/tracks/module-3-data-science-career-2-1/appendix/more-oop/inheritance-lab) \n",
    "    - why do only some of the parameters in the animal class go here: def __init__(self, name, weight):\n",
    "\n",
    "- When to create a class vs. when to just write functions?\n"
   ]
  },
  {
   "cell_type": "markdown",
   "metadata": {},
   "source": [
    "## Topics"
   ]
  },
  {
   "cell_type": "markdown",
   "metadata": {
    "ExecuteTime": {
     "end_time": "2020-03-04T22:48:55.304853Z",
     "start_time": "2020-03-04T22:48:55.299479Z"
    }
   },
   "source": [
    "- **OOP-Vocabulary**\n",
    "- **Defining/Initializing Classes**\n",
    "- **Inspecting classes:**\n",
    "    - `help(obj)` vs `dir(obj)`\n",
    "    \n",
    "- **Deeper dive into Classes/Objects**\n",
    "    - special methods/properties (`__repr__(),__str__(),__call__(),__version__(),__name__()`)\n",
    "    - Methods: vs Bound Methods vs Static Methods "
   ]
  },
  {
   "cell_type": "markdown",
   "metadata": {},
   "source": [
    "# What does it mean to be 'Object-Oriented'?\n",
    "\n",
    "> ### ___\"Everything is an object.\"___\n",
    "- some Python sensei\n"
   ]
  },
  {
   "cell_type": "code",
   "execution_count": null,
   "metadata": {
    "ExecuteTime": {
     "end_time": "2020-09-09T15:14:02.996042Z",
     "start_time": "2020-09-09T15:14:02.986791Z"
    }
   },
   "outputs": [],
   "source": [
    "var = 13\n",
    "var"
   ]
  },
  {
   "cell_type": "code",
   "execution_count": null,
   "metadata": {
    "ExecuteTime": {
     "end_time": "2020-09-09T15:14:03.001052Z",
     "start_time": "2020-09-09T15:14:02.997927Z"
    }
   },
   "outputs": [],
   "source": [
    "type(var)"
   ]
  },
  {
   "cell_type": "code",
   "execution_count": null,
   "metadata": {
    "ExecuteTime": {
     "end_time": "2020-09-09T15:14:03.020445Z",
     "start_time": "2020-09-09T15:14:03.005285Z"
    }
   },
   "outputs": [],
   "source": [
    "help(int)"
   ]
  },
  {
   "cell_type": "code",
   "execution_count": null,
   "metadata": {
    "ExecuteTime": {
     "end_time": "2020-09-09T15:14:03.025838Z",
     "start_time": "2020-09-09T15:14:03.022509Z"
    }
   },
   "outputs": [],
   "source": [
    "## Functions are objects too\n",
    "prove_it = max\n",
    "prove_it([0,11,13])"
   ]
  },
  {
   "cell_type": "code",
   "execution_count": null,
   "metadata": {
    "ExecuteTime": {
     "end_time": "2020-09-09T15:14:03.030964Z",
     "start_time": "2020-09-09T15:14:03.027935Z"
    }
   },
   "outputs": [],
   "source": [
    "type(prove_it)"
   ]
  },
  {
   "cell_type": "markdown",
   "metadata": {},
   "source": [
    "# OOP VOCABULARY\n"
   ]
  },
  {
   "cell_type": "markdown",
   "metadata": {
    "ExecuteTime": {
     "end_time": "2020-03-04T22:50:13.264632Z",
     "start_time": "2020-03-04T22:50:13.257093Z"
    }
   },
   "source": [
    "**VOCAB RELATED TO FUNCTIONS:**\n",
    "- **Function:**  \n",
    "\n",
    "    - Parameters: \n",
    "    - Argument: \n",
    "        - Positional Argument:\n",
    "        - Keyword/default Arguments:\n",
    "\n",
    "- \"Calling\" a function: \n",
    "\n",
    "<br><br>\n",
    "\n",
    "**VOCAB RELATED TO CLASSES:**\n",
    "- \"Object\": \n",
    "- **Class:** \n",
    "- Instance: \n",
    "- Attribute:\n",
    "- Method:\n",
    "- Private Attributes/Methods: \n",
    "- Getters/Setters:\n",
    "\n",
    "\n",
    "- Object: \n",
    "\n",
    "- \"dunders\" = double underscores __ "
   ]
  },
  {
   "cell_type": "markdown",
   "metadata": {},
   "source": [
    "# Defining and Initializing Classes\n"
   ]
  },
  {
   "cell_type": "markdown",
   "metadata": {},
   "source": [
    "- Use `class NewClassName():` like you use `def function_name():` for functions.\n",
    "    - the `()` are optional for classes. (used to inherit other classes, more on that later)"
   ]
  },
  {
   "cell_type": "markdown",
   "metadata": {},
   "source": [
    "#### Naming Classes\n",
    "    \n",
    "- Convention for naming classes = `UpperCamelCase`\n",
    "- Convention for naming function = `snake_case`"
   ]
  },
  {
   "cell_type": "code",
   "execution_count": null,
   "metadata": {
    "ExecuteTime": {
     "end_time": "2020-09-09T15:14:03.036264Z",
     "start_time": "2020-09-09T15:14:03.034010Z"
    }
   },
   "outputs": [],
   "source": [
    "## Bare minimum to define a class.\n",
    "class Car:\n",
    "    pass"
   ]
  },
  {
   "cell_type": "code",
   "execution_count": null,
   "metadata": {
    "ExecuteTime": {
     "end_time": "2020-09-09T15:14:03.040975Z",
     "start_time": "2020-09-09T15:14:03.038074Z"
    }
   },
   "outputs": [],
   "source": [
    "rav4 = Car\n",
    "rav4"
   ]
  },
  {
   "cell_type": "code",
   "execution_count": null,
   "metadata": {
    "ExecuteTime": {
     "end_time": "2020-09-09T15:14:03.048288Z",
     "start_time": "2020-09-09T15:14:03.045183Z"
    }
   },
   "outputs": [],
   "source": [
    "## Instances are made by calling a class\n",
    "rav4 = Car()\n",
    "rav4"
   ]
  },
  {
   "cell_type": "code",
   "execution_count": null,
   "metadata": {
    "ExecuteTime": {
     "end_time": "2020-09-09T15:14:03.055603Z",
     "start_time": "2020-09-09T15:14:03.052616Z"
    }
   },
   "outputs": [],
   "source": [
    "type(rav4)"
   ]
  },
  {
   "cell_type": "code",
   "execution_count": null,
   "metadata": {
    "ExecuteTime": {
     "end_time": "2020-09-09T15:14:03.062763Z",
     "start_time": "2020-09-09T15:14:03.059903Z"
    }
   },
   "outputs": [],
   "source": [
    "## Instances are NOT == the Class\n",
    "rav4==Car"
   ]
  },
  {
   "cell_type": "code",
   "execution_count": null,
   "metadata": {
    "ExecuteTime": {
     "end_time": "2020-09-09T15:14:03.070013Z",
     "start_time": "2020-09-09T15:14:03.067072Z"
    }
   },
   "outputs": [],
   "source": [
    "## But can check if an obj is an instance of Car\n",
    "isinstance(rav4,Car)"
   ]
  },
  {
   "cell_type": "markdown",
   "metadata": {},
   "source": [
    "## Attributes and Methods"
   ]
  },
  {
   "cell_type": "markdown",
   "metadata": {},
   "source": [
    "- Attribute:\n",
    "\n",
    "- Method:"
   ]
  },
  {
   "cell_type": "code",
   "execution_count": null,
   "metadata": {
    "ExecuteTime": {
     "end_time": "2020-09-09T15:14:03.078927Z",
     "start_time": "2020-09-09T15:14:03.075367Z"
    }
   },
   "outputs": [],
   "source": [
    "class Car:\n",
    "    \"\"\"Automotive object\"\"\"\n",
    "    ## Attributes\n",
    "    wheels = 4                     \n",
    "    moving = False\n",
    "    doors = 2\n",
    "    \n",
    "    ## Methods\n",
    "    def go():                  \n",
    "        print('It\\'s going!')\n",
    "        self.moving = True\n",
    "    \n",
    "    def stop():\n",
    "        print('Stopped.')\n",
    "        self.moving = False"
   ]
  },
  {
   "cell_type": "code",
   "execution_count": null,
   "metadata": {
    "ExecuteTime": {
     "end_time": "2020-09-09T15:14:03.178547Z",
     "start_time": "2020-09-09T15:14:03.083794Z"
    }
   },
   "outputs": [],
   "source": [
    "## Make an instance and run .go(), does it work??\n",
    "rav4 = Car()\n",
    "rav4.go()"
   ]
  },
  {
   "cell_type": "markdown",
   "metadata": {},
   "source": [
    "### Know thy `self`"
   ]
  },
  {
   "cell_type": "markdown",
   "metadata": {},
   "source": [
    "- Because Methods are designed to operate on the `object_its_attached_to`, Python automatically gives every method a copy of instance its attached to, which we call `self`\n",
    "- We have to pass `self` as the first parameter for every method we make.\n",
    "    - `def method(self):`\n",
    "- Otherwise it will think that the first thing we give it is actually itself. This will cause an *existential crisis** and corresponding error."
   ]
  },
  {
   "cell_type": "code",
   "execution_count": null,
   "metadata": {
    "ExecuteTime": {
     "end_time": "2020-09-09T15:14:03.181447Z",
     "start_time": "2020-09-09T15:14:03.092Z"
    }
   },
   "outputs": [],
   "source": [
    "class Car:\n",
    "    \"\"\"Automotive object\"\"\"\n",
    "    ## Attributes\n",
    "    wheels = 4                     \n",
    "    moving = False\n",
    "    doors = 2\n",
    "    \n",
    "    ## Methods\n",
    "    def go(self):                  \n",
    "        print('It\\'s going!')\n",
    "        self.moving = True\n",
    "    \n",
    "    def stop(self):\n",
    "        print('Stopped.')\n",
    "        self.moving = False"
   ]
  },
  {
   "cell_type": "code",
   "execution_count": null,
   "metadata": {
    "ExecuteTime": {
     "end_time": "2020-09-09T15:14:03.182642Z",
     "start_time": "2020-09-09T15:14:03.098Z"
    }
   },
   "outputs": [],
   "source": [
    "rav4 = Car()\n",
    "rav4.go()"
   ]
  },
  {
   "cell_type": "markdown",
   "metadata": {},
   "source": [
    "## Initialization \n"
   ]
  },
  {
   "cell_type": "markdown",
   "metadata": {},
   "source": [
    "- We create an instance by setting a `instance = ClassName()`\n",
    "-  This uses the template `ClassName` to create an instance of the class ( which we named `instance`)"
   ]
  },
  {
   "cell_type": "code",
   "execution_count": null,
   "metadata": {
    "ExecuteTime": {
     "end_time": "2020-09-09T15:14:03.183662Z",
     "start_time": "2020-09-09T15:14:03.110Z"
    }
   },
   "outputs": [],
   "source": [
    "lamborghini = Car()\n",
    "lamborghini"
   ]
  },
  {
   "cell_type": "code",
   "execution_count": null,
   "metadata": {
    "ExecuteTime": {
     "end_time": "2020-09-09T15:14:03.184902Z",
     "start_time": "2020-09-09T15:14:03.116Z"
    }
   },
   "outputs": [],
   "source": [
    "lamborghini.wheels"
   ]
  },
  {
   "cell_type": "code",
   "execution_count": null,
   "metadata": {
    "ExecuteTime": {
     "end_time": "2020-09-09T15:14:03.186040Z",
     "start_time": "2020-09-09T15:14:03.124Z"
    }
   },
   "outputs": [],
   "source": [
    "lamborghini.doors"
   ]
  },
  {
   "cell_type": "code",
   "execution_count": null,
   "metadata": {
    "ExecuteTime": {
     "end_time": "2020-09-09T15:14:03.187107Z",
     "start_time": "2020-09-09T15:14:03.130Z"
    }
   },
   "outputs": [],
   "source": [
    "lamborghini.moving"
   ]
  },
  {
   "cell_type": "code",
   "execution_count": null,
   "metadata": {
    "ExecuteTime": {
     "end_time": "2020-09-09T15:14:03.188221Z",
     "start_time": "2020-09-09T15:14:03.136Z"
    }
   },
   "outputs": [],
   "source": [
    "lamborghini.go()"
   ]
  },
  {
   "cell_type": "code",
   "execution_count": null,
   "metadata": {
    "ExecuteTime": {
     "end_time": "2020-09-09T15:14:03.189373Z",
     "start_time": "2020-09-09T15:14:03.144Z"
    }
   },
   "outputs": [],
   "source": [
    "lamborghini.moving"
   ]
  },
  {
   "cell_type": "code",
   "execution_count": null,
   "metadata": {
    "ExecuteTime": {
     "end_time": "2020-09-09T15:14:03.190462Z",
     "start_time": "2020-09-09T15:14:03.150Z"
    }
   },
   "outputs": [],
   "source": [
    "lamborghini.stop()"
   ]
  },
  {
   "cell_type": "code",
   "execution_count": null,
   "metadata": {
    "ExecuteTime": {
     "end_time": "2020-09-09T15:14:03.191650Z",
     "start_time": "2020-09-09T15:14:03.158Z"
    }
   },
   "outputs": [],
   "source": [
    "lamborghini.moving"
   ]
  },
  {
   "cell_type": "markdown",
   "metadata": {},
   "source": [
    "### `__init__`"
   ]
  },
  {
   "cell_type": "markdown",
   "metadata": {},
   "source": [
    "> - What if we don't want to set the attributes in stone for every Car but want to let the programmer determine that whenever a new Car is made?"
   ]
  },
  {
   "cell_type": "markdown",
   "metadata": {},
   "source": [
    "> - When an instance is `initialized`, we `call` it using `()`, which runs a default `__init__()` method."
   ]
  },
  {
   "cell_type": "code",
   "execution_count": null,
   "metadata": {
    "ExecuteTime": {
     "end_time": "2020-09-09T15:14:03.192793Z",
     "start_time": "2020-09-09T15:14:03.174Z"
    }
   },
   "outputs": [],
   "source": [
    "class Car():\n",
    "    \"\"\"Automotive object\"\"\"\n",
    "    ## Attributes\n",
    "    moving = False\n",
    "\n",
    "    ## Methods\n",
    "    def __init__(self,wheels,doors):\n",
    "        self.wheels = wheels\n",
    "        self.doors = doors\n",
    "    \n",
    "    \n",
    "    def go(self):                   # These are methods we can call on *any* car.\n",
    "        print('It\\'s going!')\n",
    "        self.moving = True\n",
    "    \n",
    "    def stop(self):\n",
    "        print('Stopped.')\n",
    "        self.moving = False"
   ]
  },
  {
   "cell_type": "code",
   "execution_count": null,
   "metadata": {
    "ExecuteTime": {
     "end_time": "2020-09-09T15:14:03.297302Z",
     "start_time": "2020-09-09T15:14:03.295157Z"
    }
   },
   "outputs": [],
   "source": [
    "## We should get an erorr about missing positional arguments\n",
    "lamborghini = Car()"
   ]
  },
  {
   "cell_type": "code",
   "execution_count": null,
   "metadata": {
    "ExecuteTime": {
     "end_time": "2020-09-09T15:14:03.305401Z",
     "start_time": "2020-09-09T15:14:03.299184Z"
    }
   },
   "outputs": [],
   "source": [
    "## We must provide any arguments for __init__ when we create an instance\n",
    "lamborghini = Car(wheels=4,doors=2)\n",
    "print(lamborghini.wheels)\n",
    "lamborghini.doors"
   ]
  },
  {
   "cell_type": "code",
   "execution_count": null,
   "metadata": {
    "ExecuteTime": {
     "end_time": "2020-09-09T15:14:03.307028Z",
     "start_time": "2020-09-09T15:14:03.194Z"
    }
   },
   "outputs": [],
   "source": [
    "rav4 = Car(wheels=4,doors=2)\n",
    "print(rav4.wheels)\n",
    "rav4.doors"
   ]
  },
  {
   "cell_type": "markdown",
   "metadata": {},
   "source": [
    "## Inheritance"
   ]
  },
  {
   "cell_type": "markdown",
   "metadata": {},
   "source": [
    "- Define a Class based on another class by passing the class to inherit from as a parameter:"
   ]
  },
  {
   "cell_type": "code",
   "execution_count": null,
   "metadata": {
    "ExecuteTime": {
     "end_time": "2020-09-09T15:14:03.308098Z",
     "start_time": "2020-09-09T15:14:03.204Z"
    }
   },
   "outputs": [],
   "source": [
    "class Truck(Car):\n",
    "    pass"
   ]
  },
  {
   "cell_type": "code",
   "execution_count": null,
   "metadata": {
    "ExecuteTime": {
     "end_time": "2020-09-09T15:14:03.309309Z",
     "start_time": "2020-09-09T15:14:03.212Z"
    }
   },
   "outputs": [],
   "source": [
    "f150 = Truck(4,2)\n",
    "f150"
   ]
  },
  {
   "cell_type": "markdown",
   "metadata": {},
   "source": [
    "### What did you inherit?    "
   ]
  },
  {
   "cell_type": "markdown",
   "metadata": {},
   "source": [
    "- To view all of the attributes and methods of a class, **use the help() command**\n",
    "    -  Note: There is often ***information in `help()` that you may not be able to find ANYWHERE else*** and does not show up in documentation."
   ]
  },
  {
   "cell_type": "markdown",
   "metadata": {},
   "source": [
    "#### Peeking Under the Hood: `help` and `dir`"
   ]
  },
  {
   "cell_type": "code",
   "execution_count": null,
   "metadata": {
    "ExecuteTime": {
     "end_time": "2020-09-09T15:14:03.310590Z",
     "start_time": "2020-09-09T15:14:03.222Z"
    }
   },
   "outputs": [],
   "source": [
    "help(f150)"
   ]
  },
  {
   "cell_type": "code",
   "execution_count": null,
   "metadata": {
    "ExecuteTime": {
     "end_time": "2020-09-09T15:14:03.311760Z",
     "start_time": "2020-09-09T15:14:03.231Z"
    }
   },
   "outputs": [],
   "source": [
    "dir(f150)"
   ]
  },
  {
   "cell_type": "markdown",
   "metadata": {},
   "source": [
    "# Special Class Methods"
   ]
  },
  {
   "cell_type": "markdown",
   "metadata": {},
   "source": [
    "#### Magic Methods\n",
    "\n",
    "It is common for a class to have magic methods. These are identifiable by the \"dunder\" (i.e. **d**ouble **under**score) prefixes and suffixes, such as `__init__()`. These methods will get called **automatically**, as we'll see below.\n",
    "\n",
    "For more on these \"magic methods\", see [here](https://www.geeksforgeeks.org/dunder-magic-methods-python/)."
   ]
  },
  {
   "cell_type": "markdown",
   "metadata": {},
   "source": [
    "## Using special methods to control the output of a class"
   ]
  },
  {
   "cell_type": "code",
   "execution_count": null,
   "metadata": {},
   "outputs": [],
   "source": []
  },
  {
   "cell_type": "markdown",
   "metadata": {},
   "source": [
    "### `__repr__()` controls display when final element of a cell (or when display is used)"
   ]
  },
  {
   "cell_type": "code",
   "execution_count": null,
   "metadata": {
    "ExecuteTime": {
     "end_time": "2020-09-09T15:14:03.312922Z",
     "start_time": "2020-09-09T15:14:03.248Z"
    }
   },
   "outputs": [],
   "source": [
    "class Car():\n",
    "    \"\"\"Automotive object\"\"\"\n",
    "    ## Attributes\n",
    "    moving = False\n",
    "\n",
    "    ## Methods\n",
    "    def __init__(self,wheels=4,doors=4):\n",
    "        self.wheels = wheels\n",
    "        self.doors = doors\n",
    "    \n",
    "    \n",
    "    def go(self):                   # These are methods we can call on *any* car.\n",
    "        print('It\\'s going!')\n",
    "        self.moving = True\n",
    "    \n",
    "    def stop(self):\n",
    "        print('Stopped.')\n",
    "        self.moving = False\n",
    "        \n",
    "    def __repr__(self):\n",
    "        info = [f\"- Wheels: {self.wheels}\"]\n",
    "        info.append(f\"- Doors: {self.doors}\")\n",
    "        info.append(f\"- Moving?: {self.moving}\")\n",
    "        return '\\n'.join(info)"
   ]
  },
  {
   "cell_type": "code",
   "execution_count": null,
   "metadata": {
    "ExecuteTime": {
     "end_time": "2020-09-09T15:14:03.314015Z",
     "start_time": "2020-09-09T15:14:03.254Z"
    }
   },
   "outputs": [],
   "source": [
    "rav4 = Car()\n",
    "rav4"
   ]
  },
  {
   "cell_type": "code",
   "execution_count": null,
   "metadata": {
    "ExecuteTime": {
     "end_time": "2020-09-09T15:14:03.315065Z",
     "start_time": "2020-09-09T15:14:03.264Z"
    }
   },
   "outputs": [],
   "source": [
    "rav4.go()"
   ]
  },
  {
   "cell_type": "code",
   "execution_count": null,
   "metadata": {
    "ExecuteTime": {
     "end_time": "2020-09-09T15:14:03.316168Z",
     "start_time": "2020-09-09T15:14:03.271Z"
    }
   },
   "outputs": [],
   "source": [
    "rav4"
   ]
  },
  {
   "cell_type": "markdown",
   "metadata": {},
   "source": [
    "### `__str__()` controls whats displayed when an object is printed"
   ]
  },
  {
   "cell_type": "code",
   "execution_count": null,
   "metadata": {
    "ExecuteTime": {
     "end_time": "2020-09-09T15:14:03.317267Z",
     "start_time": "2020-09-09T15:14:03.280Z"
    }
   },
   "outputs": [],
   "source": [
    "class Car():\n",
    "    \"\"\"Automotive object\"\"\"\n",
    "    ## Attributes\n",
    "    moving = False\n",
    "\n",
    "    ## Methods\n",
    "    def __init__(self,wheels=4,doors=4):\n",
    "        self.wheels = wheels\n",
    "        self.doors = doors\n",
    "    \n",
    "    \n",
    "    def go(self):                   # These are methods we can call on *any* car.\n",
    "        print('It\\'s going!')\n",
    "        self.moving = True\n",
    "    \n",
    "    def stop(self):\n",
    "        print('Stopped.')\n",
    "        self.moving = False\n",
    "        \n",
    "    def __repr__(self):\n",
    "        info = [f\"- Wheels: {self.wheels}\"]\n",
    "        info.append(f\"- Doors: {self.doors}\")\n",
    "        info.append(f\"- Moving?: {self.moving}\")\n",
    "        return '\\n'.join(info)\n",
    "    \n",
    "    def __str__(self):\n",
    "        return f\"\"\"- This car has {self.wheels} wheels, {self.doors} doors, and moving = {self.moving}\"\"\""
   ]
  },
  {
   "cell_type": "code",
   "execution_count": null,
   "metadata": {
    "ExecuteTime": {
     "end_time": "2020-09-09T15:14:03.318238Z",
     "start_time": "2020-09-09T15:14:03.288Z"
    }
   },
   "outputs": [],
   "source": [
    "rav4=Car()\n",
    "rav4"
   ]
  },
  {
   "cell_type": "code",
   "execution_count": null,
   "metadata": {
    "ExecuteTime": {
     "end_time": "2020-09-09T15:14:03.319382Z",
     "start_time": "2020-09-09T15:14:03.294Z"
    }
   },
   "outputs": [],
   "source": [
    "print(rav4)"
   ]
  },
  {
   "cell_type": "markdown",
   "metadata": {},
   "source": [
    "### `__repr__()` vs. `__str__()`\n",
    "\n",
    "`__repr__()` and `__str__()` are both designed to return string-representations of the object. But `__repr__()` focuses on minimizing ambiguity while `__str__()` focuses on readability. However, if your class has no `__str__()` method, it will fall back on `__repr__()` (if it exists!). For more on this distinction, see [this post](https://dbader.org/blog/python-repr-vs-str)."
   ]
  },
  {
   "cell_type": "markdown",
   "metadata": {},
   "source": [
    "# Scikit Learn Objects"
   ]
  },
  {
   "cell_type": "code",
   "execution_count": 2,
   "metadata": {
    "ExecuteTime": {
     "end_time": "2020-09-09T15:39:44.038234Z",
     "start_time": "2020-09-09T15:39:44.036118Z"
    },
    "scrolled": false
   },
   "outputs": [],
   "source": [
    "# ## Getting the dataset ready\n",
    "# from fsds.imports import *\n",
    "# df= fs.datasets.load_mod1_proj(read_csv_kwds={'na_values':'?'})#load_iowa_prisoners()\n",
    "\n",
    "# df.fillna(0,inplace=True)\n",
    "\n",
    "# drop_cols= ['id','date'] #[col for col in df.columns if 'New' in col]\n",
    "# # drop_cols.append('Days to Recidivism')\n",
    "# df.drop(columns=drop_cols,inplace=True)\n",
    "# df.head()\n"
   ]
  },
  {
   "cell_type": "code",
   "execution_count": 39,
   "metadata": {
    "ExecuteTime": {
     "end_time": "2020-09-09T15:44:37.938453Z",
     "start_time": "2020-09-09T15:44:37.249463Z"
    }
   },
   "outputs": [
    {
     "data": {
      "text/html": [
       "<div>\n",
       "<style scoped>\n",
       "    .dataframe tbody tr th:only-of-type {\n",
       "        vertical-align: middle;\n",
       "    }\n",
       "\n",
       "    .dataframe tbody tr th {\n",
       "        vertical-align: top;\n",
       "    }\n",
       "\n",
       "    .dataframe thead th {\n",
       "        text-align: right;\n",
       "    }\n",
       "</style>\n",
       "<table border=\"1\" class=\"dataframe\">\n",
       "  <thead>\n",
       "    <tr style=\"text-align: right;\">\n",
       "      <th></th>\n",
       "      <th>Fiscal Year Released</th>\n",
       "      <th>Recidivism Reporting Year</th>\n",
       "      <th>Race - Ethnicity</th>\n",
       "      <th>Age At Release</th>\n",
       "      <th>Convicting Offense Classification</th>\n",
       "      <th>Convicting Offense Type</th>\n",
       "      <th>Convicting Offense Subtype</th>\n",
       "      <th>Release Type</th>\n",
       "      <th>Main Supervising District</th>\n",
       "      <th>Recidivism - Return to Prison</th>\n",
       "      <th>Part of Target Population</th>\n",
       "      <th>Recidivism Type</th>\n",
       "      <th>Sex</th>\n",
       "    </tr>\n",
       "  </thead>\n",
       "  <tbody>\n",
       "    <tr>\n",
       "      <th>0</th>\n",
       "      <td>2010</td>\n",
       "      <td>2013</td>\n",
       "      <td>Black - Non-Hispanic</td>\n",
       "      <td>25-34</td>\n",
       "      <td>C Felony</td>\n",
       "      <td>Violent</td>\n",
       "      <td>Robbery</td>\n",
       "      <td>Parole</td>\n",
       "      <td>7JD</td>\n",
       "      <td>Yes</td>\n",
       "      <td>Yes</td>\n",
       "      <td>New</td>\n",
       "      <td>Male</td>\n",
       "    </tr>\n",
       "    <tr>\n",
       "      <th>1</th>\n",
       "      <td>2010</td>\n",
       "      <td>2013</td>\n",
       "      <td>White - Non-Hispanic</td>\n",
       "      <td>25-34</td>\n",
       "      <td>D Felony</td>\n",
       "      <td>Property</td>\n",
       "      <td>Theft</td>\n",
       "      <td>Discharged – End of Sentence</td>\n",
       "      <td>MISSING</td>\n",
       "      <td>Yes</td>\n",
       "      <td>No</td>\n",
       "      <td>Tech</td>\n",
       "      <td>Male</td>\n",
       "    </tr>\n",
       "    <tr>\n",
       "      <th>2</th>\n",
       "      <td>2010</td>\n",
       "      <td>2013</td>\n",
       "      <td>White - Non-Hispanic</td>\n",
       "      <td>35-44</td>\n",
       "      <td>B Felony</td>\n",
       "      <td>Drug</td>\n",
       "      <td>Trafficking</td>\n",
       "      <td>Parole</td>\n",
       "      <td>5JD</td>\n",
       "      <td>Yes</td>\n",
       "      <td>Yes</td>\n",
       "      <td>Tech</td>\n",
       "      <td>Male</td>\n",
       "    </tr>\n",
       "    <tr>\n",
       "      <th>3</th>\n",
       "      <td>2010</td>\n",
       "      <td>2013</td>\n",
       "      <td>White - Non-Hispanic</td>\n",
       "      <td>25-34</td>\n",
       "      <td>B Felony</td>\n",
       "      <td>Other</td>\n",
       "      <td>Other Criminal</td>\n",
       "      <td>Parole</td>\n",
       "      <td>6JD</td>\n",
       "      <td>No</td>\n",
       "      <td>Yes</td>\n",
       "      <td>No Recidivism</td>\n",
       "      <td>Male</td>\n",
       "    </tr>\n",
       "    <tr>\n",
       "      <th>4</th>\n",
       "      <td>2010</td>\n",
       "      <td>2013</td>\n",
       "      <td>Black - Non-Hispanic</td>\n",
       "      <td>35-44</td>\n",
       "      <td>D Felony</td>\n",
       "      <td>Violent</td>\n",
       "      <td>Assault</td>\n",
       "      <td>Discharged – End of Sentence</td>\n",
       "      <td>MISSING</td>\n",
       "      <td>Yes</td>\n",
       "      <td>No</td>\n",
       "      <td>Tech</td>\n",
       "      <td>Male</td>\n",
       "    </tr>\n",
       "  </tbody>\n",
       "</table>\n",
       "</div>"
      ],
      "text/plain": [
       "   Fiscal Year Released  Recidivism Reporting Year      Race - Ethnicity  \\\n",
       "0                  2010                       2013  Black - Non-Hispanic   \n",
       "1                  2010                       2013  White - Non-Hispanic   \n",
       "2                  2010                       2013  White - Non-Hispanic   \n",
       "3                  2010                       2013  White - Non-Hispanic   \n",
       "4                  2010                       2013  Black - Non-Hispanic   \n",
       "\n",
       "  Age At Release  Convicting Offense Classification Convicting Offense Type  \\\n",
       "0           25-34                          C Felony                 Violent   \n",
       "1           25-34                          D Felony                Property   \n",
       "2           35-44                          B Felony                    Drug   \n",
       "3           25-34                          B Felony                   Other   \n",
       "4           35-44                          D Felony                 Violent   \n",
       "\n",
       "  Convicting Offense Subtype                  Release Type  \\\n",
       "0                    Robbery                        Parole   \n",
       "1                      Theft  Discharged – End of Sentence   \n",
       "2                Trafficking                        Parole   \n",
       "3             Other Criminal                        Parole   \n",
       "4                    Assault  Discharged – End of Sentence   \n",
       "\n",
       "  Main Supervising District Recidivism - Return to Prison  \\\n",
       "0                       7JD                           Yes   \n",
       "1                   MISSING                           Yes   \n",
       "2                       5JD                           Yes   \n",
       "3                       6JD                            No   \n",
       "4                   MISSING                           Yes   \n",
       "\n",
       "  Part of Target Population Recidivism Type   Sex  \n",
       "0                       Yes             New  Male  \n",
       "1                        No            Tech  Male  \n",
       "2                       Yes            Tech  Male  \n",
       "3                       Yes   No Recidivism  Male  \n",
       "4                        No            Tech  Male  "
      ]
     },
     "execution_count": 39,
     "metadata": {},
     "output_type": "execute_result"
    }
   ],
   "source": [
    "## Getting the dataset ready\n",
    "from fsds.imports import *\n",
    "df= fs.datasets.load_iowa_prisoners()\n",
    "\n",
    "df.fillna('MISSING',inplace=True)\n",
    "\n",
    "drop_cols= [col for col in df.columns if 'New' in col]\n",
    "drop_cols.append('Days to Recidivism')\n",
    "df.drop(columns=drop_cols,inplace=True)\n",
    "df.head()\n"
   ]
  },
  {
   "cell_type": "code",
   "execution_count": 40,
   "metadata": {
    "ExecuteTime": {
     "end_time": "2020-09-09T15:44:37.972966Z",
     "start_time": "2020-09-09T15:44:37.959376Z"
    }
   },
   "outputs": [
    {
     "data": {
      "text/html": [
       "<div>\n",
       "<style scoped>\n",
       "    .dataframe tbody tr th:only-of-type {\n",
       "        vertical-align: middle;\n",
       "    }\n",
       "\n",
       "    .dataframe tbody tr th {\n",
       "        vertical-align: top;\n",
       "    }\n",
       "\n",
       "    .dataframe thead th {\n",
       "        text-align: right;\n",
       "    }\n",
       "</style>\n",
       "<table border=\"1\" class=\"dataframe\">\n",
       "  <thead>\n",
       "    <tr style=\"text-align: right;\">\n",
       "      <th></th>\n",
       "      <th>Fiscal Year Released</th>\n",
       "      <th>Recidivism Reporting Year</th>\n",
       "    </tr>\n",
       "  </thead>\n",
       "  <tbody>\n",
       "    <tr>\n",
       "      <th>count</th>\n",
       "      <td>26020.000000</td>\n",
       "      <td>26020.000000</td>\n",
       "    </tr>\n",
       "    <tr>\n",
       "      <th>mean</th>\n",
       "      <td>2012.600769</td>\n",
       "      <td>2015.600769</td>\n",
       "    </tr>\n",
       "    <tr>\n",
       "      <th>std</th>\n",
       "      <td>1.661028</td>\n",
       "      <td>1.661028</td>\n",
       "    </tr>\n",
       "    <tr>\n",
       "      <th>min</th>\n",
       "      <td>2010.000000</td>\n",
       "      <td>2013.000000</td>\n",
       "    </tr>\n",
       "    <tr>\n",
       "      <th>25%</th>\n",
       "      <td>2011.000000</td>\n",
       "      <td>2014.000000</td>\n",
       "    </tr>\n",
       "    <tr>\n",
       "      <th>50%</th>\n",
       "      <td>2013.000000</td>\n",
       "      <td>2016.000000</td>\n",
       "    </tr>\n",
       "    <tr>\n",
       "      <th>75%</th>\n",
       "      <td>2014.000000</td>\n",
       "      <td>2017.000000</td>\n",
       "    </tr>\n",
       "    <tr>\n",
       "      <th>max</th>\n",
       "      <td>2015.000000</td>\n",
       "      <td>2018.000000</td>\n",
       "    </tr>\n",
       "  </tbody>\n",
       "</table>\n",
       "</div>"
      ],
      "text/plain": [
       "       Fiscal Year Released  Recidivism Reporting Year\n",
       "count          26020.000000               26020.000000\n",
       "mean            2012.600769                2015.600769\n",
       "std                1.661028                   1.661028\n",
       "min             2010.000000                2013.000000\n",
       "25%             2011.000000                2014.000000\n",
       "50%             2013.000000                2016.000000\n",
       "75%             2014.000000                2017.000000\n",
       "max             2015.000000                2018.000000"
      ]
     },
     "execution_count": 40,
     "metadata": {},
     "output_type": "execute_result"
    }
   ],
   "source": [
    "df.describe()"
   ]
  },
  {
   "cell_type": "code",
   "execution_count": null,
   "metadata": {
    "ExecuteTime": {
     "end_time": "2020-09-09T15:43:33.228996Z",
     "start_time": "2020-09-09T15:43:33.224094Z"
    }
   },
   "outputs": [],
   "source": []
  },
  {
   "cell_type": "code",
   "execution_count": 41,
   "metadata": {
    "ExecuteTime": {
     "end_time": "2020-09-09T15:44:38.707758Z",
     "start_time": "2020-09-09T15:44:38.705941Z"
    }
   },
   "outputs": [],
   "source": [
    "# change_dtypes = {'zipcode':'object'}\n",
    "# for col, dtype in change_dtypes.items():\n",
    "#     df[col] = df[col].astype(dtype)\n",
    "# df.info()"
   ]
  },
  {
   "cell_type": "code",
   "execution_count": 42,
   "metadata": {
    "ExecuteTime": {
     "end_time": "2020-09-09T15:44:39.064015Z",
     "start_time": "2020-09-09T15:44:39.061602Z"
    }
   },
   "outputs": [],
   "source": [
    "## Sklearn Classes\n",
    "from sklearn.preprocessing import LabelEncoder,OneHotEncoder, StandardScaler\n",
    "\n",
    "scaler = StandardScaler()"
   ]
  },
  {
   "cell_type": "code",
   "execution_count": 43,
   "metadata": {
    "ExecuteTime": {
     "end_time": "2020-09-09T15:44:39.487629Z",
     "start_time": "2020-09-09T15:44:39.472944Z"
    }
   },
   "outputs": [
    {
     "data": {
      "text/html": [
       "<div>\n",
       "<style scoped>\n",
       "    .dataframe tbody tr th:only-of-type {\n",
       "        vertical-align: middle;\n",
       "    }\n",
       "\n",
       "    .dataframe tbody tr th {\n",
       "        vertical-align: top;\n",
       "    }\n",
       "\n",
       "    .dataframe thead th {\n",
       "        text-align: right;\n",
       "    }\n",
       "</style>\n",
       "<table border=\"1\" class=\"dataframe\">\n",
       "  <thead>\n",
       "    <tr style=\"text-align: right;\">\n",
       "      <th></th>\n",
       "      <th>scaled_year_released</th>\n",
       "      <th>Fiscal Year Released</th>\n",
       "    </tr>\n",
       "  </thead>\n",
       "  <tbody>\n",
       "    <tr>\n",
       "      <th>0</th>\n",
       "      <td>-1.565789</td>\n",
       "      <td>2010</td>\n",
       "    </tr>\n",
       "    <tr>\n",
       "      <th>1</th>\n",
       "      <td>-1.565789</td>\n",
       "      <td>2010</td>\n",
       "    </tr>\n",
       "    <tr>\n",
       "      <th>2</th>\n",
       "      <td>-1.565789</td>\n",
       "      <td>2010</td>\n",
       "    </tr>\n",
       "    <tr>\n",
       "      <th>3</th>\n",
       "      <td>-1.565789</td>\n",
       "      <td>2010</td>\n",
       "    </tr>\n",
       "    <tr>\n",
       "      <th>4</th>\n",
       "      <td>-1.565789</td>\n",
       "      <td>2010</td>\n",
       "    </tr>\n",
       "    <tr>\n",
       "      <th>...</th>\n",
       "      <td>...</td>\n",
       "      <td>...</td>\n",
       "    </tr>\n",
       "    <tr>\n",
       "      <th>26015</th>\n",
       "      <td>1.444453</td>\n",
       "      <td>2015</td>\n",
       "    </tr>\n",
       "    <tr>\n",
       "      <th>26016</th>\n",
       "      <td>1.444453</td>\n",
       "      <td>2015</td>\n",
       "    </tr>\n",
       "    <tr>\n",
       "      <th>26017</th>\n",
       "      <td>1.444453</td>\n",
       "      <td>2015</td>\n",
       "    </tr>\n",
       "    <tr>\n",
       "      <th>26018</th>\n",
       "      <td>1.444453</td>\n",
       "      <td>2015</td>\n",
       "    </tr>\n",
       "    <tr>\n",
       "      <th>26019</th>\n",
       "      <td>1.444453</td>\n",
       "      <td>2015</td>\n",
       "    </tr>\n",
       "  </tbody>\n",
       "</table>\n",
       "<p>26020 rows × 2 columns</p>\n",
       "</div>"
      ],
      "text/plain": [
       "       scaled_year_released  Fiscal Year Released\n",
       "0                 -1.565789                  2010\n",
       "1                 -1.565789                  2010\n",
       "2                 -1.565789                  2010\n",
       "3                 -1.565789                  2010\n",
       "4                 -1.565789                  2010\n",
       "...                     ...                   ...\n",
       "26015              1.444453                  2015\n",
       "26016              1.444453                  2015\n",
       "26017              1.444453                  2015\n",
       "26018              1.444453                  2015\n",
       "26019              1.444453                  2015\n",
       "\n",
       "[26020 rows x 2 columns]"
      ]
     },
     "execution_count": 43,
     "metadata": {},
     "output_type": "execute_result"
    }
   ],
   "source": [
    "df['scaled_year_released'] = scaler.fit_transform(df[['Fiscal Year Released']])\n",
    "df[['scaled_year_released','Fiscal Year Released']]"
   ]
  },
  {
   "cell_type": "code",
   "execution_count": 44,
   "metadata": {
    "ExecuteTime": {
     "end_time": "2020-09-09T15:44:39.838915Z",
     "start_time": "2020-09-09T15:44:39.834641Z"
    }
   },
   "outputs": [
    {
     "data": {
      "text/plain": [
       "array([2010., 2010., 2010., ..., 2015., 2015., 2015.])"
      ]
     },
     "execution_count": 44,
     "metadata": {},
     "output_type": "execute_result"
    }
   ],
   "source": [
    "scaler.inverse_transform(df['scaled_year_released'])"
   ]
  },
  {
   "cell_type": "code",
   "execution_count": null,
   "metadata": {},
   "outputs": [],
   "source": []
  },
  {
   "cell_type": "code",
   "execution_count": 45,
   "metadata": {
    "ExecuteTime": {
     "end_time": "2020-09-09T15:44:40.529619Z",
     "start_time": "2020-09-09T15:44:40.522758Z"
    }
   },
   "outputs": [
    {
     "data": {
      "text/plain": [
       "Index(['Race - Ethnicity', 'Age At Release ',\n",
       "       'Convicting Offense Classification', 'Convicting Offense Type',\n",
       "       'Convicting Offense Subtype', 'Release Type',\n",
       "       'Main Supervising District', 'Recidivism - Return to Prison',\n",
       "       'Part of Target Population', 'Recidivism Type', 'Sex'],\n",
       "      dtype='object')"
      ]
     },
     "execution_count": 45,
     "metadata": {},
     "output_type": "execute_result"
    }
   ],
   "source": [
    "cat_cols = df.select_dtypes('object').columns\n",
    "cat_cols"
   ]
  },
  {
   "cell_type": "code",
   "execution_count": 46,
   "metadata": {
    "ExecuteTime": {
     "end_time": "2020-09-09T15:44:40.924260Z",
     "start_time": "2020-09-09T15:44:40.920393Z"
    }
   },
   "outputs": [
    {
     "data": {
      "text/plain": [
       "OneHotEncoder(drop='if_binary', sparse=False)"
      ]
     },
     "execution_count": 46,
     "metadata": {},
     "output_type": "execute_result"
    }
   ],
   "source": [
    "## Intiialize an encoder\n",
    "encoder = OneHotEncoder(sparse=False,drop='if_binary')\n",
    "encoder"
   ]
  },
  {
   "cell_type": "code",
   "execution_count": 47,
   "metadata": {
    "ExecuteTime": {
     "end_time": "2020-09-09T15:44:41.519731Z",
     "start_time": "2020-09-09T15:44:41.420961Z"
    }
   },
   "outputs": [
    {
     "data": {
      "text/plain": [
       "array([[0., 0., 0., ..., 0., 0., 1.],\n",
       "       [0., 0., 0., ..., 0., 0., 1.],\n",
       "       [0., 0., 0., ..., 0., 0., 1.],\n",
       "       ...,\n",
       "       [0., 0., 0., ..., 1., 0., 0.],\n",
       "       [0., 0., 0., ..., 0., 0., 1.],\n",
       "       [0., 0., 0., ..., 0., 0., 1.]])"
      ]
     },
     "execution_count": 47,
     "metadata": {},
     "output_type": "execute_result"
    }
   ],
   "source": [
    "ohe_data = encoder.fit_transform(df[cat_cols])\n",
    "ohe_data"
   ]
  },
  {
   "cell_type": "code",
   "execution_count": 48,
   "metadata": {
    "ExecuteTime": {
     "end_time": "2020-09-09T15:44:42.181621Z",
     "start_time": "2020-09-09T15:44:42.148639Z"
    }
   },
   "outputs": [
    {
     "data": {
      "text/html": [
       "<div>\n",
       "<style scoped>\n",
       "    .dataframe tbody tr th:only-of-type {\n",
       "        vertical-align: middle;\n",
       "    }\n",
       "\n",
       "    .dataframe tbody tr th {\n",
       "        vertical-align: top;\n",
       "    }\n",
       "\n",
       "    .dataframe thead th {\n",
       "        text-align: right;\n",
       "    }\n",
       "</style>\n",
       "<table border=\"1\" class=\"dataframe\">\n",
       "  <thead>\n",
       "    <tr style=\"text-align: right;\">\n",
       "      <th></th>\n",
       "      <th>0</th>\n",
       "      <th>1</th>\n",
       "      <th>2</th>\n",
       "      <th>3</th>\n",
       "      <th>4</th>\n",
       "      <th>5</th>\n",
       "      <th>6</th>\n",
       "      <th>7</th>\n",
       "      <th>8</th>\n",
       "      <th>9</th>\n",
       "      <th>...</th>\n",
       "      <th>86</th>\n",
       "      <th>87</th>\n",
       "      <th>88</th>\n",
       "      <th>89</th>\n",
       "      <th>90</th>\n",
       "      <th>91</th>\n",
       "      <th>92</th>\n",
       "      <th>93</th>\n",
       "      <th>94</th>\n",
       "      <th>95</th>\n",
       "    </tr>\n",
       "  </thead>\n",
       "  <tbody>\n",
       "    <tr>\n",
       "      <th>0</th>\n",
       "      <td>0.0</td>\n",
       "      <td>0.0</td>\n",
       "      <td>0.0</td>\n",
       "      <td>0.0</td>\n",
       "      <td>0.0</td>\n",
       "      <td>0.0</td>\n",
       "      <td>1.0</td>\n",
       "      <td>0.0</td>\n",
       "      <td>0.0</td>\n",
       "      <td>0.0</td>\n",
       "      <td>...</td>\n",
       "      <td>0.0</td>\n",
       "      <td>0.0</td>\n",
       "      <td>1.0</td>\n",
       "      <td>1.0</td>\n",
       "      <td>1.0</td>\n",
       "      <td>0.0</td>\n",
       "      <td>0.0</td>\n",
       "      <td>0.0</td>\n",
       "      <td>0.0</td>\n",
       "      <td>1.0</td>\n",
       "    </tr>\n",
       "    <tr>\n",
       "      <th>1</th>\n",
       "      <td>0.0</td>\n",
       "      <td>0.0</td>\n",
       "      <td>0.0</td>\n",
       "      <td>0.0</td>\n",
       "      <td>0.0</td>\n",
       "      <td>0.0</td>\n",
       "      <td>0.0</td>\n",
       "      <td>0.0</td>\n",
       "      <td>0.0</td>\n",
       "      <td>0.0</td>\n",
       "      <td>...</td>\n",
       "      <td>0.0</td>\n",
       "      <td>1.0</td>\n",
       "      <td>1.0</td>\n",
       "      <td>0.0</td>\n",
       "      <td>0.0</td>\n",
       "      <td>0.0</td>\n",
       "      <td>1.0</td>\n",
       "      <td>0.0</td>\n",
       "      <td>0.0</td>\n",
       "      <td>1.0</td>\n",
       "    </tr>\n",
       "    <tr>\n",
       "      <th>2</th>\n",
       "      <td>0.0</td>\n",
       "      <td>0.0</td>\n",
       "      <td>0.0</td>\n",
       "      <td>0.0</td>\n",
       "      <td>0.0</td>\n",
       "      <td>0.0</td>\n",
       "      <td>0.0</td>\n",
       "      <td>0.0</td>\n",
       "      <td>0.0</td>\n",
       "      <td>0.0</td>\n",
       "      <td>...</td>\n",
       "      <td>0.0</td>\n",
       "      <td>0.0</td>\n",
       "      <td>1.0</td>\n",
       "      <td>1.0</td>\n",
       "      <td>0.0</td>\n",
       "      <td>0.0</td>\n",
       "      <td>1.0</td>\n",
       "      <td>0.0</td>\n",
       "      <td>0.0</td>\n",
       "      <td>1.0</td>\n",
       "    </tr>\n",
       "    <tr>\n",
       "      <th>3</th>\n",
       "      <td>0.0</td>\n",
       "      <td>0.0</td>\n",
       "      <td>0.0</td>\n",
       "      <td>0.0</td>\n",
       "      <td>0.0</td>\n",
       "      <td>0.0</td>\n",
       "      <td>0.0</td>\n",
       "      <td>0.0</td>\n",
       "      <td>0.0</td>\n",
       "      <td>0.0</td>\n",
       "      <td>...</td>\n",
       "      <td>0.0</td>\n",
       "      <td>0.0</td>\n",
       "      <td>0.0</td>\n",
       "      <td>1.0</td>\n",
       "      <td>0.0</td>\n",
       "      <td>1.0</td>\n",
       "      <td>0.0</td>\n",
       "      <td>0.0</td>\n",
       "      <td>0.0</td>\n",
       "      <td>1.0</td>\n",
       "    </tr>\n",
       "    <tr>\n",
       "      <th>4</th>\n",
       "      <td>0.0</td>\n",
       "      <td>0.0</td>\n",
       "      <td>0.0</td>\n",
       "      <td>0.0</td>\n",
       "      <td>0.0</td>\n",
       "      <td>0.0</td>\n",
       "      <td>1.0</td>\n",
       "      <td>0.0</td>\n",
       "      <td>0.0</td>\n",
       "      <td>0.0</td>\n",
       "      <td>...</td>\n",
       "      <td>0.0</td>\n",
       "      <td>1.0</td>\n",
       "      <td>1.0</td>\n",
       "      <td>0.0</td>\n",
       "      <td>0.0</td>\n",
       "      <td>0.0</td>\n",
       "      <td>1.0</td>\n",
       "      <td>0.0</td>\n",
       "      <td>0.0</td>\n",
       "      <td>1.0</td>\n",
       "    </tr>\n",
       "    <tr>\n",
       "      <th>...</th>\n",
       "      <td>...</td>\n",
       "      <td>...</td>\n",
       "      <td>...</td>\n",
       "      <td>...</td>\n",
       "      <td>...</td>\n",
       "      <td>...</td>\n",
       "      <td>...</td>\n",
       "      <td>...</td>\n",
       "      <td>...</td>\n",
       "      <td>...</td>\n",
       "      <td>...</td>\n",
       "      <td>...</td>\n",
       "      <td>...</td>\n",
       "      <td>...</td>\n",
       "      <td>...</td>\n",
       "      <td>...</td>\n",
       "      <td>...</td>\n",
       "      <td>...</td>\n",
       "      <td>...</td>\n",
       "      <td>...</td>\n",
       "      <td>...</td>\n",
       "    </tr>\n",
       "    <tr>\n",
       "      <th>26015</th>\n",
       "      <td>0.0</td>\n",
       "      <td>0.0</td>\n",
       "      <td>0.0</td>\n",
       "      <td>0.0</td>\n",
       "      <td>0.0</td>\n",
       "      <td>0.0</td>\n",
       "      <td>0.0</td>\n",
       "      <td>0.0</td>\n",
       "      <td>0.0</td>\n",
       "      <td>0.0</td>\n",
       "      <td>...</td>\n",
       "      <td>0.0</td>\n",
       "      <td>1.0</td>\n",
       "      <td>0.0</td>\n",
       "      <td>1.0</td>\n",
       "      <td>0.0</td>\n",
       "      <td>1.0</td>\n",
       "      <td>0.0</td>\n",
       "      <td>0.0</td>\n",
       "      <td>0.0</td>\n",
       "      <td>1.0</td>\n",
       "    </tr>\n",
       "    <tr>\n",
       "      <th>26016</th>\n",
       "      <td>0.0</td>\n",
       "      <td>0.0</td>\n",
       "      <td>0.0</td>\n",
       "      <td>0.0</td>\n",
       "      <td>0.0</td>\n",
       "      <td>0.0</td>\n",
       "      <td>0.0</td>\n",
       "      <td>0.0</td>\n",
       "      <td>0.0</td>\n",
       "      <td>0.0</td>\n",
       "      <td>...</td>\n",
       "      <td>0.0</td>\n",
       "      <td>0.0</td>\n",
       "      <td>0.0</td>\n",
       "      <td>0.0</td>\n",
       "      <td>0.0</td>\n",
       "      <td>1.0</td>\n",
       "      <td>0.0</td>\n",
       "      <td>0.0</td>\n",
       "      <td>0.0</td>\n",
       "      <td>1.0</td>\n",
       "    </tr>\n",
       "    <tr>\n",
       "      <th>26017</th>\n",
       "      <td>0.0</td>\n",
       "      <td>0.0</td>\n",
       "      <td>0.0</td>\n",
       "      <td>0.0</td>\n",
       "      <td>0.0</td>\n",
       "      <td>0.0</td>\n",
       "      <td>0.0</td>\n",
       "      <td>0.0</td>\n",
       "      <td>0.0</td>\n",
       "      <td>0.0</td>\n",
       "      <td>...</td>\n",
       "      <td>0.0</td>\n",
       "      <td>0.0</td>\n",
       "      <td>0.0</td>\n",
       "      <td>0.0</td>\n",
       "      <td>0.0</td>\n",
       "      <td>1.0</td>\n",
       "      <td>0.0</td>\n",
       "      <td>1.0</td>\n",
       "      <td>0.0</td>\n",
       "      <td>0.0</td>\n",
       "    </tr>\n",
       "    <tr>\n",
       "      <th>26018</th>\n",
       "      <td>0.0</td>\n",
       "      <td>0.0</td>\n",
       "      <td>0.0</td>\n",
       "      <td>0.0</td>\n",
       "      <td>0.0</td>\n",
       "      <td>0.0</td>\n",
       "      <td>0.0</td>\n",
       "      <td>0.0</td>\n",
       "      <td>0.0</td>\n",
       "      <td>0.0</td>\n",
       "      <td>...</td>\n",
       "      <td>0.0</td>\n",
       "      <td>0.0</td>\n",
       "      <td>0.0</td>\n",
       "      <td>1.0</td>\n",
       "      <td>0.0</td>\n",
       "      <td>1.0</td>\n",
       "      <td>0.0</td>\n",
       "      <td>0.0</td>\n",
       "      <td>0.0</td>\n",
       "      <td>1.0</td>\n",
       "    </tr>\n",
       "    <tr>\n",
       "      <th>26019</th>\n",
       "      <td>0.0</td>\n",
       "      <td>0.0</td>\n",
       "      <td>0.0</td>\n",
       "      <td>0.0</td>\n",
       "      <td>0.0</td>\n",
       "      <td>0.0</td>\n",
       "      <td>0.0</td>\n",
       "      <td>0.0</td>\n",
       "      <td>0.0</td>\n",
       "      <td>0.0</td>\n",
       "      <td>...</td>\n",
       "      <td>0.0</td>\n",
       "      <td>1.0</td>\n",
       "      <td>1.0</td>\n",
       "      <td>1.0</td>\n",
       "      <td>0.0</td>\n",
       "      <td>0.0</td>\n",
       "      <td>1.0</td>\n",
       "      <td>0.0</td>\n",
       "      <td>0.0</td>\n",
       "      <td>1.0</td>\n",
       "    </tr>\n",
       "  </tbody>\n",
       "</table>\n",
       "<p>26020 rows × 96 columns</p>\n",
       "</div>"
      ],
      "text/plain": [
       "        0    1    2    3    4    5    6    7    8    9   ...   86   87   88  \\\n",
       "0      0.0  0.0  0.0  0.0  0.0  0.0  1.0  0.0  0.0  0.0  ...  0.0  0.0  1.0   \n",
       "1      0.0  0.0  0.0  0.0  0.0  0.0  0.0  0.0  0.0  0.0  ...  0.0  1.0  1.0   \n",
       "2      0.0  0.0  0.0  0.0  0.0  0.0  0.0  0.0  0.0  0.0  ...  0.0  0.0  1.0   \n",
       "3      0.0  0.0  0.0  0.0  0.0  0.0  0.0  0.0  0.0  0.0  ...  0.0  0.0  0.0   \n",
       "4      0.0  0.0  0.0  0.0  0.0  0.0  1.0  0.0  0.0  0.0  ...  0.0  1.0  1.0   \n",
       "...    ...  ...  ...  ...  ...  ...  ...  ...  ...  ...  ...  ...  ...  ...   \n",
       "26015  0.0  0.0  0.0  0.0  0.0  0.0  0.0  0.0  0.0  0.0  ...  0.0  1.0  0.0   \n",
       "26016  0.0  0.0  0.0  0.0  0.0  0.0  0.0  0.0  0.0  0.0  ...  0.0  0.0  0.0   \n",
       "26017  0.0  0.0  0.0  0.0  0.0  0.0  0.0  0.0  0.0  0.0  ...  0.0  0.0  0.0   \n",
       "26018  0.0  0.0  0.0  0.0  0.0  0.0  0.0  0.0  0.0  0.0  ...  0.0  0.0  0.0   \n",
       "26019  0.0  0.0  0.0  0.0  0.0  0.0  0.0  0.0  0.0  0.0  ...  0.0  1.0  1.0   \n",
       "\n",
       "        89   90   91   92   93   94   95  \n",
       "0      1.0  1.0  0.0  0.0  0.0  0.0  1.0  \n",
       "1      0.0  0.0  0.0  1.0  0.0  0.0  1.0  \n",
       "2      1.0  0.0  0.0  1.0  0.0  0.0  1.0  \n",
       "3      1.0  0.0  1.0  0.0  0.0  0.0  1.0  \n",
       "4      0.0  0.0  0.0  1.0  0.0  0.0  1.0  \n",
       "...    ...  ...  ...  ...  ...  ...  ...  \n",
       "26015  1.0  0.0  1.0  0.0  0.0  0.0  1.0  \n",
       "26016  0.0  0.0  1.0  0.0  0.0  0.0  1.0  \n",
       "26017  0.0  0.0  1.0  0.0  1.0  0.0  0.0  \n",
       "26018  1.0  0.0  1.0  0.0  0.0  0.0  1.0  \n",
       "26019  1.0  0.0  0.0  1.0  0.0  0.0  1.0  \n",
       "\n",
       "[26020 rows x 96 columns]"
      ]
     },
     "execution_count": 48,
     "metadata": {},
     "output_type": "execute_result"
    }
   ],
   "source": [
    "pd.DataFrame(ohe_data)"
   ]
  },
  {
   "cell_type": "code",
   "execution_count": 49,
   "metadata": {
    "ExecuteTime": {
     "end_time": "2020-09-09T15:44:49.195231Z",
     "start_time": "2020-09-09T15:44:49.190854Z"
    }
   },
   "outputs": [
    {
     "data": {
      "text/plain": [
       "array(['Race - Ethnicity_American Indian or Alaska Native - Hispanic',\n",
       "       'Race - Ethnicity_American Indian or Alaska Native - Non-Hispanic',\n",
       "       'Race - Ethnicity_Asian or Pacific Islander - Hispanic',\n",
       "       'Race - Ethnicity_Asian or Pacific Islander - Non-Hispanic',\n",
       "       'Race - Ethnicity_Black -', 'Race - Ethnicity_Black - Hispanic',\n",
       "       'Race - Ethnicity_Black - Non-Hispanic',\n",
       "       'Race - Ethnicity_MISSING', 'Race - Ethnicity_N/A -',\n",
       "       'Race - Ethnicity_White -', 'Race - Ethnicity_White - Hispanic',\n",
       "       'Race - Ethnicity_White - Non-Hispanic', 'Age At Release _25-34',\n",
       "       'Age At Release _35-44', 'Age At Release _45-54',\n",
       "       'Age At Release _55 and Older', 'Age At Release _MISSING',\n",
       "       'Age At Release _Under 25',\n",
       "       'Convicting Offense Classification_A Felony',\n",
       "       'Convicting Offense Classification_Aggravated Misdemeanor',\n",
       "       'Convicting Offense Classification_B Felony',\n",
       "       'Convicting Offense Classification_C Felony',\n",
       "       'Convicting Offense Classification_D Felony',\n",
       "       'Convicting Offense Classification_Felony - Enhanced',\n",
       "       'Convicting Offense Classification_Felony - Enhancement to Original Penalty',\n",
       "       'Convicting Offense Classification_Felony - Mandatory Minimum',\n",
       "       'Convicting Offense Classification_Other Felony',\n",
       "       'Convicting Offense Classification_Other Felony (Old Code)',\n",
       "       'Convicting Offense Classification_Other Misdemeanor',\n",
       "       'Convicting Offense Classification_Serious Misdemeanor',\n",
       "       'Convicting Offense Classification_Sexual Predator Community Supervision',\n",
       "       'Convicting Offense Classification_Simple Misdemeanor',\n",
       "       'Convicting Offense Classification_Special Sentence 2005',\n",
       "       'Convicting Offense Type_Drug', 'Convicting Offense Type_Other',\n",
       "       'Convicting Offense Type_Property',\n",
       "       'Convicting Offense Type_Public Order',\n",
       "       'Convicting Offense Type_Violent',\n",
       "       'Convicting Offense Subtype_Alcohol',\n",
       "       'Convicting Offense Subtype_Animals',\n",
       "       'Convicting Offense Subtype_Arson',\n",
       "       'Convicting Offense Subtype_Assault',\n",
       "       'Convicting Offense Subtype_Burglary',\n",
       "       'Convicting Offense Subtype_Drug Possession',\n",
       "       'Convicting Offense Subtype_Flight/Escape',\n",
       "       'Convicting Offense Subtype_Forgery/Fraud',\n",
       "       'Convicting Offense Subtype_Kidnap',\n",
       "       'Convicting Offense Subtype_Murder/Manslaughter',\n",
       "       'Convicting Offense Subtype_OWI',\n",
       "       'Convicting Offense Subtype_Other Criminal',\n",
       "       'Convicting Offense Subtype_Other Drug',\n",
       "       'Convicting Offense Subtype_Other Public Order',\n",
       "       'Convicting Offense Subtype_Other Violent',\n",
       "       'Convicting Offense Subtype_Prostitution/Pimping',\n",
       "       'Convicting Offense Subtype_Robbery',\n",
       "       'Convicting Offense Subtype_Sex',\n",
       "       'Convicting Offense Subtype_Sex Offender Registry/Residency',\n",
       "       'Convicting Offense Subtype_Special Sentence Revocation',\n",
       "       'Convicting Offense Subtype_Stolen Property',\n",
       "       'Convicting Offense Subtype_Theft',\n",
       "       'Convicting Offense Subtype_Traffic',\n",
       "       'Convicting Offense Subtype_Trafficking',\n",
       "       'Convicting Offense Subtype_Vandalism',\n",
       "       'Convicting Offense Subtype_Weapons',\n",
       "       'Release Type_Discharged - Expiration of Sentence',\n",
       "       'Release Type_Discharged – End of Sentence',\n",
       "       'Release Type_Interstate Compact Parole', 'Release Type_MISSING',\n",
       "       'Release Type_Parole', 'Release Type_Parole Granted',\n",
       "       'Release Type_Paroled to Detainer - INS',\n",
       "       'Release Type_Paroled to Detainer - Iowa',\n",
       "       'Release Type_Paroled to Detainer - Out of State',\n",
       "       'Release Type_Paroled to Detainer - U.S. Marshall',\n",
       "       'Release Type_Paroled w/Immediate Discharge',\n",
       "       'Release Type_Released to Special Sentence',\n",
       "       'Release Type_Special Sentence', 'Main Supervising District_1JD',\n",
       "       'Main Supervising District_2JD', 'Main Supervising District_3JD',\n",
       "       'Main Supervising District_4JD', 'Main Supervising District_5JD',\n",
       "       'Main Supervising District_6JD', 'Main Supervising District_7JD',\n",
       "       'Main Supervising District_8JD', 'Main Supervising District_ISC',\n",
       "       'Main Supervising District_Interstate Compact',\n",
       "       'Main Supervising District_MISSING',\n",
       "       'Recidivism - Return to Prison_Yes',\n",
       "       'Part of Target Population_Yes', 'Recidivism Type_New',\n",
       "       'Recidivism Type_No Recidivism', 'Recidivism Type_Tech',\n",
       "       'Sex_Female', 'Sex_MISSING', 'Sex_Male'], dtype=object)"
      ]
     },
     "execution_count": 49,
     "metadata": {},
     "output_type": "execute_result"
    }
   ],
   "source": [
    "encoder.get_feature_names(cat_cols)"
   ]
  },
  {
   "cell_type": "code",
   "execution_count": 50,
   "metadata": {
    "ExecuteTime": {
     "end_time": "2020-09-09T15:44:49.784266Z",
     "start_time": "2020-09-09T15:44:49.748691Z"
    }
   },
   "outputs": [
    {
     "data": {
      "text/html": [
       "<div>\n",
       "<style scoped>\n",
       "    .dataframe tbody tr th:only-of-type {\n",
       "        vertical-align: middle;\n",
       "    }\n",
       "\n",
       "    .dataframe tbody tr th {\n",
       "        vertical-align: top;\n",
       "    }\n",
       "\n",
       "    .dataframe thead th {\n",
       "        text-align: right;\n",
       "    }\n",
       "</style>\n",
       "<table border=\"1\" class=\"dataframe\">\n",
       "  <thead>\n",
       "    <tr style=\"text-align: right;\">\n",
       "      <th></th>\n",
       "      <th>Race - Ethnicity_American Indian or Alaska Native - Hispanic</th>\n",
       "      <th>Race - Ethnicity_American Indian or Alaska Native - Non-Hispanic</th>\n",
       "      <th>Race - Ethnicity_Asian or Pacific Islander - Hispanic</th>\n",
       "      <th>Race - Ethnicity_Asian or Pacific Islander - Non-Hispanic</th>\n",
       "      <th>Race - Ethnicity_Black -</th>\n",
       "      <th>Race - Ethnicity_Black - Hispanic</th>\n",
       "      <th>Race - Ethnicity_Black - Non-Hispanic</th>\n",
       "      <th>Race - Ethnicity_MISSING</th>\n",
       "      <th>Race - Ethnicity_N/A -</th>\n",
       "      <th>Race - Ethnicity_White -</th>\n",
       "      <th>...</th>\n",
       "      <th>Main Supervising District_Interstate Compact</th>\n",
       "      <th>Main Supervising District_MISSING</th>\n",
       "      <th>Recidivism - Return to Prison_Yes</th>\n",
       "      <th>Part of Target Population_Yes</th>\n",
       "      <th>Recidivism Type_New</th>\n",
       "      <th>Recidivism Type_No Recidivism</th>\n",
       "      <th>Recidivism Type_Tech</th>\n",
       "      <th>Sex_Female</th>\n",
       "      <th>Sex_MISSING</th>\n",
       "      <th>Sex_Male</th>\n",
       "    </tr>\n",
       "  </thead>\n",
       "  <tbody>\n",
       "    <tr>\n",
       "      <th>0</th>\n",
       "      <td>0.0</td>\n",
       "      <td>0.0</td>\n",
       "      <td>0.0</td>\n",
       "      <td>0.0</td>\n",
       "      <td>0.0</td>\n",
       "      <td>0.0</td>\n",
       "      <td>1.0</td>\n",
       "      <td>0.0</td>\n",
       "      <td>0.0</td>\n",
       "      <td>0.0</td>\n",
       "      <td>...</td>\n",
       "      <td>0.0</td>\n",
       "      <td>0.0</td>\n",
       "      <td>1.0</td>\n",
       "      <td>1.0</td>\n",
       "      <td>1.0</td>\n",
       "      <td>0.0</td>\n",
       "      <td>0.0</td>\n",
       "      <td>0.0</td>\n",
       "      <td>0.0</td>\n",
       "      <td>1.0</td>\n",
       "    </tr>\n",
       "    <tr>\n",
       "      <th>1</th>\n",
       "      <td>0.0</td>\n",
       "      <td>0.0</td>\n",
       "      <td>0.0</td>\n",
       "      <td>0.0</td>\n",
       "      <td>0.0</td>\n",
       "      <td>0.0</td>\n",
       "      <td>0.0</td>\n",
       "      <td>0.0</td>\n",
       "      <td>0.0</td>\n",
       "      <td>0.0</td>\n",
       "      <td>...</td>\n",
       "      <td>0.0</td>\n",
       "      <td>1.0</td>\n",
       "      <td>1.0</td>\n",
       "      <td>0.0</td>\n",
       "      <td>0.0</td>\n",
       "      <td>0.0</td>\n",
       "      <td>1.0</td>\n",
       "      <td>0.0</td>\n",
       "      <td>0.0</td>\n",
       "      <td>1.0</td>\n",
       "    </tr>\n",
       "    <tr>\n",
       "      <th>2</th>\n",
       "      <td>0.0</td>\n",
       "      <td>0.0</td>\n",
       "      <td>0.0</td>\n",
       "      <td>0.0</td>\n",
       "      <td>0.0</td>\n",
       "      <td>0.0</td>\n",
       "      <td>0.0</td>\n",
       "      <td>0.0</td>\n",
       "      <td>0.0</td>\n",
       "      <td>0.0</td>\n",
       "      <td>...</td>\n",
       "      <td>0.0</td>\n",
       "      <td>0.0</td>\n",
       "      <td>1.0</td>\n",
       "      <td>1.0</td>\n",
       "      <td>0.0</td>\n",
       "      <td>0.0</td>\n",
       "      <td>1.0</td>\n",
       "      <td>0.0</td>\n",
       "      <td>0.0</td>\n",
       "      <td>1.0</td>\n",
       "    </tr>\n",
       "    <tr>\n",
       "      <th>3</th>\n",
       "      <td>0.0</td>\n",
       "      <td>0.0</td>\n",
       "      <td>0.0</td>\n",
       "      <td>0.0</td>\n",
       "      <td>0.0</td>\n",
       "      <td>0.0</td>\n",
       "      <td>0.0</td>\n",
       "      <td>0.0</td>\n",
       "      <td>0.0</td>\n",
       "      <td>0.0</td>\n",
       "      <td>...</td>\n",
       "      <td>0.0</td>\n",
       "      <td>0.0</td>\n",
       "      <td>0.0</td>\n",
       "      <td>1.0</td>\n",
       "      <td>0.0</td>\n",
       "      <td>1.0</td>\n",
       "      <td>0.0</td>\n",
       "      <td>0.0</td>\n",
       "      <td>0.0</td>\n",
       "      <td>1.0</td>\n",
       "    </tr>\n",
       "    <tr>\n",
       "      <th>4</th>\n",
       "      <td>0.0</td>\n",
       "      <td>0.0</td>\n",
       "      <td>0.0</td>\n",
       "      <td>0.0</td>\n",
       "      <td>0.0</td>\n",
       "      <td>0.0</td>\n",
       "      <td>1.0</td>\n",
       "      <td>0.0</td>\n",
       "      <td>0.0</td>\n",
       "      <td>0.0</td>\n",
       "      <td>...</td>\n",
       "      <td>0.0</td>\n",
       "      <td>1.0</td>\n",
       "      <td>1.0</td>\n",
       "      <td>0.0</td>\n",
       "      <td>0.0</td>\n",
       "      <td>0.0</td>\n",
       "      <td>1.0</td>\n",
       "      <td>0.0</td>\n",
       "      <td>0.0</td>\n",
       "      <td>1.0</td>\n",
       "    </tr>\n",
       "    <tr>\n",
       "      <th>...</th>\n",
       "      <td>...</td>\n",
       "      <td>...</td>\n",
       "      <td>...</td>\n",
       "      <td>...</td>\n",
       "      <td>...</td>\n",
       "      <td>...</td>\n",
       "      <td>...</td>\n",
       "      <td>...</td>\n",
       "      <td>...</td>\n",
       "      <td>...</td>\n",
       "      <td>...</td>\n",
       "      <td>...</td>\n",
       "      <td>...</td>\n",
       "      <td>...</td>\n",
       "      <td>...</td>\n",
       "      <td>...</td>\n",
       "      <td>...</td>\n",
       "      <td>...</td>\n",
       "      <td>...</td>\n",
       "      <td>...</td>\n",
       "      <td>...</td>\n",
       "    </tr>\n",
       "    <tr>\n",
       "      <th>26015</th>\n",
       "      <td>0.0</td>\n",
       "      <td>0.0</td>\n",
       "      <td>0.0</td>\n",
       "      <td>0.0</td>\n",
       "      <td>0.0</td>\n",
       "      <td>0.0</td>\n",
       "      <td>0.0</td>\n",
       "      <td>0.0</td>\n",
       "      <td>0.0</td>\n",
       "      <td>0.0</td>\n",
       "      <td>...</td>\n",
       "      <td>0.0</td>\n",
       "      <td>1.0</td>\n",
       "      <td>0.0</td>\n",
       "      <td>1.0</td>\n",
       "      <td>0.0</td>\n",
       "      <td>1.0</td>\n",
       "      <td>0.0</td>\n",
       "      <td>0.0</td>\n",
       "      <td>0.0</td>\n",
       "      <td>1.0</td>\n",
       "    </tr>\n",
       "    <tr>\n",
       "      <th>26016</th>\n",
       "      <td>0.0</td>\n",
       "      <td>0.0</td>\n",
       "      <td>0.0</td>\n",
       "      <td>0.0</td>\n",
       "      <td>0.0</td>\n",
       "      <td>0.0</td>\n",
       "      <td>0.0</td>\n",
       "      <td>0.0</td>\n",
       "      <td>0.0</td>\n",
       "      <td>0.0</td>\n",
       "      <td>...</td>\n",
       "      <td>0.0</td>\n",
       "      <td>0.0</td>\n",
       "      <td>0.0</td>\n",
       "      <td>0.0</td>\n",
       "      <td>0.0</td>\n",
       "      <td>1.0</td>\n",
       "      <td>0.0</td>\n",
       "      <td>0.0</td>\n",
       "      <td>0.0</td>\n",
       "      <td>1.0</td>\n",
       "    </tr>\n",
       "    <tr>\n",
       "      <th>26017</th>\n",
       "      <td>0.0</td>\n",
       "      <td>0.0</td>\n",
       "      <td>0.0</td>\n",
       "      <td>0.0</td>\n",
       "      <td>0.0</td>\n",
       "      <td>0.0</td>\n",
       "      <td>0.0</td>\n",
       "      <td>0.0</td>\n",
       "      <td>0.0</td>\n",
       "      <td>0.0</td>\n",
       "      <td>...</td>\n",
       "      <td>0.0</td>\n",
       "      <td>0.0</td>\n",
       "      <td>0.0</td>\n",
       "      <td>0.0</td>\n",
       "      <td>0.0</td>\n",
       "      <td>1.0</td>\n",
       "      <td>0.0</td>\n",
       "      <td>1.0</td>\n",
       "      <td>0.0</td>\n",
       "      <td>0.0</td>\n",
       "    </tr>\n",
       "    <tr>\n",
       "      <th>26018</th>\n",
       "      <td>0.0</td>\n",
       "      <td>0.0</td>\n",
       "      <td>0.0</td>\n",
       "      <td>0.0</td>\n",
       "      <td>0.0</td>\n",
       "      <td>0.0</td>\n",
       "      <td>0.0</td>\n",
       "      <td>0.0</td>\n",
       "      <td>0.0</td>\n",
       "      <td>0.0</td>\n",
       "      <td>...</td>\n",
       "      <td>0.0</td>\n",
       "      <td>0.0</td>\n",
       "      <td>0.0</td>\n",
       "      <td>1.0</td>\n",
       "      <td>0.0</td>\n",
       "      <td>1.0</td>\n",
       "      <td>0.0</td>\n",
       "      <td>0.0</td>\n",
       "      <td>0.0</td>\n",
       "      <td>1.0</td>\n",
       "    </tr>\n",
       "    <tr>\n",
       "      <th>26019</th>\n",
       "      <td>0.0</td>\n",
       "      <td>0.0</td>\n",
       "      <td>0.0</td>\n",
       "      <td>0.0</td>\n",
       "      <td>0.0</td>\n",
       "      <td>0.0</td>\n",
       "      <td>0.0</td>\n",
       "      <td>0.0</td>\n",
       "      <td>0.0</td>\n",
       "      <td>0.0</td>\n",
       "      <td>...</td>\n",
       "      <td>0.0</td>\n",
       "      <td>1.0</td>\n",
       "      <td>1.0</td>\n",
       "      <td>1.0</td>\n",
       "      <td>0.0</td>\n",
       "      <td>0.0</td>\n",
       "      <td>1.0</td>\n",
       "      <td>0.0</td>\n",
       "      <td>0.0</td>\n",
       "      <td>1.0</td>\n",
       "    </tr>\n",
       "  </tbody>\n",
       "</table>\n",
       "<p>26020 rows × 96 columns</p>\n",
       "</div>"
      ],
      "text/plain": [
       "       Race - Ethnicity_American Indian or Alaska Native - Hispanic  \\\n",
       "0                                                    0.0              \n",
       "1                                                    0.0              \n",
       "2                                                    0.0              \n",
       "3                                                    0.0              \n",
       "4                                                    0.0              \n",
       "...                                                  ...              \n",
       "26015                                                0.0              \n",
       "26016                                                0.0              \n",
       "26017                                                0.0              \n",
       "26018                                                0.0              \n",
       "26019                                                0.0              \n",
       "\n",
       "       Race - Ethnicity_American Indian or Alaska Native - Non-Hispanic  \\\n",
       "0                                                    0.0                  \n",
       "1                                                    0.0                  \n",
       "2                                                    0.0                  \n",
       "3                                                    0.0                  \n",
       "4                                                    0.0                  \n",
       "...                                                  ...                  \n",
       "26015                                                0.0                  \n",
       "26016                                                0.0                  \n",
       "26017                                                0.0                  \n",
       "26018                                                0.0                  \n",
       "26019                                                0.0                  \n",
       "\n",
       "       Race - Ethnicity_Asian or Pacific Islander - Hispanic  \\\n",
       "0                                                    0.0       \n",
       "1                                                    0.0       \n",
       "2                                                    0.0       \n",
       "3                                                    0.0       \n",
       "4                                                    0.0       \n",
       "...                                                  ...       \n",
       "26015                                                0.0       \n",
       "26016                                                0.0       \n",
       "26017                                                0.0       \n",
       "26018                                                0.0       \n",
       "26019                                                0.0       \n",
       "\n",
       "       Race - Ethnicity_Asian or Pacific Islander - Non-Hispanic  \\\n",
       "0                                                    0.0           \n",
       "1                                                    0.0           \n",
       "2                                                    0.0           \n",
       "3                                                    0.0           \n",
       "4                                                    0.0           \n",
       "...                                                  ...           \n",
       "26015                                                0.0           \n",
       "26016                                                0.0           \n",
       "26017                                                0.0           \n",
       "26018                                                0.0           \n",
       "26019                                                0.0           \n",
       "\n",
       "       Race - Ethnicity_Black -  Race - Ethnicity_Black - Hispanic  \\\n",
       "0                           0.0                                0.0   \n",
       "1                           0.0                                0.0   \n",
       "2                           0.0                                0.0   \n",
       "3                           0.0                                0.0   \n",
       "4                           0.0                                0.0   \n",
       "...                         ...                                ...   \n",
       "26015                       0.0                                0.0   \n",
       "26016                       0.0                                0.0   \n",
       "26017                       0.0                                0.0   \n",
       "26018                       0.0                                0.0   \n",
       "26019                       0.0                                0.0   \n",
       "\n",
       "       Race - Ethnicity_Black - Non-Hispanic  Race - Ethnicity_MISSING  \\\n",
       "0                                        1.0                       0.0   \n",
       "1                                        0.0                       0.0   \n",
       "2                                        0.0                       0.0   \n",
       "3                                        0.0                       0.0   \n",
       "4                                        1.0                       0.0   \n",
       "...                                      ...                       ...   \n",
       "26015                                    0.0                       0.0   \n",
       "26016                                    0.0                       0.0   \n",
       "26017                                    0.0                       0.0   \n",
       "26018                                    0.0                       0.0   \n",
       "26019                                    0.0                       0.0   \n",
       "\n",
       "       Race - Ethnicity_N/A -  Race - Ethnicity_White -  ...  \\\n",
       "0                         0.0                       0.0  ...   \n",
       "1                         0.0                       0.0  ...   \n",
       "2                         0.0                       0.0  ...   \n",
       "3                         0.0                       0.0  ...   \n",
       "4                         0.0                       0.0  ...   \n",
       "...                       ...                       ...  ...   \n",
       "26015                     0.0                       0.0  ...   \n",
       "26016                     0.0                       0.0  ...   \n",
       "26017                     0.0                       0.0  ...   \n",
       "26018                     0.0                       0.0  ...   \n",
       "26019                     0.0                       0.0  ...   \n",
       "\n",
       "       Main Supervising District_Interstate Compact  \\\n",
       "0                                               0.0   \n",
       "1                                               0.0   \n",
       "2                                               0.0   \n",
       "3                                               0.0   \n",
       "4                                               0.0   \n",
       "...                                             ...   \n",
       "26015                                           0.0   \n",
       "26016                                           0.0   \n",
       "26017                                           0.0   \n",
       "26018                                           0.0   \n",
       "26019                                           0.0   \n",
       "\n",
       "       Main Supervising District_MISSING  Recidivism - Return to Prison_Yes  \\\n",
       "0                                    0.0                                1.0   \n",
       "1                                    1.0                                1.0   \n",
       "2                                    0.0                                1.0   \n",
       "3                                    0.0                                0.0   \n",
       "4                                    1.0                                1.0   \n",
       "...                                  ...                                ...   \n",
       "26015                                1.0                                0.0   \n",
       "26016                                0.0                                0.0   \n",
       "26017                                0.0                                0.0   \n",
       "26018                                0.0                                0.0   \n",
       "26019                                1.0                                1.0   \n",
       "\n",
       "       Part of Target Population_Yes  Recidivism Type_New  \\\n",
       "0                                1.0                  1.0   \n",
       "1                                0.0                  0.0   \n",
       "2                                1.0                  0.0   \n",
       "3                                1.0                  0.0   \n",
       "4                                0.0                  0.0   \n",
       "...                              ...                  ...   \n",
       "26015                            1.0                  0.0   \n",
       "26016                            0.0                  0.0   \n",
       "26017                            0.0                  0.0   \n",
       "26018                            1.0                  0.0   \n",
       "26019                            1.0                  0.0   \n",
       "\n",
       "       Recidivism Type_No Recidivism  Recidivism Type_Tech  Sex_Female  \\\n",
       "0                                0.0                   0.0         0.0   \n",
       "1                                0.0                   1.0         0.0   \n",
       "2                                0.0                   1.0         0.0   \n",
       "3                                1.0                   0.0         0.0   \n",
       "4                                0.0                   1.0         0.0   \n",
       "...                              ...                   ...         ...   \n",
       "26015                            1.0                   0.0         0.0   \n",
       "26016                            1.0                   0.0         0.0   \n",
       "26017                            1.0                   0.0         1.0   \n",
       "26018                            1.0                   0.0         0.0   \n",
       "26019                            0.0                   1.0         0.0   \n",
       "\n",
       "       Sex_MISSING  Sex_Male  \n",
       "0              0.0       1.0  \n",
       "1              0.0       1.0  \n",
       "2              0.0       1.0  \n",
       "3              0.0       1.0  \n",
       "4              0.0       1.0  \n",
       "...            ...       ...  \n",
       "26015          0.0       1.0  \n",
       "26016          0.0       1.0  \n",
       "26017          0.0       0.0  \n",
       "26018          0.0       1.0  \n",
       "26019          0.0       1.0  \n",
       "\n",
       "[26020 rows x 96 columns]"
      ]
     },
     "execution_count": 50,
     "metadata": {},
     "output_type": "execute_result"
    }
   ],
   "source": [
    "df_ohe = pd.DataFrame(ohe_data,columns=encoder.get_feature_names(cat_cols))\n",
    "df_ohe"
   ]
  },
  {
   "cell_type": "code",
   "execution_count": 51,
   "metadata": {
    "ExecuteTime": {
     "end_time": "2020-09-09T15:45:25.841210Z",
     "start_time": "2020-09-09T15:45:25.802113Z"
    }
   },
   "outputs": [
    {
     "data": {
      "text/plain": [
       "array([['Black - Non-Hispanic', '25-34', 'C Felony', ..., 'Yes', 'New',\n",
       "        'Male'],\n",
       "       ['White - Non-Hispanic', '25-34', 'D Felony', ..., 'No', 'Tech',\n",
       "        'Male'],\n",
       "       ['White - Non-Hispanic', '35-44', 'B Felony', ..., 'Yes', 'Tech',\n",
       "        'Male'],\n",
       "       ...,\n",
       "       ['White - Non-Hispanic', '25-34', 'Aggravated Misdemeanor', ...,\n",
       "        'No', 'No Recidivism', 'Female'],\n",
       "       ['White - Non-Hispanic', '25-34', 'D Felony', ..., 'Yes',\n",
       "        'No Recidivism', 'Male'],\n",
       "       ['White - Non-Hispanic', '35-44', 'D Felony', ..., 'Yes', 'Tech',\n",
       "        'Male']], dtype=object)"
      ]
     },
     "execution_count": 51,
     "metadata": {},
     "output_type": "execute_result"
    }
   ],
   "source": [
    "original_column = encoder.inverse_transform(df_ohe)\n",
    "original_column\n"
   ]
  },
  {
   "cell_type": "code",
   "execution_count": 53,
   "metadata": {
    "ExecuteTime": {
     "end_time": "2020-09-09T15:45:26.663294Z",
     "start_time": "2020-09-09T15:45:26.605607Z"
    }
   },
   "outputs": [
    {
     "data": {
      "text/html": [
       "<div>\n",
       "<style scoped>\n",
       "    .dataframe tbody tr th:only-of-type {\n",
       "        vertical-align: middle;\n",
       "    }\n",
       "\n",
       "    .dataframe tbody tr th {\n",
       "        vertical-align: top;\n",
       "    }\n",
       "\n",
       "    .dataframe thead th {\n",
       "        text-align: right;\n",
       "    }\n",
       "</style>\n",
       "<table border=\"1\" class=\"dataframe\">\n",
       "  <thead>\n",
       "    <tr style=\"text-align: right;\">\n",
       "      <th></th>\n",
       "      <th>Fiscal Year Released</th>\n",
       "      <th>Recidivism Reporting Year</th>\n",
       "      <th>scaled_year_released</th>\n",
       "      <th>Race - Ethnicity_American Indian or Alaska Native - Hispanic</th>\n",
       "      <th>Race - Ethnicity_American Indian or Alaska Native - Non-Hispanic</th>\n",
       "      <th>Race - Ethnicity_Asian or Pacific Islander - Hispanic</th>\n",
       "      <th>Race - Ethnicity_Asian or Pacific Islander - Non-Hispanic</th>\n",
       "      <th>Race - Ethnicity_Black -</th>\n",
       "      <th>Race - Ethnicity_Black - Hispanic</th>\n",
       "      <th>Race - Ethnicity_Black - Non-Hispanic</th>\n",
       "      <th>...</th>\n",
       "      <th>Main Supervising District_Interstate Compact</th>\n",
       "      <th>Main Supervising District_MISSING</th>\n",
       "      <th>Recidivism - Return to Prison_Yes</th>\n",
       "      <th>Part of Target Population_Yes</th>\n",
       "      <th>Recidivism Type_New</th>\n",
       "      <th>Recidivism Type_No Recidivism</th>\n",
       "      <th>Recidivism Type_Tech</th>\n",
       "      <th>Sex_Female</th>\n",
       "      <th>Sex_MISSING</th>\n",
       "      <th>Sex_Male</th>\n",
       "    </tr>\n",
       "  </thead>\n",
       "  <tbody>\n",
       "    <tr>\n",
       "      <th>0</th>\n",
       "      <td>2010</td>\n",
       "      <td>2013</td>\n",
       "      <td>-1.565789</td>\n",
       "      <td>0.0</td>\n",
       "      <td>0.0</td>\n",
       "      <td>0.0</td>\n",
       "      <td>0.0</td>\n",
       "      <td>0.0</td>\n",
       "      <td>0.0</td>\n",
       "      <td>1.0</td>\n",
       "      <td>...</td>\n",
       "      <td>0.0</td>\n",
       "      <td>0.0</td>\n",
       "      <td>1.0</td>\n",
       "      <td>1.0</td>\n",
       "      <td>1.0</td>\n",
       "      <td>0.0</td>\n",
       "      <td>0.0</td>\n",
       "      <td>0.0</td>\n",
       "      <td>0.0</td>\n",
       "      <td>1.0</td>\n",
       "    </tr>\n",
       "    <tr>\n",
       "      <th>1</th>\n",
       "      <td>2010</td>\n",
       "      <td>2013</td>\n",
       "      <td>-1.565789</td>\n",
       "      <td>0.0</td>\n",
       "      <td>0.0</td>\n",
       "      <td>0.0</td>\n",
       "      <td>0.0</td>\n",
       "      <td>0.0</td>\n",
       "      <td>0.0</td>\n",
       "      <td>0.0</td>\n",
       "      <td>...</td>\n",
       "      <td>0.0</td>\n",
       "      <td>1.0</td>\n",
       "      <td>1.0</td>\n",
       "      <td>0.0</td>\n",
       "      <td>0.0</td>\n",
       "      <td>0.0</td>\n",
       "      <td>1.0</td>\n",
       "      <td>0.0</td>\n",
       "      <td>0.0</td>\n",
       "      <td>1.0</td>\n",
       "    </tr>\n",
       "    <tr>\n",
       "      <th>2</th>\n",
       "      <td>2010</td>\n",
       "      <td>2013</td>\n",
       "      <td>-1.565789</td>\n",
       "      <td>0.0</td>\n",
       "      <td>0.0</td>\n",
       "      <td>0.0</td>\n",
       "      <td>0.0</td>\n",
       "      <td>0.0</td>\n",
       "      <td>0.0</td>\n",
       "      <td>0.0</td>\n",
       "      <td>...</td>\n",
       "      <td>0.0</td>\n",
       "      <td>0.0</td>\n",
       "      <td>1.0</td>\n",
       "      <td>1.0</td>\n",
       "      <td>0.0</td>\n",
       "      <td>0.0</td>\n",
       "      <td>1.0</td>\n",
       "      <td>0.0</td>\n",
       "      <td>0.0</td>\n",
       "      <td>1.0</td>\n",
       "    </tr>\n",
       "    <tr>\n",
       "      <th>3</th>\n",
       "      <td>2010</td>\n",
       "      <td>2013</td>\n",
       "      <td>-1.565789</td>\n",
       "      <td>0.0</td>\n",
       "      <td>0.0</td>\n",
       "      <td>0.0</td>\n",
       "      <td>0.0</td>\n",
       "      <td>0.0</td>\n",
       "      <td>0.0</td>\n",
       "      <td>0.0</td>\n",
       "      <td>...</td>\n",
       "      <td>0.0</td>\n",
       "      <td>0.0</td>\n",
       "      <td>0.0</td>\n",
       "      <td>1.0</td>\n",
       "      <td>0.0</td>\n",
       "      <td>1.0</td>\n",
       "      <td>0.0</td>\n",
       "      <td>0.0</td>\n",
       "      <td>0.0</td>\n",
       "      <td>1.0</td>\n",
       "    </tr>\n",
       "    <tr>\n",
       "      <th>4</th>\n",
       "      <td>2010</td>\n",
       "      <td>2013</td>\n",
       "      <td>-1.565789</td>\n",
       "      <td>0.0</td>\n",
       "      <td>0.0</td>\n",
       "      <td>0.0</td>\n",
       "      <td>0.0</td>\n",
       "      <td>0.0</td>\n",
       "      <td>0.0</td>\n",
       "      <td>1.0</td>\n",
       "      <td>...</td>\n",
       "      <td>0.0</td>\n",
       "      <td>1.0</td>\n",
       "      <td>1.0</td>\n",
       "      <td>0.0</td>\n",
       "      <td>0.0</td>\n",
       "      <td>0.0</td>\n",
       "      <td>1.0</td>\n",
       "      <td>0.0</td>\n",
       "      <td>0.0</td>\n",
       "      <td>1.0</td>\n",
       "    </tr>\n",
       "    <tr>\n",
       "      <th>...</th>\n",
       "      <td>...</td>\n",
       "      <td>...</td>\n",
       "      <td>...</td>\n",
       "      <td>...</td>\n",
       "      <td>...</td>\n",
       "      <td>...</td>\n",
       "      <td>...</td>\n",
       "      <td>...</td>\n",
       "      <td>...</td>\n",
       "      <td>...</td>\n",
       "      <td>...</td>\n",
       "      <td>...</td>\n",
       "      <td>...</td>\n",
       "      <td>...</td>\n",
       "      <td>...</td>\n",
       "      <td>...</td>\n",
       "      <td>...</td>\n",
       "      <td>...</td>\n",
       "      <td>...</td>\n",
       "      <td>...</td>\n",
       "      <td>...</td>\n",
       "    </tr>\n",
       "    <tr>\n",
       "      <th>26015</th>\n",
       "      <td>2015</td>\n",
       "      <td>2018</td>\n",
       "      <td>1.444453</td>\n",
       "      <td>0.0</td>\n",
       "      <td>0.0</td>\n",
       "      <td>0.0</td>\n",
       "      <td>0.0</td>\n",
       "      <td>0.0</td>\n",
       "      <td>0.0</td>\n",
       "      <td>0.0</td>\n",
       "      <td>...</td>\n",
       "      <td>0.0</td>\n",
       "      <td>1.0</td>\n",
       "      <td>0.0</td>\n",
       "      <td>1.0</td>\n",
       "      <td>0.0</td>\n",
       "      <td>1.0</td>\n",
       "      <td>0.0</td>\n",
       "      <td>0.0</td>\n",
       "      <td>0.0</td>\n",
       "      <td>1.0</td>\n",
       "    </tr>\n",
       "    <tr>\n",
       "      <th>26016</th>\n",
       "      <td>2015</td>\n",
       "      <td>2018</td>\n",
       "      <td>1.444453</td>\n",
       "      <td>0.0</td>\n",
       "      <td>0.0</td>\n",
       "      <td>0.0</td>\n",
       "      <td>0.0</td>\n",
       "      <td>0.0</td>\n",
       "      <td>0.0</td>\n",
       "      <td>0.0</td>\n",
       "      <td>...</td>\n",
       "      <td>0.0</td>\n",
       "      <td>0.0</td>\n",
       "      <td>0.0</td>\n",
       "      <td>0.0</td>\n",
       "      <td>0.0</td>\n",
       "      <td>1.0</td>\n",
       "      <td>0.0</td>\n",
       "      <td>0.0</td>\n",
       "      <td>0.0</td>\n",
       "      <td>1.0</td>\n",
       "    </tr>\n",
       "    <tr>\n",
       "      <th>26017</th>\n",
       "      <td>2015</td>\n",
       "      <td>2018</td>\n",
       "      <td>1.444453</td>\n",
       "      <td>0.0</td>\n",
       "      <td>0.0</td>\n",
       "      <td>0.0</td>\n",
       "      <td>0.0</td>\n",
       "      <td>0.0</td>\n",
       "      <td>0.0</td>\n",
       "      <td>0.0</td>\n",
       "      <td>...</td>\n",
       "      <td>0.0</td>\n",
       "      <td>0.0</td>\n",
       "      <td>0.0</td>\n",
       "      <td>0.0</td>\n",
       "      <td>0.0</td>\n",
       "      <td>1.0</td>\n",
       "      <td>0.0</td>\n",
       "      <td>1.0</td>\n",
       "      <td>0.0</td>\n",
       "      <td>0.0</td>\n",
       "    </tr>\n",
       "    <tr>\n",
       "      <th>26018</th>\n",
       "      <td>2015</td>\n",
       "      <td>2018</td>\n",
       "      <td>1.444453</td>\n",
       "      <td>0.0</td>\n",
       "      <td>0.0</td>\n",
       "      <td>0.0</td>\n",
       "      <td>0.0</td>\n",
       "      <td>0.0</td>\n",
       "      <td>0.0</td>\n",
       "      <td>0.0</td>\n",
       "      <td>...</td>\n",
       "      <td>0.0</td>\n",
       "      <td>0.0</td>\n",
       "      <td>0.0</td>\n",
       "      <td>1.0</td>\n",
       "      <td>0.0</td>\n",
       "      <td>1.0</td>\n",
       "      <td>0.0</td>\n",
       "      <td>0.0</td>\n",
       "      <td>0.0</td>\n",
       "      <td>1.0</td>\n",
       "    </tr>\n",
       "    <tr>\n",
       "      <th>26019</th>\n",
       "      <td>2015</td>\n",
       "      <td>2018</td>\n",
       "      <td>1.444453</td>\n",
       "      <td>0.0</td>\n",
       "      <td>0.0</td>\n",
       "      <td>0.0</td>\n",
       "      <td>0.0</td>\n",
       "      <td>0.0</td>\n",
       "      <td>0.0</td>\n",
       "      <td>0.0</td>\n",
       "      <td>...</td>\n",
       "      <td>0.0</td>\n",
       "      <td>1.0</td>\n",
       "      <td>1.0</td>\n",
       "      <td>1.0</td>\n",
       "      <td>0.0</td>\n",
       "      <td>0.0</td>\n",
       "      <td>1.0</td>\n",
       "      <td>0.0</td>\n",
       "      <td>0.0</td>\n",
       "      <td>1.0</td>\n",
       "    </tr>\n",
       "  </tbody>\n",
       "</table>\n",
       "<p>26020 rows × 99 columns</p>\n",
       "</div>"
      ],
      "text/plain": [
       "       Fiscal Year Released  Recidivism Reporting Year  scaled_year_released  \\\n",
       "0                      2010                       2013             -1.565789   \n",
       "1                      2010                       2013             -1.565789   \n",
       "2                      2010                       2013             -1.565789   \n",
       "3                      2010                       2013             -1.565789   \n",
       "4                      2010                       2013             -1.565789   \n",
       "...                     ...                        ...                   ...   \n",
       "26015                  2015                       2018              1.444453   \n",
       "26016                  2015                       2018              1.444453   \n",
       "26017                  2015                       2018              1.444453   \n",
       "26018                  2015                       2018              1.444453   \n",
       "26019                  2015                       2018              1.444453   \n",
       "\n",
       "       Race - Ethnicity_American Indian or Alaska Native - Hispanic  \\\n",
       "0                                                    0.0              \n",
       "1                                                    0.0              \n",
       "2                                                    0.0              \n",
       "3                                                    0.0              \n",
       "4                                                    0.0              \n",
       "...                                                  ...              \n",
       "26015                                                0.0              \n",
       "26016                                                0.0              \n",
       "26017                                                0.0              \n",
       "26018                                                0.0              \n",
       "26019                                                0.0              \n",
       "\n",
       "       Race - Ethnicity_American Indian or Alaska Native - Non-Hispanic  \\\n",
       "0                                                    0.0                  \n",
       "1                                                    0.0                  \n",
       "2                                                    0.0                  \n",
       "3                                                    0.0                  \n",
       "4                                                    0.0                  \n",
       "...                                                  ...                  \n",
       "26015                                                0.0                  \n",
       "26016                                                0.0                  \n",
       "26017                                                0.0                  \n",
       "26018                                                0.0                  \n",
       "26019                                                0.0                  \n",
       "\n",
       "       Race - Ethnicity_Asian or Pacific Islander - Hispanic  \\\n",
       "0                                                    0.0       \n",
       "1                                                    0.0       \n",
       "2                                                    0.0       \n",
       "3                                                    0.0       \n",
       "4                                                    0.0       \n",
       "...                                                  ...       \n",
       "26015                                                0.0       \n",
       "26016                                                0.0       \n",
       "26017                                                0.0       \n",
       "26018                                                0.0       \n",
       "26019                                                0.0       \n",
       "\n",
       "       Race - Ethnicity_Asian or Pacific Islander - Non-Hispanic  \\\n",
       "0                                                    0.0           \n",
       "1                                                    0.0           \n",
       "2                                                    0.0           \n",
       "3                                                    0.0           \n",
       "4                                                    0.0           \n",
       "...                                                  ...           \n",
       "26015                                                0.0           \n",
       "26016                                                0.0           \n",
       "26017                                                0.0           \n",
       "26018                                                0.0           \n",
       "26019                                                0.0           \n",
       "\n",
       "       Race - Ethnicity_Black -  Race - Ethnicity_Black - Hispanic  \\\n",
       "0                           0.0                                0.0   \n",
       "1                           0.0                                0.0   \n",
       "2                           0.0                                0.0   \n",
       "3                           0.0                                0.0   \n",
       "4                           0.0                                0.0   \n",
       "...                         ...                                ...   \n",
       "26015                       0.0                                0.0   \n",
       "26016                       0.0                                0.0   \n",
       "26017                       0.0                                0.0   \n",
       "26018                       0.0                                0.0   \n",
       "26019                       0.0                                0.0   \n",
       "\n",
       "       Race - Ethnicity_Black - Non-Hispanic  ...  \\\n",
       "0                                        1.0  ...   \n",
       "1                                        0.0  ...   \n",
       "2                                        0.0  ...   \n",
       "3                                        0.0  ...   \n",
       "4                                        1.0  ...   \n",
       "...                                      ...  ...   \n",
       "26015                                    0.0  ...   \n",
       "26016                                    0.0  ...   \n",
       "26017                                    0.0  ...   \n",
       "26018                                    0.0  ...   \n",
       "26019                                    0.0  ...   \n",
       "\n",
       "       Main Supervising District_Interstate Compact  \\\n",
       "0                                               0.0   \n",
       "1                                               0.0   \n",
       "2                                               0.0   \n",
       "3                                               0.0   \n",
       "4                                               0.0   \n",
       "...                                             ...   \n",
       "26015                                           0.0   \n",
       "26016                                           0.0   \n",
       "26017                                           0.0   \n",
       "26018                                           0.0   \n",
       "26019                                           0.0   \n",
       "\n",
       "       Main Supervising District_MISSING  Recidivism - Return to Prison_Yes  \\\n",
       "0                                    0.0                                1.0   \n",
       "1                                    1.0                                1.0   \n",
       "2                                    0.0                                1.0   \n",
       "3                                    0.0                                0.0   \n",
       "4                                    1.0                                1.0   \n",
       "...                                  ...                                ...   \n",
       "26015                                1.0                                0.0   \n",
       "26016                                0.0                                0.0   \n",
       "26017                                0.0                                0.0   \n",
       "26018                                0.0                                0.0   \n",
       "26019                                1.0                                1.0   \n",
       "\n",
       "       Part of Target Population_Yes  Recidivism Type_New  \\\n",
       "0                                1.0                  1.0   \n",
       "1                                0.0                  0.0   \n",
       "2                                1.0                  0.0   \n",
       "3                                1.0                  0.0   \n",
       "4                                0.0                  0.0   \n",
       "...                              ...                  ...   \n",
       "26015                            1.0                  0.0   \n",
       "26016                            0.0                  0.0   \n",
       "26017                            0.0                  0.0   \n",
       "26018                            1.0                  0.0   \n",
       "26019                            1.0                  0.0   \n",
       "\n",
       "       Recidivism Type_No Recidivism  Recidivism Type_Tech  Sex_Female  \\\n",
       "0                                0.0                   0.0         0.0   \n",
       "1                                0.0                   1.0         0.0   \n",
       "2                                0.0                   1.0         0.0   \n",
       "3                                1.0                   0.0         0.0   \n",
       "4                                0.0                   1.0         0.0   \n",
       "...                              ...                   ...         ...   \n",
       "26015                            1.0                   0.0         0.0   \n",
       "26016                            1.0                   0.0         0.0   \n",
       "26017                            1.0                   0.0         1.0   \n",
       "26018                            1.0                   0.0         0.0   \n",
       "26019                            0.0                   1.0         0.0   \n",
       "\n",
       "       Sex_MISSING  Sex_Male  \n",
       "0              0.0       1.0  \n",
       "1              0.0       1.0  \n",
       "2              0.0       1.0  \n",
       "3              0.0       1.0  \n",
       "4              0.0       1.0  \n",
       "...            ...       ...  \n",
       "26015          0.0       1.0  \n",
       "26016          0.0       1.0  \n",
       "26017          0.0       0.0  \n",
       "26018          0.0       1.0  \n",
       "26019          0.0       1.0  \n",
       "\n",
       "[26020 rows x 99 columns]"
      ]
     },
     "execution_count": 53,
     "metadata": {},
     "output_type": "execute_result"
    }
   ],
   "source": [
    "df_model = pd.concat([df.drop(columns=cat_cols),df_ohe,],axis=1)\n",
    "df_model"
   ]
  },
  {
   "cell_type": "code",
   "execution_count": 56,
   "metadata": {
    "ExecuteTime": {
     "end_time": "2020-09-09T15:46:24.704040Z",
     "start_time": "2020-09-09T15:46:24.670919Z"
    }
   },
   "outputs": [],
   "source": [
    "target = 'Recidivism - Return to Prison_Yes'\n",
    "y = df_model[target].copy()\n",
    "X = df_model.drop(columns=target)"
   ]
  },
  {
   "cell_type": "markdown",
   "metadata": {},
   "source": [
    "# ACTIVITY"
   ]
  },
  {
   "cell_type": "markdown",
   "metadata": {},
   "source": [
    "## Activity Option 1: Construct a Timer Class"
   ]
  },
  {
   "cell_type": "code",
   "execution_count": null,
   "metadata": {
    "ExecuteTime": {
     "end_time": "2020-09-09T15:14:07.310079Z",
     "start_time": "2020-09-09T15:14:07.307582Z"
    }
   },
   "outputs": [],
   "source": [
    "import tzlocal\n",
    "import datetime as dt\n",
    "# tzlocal.get_localzone()"
   ]
  },
  {
   "cell_type": "code",
   "execution_count": null,
   "metadata": {
    "ExecuteTime": {
     "end_time": "2020-09-09T15:14:07.314107Z",
     "start_time": "2020-09-09T15:14:07.311629Z"
    }
   },
   "outputs": [],
   "source": [
    "#dt.datetime.now()\n",
    "print(dt.datetime.now())"
   ]
  },
  {
   "cell_type": "code",
   "execution_count": null,
   "metadata": {
    "ExecuteTime": {
     "end_time": "2020-09-09T15:14:07.317468Z",
     "start_time": "2020-09-09T15:14:07.315684Z"
    }
   },
   "outputs": [],
   "source": [
    "# fs.quick_refs.ts_date_str_formatting()"
   ]
  },
  {
   "cell_type": "code",
   "execution_count": 64,
   "metadata": {
    "ExecuteTime": {
     "end_time": "2020-09-09T15:47:37.716319Z",
     "start_time": "2020-09-09T15:47:37.708868Z"
    }
   },
   "outputs": [],
   "source": [
    "class Timer:\n",
    "    \n",
    "    def __init__(self,fmt='%m/%d/%Y - %I:%M:%S %p',start=True,label=''):\n",
    "        import tzlocal\n",
    "        import datetime as dt\n",
    "        \n",
    "        self._tz = tzlocal.get_localzone()\n",
    "        self._created_at =dt.datetime.now(self._tz)\n",
    "        self._fmt = fmt\n",
    "        if start==True:\n",
    "            self.start(label=label)\n",
    "        \n",
    "        \n",
    "    def _get_time(self):\n",
    "        import datetime as dt\n",
    "        return dt.datetime.now(self._tz)\n",
    "        \n",
    "        \n",
    "    def start(self,label=''):\n",
    "        self._start = self._get_time()\n",
    "        self._start_label = label\n",
    "        \n",
    "        print(f'[i] Timer started at {self._start.strftime(self._fmt)}')\n",
    "        if len(label)>0:\n",
    "            print(f'\\t- Process running: {label}')\n",
    "        \n",
    "    \n",
    "    def stop(self,label=''):\n",
    "        \n",
    "        self._stop = self._get_time()\n",
    "        elapsed = self._stop - self._start\n",
    "        \n",
    "        print(f'[i] Timer stopped at {self._stop.strftime(self._fmt)}')\n",
    "        print(f\"\\t- The process {label} took {elapsed}.\")\n",
    "        print(f\"\\t- The process {label} took {elapsed}.\")\n",
    "        \n",
    "    def __call__(self):\n",
    "        print(self._get_time())\n",
    "        \n",
    "    \n"
   ]
  },
  {
   "cell_type": "code",
   "execution_count": 65,
   "metadata": {
    "ExecuteTime": {
     "end_time": "2020-09-09T15:47:38.233087Z",
     "start_time": "2020-09-09T15:47:38.106279Z"
    }
   },
   "outputs": [
    {
     "name": "stdout",
     "output_type": "stream",
     "text": [
      "[i] Timer started at 09/09/2020 - 11:47:38 AM\n"
     ]
    }
   ],
   "source": [
    "timer = Timer()"
   ]
  },
  {
   "cell_type": "code",
   "execution_count": 66,
   "metadata": {
    "ExecuteTime": {
     "end_time": "2020-09-09T15:47:38.426223Z",
     "start_time": "2020-09-09T15:47:38.423622Z"
    }
   },
   "outputs": [
    {
     "name": "stdout",
     "output_type": "stream",
     "text": [
      "[i] Timer started at 09/09/2020 - 11:47:38 AM\n",
      "\t- Process running: Testing this thing\n"
     ]
    }
   ],
   "source": [
    "# dir(timer)\n",
    "timer.start('Testing this thing')"
   ]
  },
  {
   "cell_type": "code",
   "execution_count": 67,
   "metadata": {
    "ExecuteTime": {
     "end_time": "2020-09-09T15:47:38.725876Z",
     "start_time": "2020-09-09T15:47:38.723301Z"
    }
   },
   "outputs": [
    {
     "name": "stdout",
     "output_type": "stream",
     "text": [
      "[i] Timer stopped at 09/09/2020 - 11:47:38 AM\n",
      "\t- The process  took 0:00:00.299843.\n",
      "\t- The process  took 0:00:00.299843.\n"
     ]
    }
   ],
   "source": [
    "timer.stop()#@'Testing this other thing')"
   ]
  },
  {
   "cell_type": "code",
   "execution_count": 68,
   "metadata": {
    "ExecuteTime": {
     "end_time": "2020-09-09T15:47:39.035137Z",
     "start_time": "2020-09-09T15:47:39.032722Z"
    }
   },
   "outputs": [
    {
     "name": "stdout",
     "output_type": "stream",
     "text": [
      "2020-09-09 11:47:39.033393-04:00\n"
     ]
    }
   ],
   "source": [
    "timer()"
   ]
  },
  {
   "cell_type": "markdown",
   "metadata": {
    "ExecuteTime": {
     "end_time": "2020-08-12T22:54:45.944849Z",
     "start_time": "2020-08-12T22:54:45.942801Z"
    }
   },
   "source": [
    "### Running the Model with the Timer"
   ]
  },
  {
   "cell_type": "code",
   "execution_count": 69,
   "metadata": {
    "ExecuteTime": {
     "end_time": "2020-09-09T15:47:39.915591Z",
     "start_time": "2020-09-09T15:47:39.913465Z"
    }
   },
   "outputs": [],
   "source": [
    "from sklearn.model_selection import train_test_split\n"
   ]
  },
  {
   "cell_type": "code",
   "execution_count": 70,
   "metadata": {
    "ExecuteTime": {
     "end_time": "2020-09-09T15:47:40.783640Z",
     "start_time": "2020-09-09T15:47:40.764029Z"
    }
   },
   "outputs": [],
   "source": [
    "# target='Recidivism - Return to Prison'\n",
    "# y = df[target].copy()\n",
    "# X = df.drop(target,axis=1).copy()\n",
    "\n",
    "X_train, X_test,y_train,y_test = train_test_split(X,y)"
   ]
  },
  {
   "cell_type": "code",
   "execution_count": 71,
   "metadata": {
    "ExecuteTime": {
     "end_time": "2020-09-09T15:47:41.113384Z",
     "start_time": "2020-09-09T15:47:41.110457Z"
    }
   },
   "outputs": [],
   "source": [
    "from sklearn.tree import DecisionTreeClassifier\n",
    "from sklearn.ensemble import RandomForestClassifier \n",
    "from sklearn.model_selection import GridSearchCV\n",
    "from sklearn.metrics import accuracy_score\n",
    "import warnings\n",
    "warnings.filterwarnings('ignore')"
   ]
  },
  {
   "cell_type": "code",
   "execution_count": 73,
   "metadata": {
    "ExecuteTime": {
     "end_time": "2020-09-09T15:48:45.639335Z",
     "start_time": "2020-09-09T15:48:24.702557Z"
    },
    "scrolled": false
   },
   "outputs": [
    {
     "name": "stdout",
     "output_type": "stream",
     "text": [
      "[i] Timer started at 09/09/2020 - 11:48:24 AM\n",
      "\t- Process running: Training Decision Tree Classifier\n",
      "[i] Timer stopped at 09/09/2020 - 11:48:45 AM\n",
      "\t- The process - Training complete. Accuracy = 1.0 took 0:00:20.932559.\n",
      "\t- The process - Training complete. Accuracy = 1.0 took 0:00:20.932559.\n"
     ]
    }
   ],
   "source": [
    "tree = RandomForestClassifier()#DecisionTreeClassifier( )\n",
    "params = {'max_depth':[0,4,6,10,20],\n",
    "#          'min_samples_leaf':[2,4,5,9,20],\n",
    "         'criterion':['entropy','gini']}\n",
    "grid = GridSearchCV(tree,params)\n",
    "\n",
    "timer =Timer(start=True,label='Training Decision Tree Classifier')\n",
    "\n",
    "grid.fit(X_train, y_train)\n",
    "\n",
    "y_hat_test = grid.predict(X_test)\n",
    "acc = accuracy_score(y_test,y_hat_test)\n",
    "timer.stop(f'- Training complete. Accuracy = {acc}')"
   ]
  },
  {
   "cell_type": "markdown",
   "metadata": {
    "heading_collapsed": true
   },
   "source": [
    "# APPENDIX"
   ]
  },
  {
   "cell_type": "markdown",
   "metadata": {
    "hidden": true
   },
   "source": [
    "## Dictionaries & Dictionary Methods"
   ]
  },
  {
   "cell_type": "markdown",
   "metadata": {
    "hidden": true
   },
   "source": [
    "- Iterating throught a dict:\n",
    "    - `dict.items()`\n",
    "    - `dict.keys()`\n",
    "    - `dict.values()`\n",
    "    - `**dict` vs `*dict`\n",
    "\n",
    "- Retrieving Value:\n",
    "    - `dict.get(k)` vs `dict[k]`\n",
    "\n",
    "- Removing / Extracting Entries\n",
    "    - `dict.pop(k)` vs `del dict[k]`\n",
    "    - `dict.clear()`\n",
    "    \n",
    "- Merging Dictionaries:\n",
    "    - `d1.update(d2)`\n",
    "        - for every (k,v) in d2\"\n",
    "            - if k is NOT in d1, insert (k,v) into d1\n",
    "            - if k IS in d1, updates value of k in d1\n",
    "    - Use `**` operator:\n",
    "        - `combined_d = {**d1,**d2}`\n",
    "    \n",
    "- Updating Dictionaries\n",
    "    - `d1.update(key1=new_value1,new_key2=new_value2)`\n",
    "\n",
    "- Setting Dictionary Values\n",
    "    - `dict[k] = 5`\n",
    "    - `dict.setdefault(k,5)`\n"
   ]
  },
  {
   "cell_type": "markdown",
   "metadata": {
    "hidden": true
   },
   "source": []
  },
  {
   "cell_type": "markdown",
   "metadata": {
    "hidden": true
   },
   "source": [
    "## Decorators with Classes\n",
    "#### Some special decorators used in classes.\n",
    "\n",
    "1. `@staticmethod`:\n",
    "    - Defines a method that does not get passed `self` when its called and can act on external code as if it was a function, not a \"`bound method`\"\n",
    "2. `@classmethod`:\n",
    "    - Specifies a method that should always refer to the default method spelled out in the class definition, NOT the version of it that is stored inside the **instance** of a method.\n",
    "3. `@property`: (see example class `EncryptedPassword` below.)\n",
    "    - Specifies that a function is going to determine the value of the `class.property`:\n",
    "    - Essentially replaces the property name with a getter function to determine that value.\n",
    "    - Use '@property.setter' above another function to define it as the setter function. "
   ]
  },
  {
   "cell_type": "markdown",
   "metadata": {
    "hidden": true
   },
   "source": [
    "### Vocab (completed)"
   ]
  },
  {
   "cell_type": "markdown",
   "metadata": {
    "hidden": true
   },
   "source": [
    "- \"Object\" is an instance of a template class that currently exists in memory\n",
    "- \"Calling\" a function: \n",
    "    - When we use `( )` with a function we are calling it.\n",
    "\n",
    "- **Function:**  Codes that maniuplates data in a useful way. \n",
    "\n",
    "- Parameters: the defined data/varaibles that are passed accepted by a function\n",
    "- Argument: the actual variable/value passed in for a parameter\n",
    "- Positional Argument:\n",
    "    - The first arguments required\n",
    "    - their id is determined by their order\n",
    "- Keyword/default Arguments:\n",
    "    - arugments that have a defined default value\n",
    "    - must come after positional arguments\n",
    "\n",
    "<br><br>\n",
    "- **Class:** Template/blue print.\n",
    "- Instance: Ab object built from the class blueprint\n",
    "- Attribute: A variable stored inside an object. \n",
    "- Method: Functions are stored inside an object.\n",
    "    - Objects always pass themselves into a method, so we used `self` to account for this.\n",
    "- Private Attributes/Methods: they start with _ and are hidden from the user. They can be updated using getting and setting functions.\n",
    "- Getters/Setters:\n",
    "    - Methods for retreiving or changing private attributes\n",
    "\n",
    "- Object: \n",
    "\n",
    "- \"dunders\" = double underscores __ "
   ]
  },
  {
   "cell_type": "code",
   "execution_count": 1,
   "metadata": {
    "ExecuteTime": {
     "end_time": "2020-09-09T15:38:25.322359Z",
     "start_time": "2020-09-09T15:38:25.319300Z"
    },
    "hidden": true
   },
   "outputs": [],
   "source": [
    "# class Car():\n",
    "#     \"\"\"Automotive object\"\"\"\n",
    "#     ## Attributes\n",
    "#     moving = False\n",
    "\n",
    "#     ## Methods\n",
    "#     def __init__(self,wheels=4,doors=4):\n",
    "#         self.wheels = wheels\n",
    "#         self.doors = doors\n",
    "    \n",
    "    \n",
    "#     def go(self):                   # These are methods we can call on *any* car.\n",
    "#         print('It\\'s going!')\n",
    "#         self.moving = True\n",
    "    \n",
    "#     def stop(self):\n",
    "#         print('Stopped.')\n",
    "#         self.moving = False\n",
    "        \n",
    "#     def __repr__(self):\n",
    "#         info = [f\"- Wheels: {self.wheels}\"]\n",
    "#         info.append(f\"- Doors: {self.doors}\")\n",
    "#         info.append(f\"- Moving?: {self.moving}\")\n",
    "#         return '\\n'.join(info)\n",
    "    \n",
    "#     def __str__(self):\n",
    "#         return f\"\"\"- This car has {self.wheels} wheels, {self.doors} doors, and moving = {self.moving}\"\"\""
   ]
  },
  {
   "cell_type": "markdown",
   "metadata": {
    "hidden": true
   },
   "source": [
    "## Activity Option 2: OutlierRemover"
   ]
  },
  {
   "cell_type": "code",
   "execution_count": null,
   "metadata": {
    "ExecuteTime": {
     "end_time": "2020-09-09T15:14:20.247530Z",
     "start_time": "2020-09-09T15:14:19.752320Z"
    },
    "hidden": true
   },
   "outputs": [],
   "source": [
    "from fsds.imports import *\n",
    "df = fs.datasets.load_mod1_proj(read_csv_kwds={'na_values':'?'})\n",
    "# keep_cols = ['price','bedrooms','bathrooms','sqft_living']\n",
    "drop_cols= ['id','lat','long','date']\n",
    "df = df.drop(columns=drop_cols)\n",
    "df.head()"
   ]
  },
  {
   "cell_type": "code",
   "execution_count": null,
   "metadata": {
    "ExecuteTime": {
     "end_time": "2020-09-09T15:14:20.321240Z",
     "start_time": "2020-09-09T15:14:20.249371Z"
    },
    "hidden": true
   },
   "outputs": [],
   "source": [
    "df.describe().round()"
   ]
  },
  {
   "cell_type": "code",
   "execution_count": null,
   "metadata": {
    "ExecuteTime": {
     "end_time": "2020-09-09T15:14:20.326869Z",
     "start_time": "2020-09-09T15:14:20.322964Z"
    },
    "hidden": true
   },
   "outputs": [],
   "source": [
    "from scipy import stats\n",
    "def find_outliers_z(data):\n",
    "    \"\"\"Finds outliers using the z-score rule with a cutoff of 3.\n",
    "    Returns a T/F for every row if > 3 z-scores away from the mean.\"\"\"\n",
    "    z_data = np.abs(stats.zscore(data))\n",
    "    idx_outliers = z_data > 3\n",
    "    return idx_outliers\n",
    "\n",
    "def find_outliers_IQR(data):\n",
    "    \"\"\"Finds outliers using the IQR threshold removal method.\n",
    "    Returns a T/F for every row if:\n",
    "    - data is less than  1.5 * IQR  below Q1\n",
    "    - OR data is more than  1.5 * IQR  above Q3\"\"\"\n",
    "    q1 = np.quantile(data,.25)\n",
    "    q3 = np.quantile(data,.75)\n",
    "    IQR_threshold = (q3-q1) * 1.5\n",
    "    idx_outliers = (data < q1-IQR_threshold) | (data>q3+IQR_threshold)\n",
    "    return idx_outliers"
   ]
  },
  {
   "cell_type": "code",
   "execution_count": null,
   "metadata": {
    "ExecuteTime": {
     "end_time": "2020-09-09T15:14:20.335202Z",
     "start_time": "2020-09-09T15:14:20.328568Z"
    },
    "hidden": true
   },
   "outputs": [],
   "source": [
    "print(find_outliers_z(df['price']).sum())\n",
    "find_outliers_IQR(df['price']).sum()"
   ]
  },
  {
   "cell_type": "code",
   "execution_count": null,
   "metadata": {
    "ExecuteTime": {
     "end_time": "2020-09-09T15:14:20.344334Z",
     "start_time": "2020-09-09T15:14:20.336868Z"
    },
    "hidden": true
   },
   "outputs": [],
   "source": [
    "class OutlierRemover():\n",
    "    def __init__(self,method='z'):\n",
    "        self.method = method\n",
    "        \n",
    "        # Setting the Method for Removal\n",
    "        if self.method.lower() == 'z':\n",
    "            outlier_func = self._find_outliers_z\n",
    "            \n",
    "        elif self.method.lower()=='iqr': \n",
    "            outlier_func = self._find_outliers_IQR\n",
    "            \n",
    "        else:\n",
    "            raise Exception(f\"Unknown outlier removal method: {self.method}\")\n",
    "            \n",
    "        self.find_outliers = outlier_func\n",
    "        \n",
    "    \n",
    "    def _find_outliers_z(self,data):\n",
    "        \"\"\"Finds outliers using the z-score rule with a cutoff of 3.\n",
    "        Returns a T/F for every row if > 3 z-scores away from the mean.\"\"\"\n",
    "        z_data = np.abs(stats.zscore(data))\n",
    "        idx_outliers = z_data > 3\n",
    "        return idx_outliers\n",
    "\n",
    "    def _find_outliers_IQR(self,data):\n",
    "        \"\"\"Finds outliers using the IQR threshold removal method.\n",
    "        Returns a T/F for every row if:\n",
    "        - data is less than  1.5 * IQR  below Q1\n",
    "        - OR data is more than  1.5 * IQR  above Q3\"\"\"\n",
    "        q1 = np.quantile(data,.25)\n",
    "        q3 = np.quantile(data,.75)\n",
    "        IQR_threshold = (q3-q1) * 1.5\n",
    "        idx_outliers = (data < q1-IQR_threshold) | (data>q3+IQR_threshold)\n",
    "        return idx_outliers\n",
    "    \n",
    "    def get_outliers(self,data,columns=None):\n",
    "        if columns is None:\n",
    "            columns = data.columns\n",
    "            \n",
    "        outliers = {}\n",
    "        for col in columns:\n",
    "            outliers[col] = self.find_outliers(data[col])\n",
    "        setattr(self,'outlier_df',pd.DataFrame(outliers, index=data.index))\n",
    "#         self.outlier_df = pd.DataFrame(outliers, index=data.index)\n",
    "        setattr(self,'outlier_index',self.outlier_df.any(axis=1))\n",
    "        return outliers\n",
    "    \n",
    "    def \n",
    "    \n"
   ]
  },
  {
   "cell_type": "code",
   "execution_count": null,
   "metadata": {
    "ExecuteTime": {
     "end_time": "2020-09-09T15:14:20.345829Z",
     "start_time": "2020-09-09T15:14:03.504Z"
    },
    "hidden": true
   },
   "outputs": [],
   "source": [
    "remover = OutlierRemover()\n",
    "remover.get_outliers(df)\n",
    "remover"
   ]
  },
  {
   "cell_type": "code",
   "execution_count": null,
   "metadata": {
    "ExecuteTime": {
     "end_time": "2020-09-09T15:14:20.347054Z",
     "start_time": "2020-09-09T15:14:03.510Z"
    },
    "hidden": true
   },
   "outputs": [],
   "source": [
    "help(remover)"
   ]
  },
  {
   "cell_type": "code",
   "execution_count": null,
   "metadata": {
    "ExecuteTime": {
     "end_time": "2020-09-09T15:14:20.348129Z",
     "start_time": "2020-09-09T15:14:03.518Z"
    },
    "hidden": true
   },
   "outputs": [],
   "source": [
    "df[remover.outlier_index].boxplot()"
   ]
  },
  {
   "cell_type": "code",
   "execution_count": null,
   "metadata": {
    "ExecuteTime": {
     "end_time": "2020-09-09T15:14:20.349211Z",
     "start_time": "2020-09-09T15:14:03.524Z"
    },
    "hidden": true
   },
   "outputs": [],
   "source": [
    "df[~remover.outlier_index].boxplot()"
   ]
  },
  {
   "cell_type": "code",
   "execution_count": null,
   "metadata": {
    "ExecuteTime": {
     "end_time": "2020-09-09T15:14:20.350159Z",
     "start_time": "2020-09-09T15:14:03.532Z"
    },
    "hidden": true
   },
   "outputs": [],
   "source": [
    "# class OutlierRemover():\n",
    "#     def __init__(self,method='z'):\n",
    "#         self.method = method\n",
    "    \n",
    "\n",
    "        \n",
    "#     def _find_outliers_z(self,data=None):\n",
    "#         \"\"\"Finds outliers using the z-score rule with a cutoff of 3.\n",
    "#         Returns a T/F for every row if > 3 z-scores away from the mean.\"\"\"\n",
    "#         if data is None:\n",
    "#             data = self.data\n",
    "#         z_data = np.abs(stats.zscore(data))\n",
    "#         idx_outliers = z_data > 3\n",
    "#         return idx_outliers\n",
    "        \n",
    "    \n",
    "#     def _find_outliers_IQR(self,data=None):\n",
    "#         \"\"\"Finds outliers using the IQR threshold removal method.\n",
    "#         Returns a T/F for every row if:\n",
    "#         - data is less than  1.5 * IQR  below Q1\n",
    "#         - OR data is more than  1.5 * IQR  above Q3\"\"\"\n",
    "#         if data is None:\n",
    "#             data = self.data\n",
    "#         q1 = np.quantile(data,.25)\n",
    "#         q3 = np.quantile(data,.75)\n",
    "#         IQR_threshold = (q3-q1) * 1.5\n",
    "#         idx_outliers = (data < q1-IQR_threshold) | (data>q3+IQR_threshold)\n",
    "#         return idx_outliers\n",
    "    \n",
    "    \n",
    "#     def fit(self,df,columns=None):\n",
    "#         ## Save data\n",
    "#         self.data = df.copy()\n",
    "        \n",
    "#         ## Columns List\n",
    "#         if columns is None:\n",
    "#             columns = df.columns.tolist()\n",
    "            \n",
    "#         ## Setting the Method for Removal\n",
    "#         if self.method.lower() == 'z':\n",
    "#             outlier_func = self._find_outliers_z\n",
    "            \n",
    "#         elif self.method.lower()=='iqr': \n",
    "#             outlier_func = self._find_outliers_IQR\n",
    "#         else:\n",
    "#             raise Exception(f\"Unknown outlier removal method: {self.method}\")\n",
    "\n",
    "#         ## Empty dict of outliers\n",
    "#         outliers = {}\n",
    "#         for col in columns:\n",
    "#             outliers[col] = pd.Series(outlier_func(self.data[col]),\n",
    "#                                       index=df.index)\n",
    "        \n",
    "#         ## Calc all outliers.\n",
    "#         outliers_df = pd.DataFrame(outliers,index=df.index)#,columns=columns)\n",
    "#         outliers_df['total'] = outliers_df.any(axis=1)\n",
    "#         self.index = outliers_df['total']\n",
    "        \n",
    "#         self.outliers = outliers            \n",
    "#         self.outliers_df = outliers_df\n",
    "        \n",
    "        \n",
    "#     def transform(self):\n",
    "#         return self.data[~self.index]\n",
    "\n",
    "\n",
    "# remover = OutlierRemover()\n",
    "# remover.fit(df)\n",
    "# remover#outliers['price']\n",
    "# # df[remover.outliers['price']]\n",
    "        "
   ]
  },
  {
   "cell_type": "code",
   "execution_count": null,
   "metadata": {
    "ExecuteTime": {
     "end_time": "2020-09-09T15:14:20.351141Z",
     "start_time": "2020-09-09T15:14:03.540Z"
    },
    "hidden": true
   },
   "outputs": [],
   "source": [
    "# class OutlierRemover():\n",
    "#     def __init__(self,method='z'):\n",
    "#         self.method = method\n",
    "    \n",
    "\n",
    "        \n",
    "#     def _find_outliers_z(self,data=None):\n",
    "#         \"\"\"Finds outliers using the z-score rule with a cutoff of 3.\n",
    "#         Returns a T/F for every row if > 3 z-scores away from the mean.\"\"\"\n",
    "#         if data is None:\n",
    "#             data = self.data\n",
    "#         z_data = np.abs(stats.zscore(data))\n",
    "#         idx_outliers = z_data > 3\n",
    "#         return idx_outliers\n",
    "        \n",
    "    \n",
    "#     def _find_outliers_IQR(self,data=None):\n",
    "#         \"\"\"Finds outliers using the IQR threshold removal method.\n",
    "#         Returns a T/F for every row if:\n",
    "#         - data is less than  1.5 * IQR  below Q1\n",
    "#         - OR data is more than  1.5 * IQR  above Q3\"\"\"\n",
    "#         if data is None:\n",
    "#             data = self.data\n",
    "#         q1 = np.quantile(data,.25)\n",
    "#         q3 = np.quantile(data,.75)\n",
    "#         IQR_threshold = (q3-q1) * 1.5\n",
    "#         idx_outliers = (data < q1-IQR_threshold) | (data>q3+IQR_threshold)\n",
    "#         return idx_outliers\n",
    "    \n",
    "    \n",
    "#     def fit(self,df,columns=None):\n",
    "#         ## Save data\n",
    "#         self.data = df.copy()\n",
    "        \n",
    "#         ## Columns List\n",
    "#         if columns is None:\n",
    "#             columns = df.columns.tolist()\n",
    "            \n",
    "#         ## Setting the Method for Removal\n",
    "#         if self.method.lower() == 'z':\n",
    "#             outlier_func = self._find_outliers_z\n",
    "            \n",
    "#         elif self.method.lower()=='iqr': \n",
    "#             outlier_func = self._find_outliers_IQR\n",
    "#         else:\n",
    "#             raise Exception(f\"Unknown outlier removal method: {self.method}\")\n",
    "\n",
    "#         ## Empty dict of outliers\n",
    "#         outliers = {}\n",
    "#         for col in columns:\n",
    "#             outliers[col] = pd.Series(outlier_func(self.data[col]),\n",
    "#                                       index=df.index)\n",
    "        \n",
    "#         ## Calc all outliers.\n",
    "#         outliers_df = pd.DataFrame(outliers,index=df.index)#,columns=columns)\n",
    "#         outliers_df['total'] = outliers_df.any(axis=1)\n",
    "#         self.index = outliers_df['total']\n",
    "        \n",
    "#         self.outliers = outliers            \n",
    "#         self.outliers_df = outliers_df\n",
    "        \n",
    "        \n",
    "#     def transform(self):\n",
    "#         return self.data[~self.index]\n",
    "# #     def find_outliers(self,remove_from=None):\n",
    "# #         if remove_from is None:\n",
    "# #             remove_from = self.columns\n",
    "        \n",
    "# #         if self.method.lower() == 'z':\n",
    "# #             outlier_func = self._find_outliers_z\n",
    "# #         else: \n",
    "# #             outlier_func = self._find_outliers_IQR\n",
    "\n",
    "# #         idx_outliers = {}\n",
    "# #         for col in remove_from:\n",
    "# #             idx_outliers[col] = outlier_func(self.data[col])\n",
    "\n",
    "# #         self.index = idx_outliers\n",
    "\n",
    "# remover = OutlierRemover()\n",
    "# remover.fit(df)\n",
    "# remover#outliers['price']\n",
    "# # df[remover.outliers['price']]\n",
    "        "
   ]
  },
  {
   "cell_type": "code",
   "execution_count": null,
   "metadata": {
    "ExecuteTime": {
     "end_time": "2020-09-09T15:14:20.352063Z",
     "start_time": "2020-09-09T15:14:03.548Z"
    },
    "hidden": true
   },
   "outputs": [],
   "source": [
    "# df[remover.index]"
   ]
  },
  {
   "cell_type": "code",
   "execution_count": null,
   "metadata": {
    "ExecuteTime": {
     "end_time": "2020-09-09T15:14:20.353036Z",
     "start_time": "2020-09-09T15:14:03.554Z"
    },
    "hidden": true
   },
   "outputs": [],
   "source": [
    "# remover.transform()"
   ]
  },
  {
   "cell_type": "code",
   "execution_count": null,
   "metadata": {
    "ExecuteTime": {
     "end_time": "2020-09-09T15:14:20.354051Z",
     "start_time": "2020-09-09T15:14:03.563Z"
    },
    "hidden": true
   },
   "outputs": [],
   "source": [
    "remover = OutlierRemover(df)\n",
    "# remover.find_outliers()\n",
    "# remover.index"
   ]
  },
  {
   "cell_type": "code",
   "execution_count": null,
   "metadata": {
    "hidden": true
   },
   "outputs": [],
   "source": []
  }
 ],
 "metadata": {
  "kernelspec": {
   "display_name": "learn-env",
   "language": "python",
   "name": "learn-env"
  },
  "language_info": {
   "codemirror_mode": {
    "name": "ipython",
    "version": 3
   },
   "file_extension": ".py",
   "mimetype": "text/x-python",
   "name": "python",
   "nbconvert_exporter": "python",
   "pygments_lexer": "ipython3",
   "version": "3.6.11"
  },
  "toc": {
   "base_numbering": 1,
   "nav_menu": {},
   "number_sections": false,
   "sideBar": true,
   "skip_h1_title": false,
   "title_cell": "Table of Contents",
   "title_sidebar": "Contents",
   "toc_cell": false,
   "toc_position": {
    "height": "calc(100% - 180px)",
    "left": "10px",
    "top": "150px",
    "width": "255.994px"
   },
   "toc_section_display": true,
   "toc_window_display": true
  }
 },
 "nbformat": 4,
 "nbformat_minor": 2
}
