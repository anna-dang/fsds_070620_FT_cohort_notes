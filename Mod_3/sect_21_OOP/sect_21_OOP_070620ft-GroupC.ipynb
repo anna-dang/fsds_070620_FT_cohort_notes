{
 "cells": [
  {
   "cell_type": "markdown",
   "metadata": {},
   "source": [
    "# Sect 21: Object-Oriented Programming "
   ]
  },
  {
   "cell_type": "markdown",
   "metadata": {},
   "source": [
    "- online-ds-ft-070620\n",
    "- 09/09/20"
   ]
  },
  {
   "cell_type": "markdown",
   "metadata": {},
   "source": [
    "## Questions?\n"
   ]
  },
  {
   "cell_type": "markdown",
   "metadata": {},
   "source": [
    "- [Inheritance Lab](https://learn.co/tracks/module-3-data-science-career-2-1/appendix/more-oop/inheritance-lab) \n",
    "    - why do only some of the parameters in the animal class go here: def __init__(self, name, weight):\n",
    "\n",
    "- When to create a class vs. when to just write functions?\n"
   ]
  },
  {
   "cell_type": "markdown",
   "metadata": {},
   "source": [
    "## Topics"
   ]
  },
  {
   "cell_type": "markdown",
   "metadata": {
    "ExecuteTime": {
     "end_time": "2020-03-04T22:48:55.304853Z",
     "start_time": "2020-03-04T22:48:55.299479Z"
    }
   },
   "source": [
    "- **OOP-Vocabulary**\n",
    "- **Defining/Initializing Classes**\n",
    "- **Inspecting classes:**\n",
    "    - `help(obj)` vs `dir(obj)`\n",
    "    \n",
    "- **Deeper dive into Classes/Objects**\n",
    "    - special methods/properties (`__repr__(),__str__(),__call__(),__version__(),__name__()`)\n",
    "    - Methods: vs Bound Methods vs Static Methods "
   ]
  },
  {
   "cell_type": "markdown",
   "metadata": {},
   "source": [
    "# What does it mean to be 'Object-Oriented'?\n",
    "\n",
    "> ### ___\"Everything is an object.\"___\n",
    "- some Python sensei\n"
   ]
  },
  {
   "cell_type": "code",
   "execution_count": 7,
   "metadata": {},
   "outputs": [
    {
     "data": {
      "text/plain": [
       "int"
      ]
     },
     "execution_count": 7,
     "metadata": {},
     "output_type": "execute_result"
    }
   ],
   "source": [
    "type(13)"
   ]
  },
  {
   "cell_type": "code",
   "execution_count": 8,
   "metadata": {
    "ExecuteTime": {
     "end_time": "2020-09-09T15:14:02.996042Z",
     "start_time": "2020-09-09T15:14:02.986791Z"
    }
   },
   "outputs": [
    {
     "data": {
      "text/plain": [
       "13"
      ]
     },
     "execution_count": 8,
     "metadata": {},
     "output_type": "execute_result"
    }
   ],
   "source": [
    "var = 13\n",
    "var"
   ]
  },
  {
   "cell_type": "code",
   "execution_count": 9,
   "metadata": {
    "ExecuteTime": {
     "end_time": "2020-09-09T15:14:03.001052Z",
     "start_time": "2020-09-09T15:14:02.997927Z"
    }
   },
   "outputs": [
    {
     "data": {
      "text/plain": [
       "int"
      ]
     },
     "execution_count": 9,
     "metadata": {},
     "output_type": "execute_result"
    }
   ],
   "source": [
    "type(var)"
   ]
  },
  {
   "cell_type": "code",
   "execution_count": 10,
   "metadata": {
    "ExecuteTime": {
     "end_time": "2020-09-09T15:14:03.020445Z",
     "start_time": "2020-09-09T15:14:03.005285Z"
    }
   },
   "outputs": [
    {
     "name": "stdout",
     "output_type": "stream",
     "text": [
      "Help on class int in module builtins:\n",
      "\n",
      "class int(object)\n",
      " |  int(x=0) -> integer\n",
      " |  int(x, base=10) -> integer\n",
      " |  \n",
      " |  Convert a number or string to an integer, or return 0 if no arguments\n",
      " |  are given.  If x is a number, return x.__int__().  For floating point\n",
      " |  numbers, this truncates towards zero.\n",
      " |  \n",
      " |  If x is not a number or if base is given, then x must be a string,\n",
      " |  bytes, or bytearray instance representing an integer literal in the\n",
      " |  given base.  The literal can be preceded by '+' or '-' and be surrounded\n",
      " |  by whitespace.  The base defaults to 10.  Valid bases are 0 and 2-36.\n",
      " |  Base 0 means to interpret the base from the string as an integer literal.\n",
      " |  >>> int('0b100', base=0)\n",
      " |  4\n",
      " |  \n",
      " |  Methods defined here:\n",
      " |  \n",
      " |  __abs__(self, /)\n",
      " |      abs(self)\n",
      " |  \n",
      " |  __add__(self, value, /)\n",
      " |      Return self+value.\n",
      " |  \n",
      " |  __and__(self, value, /)\n",
      " |      Return self&value.\n",
      " |  \n",
      " |  __bool__(self, /)\n",
      " |      self != 0\n",
      " |  \n",
      " |  __ceil__(...)\n",
      " |      Ceiling of an Integral returns itself.\n",
      " |  \n",
      " |  __divmod__(self, value, /)\n",
      " |      Return divmod(self, value).\n",
      " |  \n",
      " |  __eq__(self, value, /)\n",
      " |      Return self==value.\n",
      " |  \n",
      " |  __float__(self, /)\n",
      " |      float(self)\n",
      " |  \n",
      " |  __floor__(...)\n",
      " |      Flooring an Integral returns itself.\n",
      " |  \n",
      " |  __floordiv__(self, value, /)\n",
      " |      Return self//value.\n",
      " |  \n",
      " |  __format__(...)\n",
      " |      default object formatter\n",
      " |  \n",
      " |  __ge__(self, value, /)\n",
      " |      Return self>=value.\n",
      " |  \n",
      " |  __getattribute__(self, name, /)\n",
      " |      Return getattr(self, name).\n",
      " |  \n",
      " |  __getnewargs__(...)\n",
      " |  \n",
      " |  __gt__(self, value, /)\n",
      " |      Return self>value.\n",
      " |  \n",
      " |  __hash__(self, /)\n",
      " |      Return hash(self).\n",
      " |  \n",
      " |  __index__(self, /)\n",
      " |      Return self converted to an integer, if self is suitable for use as an index into a list.\n",
      " |  \n",
      " |  __int__(self, /)\n",
      " |      int(self)\n",
      " |  \n",
      " |  __invert__(self, /)\n",
      " |      ~self\n",
      " |  \n",
      " |  __le__(self, value, /)\n",
      " |      Return self<=value.\n",
      " |  \n",
      " |  __lshift__(self, value, /)\n",
      " |      Return self<<value.\n",
      " |  \n",
      " |  __lt__(self, value, /)\n",
      " |      Return self<value.\n",
      " |  \n",
      " |  __mod__(self, value, /)\n",
      " |      Return self%value.\n",
      " |  \n",
      " |  __mul__(self, value, /)\n",
      " |      Return self*value.\n",
      " |  \n",
      " |  __ne__(self, value, /)\n",
      " |      Return self!=value.\n",
      " |  \n",
      " |  __neg__(self, /)\n",
      " |      -self\n",
      " |  \n",
      " |  __new__(*args, **kwargs) from builtins.type\n",
      " |      Create and return a new object.  See help(type) for accurate signature.\n",
      " |  \n",
      " |  __or__(self, value, /)\n",
      " |      Return self|value.\n",
      " |  \n",
      " |  __pos__(self, /)\n",
      " |      +self\n",
      " |  \n",
      " |  __pow__(self, value, mod=None, /)\n",
      " |      Return pow(self, value, mod).\n",
      " |  \n",
      " |  __radd__(self, value, /)\n",
      " |      Return value+self.\n",
      " |  \n",
      " |  __rand__(self, value, /)\n",
      " |      Return value&self.\n",
      " |  \n",
      " |  __rdivmod__(self, value, /)\n",
      " |      Return divmod(value, self).\n",
      " |  \n",
      " |  __repr__(self, /)\n",
      " |      Return repr(self).\n",
      " |  \n",
      " |  __rfloordiv__(self, value, /)\n",
      " |      Return value//self.\n",
      " |  \n",
      " |  __rlshift__(self, value, /)\n",
      " |      Return value<<self.\n",
      " |  \n",
      " |  __rmod__(self, value, /)\n",
      " |      Return value%self.\n",
      " |  \n",
      " |  __rmul__(self, value, /)\n",
      " |      Return value*self.\n",
      " |  \n",
      " |  __ror__(self, value, /)\n",
      " |      Return value|self.\n",
      " |  \n",
      " |  __round__(...)\n",
      " |      Rounding an Integral returns itself.\n",
      " |      Rounding with an ndigits argument also returns an integer.\n",
      " |  \n",
      " |  __rpow__(self, value, mod=None, /)\n",
      " |      Return pow(value, self, mod).\n",
      " |  \n",
      " |  __rrshift__(self, value, /)\n",
      " |      Return value>>self.\n",
      " |  \n",
      " |  __rshift__(self, value, /)\n",
      " |      Return self>>value.\n",
      " |  \n",
      " |  __rsub__(self, value, /)\n",
      " |      Return value-self.\n",
      " |  \n",
      " |  __rtruediv__(self, value, /)\n",
      " |      Return value/self.\n",
      " |  \n",
      " |  __rxor__(self, value, /)\n",
      " |      Return value^self.\n",
      " |  \n",
      " |  __sizeof__(...)\n",
      " |      Returns size in memory, in bytes\n",
      " |  \n",
      " |  __str__(self, /)\n",
      " |      Return str(self).\n",
      " |  \n",
      " |  __sub__(self, value, /)\n",
      " |      Return self-value.\n",
      " |  \n",
      " |  __truediv__(self, value, /)\n",
      " |      Return self/value.\n",
      " |  \n",
      " |  __trunc__(...)\n",
      " |      Truncating an Integral returns itself.\n",
      " |  \n",
      " |  __xor__(self, value, /)\n",
      " |      Return self^value.\n",
      " |  \n",
      " |  bit_length(...)\n",
      " |      int.bit_length() -> int\n",
      " |      \n",
      " |      Number of bits necessary to represent self in binary.\n",
      " |      >>> bin(37)\n",
      " |      '0b100101'\n",
      " |      >>> (37).bit_length()\n",
      " |      6\n",
      " |  \n",
      " |  conjugate(...)\n",
      " |      Returns self, the complex conjugate of any int.\n",
      " |  \n",
      " |  from_bytes(...) from builtins.type\n",
      " |      int.from_bytes(bytes, byteorder, *, signed=False) -> int\n",
      " |      \n",
      " |      Return the integer represented by the given array of bytes.\n",
      " |      \n",
      " |      The bytes argument must be a bytes-like object (e.g. bytes or bytearray).\n",
      " |      \n",
      " |      The byteorder argument determines the byte order used to represent the\n",
      " |      integer.  If byteorder is 'big', the most significant byte is at the\n",
      " |      beginning of the byte array.  If byteorder is 'little', the most\n",
      " |      significant byte is at the end of the byte array.  To request the native\n",
      " |      byte order of the host system, use `sys.byteorder' as the byte order value.\n",
      " |      \n",
      " |      The signed keyword-only argument indicates whether two's complement is\n",
      " |      used to represent the integer.\n",
      " |  \n",
      " |  to_bytes(...)\n",
      " |      int.to_bytes(length, byteorder, *, signed=False) -> bytes\n",
      " |      \n",
      " |      Return an array of bytes representing an integer.\n",
      " |      \n",
      " |      The integer is represented using length bytes.  An OverflowError is\n",
      " |      raised if the integer is not representable with the given number of\n",
      " |      bytes.\n",
      " |      \n",
      " |      The byteorder argument determines the byte order used to represent the\n",
      " |      integer.  If byteorder is 'big', the most significant byte is at the\n",
      " |      beginning of the byte array.  If byteorder is 'little', the most\n",
      " |      significant byte is at the end of the byte array.  To request the native\n",
      " |      byte order of the host system, use `sys.byteorder' as the byte order value.\n",
      " |      \n",
      " |      The signed keyword-only argument determines whether two's complement is\n",
      " |      used to represent the integer.  If signed is False and a negative integer\n",
      " |      is given, an OverflowError is raised.\n",
      " |  \n",
      " |  ----------------------------------------------------------------------\n",
      " |  Data descriptors defined here:\n",
      " |  \n",
      " |  denominator\n",
      " |      the denominator of a rational number in lowest terms\n",
      " |  \n",
      " |  imag\n",
      " |      the imaginary part of a complex number\n",
      " |  \n",
      " |  numerator\n",
      " |      the numerator of a rational number in lowest terms\n",
      " |  \n",
      " |  real\n",
      " |      the real part of a complex number\n",
      "\n"
     ]
    }
   ],
   "source": [
    "help(int)"
   ]
  },
  {
   "cell_type": "code",
   "execution_count": 11,
   "metadata": {
    "ExecuteTime": {
     "end_time": "2020-09-09T15:14:03.025838Z",
     "start_time": "2020-09-09T15:14:03.022509Z"
    }
   },
   "outputs": [
    {
     "data": {
      "text/plain": [
       "13"
      ]
     },
     "execution_count": 11,
     "metadata": {},
     "output_type": "execute_result"
    }
   ],
   "source": [
    "## Functions are objects too\n",
    "prove_it = max\n",
    "prove_it([0,11,13])"
   ]
  },
  {
   "cell_type": "code",
   "execution_count": 12,
   "metadata": {},
   "outputs": [
    {
     "data": {
      "text/plain": [
       "builtin_function_or_method"
      ]
     },
     "execution_count": 12,
     "metadata": {},
     "output_type": "execute_result"
    }
   ],
   "source": [
    "type(max)"
   ]
  },
  {
   "cell_type": "code",
   "execution_count": 13,
   "metadata": {
    "ExecuteTime": {
     "end_time": "2020-09-09T15:14:03.030964Z",
     "start_time": "2020-09-09T15:14:03.027935Z"
    }
   },
   "outputs": [
    {
     "data": {
      "text/plain": [
       "builtin_function_or_method"
      ]
     },
     "execution_count": 13,
     "metadata": {},
     "output_type": "execute_result"
    }
   ],
   "source": [
    "type(prove_it)"
   ]
  },
  {
   "cell_type": "markdown",
   "metadata": {},
   "source": [
    "# OOP VOCABULARY\n"
   ]
  },
  {
   "cell_type": "code",
   "execution_count": 14,
   "metadata": {},
   "outputs": [],
   "source": [
    "def my_func(param1,param2,param3='red'):\n",
    "    pass"
   ]
  },
  {
   "cell_type": "code",
   "execution_count": 15,
   "metadata": {},
   "outputs": [],
   "source": [
    "new_name = my_func"
   ]
  },
  {
   "cell_type": "code",
   "execution_count": 16,
   "metadata": {},
   "outputs": [
    {
     "ename": "TypeError",
     "evalue": "my_func() missing 2 required positional arguments: 'param1' and 'param2'",
     "output_type": "error",
     "traceback": [
      "\u001b[0;31m---------------------------------------------------------------------------\u001b[0m",
      "\u001b[0;31mTypeError\u001b[0m                                 Traceback (most recent call last)",
      "\u001b[0;32m<ipython-input-16-db3ada79940f>\u001b[0m in \u001b[0;36m<module>\u001b[0;34m\u001b[0m\n\u001b[0;32m----> 1\u001b[0;31m \u001b[0mmy_func\u001b[0m\u001b[0;34m(\u001b[0m\u001b[0;34m)\u001b[0m\u001b[0;34m\u001b[0m\u001b[0;34m\u001b[0m\u001b[0m\n\u001b[0m",
      "\u001b[0;31mTypeError\u001b[0m: my_func() missing 2 required positional arguments: 'param1' and 'param2'"
     ]
    }
   ],
   "source": [
    "my_func()"
   ]
  },
  {
   "cell_type": "markdown",
   "metadata": {
    "ExecuteTime": {
     "end_time": "2020-03-04T22:50:13.264632Z",
     "start_time": "2020-03-04T22:50:13.257093Z"
    }
   },
   "source": [
    "**VOCAB RELATED TO FUNCTIONS : (Now)**\n",
    "- **Function: reusable,structured, flexible block of code**  \n",
    "\n",
    "    - Parameters: \n",
    "    - Argument: \n",
    "        - Positional Argument:\n",
    "        - Keyword/default Arguments:\n",
    "\n",
    "- \"Calling\" a function: \n",
    "\n",
    "<br><br>\n",
    "\n",
    "**VOCAB RELATED TO CLASSES: (Return as we go)**\n",
    "- \"Object\": \n",
    "- **Class:** \n",
    "- Instance: \n",
    "- Attribute:\n",
    "- Method:\n",
    "- Private Attributes/Methods: \n",
    "- Getters/Setters:\n",
    "\n",
    "\n",
    "- Object: \n",
    "\n",
    "- \"dunders\" = double underscores __ "
   ]
  },
  {
   "cell_type": "markdown",
   "metadata": {},
   "source": [
    "# Defining and Initializing Classes\n"
   ]
  },
  {
   "cell_type": "markdown",
   "metadata": {},
   "source": [
    "- Use `class NewClassName():` like you use `def function_name():` for functions.\n",
    "    - the `()` are optional for classes. (used to inherit other classes, more on that later)"
   ]
  },
  {
   "cell_type": "markdown",
   "metadata": {},
   "source": [
    "#### Naming Classes\n",
    "    \n",
    "- Convention for naming classes = `UpperCamelCase`\n",
    "- Convention for naming function = `snake_case`"
   ]
  },
  {
   "cell_type": "code",
   "execution_count": null,
   "metadata": {
    "ExecuteTime": {
     "end_time": "2020-09-09T15:14:03.036264Z",
     "start_time": "2020-09-09T15:14:03.034010Z"
    }
   },
   "outputs": [],
   "source": [
    "## Bare minimum to define a class.\n",
    "class Car:\n",
    "    pass"
   ]
  },
  {
   "cell_type": "code",
   "execution_count": null,
   "metadata": {
    "ExecuteTime": {
     "end_time": "2020-09-09T15:14:03.040975Z",
     "start_time": "2020-09-09T15:14:03.038074Z"
    }
   },
   "outputs": [],
   "source": [
    "rav4 = Car\n",
    "rav4"
   ]
  },
  {
   "cell_type": "code",
   "execution_count": null,
   "metadata": {
    "ExecuteTime": {
     "end_time": "2020-09-09T15:14:03.048288Z",
     "start_time": "2020-09-09T15:14:03.045183Z"
    }
   },
   "outputs": [],
   "source": [
    "## Instances are made by calling a class\n",
    "rav4 = Car()\n",
    "rav4"
   ]
  },
  {
   "cell_type": "code",
   "execution_count": null,
   "metadata": {
    "ExecuteTime": {
     "end_time": "2020-09-09T15:14:03.055603Z",
     "start_time": "2020-09-09T15:14:03.052616Z"
    }
   },
   "outputs": [],
   "source": [
    "type(rav4)"
   ]
  },
  {
   "cell_type": "code",
   "execution_count": null,
   "metadata": {
    "ExecuteTime": {
     "end_time": "2020-09-09T15:14:03.062763Z",
     "start_time": "2020-09-09T15:14:03.059903Z"
    }
   },
   "outputs": [],
   "source": [
    "## Instances are NOT == the Class\n",
    "rav4==Car"
   ]
  },
  {
   "cell_type": "code",
   "execution_count": null,
   "metadata": {
    "ExecuteTime": {
     "end_time": "2020-09-09T15:14:03.070013Z",
     "start_time": "2020-09-09T15:14:03.067072Z"
    }
   },
   "outputs": [],
   "source": [
    "## But can check if an obj is an instance of Car\n",
    "isinstance(rav4,Car)"
   ]
  },
  {
   "cell_type": "markdown",
   "metadata": {},
   "source": [
    "## Attributes and Methods"
   ]
  },
  {
   "cell_type": "markdown",
   "metadata": {},
   "source": [
    "- Attribute:\n",
    "\n",
    "- Method:"
   ]
  },
  {
   "cell_type": "code",
   "execution_count": null,
   "metadata": {
    "ExecuteTime": {
     "end_time": "2020-09-09T15:14:03.078927Z",
     "start_time": "2020-09-09T15:14:03.075367Z"
    }
   },
   "outputs": [],
   "source": [
    "class Car:\n",
    "    \"\"\"Automotive object\"\"\"\n",
    "    ## Attributes\n",
    "    wheels = 4                     \n",
    "    moving = False\n",
    "    doors = 2\n",
    "    \n",
    "    ## Methods\n",
    "    def go():               \n",
    "        print('It\\'s going!')\n",
    "        moving = True\n",
    "    \n",
    "    def stop():\n",
    "        print('Stopped.')\n",
    "        moving = False"
   ]
  },
  {
   "cell_type": "code",
   "execution_count": null,
   "metadata": {
    "ExecuteTime": {
     "end_time": "2020-09-09T15:14:03.178547Z",
     "start_time": "2020-09-09T15:14:03.083794Z"
    }
   },
   "outputs": [],
   "source": [
    "## Make an instance and run .go(), does it work??\n",
    "rav4 = Car()\n",
    "rav4.go()"
   ]
  },
  {
   "cell_type": "markdown",
   "metadata": {},
   "source": [
    "### Know thy `self`"
   ]
  },
  {
   "cell_type": "markdown",
   "metadata": {},
   "source": [
    "- Because Methods are designed to operate on the `object_its_attached_to`, Python automatically gives every method a copy of instance its attached to, which we call `self`\n",
    "- We have to pass `self` as the first parameter for every method we make.\n",
    "    - `def method(self):`\n",
    "- Otherwise it will think that the first thing we give it is actually itself. This will cause an *existential crisis** and corresponding error."
   ]
  },
  {
   "cell_type": "code",
   "execution_count": null,
   "metadata": {
    "ExecuteTime": {
     "end_time": "2020-09-09T15:14:03.181447Z",
     "start_time": "2020-09-09T15:14:03.092Z"
    }
   },
   "outputs": [],
   "source": [
    "class Car:\n",
    "    \"\"\"Automotive object\"\"\"\n",
    "    ## Attributes\n",
    "    wheels = 4                     \n",
    "    moving = False\n",
    "    doors = 2\n",
    "    \n",
    "    ## Methods\n",
    "    def go(self):                  \n",
    "        print('It\\'s going!')\n",
    "        self.moving = True\n",
    "    \n",
    "    def stop(self):\n",
    "        print('Stopped.')\n",
    "        self.moving = False"
   ]
  },
  {
   "cell_type": "code",
   "execution_count": null,
   "metadata": {
    "ExecuteTime": {
     "end_time": "2020-09-09T15:14:03.182642Z",
     "start_time": "2020-09-09T15:14:03.098Z"
    }
   },
   "outputs": [],
   "source": [
    "rav4 = Car()\n",
    "rav4.go()"
   ]
  },
  {
   "cell_type": "markdown",
   "metadata": {},
   "source": [
    "## Initialization \n"
   ]
  },
  {
   "cell_type": "markdown",
   "metadata": {},
   "source": [
    "- We create an instance by setting a `instance = ClassName()`\n",
    "-  This uses the template `ClassName` to create an instance of the class ( which we named `instance`)"
   ]
  },
  {
   "cell_type": "code",
   "execution_count": 17,
   "metadata": {
    "ExecuteTime": {
     "end_time": "2020-09-09T15:14:03.183662Z",
     "start_time": "2020-09-09T15:14:03.110Z"
    }
   },
   "outputs": [
    {
     "ename": "NameError",
     "evalue": "name 'Car' is not defined",
     "output_type": "error",
     "traceback": [
      "\u001b[0;31m---------------------------------------------------------------------------\u001b[0m",
      "\u001b[0;31mNameError\u001b[0m                                 Traceback (most recent call last)",
      "\u001b[0;32m<ipython-input-17-44fc3fbcdf49>\u001b[0m in \u001b[0;36m<module>\u001b[0;34m\u001b[0m\n\u001b[0;32m----> 1\u001b[0;31m \u001b[0mlamborghini\u001b[0m \u001b[0;34m=\u001b[0m \u001b[0mCar\u001b[0m\u001b[0;34m(\u001b[0m\u001b[0;34m)\u001b[0m\u001b[0;34m\u001b[0m\u001b[0;34m\u001b[0m\u001b[0m\n\u001b[0m\u001b[1;32m      2\u001b[0m \u001b[0mlamborghini\u001b[0m\u001b[0;34m\u001b[0m\u001b[0;34m\u001b[0m\u001b[0m\n",
      "\u001b[0;31mNameError\u001b[0m: name 'Car' is not defined"
     ]
    }
   ],
   "source": [
    "lamborghini = Car()\n",
    "lamborghini"
   ]
  },
  {
   "cell_type": "code",
   "execution_count": null,
   "metadata": {
    "ExecuteTime": {
     "end_time": "2020-09-09T15:14:03.184902Z",
     "start_time": "2020-09-09T15:14:03.116Z"
    }
   },
   "outputs": [],
   "source": [
    "lamborghini.wheels"
   ]
  },
  {
   "cell_type": "code",
   "execution_count": null,
   "metadata": {
    "ExecuteTime": {
     "end_time": "2020-09-09T15:14:03.186040Z",
     "start_time": "2020-09-09T15:14:03.124Z"
    }
   },
   "outputs": [],
   "source": [
    "lamborghini.doors"
   ]
  },
  {
   "cell_type": "code",
   "execution_count": null,
   "metadata": {
    "ExecuteTime": {
     "end_time": "2020-09-09T15:14:03.187107Z",
     "start_time": "2020-09-09T15:14:03.130Z"
    }
   },
   "outputs": [],
   "source": [
    "lamborghini.moving"
   ]
  },
  {
   "cell_type": "code",
   "execution_count": null,
   "metadata": {
    "ExecuteTime": {
     "end_time": "2020-09-09T15:14:03.188221Z",
     "start_time": "2020-09-09T15:14:03.136Z"
    }
   },
   "outputs": [],
   "source": [
    "lamborghini.go()"
   ]
  },
  {
   "cell_type": "code",
   "execution_count": null,
   "metadata": {
    "ExecuteTime": {
     "end_time": "2020-09-09T15:14:03.189373Z",
     "start_time": "2020-09-09T15:14:03.144Z"
    }
   },
   "outputs": [],
   "source": [
    "lamborghini.moving"
   ]
  },
  {
   "cell_type": "code",
   "execution_count": null,
   "metadata": {
    "ExecuteTime": {
     "end_time": "2020-09-09T15:14:03.190462Z",
     "start_time": "2020-09-09T15:14:03.150Z"
    }
   },
   "outputs": [],
   "source": [
    "lamborghini.stop()"
   ]
  },
  {
   "cell_type": "code",
   "execution_count": null,
   "metadata": {
    "ExecuteTime": {
     "end_time": "2020-09-09T15:14:03.191650Z",
     "start_time": "2020-09-09T15:14:03.158Z"
    }
   },
   "outputs": [],
   "source": [
    "lamborghini.moving"
   ]
  },
  {
   "cell_type": "markdown",
   "metadata": {},
   "source": [
    "### `__init__`"
   ]
  },
  {
   "cell_type": "markdown",
   "metadata": {},
   "source": [
    "> - What if we don't want to set the attributes in stone for every Car but want to let the programmer determine that whenever a new Car is made?"
   ]
  },
  {
   "cell_type": "markdown",
   "metadata": {},
   "source": [
    "> - When an instance is `initialized`, we `call` it using `()`, which runs a default `__init__()` method."
   ]
  },
  {
   "cell_type": "code",
   "execution_count": null,
   "metadata": {
    "ExecuteTime": {
     "end_time": "2020-09-09T15:14:03.192793Z",
     "start_time": "2020-09-09T15:14:03.174Z"
    }
   },
   "outputs": [],
   "source": [
    "class Car():\n",
    "    \"\"\"Automotive object\"\"\"\n",
    "    ## Attributes\n",
    "    moving = False\n",
    "\n",
    "    ## Methods\n",
    "    def __init__(self,wheels,doors):\n",
    "        self.wheels = wheels\n",
    "        self.doors = doors\n",
    "    \n",
    "    \n",
    "    def go(self):                   # These are methods we can call on *any* car.\n",
    "        print('It\\'s going!')\n",
    "        self.moving = True\n",
    "    \n",
    "    def stop(self):\n",
    "        print('Stopped.')\n",
    "        self.moving = False"
   ]
  },
  {
   "cell_type": "code",
   "execution_count": null,
   "metadata": {
    "ExecuteTime": {
     "end_time": "2020-09-09T15:14:03.297302Z",
     "start_time": "2020-09-09T15:14:03.295157Z"
    }
   },
   "outputs": [],
   "source": [
    "## We should get an erorr about missing positional arguments\n",
    "lamborghini = Car()"
   ]
  },
  {
   "cell_type": "code",
   "execution_count": null,
   "metadata": {
    "ExecuteTime": {
     "end_time": "2020-09-09T15:14:03.305401Z",
     "start_time": "2020-09-09T15:14:03.299184Z"
    }
   },
   "outputs": [],
   "source": [
    "## We must provide any arguments for __init__ when we create an instance\n",
    "lamborghini = Car(wheels=4,doors=2)\n",
    "print(lamborghini.wheels)\n",
    "lamborghini.doors"
   ]
  },
  {
   "cell_type": "code",
   "execution_count": null,
   "metadata": {
    "ExecuteTime": {
     "end_time": "2020-09-09T15:14:03.307028Z",
     "start_time": "2020-09-09T15:14:03.194Z"
    }
   },
   "outputs": [],
   "source": [
    "rav4 = Car(wheels=4,doors=4)\n",
    "print(rav4.wheels)\n",
    "rav4.doors"
   ]
  },
  {
   "cell_type": "code",
   "execution_count": null,
   "metadata": {},
   "outputs": [],
   "source": [
    "class Car():\n",
    "    \"\"\"Automotive object\"\"\"\n",
    "    ## Attributes\n",
    "    moving = False\n",
    "    wheels = 5\n",
    "\n",
    "    ## Methods\n",
    "    def __init__(self,wheels=4,doors=4):\n",
    "        self.wheels = wheels\n",
    "        self.doors = doors\n",
    "    \n",
    "    \n",
    "    def go(self,windows=2):                   # These are methods we can call on *any* car.\n",
    "        print('It\\'s going!')\n",
    "        self.moving = True\n",
    "    \n",
    "    def stop(self):\n",
    "        print('Stopped.')\n",
    "        self.moving = False"
   ]
  },
  {
   "cell_type": "code",
   "execution_count": null,
   "metadata": {},
   "outputs": [],
   "source": [
    "help(Car)"
   ]
  },
  {
   "cell_type": "code",
   "execution_count": null,
   "metadata": {},
   "outputs": [],
   "source": [
    "rav4 = Car()\n",
    "print(rav4.doors)\n",
    "rav4.go(3)"
   ]
  },
  {
   "cell_type": "code",
   "execution_count": null,
   "metadata": {},
   "outputs": [],
   "source": [
    "lamb = Car(doors=2)\n",
    "lamb.doors"
   ]
  },
  {
   "cell_type": "markdown",
   "metadata": {},
   "source": [
    "## Inheritance"
   ]
  },
  {
   "cell_type": "markdown",
   "metadata": {},
   "source": [
    "- Define a Class based on another class by passing the class to inherit from as a parameter:"
   ]
  },
  {
   "cell_type": "code",
   "execution_count": null,
   "metadata": {
    "ExecuteTime": {
     "end_time": "2020-09-09T15:14:03.308098Z",
     "start_time": "2020-09-09T15:14:03.204Z"
    }
   },
   "outputs": [],
   "source": [
    "class Truck(Car):\n",
    "    pass"
   ]
  },
  {
   "cell_type": "code",
   "execution_count": null,
   "metadata": {},
   "outputs": [],
   "source": [
    "help(Truck)"
   ]
  },
  {
   "cell_type": "code",
   "execution_count": null,
   "metadata": {
    "ExecuteTime": {
     "end_time": "2020-09-09T15:14:03.309309Z",
     "start_time": "2020-09-09T15:14:03.212Z"
    }
   },
   "outputs": [],
   "source": [
    "f150 = Truck(4,2)\n",
    "f150"
   ]
  },
  {
   "cell_type": "code",
   "execution_count": null,
   "metadata": {},
   "outputs": [],
   "source": [
    "display(f150)\n",
    "var=4"
   ]
  },
  {
   "cell_type": "markdown",
   "metadata": {},
   "source": [
    "### What did you inherit?    "
   ]
  },
  {
   "cell_type": "markdown",
   "metadata": {},
   "source": [
    "- To view all of the attributes and methods of a class, **use the help() command**\n",
    "    -  Note: There is often ***information in `help()` that you may not be able to find ANYWHERE else*** and does not show up in documentation."
   ]
  },
  {
   "cell_type": "markdown",
   "metadata": {},
   "source": [
    "#### Peeking Under the Hood: `help` and `dir`"
   ]
  },
  {
   "cell_type": "code",
   "execution_count": null,
   "metadata": {
    "ExecuteTime": {
     "end_time": "2020-09-09T15:14:03.310590Z",
     "start_time": "2020-09-09T15:14:03.222Z"
    }
   },
   "outputs": [],
   "source": [
    "help(f150)"
   ]
  },
  {
   "cell_type": "code",
   "execution_count": null,
   "metadata": {
    "ExecuteTime": {
     "end_time": "2020-09-09T15:14:03.311760Z",
     "start_time": "2020-09-09T15:14:03.231Z"
    }
   },
   "outputs": [],
   "source": [
    "dir(f150)"
   ]
  },
  {
   "cell_type": "markdown",
   "metadata": {},
   "source": [
    "# Special Class Methods"
   ]
  },
  {
   "cell_type": "markdown",
   "metadata": {},
   "source": [
    "#### Magic Methods\n",
    "\n",
    "It is common for a class to have magic methods. These are identifiable by the \"dunder\" (i.e. **d**ouble **under**score) prefixes and suffixes, such as `__init__()`. These methods will get called **automatically**, as we'll see below.\n",
    "\n",
    "For more on these \"magic methods\", see [here](https://www.geeksforgeeks.org/dunder-magic-methods-python/)."
   ]
  },
  {
   "cell_type": "markdown",
   "metadata": {},
   "source": [
    "## Using special methods to control the output of a class"
   ]
  },
  {
   "cell_type": "markdown",
   "metadata": {},
   "source": [
    "### `__repr__()` controls display when final element of a cell (or when display is used)"
   ]
  },
  {
   "cell_type": "code",
   "execution_count": null,
   "metadata": {
    "ExecuteTime": {
     "end_time": "2020-09-09T15:14:03.312922Z",
     "start_time": "2020-09-09T15:14:03.248Z"
    }
   },
   "outputs": [],
   "source": [
    "class Car():\n",
    "    \"\"\"Automotive object\"\"\"\n",
    "    ## Attributes\n",
    "    moving = False\n",
    "\n",
    "    ## Methods\n",
    "    def __init__(self,wheels=4,doors=4):\n",
    "        self.wheels = wheels\n",
    "        self.doors = doors\n",
    "    \n",
    "    \n",
    "    def go(self):                   # These are methods we can call on *any* car.\n",
    "        print('It\\'s going!')\n",
    "        self.moving = True\n",
    "    \n",
    "    def stop(self):\n",
    "        print('Stopped.')\n",
    "        self.moving = False\n",
    "        \n",
    "    def __repr__(self):\n",
    "        info = [f\"- Wheels: {self.wheels}\"]\n",
    "        info.append(f\"- Doors: {self.doors}\")\n",
    "        info.append(f\"- Moving?: {self.moving}\")\n",
    "        return '\\n'.join(info)"
   ]
  },
  {
   "cell_type": "code",
   "execution_count": null,
   "metadata": {
    "ExecuteTime": {
     "end_time": "2020-09-09T15:14:03.314015Z",
     "start_time": "2020-09-09T15:14:03.254Z"
    }
   },
   "outputs": [],
   "source": [
    "rav4 = Car()\n",
    "rav4"
   ]
  },
  {
   "cell_type": "code",
   "execution_count": null,
   "metadata": {
    "ExecuteTime": {
     "end_time": "2020-09-09T15:14:03.315065Z",
     "start_time": "2020-09-09T15:14:03.264Z"
    }
   },
   "outputs": [],
   "source": [
    "rav4.go()"
   ]
  },
  {
   "cell_type": "code",
   "execution_count": null,
   "metadata": {
    "ExecuteTime": {
     "end_time": "2020-09-09T15:14:03.316168Z",
     "start_time": "2020-09-09T15:14:03.271Z"
    }
   },
   "outputs": [],
   "source": [
    "rav4"
   ]
  },
  {
   "cell_type": "markdown",
   "metadata": {},
   "source": [
    "### `__str__()` controls whats displayed when an object is printed"
   ]
  },
  {
   "cell_type": "code",
   "execution_count": null,
   "metadata": {
    "ExecuteTime": {
     "end_time": "2020-09-09T15:14:03.317267Z",
     "start_time": "2020-09-09T15:14:03.280Z"
    }
   },
   "outputs": [],
   "source": [
    "class Car():\n",
    "    \"\"\"Automotive object\"\"\"\n",
    "    ## Attributes\n",
    "    moving = False\n",
    "\n",
    "    ## Methods\n",
    "    def __init__(self,wheels=4,doors=4):\n",
    "        self.wheels = wheels\n",
    "        self.doors = doors\n",
    "    \n",
    "    \n",
    "    def go(self):                   # These are methods we can call on *any* car.\n",
    "        print('It\\'s going!')\n",
    "        self.moving = True\n",
    "    \n",
    "    def stop(self):\n",
    "        print('Stopped.')\n",
    "        self.moving = False\n",
    "        \n",
    "    def __repr__(self):\n",
    "        info = [f\"- Wheels: {self.wheels}\"]\n",
    "        info.append(f\"- Doors: {self.doors}\")\n",
    "        info.append(f\"- Moving?: {self.moving}\")\n",
    "        return '\\n'.join(info)\n",
    "    \n",
    "    def __str__(self):\n",
    "        return f\"\"\"- This car has {self.wheels} wheels, {self.doors} doors, and moving = {self.moving}\"\"\""
   ]
  },
  {
   "cell_type": "code",
   "execution_count": null,
   "metadata": {
    "ExecuteTime": {
     "end_time": "2020-09-09T15:14:03.318238Z",
     "start_time": "2020-09-09T15:14:03.288Z"
    }
   },
   "outputs": [],
   "source": [
    "rav4=Car()\n",
    "rav4"
   ]
  },
  {
   "cell_type": "code",
   "execution_count": null,
   "metadata": {
    "ExecuteTime": {
     "end_time": "2020-09-09T15:14:03.319382Z",
     "start_time": "2020-09-09T15:14:03.294Z"
    }
   },
   "outputs": [],
   "source": [
    "print(rav4)"
   ]
  },
  {
   "cell_type": "markdown",
   "metadata": {},
   "source": [
    "### `__repr__()` vs. `__str__()`\n",
    "\n",
    "`__repr__()` and `__str__()` are both designed to return string-representations of the object. But `__repr__()` focuses on minimizing ambiguity while `__str__()` focuses on readability. However, if your class has no `__str__()` method, it will fall back on `__repr__()` (if it exists!). For more on this distinction, see [this post](https://dbader.org/blog/python-repr-vs-str)."
   ]
  },
  {
   "cell_type": "markdown",
   "metadata": {},
   "source": [
    "# Scikit Learn Objects"
   ]
  },
  {
   "cell_type": "code",
   "execution_count": 19,
   "metadata": {
    "ExecuteTime": {
     "end_time": "2020-09-09T15:44:37.938453Z",
     "start_time": "2020-09-09T15:44:37.249463Z"
    }
   },
   "outputs": [
    {
     "name": "stdout",
     "output_type": "stream",
     "text": [
      "fsds v0.2.23 loaded.  Read the docs: https://fs-ds.readthedocs.io/en/latest/ \n"
     ]
    },
    {
     "data": {
      "text/html": [
       "<style  type=\"text/css\" >\n",
       "</style><table id=\"T_79614edc_f397_11ea_99cb_acde48001122\" ><caption>Loaded Packages and Handles</caption><thead>    <tr>        <th class=\"col_heading level0 col0\" >Handle</th>        <th class=\"col_heading level0 col1\" >Package</th>        <th class=\"col_heading level0 col2\" >Description</th>    </tr></thead><tbody>\n",
       "                <tr>\n",
       "                                <td id=\"T_79614edc_f397_11ea_99cb_acde48001122row0_col0\" class=\"data row0 col0\" >dp</td>\n",
       "                        <td id=\"T_79614edc_f397_11ea_99cb_acde48001122row0_col1\" class=\"data row0 col1\" >IPython.display</td>\n",
       "                        <td id=\"T_79614edc_f397_11ea_99cb_acde48001122row0_col2\" class=\"data row0 col2\" >Display modules with helpful display and clearing commands.</td>\n",
       "            </tr>\n",
       "            <tr>\n",
       "                                <td id=\"T_79614edc_f397_11ea_99cb_acde48001122row1_col0\" class=\"data row1 col0\" >fs</td>\n",
       "                        <td id=\"T_79614edc_f397_11ea_99cb_acde48001122row1_col1\" class=\"data row1 col1\" >fsds</td>\n",
       "                        <td id=\"T_79614edc_f397_11ea_99cb_acde48001122row1_col2\" class=\"data row1 col2\" >Custom data science bootcamp student package</td>\n",
       "            </tr>\n",
       "            <tr>\n",
       "                                <td id=\"T_79614edc_f397_11ea_99cb_acde48001122row2_col0\" class=\"data row2 col0\" >mpl</td>\n",
       "                        <td id=\"T_79614edc_f397_11ea_99cb_acde48001122row2_col1\" class=\"data row2 col1\" >matplotlib</td>\n",
       "                        <td id=\"T_79614edc_f397_11ea_99cb_acde48001122row2_col2\" class=\"data row2 col2\" >Matplotlib's base OOP module with formatting artists</td>\n",
       "            </tr>\n",
       "            <tr>\n",
       "                                <td id=\"T_79614edc_f397_11ea_99cb_acde48001122row3_col0\" class=\"data row3 col0\" >plt</td>\n",
       "                        <td id=\"T_79614edc_f397_11ea_99cb_acde48001122row3_col1\" class=\"data row3 col1\" >matplotlib.pyplot</td>\n",
       "                        <td id=\"T_79614edc_f397_11ea_99cb_acde48001122row3_col2\" class=\"data row3 col2\" >Matplotlib's matlab-like plotting module</td>\n",
       "            </tr>\n",
       "            <tr>\n",
       "                                <td id=\"T_79614edc_f397_11ea_99cb_acde48001122row4_col0\" class=\"data row4 col0\" >np</td>\n",
       "                        <td id=\"T_79614edc_f397_11ea_99cb_acde48001122row4_col1\" class=\"data row4 col1\" >numpy</td>\n",
       "                        <td id=\"T_79614edc_f397_11ea_99cb_acde48001122row4_col2\" class=\"data row4 col2\" >scientific computing with Python</td>\n",
       "            </tr>\n",
       "            <tr>\n",
       "                                <td id=\"T_79614edc_f397_11ea_99cb_acde48001122row5_col0\" class=\"data row5 col0\" >pd</td>\n",
       "                        <td id=\"T_79614edc_f397_11ea_99cb_acde48001122row5_col1\" class=\"data row5 col1\" >pandas</td>\n",
       "                        <td id=\"T_79614edc_f397_11ea_99cb_acde48001122row5_col2\" class=\"data row5 col2\" >High performance data structures and tools</td>\n",
       "            </tr>\n",
       "            <tr>\n",
       "                                <td id=\"T_79614edc_f397_11ea_99cb_acde48001122row6_col0\" class=\"data row6 col0\" >sns</td>\n",
       "                        <td id=\"T_79614edc_f397_11ea_99cb_acde48001122row6_col1\" class=\"data row6 col1\" >seaborn</td>\n",
       "                        <td id=\"T_79614edc_f397_11ea_99cb_acde48001122row6_col2\" class=\"data row6 col2\" >High-level data visualization library based on matplotlib</td>\n",
       "            </tr>\n",
       "    </tbody></table>"
      ],
      "text/plain": [
       "<pandas.io.formats.style.Styler at 0x7fa21142c8d0>"
      ]
     },
     "metadata": {},
     "output_type": "display_data"
    },
    {
     "data": {
      "text/html": [
       "        <script type=\"text/javascript\">\n",
       "        window.PlotlyConfig = {MathJaxConfig: 'local'};\n",
       "        if (window.MathJax) {MathJax.Hub.Config({SVG: {font: \"STIX-Web\"}});}\n",
       "        if (typeof require !== 'undefined') {\n",
       "        require.undef(\"plotly\");\n",
       "        requirejs.config({\n",
       "            paths: {\n",
       "                'plotly': ['https://cdn.plot.ly/plotly-latest.min']\n",
       "            }\n",
       "        });\n",
       "        require(['plotly'], function(Plotly) {\n",
       "            window._Plotly = Plotly;\n",
       "        });\n",
       "        }\n",
       "        </script>\n",
       "        "
      ]
     },
     "metadata": {},
     "output_type": "display_data"
    },
    {
     "data": {
      "text/html": [
       "        <script type=\"text/javascript\">\n",
       "        window.PlotlyConfig = {MathJaxConfig: 'local'};\n",
       "        if (window.MathJax) {MathJax.Hub.Config({SVG: {font: \"STIX-Web\"}});}\n",
       "        if (typeof require !== 'undefined') {\n",
       "        require.undef(\"plotly\");\n",
       "        requirejs.config({\n",
       "            paths: {\n",
       "                'plotly': ['https://cdn.plot.ly/plotly-latest.min']\n",
       "            }\n",
       "        });\n",
       "        require(['plotly'], function(Plotly) {\n",
       "            window._Plotly = Plotly;\n",
       "        });\n",
       "        }\n",
       "        </script>\n",
       "        "
      ]
     },
     "metadata": {},
     "output_type": "display_data"
    },
    {
     "name": "stdout",
     "output_type": "stream",
     "text": [
      "[i] Pandas .iplot() method activated.\n"
     ]
    },
    {
     "data": {
      "text/html": [
       "<div>\n",
       "<style scoped>\n",
       "    .dataframe tbody tr th:only-of-type {\n",
       "        vertical-align: middle;\n",
       "    }\n",
       "\n",
       "    .dataframe tbody tr th {\n",
       "        vertical-align: top;\n",
       "    }\n",
       "\n",
       "    .dataframe thead th {\n",
       "        text-align: right;\n",
       "    }\n",
       "</style>\n",
       "<table border=\"1\" class=\"dataframe\">\n",
       "  <thead>\n",
       "    <tr style=\"text-align: right;\">\n",
       "      <th></th>\n",
       "      <th>Fiscal Year Released</th>\n",
       "      <th>Recidivism Reporting Year</th>\n",
       "      <th>Race - Ethnicity</th>\n",
       "      <th>Age At Release</th>\n",
       "      <th>Convicting Offense Classification</th>\n",
       "      <th>Convicting Offense Type</th>\n",
       "      <th>Convicting Offense Subtype</th>\n",
       "      <th>Release Type</th>\n",
       "      <th>Main Supervising District</th>\n",
       "      <th>Recidivism - Return to Prison</th>\n",
       "      <th>Part of Target Population</th>\n",
       "      <th>Recidivism Type</th>\n",
       "      <th>Sex</th>\n",
       "    </tr>\n",
       "  </thead>\n",
       "  <tbody>\n",
       "    <tr>\n",
       "      <th>0</th>\n",
       "      <td>2010</td>\n",
       "      <td>2013</td>\n",
       "      <td>Black - Non-Hispanic</td>\n",
       "      <td>25-34</td>\n",
       "      <td>C Felony</td>\n",
       "      <td>Violent</td>\n",
       "      <td>Robbery</td>\n",
       "      <td>Parole</td>\n",
       "      <td>7JD</td>\n",
       "      <td>Yes</td>\n",
       "      <td>Yes</td>\n",
       "      <td>New</td>\n",
       "      <td>Male</td>\n",
       "    </tr>\n",
       "    <tr>\n",
       "      <th>1</th>\n",
       "      <td>2010</td>\n",
       "      <td>2013</td>\n",
       "      <td>White - Non-Hispanic</td>\n",
       "      <td>25-34</td>\n",
       "      <td>D Felony</td>\n",
       "      <td>Property</td>\n",
       "      <td>Theft</td>\n",
       "      <td>Discharged – End of Sentence</td>\n",
       "      <td>MISSING</td>\n",
       "      <td>Yes</td>\n",
       "      <td>No</td>\n",
       "      <td>Tech</td>\n",
       "      <td>Male</td>\n",
       "    </tr>\n",
       "    <tr>\n",
       "      <th>2</th>\n",
       "      <td>2010</td>\n",
       "      <td>2013</td>\n",
       "      <td>White - Non-Hispanic</td>\n",
       "      <td>35-44</td>\n",
       "      <td>B Felony</td>\n",
       "      <td>Drug</td>\n",
       "      <td>Trafficking</td>\n",
       "      <td>Parole</td>\n",
       "      <td>5JD</td>\n",
       "      <td>Yes</td>\n",
       "      <td>Yes</td>\n",
       "      <td>Tech</td>\n",
       "      <td>Male</td>\n",
       "    </tr>\n",
       "    <tr>\n",
       "      <th>3</th>\n",
       "      <td>2010</td>\n",
       "      <td>2013</td>\n",
       "      <td>White - Non-Hispanic</td>\n",
       "      <td>25-34</td>\n",
       "      <td>B Felony</td>\n",
       "      <td>Other</td>\n",
       "      <td>Other Criminal</td>\n",
       "      <td>Parole</td>\n",
       "      <td>6JD</td>\n",
       "      <td>No</td>\n",
       "      <td>Yes</td>\n",
       "      <td>No Recidivism</td>\n",
       "      <td>Male</td>\n",
       "    </tr>\n",
       "    <tr>\n",
       "      <th>4</th>\n",
       "      <td>2010</td>\n",
       "      <td>2013</td>\n",
       "      <td>Black - Non-Hispanic</td>\n",
       "      <td>35-44</td>\n",
       "      <td>D Felony</td>\n",
       "      <td>Violent</td>\n",
       "      <td>Assault</td>\n",
       "      <td>Discharged – End of Sentence</td>\n",
       "      <td>MISSING</td>\n",
       "      <td>Yes</td>\n",
       "      <td>No</td>\n",
       "      <td>Tech</td>\n",
       "      <td>Male</td>\n",
       "    </tr>\n",
       "  </tbody>\n",
       "</table>\n",
       "</div>"
      ],
      "text/plain": [
       "   Fiscal Year Released  Recidivism Reporting Year      Race - Ethnicity  \\\n",
       "0                  2010                       2013  Black - Non-Hispanic   \n",
       "1                  2010                       2013  White - Non-Hispanic   \n",
       "2                  2010                       2013  White - Non-Hispanic   \n",
       "3                  2010                       2013  White - Non-Hispanic   \n",
       "4                  2010                       2013  Black - Non-Hispanic   \n",
       "\n",
       "  Age At Release  Convicting Offense Classification Convicting Offense Type  \\\n",
       "0           25-34                          C Felony                 Violent   \n",
       "1           25-34                          D Felony                Property   \n",
       "2           35-44                          B Felony                    Drug   \n",
       "3           25-34                          B Felony                   Other   \n",
       "4           35-44                          D Felony                 Violent   \n",
       "\n",
       "  Convicting Offense Subtype                  Release Type  \\\n",
       "0                    Robbery                        Parole   \n",
       "1                      Theft  Discharged – End of Sentence   \n",
       "2                Trafficking                        Parole   \n",
       "3             Other Criminal                        Parole   \n",
       "4                    Assault  Discharged – End of Sentence   \n",
       "\n",
       "  Main Supervising District Recidivism - Return to Prison  \\\n",
       "0                       7JD                           Yes   \n",
       "1                   MISSING                           Yes   \n",
       "2                       5JD                           Yes   \n",
       "3                       6JD                            No   \n",
       "4                   MISSING                           Yes   \n",
       "\n",
       "  Part of Target Population Recidivism Type   Sex  \n",
       "0                       Yes             New  Male  \n",
       "1                        No            Tech  Male  \n",
       "2                       Yes            Tech  Male  \n",
       "3                       Yes   No Recidivism  Male  \n",
       "4                        No            Tech  Male  "
      ]
     },
     "execution_count": 19,
     "metadata": {},
     "output_type": "execute_result"
    }
   ],
   "source": [
    "## Getting the dataset ready\n",
    "from fsds.imports import *\n",
    "df= fs.datasets.load_iowa_prisoners()\n",
    "\n",
    "df.fillna('MISSING',inplace=True)\n",
    "\n",
    "drop_cols= [col for col in df.columns if 'New' in col]\n",
    "drop_cols.append('Days to Recidivism')\n",
    "df.drop(columns=drop_cols,inplace=True)\n",
    "df.head()"
   ]
  },
  {
   "cell_type": "code",
   "execution_count": 20,
   "metadata": {
    "ExecuteTime": {
     "end_time": "2020-09-09T15:44:37.972966Z",
     "start_time": "2020-09-09T15:44:37.959376Z"
    }
   },
   "outputs": [
    {
     "data": {
      "text/html": [
       "<div>\n",
       "<style scoped>\n",
       "    .dataframe tbody tr th:only-of-type {\n",
       "        vertical-align: middle;\n",
       "    }\n",
       "\n",
       "    .dataframe tbody tr th {\n",
       "        vertical-align: top;\n",
       "    }\n",
       "\n",
       "    .dataframe thead th {\n",
       "        text-align: right;\n",
       "    }\n",
       "</style>\n",
       "<table border=\"1\" class=\"dataframe\">\n",
       "  <thead>\n",
       "    <tr style=\"text-align: right;\">\n",
       "      <th></th>\n",
       "      <th>Fiscal Year Released</th>\n",
       "      <th>Recidivism Reporting Year</th>\n",
       "    </tr>\n",
       "  </thead>\n",
       "  <tbody>\n",
       "    <tr>\n",
       "      <th>count</th>\n",
       "      <td>26020.000000</td>\n",
       "      <td>26020.000000</td>\n",
       "    </tr>\n",
       "    <tr>\n",
       "      <th>mean</th>\n",
       "      <td>2012.600769</td>\n",
       "      <td>2015.600769</td>\n",
       "    </tr>\n",
       "    <tr>\n",
       "      <th>std</th>\n",
       "      <td>1.661028</td>\n",
       "      <td>1.661028</td>\n",
       "    </tr>\n",
       "    <tr>\n",
       "      <th>min</th>\n",
       "      <td>2010.000000</td>\n",
       "      <td>2013.000000</td>\n",
       "    </tr>\n",
       "    <tr>\n",
       "      <th>25%</th>\n",
       "      <td>2011.000000</td>\n",
       "      <td>2014.000000</td>\n",
       "    </tr>\n",
       "    <tr>\n",
       "      <th>50%</th>\n",
       "      <td>2013.000000</td>\n",
       "      <td>2016.000000</td>\n",
       "    </tr>\n",
       "    <tr>\n",
       "      <th>75%</th>\n",
       "      <td>2014.000000</td>\n",
       "      <td>2017.000000</td>\n",
       "    </tr>\n",
       "    <tr>\n",
       "      <th>max</th>\n",
       "      <td>2015.000000</td>\n",
       "      <td>2018.000000</td>\n",
       "    </tr>\n",
       "  </tbody>\n",
       "</table>\n",
       "</div>"
      ],
      "text/plain": [
       "       Fiscal Year Released  Recidivism Reporting Year\n",
       "count          26020.000000               26020.000000\n",
       "mean            2012.600769                2015.600769\n",
       "std                1.661028                   1.661028\n",
       "min             2010.000000                2013.000000\n",
       "25%             2011.000000                2014.000000\n",
       "50%             2013.000000                2016.000000\n",
       "75%             2014.000000                2017.000000\n",
       "max             2015.000000                2018.000000"
      ]
     },
     "execution_count": 20,
     "metadata": {},
     "output_type": "execute_result"
    }
   ],
   "source": [
    "df.describe()"
   ]
  },
  {
   "cell_type": "code",
   "execution_count": 21,
   "metadata": {
    "ExecuteTime": {
     "end_time": "2020-09-09T15:44:39.064015Z",
     "start_time": "2020-09-09T15:44:39.061602Z"
    }
   },
   "outputs": [],
   "source": [
    "## Sklearn Classes\n",
    "from sklearn.preprocessing import LabelEncoder,OneHotEncoder, StandardScaler"
   ]
  },
  {
   "cell_type": "code",
   "execution_count": 22,
   "metadata": {
    "ExecuteTime": {
     "end_time": "2020-09-09T15:44:39.064015Z",
     "start_time": "2020-09-09T15:44:39.061602Z"
    }
   },
   "outputs": [
    {
     "data": {
      "text/plain": [
       "StandardScaler()"
      ]
     },
     "execution_count": 22,
     "metadata": {},
     "output_type": "execute_result"
    }
   ],
   "source": [
    "## Intialize a scaler\n",
    "scaler = StandardScaler()\n",
    "scaler"
   ]
  },
  {
   "cell_type": "code",
   "execution_count": 23,
   "metadata": {},
   "outputs": [
    {
     "name": "stdout",
     "output_type": "stream",
     "text": [
      "Help on StandardScaler in module sklearn.preprocessing._data object:\n",
      "\n",
      "class StandardScaler(sklearn.base.TransformerMixin, sklearn.base.BaseEstimator)\n",
      " |  Standardize features by removing the mean and scaling to unit variance\n",
      " |  \n",
      " |  The standard score of a sample `x` is calculated as:\n",
      " |  \n",
      " |      z = (x - u) / s\n",
      " |  \n",
      " |  where `u` is the mean of the training samples or zero if `with_mean=False`,\n",
      " |  and `s` is the standard deviation of the training samples or one if\n",
      " |  `with_std=False`.\n",
      " |  \n",
      " |  Centering and scaling happen independently on each feature by computing\n",
      " |  the relevant statistics on the samples in the training set. Mean and\n",
      " |  standard deviation are then stored to be used on later data using\n",
      " |  :meth:`transform`.\n",
      " |  \n",
      " |  Standardization of a dataset is a common requirement for many\n",
      " |  machine learning estimators: they might behave badly if the\n",
      " |  individual features do not more or less look like standard normally\n",
      " |  distributed data (e.g. Gaussian with 0 mean and unit variance).\n",
      " |  \n",
      " |  For instance many elements used in the objective function of\n",
      " |  a learning algorithm (such as the RBF kernel of Support Vector\n",
      " |  Machines or the L1 and L2 regularizers of linear models) assume that\n",
      " |  all features are centered around 0 and have variance in the same\n",
      " |  order. If a feature has a variance that is orders of magnitude larger\n",
      " |  that others, it might dominate the objective function and make the\n",
      " |  estimator unable to learn from other features correctly as expected.\n",
      " |  \n",
      " |  This scaler can also be applied to sparse CSR or CSC matrices by passing\n",
      " |  `with_mean=False` to avoid breaking the sparsity structure of the data.\n",
      " |  \n",
      " |  Read more in the :ref:`User Guide <preprocessing_scaler>`.\n",
      " |  \n",
      " |  Parameters\n",
      " |  ----------\n",
      " |  copy : boolean, optional, default True\n",
      " |      If False, try to avoid a copy and do inplace scaling instead.\n",
      " |      This is not guaranteed to always work inplace; e.g. if the data is\n",
      " |      not a NumPy array or scipy.sparse CSR matrix, a copy may still be\n",
      " |      returned.\n",
      " |  \n",
      " |  with_mean : boolean, True by default\n",
      " |      If True, center the data before scaling.\n",
      " |      This does not work (and will raise an exception) when attempted on\n",
      " |      sparse matrices, because centering them entails building a dense\n",
      " |      matrix which in common use cases is likely to be too large to fit in\n",
      " |      memory.\n",
      " |  \n",
      " |  with_std : boolean, True by default\n",
      " |      If True, scale the data to unit variance (or equivalently,\n",
      " |      unit standard deviation).\n",
      " |  \n",
      " |  Attributes\n",
      " |  ----------\n",
      " |  scale_ : ndarray or None, shape (n_features,)\n",
      " |      Per feature relative scaling of the data. This is calculated using\n",
      " |      `np.sqrt(var_)`. Equal to ``None`` when ``with_std=False``.\n",
      " |  \n",
      " |      .. versionadded:: 0.17\n",
      " |         *scale_*\n",
      " |  \n",
      " |  mean_ : ndarray or None, shape (n_features,)\n",
      " |      The mean value for each feature in the training set.\n",
      " |      Equal to ``None`` when ``with_mean=False``.\n",
      " |  \n",
      " |  var_ : ndarray or None, shape (n_features,)\n",
      " |      The variance for each feature in the training set. Used to compute\n",
      " |      `scale_`. Equal to ``None`` when ``with_std=False``.\n",
      " |  \n",
      " |  n_samples_seen_ : int or array, shape (n_features,)\n",
      " |      The number of samples processed by the estimator for each feature.\n",
      " |      If there are not missing samples, the ``n_samples_seen`` will be an\n",
      " |      integer, otherwise it will be an array.\n",
      " |      Will be reset on new calls to fit, but increments across\n",
      " |      ``partial_fit`` calls.\n",
      " |  \n",
      " |  Examples\n",
      " |  --------\n",
      " |  >>> from sklearn.preprocessing import StandardScaler\n",
      " |  >>> data = [[0, 0], [0, 0], [1, 1], [1, 1]]\n",
      " |  >>> scaler = StandardScaler()\n",
      " |  >>> print(scaler.fit(data))\n",
      " |  StandardScaler()\n",
      " |  >>> print(scaler.mean_)\n",
      " |  [0.5 0.5]\n",
      " |  >>> print(scaler.transform(data))\n",
      " |  [[-1. -1.]\n",
      " |   [-1. -1.]\n",
      " |   [ 1.  1.]\n",
      " |   [ 1.  1.]]\n",
      " |  >>> print(scaler.transform([[2, 2]]))\n",
      " |  [[3. 3.]]\n",
      " |  \n",
      " |  See also\n",
      " |  --------\n",
      " |  scale: Equivalent function without the estimator API.\n",
      " |  \n",
      " |  :class:`sklearn.decomposition.PCA`\n",
      " |      Further removes the linear correlation across features with 'whiten=True'.\n",
      " |  \n",
      " |  Notes\n",
      " |  -----\n",
      " |  NaNs are treated as missing values: disregarded in fit, and maintained in\n",
      " |  transform.\n",
      " |  \n",
      " |  We use a biased estimator for the standard deviation, equivalent to\n",
      " |  `numpy.std(x, ddof=0)`. Note that the choice of `ddof` is unlikely to\n",
      " |  affect model performance.\n",
      " |  \n",
      " |  For a comparison of the different scalers, transformers, and normalizers,\n",
      " |  see :ref:`examples/preprocessing/plot_all_scaling.py\n",
      " |  <sphx_glr_auto_examples_preprocessing_plot_all_scaling.py>`.\n",
      " |  \n",
      " |  Method resolution order:\n",
      " |      StandardScaler\n",
      " |      sklearn.base.TransformerMixin\n",
      " |      sklearn.base.BaseEstimator\n",
      " |      builtins.object\n",
      " |  \n",
      " |  Methods defined here:\n",
      " |  \n",
      " |  __init__(self, *, copy=True, with_mean=True, with_std=True)\n",
      " |      Initialize self.  See help(type(self)) for accurate signature.\n",
      " |  \n",
      " |  fit(self, X, y=None)\n",
      " |      Compute the mean and std to be used for later scaling.\n",
      " |      \n",
      " |      Parameters\n",
      " |      ----------\n",
      " |      X : {array-like, sparse matrix}, shape [n_samples, n_features]\n",
      " |          The data used to compute the mean and standard deviation\n",
      " |          used for later scaling along the features axis.\n",
      " |      \n",
      " |      y\n",
      " |          Ignored\n",
      " |  \n",
      " |  inverse_transform(self, X, copy=None)\n",
      " |      Scale back the data to the original representation\n",
      " |      \n",
      " |      Parameters\n",
      " |      ----------\n",
      " |      X : array-like, shape [n_samples, n_features]\n",
      " |          The data used to scale along the features axis.\n",
      " |      copy : bool, optional (default: None)\n",
      " |          Copy the input X or not.\n",
      " |      \n",
      " |      Returns\n",
      " |      -------\n",
      " |      X_tr : array-like, shape [n_samples, n_features]\n",
      " |          Transformed array.\n",
      " |  \n",
      " |  partial_fit(self, X, y=None)\n",
      " |      Online computation of mean and std on X for later scaling.\n",
      " |      \n",
      " |      All of X is processed as a single batch. This is intended for cases\n",
      " |      when :meth:`fit` is not feasible due to very large number of\n",
      " |      `n_samples` or because X is read from a continuous stream.\n",
      " |      \n",
      " |      The algorithm for incremental mean and std is given in Equation 1.5a,b\n",
      " |      in Chan, Tony F., Gene H. Golub, and Randall J. LeVeque. \"Algorithms\n",
      " |      for computing the sample variance: Analysis and recommendations.\"\n",
      " |      The American Statistician 37.3 (1983): 242-247:\n",
      " |      \n",
      " |      Parameters\n",
      " |      ----------\n",
      " |      X : {array-like, sparse matrix}, shape [n_samples, n_features]\n",
      " |          The data used to compute the mean and standard deviation\n",
      " |          used for later scaling along the features axis.\n",
      " |      \n",
      " |      y : None\n",
      " |          Ignored.\n",
      " |      \n",
      " |      Returns\n",
      " |      -------\n",
      " |      self : object\n",
      " |          Transformer instance.\n",
      " |  \n",
      " |  transform(self, X, copy=None)\n",
      " |      Perform standardization by centering and scaling\n",
      " |      \n",
      " |      Parameters\n",
      " |      ----------\n",
      " |      X : array-like, shape [n_samples, n_features]\n",
      " |          The data used to scale along the features axis.\n",
      " |      copy : bool, optional (default: None)\n",
      " |          Copy the input X or not.\n",
      " |  \n",
      " |  ----------------------------------------------------------------------\n",
      " |  Methods inherited from sklearn.base.TransformerMixin:\n",
      " |  \n",
      " |  fit_transform(self, X, y=None, **fit_params)\n",
      " |      Fit to data, then transform it.\n",
      " |      \n",
      " |      Fits transformer to X and y with optional parameters fit_params\n",
      " |      and returns a transformed version of X.\n",
      " |      \n",
      " |      Parameters\n",
      " |      ----------\n",
      " |      X : {array-like, sparse matrix, dataframe} of shape                 (n_samples, n_features)\n",
      " |      \n",
      " |      y : ndarray of shape (n_samples,), default=None\n",
      " |          Target values.\n",
      " |      \n",
      " |      **fit_params : dict\n",
      " |          Additional fit parameters.\n",
      " |      \n",
      " |      Returns\n",
      " |      -------\n",
      " |      X_new : ndarray array of shape (n_samples, n_features_new)\n",
      " |          Transformed array.\n",
      " |  \n",
      " |  ----------------------------------------------------------------------\n",
      " |  Data descriptors inherited from sklearn.base.TransformerMixin:\n",
      " |  \n",
      " |  __dict__\n",
      " |      dictionary for instance variables (if defined)\n",
      " |  \n",
      " |  __weakref__\n",
      " |      list of weak references to the object (if defined)\n",
      " |  \n",
      " |  ----------------------------------------------------------------------\n",
      " |  Methods inherited from sklearn.base.BaseEstimator:\n",
      " |  \n",
      " |  __getstate__(self)\n",
      " |  \n",
      " |  __repr__(self, N_CHAR_MAX=700)\n",
      " |      Return repr(self).\n",
      " |  \n",
      " |  __setstate__(self, state)\n",
      " |  \n",
      " |  get_params(self, deep=True)\n",
      " |      Get parameters for this estimator.\n",
      " |      \n",
      " |      Parameters\n",
      " |      ----------\n",
      " |      deep : bool, default=True\n",
      " |          If True, will return the parameters for this estimator and\n",
      " |          contained subobjects that are estimators.\n",
      " |      \n",
      " |      Returns\n",
      " |      -------\n",
      " |      params : mapping of string to any\n",
      " |          Parameter names mapped to their values.\n",
      " |  \n",
      " |  set_params(self, **params)\n",
      " |      Set the parameters of this estimator.\n",
      " |      \n",
      " |      The method works on simple estimators as well as on nested objects\n",
      " |      (such as pipelines). The latter have parameters of the form\n",
      " |      ``<component>__<parameter>`` so that it's possible to update each\n",
      " |      component of a nested object.\n",
      " |      \n",
      " |      Parameters\n",
      " |      ----------\n",
      " |      **params : dict\n",
      " |          Estimator parameters.\n",
      " |      \n",
      " |      Returns\n",
      " |      -------\n",
      " |      self : object\n",
      " |          Estimator instance.\n",
      "\n"
     ]
    }
   ],
   "source": [
    "help(scaler)"
   ]
  },
  {
   "cell_type": "code",
   "execution_count": 24,
   "metadata": {},
   "outputs": [
    {
     "data": {
      "text/plain": [
       "Index(['Fiscal Year Released', 'Recidivism Reporting Year'], dtype='object')"
      ]
     },
     "execution_count": 24,
     "metadata": {},
     "output_type": "execute_result"
    }
   ],
   "source": [
    "num_cols = df.select_dtypes('number').columns\n",
    "num_cols"
   ]
  },
  {
   "cell_type": "code",
   "execution_count": 25,
   "metadata": {
    "ExecuteTime": {
     "end_time": "2020-09-09T15:44:39.487629Z",
     "start_time": "2020-09-09T15:44:39.472944Z"
    }
   },
   "outputs": [
    {
     "data": {
      "text/plain": [
       "StandardScaler()"
      ]
     },
     "execution_count": 25,
     "metadata": {},
     "output_type": "execute_result"
    }
   ],
   "source": [
    "## make scaled_year_released\n",
    "scaler.fit(df[['Fiscal Year Released']])"
   ]
  },
  {
   "cell_type": "code",
   "execution_count": 26,
   "metadata": {},
   "outputs": [
    {
     "data": {
      "text/plain": [
       "array([2012.60076864])"
      ]
     },
     "execution_count": 26,
     "metadata": {},
     "output_type": "execute_result"
    }
   ],
   "source": [
    "scaler.mean_"
   ]
  },
  {
   "cell_type": "code",
   "execution_count": 27,
   "metadata": {},
   "outputs": [
    {
     "data": {
      "text/plain": [
       "array([1.66099607])"
      ]
     },
     "execution_count": 27,
     "metadata": {},
     "output_type": "execute_result"
    }
   ],
   "source": [
    "scaler.scale_"
   ]
  },
  {
   "cell_type": "code",
   "execution_count": 28,
   "metadata": {
    "ExecuteTime": {
     "end_time": "2020-09-09T15:44:39.838915Z",
     "start_time": "2020-09-09T15:44:39.834641Z"
    }
   },
   "outputs": [
    {
     "data": {
      "text/html": [
       "<div>\n",
       "<style scoped>\n",
       "    .dataframe tbody tr th:only-of-type {\n",
       "        vertical-align: middle;\n",
       "    }\n",
       "\n",
       "    .dataframe tbody tr th {\n",
       "        vertical-align: top;\n",
       "    }\n",
       "\n",
       "    .dataframe thead th {\n",
       "        text-align: right;\n",
       "    }\n",
       "</style>\n",
       "<table border=\"1\" class=\"dataframe\">\n",
       "  <thead>\n",
       "    <tr style=\"text-align: right;\">\n",
       "      <th></th>\n",
       "      <th>Fiscal Year Released</th>\n",
       "      <th>Recidivism Reporting Year</th>\n",
       "      <th>Race - Ethnicity</th>\n",
       "      <th>Age At Release</th>\n",
       "      <th>Convicting Offense Classification</th>\n",
       "      <th>Convicting Offense Type</th>\n",
       "      <th>Convicting Offense Subtype</th>\n",
       "      <th>Release Type</th>\n",
       "      <th>Main Supervising District</th>\n",
       "      <th>Recidivism - Return to Prison</th>\n",
       "      <th>Part of Target Population</th>\n",
       "      <th>Recidivism Type</th>\n",
       "      <th>Sex</th>\n",
       "      <th>scaled_year_released</th>\n",
       "    </tr>\n",
       "  </thead>\n",
       "  <tbody>\n",
       "    <tr>\n",
       "      <th>0</th>\n",
       "      <td>2010</td>\n",
       "      <td>2013</td>\n",
       "      <td>Black - Non-Hispanic</td>\n",
       "      <td>25-34</td>\n",
       "      <td>C Felony</td>\n",
       "      <td>Violent</td>\n",
       "      <td>Robbery</td>\n",
       "      <td>Parole</td>\n",
       "      <td>7JD</td>\n",
       "      <td>Yes</td>\n",
       "      <td>Yes</td>\n",
       "      <td>New</td>\n",
       "      <td>Male</td>\n",
       "      <td>-1.565789</td>\n",
       "    </tr>\n",
       "    <tr>\n",
       "      <th>1</th>\n",
       "      <td>2010</td>\n",
       "      <td>2013</td>\n",
       "      <td>White - Non-Hispanic</td>\n",
       "      <td>25-34</td>\n",
       "      <td>D Felony</td>\n",
       "      <td>Property</td>\n",
       "      <td>Theft</td>\n",
       "      <td>Discharged – End of Sentence</td>\n",
       "      <td>MISSING</td>\n",
       "      <td>Yes</td>\n",
       "      <td>No</td>\n",
       "      <td>Tech</td>\n",
       "      <td>Male</td>\n",
       "      <td>-1.565789</td>\n",
       "    </tr>\n",
       "    <tr>\n",
       "      <th>2</th>\n",
       "      <td>2010</td>\n",
       "      <td>2013</td>\n",
       "      <td>White - Non-Hispanic</td>\n",
       "      <td>35-44</td>\n",
       "      <td>B Felony</td>\n",
       "      <td>Drug</td>\n",
       "      <td>Trafficking</td>\n",
       "      <td>Parole</td>\n",
       "      <td>5JD</td>\n",
       "      <td>Yes</td>\n",
       "      <td>Yes</td>\n",
       "      <td>Tech</td>\n",
       "      <td>Male</td>\n",
       "      <td>-1.565789</td>\n",
       "    </tr>\n",
       "    <tr>\n",
       "      <th>3</th>\n",
       "      <td>2010</td>\n",
       "      <td>2013</td>\n",
       "      <td>White - Non-Hispanic</td>\n",
       "      <td>25-34</td>\n",
       "      <td>B Felony</td>\n",
       "      <td>Other</td>\n",
       "      <td>Other Criminal</td>\n",
       "      <td>Parole</td>\n",
       "      <td>6JD</td>\n",
       "      <td>No</td>\n",
       "      <td>Yes</td>\n",
       "      <td>No Recidivism</td>\n",
       "      <td>Male</td>\n",
       "      <td>-1.565789</td>\n",
       "    </tr>\n",
       "    <tr>\n",
       "      <th>4</th>\n",
       "      <td>2010</td>\n",
       "      <td>2013</td>\n",
       "      <td>Black - Non-Hispanic</td>\n",
       "      <td>35-44</td>\n",
       "      <td>D Felony</td>\n",
       "      <td>Violent</td>\n",
       "      <td>Assault</td>\n",
       "      <td>Discharged – End of Sentence</td>\n",
       "      <td>MISSING</td>\n",
       "      <td>Yes</td>\n",
       "      <td>No</td>\n",
       "      <td>Tech</td>\n",
       "      <td>Male</td>\n",
       "      <td>-1.565789</td>\n",
       "    </tr>\n",
       "  </tbody>\n",
       "</table>\n",
       "</div>"
      ],
      "text/plain": [
       "   Fiscal Year Released  Recidivism Reporting Year      Race - Ethnicity  \\\n",
       "0                  2010                       2013  Black - Non-Hispanic   \n",
       "1                  2010                       2013  White - Non-Hispanic   \n",
       "2                  2010                       2013  White - Non-Hispanic   \n",
       "3                  2010                       2013  White - Non-Hispanic   \n",
       "4                  2010                       2013  Black - Non-Hispanic   \n",
       "\n",
       "  Age At Release  Convicting Offense Classification Convicting Offense Type  \\\n",
       "0           25-34                          C Felony                 Violent   \n",
       "1           25-34                          D Felony                Property   \n",
       "2           35-44                          B Felony                    Drug   \n",
       "3           25-34                          B Felony                   Other   \n",
       "4           35-44                          D Felony                 Violent   \n",
       "\n",
       "  Convicting Offense Subtype                  Release Type  \\\n",
       "0                    Robbery                        Parole   \n",
       "1                      Theft  Discharged – End of Sentence   \n",
       "2                Trafficking                        Parole   \n",
       "3             Other Criminal                        Parole   \n",
       "4                    Assault  Discharged – End of Sentence   \n",
       "\n",
       "  Main Supervising District Recidivism - Return to Prison  \\\n",
       "0                       7JD                           Yes   \n",
       "1                   MISSING                           Yes   \n",
       "2                       5JD                           Yes   \n",
       "3                       6JD                            No   \n",
       "4                   MISSING                           Yes   \n",
       "\n",
       "  Part of Target Population Recidivism Type   Sex  scaled_year_released  \n",
       "0                       Yes             New  Male             -1.565789  \n",
       "1                        No            Tech  Male             -1.565789  \n",
       "2                       Yes            Tech  Male             -1.565789  \n",
       "3                       Yes   No Recidivism  Male             -1.565789  \n",
       "4                        No            Tech  Male             -1.565789  "
      ]
     },
     "execution_count": 28,
     "metadata": {},
     "output_type": "execute_result"
    }
   ],
   "source": [
    "## Inverse transform scaled_year_released\n",
    "df['scaled_year_released'] = scaler.transform(df[['Fiscal Year Released']])\n",
    "df.head()"
   ]
  },
  {
   "cell_type": "code",
   "execution_count": 29,
   "metadata": {},
   "outputs": [
    {
     "data": {
      "text/plain": [
       "array([[2010.],\n",
       "       [2010.],\n",
       "       [2010.],\n",
       "       ...,\n",
       "       [2015.],\n",
       "       [2015.],\n",
       "       [2015.]])"
      ]
     },
     "execution_count": 29,
     "metadata": {},
     "output_type": "execute_result"
    }
   ],
   "source": [
    "scaler.inverse_transform(df[['scaled_year_released']])"
   ]
  },
  {
   "cell_type": "code",
   "execution_count": 30,
   "metadata": {
    "ExecuteTime": {
     "end_time": "2020-09-09T15:14:07.317468Z",
     "start_time": "2020-09-09T15:14:07.315684Z"
    }
   },
   "outputs": [
    {
     "data": {
      "text/plain": [
       "array([[-1.56578856],\n",
       "       [-1.56578856],\n",
       "       [-1.56578856],\n",
       "       ...,\n",
       "       [ 1.44445336],\n",
       "       [ 1.44445336],\n",
       "       [ 1.44445336]])"
      ]
     },
     "execution_count": 30,
     "metadata": {},
     "output_type": "execute_result"
    }
   ],
   "source": [
    "scaler.fit_transform(df[['Fiscal Year Released']])"
   ]
  },
  {
   "cell_type": "code",
   "execution_count": 31,
   "metadata": {
    "ExecuteTime": {
     "end_time": "2020-09-09T15:44:40.924260Z",
     "start_time": "2020-09-09T15:44:40.920393Z"
    }
   },
   "outputs": [
    {
     "data": {
      "text/plain": [
       "OneHotEncoder(drop='if_binary', sparse=False)"
      ]
     },
     "execution_count": 31,
     "metadata": {},
     "output_type": "execute_result"
    }
   ],
   "source": [
    "## Intiialize an encoder\n",
    "encoder = OneHotEncoder(sparse=False,drop='if_binary')\n",
    "encoder"
   ]
  },
  {
   "cell_type": "code",
   "execution_count": 32,
   "metadata": {},
   "outputs": [
    {
     "data": {
      "text/plain": [
       "Index(['Race - Ethnicity', 'Age At Release ',\n",
       "       'Convicting Offense Classification', 'Convicting Offense Type',\n",
       "       'Convicting Offense Subtype', 'Release Type',\n",
       "       'Main Supervising District', 'Recidivism - Return to Prison',\n",
       "       'Part of Target Population', 'Recidivism Type', 'Sex'],\n",
       "      dtype='object')"
      ]
     },
     "execution_count": 32,
     "metadata": {},
     "output_type": "execute_result"
    }
   ],
   "source": [
    "## Get list of cols to encode\n",
    "cat_cols = df.select_dtypes('O').columns\n",
    "cat_cols"
   ]
  },
  {
   "cell_type": "code",
   "execution_count": 33,
   "metadata": {
    "ExecuteTime": {
     "end_time": "2020-09-09T15:44:41.519731Z",
     "start_time": "2020-09-09T15:44:41.420961Z"
    }
   },
   "outputs": [
    {
     "data": {
      "text/html": [
       "<div>\n",
       "<style scoped>\n",
       "    .dataframe tbody tr th:only-of-type {\n",
       "        vertical-align: middle;\n",
       "    }\n",
       "\n",
       "    .dataframe tbody tr th {\n",
       "        vertical-align: top;\n",
       "    }\n",
       "\n",
       "    .dataframe thead th {\n",
       "        text-align: right;\n",
       "    }\n",
       "</style>\n",
       "<table border=\"1\" class=\"dataframe\">\n",
       "  <thead>\n",
       "    <tr style=\"text-align: right;\">\n",
       "      <th></th>\n",
       "      <th>0</th>\n",
       "      <th>1</th>\n",
       "      <th>2</th>\n",
       "      <th>3</th>\n",
       "      <th>4</th>\n",
       "      <th>5</th>\n",
       "      <th>6</th>\n",
       "      <th>7</th>\n",
       "      <th>8</th>\n",
       "      <th>9</th>\n",
       "      <th>...</th>\n",
       "      <th>86</th>\n",
       "      <th>87</th>\n",
       "      <th>88</th>\n",
       "      <th>89</th>\n",
       "      <th>90</th>\n",
       "      <th>91</th>\n",
       "      <th>92</th>\n",
       "      <th>93</th>\n",
       "      <th>94</th>\n",
       "      <th>95</th>\n",
       "    </tr>\n",
       "  </thead>\n",
       "  <tbody>\n",
       "    <tr>\n",
       "      <th>0</th>\n",
       "      <td>0.0</td>\n",
       "      <td>0.0</td>\n",
       "      <td>0.0</td>\n",
       "      <td>0.0</td>\n",
       "      <td>0.0</td>\n",
       "      <td>0.0</td>\n",
       "      <td>1.0</td>\n",
       "      <td>0.0</td>\n",
       "      <td>0.0</td>\n",
       "      <td>0.0</td>\n",
       "      <td>...</td>\n",
       "      <td>0.0</td>\n",
       "      <td>0.0</td>\n",
       "      <td>1.0</td>\n",
       "      <td>1.0</td>\n",
       "      <td>1.0</td>\n",
       "      <td>0.0</td>\n",
       "      <td>0.0</td>\n",
       "      <td>0.0</td>\n",
       "      <td>0.0</td>\n",
       "      <td>1.0</td>\n",
       "    </tr>\n",
       "    <tr>\n",
       "      <th>1</th>\n",
       "      <td>0.0</td>\n",
       "      <td>0.0</td>\n",
       "      <td>0.0</td>\n",
       "      <td>0.0</td>\n",
       "      <td>0.0</td>\n",
       "      <td>0.0</td>\n",
       "      <td>0.0</td>\n",
       "      <td>0.0</td>\n",
       "      <td>0.0</td>\n",
       "      <td>0.0</td>\n",
       "      <td>...</td>\n",
       "      <td>0.0</td>\n",
       "      <td>1.0</td>\n",
       "      <td>1.0</td>\n",
       "      <td>0.0</td>\n",
       "      <td>0.0</td>\n",
       "      <td>0.0</td>\n",
       "      <td>1.0</td>\n",
       "      <td>0.0</td>\n",
       "      <td>0.0</td>\n",
       "      <td>1.0</td>\n",
       "    </tr>\n",
       "    <tr>\n",
       "      <th>2</th>\n",
       "      <td>0.0</td>\n",
       "      <td>0.0</td>\n",
       "      <td>0.0</td>\n",
       "      <td>0.0</td>\n",
       "      <td>0.0</td>\n",
       "      <td>0.0</td>\n",
       "      <td>0.0</td>\n",
       "      <td>0.0</td>\n",
       "      <td>0.0</td>\n",
       "      <td>0.0</td>\n",
       "      <td>...</td>\n",
       "      <td>0.0</td>\n",
       "      <td>0.0</td>\n",
       "      <td>1.0</td>\n",
       "      <td>1.0</td>\n",
       "      <td>0.0</td>\n",
       "      <td>0.0</td>\n",
       "      <td>1.0</td>\n",
       "      <td>0.0</td>\n",
       "      <td>0.0</td>\n",
       "      <td>1.0</td>\n",
       "    </tr>\n",
       "    <tr>\n",
       "      <th>3</th>\n",
       "      <td>0.0</td>\n",
       "      <td>0.0</td>\n",
       "      <td>0.0</td>\n",
       "      <td>0.0</td>\n",
       "      <td>0.0</td>\n",
       "      <td>0.0</td>\n",
       "      <td>0.0</td>\n",
       "      <td>0.0</td>\n",
       "      <td>0.0</td>\n",
       "      <td>0.0</td>\n",
       "      <td>...</td>\n",
       "      <td>0.0</td>\n",
       "      <td>0.0</td>\n",
       "      <td>0.0</td>\n",
       "      <td>1.0</td>\n",
       "      <td>0.0</td>\n",
       "      <td>1.0</td>\n",
       "      <td>0.0</td>\n",
       "      <td>0.0</td>\n",
       "      <td>0.0</td>\n",
       "      <td>1.0</td>\n",
       "    </tr>\n",
       "    <tr>\n",
       "      <th>4</th>\n",
       "      <td>0.0</td>\n",
       "      <td>0.0</td>\n",
       "      <td>0.0</td>\n",
       "      <td>0.0</td>\n",
       "      <td>0.0</td>\n",
       "      <td>0.0</td>\n",
       "      <td>1.0</td>\n",
       "      <td>0.0</td>\n",
       "      <td>0.0</td>\n",
       "      <td>0.0</td>\n",
       "      <td>...</td>\n",
       "      <td>0.0</td>\n",
       "      <td>1.0</td>\n",
       "      <td>1.0</td>\n",
       "      <td>0.0</td>\n",
       "      <td>0.0</td>\n",
       "      <td>0.0</td>\n",
       "      <td>1.0</td>\n",
       "      <td>0.0</td>\n",
       "      <td>0.0</td>\n",
       "      <td>1.0</td>\n",
       "    </tr>\n",
       "    <tr>\n",
       "      <th>...</th>\n",
       "      <td>...</td>\n",
       "      <td>...</td>\n",
       "      <td>...</td>\n",
       "      <td>...</td>\n",
       "      <td>...</td>\n",
       "      <td>...</td>\n",
       "      <td>...</td>\n",
       "      <td>...</td>\n",
       "      <td>...</td>\n",
       "      <td>...</td>\n",
       "      <td>...</td>\n",
       "      <td>...</td>\n",
       "      <td>...</td>\n",
       "      <td>...</td>\n",
       "      <td>...</td>\n",
       "      <td>...</td>\n",
       "      <td>...</td>\n",
       "      <td>...</td>\n",
       "      <td>...</td>\n",
       "      <td>...</td>\n",
       "      <td>...</td>\n",
       "    </tr>\n",
       "    <tr>\n",
       "      <th>26015</th>\n",
       "      <td>0.0</td>\n",
       "      <td>0.0</td>\n",
       "      <td>0.0</td>\n",
       "      <td>0.0</td>\n",
       "      <td>0.0</td>\n",
       "      <td>0.0</td>\n",
       "      <td>0.0</td>\n",
       "      <td>0.0</td>\n",
       "      <td>0.0</td>\n",
       "      <td>0.0</td>\n",
       "      <td>...</td>\n",
       "      <td>0.0</td>\n",
       "      <td>1.0</td>\n",
       "      <td>0.0</td>\n",
       "      <td>1.0</td>\n",
       "      <td>0.0</td>\n",
       "      <td>1.0</td>\n",
       "      <td>0.0</td>\n",
       "      <td>0.0</td>\n",
       "      <td>0.0</td>\n",
       "      <td>1.0</td>\n",
       "    </tr>\n",
       "    <tr>\n",
       "      <th>26016</th>\n",
       "      <td>0.0</td>\n",
       "      <td>0.0</td>\n",
       "      <td>0.0</td>\n",
       "      <td>0.0</td>\n",
       "      <td>0.0</td>\n",
       "      <td>0.0</td>\n",
       "      <td>0.0</td>\n",
       "      <td>0.0</td>\n",
       "      <td>0.0</td>\n",
       "      <td>0.0</td>\n",
       "      <td>...</td>\n",
       "      <td>0.0</td>\n",
       "      <td>0.0</td>\n",
       "      <td>0.0</td>\n",
       "      <td>0.0</td>\n",
       "      <td>0.0</td>\n",
       "      <td>1.0</td>\n",
       "      <td>0.0</td>\n",
       "      <td>0.0</td>\n",
       "      <td>0.0</td>\n",
       "      <td>1.0</td>\n",
       "    </tr>\n",
       "    <tr>\n",
       "      <th>26017</th>\n",
       "      <td>0.0</td>\n",
       "      <td>0.0</td>\n",
       "      <td>0.0</td>\n",
       "      <td>0.0</td>\n",
       "      <td>0.0</td>\n",
       "      <td>0.0</td>\n",
       "      <td>0.0</td>\n",
       "      <td>0.0</td>\n",
       "      <td>0.0</td>\n",
       "      <td>0.0</td>\n",
       "      <td>...</td>\n",
       "      <td>0.0</td>\n",
       "      <td>0.0</td>\n",
       "      <td>0.0</td>\n",
       "      <td>0.0</td>\n",
       "      <td>0.0</td>\n",
       "      <td>1.0</td>\n",
       "      <td>0.0</td>\n",
       "      <td>1.0</td>\n",
       "      <td>0.0</td>\n",
       "      <td>0.0</td>\n",
       "    </tr>\n",
       "    <tr>\n",
       "      <th>26018</th>\n",
       "      <td>0.0</td>\n",
       "      <td>0.0</td>\n",
       "      <td>0.0</td>\n",
       "      <td>0.0</td>\n",
       "      <td>0.0</td>\n",
       "      <td>0.0</td>\n",
       "      <td>0.0</td>\n",
       "      <td>0.0</td>\n",
       "      <td>0.0</td>\n",
       "      <td>0.0</td>\n",
       "      <td>...</td>\n",
       "      <td>0.0</td>\n",
       "      <td>0.0</td>\n",
       "      <td>0.0</td>\n",
       "      <td>1.0</td>\n",
       "      <td>0.0</td>\n",
       "      <td>1.0</td>\n",
       "      <td>0.0</td>\n",
       "      <td>0.0</td>\n",
       "      <td>0.0</td>\n",
       "      <td>1.0</td>\n",
       "    </tr>\n",
       "    <tr>\n",
       "      <th>26019</th>\n",
       "      <td>0.0</td>\n",
       "      <td>0.0</td>\n",
       "      <td>0.0</td>\n",
       "      <td>0.0</td>\n",
       "      <td>0.0</td>\n",
       "      <td>0.0</td>\n",
       "      <td>0.0</td>\n",
       "      <td>0.0</td>\n",
       "      <td>0.0</td>\n",
       "      <td>0.0</td>\n",
       "      <td>...</td>\n",
       "      <td>0.0</td>\n",
       "      <td>1.0</td>\n",
       "      <td>1.0</td>\n",
       "      <td>1.0</td>\n",
       "      <td>0.0</td>\n",
       "      <td>0.0</td>\n",
       "      <td>1.0</td>\n",
       "      <td>0.0</td>\n",
       "      <td>0.0</td>\n",
       "      <td>1.0</td>\n",
       "    </tr>\n",
       "  </tbody>\n",
       "</table>\n",
       "<p>26020 rows × 96 columns</p>\n",
       "</div>"
      ],
      "text/plain": [
       "        0    1    2    3    4    5    6    7    8    9   ...   86   87   88  \\\n",
       "0      0.0  0.0  0.0  0.0  0.0  0.0  1.0  0.0  0.0  0.0  ...  0.0  0.0  1.0   \n",
       "1      0.0  0.0  0.0  0.0  0.0  0.0  0.0  0.0  0.0  0.0  ...  0.0  1.0  1.0   \n",
       "2      0.0  0.0  0.0  0.0  0.0  0.0  0.0  0.0  0.0  0.0  ...  0.0  0.0  1.0   \n",
       "3      0.0  0.0  0.0  0.0  0.0  0.0  0.0  0.0  0.0  0.0  ...  0.0  0.0  0.0   \n",
       "4      0.0  0.0  0.0  0.0  0.0  0.0  1.0  0.0  0.0  0.0  ...  0.0  1.0  1.0   \n",
       "...    ...  ...  ...  ...  ...  ...  ...  ...  ...  ...  ...  ...  ...  ...   \n",
       "26015  0.0  0.0  0.0  0.0  0.0  0.0  0.0  0.0  0.0  0.0  ...  0.0  1.0  0.0   \n",
       "26016  0.0  0.0  0.0  0.0  0.0  0.0  0.0  0.0  0.0  0.0  ...  0.0  0.0  0.0   \n",
       "26017  0.0  0.0  0.0  0.0  0.0  0.0  0.0  0.0  0.0  0.0  ...  0.0  0.0  0.0   \n",
       "26018  0.0  0.0  0.0  0.0  0.0  0.0  0.0  0.0  0.0  0.0  ...  0.0  0.0  0.0   \n",
       "26019  0.0  0.0  0.0  0.0  0.0  0.0  0.0  0.0  0.0  0.0  ...  0.0  1.0  1.0   \n",
       "\n",
       "        89   90   91   92   93   94   95  \n",
       "0      1.0  1.0  0.0  0.0  0.0  0.0  1.0  \n",
       "1      0.0  0.0  0.0  1.0  0.0  0.0  1.0  \n",
       "2      1.0  0.0  0.0  1.0  0.0  0.0  1.0  \n",
       "3      1.0  0.0  1.0  0.0  0.0  0.0  1.0  \n",
       "4      0.0  0.0  0.0  1.0  0.0  0.0  1.0  \n",
       "...    ...  ...  ...  ...  ...  ...  ...  \n",
       "26015  1.0  0.0  1.0  0.0  0.0  0.0  1.0  \n",
       "26016  0.0  0.0  1.0  0.0  0.0  0.0  1.0  \n",
       "26017  0.0  0.0  1.0  0.0  1.0  0.0  0.0  \n",
       "26018  1.0  0.0  1.0  0.0  0.0  0.0  1.0  \n",
       "26019  1.0  0.0  0.0  1.0  0.0  0.0  1.0  \n",
       "\n",
       "[26020 rows x 96 columns]"
      ]
     },
     "execution_count": 33,
     "metadata": {},
     "output_type": "execute_result"
    }
   ],
   "source": [
    "## Make ohe_data from encoder\n",
    "ohe_data = encoder.fit_transform(df[cat_cols])\n",
    "pd.DataFrame(ohe_data)"
   ]
  },
  {
   "cell_type": "code",
   "execution_count": 34,
   "metadata": {},
   "outputs": [
    {
     "data": {
      "text/html": [
       "<div>\n",
       "<style scoped>\n",
       "    .dataframe tbody tr th:only-of-type {\n",
       "        vertical-align: middle;\n",
       "    }\n",
       "\n",
       "    .dataframe tbody tr th {\n",
       "        vertical-align: top;\n",
       "    }\n",
       "\n",
       "    .dataframe thead th {\n",
       "        text-align: right;\n",
       "    }\n",
       "</style>\n",
       "<table border=\"1\" class=\"dataframe\">\n",
       "  <thead>\n",
       "    <tr style=\"text-align: right;\">\n",
       "      <th></th>\n",
       "      <th>Race - Ethnicity_American Indian or Alaska Native - Hispanic</th>\n",
       "      <th>Race - Ethnicity_American Indian or Alaska Native - Non-Hispanic</th>\n",
       "      <th>Race - Ethnicity_Asian or Pacific Islander - Hispanic</th>\n",
       "      <th>Race - Ethnicity_Asian or Pacific Islander - Non-Hispanic</th>\n",
       "      <th>Race - Ethnicity_Black -</th>\n",
       "      <th>Race - Ethnicity_Black - Hispanic</th>\n",
       "      <th>Race - Ethnicity_Black - Non-Hispanic</th>\n",
       "      <th>Race - Ethnicity_MISSING</th>\n",
       "      <th>Race - Ethnicity_N/A -</th>\n",
       "      <th>Race - Ethnicity_White -</th>\n",
       "      <th>...</th>\n",
       "      <th>Main Supervising District_Interstate Compact</th>\n",
       "      <th>Main Supervising District_MISSING</th>\n",
       "      <th>Recidivism - Return to Prison_Yes</th>\n",
       "      <th>Part of Target Population_Yes</th>\n",
       "      <th>Recidivism Type_New</th>\n",
       "      <th>Recidivism Type_No Recidivism</th>\n",
       "      <th>Recidivism Type_Tech</th>\n",
       "      <th>Sex_Female</th>\n",
       "      <th>Sex_MISSING</th>\n",
       "      <th>Sex_Male</th>\n",
       "    </tr>\n",
       "  </thead>\n",
       "  <tbody>\n",
       "    <tr>\n",
       "      <th>0</th>\n",
       "      <td>0.0</td>\n",
       "      <td>0.0</td>\n",
       "      <td>0.0</td>\n",
       "      <td>0.0</td>\n",
       "      <td>0.0</td>\n",
       "      <td>0.0</td>\n",
       "      <td>1.0</td>\n",
       "      <td>0.0</td>\n",
       "      <td>0.0</td>\n",
       "      <td>0.0</td>\n",
       "      <td>...</td>\n",
       "      <td>0.0</td>\n",
       "      <td>0.0</td>\n",
       "      <td>1.0</td>\n",
       "      <td>1.0</td>\n",
       "      <td>1.0</td>\n",
       "      <td>0.0</td>\n",
       "      <td>0.0</td>\n",
       "      <td>0.0</td>\n",
       "      <td>0.0</td>\n",
       "      <td>1.0</td>\n",
       "    </tr>\n",
       "    <tr>\n",
       "      <th>1</th>\n",
       "      <td>0.0</td>\n",
       "      <td>0.0</td>\n",
       "      <td>0.0</td>\n",
       "      <td>0.0</td>\n",
       "      <td>0.0</td>\n",
       "      <td>0.0</td>\n",
       "      <td>0.0</td>\n",
       "      <td>0.0</td>\n",
       "      <td>0.0</td>\n",
       "      <td>0.0</td>\n",
       "      <td>...</td>\n",
       "      <td>0.0</td>\n",
       "      <td>1.0</td>\n",
       "      <td>1.0</td>\n",
       "      <td>0.0</td>\n",
       "      <td>0.0</td>\n",
       "      <td>0.0</td>\n",
       "      <td>1.0</td>\n",
       "      <td>0.0</td>\n",
       "      <td>0.0</td>\n",
       "      <td>1.0</td>\n",
       "    </tr>\n",
       "    <tr>\n",
       "      <th>2</th>\n",
       "      <td>0.0</td>\n",
       "      <td>0.0</td>\n",
       "      <td>0.0</td>\n",
       "      <td>0.0</td>\n",
       "      <td>0.0</td>\n",
       "      <td>0.0</td>\n",
       "      <td>0.0</td>\n",
       "      <td>0.0</td>\n",
       "      <td>0.0</td>\n",
       "      <td>0.0</td>\n",
       "      <td>...</td>\n",
       "      <td>0.0</td>\n",
       "      <td>0.0</td>\n",
       "      <td>1.0</td>\n",
       "      <td>1.0</td>\n",
       "      <td>0.0</td>\n",
       "      <td>0.0</td>\n",
       "      <td>1.0</td>\n",
       "      <td>0.0</td>\n",
       "      <td>0.0</td>\n",
       "      <td>1.0</td>\n",
       "    </tr>\n",
       "    <tr>\n",
       "      <th>3</th>\n",
       "      <td>0.0</td>\n",
       "      <td>0.0</td>\n",
       "      <td>0.0</td>\n",
       "      <td>0.0</td>\n",
       "      <td>0.0</td>\n",
       "      <td>0.0</td>\n",
       "      <td>0.0</td>\n",
       "      <td>0.0</td>\n",
       "      <td>0.0</td>\n",
       "      <td>0.0</td>\n",
       "      <td>...</td>\n",
       "      <td>0.0</td>\n",
       "      <td>0.0</td>\n",
       "      <td>0.0</td>\n",
       "      <td>1.0</td>\n",
       "      <td>0.0</td>\n",
       "      <td>1.0</td>\n",
       "      <td>0.0</td>\n",
       "      <td>0.0</td>\n",
       "      <td>0.0</td>\n",
       "      <td>1.0</td>\n",
       "    </tr>\n",
       "    <tr>\n",
       "      <th>4</th>\n",
       "      <td>0.0</td>\n",
       "      <td>0.0</td>\n",
       "      <td>0.0</td>\n",
       "      <td>0.0</td>\n",
       "      <td>0.0</td>\n",
       "      <td>0.0</td>\n",
       "      <td>1.0</td>\n",
       "      <td>0.0</td>\n",
       "      <td>0.0</td>\n",
       "      <td>0.0</td>\n",
       "      <td>...</td>\n",
       "      <td>0.0</td>\n",
       "      <td>1.0</td>\n",
       "      <td>1.0</td>\n",
       "      <td>0.0</td>\n",
       "      <td>0.0</td>\n",
       "      <td>0.0</td>\n",
       "      <td>1.0</td>\n",
       "      <td>0.0</td>\n",
       "      <td>0.0</td>\n",
       "      <td>1.0</td>\n",
       "    </tr>\n",
       "    <tr>\n",
       "      <th>...</th>\n",
       "      <td>...</td>\n",
       "      <td>...</td>\n",
       "      <td>...</td>\n",
       "      <td>...</td>\n",
       "      <td>...</td>\n",
       "      <td>...</td>\n",
       "      <td>...</td>\n",
       "      <td>...</td>\n",
       "      <td>...</td>\n",
       "      <td>...</td>\n",
       "      <td>...</td>\n",
       "      <td>...</td>\n",
       "      <td>...</td>\n",
       "      <td>...</td>\n",
       "      <td>...</td>\n",
       "      <td>...</td>\n",
       "      <td>...</td>\n",
       "      <td>...</td>\n",
       "      <td>...</td>\n",
       "      <td>...</td>\n",
       "      <td>...</td>\n",
       "    </tr>\n",
       "    <tr>\n",
       "      <th>26015</th>\n",
       "      <td>0.0</td>\n",
       "      <td>0.0</td>\n",
       "      <td>0.0</td>\n",
       "      <td>0.0</td>\n",
       "      <td>0.0</td>\n",
       "      <td>0.0</td>\n",
       "      <td>0.0</td>\n",
       "      <td>0.0</td>\n",
       "      <td>0.0</td>\n",
       "      <td>0.0</td>\n",
       "      <td>...</td>\n",
       "      <td>0.0</td>\n",
       "      <td>1.0</td>\n",
       "      <td>0.0</td>\n",
       "      <td>1.0</td>\n",
       "      <td>0.0</td>\n",
       "      <td>1.0</td>\n",
       "      <td>0.0</td>\n",
       "      <td>0.0</td>\n",
       "      <td>0.0</td>\n",
       "      <td>1.0</td>\n",
       "    </tr>\n",
       "    <tr>\n",
       "      <th>26016</th>\n",
       "      <td>0.0</td>\n",
       "      <td>0.0</td>\n",
       "      <td>0.0</td>\n",
       "      <td>0.0</td>\n",
       "      <td>0.0</td>\n",
       "      <td>0.0</td>\n",
       "      <td>0.0</td>\n",
       "      <td>0.0</td>\n",
       "      <td>0.0</td>\n",
       "      <td>0.0</td>\n",
       "      <td>...</td>\n",
       "      <td>0.0</td>\n",
       "      <td>0.0</td>\n",
       "      <td>0.0</td>\n",
       "      <td>0.0</td>\n",
       "      <td>0.0</td>\n",
       "      <td>1.0</td>\n",
       "      <td>0.0</td>\n",
       "      <td>0.0</td>\n",
       "      <td>0.0</td>\n",
       "      <td>1.0</td>\n",
       "    </tr>\n",
       "    <tr>\n",
       "      <th>26017</th>\n",
       "      <td>0.0</td>\n",
       "      <td>0.0</td>\n",
       "      <td>0.0</td>\n",
       "      <td>0.0</td>\n",
       "      <td>0.0</td>\n",
       "      <td>0.0</td>\n",
       "      <td>0.0</td>\n",
       "      <td>0.0</td>\n",
       "      <td>0.0</td>\n",
       "      <td>0.0</td>\n",
       "      <td>...</td>\n",
       "      <td>0.0</td>\n",
       "      <td>0.0</td>\n",
       "      <td>0.0</td>\n",
       "      <td>0.0</td>\n",
       "      <td>0.0</td>\n",
       "      <td>1.0</td>\n",
       "      <td>0.0</td>\n",
       "      <td>1.0</td>\n",
       "      <td>0.0</td>\n",
       "      <td>0.0</td>\n",
       "    </tr>\n",
       "    <tr>\n",
       "      <th>26018</th>\n",
       "      <td>0.0</td>\n",
       "      <td>0.0</td>\n",
       "      <td>0.0</td>\n",
       "      <td>0.0</td>\n",
       "      <td>0.0</td>\n",
       "      <td>0.0</td>\n",
       "      <td>0.0</td>\n",
       "      <td>0.0</td>\n",
       "      <td>0.0</td>\n",
       "      <td>0.0</td>\n",
       "      <td>...</td>\n",
       "      <td>0.0</td>\n",
       "      <td>0.0</td>\n",
       "      <td>0.0</td>\n",
       "      <td>1.0</td>\n",
       "      <td>0.0</td>\n",
       "      <td>1.0</td>\n",
       "      <td>0.0</td>\n",
       "      <td>0.0</td>\n",
       "      <td>0.0</td>\n",
       "      <td>1.0</td>\n",
       "    </tr>\n",
       "    <tr>\n",
       "      <th>26019</th>\n",
       "      <td>0.0</td>\n",
       "      <td>0.0</td>\n",
       "      <td>0.0</td>\n",
       "      <td>0.0</td>\n",
       "      <td>0.0</td>\n",
       "      <td>0.0</td>\n",
       "      <td>0.0</td>\n",
       "      <td>0.0</td>\n",
       "      <td>0.0</td>\n",
       "      <td>0.0</td>\n",
       "      <td>...</td>\n",
       "      <td>0.0</td>\n",
       "      <td>1.0</td>\n",
       "      <td>1.0</td>\n",
       "      <td>1.0</td>\n",
       "      <td>0.0</td>\n",
       "      <td>0.0</td>\n",
       "      <td>1.0</td>\n",
       "      <td>0.0</td>\n",
       "      <td>0.0</td>\n",
       "      <td>1.0</td>\n",
       "    </tr>\n",
       "  </tbody>\n",
       "</table>\n",
       "<p>26020 rows × 96 columns</p>\n",
       "</div>"
      ],
      "text/plain": [
       "       Race - Ethnicity_American Indian or Alaska Native - Hispanic  \\\n",
       "0                                                    0.0              \n",
       "1                                                    0.0              \n",
       "2                                                    0.0              \n",
       "3                                                    0.0              \n",
       "4                                                    0.0              \n",
       "...                                                  ...              \n",
       "26015                                                0.0              \n",
       "26016                                                0.0              \n",
       "26017                                                0.0              \n",
       "26018                                                0.0              \n",
       "26019                                                0.0              \n",
       "\n",
       "       Race - Ethnicity_American Indian or Alaska Native - Non-Hispanic  \\\n",
       "0                                                    0.0                  \n",
       "1                                                    0.0                  \n",
       "2                                                    0.0                  \n",
       "3                                                    0.0                  \n",
       "4                                                    0.0                  \n",
       "...                                                  ...                  \n",
       "26015                                                0.0                  \n",
       "26016                                                0.0                  \n",
       "26017                                                0.0                  \n",
       "26018                                                0.0                  \n",
       "26019                                                0.0                  \n",
       "\n",
       "       Race - Ethnicity_Asian or Pacific Islander - Hispanic  \\\n",
       "0                                                    0.0       \n",
       "1                                                    0.0       \n",
       "2                                                    0.0       \n",
       "3                                                    0.0       \n",
       "4                                                    0.0       \n",
       "...                                                  ...       \n",
       "26015                                                0.0       \n",
       "26016                                                0.0       \n",
       "26017                                                0.0       \n",
       "26018                                                0.0       \n",
       "26019                                                0.0       \n",
       "\n",
       "       Race - Ethnicity_Asian or Pacific Islander - Non-Hispanic  \\\n",
       "0                                                    0.0           \n",
       "1                                                    0.0           \n",
       "2                                                    0.0           \n",
       "3                                                    0.0           \n",
       "4                                                    0.0           \n",
       "...                                                  ...           \n",
       "26015                                                0.0           \n",
       "26016                                                0.0           \n",
       "26017                                                0.0           \n",
       "26018                                                0.0           \n",
       "26019                                                0.0           \n",
       "\n",
       "       Race - Ethnicity_Black -  Race - Ethnicity_Black - Hispanic  \\\n",
       "0                           0.0                                0.0   \n",
       "1                           0.0                                0.0   \n",
       "2                           0.0                                0.0   \n",
       "3                           0.0                                0.0   \n",
       "4                           0.0                                0.0   \n",
       "...                         ...                                ...   \n",
       "26015                       0.0                                0.0   \n",
       "26016                       0.0                                0.0   \n",
       "26017                       0.0                                0.0   \n",
       "26018                       0.0                                0.0   \n",
       "26019                       0.0                                0.0   \n",
       "\n",
       "       Race - Ethnicity_Black - Non-Hispanic  Race - Ethnicity_MISSING  \\\n",
       "0                                        1.0                       0.0   \n",
       "1                                        0.0                       0.0   \n",
       "2                                        0.0                       0.0   \n",
       "3                                        0.0                       0.0   \n",
       "4                                        1.0                       0.0   \n",
       "...                                      ...                       ...   \n",
       "26015                                    0.0                       0.0   \n",
       "26016                                    0.0                       0.0   \n",
       "26017                                    0.0                       0.0   \n",
       "26018                                    0.0                       0.0   \n",
       "26019                                    0.0                       0.0   \n",
       "\n",
       "       Race - Ethnicity_N/A -  Race - Ethnicity_White -  ...  \\\n",
       "0                         0.0                       0.0  ...   \n",
       "1                         0.0                       0.0  ...   \n",
       "2                         0.0                       0.0  ...   \n",
       "3                         0.0                       0.0  ...   \n",
       "4                         0.0                       0.0  ...   \n",
       "...                       ...                       ...  ...   \n",
       "26015                     0.0                       0.0  ...   \n",
       "26016                     0.0                       0.0  ...   \n",
       "26017                     0.0                       0.0  ...   \n",
       "26018                     0.0                       0.0  ...   \n",
       "26019                     0.0                       0.0  ...   \n",
       "\n",
       "       Main Supervising District_Interstate Compact  \\\n",
       "0                                               0.0   \n",
       "1                                               0.0   \n",
       "2                                               0.0   \n",
       "3                                               0.0   \n",
       "4                                               0.0   \n",
       "...                                             ...   \n",
       "26015                                           0.0   \n",
       "26016                                           0.0   \n",
       "26017                                           0.0   \n",
       "26018                                           0.0   \n",
       "26019                                           0.0   \n",
       "\n",
       "       Main Supervising District_MISSING  Recidivism - Return to Prison_Yes  \\\n",
       "0                                    0.0                                1.0   \n",
       "1                                    1.0                                1.0   \n",
       "2                                    0.0                                1.0   \n",
       "3                                    0.0                                0.0   \n",
       "4                                    1.0                                1.0   \n",
       "...                                  ...                                ...   \n",
       "26015                                1.0                                0.0   \n",
       "26016                                0.0                                0.0   \n",
       "26017                                0.0                                0.0   \n",
       "26018                                0.0                                0.0   \n",
       "26019                                1.0                                1.0   \n",
       "\n",
       "       Part of Target Population_Yes  Recidivism Type_New  \\\n",
       "0                                1.0                  1.0   \n",
       "1                                0.0                  0.0   \n",
       "2                                1.0                  0.0   \n",
       "3                                1.0                  0.0   \n",
       "4                                0.0                  0.0   \n",
       "...                              ...                  ...   \n",
       "26015                            1.0                  0.0   \n",
       "26016                            0.0                  0.0   \n",
       "26017                            0.0                  0.0   \n",
       "26018                            1.0                  0.0   \n",
       "26019                            1.0                  0.0   \n",
       "\n",
       "       Recidivism Type_No Recidivism  Recidivism Type_Tech  Sex_Female  \\\n",
       "0                                0.0                   0.0         0.0   \n",
       "1                                0.0                   1.0         0.0   \n",
       "2                                0.0                   1.0         0.0   \n",
       "3                                1.0                   0.0         0.0   \n",
       "4                                0.0                   1.0         0.0   \n",
       "...                              ...                   ...         ...   \n",
       "26015                            1.0                   0.0         0.0   \n",
       "26016                            1.0                   0.0         0.0   \n",
       "26017                            1.0                   0.0         1.0   \n",
       "26018                            1.0                   0.0         0.0   \n",
       "26019                            0.0                   1.0         0.0   \n",
       "\n",
       "       Sex_MISSING  Sex_Male  \n",
       "0              0.0       1.0  \n",
       "1              0.0       1.0  \n",
       "2              0.0       1.0  \n",
       "3              0.0       1.0  \n",
       "4              0.0       1.0  \n",
       "...            ...       ...  \n",
       "26015          0.0       1.0  \n",
       "26016          0.0       1.0  \n",
       "26017          0.0       0.0  \n",
       "26018          0.0       1.0  \n",
       "26019          0.0       1.0  \n",
       "\n",
       "[26020 rows x 96 columns]"
      ]
     },
     "execution_count": 34,
     "metadata": {},
     "output_type": "execute_result"
    }
   ],
   "source": [
    "df_ohe = pd.DataFrame(ohe_data, columns=encoder.get_feature_names(cat_cols))\n",
    "df_ohe"
   ]
  },
  {
   "cell_type": "code",
   "execution_count": 35,
   "metadata": {
    "ExecuteTime": {
     "end_time": "2020-09-09T15:45:26.663294Z",
     "start_time": "2020-09-09T15:45:26.605607Z"
    }
   },
   "outputs": [
    {
     "data": {
      "text/html": [
       "<div>\n",
       "<style scoped>\n",
       "    .dataframe tbody tr th:only-of-type {\n",
       "        vertical-align: middle;\n",
       "    }\n",
       "\n",
       "    .dataframe tbody tr th {\n",
       "        vertical-align: top;\n",
       "    }\n",
       "\n",
       "    .dataframe thead th {\n",
       "        text-align: right;\n",
       "    }\n",
       "</style>\n",
       "<table border=\"1\" class=\"dataframe\">\n",
       "  <thead>\n",
       "    <tr style=\"text-align: right;\">\n",
       "      <th></th>\n",
       "      <th>Fiscal Year Released</th>\n",
       "      <th>Recidivism Reporting Year</th>\n",
       "      <th>scaled_year_released</th>\n",
       "      <th>Race - Ethnicity_American Indian or Alaska Native - Hispanic</th>\n",
       "      <th>Race - Ethnicity_American Indian or Alaska Native - Non-Hispanic</th>\n",
       "      <th>Race - Ethnicity_Asian or Pacific Islander - Hispanic</th>\n",
       "      <th>Race - Ethnicity_Asian or Pacific Islander - Non-Hispanic</th>\n",
       "      <th>Race - Ethnicity_Black -</th>\n",
       "      <th>Race - Ethnicity_Black - Hispanic</th>\n",
       "      <th>Race - Ethnicity_Black - Non-Hispanic</th>\n",
       "      <th>...</th>\n",
       "      <th>Main Supervising District_Interstate Compact</th>\n",
       "      <th>Main Supervising District_MISSING</th>\n",
       "      <th>Recidivism - Return to Prison_Yes</th>\n",
       "      <th>Part of Target Population_Yes</th>\n",
       "      <th>Recidivism Type_New</th>\n",
       "      <th>Recidivism Type_No Recidivism</th>\n",
       "      <th>Recidivism Type_Tech</th>\n",
       "      <th>Sex_Female</th>\n",
       "      <th>Sex_MISSING</th>\n",
       "      <th>Sex_Male</th>\n",
       "    </tr>\n",
       "  </thead>\n",
       "  <tbody>\n",
       "    <tr>\n",
       "      <th>0</th>\n",
       "      <td>2010</td>\n",
       "      <td>2013</td>\n",
       "      <td>-1.565789</td>\n",
       "      <td>0.0</td>\n",
       "      <td>0.0</td>\n",
       "      <td>0.0</td>\n",
       "      <td>0.0</td>\n",
       "      <td>0.0</td>\n",
       "      <td>0.0</td>\n",
       "      <td>1.0</td>\n",
       "      <td>...</td>\n",
       "      <td>0.0</td>\n",
       "      <td>0.0</td>\n",
       "      <td>1.0</td>\n",
       "      <td>1.0</td>\n",
       "      <td>1.0</td>\n",
       "      <td>0.0</td>\n",
       "      <td>0.0</td>\n",
       "      <td>0.0</td>\n",
       "      <td>0.0</td>\n",
       "      <td>1.0</td>\n",
       "    </tr>\n",
       "    <tr>\n",
       "      <th>1</th>\n",
       "      <td>2010</td>\n",
       "      <td>2013</td>\n",
       "      <td>-1.565789</td>\n",
       "      <td>0.0</td>\n",
       "      <td>0.0</td>\n",
       "      <td>0.0</td>\n",
       "      <td>0.0</td>\n",
       "      <td>0.0</td>\n",
       "      <td>0.0</td>\n",
       "      <td>0.0</td>\n",
       "      <td>...</td>\n",
       "      <td>0.0</td>\n",
       "      <td>1.0</td>\n",
       "      <td>1.0</td>\n",
       "      <td>0.0</td>\n",
       "      <td>0.0</td>\n",
       "      <td>0.0</td>\n",
       "      <td>1.0</td>\n",
       "      <td>0.0</td>\n",
       "      <td>0.0</td>\n",
       "      <td>1.0</td>\n",
       "    </tr>\n",
       "    <tr>\n",
       "      <th>2</th>\n",
       "      <td>2010</td>\n",
       "      <td>2013</td>\n",
       "      <td>-1.565789</td>\n",
       "      <td>0.0</td>\n",
       "      <td>0.0</td>\n",
       "      <td>0.0</td>\n",
       "      <td>0.0</td>\n",
       "      <td>0.0</td>\n",
       "      <td>0.0</td>\n",
       "      <td>0.0</td>\n",
       "      <td>...</td>\n",
       "      <td>0.0</td>\n",
       "      <td>0.0</td>\n",
       "      <td>1.0</td>\n",
       "      <td>1.0</td>\n",
       "      <td>0.0</td>\n",
       "      <td>0.0</td>\n",
       "      <td>1.0</td>\n",
       "      <td>0.0</td>\n",
       "      <td>0.0</td>\n",
       "      <td>1.0</td>\n",
       "    </tr>\n",
       "    <tr>\n",
       "      <th>3</th>\n",
       "      <td>2010</td>\n",
       "      <td>2013</td>\n",
       "      <td>-1.565789</td>\n",
       "      <td>0.0</td>\n",
       "      <td>0.0</td>\n",
       "      <td>0.0</td>\n",
       "      <td>0.0</td>\n",
       "      <td>0.0</td>\n",
       "      <td>0.0</td>\n",
       "      <td>0.0</td>\n",
       "      <td>...</td>\n",
       "      <td>0.0</td>\n",
       "      <td>0.0</td>\n",
       "      <td>0.0</td>\n",
       "      <td>1.0</td>\n",
       "      <td>0.0</td>\n",
       "      <td>1.0</td>\n",
       "      <td>0.0</td>\n",
       "      <td>0.0</td>\n",
       "      <td>0.0</td>\n",
       "      <td>1.0</td>\n",
       "    </tr>\n",
       "    <tr>\n",
       "      <th>4</th>\n",
       "      <td>2010</td>\n",
       "      <td>2013</td>\n",
       "      <td>-1.565789</td>\n",
       "      <td>0.0</td>\n",
       "      <td>0.0</td>\n",
       "      <td>0.0</td>\n",
       "      <td>0.0</td>\n",
       "      <td>0.0</td>\n",
       "      <td>0.0</td>\n",
       "      <td>1.0</td>\n",
       "      <td>...</td>\n",
       "      <td>0.0</td>\n",
       "      <td>1.0</td>\n",
       "      <td>1.0</td>\n",
       "      <td>0.0</td>\n",
       "      <td>0.0</td>\n",
       "      <td>0.0</td>\n",
       "      <td>1.0</td>\n",
       "      <td>0.0</td>\n",
       "      <td>0.0</td>\n",
       "      <td>1.0</td>\n",
       "    </tr>\n",
       "    <tr>\n",
       "      <th>...</th>\n",
       "      <td>...</td>\n",
       "      <td>...</td>\n",
       "      <td>...</td>\n",
       "      <td>...</td>\n",
       "      <td>...</td>\n",
       "      <td>...</td>\n",
       "      <td>...</td>\n",
       "      <td>...</td>\n",
       "      <td>...</td>\n",
       "      <td>...</td>\n",
       "      <td>...</td>\n",
       "      <td>...</td>\n",
       "      <td>...</td>\n",
       "      <td>...</td>\n",
       "      <td>...</td>\n",
       "      <td>...</td>\n",
       "      <td>...</td>\n",
       "      <td>...</td>\n",
       "      <td>...</td>\n",
       "      <td>...</td>\n",
       "      <td>...</td>\n",
       "    </tr>\n",
       "    <tr>\n",
       "      <th>26015</th>\n",
       "      <td>2015</td>\n",
       "      <td>2018</td>\n",
       "      <td>1.444453</td>\n",
       "      <td>0.0</td>\n",
       "      <td>0.0</td>\n",
       "      <td>0.0</td>\n",
       "      <td>0.0</td>\n",
       "      <td>0.0</td>\n",
       "      <td>0.0</td>\n",
       "      <td>0.0</td>\n",
       "      <td>...</td>\n",
       "      <td>0.0</td>\n",
       "      <td>1.0</td>\n",
       "      <td>0.0</td>\n",
       "      <td>1.0</td>\n",
       "      <td>0.0</td>\n",
       "      <td>1.0</td>\n",
       "      <td>0.0</td>\n",
       "      <td>0.0</td>\n",
       "      <td>0.0</td>\n",
       "      <td>1.0</td>\n",
       "    </tr>\n",
       "    <tr>\n",
       "      <th>26016</th>\n",
       "      <td>2015</td>\n",
       "      <td>2018</td>\n",
       "      <td>1.444453</td>\n",
       "      <td>0.0</td>\n",
       "      <td>0.0</td>\n",
       "      <td>0.0</td>\n",
       "      <td>0.0</td>\n",
       "      <td>0.0</td>\n",
       "      <td>0.0</td>\n",
       "      <td>0.0</td>\n",
       "      <td>...</td>\n",
       "      <td>0.0</td>\n",
       "      <td>0.0</td>\n",
       "      <td>0.0</td>\n",
       "      <td>0.0</td>\n",
       "      <td>0.0</td>\n",
       "      <td>1.0</td>\n",
       "      <td>0.0</td>\n",
       "      <td>0.0</td>\n",
       "      <td>0.0</td>\n",
       "      <td>1.0</td>\n",
       "    </tr>\n",
       "    <tr>\n",
       "      <th>26017</th>\n",
       "      <td>2015</td>\n",
       "      <td>2018</td>\n",
       "      <td>1.444453</td>\n",
       "      <td>0.0</td>\n",
       "      <td>0.0</td>\n",
       "      <td>0.0</td>\n",
       "      <td>0.0</td>\n",
       "      <td>0.0</td>\n",
       "      <td>0.0</td>\n",
       "      <td>0.0</td>\n",
       "      <td>...</td>\n",
       "      <td>0.0</td>\n",
       "      <td>0.0</td>\n",
       "      <td>0.0</td>\n",
       "      <td>0.0</td>\n",
       "      <td>0.0</td>\n",
       "      <td>1.0</td>\n",
       "      <td>0.0</td>\n",
       "      <td>1.0</td>\n",
       "      <td>0.0</td>\n",
       "      <td>0.0</td>\n",
       "    </tr>\n",
       "    <tr>\n",
       "      <th>26018</th>\n",
       "      <td>2015</td>\n",
       "      <td>2018</td>\n",
       "      <td>1.444453</td>\n",
       "      <td>0.0</td>\n",
       "      <td>0.0</td>\n",
       "      <td>0.0</td>\n",
       "      <td>0.0</td>\n",
       "      <td>0.0</td>\n",
       "      <td>0.0</td>\n",
       "      <td>0.0</td>\n",
       "      <td>...</td>\n",
       "      <td>0.0</td>\n",
       "      <td>0.0</td>\n",
       "      <td>0.0</td>\n",
       "      <td>1.0</td>\n",
       "      <td>0.0</td>\n",
       "      <td>1.0</td>\n",
       "      <td>0.0</td>\n",
       "      <td>0.0</td>\n",
       "      <td>0.0</td>\n",
       "      <td>1.0</td>\n",
       "    </tr>\n",
       "    <tr>\n",
       "      <th>26019</th>\n",
       "      <td>2015</td>\n",
       "      <td>2018</td>\n",
       "      <td>1.444453</td>\n",
       "      <td>0.0</td>\n",
       "      <td>0.0</td>\n",
       "      <td>0.0</td>\n",
       "      <td>0.0</td>\n",
       "      <td>0.0</td>\n",
       "      <td>0.0</td>\n",
       "      <td>0.0</td>\n",
       "      <td>...</td>\n",
       "      <td>0.0</td>\n",
       "      <td>1.0</td>\n",
       "      <td>1.0</td>\n",
       "      <td>1.0</td>\n",
       "      <td>0.0</td>\n",
       "      <td>0.0</td>\n",
       "      <td>1.0</td>\n",
       "      <td>0.0</td>\n",
       "      <td>0.0</td>\n",
       "      <td>1.0</td>\n",
       "    </tr>\n",
       "  </tbody>\n",
       "</table>\n",
       "<p>26020 rows × 99 columns</p>\n",
       "</div>"
      ],
      "text/plain": [
       "       Fiscal Year Released  Recidivism Reporting Year  scaled_year_released  \\\n",
       "0                      2010                       2013             -1.565789   \n",
       "1                      2010                       2013             -1.565789   \n",
       "2                      2010                       2013             -1.565789   \n",
       "3                      2010                       2013             -1.565789   \n",
       "4                      2010                       2013             -1.565789   \n",
       "...                     ...                        ...                   ...   \n",
       "26015                  2015                       2018              1.444453   \n",
       "26016                  2015                       2018              1.444453   \n",
       "26017                  2015                       2018              1.444453   \n",
       "26018                  2015                       2018              1.444453   \n",
       "26019                  2015                       2018              1.444453   \n",
       "\n",
       "       Race - Ethnicity_American Indian or Alaska Native - Hispanic  \\\n",
       "0                                                    0.0              \n",
       "1                                                    0.0              \n",
       "2                                                    0.0              \n",
       "3                                                    0.0              \n",
       "4                                                    0.0              \n",
       "...                                                  ...              \n",
       "26015                                                0.0              \n",
       "26016                                                0.0              \n",
       "26017                                                0.0              \n",
       "26018                                                0.0              \n",
       "26019                                                0.0              \n",
       "\n",
       "       Race - Ethnicity_American Indian or Alaska Native - Non-Hispanic  \\\n",
       "0                                                    0.0                  \n",
       "1                                                    0.0                  \n",
       "2                                                    0.0                  \n",
       "3                                                    0.0                  \n",
       "4                                                    0.0                  \n",
       "...                                                  ...                  \n",
       "26015                                                0.0                  \n",
       "26016                                                0.0                  \n",
       "26017                                                0.0                  \n",
       "26018                                                0.0                  \n",
       "26019                                                0.0                  \n",
       "\n",
       "       Race - Ethnicity_Asian or Pacific Islander - Hispanic  \\\n",
       "0                                                    0.0       \n",
       "1                                                    0.0       \n",
       "2                                                    0.0       \n",
       "3                                                    0.0       \n",
       "4                                                    0.0       \n",
       "...                                                  ...       \n",
       "26015                                                0.0       \n",
       "26016                                                0.0       \n",
       "26017                                                0.0       \n",
       "26018                                                0.0       \n",
       "26019                                                0.0       \n",
       "\n",
       "       Race - Ethnicity_Asian or Pacific Islander - Non-Hispanic  \\\n",
       "0                                                    0.0           \n",
       "1                                                    0.0           \n",
       "2                                                    0.0           \n",
       "3                                                    0.0           \n",
       "4                                                    0.0           \n",
       "...                                                  ...           \n",
       "26015                                                0.0           \n",
       "26016                                                0.0           \n",
       "26017                                                0.0           \n",
       "26018                                                0.0           \n",
       "26019                                                0.0           \n",
       "\n",
       "       Race - Ethnicity_Black -  Race - Ethnicity_Black - Hispanic  \\\n",
       "0                           0.0                                0.0   \n",
       "1                           0.0                                0.0   \n",
       "2                           0.0                                0.0   \n",
       "3                           0.0                                0.0   \n",
       "4                           0.0                                0.0   \n",
       "...                         ...                                ...   \n",
       "26015                       0.0                                0.0   \n",
       "26016                       0.0                                0.0   \n",
       "26017                       0.0                                0.0   \n",
       "26018                       0.0                                0.0   \n",
       "26019                       0.0                                0.0   \n",
       "\n",
       "       Race - Ethnicity_Black - Non-Hispanic  ...  \\\n",
       "0                                        1.0  ...   \n",
       "1                                        0.0  ...   \n",
       "2                                        0.0  ...   \n",
       "3                                        0.0  ...   \n",
       "4                                        1.0  ...   \n",
       "...                                      ...  ...   \n",
       "26015                                    0.0  ...   \n",
       "26016                                    0.0  ...   \n",
       "26017                                    0.0  ...   \n",
       "26018                                    0.0  ...   \n",
       "26019                                    0.0  ...   \n",
       "\n",
       "       Main Supervising District_Interstate Compact  \\\n",
       "0                                               0.0   \n",
       "1                                               0.0   \n",
       "2                                               0.0   \n",
       "3                                               0.0   \n",
       "4                                               0.0   \n",
       "...                                             ...   \n",
       "26015                                           0.0   \n",
       "26016                                           0.0   \n",
       "26017                                           0.0   \n",
       "26018                                           0.0   \n",
       "26019                                           0.0   \n",
       "\n",
       "       Main Supervising District_MISSING  Recidivism - Return to Prison_Yes  \\\n",
       "0                                    0.0                                1.0   \n",
       "1                                    1.0                                1.0   \n",
       "2                                    0.0                                1.0   \n",
       "3                                    0.0                                0.0   \n",
       "4                                    1.0                                1.0   \n",
       "...                                  ...                                ...   \n",
       "26015                                1.0                                0.0   \n",
       "26016                                0.0                                0.0   \n",
       "26017                                0.0                                0.0   \n",
       "26018                                0.0                                0.0   \n",
       "26019                                1.0                                1.0   \n",
       "\n",
       "       Part of Target Population_Yes  Recidivism Type_New  \\\n",
       "0                                1.0                  1.0   \n",
       "1                                0.0                  0.0   \n",
       "2                                1.0                  0.0   \n",
       "3                                1.0                  0.0   \n",
       "4                                0.0                  0.0   \n",
       "...                              ...                  ...   \n",
       "26015                            1.0                  0.0   \n",
       "26016                            0.0                  0.0   \n",
       "26017                            0.0                  0.0   \n",
       "26018                            1.0                  0.0   \n",
       "26019                            1.0                  0.0   \n",
       "\n",
       "       Recidivism Type_No Recidivism  Recidivism Type_Tech  Sex_Female  \\\n",
       "0                                0.0                   0.0         0.0   \n",
       "1                                0.0                   1.0         0.0   \n",
       "2                                0.0                   1.0         0.0   \n",
       "3                                1.0                   0.0         0.0   \n",
       "4                                0.0                   1.0         0.0   \n",
       "...                              ...                   ...         ...   \n",
       "26015                            1.0                   0.0         0.0   \n",
       "26016                            1.0                   0.0         0.0   \n",
       "26017                            1.0                   0.0         1.0   \n",
       "26018                            1.0                   0.0         0.0   \n",
       "26019                            0.0                   1.0         0.0   \n",
       "\n",
       "       Sex_MISSING  Sex_Male  \n",
       "0              0.0       1.0  \n",
       "1              0.0       1.0  \n",
       "2              0.0       1.0  \n",
       "3              0.0       1.0  \n",
       "4              0.0       1.0  \n",
       "...            ...       ...  \n",
       "26015          0.0       1.0  \n",
       "26016          0.0       1.0  \n",
       "26017          0.0       0.0  \n",
       "26018          0.0       1.0  \n",
       "26019          0.0       1.0  \n",
       "\n",
       "[26020 rows x 99 columns]"
      ]
     },
     "execution_count": 35,
     "metadata": {},
     "output_type": "execute_result"
    }
   ],
   "source": [
    "## Combine back together for df_model\n",
    "df_model = pd.concat([df.drop(columns=cat_cols), df_ohe],axis=1)\n",
    "df_model"
   ]
  },
  {
   "cell_type": "code",
   "execution_count": 36,
   "metadata": {
    "ExecuteTime": {
     "end_time": "2020-09-09T15:46:24.704040Z",
     "start_time": "2020-09-09T15:46:24.670919Z"
    }
   },
   "outputs": [],
   "source": [
    "target = 'Recidivism - Return to Prison_Yes'\n",
    "y = df_model[target].copy()\n",
    "X = df_model.drop(columns=target)"
   ]
  },
  {
   "cell_type": "markdown",
   "metadata": {},
   "source": [
    "# ACTIVITY"
   ]
  },
  {
   "cell_type": "markdown",
   "metadata": {},
   "source": [
    "## Activity Option 1: Construct a Timer Class"
   ]
  },
  {
   "cell_type": "markdown",
   "metadata": {},
   "source": [
    "## "
   ]
  },
  {
   "cell_type": "code",
   "execution_count": 37,
   "metadata": {
    "ExecuteTime": {
     "end_time": "2020-09-09T15:14:07.310079Z",
     "start_time": "2020-09-09T15:14:07.307582Z"
    }
   },
   "outputs": [
    {
     "name": "stdout",
     "output_type": "stream",
     "text": [
      "0:00:01.201253\n"
     ]
    }
   ],
   "source": [
    "import tzlocal\n",
    "import datetime as dt\n",
    "import time\n",
    "\n",
    "start = dt.datetime.now()\n",
    "time.sleep(1.2)\n",
    "\n",
    "end = dt.datetime.now()\n",
    "elapsed = end -  start\n",
    "print(elapsed)\n"
   ]
  },
  {
   "cell_type": "code",
   "execution_count": 38,
   "metadata": {},
   "outputs": [],
   "source": [
    "import timeit\n",
    "# time.timeit(\"\"\"\"\"\")"
   ]
  },
  {
   "cell_type": "code",
   "execution_count": 39,
   "metadata": {},
   "outputs": [
    {
     "name": "stdout",
     "output_type": "stream",
     "text": [
      "Timer stopped at 09/10/2020 - 02:58:00 PM\n",
      "\tElapsed Time = 0:01:44.792469\n"
     ]
    }
   ],
   "source": [
    "from sklearn.model_selection import train_test_split\n",
    "\n",
    "X_train, X_test,y_train,y_test = train_test_split(X,y)\n",
    "\n",
    "from sklearn.tree import DecisionTreeClassifier\n",
    "from sklearn.ensemble import RandomForestClassifier \n",
    "from sklearn.model_selection import GridSearchCV\n",
    "from sklearn.metrics import accuracy_score\n",
    "import warnings\n",
    "warnings.filterwarnings('ignore')\n",
    "\n",
    "tree = RandomForestClassifier()#DecisionTreeClassifier( )\n",
    "params = {'max_depth':[0,4,6,10,20],\n",
    "#          'min_samples_leaf':[2,4,5,9,20],\n",
    "         'criterion':['entropy','gini']}\n",
    "grid = GridSearchCV(tree,params)\n",
    "\n",
    "\n",
    "grid.fit(X_train, y_train)\n",
    "\n",
    "y_hat_test = grid.predict(X_test)\n",
    "acc = accuracy_score(y_test,y_hat_test)\n",
    "timer.stop(f'- Training complete. Accuracy = {acc}')"
   ]
  },
  {
   "cell_type": "code",
   "execution_count": 40,
   "metadata": {
    "ExecuteTime": {
     "end_time": "2020-09-09T15:14:07.314107Z",
     "start_time": "2020-09-09T15:14:07.311629Z"
    }
   },
   "outputs": [
    {
     "data": {
      "text/plain": [
       "datetime.datetime(2020, 9, 10, 14, 58, 0, 786515)"
      ]
     },
     "execution_count": 40,
     "metadata": {},
     "output_type": "execute_result"
    }
   ],
   "source": [
    "now = dt.datetime.now()\n",
    "now"
   ]
  },
  {
   "cell_type": "code",
   "execution_count": 41,
   "metadata": {},
   "outputs": [
    {
     "data": {
      "text/plain": [
       "'09/10/2020 - 02:58:00 PM'"
      ]
     },
     "execution_count": 41,
     "metadata": {},
     "output_type": "execute_result"
    }
   ],
   "source": [
    "now.strftime('%m/%d/%Y - %I:%M:%S %p')"
   ]
  },
  {
   "cell_type": "code",
   "execution_count": 42,
   "metadata": {},
   "outputs": [],
   "source": [
    "# !pip install -U fsds\n",
    "from fsds.imports import *"
   ]
  },
  {
   "cell_type": "code",
   "execution_count": 43,
   "metadata": {},
   "outputs": [],
   "source": [
    "# help(fs.jmi)"
   ]
  },
  {
   "cell_type": "code",
   "execution_count": 44,
   "metadata": {
    "ExecuteTime": {
     "end_time": "2020-09-09T15:47:37.716319Z",
     "start_time": "2020-09-09T15:47:37.708868Z"
    }
   },
   "outputs": [],
   "source": [
    "import tzlocal\n",
    "import datetime as dt\n",
    "\n",
    "class OldTimer:\n",
    "    \n",
    "    def __init__(self,fmt='%m/%d/%Y - %I:%M:%S %p'):\n",
    "#         import tzlocal\n",
    "#         import datetime as dt\n",
    "        \n",
    "        self.fmt = fmt\n",
    "        self.tz = tzlocal.get_localzone()\n",
    "\n",
    "        \n",
    "    def _get_time(self):\n",
    "        import datetime as dt\n",
    "        return dt.datetime.now(self.tz)\n",
    "        \n",
    "        \n",
    "    def start(self,label=''):\n",
    "        self._start = self._get_time()\n",
    "        print(f\"Timer started at {self._start.strftime(self.fmt)}\")\n",
    "    \n",
    "    def stop(self,label=''):\n",
    "        self._stop = self._get_time()\n",
    "        print(f\"Timer stopped at {self._stop.strftime(self.fmt)}\")\n",
    "        print(f'\\tElapsed Time = {self._stop-self._start}')\n",
    "        \n"
   ]
  },
  {
   "cell_type": "code",
   "execution_count": 123,
   "metadata": {},
   "outputs": [
    {
     "data": {
      "text/plain": [
       "datetime.datetime(2020, 9, 10, 15, 17, 47, 696108)"
      ]
     },
     "execution_count": 123,
     "metadata": {},
     "output_type": "execute_result"
    }
   ],
   "source": [
    "dtt = dt.datetime.now()\n",
    "dtt.strftime"
   ]
  },
  {
   "cell_type": "markdown",
   "metadata": {},
   "source": [
    "# GROUP C"
   ]
  },
  {
   "cell_type": "code",
   "execution_count": null,
   "metadata": {},
   "outputs": [],
   "source": [
    "import tzlocal\n",
    "import datetime as dt\n",
    "\n",
    "class Timer:\n",
    "    \n",
    "    def __init__(self,fmt='%m/%d/%Y - %I:%M:%S %p', start=True,\n",
    "                label=''):\n",
    "        self.fmt = fmt\n",
    "        self.tz = tzlocal.get_localzone()\n",
    "        self._summary = []\n",
    "        \n",
    "        if start:\n",
    "            self.start(label=label)\n",
    "        \n",
    "    def _get_time(self):\n",
    "        import datetime as dt\n",
    "        return dt.datetime.now(self.tz)\n",
    "    \n",
    "    def _print_append(self,msg):\n",
    "        self._summary.append(msg)\n",
    "        print(msg)\n",
    "        \n",
    "    def start(self,label=''):\n",
    "        self._start = self._get_time()\n",
    "        self._print_append(f\"Timer started at {self._start.strftime(self.fmt)}\")\n",
    "    \n",
    "        if len(label) >0:\n",
    "            self._print_append(f'\\t- Process being timed: {label}\\n')\n",
    "            \n",
    "    \n",
    "    def stop(self,label=''):\n",
    "        \n",
    "        self._stop = self._get_time()\n",
    "        \n",
    "        self._print_append(f\"Timer stopped at {self._stop.strftime(self.fmt)}\")\n",
    "        self._print_append(f'\\tElapsed Time = {self._stop-self._start}')\n",
    "        if len(label) >0:\n",
    "            self._print_append(f'\\tResults:\\t{label}')\n",
    "            \n",
    "    def __repr__(self):\n",
    "        return '\\n'.join(self._summary)\n",
    "    \n",
    "    def __str__(self):\n",
    "        return self.__repr__()\n",
    "    \n",
    "    \n",
    "    def __call__(self):\n",
    "        time = self._get_time()\n",
    "        return time.strftime(self.fmt)"
   ]
  },
  {
   "cell_type": "code",
   "execution_count": 125,
   "metadata": {
    "ExecuteTime": {
     "end_time": "2020-09-09T15:47:38.233087Z",
     "start_time": "2020-09-09T15:47:38.106279Z"
    }
   },
   "outputs": [
    {
     "name": "stdout",
     "output_type": "stream",
     "text": [
      "Timer started at 09/10/2020 - 03:18:19 PM\n",
      "\t- Process being timed: Testing our class\n",
      "\n"
     ]
    }
   ],
   "source": [
    "timer1 = Timer(label='Testing our class')\n"
   ]
  },
  {
   "cell_type": "code",
   "execution_count": 126,
   "metadata": {},
   "outputs": [
    {
     "name": "stdout",
     "output_type": "stream",
     "text": [
      "Timer stopped at 09/10/2020 - 03:18:20 PM\n",
      "\tElapsed Time = 0:00:00.405833\n",
      "\tResults:\tTest completed\n"
     ]
    }
   ],
   "source": [
    "timer1.stop('Test completed')"
   ]
  },
  {
   "cell_type": "code",
   "execution_count": 127,
   "metadata": {},
   "outputs": [
    {
     "data": {
      "text/plain": [
       "Timer started at 09/10/2020 - 03:18:19 PM\n",
       "\t- Process being timed: Testing our class\n",
       "\n",
       "Timer stopped at 09/10/2020 - 03:18:20 PM\n",
       "\tElapsed Time = 0:00:00.405833\n",
       "\tResults:\tTest completed"
      ]
     },
     "execution_count": 127,
     "metadata": {},
     "output_type": "execute_result"
    }
   ],
   "source": [
    "timer1"
   ]
  },
  {
   "cell_type": "code",
   "execution_count": 130,
   "metadata": {},
   "outputs": [
    {
     "data": {
      "text/plain": [
       "'09/10/2020 - 03:18:32 PM'"
      ]
     },
     "execution_count": 130,
     "metadata": {},
     "output_type": "execute_result"
    }
   ],
   "source": [
    "timer1()"
   ]
  },
  {
   "cell_type": "code",
   "execution_count": 116,
   "metadata": {},
   "outputs": [
    {
     "name": "stdout",
     "output_type": "stream",
     "text": [
      "Timer started at 09/10/2020 - 03:16:47 PM\n",
      "\t- Process being timed: Testing our class\n",
      "\n",
      "Timer stopped at 09/10/2020 - 03:16:48 PM\n",
      "\tElapsed Time = 0:00:00.569273\n",
      "\tResults:\tTest completed\n"
     ]
    }
   ],
   "source": [
    "print(timer1)"
   ]
  },
  {
   "cell_type": "code",
   "execution_count": 46,
   "metadata": {},
   "outputs": [
    {
     "data": {
      "text/plain": [
       "datetime.datetime(2020, 9, 10, 14, 58, 0, 835149, tzinfo=<DstTzInfo 'America/New_York' EDT-1 day, 20:00:00 DST>)"
      ]
     },
     "execution_count": 46,
     "metadata": {},
     "output_type": "execute_result"
    }
   ],
   "source": [
    "timer._get_time()"
   ]
  },
  {
   "cell_type": "code",
   "execution_count": 47,
   "metadata": {
    "ExecuteTime": {
     "end_time": "2020-09-09T15:47:38.426223Z",
     "start_time": "2020-09-09T15:47:38.423622Z"
    }
   },
   "outputs": [
    {
     "name": "stdout",
     "output_type": "stream",
     "text": [
      "Timer started at 09/10/2020 - 02:58:00 PM\n"
     ]
    }
   ],
   "source": [
    "# dir(timer)\n",
    "timer.start()"
   ]
  },
  {
   "cell_type": "code",
   "execution_count": 48,
   "metadata": {},
   "outputs": [
    {
     "data": {
      "text/plain": [
       "datetime.datetime(2020, 9, 10, 14, 58, 0, 841020, tzinfo=<DstTzInfo 'America/New_York' EDT-1 day, 20:00:00 DST>)"
      ]
     },
     "execution_count": 48,
     "metadata": {},
     "output_type": "execute_result"
    }
   ],
   "source": [
    "timer._start"
   ]
  },
  {
   "cell_type": "code",
   "execution_count": 49,
   "metadata": {
    "ExecuteTime": {
     "end_time": "2020-09-09T15:47:38.725876Z",
     "start_time": "2020-09-09T15:47:38.723301Z"
    }
   },
   "outputs": [
    {
     "name": "stdout",
     "output_type": "stream",
     "text": [
      "Timer stopped at 09/10/2020 - 02:58:00 PM\n",
      "\tElapsed Time = 0:00:00.010385\n"
     ]
    }
   ],
   "source": [
    "timer.stop()#@'Testing this other thing')"
   ]
  },
  {
   "cell_type": "code",
   "execution_count": 50,
   "metadata": {},
   "outputs": [
    {
     "data": {
      "text/plain": [
       "<__main__.Timer at 0x7fa2153a9208>"
      ]
     },
     "execution_count": 50,
     "metadata": {},
     "output_type": "execute_result"
    }
   ],
   "source": [
    "timer"
   ]
  },
  {
   "cell_type": "markdown",
   "metadata": {
    "ExecuteTime": {
     "end_time": "2020-08-12T22:54:45.944849Z",
     "start_time": "2020-08-12T22:54:45.942801Z"
    }
   },
   "source": [
    "### Running the Model with the Timer"
   ]
  },
  {
   "cell_type": "code",
   "execution_count": 51,
   "metadata": {
    "ExecuteTime": {
     "end_time": "2020-09-09T15:47:39.915591Z",
     "start_time": "2020-09-09T15:47:39.913465Z"
    }
   },
   "outputs": [
    {
     "name": "stdout",
     "output_type": "stream",
     "text": [
      "Timer started at 09/10/2020 - 02:58:00 PM\n",
      "Timer stopped at 09/10/2020 - 02:58:15 PM\n",
      "\tElapsed Time = 0:00:14.237844\n"
     ]
    }
   ],
   "source": [
    "from sklearn.model_selection import train_test_split\n",
    "\n",
    "\n",
    "X_train, X_test,y_train,y_test = train_test_split(X,y)\n",
    "\n",
    "from sklearn.tree import DecisionTreeClassifier\n",
    "from sklearn.ensemble import RandomForestClassifier \n",
    "from sklearn.model_selection import GridSearchCV\n",
    "from sklearn.metrics import accuracy_score\n",
    "import warnings\n",
    "warnings.filterwarnings('ignore')\n",
    "\n",
    "\n",
    "tree = RandomForestClassifier()#DecisionTreeClassifier( )\n",
    "params = {'max_depth':[0,4,6,10,20]}#,\n",
    "#          'min_samples_leaf':[2,4,5,9,20],\n",
    "#          'criterion':['entropy','gini']}\n",
    "grid = GridSearchCV(tree,params)\n",
    "\n",
    "\n",
    "\n",
    "timer =Timer()#start=True,label='Training Decision Tree Classifier')\n",
    "timer.start()\n",
    "\n",
    "grid.fit(X_train, y_train)\n",
    "\n",
    "y_hat_test = grid.predict(X_test)\n",
    "acc = accuracy_score(y_test,y_hat_test)\n",
    "\n",
    "timer.stop()#f'- Training complete. Accuracy = {acc}')\n",
    "acc"
   ]
  },
  {
   "cell_type": "code",
   "execution_count": 53,
   "metadata": {},
   "outputs": [
    {
     "data": {
      "text/plain": [
       "<__main__.Timer at 0x7fa210537550>"
      ]
     },
     "execution_count": 53,
     "metadata": {},
     "output_type": "execute_result"
    }
   ],
   "source": [
    "timer"
   ]
  },
  {
   "cell_type": "code",
   "execution_count": 52,
   "metadata": {},
   "outputs": [
    {
     "data": {
      "text/plain": [
       "{'max_depth': 4}"
      ]
     },
     "execution_count": 52,
     "metadata": {},
     "output_type": "execute_result"
    }
   ],
   "source": [
    "grid.best_params_"
   ]
  },
  {
   "cell_type": "markdown",
   "metadata": {},
   "source": [
    "# APPENDIX"
   ]
  },
  {
   "cell_type": "markdown",
   "metadata": {},
   "source": [
    "## Decorators with Classes\n",
    "#### Some special decorators used in classes.\n",
    "\n",
    "1. `@staticmethod`:\n",
    "    - Defines a method that does not get passed `self` when its called and can act on external code as if it was a function, not a \"`bound method`\"\n",
    "2. `@classmethod`:\n",
    "    - Specifies a method that should always refer to the default method spelled out in the class definition, NOT the version of it that is stored inside the **instance** of a method.\n",
    "3. `@property`: (see example class `EncryptedPassword` below.)\n",
    "    - Specifies that a function is going to determine the value of the `class.property`:\n",
    "    - Essentially replaces the property name with a getter function to determine that value.\n",
    "    - Use '@property.setter' above another function to define it as the setter function. "
   ]
  },
  {
   "cell_type": "markdown",
   "metadata": {},
   "source": [
    "### Vocab (completed)"
   ]
  },
  {
   "cell_type": "markdown",
   "metadata": {},
   "source": [
    "- \"Object\" is an instance of a template class that currently exists in memory\n",
    "- \"Calling\" a function: \n",
    "    - When we use `( )` with a function we are calling it.\n",
    "\n",
    "- **Function:**  Codes that maniuplates data in a useful way. \n",
    "\n",
    "- Parameters: the defined data/varaibles that are passed accepted by a function\n",
    "- Argument: the actual variable/value passed in for a parameter\n",
    "- Positional Argument:\n",
    "    - The first arguments required\n",
    "    - their id is determined by their order\n",
    "- Keyword/default Arguments:\n",
    "    - arugments that have a defined default value\n",
    "    - must come after positional arguments\n",
    "\n",
    "<br><br>\n",
    "- **Class:** Template/blue print.\n",
    "- Instance: Ab object built from the class blueprint\n",
    "- Attribute: A variable stored inside an object. \n",
    "- Method: Functions are stored inside an object.\n",
    "    - Objects always pass themselves into a method, so we used `self` to account for this.\n",
    "- Private Attributes/Methods: they start with _ and are hidden from the user. They can be updated using getting and setting functions.\n",
    "- Getters/Setters:\n",
    "    - Methods for retreiving or changing private attributes\n",
    "\n",
    "- Object: \n",
    "\n",
    "- \"dunders\" = double underscores __ "
   ]
  }
 ],
 "metadata": {
  "kernelspec": {
   "display_name": "learn-env",
   "language": "python",
   "name": "learn-env"
  },
  "language_info": {
   "codemirror_mode": {
    "name": "ipython",
    "version": 3
   },
   "file_extension": ".py",
   "mimetype": "text/x-python",
   "name": "python",
   "nbconvert_exporter": "python",
   "pygments_lexer": "ipython3",
   "version": "3.6.11"
  },
  "toc": {
   "base_numbering": 1,
   "nav_menu": {},
   "number_sections": false,
   "sideBar": true,
   "skip_h1_title": false,
   "title_cell": "Table of Contents",
   "title_sidebar": "Contents",
   "toc_cell": false,
   "toc_position": {
    "height": "calc(100% - 180px)",
    "left": "10px",
    "top": "150px",
    "width": "255.98px"
   },
   "toc_section_display": true,
   "toc_window_display": true
  }
 },
 "nbformat": 4,
 "nbformat_minor": 2
}
